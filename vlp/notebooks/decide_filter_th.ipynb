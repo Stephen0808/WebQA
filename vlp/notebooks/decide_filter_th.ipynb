{
 "cells": [
  {
   "cell_type": "code",
   "execution_count": 1,
   "metadata": {},
   "outputs": [],
   "source": [
    "import numpy as np\n",
    "import json, random, os, copy, time\n",
    "from pprint import pprint\n",
    "from collections import Counter, defaultdict\n",
    "from nltk.corpus import stopwords"
   ]
  },
  {
   "cell_type": "code",
   "execution_count": 9,
   "metadata": {},
   "outputs": [],
   "source": [
    "def read_filter_scores(output_dir, filename):\n",
    "    f = open(os.path.join(output_dir, filename), \"r\")\n",
    "    lines = f.readlines()\n",
    "    f.close()\n",
    "    \n",
    "    while not \"th = \" in lines[0]:\n",
    "        lines.pop(0)\n",
    "    \n",
    "    i = 0\n",
    "    result = {'PR':{}, 'RE':{}, 'F1':{}}\n",
    "    th = 0\n",
    "    for l in lines:\n",
    "        if i%5 == 0:\n",
    "            th = float(l.strip().split()[-1])\n",
    "        elif i%5 == 1:\n",
    "            result['PR'][str(th)] = float(l.strip().split()[-1])\n",
    "            #pr_list.append(float(l.strip().split()[-1]))\n",
    "        elif i%5 == 2:\n",
    "            result['RE'][str(th)] = float(l.strip().split()[-1])\n",
    "            #re_list.append(float(l.strip().split()[-1]))\n",
    "        elif i%5 == 3:\n",
    "            result['F1'][str(th)] = float(l.strip().split()[-1])\n",
    "            #f1_list.append(float(l.strip().split()[-1]))\n",
    "        i += 1\n",
    "    return result"
   ]
  },
  {
   "cell_type": "code",
   "execution_count": 19,
   "metadata": {},
   "outputs": [],
   "source": [
    "output_dir = \"/home/yingshac/CYS/WebQnA/VLP/vlp/light_output/filter_both_x_detectron/\"\n",
    "filename = \"val_-1_step4_txt_16_True_txt_dataset_0823_clean_te_UNknown_modality.txt\"\n",
    "result_txt = read_filter_scores(output_dir, filename)\n",
    "output_dir = \"/home/yingshac/CYS/WebQnA/VLP/vlp/light_output/filter_both_x_detectron/\"\n",
    "filename = \"val_-1_step4_img_16_True_True_img_dataset_0823_clean_te_UNknown_modality.txt\"\n",
    "result_img = read_filter_scores(output_dir, filename)"
   ]
  },
  {
   "cell_type": "code",
   "execution_count": 20,
   "metadata": {},
   "outputs": [
    {
     "name": "stdout",
     "output_type": "stream",
     "text": [
      "{'F1': {'0.05': 0.6334,\n",
      "        '0.1': 0.6769,\n",
      "        '0.15': 0.6932,\n",
      "        '0.2': 0.6973,\n",
      "        '0.25': 0.6993,\n",
      "        '0.3': 0.6928,\n",
      "        '0.35': 0.6863,\n",
      "        '0.4': 0.6792,\n",
      "        '0.45': 0.6716,\n",
      "        '0.5': 0.6613,\n",
      "        '0.55': 0.6493,\n",
      "        '0.6': 0.6332,\n",
      "        '0.65': 0.6149,\n",
      "        '0.7': 0.5965,\n",
      "        '0.75': 0.5683,\n",
      "        '0.8': 0.5356,\n",
      "        '0.85': 0.4878,\n",
      "        '0.9': 0.4176,\n",
      "        '0.95': 0.2694},\n",
      " 'PR': {'0.05': 0.5361,\n",
      "        '0.1': 0.6064,\n",
      "        '0.15': 0.6419,\n",
      "        '0.2': 0.6622,\n",
      "        '0.25': 0.678,\n",
      "        '0.3': 0.6838,\n",
      "        '0.35': 0.6872,\n",
      "        '0.4': 0.6886,\n",
      "        '0.45': 0.691,\n",
      "        '0.5': 0.689,\n",
      "        '0.55': 0.6868,\n",
      "        '0.6': 0.6792,\n",
      "        '0.65': 0.6685,\n",
      "        '0.7': 0.6587,\n",
      "        '0.75': 0.6409,\n",
      "        '0.8': 0.6149,\n",
      "        '0.85': 0.5726,\n",
      "        '0.9': 0.5039,\n",
      "        '0.95': 0.3406},\n",
      " 'RE': {'0.05': 0.9098,\n",
      "        '0.1': 0.8753,\n",
      "        '0.15': 0.8477,\n",
      "        '0.2': 0.8221,\n",
      "        '0.25': 0.8011,\n",
      "        '0.3': 0.7754,\n",
      "        '0.35': 0.7537,\n",
      "        '0.4': 0.7344,\n",
      "        '0.45': 0.7133,\n",
      "        '0.5': 0.6925,\n",
      "        '0.55': 0.6692,\n",
      "        '0.6': 0.644,\n",
      "        '0.65': 0.6171,\n",
      "        '0.7': 0.5891,\n",
      "        '0.75': 0.5509,\n",
      "        '0.8': 0.5108,\n",
      "        '0.85': 0.4553,\n",
      "        '0.9': 0.3803,\n",
      "        '0.95': 0.2355}}\n"
     ]
    }
   ],
   "source": [
    "result_both = {'PR':{}, 'RE':{}, 'F1':{}}\n",
    "for m in ['PR', 'RE', 'F1']:\n",
    "    assert len(result_txt[m]) == len(result_img[m])\n",
    "    for th in result_txt[m]:\n",
    "        result_both[m][th] = round((result_img[m][th] * 3464 + result_txt[m][th] * 4076) / (3464+4076), 4)\n",
    "pprint(result_both)"
   ]
  },
  {
   "cell_type": "code",
   "execution_count": null,
   "metadata": {},
   "outputs": [],
   "source": []
  }
 ],
 "metadata": {
  "kernelspec": {
   "display_name": "py37",
   "language": "python",
   "name": "py37"
  },
  "language_info": {
   "codemirror_mode": {
    "name": "ipython",
    "version": 3
   },
   "file_extension": ".py",
   "mimetype": "text/x-python",
   "name": "python",
   "nbconvert_exporter": "python",
   "pygments_lexer": "ipython3",
   "version": "3.7.9"
  }
 },
 "nbformat": 4,
 "nbformat_minor": 4
}
