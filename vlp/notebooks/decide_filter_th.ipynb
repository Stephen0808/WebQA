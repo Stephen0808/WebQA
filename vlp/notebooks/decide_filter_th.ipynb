{
 "cells": [
  {
   "cell_type": "code",
   "execution_count": 1,
   "metadata": {},
   "outputs": [],
   "source": [
    "import numpy as np\n",
    "import json, random, os, copy, time\n",
    "from pprint import pprint\n",
    "from collections import Counter, defaultdict\n",
    "from nltk.corpus import stopwords"
   ]
  },
  {
   "cell_type": "code",
   "execution_count": 2,
   "metadata": {},
   "outputs": [],
   "source": [
    "def read_filter_scores(output_dir, filename):\n",
    "    f = open(os.path.join(output_dir, filename), \"r\")\n",
    "    lines = f.readlines()\n",
    "    f.close()\n",
    "    \n",
    "    while not \"th = \" in lines[0]:\n",
    "        lines.pop(0)\n",
    "    \n",
    "    i = 0\n",
    "    result = {'PR':{}, 'RE':{}, 'F1':{}}\n",
    "    th = 0\n",
    "    for l in lines:\n",
    "        if i%5 == 0:\n",
    "            th = float(l.strip().split()[-1])\n",
    "        elif i%5 == 1:\n",
    "            result['PR'][str(th)] = float(l.strip().split()[-1])\n",
    "            #pr_list.append(float(l.strip().split()[-1]))\n",
    "        elif i%5 == 2:\n",
    "            result['RE'][str(th)] = float(l.strip().split()[-1])\n",
    "            #re_list.append(float(l.strip().split()[-1]))\n",
    "        elif i%5 == 3:\n",
    "            result['F1'][str(th)] = float(l.strip().split()[-1])\n",
    "            #f1_list.append(float(l.strip().split()[-1]))\n",
    "        i += 1\n",
    "    return result"
   ]
  },
  {
   "cell_type": "code",
   "execution_count": 3,
   "metadata": {},
   "outputs": [],
   "source": [
    "output_dir = \"/home/yingshac/CYS/WebQnA/VLP/vlp/light_output/filter_both_x_detectron_upd/\"\n",
    "filename = \"val_-1_step3_txt_16_True_txt_dataset_0903_neg_ranked16_UNknown_modality.txt\"\n",
    "result_txt = read_filter_scores(output_dir, filename)\n",
    "output_dir = \"/home/yingshac/CYS/WebQnA/VLP/vlp/light_output/filter_both_x_detectron_upd/\"\n",
    "filename = \"val_-1_step3_img_16_True_True_img_dataset_0903_neg_ranked16_UNknown_modality.txt\"\n",
    "result_img = read_filter_scores(output_dir, filename)"
   ]
  },
  {
   "cell_type": "code",
   "execution_count": 4,
   "metadata": {},
   "outputs": [
    {
     "name": "stdout",
     "output_type": "stream",
     "text": [
      "{'F1': {'0.05': 0.6313,\n",
      "        '0.1': 0.6738,\n",
      "        '0.15': 0.6877,\n",
      "        '0.2': 0.6913,\n",
      "        '0.25': 0.6875,\n",
      "        '0.3': 0.6804,\n",
      "        '0.35': 0.6714,\n",
      "        '0.4': 0.6602,\n",
      "        '0.45': 0.6463,\n",
      "        '0.5': 0.6269,\n",
      "        '0.55': 0.606,\n",
      "        '0.6': 0.5844,\n",
      "        '0.65': 0.5541,\n",
      "        '0.7': 0.5216,\n",
      "        '0.75': 0.4796,\n",
      "        '0.8': 0.4249,\n",
      "        '0.85': 0.3534,\n",
      "        '0.9': 0.2443,\n",
      "        '0.95': 0.0768},\n",
      " 'PR': {'0.05': 0.5351,\n",
      "        '0.1': 0.6081,\n",
      "        '0.15': 0.6447,\n",
      "        '0.2': 0.6667,\n",
      "        '0.25': 0.6791,\n",
      "        '0.3': 0.6849,\n",
      "        '0.35': 0.6901,\n",
      "        '0.4': 0.6893,\n",
      "        '0.45': 0.6871,\n",
      "        '0.5': 0.6767,\n",
      "        '0.55': 0.6637,\n",
      "        '0.6': 0.6499,\n",
      "        '0.65': 0.6267,\n",
      "        '0.7': 0.6027,\n",
      "        '0.75': 0.5653,\n",
      "        '0.8': 0.5133,\n",
      "        '0.85': 0.436,\n",
      "        '0.9': 0.3114,\n",
      "        '0.95': 0.0966},\n",
      " 'RE': {'0.05': 0.9124,\n",
      "        '0.1': 0.8685,\n",
      "        '0.15': 0.8342,\n",
      "        '0.2': 0.804,\n",
      "        '0.25': 0.7738,\n",
      "        '0.3': 0.7463,\n",
      "        '0.35': 0.7188,\n",
      "        '0.4': 0.6933,\n",
      "        '0.45': 0.6649,\n",
      "        '0.5': 0.6343,\n",
      "        '0.55': 0.6042,\n",
      "        '0.6': 0.5742,\n",
      "        '0.65': 0.5361,\n",
      "        '0.7': 0.4948,\n",
      "        '0.75': 0.4463,\n",
      "        '0.8': 0.3877,\n",
      "        '0.85': 0.3159,\n",
      "        '0.9': 0.2122,\n",
      "        '0.95': 0.0672}}\n"
     ]
    }
   ],
   "source": [
    "result_both = {'PR':{}, 'RE':{}, 'F1':{}}\n",
    "for m in ['PR', 'RE', 'F1']:\n",
    "    assert len(result_txt[m]) == len(result_img[m])\n",
    "    for th in result_txt[m]:\n",
    "        result_both[m][th] = round((result_img[m][th] * 3464 + result_txt[m][th] * 4076) / (3464+4076), 4)\n",
    "pprint(result_both)\n",
    "\n",
    "#upd: th=0.2"
   ]
  },
  {
   "cell_type": "code",
   "execution_count": null,
   "metadata": {},
   "outputs": [],
   "source": []
  }
 ],
 "metadata": {
  "kernelspec": {
   "display_name": "py37",
   "language": "python",
   "name": "py37"
  },
  "language_info": {
   "codemirror_mode": {
    "name": "ipython",
    "version": 3
   },
   "file_extension": ".py",
   "mimetype": "text/x-python",
   "name": "python",
   "nbconvert_exporter": "python",
   "pygments_lexer": "ipython3",
   "version": "3.7.9"
  }
 },
 "nbformat": 4,
 "nbformat_minor": 4
}
