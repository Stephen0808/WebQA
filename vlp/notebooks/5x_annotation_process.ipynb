{
 "cells": [
  {
   "cell_type": "code",
   "execution_count": 4,
   "metadata": {},
   "outputs": [],
   "source": [
    "import json, pickle, copy, os, time, random\n",
    "from collections import Counter, defaultdict\n",
    "import numpy as np\n",
    "from pprint import pprint"
   ]
  },
  {
   "cell_type": "code",
   "execution_count": 6,
   "metadata": {},
   "outputs": [
    {
     "name": "stdout",
     "output_type": "stream",
     "text": [
      "Counter({'train': 17812, 'test': 5084, 'val': 2455})\n",
      "25351\n",
      "Counter({'train': 16447, 'ood_test': 3987, 'val': 2511, 'ind_test': 2507})\n",
      "Counter({'YesNo': 8429, 'Others': 6713, 'choose': 5240, 'number': 2339, 'color': 2069, 'shape': 662})\n",
      "25452\n"
     ]
    }
   ],
   "source": [
    "txt_dataset = json.load(open(\"/home/yingshac/CYS/WebQnA/WebQnA_data_new/txt_dataset_0818.json\", \"r\"))\n",
    "img_dataset = json.load(open(\"/home/yingshac/CYS/WebQnA/WebQnA_data_new/img_dataset_0817_neg_ranked.json\", \"r\"))\n",
    "\n",
    "print(Counter([txt_dataset[k]['split'] for k in txt_dataset]))\n",
    "print(len(set([txt_dataset[k]['Guid'] for k in txt_dataset])))\n",
    "\n",
    "print(Counter([img_dataset[k]['split'] for k in img_dataset]))\n",
    "print(Counter([img_dataset[k]['Qcate'] for k in img_dataset]))\n",
    "print(len(set([img_dataset[k]['Guid'] for k in img_dataset])))"
   ]
  },
  {
   "cell_type": "code",
   "execution_count": 2,
   "metadata": {},
   "outputs": [
    {
     "name": "stdout",
     "output_type": "stream",
     "text": [
      "<class 'dict'>\n"
     ]
    }
   ],
   "source": [
    "tmp = json.load(open(\"/home/yingshac/CYS/WebQnA/WebQnA_data_new/TestSet5Answers_0818_from_Mridu.json\", \"r\"))\n",
    "print(type(tmp))"
   ]
  },
  {
   "cell_type": "code",
   "execution_count": 10,
   "metadata": {},
   "outputs": [
    {
     "name": "stdout",
     "output_type": "stream",
     "text": [
      "{'dc4dc3b8d46f11ebba07a504a20e7724', 'dc4f2460d46f11ebba07a504a20e7724'}\n",
      "{'dc4c05a0d46f11ebba07a504a20e7724'}\n"
     ]
    }
   ],
   "source": [
    "a = set([img_dataset[k]['Guid'] for k in img_dataset if img_dataset[k]['split'] in ['ind_test', 'ood_test']])\n",
    "a = a.union(set([txt_dataset[k]['Guid'] for k in txt_dataset if txt_dataset[k]['split'] in ['test']]))\n",
    "print(set(list(tmp.keys())) - a)\n",
    "print(a - set(list(tmp.keys())))"
   ]
  },
  {
   "cell_type": "code",
   "execution_count": 29,
   "metadata": {},
   "outputs": [
    {
     "ename": "TypeError",
     "evalue": "string indices must be integers",
     "output_type": "error",
     "traceback": [
      "\u001b[0;31m---------------------------------------------------------------------------\u001b[0m",
      "\u001b[0;31mTypeError\u001b[0m                                 Traceback (most recent call last)",
      "\u001b[0;32m<ipython-input-29-59c331db2718>\u001b[0m in \u001b[0;36m<module>\u001b[0;34m()\u001b[0m\n\u001b[1;32m     21\u001b[0m \u001b[0;34m\u001b[0m\u001b[0m\n\u001b[1;32m     22\u001b[0m     \u001b[0mannotation_5x\u001b[0m \u001b[0;34m=\u001b[0m \u001b[0mtmp\u001b[0m\u001b[0;34m[\u001b[0m\u001b[0mguid\u001b[0m\u001b[0;34m]\u001b[0m\u001b[0;34m\u001b[0m\u001b[0;34m\u001b[0m\u001b[0m\n\u001b[0;32m---> 23\u001b[0;31m     \u001b[0;32massert\u001b[0m \u001b[0mannotation_5x\u001b[0m\u001b[0;34m[\u001b[0m\u001b[0;34m'Question'\u001b[0m\u001b[0;34m]\u001b[0m \u001b[0;32min\u001b[0m \u001b[0mimg_dataset_0818_add5x\u001b[0m\u001b[0;34m[\u001b[0m\u001b[0mk\u001b[0m\u001b[0;34m]\u001b[0m\u001b[0;34m[\u001b[0m\u001b[0;34m'Q'\u001b[0m\u001b[0;34m]\u001b[0m\u001b[0;34m\u001b[0m\u001b[0;34m\u001b[0m\u001b[0m\n\u001b[0m\u001b[1;32m     24\u001b[0m     \u001b[0;32mif\u001b[0m \u001b[0mannotation_5x\u001b[0m\u001b[0;34m[\u001b[0m\u001b[0;34m'HasIssue'\u001b[0m\u001b[0;34m]\u001b[0m\u001b[0;34m:\u001b[0m\u001b[0;34m\u001b[0m\u001b[0;34m\u001b[0m\u001b[0m\n\u001b[1;32m     25\u001b[0m         \u001b[0mprint\u001b[0m\u001b[0;34m(\u001b[0m\u001b[0;34m\"delete img data k = {}\"\u001b[0m\u001b[0;34m.\u001b[0m\u001b[0mformat\u001b[0m\u001b[0;34m(\u001b[0m\u001b[0mk\u001b[0m\u001b[0;34m)\u001b[0m\u001b[0;34m)\u001b[0m\u001b[0;34m\u001b[0m\u001b[0;34m\u001b[0m\u001b[0m\n",
      "\u001b[0;31mTypeError\u001b[0m: string indices must be integers"
     ]
    }
   ],
   "source": [
    "### Need to modify the split a little bit. Some mismatch\n",
    "move_to_test = ['dc4dc3b8d46f11ebba07a504a20e7724', 'dc4f2460d46f11ebba07a504a20e7724']\n",
    "move_to_train = ['dc4c05a0d46f11ebba07a504a20e7724']\n",
    "img_dataset_0818_add5x = copy.deepcopy(img_dataset)\n",
    "txt_dataset_0818_add5x = copy.deepcopy(txt_dataset)\n",
    "\n",
    "delete_img_count = 0\n",
    "delete_txt_count = 0\n",
    "total_count = 0\n",
    "for k in img_dataset_0818_add5x:\n",
    "    guid = img_dataset_0818_add5x[k]['Guid']\n",
    "    if guid in move_to_test:\n",
    "        print(\"img data k = {} move from {} to test\".format(k, img_dataset_0818_add5x[k]['split']))\n",
    "        img_dataset_0818_add5x[k]['split'] = 'ind_test'\n",
    "    if guid in move_to_train:\n",
    "        print(\"img data k = {} move from {} to train\".format(k, img_dataset_0818_add5x[k]['split']))\n",
    "        img_dataset_0818_add5x[k]['split'] = 'train'\n",
    "    \n",
    "    if not guid in tmp: continue\n",
    "    total_count += 1\n",
    "    \n",
    "    annotation_5x = tmp[guid]\n",
    "    assert annotation_5x['Question'] in img_dataset_0818_add5x[k]['Q']\n",
    "    if annotation_5x['HasIssue']: \n",
    "        print(\"delete img data k = {}\".format(k))\n",
    "        del img_dataset_0818_add5x[k]\n",
    "        delete_img_count += 1\n",
    "        continue\n",
    "    ori_A = img_dataset_0818_add5x[k]['A']\n",
    "    img_dataset_0818_add5x[k]['A'] = [ori_A]\n",
    "    for a in annotation_5x['Answers']:\n",
    "        img_dataset_0818_add5x[k]['A'].append('\"' + a + '\"')\n",
    "\n",
    "for k in txt_dataset_0818_add5x:\n",
    "    guid = txt_dataset_0818_add5x[k]['Guid']\n",
    "    if guid in move_to_test:\n",
    "        print(\"txt data k = {} move from {} to test\".format(k, txt_dataset_0818_add5x[k]['split']))\n",
    "        txt_dataset_0818_add5x[k]['split'] = 'test'\n",
    "    if guid in move_to_train:\n",
    "        print(\"txt data k = {} move from {} to train\".format(k, txt_dataset_0818_add5x[k]['split']))\n",
    "        txt_dataset_0818_add5x[k]['split'] = 'train'\n",
    "    \n",
    "    if not guid in tmp: continue\n",
    "    total_count += 1\n",
    "    \n",
    "    annotation_5x = tmp[guid]\n",
    "    assert annotation_5x['Question'] in txt_dataset_0818_add5x[k]['Q']\n",
    "    if annotation_5x['HasIssue']: \n",
    "        print(\"delete txt data k = {}\".format(k))\n",
    "        del txt_dataset_0818_add5x[k]\n",
    "        delete_txt_count += 1\n",
    "        continue\n",
    "    ori_A = txt_dataset_0818_add5x[k]['A']\n",
    "    txt_dataset_0818_add5x[k]['A'] = [ori_A]\n",
    "    for a in annotation_5x['Answers']:\n",
    "        txt_dataset_0818_add5x[k]['A'].append('\"' + a + '\"')\n",
    "\n",
    "print(\"total_count = \", total_count)\n",
    "print(\"delete_img_count = \", delete_img_count)\n",
    "print(\"delete_txt_count = \", delete_txt_count)\n",
    "print(len(img_dataset_0818_add5x))\n",
    "print(len(txt_dataset_0818_add5x))"
   ]
  },
  {
   "cell_type": "code",
   "execution_count": null,
   "metadata": {},
   "outputs": [],
   "source": [
    "json.dump(img_dataset_0818_add5x, open(\"/home/yingshac/CYS/WebQnA/WebQnA_data_new/img_dataset_0818_add5x.json\", \"w\"), indent=4)\n",
    "json.dump(txt_dataset_0818_add5x, open(\"/home/yingshac/CYS/WebQnA/WebQnA_data_new/txt_dataset_0818_add5x.json\", \"w\"), indent=4)"
   ]
  },
  {
   "cell_type": "code",
   "execution_count": 25,
   "metadata": {},
   "outputs": [
    {
     "name": "stdout",
     "output_type": "stream",
     "text": [
      "17535\n"
     ]
    }
   ],
   "source": [
    "while True:\n",
    "    k = random.choice(list(img_dataset.keys()))\n",
    "    if img_dataset[k]['split'] in ['ind_test', 'ood_test']:\n",
    "        print(k)\n",
    "        break"
   ]
  },
  {
   "cell_type": "code",
   "execution_count": 26,
   "metadata": {},
   "outputs": [
    {
     "name": "stdout",
     "output_type": "stream",
     "text": [
      "dc6b66c0d46f11ebba07a504a20e7724\n",
      "\"Do the Parade room of the Hotel de Chevreuse in the Louvre Museum and the Turkish Cabinet room in the Louvre Museum both employ tapestries as decoration?\"\n",
      "\"No, only the Parade room of the Hotel de Chevreuse uses tapestries.\"\n"
     ]
    }
   ],
   "source": [
    "print(img_dataset['17535']['Guid'])\n",
    "print(img_dataset['17535']['Q'])\n",
    "print(img_dataset['17535']['A'])"
   ]
  },
  {
   "cell_type": "code",
   "execution_count": 27,
   "metadata": {},
   "outputs": [
    {
     "data": {
      "text/plain": [
       "'Question: \"Do the Parade room of the Hotel de Chevreuse in the Louvre Museum and the Turkish Cabinet room in the Louvre Museum both employ tapestries as decoration?\", Answers: [\\'Yes, the Parade room of the Hotel de Chevreuse in the Louvre Museum and the Turkish Cabinet room in the Louvre Museum both employ tapestries as decoration.\\', \\'The Parade room of the Hotel de Chevreuse in the Louvre Museum and the Turkish Cabinet room in the Louvre Museum do not both employ tapestries as decoration.\\', \\'No, although the Parade room of the Hotel de Chevreuse in the Louvre Museum employs tapestries as decoration, the Turkish Cabinet room in the Louvre Museum does not.\\', \\'The Parade room of the Hotel de Chevreuse in the Louvre Museum and the Turkish Cabinet room in the Louvre Museum both employ tapestries as decoration.\\', \\'The Parade room of the Hotel de Chevreuse in the Louvre Museum and the Turkish Cabinet room in the Louvre Museum do both employ tapestries as decoration.\\'], HasIssue: False'"
      ]
     },
     "execution_count": 27,
     "metadata": {},
     "output_type": "execute_result"
    }
   ],
   "source": [
    "tmp['dc6b66c0d46f11ebba07a504a20e7724']"
   ]
  },
  {
   "cell_type": "code",
   "execution_count": 34,
   "metadata": {},
   "outputs": [
    {
     "name": "stdout",
     "output_type": "stream",
     "text": [
      "dc62fd0ad46f11ebba07a504a20e7724\n",
      "Question: \"Are all the feathers on the Dark-rumped Rosefinch of the same general color?\", Answers: ['All of the feathers on the Dark-rumped Rosefinch have the same generally reddish/violet color.', 'Yes, all the feathers on the Dark-rumped Rosefinch are the same color.', 'Yes, all of the feathers on the Dark-rumped Rosefinch are the same color.', 'Yes, all of the feathers on the Dark-rumped Rosefinch are of the same general color.', 'Yes, all the feathers on the Dark-rumped Rosefinch are of the same general color.'], HasIssue: False\n"
     ]
    }
   ],
   "source": [
    "for k in tmp:\n",
    "    print(k)\n",
    "    print(tmp[k])\n",
    "    break"
   ]
  },
  {
   "cell_type": "code",
   "execution_count": 35,
   "metadata": {},
   "outputs": [
    {
     "ename": "JSONDecodeError",
     "evalue": "Expecting property name enclosed in double quotes: line 1 column 2 (char 1)",
     "output_type": "error",
     "traceback": [
      "\u001b[0;31m---------------------------------------------------------------------------\u001b[0m",
      "\u001b[0;31mJSONDecodeError\u001b[0m                           Traceback (most recent call last)",
      "\u001b[0;32m<ipython-input-35-f07aa99e615c>\u001b[0m in \u001b[0;36m<module>\u001b[0;34m()\u001b[0m\n\u001b[0;32m----> 1\u001b[0;31m \u001b[0mtype\u001b[0m\u001b[0;34m(\u001b[0m\u001b[0mjson\u001b[0m\u001b[0;34m.\u001b[0m\u001b[0mloads\u001b[0m\u001b[0;34m(\u001b[0m\u001b[0;34m'{'\u001b[0m\u001b[0;34m+\u001b[0m\u001b[0mtmp\u001b[0m\u001b[0;34m[\u001b[0m\u001b[0;34m'dc62fd0ad46f11ebba07a504a20e7724'\u001b[0m\u001b[0;34m]\u001b[0m\u001b[0;34m+\u001b[0m\u001b[0;34m'}'\u001b[0m\u001b[0;34m)\u001b[0m\u001b[0;34m)\u001b[0m\u001b[0;34m\u001b[0m\u001b[0;34m\u001b[0m\u001b[0m\n\u001b[0m",
      "\u001b[0;32m/home/yingshac/miniconda3/envs/py37/lib/python3.7/json/__init__.py\u001b[0m in \u001b[0;36mloads\u001b[0;34m(s, encoding, cls, object_hook, parse_float, parse_int, parse_constant, object_pairs_hook, **kw)\u001b[0m\n\u001b[1;32m    346\u001b[0m             \u001b[0mparse_int\u001b[0m \u001b[0;32mis\u001b[0m \u001b[0;32mNone\u001b[0m \u001b[0;32mand\u001b[0m \u001b[0mparse_float\u001b[0m \u001b[0;32mis\u001b[0m \u001b[0;32mNone\u001b[0m \u001b[0;32mand\u001b[0m\u001b[0;34m\u001b[0m\u001b[0;34m\u001b[0m\u001b[0m\n\u001b[1;32m    347\u001b[0m             parse_constant is None and object_pairs_hook is None and not kw):\n\u001b[0;32m--> 348\u001b[0;31m         \u001b[0;32mreturn\u001b[0m \u001b[0m_default_decoder\u001b[0m\u001b[0;34m.\u001b[0m\u001b[0mdecode\u001b[0m\u001b[0;34m(\u001b[0m\u001b[0ms\u001b[0m\u001b[0;34m)\u001b[0m\u001b[0;34m\u001b[0m\u001b[0;34m\u001b[0m\u001b[0m\n\u001b[0m\u001b[1;32m    349\u001b[0m     \u001b[0;32mif\u001b[0m \u001b[0mcls\u001b[0m \u001b[0;32mis\u001b[0m \u001b[0;32mNone\u001b[0m\u001b[0;34m:\u001b[0m\u001b[0;34m\u001b[0m\u001b[0;34m\u001b[0m\u001b[0m\n\u001b[1;32m    350\u001b[0m         \u001b[0mcls\u001b[0m \u001b[0;34m=\u001b[0m \u001b[0mJSONDecoder\u001b[0m\u001b[0;34m\u001b[0m\u001b[0;34m\u001b[0m\u001b[0m\n",
      "\u001b[0;32m/home/yingshac/miniconda3/envs/py37/lib/python3.7/json/decoder.py\u001b[0m in \u001b[0;36mdecode\u001b[0;34m(self, s, _w)\u001b[0m\n\u001b[1;32m    335\u001b[0m \u001b[0;34m\u001b[0m\u001b[0m\n\u001b[1;32m    336\u001b[0m         \"\"\"\n\u001b[0;32m--> 337\u001b[0;31m         \u001b[0mobj\u001b[0m\u001b[0;34m,\u001b[0m \u001b[0mend\u001b[0m \u001b[0;34m=\u001b[0m \u001b[0mself\u001b[0m\u001b[0;34m.\u001b[0m\u001b[0mraw_decode\u001b[0m\u001b[0;34m(\u001b[0m\u001b[0ms\u001b[0m\u001b[0;34m,\u001b[0m \u001b[0midx\u001b[0m\u001b[0;34m=\u001b[0m\u001b[0m_w\u001b[0m\u001b[0;34m(\u001b[0m\u001b[0ms\u001b[0m\u001b[0;34m,\u001b[0m \u001b[0;36m0\u001b[0m\u001b[0;34m)\u001b[0m\u001b[0;34m.\u001b[0m\u001b[0mend\u001b[0m\u001b[0;34m(\u001b[0m\u001b[0;34m)\u001b[0m\u001b[0;34m)\u001b[0m\u001b[0;34m\u001b[0m\u001b[0;34m\u001b[0m\u001b[0m\n\u001b[0m\u001b[1;32m    338\u001b[0m         \u001b[0mend\u001b[0m \u001b[0;34m=\u001b[0m \u001b[0m_w\u001b[0m\u001b[0;34m(\u001b[0m\u001b[0ms\u001b[0m\u001b[0;34m,\u001b[0m \u001b[0mend\u001b[0m\u001b[0;34m)\u001b[0m\u001b[0;34m.\u001b[0m\u001b[0mend\u001b[0m\u001b[0;34m(\u001b[0m\u001b[0;34m)\u001b[0m\u001b[0;34m\u001b[0m\u001b[0;34m\u001b[0m\u001b[0m\n\u001b[1;32m    339\u001b[0m         \u001b[0;32mif\u001b[0m \u001b[0mend\u001b[0m \u001b[0;34m!=\u001b[0m \u001b[0mlen\u001b[0m\u001b[0;34m(\u001b[0m\u001b[0ms\u001b[0m\u001b[0;34m)\u001b[0m\u001b[0;34m:\u001b[0m\u001b[0;34m\u001b[0m\u001b[0;34m\u001b[0m\u001b[0m\n",
      "\u001b[0;32m/home/yingshac/miniconda3/envs/py37/lib/python3.7/json/decoder.py\u001b[0m in \u001b[0;36mraw_decode\u001b[0;34m(self, s, idx)\u001b[0m\n\u001b[1;32m    351\u001b[0m         \"\"\"\n\u001b[1;32m    352\u001b[0m         \u001b[0;32mtry\u001b[0m\u001b[0;34m:\u001b[0m\u001b[0;34m\u001b[0m\u001b[0;34m\u001b[0m\u001b[0m\n\u001b[0;32m--> 353\u001b[0;31m             \u001b[0mobj\u001b[0m\u001b[0;34m,\u001b[0m \u001b[0mend\u001b[0m \u001b[0;34m=\u001b[0m \u001b[0mself\u001b[0m\u001b[0;34m.\u001b[0m\u001b[0mscan_once\u001b[0m\u001b[0;34m(\u001b[0m\u001b[0ms\u001b[0m\u001b[0;34m,\u001b[0m \u001b[0midx\u001b[0m\u001b[0;34m)\u001b[0m\u001b[0;34m\u001b[0m\u001b[0;34m\u001b[0m\u001b[0m\n\u001b[0m\u001b[1;32m    354\u001b[0m         \u001b[0;32mexcept\u001b[0m \u001b[0mStopIteration\u001b[0m \u001b[0;32mas\u001b[0m \u001b[0merr\u001b[0m\u001b[0;34m:\u001b[0m\u001b[0;34m\u001b[0m\u001b[0;34m\u001b[0m\u001b[0m\n\u001b[1;32m    355\u001b[0m             \u001b[0;32mraise\u001b[0m \u001b[0mJSONDecodeError\u001b[0m\u001b[0;34m(\u001b[0m\u001b[0;34m\"Expecting value\"\u001b[0m\u001b[0;34m,\u001b[0m \u001b[0ms\u001b[0m\u001b[0;34m,\u001b[0m \u001b[0merr\u001b[0m\u001b[0;34m.\u001b[0m\u001b[0mvalue\u001b[0m\u001b[0;34m)\u001b[0m \u001b[0;32mfrom\u001b[0m \u001b[0;32mNone\u001b[0m\u001b[0;34m\u001b[0m\u001b[0;34m\u001b[0m\u001b[0m\n",
      "\u001b[0;31mJSONDecodeError\u001b[0m: Expecting property name enclosed in double quotes: line 1 column 2 (char 1)"
     ]
    }
   ],
   "source": [
    "type(json.loads('{'+tmp['dc62fd0ad46f11ebba07a504a20e7724']+'}'))"
   ]
  },
  {
   "cell_type": "code",
   "execution_count": null,
   "metadata": {},
   "outputs": [],
   "source": []
  }
 ],
 "metadata": {
  "kernelspec": {
   "display_name": "py37",
   "language": "python",
   "name": "py37"
  },
  "language_info": {
   "codemirror_mode": {
    "name": "ipython",
    "version": 3
   },
   "file_extension": ".py",
   "mimetype": "text/x-python",
   "name": "python",
   "nbconvert_exporter": "python",
   "pygments_lexer": "ipython3",
   "version": "3.7.9"
  }
 },
 "nbformat": 4,
 "nbformat_minor": 4
}
