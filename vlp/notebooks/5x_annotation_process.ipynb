{
 "cells": [
  {
   "cell_type": "markdown",
   "metadata": {},
   "source": [
    "##### img_dataset_0818_add5x, txt_dataset_0818_add5x: add 5x answers, \n",
    "delete 320 samples which were flagged problematic by annotators (60 from img data, 260 from txt data)\n",
    "##### txt_dataset_0818_add5x_cleanXdis: some img_negFacts failed to download, remove them\n",
    "##### img_dataset_0819_16neg, txt_dataset_0819_16neg: only keep 16 neg samples\n",
    "##### txt_dataset_0820_addKA: add keyword answers"
   ]
  },
  {
   "cell_type": "code",
   "execution_count": 1,
   "metadata": {},
   "outputs": [],
   "source": [
    "import json, pickle, copy, os, time, random\n",
    "from collections import Counter, defaultdict\n",
    "import numpy as np\n",
    "from pprint import pprint"
   ]
  },
  {
   "cell_type": "code",
   "execution_count": 2,
   "metadata": {},
   "outputs": [
    {
     "name": "stdout",
     "output_type": "stream",
     "text": [
      "Counter({'train': 17812, 'test': 5084, 'val': 2455})\n",
      "25351\n",
      "Counter({'train': 16447, 'ood_test': 3987, 'val': 2511, 'ind_test': 2507})\n",
      "Counter({'YesNo': 8429, 'Others': 6713, 'choose': 5240, 'number': 2339, 'color': 2069, 'shape': 662})\n",
      "25452\n"
     ]
    }
   ],
   "source": [
    "txt_dataset = json.load(open(\"/home/yingshac/CYS/WebQnA/WebQnA_data_new/txt_dataset_0818.json\", \"r\"))\n",
    "img_dataset = json.load(open(\"/home/yingshac/CYS/WebQnA/WebQnA_data_new/img_dataset_0817_neg_ranked.json\", \"r\"))\n",
    "\n",
    "print(Counter([txt_dataset[k]['split'] for k in txt_dataset]))\n",
    "print(len(set([txt_dataset[k]['Guid'] for k in txt_dataset])))\n",
    "\n",
    "print(Counter([img_dataset[k]['split'] for k in img_dataset]))\n",
    "print(Counter([img_dataset[k]['Qcate'] for k in img_dataset]))\n",
    "print(len(set([img_dataset[k]['Guid'] for k in img_dataset])))"
   ]
  },
  {
   "cell_type": "code",
   "execution_count": 3,
   "metadata": {},
   "outputs": [
    {
     "name": "stdout",
     "output_type": "stream",
     "text": [
      "img data, txt_negFacts:  35.775656137042276 41 0\n",
      "img data, img_negFacts:  29.54086122898004 44 7\n",
      "img data, img_posFacts:  1.4371758604431872 2 1\n",
      "txt data, txt_negFacts:  28.91597964577334 72 2\n",
      "txt data, img_negFacts:  21.55271981381405 40 0\n",
      "txt data, txt_posFacts:  2.0391306062877206 5 1\n"
     ]
    }
   ],
   "source": [
    "print(\"img data, txt_negFacts: \", np.mean([len(img_dataset[k]['txt_negFacts']) for k in img_dataset]), np.max([len(img_dataset[k]['txt_negFacts']) for k in img_dataset]), np.min([len(img_dataset[k]['txt_negFacts']) for k in img_dataset]))\n",
    "print(\"img data, img_negFacts: \", np.mean([len(img_dataset[k]['img_negFacts']) for k in img_dataset]), np.max([len(img_dataset[k]['img_negFacts']) for k in img_dataset]), np.min([len(img_dataset[k]['img_negFacts']) for k in img_dataset]))\n",
    "print(\"img data, img_posFacts: \", np.mean([len(img_dataset[k]['img_posFacts']) for k in img_dataset]), np.max([len(img_dataset[k]['img_posFacts']) for k in img_dataset]), np.min([len(img_dataset[k]['img_posFacts']) for k in img_dataset]))\n",
    "\n",
    "print(\"txt data, txt_negFacts: \", np.mean([len(txt_dataset[k]['txt_negFacts']) for k in txt_dataset]), np.max([len(txt_dataset[k]['txt_negFacts']) for k in txt_dataset]), np.min([len(txt_dataset[k]['txt_negFacts']) for k in txt_dataset]))\n",
    "print(\"txt data, img_negFacts: \", np.mean([len(txt_dataset[k]['img_negFacts']) for k in txt_dataset]), np.max([len(txt_dataset[k]['img_negFacts']) for k in txt_dataset]), np.min([len(txt_dataset[k]['img_negFacts']) for k in txt_dataset]))\n",
    "print(\"txt data, txt_posFacts: \", np.mean([len(txt_dataset[k]['txt_posFacts']) for k in txt_dataset]), np.max([len(txt_dataset[k]['txt_posFacts']) for k in txt_dataset]), np.min([len(txt_dataset[k]['txt_posFacts']) for k in txt_dataset]))"
   ]
  },
  {
   "cell_type": "code",
   "execution_count": 4,
   "metadata": {},
   "outputs": [
    {
     "name": "stdout",
     "output_type": "stream",
     "text": [
      "11579\n"
     ]
    }
   ],
   "source": [
    "TestSet5Answers_0819 = json.load(open(\"/home/yingshac/CYS/WebQnA/WebQnA_data_new/TestSet5Answers_0819.json\", \"r\"))\n",
    "print(len(TestSet5Answers_0819))"
   ]
  },
  {
   "cell_type": "code",
   "execution_count": 22,
   "metadata": {},
   "outputs": [
    {
     "name": "stdout",
     "output_type": "stream",
     "text": [
      "11579\n",
      "<class 'list'>\n",
      "11579\n"
     ]
    }
   ],
   "source": [
    "'''\n",
    "tmp = json.load(open(\"/home/yingshac/CYS/WebQnA/WebQnA_data_new/TestSet5Answers_0818_from_Mridu.json\", \"r\"))\n",
    "print(len(tmp))\n",
    "print(type(tmp))\n",
    "TestSet5Answers_0819 = {}\n",
    "for i in tmp:\n",
    "    guid = i['Guid']\n",
    "    TestSet5Answers_0819[guid] = copy.deepcopy(i)\n",
    "print(len(TestSet5Answers_0819))\n",
    "json.dump(TestSet5Answers_0819, open(\"/home/yingshac/CYS/WebQnA/WebQnA_data_new/TestSet5Answers_0819.json\", \"w\"), indent=4)\n",
    "'''"
   ]
  },
  {
   "cell_type": "code",
   "execution_count": 5,
   "metadata": {},
   "outputs": [
    {
     "name": "stdout",
     "output_type": "stream",
     "text": [
      "{'dc4f2460d46f11ebba07a504a20e7724', 'dc4dc3b8d46f11ebba07a504a20e7724'}\n",
      "{'dc4c05a0d46f11ebba07a504a20e7724'}\n"
     ]
    }
   ],
   "source": [
    "a = set([img_dataset[k]['Guid'] for k in img_dataset if img_dataset[k]['split'] in ['ind_test', 'ood_test']])\n",
    "a = a.union(set([txt_dataset[k]['Guid'] for k in txt_dataset if txt_dataset[k]['split'] in ['test']]))\n",
    "print(set(list(TestSet5Answers_0819.keys())) - a)\n",
    "print(a - set(list(TestSet5Answers_0819.keys())))"
   ]
  },
  {
   "cell_type": "code",
   "execution_count": 6,
   "metadata": {},
   "outputs": [
    {
     "name": "stdout",
     "output_type": "stream",
     "text": [
      "320\n"
     ]
    }
   ],
   "source": [
    "print(len([k for k in TestSet5Answers_0819 if TestSet5Answers_0819[k]['HasIssue']]))"
   ]
  },
  {
   "cell_type": "code",
   "execution_count": 8,
   "metadata": {},
   "outputs": [
    {
     "name": "stdout",
     "output_type": "stream",
     "text": [
      "delete img data k = 6042\n",
      "delete img data k = 6052\n",
      "delete img data k = 6471\n",
      "delete img data k = 6720\n",
      "delete img data k = 7637\n",
      "delete img data k = 7758\n",
      "delete img data k = 8047\n",
      "delete img data k = 8214\n",
      "delete img data k = 3560\n",
      "img data k = 4087 move from ind_test to train\n",
      "delete img data k = 4511\n",
      "delete img data k = 4629\n",
      "delete img data k = 5415\n",
      "delete img data k = 5462\n",
      "delete img data k = 5572\n",
      "delete img data k = 5995\n",
      "delete img data k = 127\n",
      "delete img data k = 191\n",
      "delete img data k = 215\n",
      "delete img data k = 256\n",
      "delete img data k = 331\n",
      "delete img data k = 399\n",
      "delete img data k = 560\n",
      "delete img data k = 561\n",
      "delete img data k = 1328\n",
      "delete img data k = 1611\n",
      "delete img data k = 1721\n",
      "delete img data k = 1927\n",
      "delete img data k = 25308\n",
      "delete img data k = 2038\n",
      "delete img data k = 2154\n",
      "delete img data k = 2179\n",
      "delete img data k = 2241\n",
      "delete img data k = 2244\n",
      "delete img data k = 21640\n",
      "delete img data k = 22121\n",
      "delete img data k = 22371\n",
      "delete img data k = 22411\n",
      "delete img data k = 23090\n",
      "delete img data k = 15487\n",
      "delete img data k = 15732\n",
      "delete img data k = 16405\n",
      "delete img data k = 16827\n",
      "delete img data k = 16934\n",
      "delete img data k = 17604\n",
      "delete img data k = 17693\n",
      "delete img data k = 17843\n",
      "delete img data k = 2722\n",
      "delete img data k = 12303\n",
      "delete img data k = 13690\n",
      "delete img data k = 13834\n",
      "delete img data k = 14871\n",
      "delete img data k = 9656\n",
      "delete img data k = 9863\n",
      "delete img data k = 10643\n",
      "delete img data k = 10770\n",
      "delete img data k = 11029\n",
      "delete img data k = 11976\n",
      "delete img data k = 24186\n",
      "delete img data k = 24333\n",
      "delete img data k = 24936\n",
      "delete txt data k = 7018\n",
      "delete txt data k = 7020\n",
      "delete txt data k = 7106\n",
      "delete txt data k = 7117\n",
      "delete txt data k = 7119\n",
      "delete txt data k = 7158\n",
      "delete txt data k = 7184\n",
      "delete txt data k = 7376\n",
      "delete txt data k = 7388\n",
      "delete txt data k = 7416\n",
      "delete txt data k = 7524\n",
      "delete txt data k = 7531\n",
      "delete txt data k = 7532\n",
      "delete txt data k = 7539\n",
      "delete txt data k = 7572\n",
      "delete txt data k = 7645\n",
      "delete txt data k = 7777\n",
      "delete txt data k = 7780\n",
      "delete txt data k = 7792\n",
      "delete txt data k = 7835\n",
      "delete txt data k = 7865\n",
      "delete txt data k = 4\n",
      "delete txt data k = 111\n",
      "delete txt data k = 134\n",
      "delete txt data k = 193\n",
      "delete txt data k = 259\n",
      "delete txt data k = 280\n",
      "delete txt data k = 344\n",
      "delete txt data k = 352\n",
      "delete txt data k = 427\n",
      "delete txt data k = 434\n",
      "delete txt data k = 624\n",
      "delete txt data k = 669\n",
      "delete txt data k = 736\n",
      "delete txt data k = 843\n",
      "delete txt data k = 907\n",
      "delete txt data k = 939\n",
      "delete txt data k = 2020\n",
      "delete txt data k = 2107\n",
      "delete txt data k = 2145\n",
      "delete txt data k = 2211\n",
      "delete txt data k = 2297\n",
      "delete txt data k = 2355\n",
      "delete txt data k = 2366\n",
      "delete txt data k = 2417\n",
      "delete txt data k = 2478\n",
      "delete txt data k = 2494\n",
      "delete txt data k = 3055\n",
      "delete txt data k = 3060\n",
      "delete txt data k = 3216\n",
      "delete txt data k = 3233\n",
      "delete txt data k = 3234\n",
      "delete txt data k = 3290\n",
      "delete txt data k = 3335\n",
      "delete txt data k = 3380\n",
      "delete txt data k = 3446\n",
      "delete txt data k = 3508\n",
      "delete txt data k = 3535\n",
      "delete txt data k = 3555\n",
      "delete txt data k = 3651\n",
      "delete txt data k = 3699\n",
      "delete txt data k = 3764\n",
      "delete txt data k = 3766\n",
      "delete txt data k = 5032\n",
      "delete txt data k = 5042\n",
      "delete txt data k = 5211\n",
      "delete txt data k = 5231\n",
      "delete txt data k = 5238\n",
      "delete txt data k = 5283\n",
      "delete txt data k = 5337\n",
      "delete txt data k = 5422\n",
      "delete txt data k = 5483\n",
      "delete txt data k = 5532\n",
      "delete txt data k = 5539\n",
      "delete txt data k = 5561\n",
      "delete txt data k = 5620\n",
      "delete txt data k = 5666\n",
      "delete txt data k = 5686\n",
      "delete txt data k = 5829\n",
      "delete txt data k = 5840\n",
      "delete txt data k = 5859\n",
      "delete txt data k = 5894\n",
      "delete txt data k = 5896\n",
      "delete txt data k = 5967\n",
      "delete txt data k = 1001\n",
      "delete txt data k = 1014\n",
      "delete txt data k = 1043\n",
      "delete txt data k = 1197\n",
      "delete txt data k = 1226\n",
      "delete txt data k = 1235\n",
      "delete txt data k = 1315\n",
      "delete txt data k = 1335\n",
      "delete txt data k = 1445\n",
      "delete txt data k = 1458\n",
      "delete txt data k = 1496\n",
      "delete txt data k = 1497\n",
      "delete txt data k = 1533\n",
      "delete txt data k = 1559\n",
      "delete txt data k = 1564\n",
      "delete txt data k = 1647\n",
      "delete txt data k = 1667\n",
      "delete txt data k = 1710\n",
      "delete txt data k = 1740\n",
      "delete txt data k = 1817\n",
      "delete txt data k = 1856\n",
      "delete txt data k = 1859\n",
      "delete txt data k = 1910\n",
      "delete txt data k = 1927\n",
      "delete txt data k = 6041\n",
      "delete txt data k = 6127\n",
      "delete txt data k = 6238\n",
      "delete txt data k = 6327\n",
      "delete txt data k = 6425\n",
      "delete txt data k = 6472\n",
      "delete txt data k = 6476\n",
      "delete txt data k = 6478\n",
      "delete txt data k = 6529\n",
      "delete txt data k = 6547\n",
      "delete txt data k = 6583\n",
      "delete txt data k = 6597\n",
      "delete txt data k = 6612\n",
      "delete txt data k = 6671\n",
      "delete txt data k = 6683\n",
      "delete txt data k = 6686\n",
      "delete txt data k = 6690\n",
      "delete txt data k = 6785\n",
      "delete txt data k = 6842\n",
      "delete txt data k = 6929\n",
      "delete txt data k = 6953\n",
      "delete txt data k = 6982\n",
      "delete txt data k = 4032\n",
      "delete txt data k = 4092\n",
      "delete txt data k = 4094\n",
      "delete txt data k = 4112\n",
      "delete txt data k = 4152\n",
      "delete txt data k = 4236\n",
      "delete txt data k = 4275\n",
      "delete txt data k = 4281\n",
      "delete txt data k = 4414\n",
      "delete txt data k = 4459\n",
      "delete txt data k = 4561\n",
      "delete txt data k = 4564\n",
      "delete txt data k = 4608\n",
      "delete txt data k = 4755\n",
      "delete txt data k = 4822\n",
      "delete txt data k = 4825\n",
      "delete txt data k = 4974\n",
      "delete txt data k = 8200\n",
      "delete txt data k = 8293\n",
      "delete txt data k = 8341\n",
      "delete txt data k = 8771\n",
      "delete txt data k = 8898\n",
      "delete txt data k = 9040\n",
      "delete txt data k = 9051\n",
      "delete txt data k = 9075\n",
      "delete txt data k = 9170\n",
      "delete txt data k = 9247\n",
      "delete txt data k = 9282\n",
      "delete txt data k = 9331\n",
      "delete txt data k = 9484\n",
      "delete txt data k = 9893\n",
      "delete txt data k = 10295\n",
      "delete txt data k = 10353\n",
      "delete txt data k = 10385\n",
      "delete txt data k = 10716\n",
      "delete txt data k = 10852\n",
      "delete txt data k = 10955\n",
      "delete txt data k = 11283\n",
      "delete txt data k = 11286\n",
      "delete txt data k = 11425\n",
      "delete txt data k = 12307\n",
      "delete txt data k = 12564\n",
      "delete txt data k = 12679\n",
      "delete txt data k = 12767\n",
      "delete txt data k = 12897\n",
      "delete txt data k = 12975\n",
      "delete txt data k = 13006\n",
      "delete txt data k = 13155\n",
      "delete txt data k = 13163\n",
      "delete txt data k = 13168\n",
      "delete txt data k = 13267\n",
      "delete txt data k = 13362\n",
      "delete txt data k = 13776\n",
      "delete txt data k = 13861\n",
      "delete txt data k = 14258\n",
      "delete txt data k = 14269\n",
      "delete txt data k = 14291\n",
      "delete txt data k = 14354\n",
      "delete txt data k = 14496\n",
      "delete txt data k = 14812\n",
      "delete txt data k = 15104\n",
      "delete txt data k = 15321\n",
      "delete txt data k = 15382\n",
      "delete txt data k = 15399\n",
      "delete txt data k = 15509\n",
      "delete txt data k = 15535\n",
      "delete txt data k = 15572\n",
      "delete txt data k = 15619\n",
      "delete txt data k = 15705\n",
      "delete txt data k = 15740\n",
      "delete txt data k = 16390\n",
      "delete txt data k = 16454\n",
      "delete txt data k = 16646\n",
      "delete txt data k = 16734\n",
      "delete txt data k = 16853\n",
      "delete txt data k = 16968\n",
      "delete txt data k = 16984\n",
      "delete txt data k = 16995\n",
      "delete txt data k = 17550\n",
      "delete txt data k = 17591\n",
      "delete txt data k = 17841\n",
      "delete txt data k = 17938\n",
      "delete txt data k = 17940\n",
      "delete txt data k = 18037\n",
      "delete txt data k = 18074\n",
      "delete txt data k = 18140\n",
      "delete txt data k = 18331\n",
      "delete txt data k = 18614\n",
      "delete txt data k = 18656\n",
      "delete txt data k = 19009\n",
      "delete txt data k = 19060\n",
      "delete txt data k = 19212\n",
      "delete txt data k = 19230\n",
      "delete txt data k = 19234\n",
      "delete txt data k = 19543\n",
      "delete txt data k = 19556\n",
      "delete txt data k = 19624\n",
      "delete txt data k = 19634\n",
      "delete txt data k = 19827\n",
      "delete txt data k = 19948\n",
      "delete txt data k = 20138\n",
      "delete txt data k = 20189\n",
      "delete txt data k = 20255\n",
      "delete txt data k = 20618\n",
      "delete txt data k = 21199\n",
      "delete txt data k = 21296\n",
      "delete txt data k = 21353\n",
      "delete txt data k = 21840\n",
      "delete txt data k = 21986\n",
      "delete txt data k = 22108\n",
      "delete txt data k = 22276\n",
      "delete txt data k = 22313\n",
      "delete txt data k = 22612\n",
      "delete txt data k = 22631\n",
      "delete txt data k = 22689\n",
      "delete txt data k = 22825\n",
      "delete txt data k = 23015\n",
      "delete txt data k = 23113\n",
      "delete txt data k = 23143\n",
      "delete txt data k = 23208\n",
      "delete txt data k = 23387\n",
      "delete txt data k = 23406\n",
      "delete txt data k = 23479\n",
      "delete txt data k = 23952\n",
      "delete txt data k = 24140\n",
      "delete txt data k = 24445\n",
      "delete txt data k = 24526\n",
      "delete txt data k = 24586\n",
      "delete txt data k = 24726\n",
      "delete txt data k = 25169\n",
      "total_count =  11577\n",
      "delete_img_count =  60\n",
      "delete_txt_count =  260\n",
      "25392\n",
      "25091\n"
     ]
    }
   ],
   "source": [
    "### Need to modify the split a little bit. Some mismatch\n",
    "move_to_test = ['dc4dc3b8d46f11ebba07a504a20e7724', 'dc4f2460d46f11ebba07a504a20e7724']\n",
    "move_to_train = ['dc4c05a0d46f11ebba07a504a20e7724']\n",
    "img_dataset_0818_add5x = copy.deepcopy(img_dataset)\n",
    "txt_dataset_0818_add5x = copy.deepcopy(txt_dataset)\n",
    "\n",
    "delete_img_count = 0\n",
    "delete_txt_count = 0\n",
    "total_count = 0\n",
    "for k in list(img_dataset_0818_add5x.keys()):\n",
    "    guid = img_dataset_0818_add5x[k]['Guid']\n",
    "    if guid in move_to_test:\n",
    "        print(\"img data k = {} move from {} to test\".format(k, img_dataset_0818_add5x[k]['split']))\n",
    "        img_dataset_0818_add5x[k]['split'] = 'ind_test'\n",
    "    if guid in move_to_train:\n",
    "        print(\"img data k = {} move from {} to train\".format(k, img_dataset_0818_add5x[k]['split']))\n",
    "        img_dataset_0818_add5x[k]['split'] = 'train'\n",
    "    \n",
    "    ori_A = img_dataset_0818_add5x[k]['A']\n",
    "    img_dataset_0818_add5x[k]['A'] = [ori_A]\n",
    "    \n",
    "    if not guid in TestSet5Answers_0819: continue\n",
    "    total_count += 1\n",
    "    \n",
    "    annotation_5x = TestSet5Answers_0819[guid]\n",
    "    assert annotation_5x['Question'] in img_dataset_0818_add5x[k]['Q']\n",
    "    if annotation_5x['HasIssue']: \n",
    "        print(\"delete img data k = {}\".format(k))\n",
    "        del img_dataset_0818_add5x[k]\n",
    "        delete_img_count += 1\n",
    "        continue\n",
    "    \n",
    "    for a in annotation_5x['Answers']:\n",
    "        img_dataset_0818_add5x[k]['A'].append('\"' + a + '\"')\n",
    "\n",
    "for k in list(txt_dataset_0818_add5x.keys()):\n",
    "    guid = txt_dataset_0818_add5x[k]['Guid']\n",
    "    if guid in move_to_test:\n",
    "        print(\"txt data k = {} move from {} to test\".format(k, txt_dataset_0818_add5x[k]['split']))\n",
    "        txt_dataset_0818_add5x[k]['split'] = 'test'\n",
    "    if guid in move_to_train:\n",
    "        print(\"txt data k = {} move from {} to train\".format(k, txt_dataset_0818_add5x[k]['split']))\n",
    "        txt_dataset_0818_add5x[k]['split'] = 'train'\n",
    "    \n",
    "    ori_A = txt_dataset_0818_add5x[k]['A']\n",
    "    txt_dataset_0818_add5x[k]['A'] = [ori_A]\n",
    "    \n",
    "    if not guid in TestSet5Answers_0819: continue\n",
    "    total_count += 1\n",
    "    \n",
    "    annotation_5x = TestSet5Answers_0819[guid]\n",
    "    assert annotation_5x['Question'] in txt_dataset_0818_add5x[k]['Q']\n",
    "    if annotation_5x['HasIssue']: \n",
    "        print(\"delete txt data k = {}\".format(k))\n",
    "        del txt_dataset_0818_add5x[k]\n",
    "        delete_txt_count += 1\n",
    "        continue\n",
    "    \n",
    "    for a in annotation_5x['Answers']:\n",
    "        txt_dataset_0818_add5x[k]['A'].append('\"' + a + '\"')\n",
    "\n",
    "print(\"total_count = \", total_count)\n",
    "print(\"delete_img_count = \", delete_img_count)\n",
    "print(\"delete_txt_count = \", delete_txt_count)\n",
    "print(len(img_dataset_0818_add5x))\n",
    "print(len(txt_dataset_0818_add5x))"
   ]
  },
  {
   "cell_type": "code",
   "execution_count": 9,
   "metadata": {},
   "outputs": [],
   "source": [
    "json.dump(img_dataset_0818_add5x, open(\"/home/yingshac/CYS/WebQnA/WebQnA_data_new/img_dataset_0818_add5x.json\", \"w\"), indent=4)\n",
    "json.dump(txt_dataset_0818_add5x, open(\"/home/yingshac/CYS/WebQnA/WebQnA_data_new/txt_dataset_0818_add5x.json\", \"w\"), indent=4)"
   ]
  },
  {
   "cell_type": "markdown",
   "metadata": {},
   "source": [
    "#### remove x_distractors that failed to download"
   ]
  },
  {
   "cell_type": "code",
   "execution_count": 23,
   "metadata": {},
   "outputs": [
    {
     "name": "stdout",
     "output_type": "stream",
     "text": [
      "240661\n",
      "39\n"
     ]
    }
   ],
   "source": [
    "x_distractors_exist = [int(i.split('.')[0]) for i in os.listdir(\"/data/yingshac/MMMHQA/imgFeatures_x_distractors/x_distractors\")]\n",
    "print(len(x_distractors_exist))\n",
    "x_distractors_nonexist = set(range(20000000, 20240700)) - set(x_distractors_exist)\n",
    "print(len(x_distractors_nonexist))"
   ]
  },
  {
   "cell_type": "code",
   "execution_count": 24,
   "metadata": {},
   "outputs": [
    {
     "name": "stdout",
     "output_type": "stream",
     "text": [
      "Counter({'train': 17812, 'test': 4824, 'val': 2455})\n",
      "25091\n",
      "7169 20002804  does not exist\n",
      "7872 20012291  does not exist\n",
      "79 20014583  does not exist\n",
      "441 20020053  does not exist\n",
      "850 20025765  does not exist\n",
      "945 20027340  does not exist\n",
      "2100 20020053  does not exist\n",
      "2277 20032059  does not exist\n",
      "2364 20033356  does not exist\n",
      "2576 20036503  does not exist\n",
      "2631 20037252  does not exist\n",
      "3287 20045857  does not exist\n",
      "3845 20053166  does not exist\n",
      "5192 20032059  does not exist\n",
      "1037 20037252  does not exist\n",
      "1723 20045857  does not exist\n",
      "1828 20045857  does not exist\n",
      "6201 20080677  does not exist\n",
      "6428 20083075  does not exist\n",
      "6428 20083080  does not exist\n",
      "6591 20084638  does not exist\n",
      "4225 20090783  does not exist\n",
      "4394 20045857  does not exist\n",
      "4555 20094021  does not exist\n",
      "4555 20094021  does not exist\n",
      "7951 20098527  does not exist\n",
      "8694 20108112  does not exist\n",
      "8694 20108105  does not exist\n",
      "8694 20108121  does not exist\n",
      "9253 20115189  does not exist\n",
      "9679 20119191  does not exist\n",
      "9680 20119191  does not exist\n",
      "9848 20119191  does not exist\n",
      "9970 20119191  does not exist\n",
      "10012 20119191  does not exist\n",
      "10720 20119191  does not exist\n",
      "10833 20119191  does not exist\n",
      "11191 20133490  does not exist\n",
      "11361 20135292  does not exist\n",
      "12814 20119191  does not exist\n",
      "12977 20152099  does not exist\n",
      "13220 20119191  does not exist\n",
      "13592 20157903  does not exist\n",
      "14916 20169848  does not exist\n",
      "16279 20180266  does not exist\n",
      "16699 20183784  does not exist\n",
      "16898 20185427  does not exist\n",
      "17759 20192186  does not exist\n",
      "17815 20192643  does not exist\n",
      "17851 20133490  does not exist\n",
      "21336 20119191  does not exist\n",
      "21968 20221085  does not exist\n",
      "22420 20192643  does not exist\n",
      "22497 20224311  does not exist\n",
      "23618 20231197  does not exist\n",
      "23756 20115189  does not exist\n",
      "23992 20221085  does not exist\n",
      "24527 20236330  does not exist\n",
      "24601 20119191  does not exist\n",
      "24640 20119191  does not exist\n",
      "25015 20238819  does not exist\n",
      "Counter({40: 6637, 5: 936, 6: 868, 7: 802, 8: 779, 1: 779, 9: 752, 3: 711, 2: 709, 10: 696, 4: 663, 11: 649, 13: 572, 12: 565, 14: 549, 15: 519, 16: 505, 18: 480, 17: 443, 39: 436, 19: 425, 20: 388, 0: 370, 23: 357, 22: 345, 21: 345, 25: 319, 24: 311, 26: 301, 27: 299, 29: 283, 38: 264, 30: 263, 35: 240, 31: 229, 28: 221, 36: 221, 33: 219, 37: 215, 32: 214, 34: 212})\n",
      "Counter({40: 6611, 5: 934, 6: 868, 7: 802, 8: 781, 1: 779, 9: 751, 3: 712, 2: 709, 10: 695, 4: 664, 11: 651, 13: 572, 12: 563, 14: 550, 15: 519, 16: 506, 18: 479, 39: 460, 17: 442, 19: 426, 20: 388, 0: 370, 23: 356, 22: 345, 21: 345, 25: 320, 24: 312, 26: 302, 27: 296, 29: 281, 38: 265, 30: 262, 35: 240, 31: 229, 28: 224, 36: 221, 33: 221, 37: 215, 32: 214, 34: 211})\n"
     ]
    }
   ],
   "source": [
    "txt_dataset_0818_add5x = json.load(open(\"/home/yingshac/CYS/WebQnA/WebQnA_data_new/txt_dataset_0818_add5x.json\", \"r\"))\n",
    "\n",
    "print(Counter([txt_dataset_0818_add5x[k]['split'] for k in txt_dataset_0818_add5x]))\n",
    "print(len(set([txt_dataset_0818_add5x[k]['Guid'] for k in txt_dataset_0818_add5x])))\n",
    "\n",
    "before_clean = []\n",
    "after_clean = []\n",
    "for k in txt_dataset_0818_add5x:\n",
    "    before_clean.append(len(txt_dataset_0818_add5x[k]['img_negFacts']))\n",
    "    for f in txt_dataset_0818_add5x[k]['img_negFacts']:\n",
    "        if f['image_id'] in x_distractors_nonexist:\n",
    "            print(k, f['image_id'], \" does not exist\")\n",
    "            txt_dataset_0818_add5x[k]['img_negFacts'].remove(f)\n",
    "    after_clean.append(len(txt_dataset_0818_add5x[k]['img_negFacts']))\n",
    "    \n",
    "print(Counter(before_clean))\n",
    "print(Counter(after_clean))\n"
   ]
  },
  {
   "cell_type": "code",
   "execution_count": 25,
   "metadata": {},
   "outputs": [],
   "source": [
    "json.dump(txt_dataset_0818_add5x, open(\"/home/yingshac/CYS/WebQnA/WebQnA_data_new/txt_dataset_0818_add5x_cleanXdis.json\", \"w\"), indent=4)"
   ]
  },
  {
   "cell_type": "markdown",
   "metadata": {},
   "source": [
    "#### Keep the first 16 distractors"
   ]
  },
  {
   "cell_type": "code",
   "execution_count": 26,
   "metadata": {},
   "outputs": [
    {
     "name": "stdout",
     "output_type": "stream",
     "text": [
      "Counter({'train': 17812, 'test': 4824, 'val': 2455})\n",
      "25091\n",
      "Counter({'train': 16448, 'ood_test': 3948, 'val': 2511, 'ind_test': 2485})\n",
      "Counter({'YesNo': 8410, 'Others': 6689, 'choose': 5226, 'number': 2337, 'color': 2068, 'shape': 662})\n",
      "25392\n"
     ]
    }
   ],
   "source": [
    "img_dataset_0818_add5x = json.load(open(\"/home/yingshac/CYS/WebQnA/WebQnA_data_new/img_dataset_0818_add5x.json\", \"r\"))\n",
    "txt_dataset_0818_add5x_cleanXdis = json.load(open(\"/home/yingshac/CYS/WebQnA/WebQnA_data_new/txt_dataset_0818_add5x_cleanXdis.json\", \"r\"))\n",
    "\n",
    "print(Counter([txt_dataset_0818_add5x_cleanXdis[k]['split'] for k in txt_dataset_0818_add5x_cleanXdis]))\n",
    "print(len(set([txt_dataset_0818_add5x_cleanXdis[k]['Guid'] for k in txt_dataset_0818_add5x_cleanXdis])))\n",
    "\n",
    "print(Counter([img_dataset_0818_add5x[k]['split'] for k in img_dataset_0818_add5x]))\n",
    "print(Counter([img_dataset_0818_add5x[k]['Qcate'] for k in img_dataset_0818_add5x]))\n",
    "print(len(set([img_dataset_0818_add5x[k]['Guid'] for k in img_dataset_0818_add5x])))"
   ]
  },
  {
   "cell_type": "code",
   "execution_count": 27,
   "metadata": {},
   "outputs": [
    {
     "name": "stdout",
     "output_type": "stream",
     "text": [
      "25392 25091\n"
     ]
    }
   ],
   "source": [
    "img_dataset_0819_16neg = copy.deepcopy(img_dataset_0818_add5x)\n",
    "for k in img_dataset_0819_16neg:\n",
    "    img_dataset_0819_16neg[k]['img_negFacts'] = img_dataset_0819_16neg[k]['img_negFacts'][:16]\n",
    "    img_dataset_0819_16neg[k]['txt_negFacts'] = img_dataset_0819_16neg[k]['txt_negFacts'][:16]\n",
    "txt_dataset_0819_16neg = copy.deepcopy(txt_dataset_0818_add5x_cleanXdis)\n",
    "for k in txt_dataset_0819_16neg:\n",
    "    txt_dataset_0819_16neg[k]['img_negFacts'] = txt_dataset_0819_16neg[k]['img_negFacts'][:16]\n",
    "    txt_dataset_0819_16neg[k]['txt_negFacts'] = txt_dataset_0819_16neg[k]['txt_negFacts'][:16]\n",
    "print(len(img_dataset_0819_16neg), len(txt_dataset_0819_16neg))\n",
    "json.dump(img_dataset_0819_16neg, open(\"/home/yingshac/CYS/WebQnA/WebQnA_data_new/img_dataset_0819_16neg.json\", \"w\"), indent=4)\n",
    "json.dump(txt_dataset_0819_16neg, open(\"/home/yingshac/CYS/WebQnA/WebQnA_data_new/txt_dataset_0819_16neg.json\", \"w\"), indent=4)"
   ]
  },
  {
   "cell_type": "code",
   "execution_count": 50,
   "metadata": {},
   "outputs": [
    {
     "name": "stdout",
     "output_type": "stream",
     "text": [
      "<class 'list'>\n",
      "5084\n"
     ]
    }
   ],
   "source": [
    "tmp = json.load(open(\"/home/yingshac/CYS/WebQnA/WebQnA_data_new/txt_testset_keywords_from_Mridu.json\", \"r\"))\n",
    "print(type(tmp))\n",
    "print(len(tmp))"
   ]
  },
  {
   "cell_type": "code",
   "execution_count": 51,
   "metadata": {},
   "outputs": [
    {
     "name": "stdout",
     "output_type": "stream",
     "text": [
      "5084\n"
     ]
    }
   ],
   "source": [
    "txt_guid2ka = {}\n",
    "for i in tmp:\n",
    "    txt_guid2ka[i['Guid']] = i['ShortAnswer']\n",
    "print(len(txt_guid2ka))"
   ]
  },
  {
   "cell_type": "code",
   "execution_count": 71,
   "metadata": {},
   "outputs": [
    {
     "name": "stdout",
     "output_type": "stream",
     "text": [
      "4695 20267 129\n",
      "Counter({'train': 17812, 'test': 4695, 'val': 2455})\n",
      "24962\n"
     ]
    }
   ],
   "source": [
    "txt_dataset_0819_16neg = json.load(open(\"/home/yingshac/CYS/WebQnA/WebQnA_data_new/txt_dataset_0819_16neg.json\", \"r\"))\n",
    "test_count = 0\n",
    "count = 0\n",
    "remove = 0\n",
    "for k in list(txt_dataset_0819_16neg.keys()):\n",
    "    if txt_dataset_0819_16neg[k]['split'] == 'test':\n",
    "        guid = txt_dataset_0819_16neg[k]['Guid']\n",
    "        assert guid in txt_guid2ka\n",
    "        if txt_guid2ka[guid][0] is None:\n",
    "            remove += 1\n",
    "            del txt_dataset_0819_16neg[k]\n",
    "            continue\n",
    "        txt_dataset_0819_16neg[k]['Keywords_A'] = '\"' + txt_guid2ka[guid][0] + '\"'\n",
    "        test_count += 1\n",
    "    else:\n",
    "        txt_dataset_0819_16neg[k]['Keywords_A'] = []\n",
    "        count += 1\n",
    "print(test_count, count, remove)\n",
    "print(Counter([txt_dataset_0819_16neg[k]['split'] for k in txt_dataset_0819_16neg]))\n",
    "print(len(set([txt_dataset_0819_16neg[k]['Guid'] for k in txt_dataset_0819_16neg])))\n",
    "\n",
    "### Aug 20: add keyword answers to txt_dataset testing set. \n",
    "json.dump(txt_dataset_0819_16neg, open(\"/home/yingshac/CYS/WebQnA/WebQnA_data_new/txt_dataset_0820_addKA.json\", \"w\"), indent=4)"
   ]
  },
  {
   "cell_type": "code",
   "execution_count": null,
   "metadata": {},
   "outputs": [],
   "source": []
  }
 ],
 "metadata": {
  "kernelspec": {
   "display_name": "py37",
   "language": "python",
   "name": "py37"
  },
  "language_info": {
   "codemirror_mode": {
    "name": "ipython",
    "version": 3
   },
   "file_extension": ".py",
   "mimetype": "text/x-python",
   "name": "python",
   "nbconvert_exporter": "python",
   "pygments_lexer": "ipython3",
   "version": "3.7.9"
  }
 },
 "nbformat": 4,
 "nbformat_minor": 4
}
