{
 "cells": [
  {
   "cell_type": "code",
   "execution_count": 1,
   "metadata": {},
   "outputs": [],
   "source": [
    "import json, random, time\n",
    "import numpy as np\n",
    "from pprint import pprint\n",
    "from collections import Counter, defaultdict\n",
    "import seaborn as sns\n",
    "import matplotlib.pyplot as plt\n",
    "import copy\n",
    "import os\n",
    "import re\n",
    "from nltk.corpus import stopwords\n",
    "import pickle\n",
    "import pylcs\n",
    "np.set_printoptions(precision=4)"
   ]
  },
  {
   "cell_type": "code",
   "execution_count": 2,
   "metadata": {},
   "outputs": [],
   "source": [
    "from transformers import BertTokenizer, BertModel\n",
    "tokenizer = BertTokenizer.from_pretrained('bert-base-cased')"
   ]
  },
  {
   "cell_type": "code",
   "execution_count": 136,
   "metadata": {},
   "outputs": [
    {
     "name": "stdout",
     "output_type": "stream",
     "text": [
      "Counter({'train': 17812, 'test': 4076, 'val': 2455})\n",
      "24343\n",
      "Counter({'train': 16448, 'test': 3464, 'val': 2511})\n",
      "Counter({'YesNo': 7430, 'Others': 5823, 'choose': 4693, 'number': 2084, 'color': 1832, 'shape': 561})\n",
      "Counter({'Others': 1058, 'choose': 981, 'YesNo': 935, 'color': 228, 'number': 200, 'shape': 62})\n",
      "22423\n"
     ]
    }
   ],
   "source": [
    "txt_dataset = json.load(open(\"/home/yingshac/CYS/WebQnA/WebQnA_data_new/txt_dataset_0823_clean_te.json\", \"r\"))\n",
    "img_dataset = json.load(open(\"/home/yingshac/CYS/WebQnA/WebQnA_data_new/img_dataset_0823_clean_te.json\", \"r\"))\n",
    "\n",
    "print(Counter([txt_dataset[k]['split'] for k in txt_dataset]))\n",
    "print(len(set([txt_dataset[k]['Guid'] for k in txt_dataset])))\n",
    "\n",
    "print(Counter([img_dataset[k]['split'] for k in img_dataset]))\n",
    "print(Counter([img_dataset[k]['Qcate'] for k in img_dataset]))\n",
    "print(Counter([img_dataset[k]['Qcate'] for k in img_dataset if img_dataset[k]['split'] == 'test']))\n",
    "print(len(set([img_dataset[k]['Guid'] for k in img_dataset])))"
   ]
  },
  {
   "cell_type": "code",
   "execution_count": 4,
   "metadata": {},
   "outputs": [
    {
     "name": "stdout",
     "output_type": "stream",
     "text": [
      "Q_txt_data 24343\n",
      "A_txt_data 40153\n",
      "Q_img_data 22423\n",
      "A_img_data 36351\n",
      "Q_txt_data 24.35410590313437 9.593644956079919\n",
      "A_txt_data 15.775060393992977 14.363007224350644\n",
      "Q_img_data 23.575123756856797 7.447930428251592\n",
      "A_img_data 21.106929658056174 7.885119426596238\n"
     ]
    },
    {
     "data": {
      "image/png": "[encoded data removed]",
      "text/plain": [
       "<Figure size 1152x720 with 4 Axes>"
      ]
     },
     "metadata": {},
     "output_type": "display_data"
    }
   ],
   "source": [
    "### Comparison of length distribution of snippets: \n",
    "# with pos snippets || with neg snippets for img data || with neg snippets for txt data\n",
    "snippet_lengths = {'Q_txt_data': [], 'A_txt_data': [], 'Q_img_data': [], 'A_img_data': []}\n",
    "for k in txt_dataset:\n",
    "    snippet_lengths['Q_txt_data'].append(len(tokenizer.tokenize(txt_dataset[k]['Q'])))\n",
    "    snippet_lengths['A_txt_data'].extend([len(tokenizer.tokenize(a)) for a in txt_dataset[k]['A']])\n",
    "for k in img_dataset:\n",
    "    snippet_lengths['Q_img_data'].append(len(tokenizer.tokenize(img_dataset[k]['Q'])))\n",
    "    snippet_lengths['A_img_data'].extend([len(tokenizer.tokenize(a)) for a in img_dataset[k]['A']])\n",
    "        \n",
    "for k in snippet_lengths:\n",
    "    print(k, len(snippet_lengths[k]))\n",
    "for k in snippet_lengths:\n",
    "    print(k, np.mean(snippet_lengths[k]), np.std(snippet_lengths[k]))\n",
    "    \n",
    "colors = sns.color_palette(\"tab10\")\n",
    "fig, axes = plt.subplots(4, 1, sharex=False, figsize=(16,10))\n",
    "for i, k, color in zip(range(4), list(snippet_lengths.keys()), colors[:4]):\n",
    "    ax = axes[i]\n",
    "    #ax.set(yscale=\"log\")\n",
    "    sns.histplot(snippet_lengths[k], ax=ax, kde=False, bins=40, label=k, color=color)\n",
    "    ax.legend()"
   ]
  },
  {
   "cell_type": "code",
   "execution_count": null,
   "metadata": {},
   "outputs": [],
   "source": [
    "Q_txt_data 25091\n",
    "A_txt_data 45956\n",
    "Q_img_data 25392\n",
    "A_img_data 57297\n",
    "Q_txt_data 23.46602367382727 9.276406800861304\n",
    "A_txt_data 15.714161371746888 13.685776848253361\n",
    "Q_img_data 22.71195652173913 7.043431433240292\n",
    "A_img_data 20.377401958217707 7.632208562214467"
   ]
  },
  {
   "cell_type": "code",
   "execution_count": 5,
   "metadata": {},
   "outputs": [
    {
     "name": "stdout",
     "output_type": "stream",
     "text": [
      "\n",
      "Img data, num(img_posFacts): \n",
      "Counter({1: 12588, 2: 9835})\n",
      "1.4386121393212326 2 1\n",
      "\n",
      "Img data, num(img_negFacts): \n",
      "Counter({16: 21403, 13: 704, 12: 89, 15: 74, 14: 71, 11: 62, 7: 11, 10: 4, 8: 3, 9: 2})\n",
      "15.859296258306204 16 7\n",
      "\n",
      "Img data, num(txt_negFacts): \n",
      "Counter({16: 20622, 0: 134, 13: 130, 14: 120, 10: 119, 15: 119, 12: 118, 1: 118, 8: 115, 6: 113, 11: 113, 2: 106, 5: 104, 7: 104, 9: 97, 4: 96, 3: 95})\n",
      "15.326851893145431 16 0\n"
     ]
    }
   ],
   "source": [
    "print(\"\\nImg data, num(img_posFacts): \")\n",
    "x = [len(img_dataset[k]['img_posFacts']) for k in img_dataset]\n",
    "print(Counter(x))\n",
    "print(np.mean(x), np.max(x), np.min(x))\n",
    "\n",
    "print(\"\\nImg data, num(img_negFacts): \")\n",
    "x = [len(img_dataset[k]['img_negFacts']) for k in img_dataset]\n",
    "print(Counter(x))\n",
    "print(np.mean(x), np.max(x), np.min(x))\n",
    "\n",
    "print(\"\\nImg data, num(txt_negFacts): \")\n",
    "x = [len(img_dataset[k]['txt_negFacts']) for k in img_dataset]\n",
    "print(Counter(x))\n",
    "print(np.mean(x), np.max(x), np.min(x))"
   ]
  },
  {
   "cell_type": "code",
   "execution_count": 6,
   "metadata": {},
   "outputs": [
    {
     "name": "stdout",
     "output_type": "stream",
     "text": [
      "\n",
      "txt data, num(txt_posFacts): \n",
      "Counter({2: 23442, 3: 852, 4: 45, 1: 3, 5: 1})\n",
      "2.0386969560037795 5 1\n",
      "\n",
      "txt data, num(img_negFacts): \n",
      "Counter({16: 13773, 5: 898, 6: 840, 7: 783, 1: 759, 8: 748, 9: 723, 2: 691, 3: 690, 10: 672, 4: 637, 11: 632, 12: 550, 13: 549, 14: 530, 15: 506, 0: 362})\n",
      "12.202604444809596 16 0\n",
      "\n",
      "txt data, num(txt_negFacts): \n",
      "Counter({16: 19109, 10: 482, 8: 479, 7: 472, 9: 467, 13: 465, 11: 442, 12: 438, 6: 438, 15: 430, 5: 427, 14: 412, 4: 226, 3: 54, 2: 2})\n",
      "14.629133631844883 16 2\n"
     ]
    }
   ],
   "source": [
    "print(\"\\ntxt data, num(txt_posFacts): \")\n",
    "x = [len(txt_dataset[k]['txt_posFacts']) for k in txt_dataset]\n",
    "print(Counter(x))\n",
    "print(np.mean(x), np.max(x), np.min(x))\n",
    "\n",
    "print(\"\\ntxt data, num(img_negFacts): \")\n",
    "x = [len(txt_dataset[k]['img_negFacts']) for k in txt_dataset]\n",
    "print(Counter(x))\n",
    "print(np.mean(x), np.max(x), np.min(x))\n",
    "\n",
    "print(\"\\ntxt data, num(txt_negFacts): \")\n",
    "x = [len(txt_dataset[k]['txt_negFacts']) for k in txt_dataset]\n",
    "print(Counter(x))\n",
    "print(np.mean(x), np.max(x), np.min(x))"
   ]
  },
  {
   "cell_type": "code",
   "execution_count": 7,
   "metadata": {},
   "outputs": [
    {
     "name": "stdout",
     "output_type": "stream",
     "text": [
      "[('Other', 2047), ('streets', 2015), ('plaza', 1171), ('mushroom', 738), ('downtown', 715), ('bird', 688), ('car', 621), ('tourist attractions', 552), ('vista', 533), ('civic center', 516), ('Christ Church Cathedral', 495), ('public art', 486), ('world expo pavilion', 467), ('tech institute', 460), ('museum', 453), ('flora', 442), ('Neoclassicism art', 433), ('strange architecture', 413), ('modern artwork', 412), ('college libraries', 410)]\n"
     ]
    }
   ],
   "source": [
    "img_topics = Counter([img_dataset[k]['topic'] for k in img_dataset])\n",
    "print(img_topics.most_common(20))"
   ]
  },
  {
   "cell_type": "code",
   "execution_count": 8,
   "metadata": {},
   "outputs": [
    {
     "name": "stdout",
     "output_type": "stream",
     "text": [
      "pos_imgs 32258\n",
      "neg_imgs_for_img 355613\n",
      "neg_imgs_for_txt 297048\n",
      "pos_imgs 12.284735569471138 7.779889579614249\n",
      "neg_imgs_for_img 12.37771397558582 7.684564784523407\n",
      "neg_imgs_for_txt 16.264122296733188 14.94513553476711\n"
     ]
    },
    {
     "data": {
      "image/png": "[encoded data removed]",
      "text/plain": [
       "<Figure size 1080x864 with 3 Axes>"
      ]
     },
     "metadata": {},
     "output_type": "display_data"
    }
   ],
   "source": [
    "### Comparison of length distribution of img captions: \n",
    "# with pos imgs || with neg imgs for img data || with neg imgs for txt data\n",
    "cap_lengths = {'pos_imgs': [], 'neg_imgs_for_img': [], 'neg_imgs_for_txt': []}\n",
    "for k in img_dataset:\n",
    "    for i in img_dataset[k]['img_posFacts']:\n",
    "        cap_lengths['pos_imgs'].append(len(tokenizer.tokenize(i['caption'].strip())))\n",
    "    for i in img_dataset[k]['img_negFacts']:\n",
    "        cap_lengths['neg_imgs_for_img'].append(len(tokenizer.tokenize(i['caption'].strip())))\n",
    "for k in txt_dataset:\n",
    "    for i in txt_dataset[k]['img_negFacts']:\n",
    "        cap_lengths['neg_imgs_for_txt'].append(len(tokenizer.tokenize(i['caption'].strip())))\n",
    "        \n",
    "for k in cap_lengths:\n",
    "    print(k, len(cap_lengths[k]))\n",
    "for k in cap_lengths:\n",
    "    print(k, np.mean(cap_lengths[k]), np.std(cap_lengths[k]))\n",
    "\n",
    "colors = sns.color_palette(\"tab10\")\n",
    "fig, axes = plt.subplots(3, 1, sharex=False, figsize=(15,12))\n",
    "for i, k, color in zip(range(3), list(cap_lengths.keys()), colors[:3]):\n",
    "    ax = axes[i]\n",
    "    ax.set(xscale=\"log\")\n",
    "    sns.histplot(cap_lengths[k], ax=ax, kde=False, bins=40, label=k, color=color)\n",
    "    ax.legend()"
   ]
  },
  {
   "cell_type": "code",
   "execution_count": 9,
   "metadata": {},
   "outputs": [
    {
     "name": "stdout",
     "output_type": "stream",
     "text": [
      "pos_snippets 49628\n",
      "neg_snippets_for_img 343674\n",
      "neg_snippets_for_txt 356117\n",
      "pos_snippets 65.21256145724188 19.347038651791905\n",
      "neg_snippets_for_img 49.76683426735802 15.334392825559785\n",
      "neg_snippets_for_txt 53.71806456866704 17.5997685882277\n"
     ]
    },
    {
     "data": {
      "image/png": "[encoded data removed]",
      "text/plain": [
       "<Figure size 1080x864 with 3 Axes>"
      ]
     },
     "metadata": {},
     "output_type": "display_data"
    }
   ],
   "source": [
    "### Comparison of length distribution of snippets: \n",
    "# with pos snippets || with neg snippets for img data || with neg snippets for txt data\n",
    "snippet_lengths = {'pos_snippets': [], 'neg_snippets_for_img': [], 'neg_snippets_for_txt': []}\n",
    "for k in txt_dataset:\n",
    "    for f in txt_dataset[k]['txt_posFacts']:\n",
    "        snippet_lengths['pos_snippets'].append(len(tokenizer.tokenize(f['fact'])))\n",
    "    for f in txt_dataset[k]['txt_negFacts']:\n",
    "        snippet_lengths['neg_snippets_for_txt'].append(len(tokenizer.tokenize(f['fact'])))\n",
    "for k in img_dataset:\n",
    "    for f in img_dataset[k]['txt_negFacts']:\n",
    "        snippet_lengths['neg_snippets_for_img'].append(len(tokenizer.tokenize(f['fact'])))\n",
    "        \n",
    "for k in snippet_lengths:\n",
    "    print(k, len(snippet_lengths[k]))\n",
    "for k in snippet_lengths:\n",
    "    print(k, np.mean(snippet_lengths[k]), np.std(snippet_lengths[k]))\n",
    "    \n",
    "colors = sns.color_palette(\"tab10\")\n",
    "fig, axes = plt.subplots(3, 1, sharex=False, figsize=(15,12))\n",
    "for i, k, color in zip(range(3), list(snippet_lengths.keys()), colors[:3]):\n",
    "    ax = axes[i]\n",
    "    #ax.set(yscale=\"log\")\n",
    "    sns.histplot(snippet_lengths[k], ax=ax, kde=False, bins=40, label=k, color=color)\n",
    "    ax.legend()"
   ]
  },
  {
   "cell_type": "code",
   "execution_count": 9,
   "metadata": {},
   "outputs": [
    {
     "data": {
      "text/plain": [
       "dict_keys(['Q', 'A', 'Qtype', 'topic', 'split', 'Qcate', 'Guid', 'word_lists', 'Keywords_A', 'img_posFacts', 'img_negFacts', 'txt_negFacts'])"
      ]
     },
     "execution_count": 9,
     "metadata": {},
     "output_type": "execute_result"
    }
   ],
   "source": [
    "img_dataset['0'].keys()"
   ]
  },
  {
   "cell_type": "markdown",
   "metadata": {},
   "source": [
    "### Filter Lexical Overlap Baseline"
   ]
  },
  {
   "cell_type": "code",
   "execution_count": 17,
   "metadata": {},
   "outputs": [],
   "source": [
    "def compute_retrieval_metrics(pred, gth):\n",
    "    common = len(set(pred).intersection(gth))\n",
    "    RE = common / len(gth)\n",
    "    PR = common / len(pred)\n",
    "    F1 = 2*PR*RE / (PR + RE + 1e-5)\n",
    "    return F1, RE, PR\n",
    "\n",
    "# For the purpose of measuring token-level overlap\n",
    "### Processing: only did stopwords removal + tokenization\n",
    "pattern = re.compile(r'\\b(' + r'|'.join(stopwords.words('english')) + r')\\b\\s*')\n",
    "\n",
    "def compute_vqa_metrics_for_filter_lexical_baseline(cands, a):\n",
    "    if len(cands) == 0: return (0,0,0)\n",
    "    remove_stop_a = pattern.sub('', a)\n",
    "    bow_a = tokenizer.tokenize(remove_stop_a) #normalize_text(a).split()\n",
    "    \n",
    "    F1 = []\n",
    "    EM = 0\n",
    "    RE = []\n",
    "    PR = []\n",
    "    for c in cands:\n",
    "        remove_stop_c = pattern.sub('', c)\n",
    "        bow_c = tokenizer.tokenize(remove_stop_c) #normalize_text(c).split()\n",
    "        cand_length = len(bow_c)\n",
    "        if bow_c == bow_a:\n",
    "            EM = 1\n",
    "        common = Counter(bow_a) & Counter(bow_c)\n",
    "        num_same = sum(common.values())\n",
    "        if num_same == 0:\n",
    "            return (0,0,0,0,0, cand_length)\n",
    "        precision = 1.0 * num_same / len(bow_c)\n",
    "        recall = 1.0 * num_same / len(bow_a)\n",
    "        RE.append(recall)\n",
    "        PR.append(precision)\n",
    "\n",
    "        f1 = 2*precision*recall / (precision + recall + 1e-5)\n",
    "        F1.append(f1)\n",
    "    \n",
    "    PR_avg = np.mean(PR)\n",
    "    RE_avg = np.mean(RE)\n",
    "    F1_avg = np.mean(F1)\n",
    "    F1_max = np.max(F1)\n",
    "    return (F1_avg, F1_max, EM, RE_avg, PR_avg, cand_length)"
   ]
  },
  {
   "cell_type": "code",
   "execution_count": 105,
   "metadata": {},
   "outputs": [
    {
     "name": "stdout",
     "output_type": "stream",
     "text": [
      "4020\n",
      "13151\n",
      "19050\n",
      "24885\n",
      "0\n",
      "4076\n",
      "Counter({16: 3180, 10: 88, 13: 83, 14: 82, 12: 80, 15: 79, 11: 79, 7: 77, 9: 74, 6: 72, 8: 70, 5: 64, 4: 42, 3: 6})\n"
     ]
    }
   ],
   "source": [
    "# For each sample, compute overlap metrics between Q and all facts respectively\n",
    "# Only for testing set\n",
    "\n",
    "guid2posMetrics = {}\n",
    "guid2negMetrics = {}\n",
    "zero_pos = 0\n",
    "count = 0\n",
    "counter = []\n",
    "for k in txt_dataset:\n",
    "    if not txt_dataset[k]['split'] == 'test': continue\n",
    "    count += 1\n",
    "    if count%1000 == 0: print(k)\n",
    "    q = txt_dataset[k]['Q']\n",
    "    guid = txt_dataset[k]['Guid']\n",
    "    guid2posMetrics[guid] = {'F1': [], 'RE': [], 'PR': [], 'lcs_q': [], 'lcs_f': []}\n",
    "    guid2negMetrics[guid] = {'F1': [], 'RE': [], 'PR': [], 'lcs_q': [], 'lcs_f': []} #, 'RE_aug_by_len_bonus': []}\n",
    "\n",
    "\n",
    "    txt_posFacts = txt_dataset[k]['txt_posFacts']\n",
    "    if len(txt_posFacts) == 0: \n",
    "        zero_pos += 1\n",
    "        continue\n",
    "    for f in txt_posFacts:\n",
    "        F1, _, __, RE, PR, cand_length = compute_vqa_metrics_for_filter_lexical_baseline([f['fact']], q)\n",
    "        lcs = pylcs.lcs2(q, f['fact'])\n",
    "        lcs_f = lcs / len(f['fact'])\n",
    "        lcs_q = lcs / len(q)\n",
    "        guid2posMetrics[guid]['F1'].append(F1)\n",
    "        guid2posMetrics[guid]['RE'].append(RE)\n",
    "        guid2posMetrics[guid]['PR'].append(PR)\n",
    "        guid2posMetrics[guid]['lcs_q'].append(lcs_q)\n",
    "        guid2posMetrics[guid]['lcs_f'].append(lcs_f)\n",
    "    \n",
    "    txt_negFacts = txt_dataset[k]['txt_negFacts']\n",
    "    counter.append(len(txt_negFacts))\n",
    "    for d in txt_negFacts:\n",
    "        F1, _, __, RE, PR, cand_length = compute_vqa_metrics_for_filter_lexical_baseline([d['fact']], q)\n",
    "        lcs = pylcs.lcs2(q, d['fact'])\n",
    "        lcs_f = lcs / len(d['fact'])\n",
    "        lcs_q = lcs / len(q)\n",
    "        guid2negMetrics[guid]['F1'].append(F1)\n",
    "        guid2negMetrics[guid]['RE'].append(RE)\n",
    "        guid2negMetrics[guid]['PR'].append(PR)\n",
    "        guid2negMetrics[guid]['lcs_q'].append(lcs_q)\n",
    "        guid2negMetrics[guid]['lcs_f'].append(lcs_f)\n",
    "        \n",
    "        #len_bonus = (cand_length - 45) * 0.01 if cand_length > 45 else 0.0\n",
    "        #guid2negMetrics[guid]['RE_aug_by_len_bonus'].append(RE + len_bonus)\n",
    "\n",
    "assert set(guid2posMetrics.keys()) == set(guid2negMetrics.keys())\n",
    "print(zero_pos)\n",
    "print(count)\n",
    "print(Counter(counter))"
   ]
  },
  {
   "cell_type": "code",
   "execution_count": 106,
   "metadata": {},
   "outputs": [
    {
     "name": "stdout",
     "output_type": "stream",
     "text": [
      "1000\n",
      "2000\n",
      "3000\n",
      "4000\n",
      "4076\n",
      "Counter({16: 2276, 5: 157, 8: 139, 1: 138, 6: 125, 2: 123, 7: 118, 3: 117, 10: 114, 9: 112, 11: 110, 13: 107, 4: 104, 15: 98, 12: 97, 14: 89, 0: 52})\n"
     ]
    }
   ],
   "source": [
    "# For each sample, compute overlap metrics between Q and all facts respectively\n",
    "# txt data, and their negative imgs.\n",
    "# Only for testing set\n",
    "\n",
    "guid2negImgMetrics = {}\n",
    "count = 0\n",
    "counter = []\n",
    "for k in txt_dataset:\n",
    "    if not txt_dataset[k]['split'] == 'test': continue\n",
    "    count += 1\n",
    "    if count%1000 == 0: print(count)\n",
    "    q = txt_dataset[k]['Q']\n",
    "    guid = txt_dataset[k]['Guid']\n",
    "    guid2negImgMetrics[guid] = {'F1': [], 'RE': [], 'PR': [], 'lcs_q': [], 'lcs_f': []} #, 'RE_aug_by_len_bonus': []}\n",
    "\n",
    "    img_negFacts = txt_dataset[k]['img_negFacts']\n",
    "    counter.append(len(img_negFacts))\n",
    "    for d in img_negFacts:\n",
    "        F1, _, __, RE, PR, cand_length = compute_vqa_metrics_for_filter_lexical_baseline([d['caption']], q)\n",
    "        lcs = pylcs.lcs2(q, d['caption'])\n",
    "        lcs_f = lcs / len(d['caption'])\n",
    "        lcs_q = lcs / len(q)\n",
    "        guid2negImgMetrics[guid]['F1'].append(F1)\n",
    "        guid2negImgMetrics[guid]['RE'].append(RE)\n",
    "        guid2negImgMetrics[guid]['PR'].append(PR)\n",
    "        guid2negImgMetrics[guid]['lcs_q'].append(lcs_q)\n",
    "        guid2negImgMetrics[guid]['lcs_f'].append(lcs_f)\n",
    "        \n",
    "        #len_bonus = (cand_length - 10) * (-0.015) if cand_length > 10 else 0.0\n",
    "        #guid2negImgMetrics[guid]['RE_aug_by_len_bonus'].append(RE + len_bonus)\n",
    "        \n",
    "assert set(guid2negMetrics.keys()) == set(guid2negImgMetrics.keys())\n",
    "print(count)\n",
    "print(Counter(counter))"
   ]
  },
  {
   "cell_type": "code",
   "execution_count": 107,
   "metadata": {},
   "outputs": [
    {
     "name": "stdout",
     "output_type": "stream",
     "text": [
      "1000\n",
      "2000\n",
      "3000\n",
      "3464\n",
      "Counter({16: 3162, 0: 24, 2: 24, 6: 24, 10: 23, 4: 23, 13: 22, 11: 21, 1: 21, 3: 18, 7: 17, 8: 17, 9: 14, 14: 14, 12: 14, 5: 13, 15: 13})\n"
     ]
    }
   ],
   "source": [
    "# For each sample, compute overlap metrics between Q and all facts respectively\n",
    "# img data, and their negative snippets. \n",
    "# Only for testing set\n",
    "\n",
    "guid2negMetrics_img_data = {}\n",
    "count = 0\n",
    "counter = []\n",
    "\n",
    "for k in img_dataset:\n",
    "    if not img_dataset[k]['split'] == 'test': continue\n",
    "    count += 1\n",
    "    if count%1000 == 0: print(count)\n",
    "    q = img_dataset[k]['Q']\n",
    "    guid = img_dataset[k]['Guid']\n",
    "    guid2negMetrics_img_data[guid] = {'F1': [], 'RE': [], 'PR': [], 'lcs_q': [], 'lcs_f': []} #, 'RE_aug_by_len_bonus': []}\n",
    "    \n",
    "    txt_negFacts = img_dataset[k]['txt_negFacts']\n",
    "    counter.append(len(txt_negFacts))\n",
    "    for d in txt_negFacts:\n",
    "        F1, _, __, RE, PR, cand_length = compute_vqa_metrics_for_filter_lexical_baseline([d['fact']], q)\n",
    "        lcs = pylcs.lcs2(q, d['fact'])\n",
    "        lcs_f = lcs / len(d['fact'])\n",
    "        lcs_q = lcs / len(q)\n",
    "        guid2negMetrics_img_data[guid]['F1'].append(F1)\n",
    "        guid2negMetrics_img_data[guid]['RE'].append(RE)\n",
    "        guid2negMetrics_img_data[guid]['PR'].append(PR)\n",
    "        guid2negMetrics_img_data[guid]['lcs_q'].append(lcs_q)\n",
    "        guid2negMetrics_img_data[guid]['lcs_f'].append(lcs_f)\n",
    "        \n",
    "        #len_bonus = (cand_length - 43) * 0.02 if cand_length > 43 else 0.0\n",
    "        #guid2negMetrics_img_data[guid]['RE_aug_by_len_bonus'].append(RE + len_bonus)\n",
    "\n",
    "print(count)\n",
    "print(Counter(counter))"
   ]
  },
  {
   "cell_type": "code",
   "execution_count": 108,
   "metadata": {},
   "outputs": [
    {
     "name": "stdout",
     "output_type": "stream",
     "text": [
      "1000\n",
      "2000\n",
      "3000\n",
      "3464\n",
      "Counter({16: 3309, 13: 107, 12: 16, 14: 11, 11: 11, 15: 8, 7: 1, 10: 1})\n"
     ]
    }
   ],
   "source": [
    "# For each sample, compute overlap metrics between Q and all facts respectively\n",
    "# img data, and their negative imgs. \n",
    "# Prefer shorter neg img captions\n",
    "\n",
    "guid2negImgMetrics_img_data = {}\n",
    "guid2posImgMetrics_img_data = {}\n",
    "count = 0\n",
    "counter = []\n",
    "for k in img_dataset:\n",
    "    if not img_dataset[k]['split'] == 'test': continue\n",
    "    count += 1\n",
    "    if count%1000 == 0: print(count)\n",
    "    q = img_dataset[k]['Q']\n",
    "    guid = img_dataset[k]['Guid']\n",
    "    guid2posImgMetrics_img_data[guid] = {'F1': [], 'RE': [], 'PR': [], 'lcs_q': [], 'lcs_f': []}\n",
    "    guid2negImgMetrics_img_data[guid] = {'F1': [], 'RE': [], 'PR': [], 'lcs_q': [], 'lcs_f': []} #, 'RE_aug_by_len_bonus': []}\n",
    "    \n",
    "    img_posFacts = img_dataset[k]['img_posFacts']\n",
    "    for d in img_posFacts:\n",
    "        F1, _, __, RE, PR, cand_length = compute_vqa_metrics_for_filter_lexical_baseline([d['caption']], q)\n",
    "        lcs = pylcs.lcs2(q, d['caption'])\n",
    "        lcs_f = lcs / len(d['caption'])\n",
    "        lcs_q = lcs / len(q)\n",
    "        guid2posImgMetrics_img_data[guid]['F1'].append(F1)\n",
    "        guid2posImgMetrics_img_data[guid]['RE'].append(RE)\n",
    "        guid2posImgMetrics_img_data[guid]['PR'].append(PR)\n",
    "        guid2posImgMetrics_img_data[guid]['lcs_q'].append(lcs_q)\n",
    "        guid2posImgMetrics_img_data[guid]['lcs_f'].append(lcs_f)\n",
    "        \n",
    "    img_negFacts = img_dataset[k]['img_negFacts']\n",
    "    counter.append(len(img_negFacts))\n",
    "    for d in img_negFacts:\n",
    "        F1, _, __, RE, PR, cand_length = compute_vqa_metrics_for_filter_lexical_baseline([d['caption']], q)\n",
    "        lcs = pylcs.lcs2(q, d['caption'])\n",
    "        lcs_f = lcs / len(d['caption'])\n",
    "        lcs_q = lcs / len(q)\n",
    "        guid2negImgMetrics_img_data[guid]['F1'].append(F1)\n",
    "        guid2negImgMetrics_img_data[guid]['RE'].append(RE)\n",
    "        guid2negImgMetrics_img_data[guid]['PR'].append(PR)\n",
    "        guid2negImgMetrics_img_data[guid]['lcs_q'].append(lcs_q)\n",
    "        guid2negImgMetrics_img_data[guid]['lcs_f'].append(lcs_f)\n",
    "        \n",
    "        #len_bonus = (cand_length - 10) * (-0.01) if cand_length > 10 else 0.0\n",
    "        #guid2negImgMetrics_img_data[guid]['RE_aug_by_len_bonus'].append(RE + len_bonus)\n",
    "        \n",
    "assert set(guid2negImgMetrics_img_data.keys()) == set(guid2negMetrics_img_data.keys()) == set(guid2posImgMetrics_img_data.keys())\n",
    "print(count)\n",
    "print(Counter(counter))"
   ]
  },
  {
   "cell_type": "code",
   "execution_count": 60,
   "metadata": {},
   "outputs": [
    {
     "name": "stdout",
     "output_type": "stream",
     "text": [
      "[0.6, 0.3333333333333333]\n",
      "[0.4666666666666667, 0.3333333333333333, 0.26666666666666666, 0.26666666666666666, 0.3333333333333333, 0.3333333333333333, 0.13333333333333333, 0.26666666666666666, 0.26666666666666666, 0.06666666666666667, 0.13333333333333333, 0.2, 0.2, 0.2, 0.2, 0.2]\n"
     ]
    }
   ],
   "source": [
    "guid = random.sample(list(guid2negMetrics.keys()), 1)[0]\n",
    "print(guid2posMetrics[guid]['RE'])\n",
    "print(guid2negMetrics[guid]['RE'])\n",
    "#print(guid2negMetrics_img_data[guid]['RE'])"
   ]
  },
  {
   "cell_type": "code",
   "execution_count": 117,
   "metadata": {},
   "outputs": [],
   "source": [
    "# randomly break ties\n",
    "def argmax(n, L):\n",
    "    l = copy.deepcopy(L)\n",
    "    assert n <= len(l)\n",
    "    result = []\n",
    "    while len(result) < n:\n",
    "        m = np.max(l)\n",
    "        idx = random.choice([i for i in range(len(l)) if l[i] == m])\n",
    "        result.append(idx)\n",
    "        l[idx] = - 10000\n",
    "    return result"
   ]
  },
  {
   "cell_type": "code",
   "execution_count": 132,
   "metadata": {},
   "outputs": [
    {
     "name": "stdout",
     "output_type": "stream",
     "text": [
      "4076\n",
      "F1\n",
      "   F1 =  0.4517710180529249\n",
      "   RE =  0.44996319921491656\n",
      "   PR =  0.45456329735034345\n",
      "RE\n",
      "   F1 =  0.6016409849768525\n",
      "   RE =  0.5989614000654235\n",
      "   PR =  0.6057531894013739\n",
      "PR\n",
      "   F1 =  0.3575206790731267\n",
      "   RE =  0.35611301929996725\n",
      "   PR =  0.3596908734052993\n",
      "lcs_q\n",
      "   F1 =  0.5794331259728277\n",
      "   RE =  0.5767255479228001\n",
      "   PR =  0.5835868498527969\n",
      "lcs_f\n",
      "   F1 =  0.4209731046715239\n",
      "   RE =  0.41918547595682043\n",
      "   PR =  0.42372423945044163\n"
     ]
    }
   ],
   "source": [
    "# Performance of top2<m> lexical overlap baseline, txt data, known modality \n",
    "assert len(guid2posMetrics) == len(guid2negMetrics)\n",
    "print(len(guid2posMetrics))\n",
    "for m in ['F1', 'RE', 'PR', 'lcs_q', 'lcs_f']:\n",
    "    F1s = []\n",
    "    REs = []\n",
    "    PRs = []\n",
    "    print(m)\n",
    "    for i in range(10):\n",
    "        for guid in guid2posMetrics:\n",
    "            f_scores = guid2posMetrics[guid][m]\n",
    "            all_scores = np.array((f_scores + guid2negMetrics[guid][m])[:16])\n",
    "            pred = argmax(2, all_scores)\n",
    "            gth = range(len(guid2posMetrics[guid][m]))\n",
    "            F1, RE, PR = compute_retrieval_metrics(pred, gth)\n",
    "            F1s.append(F1)\n",
    "            REs.append(RE)\n",
    "            PRs.append(PR)\n",
    "    print('   F1 = ', np.mean(F1s))\n",
    "    print('   RE = ', np.mean(REs))\n",
    "    print('   PR = ', np.mean(PRs))"
   ]
  },
  {
   "cell_type": "code",
   "execution_count": 133,
   "metadata": {},
   "outputs": [
    {
     "name": "stdout",
     "output_type": "stream",
     "text": [
      "4076\n",
      "F1\n",
      "   F1 =  0.33480829663626605\n",
      "   RE =  0.3336481844946025\n",
      "   PR =  0.33661678115799804\n",
      "RE\n",
      "   F1 =  0.5847699360807259\n",
      "   RE =  0.5821904645076873\n",
      "   PR =  0.5887266928361138\n",
      "PR\n",
      "   F1 =  0.13588936444499666\n",
      "   RE =  0.13541871115472684\n",
      "   PR =  0.13662904808635917\n",
      "lcs_q\n",
      "   F1 =  0.548042211506923\n",
      "   RE =  0.5456370624795551\n",
      "   PR =  0.5517419038272816\n",
      "lcs_f\n",
      "   F1 =  0.0998052998561562\n",
      "   RE =  0.09957065750736015\n",
      "   PR =  0.1001594700686948\n"
     ]
    }
   ],
   "source": [
    "# Performance of top2<m> lexical overlap baseline, txt data, UNknown modality \n",
    "assert len(guid2posMetrics) == len(guid2negMetrics) == len(guid2negImgMetrics)\n",
    "print(len(guid2posMetrics))\n",
    "for m in ['F1', 'RE', 'PR', 'lcs_q', 'lcs_f']:\n",
    "    F1s = []\n",
    "    REs = []\n",
    "    PRs = []\n",
    "    print(m)\n",
    "    for i in range(10):\n",
    "        for guid in guid2posMetrics:\n",
    "            f_scores = guid2posMetrics[guid][m]\n",
    "            all_scores = np.array((f_scores + guid2negMetrics[guid][m])[:16] + guid2negImgMetrics[guid][m])\n",
    "            pred = argmax(2, all_scores)\n",
    "            gth = range(len(guid2posMetrics[guid][m]))\n",
    "            F1, RE, PR = compute_retrieval_metrics(pred, gth)\n",
    "            F1s.append(F1)\n",
    "            REs.append(RE)\n",
    "            PRs.append(PR)\n",
    "    print('   F1 = ', np.mean(F1s))\n",
    "    print('   RE = ', np.mean(REs))\n",
    "    print('   PR = ', np.mean(PRs))"
   ]
  },
  {
   "cell_type": "code",
   "execution_count": 134,
   "metadata": {},
   "outputs": [
    {
     "name": "stdout",
     "output_type": "stream",
     "text": [
      "3464\n",
      "F1\n",
      "   F1 =  0.5621641517313652\n",
      "   RE =  0.7144197459584296\n",
      "   PR =  0.48604214780600463\n",
      "RE\n",
      "   F1 =  0.5152725564806033\n",
      "   RE =  0.6572892609699769\n",
      "   PR =  0.44426963048498846\n",
      "PR\n",
      "   F1 =  0.5397912936187003\n",
      "   RE =  0.6882361431870669\n",
      "   PR =  0.465574480369515\n",
      "lcs_q\n",
      "   F1 =  0.4977447683093919\n",
      "   RE =  0.6336027713625866\n",
      "   PR =  0.42982101616628177\n",
      "lcs_f\n",
      "   F1 =  0.5122510148459529\n",
      "   RE =  0.6551241339491917\n",
      "   PR =  0.4408198614318707\n"
     ]
    }
   ],
   "source": [
    "# Performance of top2<m> lexical overlap baseline, img data, known modality \n",
    "assert len(guid2posImgMetrics_img_data) == len(guid2negImgMetrics_img_data)\n",
    "print(len(guid2posImgMetrics_img_data))\n",
    "for m in ['F1', 'RE', 'PR', 'lcs_q', 'lcs_f']:\n",
    "    F1s = []\n",
    "    REs = []\n",
    "    PRs = []\n",
    "    print(m)\n",
    "    for i in range(10):\n",
    "        for guid in guid2posImgMetrics_img_data:\n",
    "            f_scores = guid2posImgMetrics_img_data[guid][m]\n",
    "            all_scores = np.array(f_scores + guid2negImgMetrics_img_data[guid][m])[:16]\n",
    "            try: pred = argmax(2, all_scores)\n",
    "            except: print(all_scores)\n",
    "            gth = range(len(guid2posImgMetrics_img_data[guid][m]))\n",
    "            F1, RE, PR = compute_retrieval_metrics(pred, gth)\n",
    "            F1s.append(F1)\n",
    "            REs.append(RE)\n",
    "            PRs.append(PR)\n",
    "    print('   F1 = ', np.mean(F1s))\n",
    "    print('   RE = ', np.mean(REs))\n",
    "    print('   PR = ', np.mean(PRs))"
   ]
  },
  {
   "cell_type": "code",
   "execution_count": 135,
   "metadata": {},
   "outputs": [
    {
     "name": "stdout",
     "output_type": "stream",
     "text": [
      "3464\n",
      "F1\n",
      "   F1 =  0.46405558942060854\n",
      "   RE =  0.5907909930715936\n",
      "   PR =  0.4006928406466513\n",
      "RE\n",
      "   F1 =  0.2440801780356611\n",
      "   RE =  0.3171189376443418\n",
      "   PR =  0.2075635103926097\n",
      "PR\n",
      "   F1 =  0.5158259000777442\n",
      "   RE =  0.6551674364896074\n",
      "   PR =  0.4461605080831409\n",
      "lcs_q\n",
      "   F1 =  0.2667897966537974\n",
      "   RE =  0.3384815242494226\n",
      "   PR =  0.23094688221709006\n",
      "lcs_f\n",
      "   F1 =  0.5179428615230636\n",
      "   RE =  0.6618071593533488\n",
      "   PR =  0.4460161662817552\n"
     ]
    }
   ],
   "source": [
    "# Performance of top2<m> lexical overlap baseline, img data, UNknown modality \n",
    "assert len(guid2posImgMetrics_img_data) == len(guid2negMetrics_img_data) == len(guid2negImgMetrics_img_data)\n",
    "print(len(guid2posImgMetrics_img_data))\n",
    "for m in ['F1', 'RE', 'PR', 'lcs_q', 'lcs_f']:\n",
    "    F1s = []\n",
    "    REs = []\n",
    "    PRs = []\n",
    "    print(m)\n",
    "    for i in range(10):\n",
    "        for guid in guid2posImgMetrics_img_data:\n",
    "            f_scores = guid2posImgMetrics_img_data[guid][m]\n",
    "            all_scores = np.array((f_scores + guid2negImgMetrics_img_data[guid][m])[:16] + guid2negMetrics_img_data[guid][m])\n",
    "            pred = all_scores.argsort()[-2:][::-1]\n",
    "            gth = range(len(guid2posImgMetrics_img_data[guid][m]))\n",
    "            F1, RE, PR = compute_retrieval_metrics(pred, gth)\n",
    "            F1s.append(F1)\n",
    "            REs.append(RE)\n",
    "            PRs.append(PR)\n",
    "    print('   F1 = ', np.mean(F1s))\n",
    "    print('   RE = ', np.mean(REs))\n",
    "    print('   PR = ', np.mean(PRs))"
   ]
  },
  {
   "cell_type": "code",
   "execution_count": null,
   "metadata": {},
   "outputs": [],
   "source": [
    "# lcs2: longest common substring (should not skip characters)"
   ]
  }
 ],
 "metadata": {
  "kernelspec": {
   "display_name": "py37",
   "language": "python",
   "name": "py37"
  },
  "language_info": {
   "codemirror_mode": {
    "name": "ipython",
    "version": 3
   },
   "file_extension": ".py",
   "mimetype": "text/x-python",
   "name": "python",
   "nbconvert_exporter": "python",
   "pygments_lexer": "ipython3",
   "version": "3.7.9"
  }
 },
 "nbformat": 4,
 "nbformat_minor": 4
}
