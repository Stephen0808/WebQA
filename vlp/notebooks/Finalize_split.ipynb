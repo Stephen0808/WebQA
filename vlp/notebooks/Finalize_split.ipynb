{
 "cells": [
  {
   "cell_type": "markdown",
   "metadata": {},
   "source": [
    "### [color shape number] splits were decided based on Counters\n",
    "\n",
    "Jul 21 Update: What colour (), What's the colour (1), What is the colour (5), Which colour (3) previously sneaked into \"Others\". They've been brought back to \"color\". Those with 'blue' or 'purple' as answers are put into test set. Qcate statistics in this notebook may be different from the previous ones for Qcate assignments and splits.\n",
    "\n",
    "### [YesNo choose] splits were decided based on model performance (fail 3/3 times)\n",
    "### [Others] split will be decided randomly, with 19.5% falling into ood. [Others] is considered intrinsically hard"
   ]
  },
  {
   "cell_type": "code",
   "execution_count": 2,
   "metadata": {},
   "outputs": [],
   "source": [
    "import json\n",
    "import random\n",
    "import copy\n",
    "import numpy as np\n",
    "import pickle\n",
    "from collections import Counter\n",
    "import pandas as pd\n",
    "pd.options.display.float_format = \"{:,.2f}\".format"
   ]
  },
  {
   "cell_type": "code",
   "execution_count": 5,
   "metadata": {},
   "outputs": [
    {
     "name": "stdout",
     "output_type": "stream",
     "text": [
      "Counter({'YesNo': 8432, 'Others': 6748, 'choose': 5240, 'number': 2341, 'color': 2044, 'shape': 662})\n",
      "25467\n",
      "Counter({1: 14337, 2: 11130})\n",
      "[233, 338, 443, 1233, 1234, 2141, 2361]\n"
     ]
    }
   ],
   "source": [
    "# Sanity check after img_dataset_J_Qcate.json is fixed\n",
    "dataset_J_under_processing = json.load(open(\"/home/yingshac/CYS/WebQnA/WebQnA_data_new/img_data_J_color_shape_number_have_split.json\", \"r\"))\n",
    "print(Counter([dataset_J_under_processing[k]['Qcate'] for k in dataset_J_under_processing]))\n",
    "print(len(set([dataset_J_under_processing[k]['Guid'] for k in dataset_J_under_processing])))\n",
    "print(Counter([len(dataset_J_under_processing[j]['GoldIds']) for j in dataset_J_under_processing]))\n",
    "print([k for k in range(25474) if str(k) not in dataset_J_under_processing])"
   ]
  },
  {
   "cell_type": "code",
   "execution_count": 7,
   "metadata": {},
   "outputs": [
    {
     "name": "stdout",
     "output_type": "stream",
     "text": [
      "2129\n"
     ]
    }
   ],
   "source": [
    "YesNo_choose_ood_guids = pickle.load(open(\"/home/yingshac/CYS/WebQnA/WebQnA_data_new/YesNo_choose_ood_guid.pkl\", \"rb\"))\n",
    "print(len(YesNo_choose_ood_guids))"
   ]
  },
  {
   "cell_type": "code",
   "execution_count": 21,
   "metadata": {},
   "outputs": [],
   "source": [
    "for k in dataset_J_under_processing:\n",
    "    if dataset_J_under_processing[k]['Qcate'] in ['YesNo', 'choose']:\n",
    "        if dataset_J_under_processing[k]['Guid'] in YesNo_choose_ood_guids:\n",
    "            dataset_J_under_processing[k][\"split\"] = 'ood_test'\n",
    "        elif random.random() < 0.77:\n",
    "            dataset_J_under_processing[k][\"split\"] = 'train'\n",
    "        elif random.random() < 0.5:\n",
    "            dataset_J_under_processing[k][\"split\"] = 'val'\n",
    "        else:\n",
    "            dataset_J_under_processing[k][\"split\"] = 'ind_test'\n",
    "    elif dataset_J_under_processing[k]['Qcate'] == 'Others':\n",
    "        if random.random() < 0.195:\n",
    "            dataset_J_under_processing[k][\"split\"] = 'ood_test'\n",
    "        elif random.random() < 0.75:\n",
    "            dataset_J_under_processing[k][\"split\"] = 'train'\n",
    "        elif random.random() < 0.5:\n",
    "            dataset_J_under_processing[k][\"split\"] = 'val'\n",
    "        else:\n",
    "            dataset_J_under_processing[k][\"split\"] = 'ind_test'\n",
    "    elif dataset_J_under_processing[k]['Qcate'] in ['number', 'color', 'shape']:\n",
    "        pass\n",
    "    else:\n",
    "        print(\"wtf???\")"
   ]
  },
  {
   "cell_type": "code",
   "execution_count": 23,
   "metadata": {},
   "outputs": [],
   "source": [
    "# json.dump(dataset_J_under_processing, open(\"/home/yingshac/CYS/WebQnA/WebQnA_data_new/dataset_J_split_finalized0629.json\", \"w\"), indent=4)\n",
    "\n",
    "# This version was finalized on Jun 29"
   ]
  },
  {
   "cell_type": "markdown",
   "metadata": {},
   "source": [
    "### After Jul 21 Update"
   ]
  },
  {
   "cell_type": "code",
   "execution_count": 2,
   "metadata": {},
   "outputs": [
    {
     "name": "stdout",
     "output_type": "stream",
     "text": [
      "25467\n",
      "Counter({1: 14337, 2: 11130})\n",
      "[233, 338, 443, 1233, 1234, 2141, 2361]\n"
     ]
    }
   ],
   "source": [
    "dataset_J_under_processing = json.load(open(\"/home/yingshac/CYS/WebQnA/WebQnA_data_new/dataset_J_split_update0721.json\", \"r\"))\n",
    "print(len(set([dataset_J_under_processing[k]['Guid'] for k in dataset_J_under_processing])))\n",
    "print(Counter([len(dataset_J_under_processing[j]['GoldIds']) for j in dataset_J_under_processing]))\n",
    "print([k for k in range(25474) if str(k) not in dataset_J_under_processing])\n",
    "print(Counter([dataset_J_under_processing[k]['Qcate'] for k in dataset_J_under_processing]))"
   ]
  },
  {
   "cell_type": "code",
   "execution_count": 7,
   "metadata": {},
   "outputs": [
    {
     "name": "stdout",
     "output_type": "stream",
     "text": [
      "Counter({'YesNo': 8432, 'Others': 6721, 'choose': 5240, 'number': 2341, 'color': 2071, 'shape': 662})\n"
     ]
    }
   ],
   "source": [
    "for k in dataset_J_under_processing:\n",
    "    if any([x in dataset_J_under_processing[k]['Q'].lower() for x in ['which colour', 'what colour', \"what's the colour\", 'what is the colour']]):\n",
    "        assert dataset_J_under_processing[k]['Qcate'] == 'color'\n",
    "        if any([b in dataset_J_under_processing[k]['A'].lower() for b in ['blue', 'purple']]):\n",
    "            assert dataset_J_under_processing[k]['split'] == 'ood_test'\n",
    "        else:\n",
    "            assert not dataset_J_under_processing[k]['split'] == 'ood_test'\n",
    "print(Counter([dataset_J_under_processing[k]['Qcate'] for k in dataset_J_under_processing]))"
   ]
  },
  {
   "cell_type": "code",
   "execution_count": 8,
   "metadata": {},
   "outputs": [
    {
     "data": {
      "text/html": [
       "<div>\n",
       "<style scoped>\n",
       "    .dataframe tbody tr th:only-of-type {\n",
       "        vertical-align: middle;\n",
       "    }\n",
       "\n",
       "    .dataframe tbody tr th {\n",
       "        vertical-align: top;\n",
       "    }\n",
       "\n",
       "    .dataframe thead th {\n",
       "        text-align: right;\n",
       "    }\n",
       "</style>\n",
       "<table border=\"1\" class=\"dataframe\">\n",
       "  <thead>\n",
       "    <tr style=\"text-align: right;\">\n",
       "      <th></th>\n",
       "      <th>ood_test</th>\n",
       "      <th>train</th>\n",
       "      <th>val</th>\n",
       "      <th>ind_test</th>\n",
       "    </tr>\n",
       "  </thead>\n",
       "  <tbody>\n",
       "    <tr>\n",
       "      <th>YesNo</th>\n",
       "      <td>1109</td>\n",
       "      <td>5670</td>\n",
       "      <td>828</td>\n",
       "      <td>825</td>\n",
       "    </tr>\n",
       "    <tr>\n",
       "      <th>choose</th>\n",
       "      <td>1020</td>\n",
       "      <td>3210</td>\n",
       "      <td>502</td>\n",
       "      <td>508</td>\n",
       "    </tr>\n",
       "    <tr>\n",
       "      <th>Others</th>\n",
       "      <td>1302</td>\n",
       "      <td>4101</td>\n",
       "      <td>669</td>\n",
       "      <td>649</td>\n",
       "    </tr>\n",
       "    <tr>\n",
       "      <th>number</th>\n",
       "      <td>221</td>\n",
       "      <td>1626</td>\n",
       "      <td>260</td>\n",
       "      <td>234</td>\n",
       "    </tr>\n",
       "    <tr>\n",
       "      <th>color</th>\n",
       "      <td>239</td>\n",
       "      <td>1426</td>\n",
       "      <td>180</td>\n",
       "      <td>226</td>\n",
       "    </tr>\n",
       "    <tr>\n",
       "      <th>shape</th>\n",
       "      <td>97</td>\n",
       "      <td>425</td>\n",
       "      <td>74</td>\n",
       "      <td>66</td>\n",
       "    </tr>\n",
       "    <tr>\n",
       "      <th>Total</th>\n",
       "      <td>3988</td>\n",
       "      <td>16458</td>\n",
       "      <td>2513</td>\n",
       "      <td>2508</td>\n",
       "    </tr>\n",
       "  </tbody>\n",
       "</table>\n",
       "</div>"
      ],
      "text/plain": [
       "       ood_test  train   val ind_test\n",
       "YesNo      1109   5670   828      825\n",
       "choose     1020   3210   502      508\n",
       "Others     1302   4101   669      649\n",
       "number      221   1626   260      234\n",
       "color       239   1426   180      226\n",
       "shape        97    425    74       66\n",
       "Total      3988  16458  2513     2508"
      ]
     },
     "execution_count": 8,
     "metadata": {},
     "output_type": "execute_result"
    }
   ],
   "source": [
    "index = ['YesNo', 'choose', 'Others', 'number', 'color', 'shape', 'Total']\n",
    "columns = ['ood_test', 'train', 'val', 'ind_test']\n",
    "split_df = pd.DataFrame(index = index, columns = columns)\n",
    "for i in index:\n",
    "    for col in columns:\n",
    "        if i == 'Total':\n",
    "            split_df.loc[i, col] = len([k for k in dataset_J_under_processing if dataset_J_under_processing[k]['split'] == col])\n",
    "        else:\n",
    "            split_df.loc[i, col] = len([k for k in dataset_J_under_processing if dataset_J_under_processing[k]['Qcate'] == i and dataset_J_under_processing[k]['split'] == col])\n",
    "split_df.head(7)"
   ]
  },
  {
   "cell_type": "code",
   "execution_count": 14,
   "metadata": {},
   "outputs": [
    {
     "data": {
      "text/html": [
       "<div>\n",
       "<style scoped>\n",
       "    .dataframe tbody tr th:only-of-type {\n",
       "        vertical-align: middle;\n",
       "    }\n",
       "\n",
       "    .dataframe tbody tr th {\n",
       "        vertical-align: top;\n",
       "    }\n",
       "\n",
       "    .dataframe thead th {\n",
       "        text-align: right;\n",
       "    }\n",
       "</style>\n",
       "<table border=\"1\" class=\"dataframe\">\n",
       "  <thead>\n",
       "    <tr style=\"text-align: right;\">\n",
       "      <th></th>\n",
       "      <th>ood_test</th>\n",
       "      <th>train</th>\n",
       "      <th>val</th>\n",
       "      <th>ind_test</th>\n",
       "    </tr>\n",
       "  </thead>\n",
       "  <tbody>\n",
       "    <tr>\n",
       "      <th>YesNo</th>\n",
       "      <td>0.13</td>\n",
       "      <td>0.67</td>\n",
       "      <td>0.10</td>\n",
       "      <td>0.10</td>\n",
       "    </tr>\n",
       "    <tr>\n",
       "      <th>choose</th>\n",
       "      <td>0.19</td>\n",
       "      <td>0.61</td>\n",
       "      <td>0.10</td>\n",
       "      <td>0.10</td>\n",
       "    </tr>\n",
       "    <tr>\n",
       "      <th>Others</th>\n",
       "      <td>0.19</td>\n",
       "      <td>0.61</td>\n",
       "      <td>0.10</td>\n",
       "      <td>0.10</td>\n",
       "    </tr>\n",
       "    <tr>\n",
       "      <th>number</th>\n",
       "      <td>0.09</td>\n",
       "      <td>0.69</td>\n",
       "      <td>0.11</td>\n",
       "      <td>0.10</td>\n",
       "    </tr>\n",
       "    <tr>\n",
       "      <th>color</th>\n",
       "      <td>0.12</td>\n",
       "      <td>0.69</td>\n",
       "      <td>0.09</td>\n",
       "      <td>0.11</td>\n",
       "    </tr>\n",
       "    <tr>\n",
       "      <th>shape</th>\n",
       "      <td>0.15</td>\n",
       "      <td>0.64</td>\n",
       "      <td>0.11</td>\n",
       "      <td>0.10</td>\n",
       "    </tr>\n",
       "    <tr>\n",
       "      <th>Total</th>\n",
       "      <td>0.16</td>\n",
       "      <td>0.65</td>\n",
       "      <td>0.10</td>\n",
       "      <td>0.10</td>\n",
       "    </tr>\n",
       "  </tbody>\n",
       "</table>\n",
       "</div>"
      ],
      "text/plain": [
       "       ood_test train  val ind_test\n",
       "YesNo      0.13  0.67 0.10     0.10\n",
       "choose     0.19  0.61 0.10     0.10\n",
       "Others     0.19  0.61 0.10     0.10\n",
       "number     0.09  0.69 0.11     0.10\n",
       "color      0.12  0.69 0.09     0.11\n",
       "shape      0.15  0.64 0.11     0.10\n",
       "Total      0.16  0.65 0.10     0.10"
      ]
     },
     "execution_count": 14,
     "metadata": {},
     "output_type": "execute_result"
    }
   ],
   "source": [
    "split_ratio_df = pd.DataFrame(index = index, columns = columns)\n",
    "denos = [8432, 5240, 6721, 2341, 2071, 662, 25467]\n",
    "assert sum(denos) == 25467*2\n",
    "index2total = dict(zip(index, denos))\n",
    "for i in index:\n",
    "    for col in columns:\n",
    "        split_ratio_df.loc[i, col] = split_df.loc[i, col] / index2total[i]\n",
    "split_ratio_df.head(7)"
   ]
  },
  {
   "cell_type": "code",
   "execution_count": 12,
   "metadata": {},
   "outputs": [
    {
     "name": "stdout",
     "output_type": "stream",
     "text": [
      "Counter({'YesNo': 8432, 'Others': 6721, 'choose': 5240, 'number': 2341, 'color': 2071, 'shape': 662})\n",
      "25467\n",
      "Counter({1: 14337, 2: 11130})\n",
      "Counter({'train': 16458, 'ood_test': 3988, 'val': 2513, 'ind_test': 2508})\n",
      "[233, 338, 443, 1233, 1234, 2141, 2361]\n"
     ]
    }
   ],
   "source": [
    "dataset_J_split_finalized0629 = json.load(open(\"/home/yingshac/CYS/WebQnA/WebQnA_data_new/dataset_J_split_update0721.json\", \"r\"))\n",
    "print(Counter([dataset_J_split_finalized0629[k]['Qcate'] for k in dataset_J_split_finalized0629]))\n",
    "print(len(set([dataset_J_split_finalized0629[k]['Guid'] for k in dataset_J_split_finalized0629])))\n",
    "print(Counter([len(dataset_J_split_finalized0629[j]['GoldIds']) for j in dataset_J_split_finalized0629]))\n",
    "print(Counter([dataset_J_split_finalized0629[j]['split'] for j in dataset_J_split_finalized0629]))\n",
    "print([k for k in range(25474) if str(k) not in dataset_J_split_finalized0629])"
   ]
  },
  {
   "cell_type": "code",
   "execution_count": 15,
   "metadata": {},
   "outputs": [
    {
     "data": {
      "text/html": [
       "<div>\n",
       "<style scoped>\n",
       "    .dataframe tbody tr th:only-of-type {\n",
       "        vertical-align: middle;\n",
       "    }\n",
       "\n",
       "    .dataframe tbody tr th {\n",
       "        vertical-align: top;\n",
       "    }\n",
       "\n",
       "    .dataframe thead th {\n",
       "        text-align: right;\n",
       "    }\n",
       "</style>\n",
       "<table border=\"1\" class=\"dataframe\">\n",
       "  <thead>\n",
       "    <tr style=\"text-align: right;\">\n",
       "      <th></th>\n",
       "      <th>%Multihop in ood_test</th>\n",
       "      <th>%Multihop in train/val/ind_test</th>\n",
       "      <th>%Multihop in Total</th>\n",
       "    </tr>\n",
       "  </thead>\n",
       "  <tbody>\n",
       "    <tr>\n",
       "      <th>YesNo</th>\n",
       "      <td>52.39</td>\n",
       "      <td>46.66</td>\n",
       "      <td>47.41</td>\n",
       "    </tr>\n",
       "    <tr>\n",
       "      <th>choose</th>\n",
       "      <td>55.29</td>\n",
       "      <td>65.14</td>\n",
       "      <td>63.23</td>\n",
       "    </tr>\n",
       "    <tr>\n",
       "      <th>Others</th>\n",
       "      <td>21.04</td>\n",
       "      <td>23.45</td>\n",
       "      <td>22.99</td>\n",
       "    </tr>\n",
       "    <tr>\n",
       "      <th>number</th>\n",
       "      <td>3.62</td>\n",
       "      <td>5.14</td>\n",
       "      <td>5.00</td>\n",
       "    </tr>\n",
       "    <tr>\n",
       "      <th>color</th>\n",
       "      <td>16.32</td>\n",
       "      <td>20.31</td>\n",
       "      <td>19.85</td>\n",
       "    </tr>\n",
       "    <tr>\n",
       "      <th>shape</th>\n",
       "      <td>8.25</td>\n",
       "      <td>9.20</td>\n",
       "      <td>9.06</td>\n",
       "    </tr>\n",
       "    <tr>\n",
       "      <th>Total</th>\n",
       "      <td>36.96</td>\n",
       "      <td>37.11</td>\n",
       "      <td>37.08</td>\n",
       "    </tr>\n",
       "  </tbody>\n",
       "</table>\n",
       "</div>"
      ],
      "text/plain": [
       "       %Multihop in ood_test %Multihop in train/val/ind_test  \\\n",
       "YesNo                  52.39                           46.66   \n",
       "choose                 55.29                           65.14   \n",
       "Others                 21.04                           23.45   \n",
       "number                  3.62                            5.14   \n",
       "color                  16.32                           20.31   \n",
       "shape                   8.25                            9.20   \n",
       "Total                  36.96                           37.11   \n",
       "\n",
       "       %Multihop in Total  \n",
       "YesNo               47.41  \n",
       "choose              63.23  \n",
       "Others              22.99  \n",
       "number               5.00  \n",
       "color               19.85  \n",
       "shape                9.06  \n",
       "Total               37.08  "
      ]
     },
     "execution_count": 15,
     "metadata": {},
     "output_type": "execute_result"
    }
   ],
   "source": [
    "# Check if Qtype (['Multihop', 'Singlehop']) distribution was skewed in ood_test\n",
    "index = ['YesNo', 'choose', 'Others', 'number', 'color', 'shape', 'Total']\n",
    "columns = ['%Multihop in ood_test', '%Multihop in train/val/ind_test', '%Multihop in Total']\n",
    "Qtype_df = pd.DataFrame(index = index, columns = columns)\n",
    "for i in index:\n",
    "    if i == 'Total':\n",
    "        Qtype_df.loc[i, '%Multihop in ood_test'] = 100 * len([k for k in dataset_J_split_finalized0629 if dataset_J_under_processing[k]['Qtype'] == 'img-Multihop' and dataset_J_under_processing[k]['split'] == 'ood_test']) / len([k for k in dataset_J_split_finalized0629 if dataset_J_under_processing[k]['split'] == 'ood_test'])\n",
    "        Qtype_df.loc[i, '%Multihop in train/val/ind_test'] = 100 * len([k for k in dataset_J_split_finalized0629 if dataset_J_under_processing[k]['Qtype'] == 'img-Multihop' and (not dataset_J_under_processing[k]['split'] == 'ood_test')]) / len([k for k in dataset_J_split_finalized0629 if not dataset_J_under_processing[k]['split'] == 'ood_test'])\n",
    "        Qtype_df.loc[i, '%Multihop in Total'] = 100 * len([k for k in dataset_J_split_finalized0629 if dataset_J_under_processing[k]['Qtype'] == 'img-Multihop']) / len([k for k in dataset_J_split_finalized0629])\n",
    "    else:\n",
    "        Qtype_df.loc[i, '%Multihop in ood_test'] = 100 * len([k for k in dataset_J_split_finalized0629 if dataset_J_split_finalized0629[k]['Qcate'] == i and dataset_J_under_processing[k]['Qtype'] == 'img-Multihop' and dataset_J_under_processing[k]['split'] == 'ood_test']) / len([k for k in dataset_J_split_finalized0629 if dataset_J_split_finalized0629[k]['Qcate'] == i and dataset_J_under_processing[k]['split'] == 'ood_test'])\n",
    "        Qtype_df.loc[i, '%Multihop in train/val/ind_test'] = 100 * len([k for k in dataset_J_split_finalized0629 if dataset_J_split_finalized0629[k]['Qcate'] == i and dataset_J_under_processing[k]['Qtype'] == 'img-Multihop' and (not dataset_J_under_processing[k]['split'] == 'ood_test')]) / len([k for k in dataset_J_split_finalized0629 if dataset_J_split_finalized0629[k]['Qcate'] == i and (not dataset_J_under_processing[k]['split'] == 'ood_test')])\n",
    "        Qtype_df.loc[i, '%Multihop in Total'] = 100 * len([k for k in dataset_J_split_finalized0629 if dataset_J_split_finalized0629[k]['Qcate'] == i and dataset_J_under_processing[k]['Qtype'] == 'img-Multihop']) / len([k for k in dataset_J_split_finalized0629 if dataset_J_split_finalized0629[k]['Qcate'] == i])\n",
    "Qtype_df.head(7)"
   ]
  },
  {
   "cell_type": "code",
   "execution_count": 3,
   "metadata": {},
   "outputs": [
    {
     "name": "stdout",
     "output_type": "stream",
     "text": [
      "25467\n",
      "Counter({1: 14337, 2: 11130})\n",
      "[233, 338, 443, 1233, 1234, 2141, 2361]\n",
      "Counter({'YesNo': 8432, 'Others': 6721, 'choose': 5240, 'number': 2341, 'color': 2071, 'shape': 662})\n"
     ]
    }
   ],
   "source": [
    "img_dataset = json.load(open(\"/home/yingshac/CYS/WebQnA/WebQnA_data_new/dataset_J_split_update0721.json\", \"r\"))\n",
    "print(len(set([img_dataset[k]['Guid'] for k in img_dataset])))\n",
    "print(Counter([len(img_dataset[j]['GoldIds']) for j in img_dataset]))\n",
    "print([k for k in range(25474) if str(k) not in img_dataset])\n",
    "print(Counter([img_dataset[k]['Qcate'] for k in img_dataset]))"
   ]
  },
  {
   "cell_type": "code",
   "execution_count": null,
   "metadata": {},
   "outputs": [],
   "source": []
  },
  {
   "cell_type": "code",
   "execution_count": null,
   "metadata": {},
   "outputs": [],
   "source": []
  },
  {
   "cell_type": "code",
   "execution_count": null,
   "metadata": {},
   "outputs": [],
   "source": []
  }
 ],
 "metadata": {
  "kernelspec": {
   "display_name": "py37",
   "language": "python",
   "name": "py37"
  },
  "language_info": {
   "codemirror_mode": {
    "name": "ipython",
    "version": 3
   },
   "file_extension": ".py",
   "mimetype": "text/x-python",
   "name": "python",
   "nbconvert_exporter": "python",
   "pygments_lexer": "ipython3",
   "version": "3.7.9"
  }
 },
 "nbformat": 4,
 "nbformat_minor": 4
}
