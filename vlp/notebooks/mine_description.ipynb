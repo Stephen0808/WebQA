{
 "cells": [
  {
   "cell_type": "code",
   "execution_count": 4,
   "metadata": {},
   "outputs": [],
   "source": [
    "import numpy as np\n",
    "from urllib.parse import quote\n",
    "from flatten_json import flatten\n",
    "import urllib.request\n",
    "from bs4 import BeautifulSoup\n",
    "import requests\n",
    "import time, re, json, copy, os, random\n",
    "import shutil\n",
    "from pprint import pprint\n",
    "from collections import defaultdict, Counter"
   ]
  },
  {
   "cell_type": "code",
   "execution_count": 12,
   "metadata": {},
   "outputs": [],
   "source": [
    "USER_AGENT_LIST = [\n",
    "            \"Mozilla/4.0 (compatible; MSIE 6.0; Windows NT 5.1; SV1; AcooBrowser; .NET CLR 1.1.4322; .NET CLR 2.0.50727)\",\n",
    "            \"Mozilla/4.0 (compatible; MSIE 7.0; Windows NT 6.0; Acoo Browser; SLCC1; .NET CLR 2.0.50727; Media Center PC 5.0; .NET CLR 3.0.04506)\",\n",
    "            \"Mozilla/4.0 (compatible; MSIE 7.0; AOL 9.5; AOLBuild 4337.35; Windows NT 5.1; .NET CLR 1.1.4322; .NET CLR 2.0.50727)\",\n",
    "            \"Mozilla/5.0 (Windows; U; MSIE 9.0; Windows NT 9.0; en-US)\",\n",
    "            \"Mozilla/5.0 (compatible; MSIE 9.0; Windows NT 6.1; Win64; x64; Trident/5.0; .NET CLR 3.5.30729; .NET CLR 3.0.30729; .NET CLR 2.0.50727; Media Center PC 6.0)\",\n",
    "            \"Mozilla/5.0 (compatible; MSIE 8.0; Windows NT 6.0; Trident/4.0; WOW64; Trident/4.0; SLCC2; .NET CLR 2.0.50727; .NET CLR 3.5.30729; .NET CLR 3.0.30729; .NET CLR 1.0.3705; .NET CLR 1.1.4322)\",\n",
    "            \"Mozilla/4.0 (compatible; MSIE 7.0b; Windows NT 5.2; .NET CLR 1.1.4322; .NET CLR 2.0.50727; InfoPath.2; .NET CLR 3.0.04506.30)\",\n",
    "            \"Mozilla/5.0 (Windows; U; Windows NT 5.1; zh-CN) AppleWebKit/523.15 (KHTML, like Gecko, Safari/419.3) Arora/0.3 (Change: 287 c9dfb30)\",\n",
    "            \"Mozilla/5.0 (X11; U; Linux; en-US) AppleWebKit/527+ (KHTML, like Gecko, Safari/419.3) Arora/0.6\",\n",
    "            \"Mozilla/5.0 (Windows; U; Windows NT 5.1; en-US; rv:1.8.1.2pre) Gecko/20070215 K-Ninja/2.1.1\",\n",
    "            \"Mozilla/5.0 (Windows; U; Windows NT 5.1; zh-CN; rv:1.9) Gecko/20080705 Firefox/3.0 Kapiko/3.0\",\n",
    "            \"Mozilla/5.0 (X11; Linux i686; U;) Gecko/20070322 Kazehakase/0.4.5\",\n",
    "            \"Mozilla/5.0 (X11; U; Linux i686; en-US; rv:1.9.0.8) Gecko Fedora/1.9.0.8-1.fc10 Kazehakase/0.5.6\",\n",
    "            \"Mozilla/5.0 (Windows NT 6.1; WOW64) AppleWebKit/535.11 (KHTML, like Gecko) Chrome/17.0.963.56 Safari/535.11\",\n",
    "            \"Mozilla/5.0 (Macintosh; Intel Mac OS X 10_7_3) AppleWebKit/535.20 (KHTML, like Gecko) Chrome/19.0.1036.7 Safari/535.20\",\n",
    "            \"Opera/9.80 (Macintosh; Intel Mac OS X 10.6.8; U; fr) Presto/2.9.168 Version/11.52\",\n",
    "            \"Mozilla/5.0 (Windows NT 6.1; WOW64) AppleWebKit/536.11 (KHTML, like Gecko) Chrome/20.0.1132.11 TaoBrowser/2.0 Safari/536.11\",\n",
    "            \"Mozilla/5.0 (Windows NT 6.1; WOW64) AppleWebKit/537.1 (KHTML, like Gecko) Chrome/21.0.1180.71 Safari/537.1 LBBROWSER\",\n",
    "            \"Mozilla/5.0 (compatible; MSIE 9.0; Windows NT 6.1; WOW64; Trident/5.0; SLCC2; .NET CLR 2.0.50727; .NET CLR 3.5.30729; .NET CLR 3.0.30729; Media Center PC 6.0; .NET4.0C; .NET4.0E; LBBROWSER)\",\n",
    "            \"Mozilla/4.0 (compatible; MSIE 6.0; Windows NT 5.1; SV1; QQDownload 732; .NET4.0C; .NET4.0E; LBBROWSER)\",\n",
    "            \"Mozilla/5.0 (Windows NT 6.1; WOW64) AppleWebKit/535.11 (KHTML, like Gecko) Chrome/17.0.963.84 Safari/535.11 LBBROWSER\",\n",
    "            \"Mozilla/4.0 (compatible; MSIE 7.0; Windows NT 6.1; WOW64; Trident/5.0; SLCC2; .NET CLR 2.0.50727; .NET CLR 3.5.30729; .NET CLR 3.0.30729; Media Center PC 6.0; .NET4.0C; .NET4.0E)\",\n",
    "            \"Mozilla/5.0 (compatible; MSIE 9.0; Windows NT 6.1; WOW64; Trident/5.0; SLCC2; .NET CLR 2.0.50727; .NET CLR 3.5.30729; .NET CLR 3.0.30729; Media Center PC 6.0; .NET4.0C; .NET4.0E; QQBrowser/7.0.3698.400)\",\n",
    "            \"Mozilla/4.0 (compatible; MSIE 6.0; Windows NT 5.1; SV1; QQDownload 732; .NET4.0C; .NET4.0E)\",\n",
    "            \"Mozilla/4.0 (compatible; MSIE 7.0; Windows NT 5.1; Trident/4.0; SV1; QQDownload 732; .NET4.0C; .NET4.0E; 360SE)\",\n",
    "            \"Mozilla/4.0 (compatible; MSIE 6.0; Windows NT 5.1; SV1; QQDownload 732; .NET4.0C; .NET4.0E)\",\n",
    "            \"Mozilla/4.0 (compatible; MSIE 7.0; Windows NT 6.1; WOW64; Trident/5.0; SLCC2; .NET CLR 2.0.50727; .NET CLR 3.5.30729; .NET CLR 3.0.30729; Media Center PC 6.0; .NET4.0C; .NET4.0E)\",\n",
    "            \"Mozilla/5.0 (Windows NT 5.1) AppleWebKit/537.1 (KHTML, like Gecko) Chrome/21.0.1180.89 Safari/537.1\",\n",
    "            \"Mozilla/5.0 (Windows NT 6.1; WOW64) AppleWebKit/537.1 (KHTML, like Gecko) Chrome/21.0.1180.89 Safari/537.1\",\n",
    "            \"Mozilla/5.0 (iPad; U; CPU OS 4_2_1 like Mac OS X; zh-cn) AppleWebKit/533.17.9 (KHTML, like Gecko) Version/5.0.2 Mobile/8C148 Safari/6533.18.5\",\n",
    "            \"Mozilla/5.0 (Windows NT 6.1; Win64; x64; rv:2.0b13pre) Gecko/20110307 Firefox/4.0b13pre\",\n",
    "            \"Mozilla/5.0 (X11; Ubuntu; Linux x86_64; rv:16.0) Gecko/20100101 Firefox/16.0\",\n",
    "            \"Mozilla/5.0 (Windows NT 6.1; WOW64) AppleWebKit/537.11 (KHTML, like Gecko) Chrome/23.0.1271.64 Safari/537.11\",\n",
    "            \"Mozilla/5.0 (X11; U; Linux x86_64; zh-CN; rv:1.9.2.10) Gecko/20100922 Ubuntu/10.10 (maverick) Firefox/3.6.10\",\n",
    "            \"Mozilla/5.0 (Windows NT 10.0; Win64; x64) AppleWebKit/537.36 (KHTML, like Gecko) Chrome/58.0.3029.110 Safari/537.36\",\n",
    "        ]"
   ]
  },
  {
   "cell_type": "code",
   "execution_count": 2,
   "metadata": {},
   "outputs": [
    {
     "name": "stdout",
     "output_type": "stream",
     "text": [
      "362367\n"
     ]
    }
   ],
   "source": [
    "with open(\"/home/yingshac/CYS/WebQnA/WebQnA_data/img_metadata-Copy1.json\", \"r\") as f:\n",
    "    img_meta = json.load(f)\n",
    "print(len(img_meta))"
   ]
  },
  {
   "cell_type": "code",
   "execution_count": 43,
   "metadata": {},
   "outputs": [],
   "source": [
    "import unicodedata\n",
    "import string\n",
    "TABLE = str.maketrans(dict.fromkeys(string.punctuation)) \n",
    "def simplify(text):\n",
    "    \n",
    "    try:\n",
    "        text = unicode(text, 'utf-8')\n",
    "    except NameError:\n",
    "        pass\n",
    "    text = unicodedata.normalize('NFD', text).encode('ascii', 'ignore').decode(\"utf-8\").strip()\n",
    "    return str(text)"
   ]
  },
  {
   "cell_type": "code",
   "execution_count": 113,
   "metadata": {},
   "outputs": [],
   "source": [
    "def get_description_by_url(desurl):\n",
    "        req = urllib.request.Request(desurl, headers = {'User-Agent': random.choice(USER_AGENT_LIST)})\n",
    "        try:\n",
    "            with urllib.request.urlopen(req) as f:\n",
    "                html = f.read().decode('utf-8')\n",
    "        except:\n",
    "            return \"NOTFOUND\"\n",
    "\n",
    "        soup = BeautifulSoup(html, 'html.parser')\n",
    "        des = \"\"\n",
    "        result = soup.find_all('td',class_= \"description\")\n",
    "        \n",
    "        for r in result:\n",
    "            row = r.text.strip()\n",
    "            if row[:8] == 'English:':\n",
    "                row = row[8:]\n",
    "            des += simplify(row) + \" \"\n",
    "        des = des.strip()\n",
    "        \n",
    "        if len(des) == 0:\n",
    "            result = soup.find_all('div', class_=\"description mw-content-ltr en\")\n",
    "            for r in result:\n",
    "                row = r.text.strip()\n",
    "                if row[:8] == 'English:':\n",
    "                    row = row[8:]\n",
    "                des += simplify(row) + \" \"\n",
    "            des = des.strip()\n",
    "        return des"
   ]
  },
  {
   "cell_type": "code",
   "execution_count": 76,
   "metadata": {},
   "outputs": [
    {
     "name": "stdout",
     "output_type": "stream",
     "text": [
      "100 91 3\n",
      "200 88 11\n"
     ]
    }
   ],
   "source": [
    "result = {}\n",
    "count = 0\n",
    "before = 0\n",
    "after = 0\n",
    "for k in sorted(list(img_meta.keys()))[290000:290200]:\n",
    "    result[k] = copy.deepcopy(img_meta[k])\n",
    "    count += 1\n",
    "    if len(img_meta[k]['description'].strip()) == 0:\n",
    "        before += 1\n",
    "        x = get_description_by_url(img_meta[k]['page'])\n",
    "        if x == \"NOTFOUND\" or len(x.translate(TABLE).strip())==0: \n",
    "            x = \"\"\n",
    "        result[k]['description'] = x\n",
    "        if len(x) == 0: after += 1\n",
    "\n",
    "    if count % 100 == 0:\n",
    "        print(count, before, after)\n",
    "        before = 0\n",
    "        after = 0\n",
    "        #json.dump(result, open(\"/home/yingshac/CYS/WebQnA/WebQnA_data_new/img_meta_upd/img_meta_{}.json\".format(args.boundary), \"w\"), indent=4)"
   ]
  },
  {
   "cell_type": "code",
   "execution_count": 115,
   "metadata": {},
   "outputs": [
    {
     "data": {
      "text/plain": [
       "'The Rock Choir on the croquet lawn at Easton Lodge Gardens in Little Easton, Essex, England, on 20 May 2018.Camera: Canon EOS 6D Mark II with Canon EF 24-105mm F4L IS USM lens.Software: File lens-corrected, optimized, perhaps cropped, with DxO PhotoLab, and likely further optimized with Adobe Photoshop CS2.'"
      ]
     },
     "execution_count": 115,
     "metadata": {},
     "output_type": "execute_result"
    }
   ],
   "source": [
    "get_description_by_url(\"https://commons.wikimedia.org/wiki/File:Rock_Choir_at_Easton_Lodge_Gardens_open_day%2C_Little_Easton%2C_Essex%2C_England_01.jpg\")"
   ]
  },
  {
   "cell_type": "code",
   "execution_count": 144,
   "metadata": {},
   "outputs": [
    {
     "name": "stdout",
     "output_type": "stream",
     "text": [
      "13 files found\n",
      "362341 samples found\n",
      "33295 Counter({0: 28725, 8: 1267, 9: 802, 6: 738, 7: 561, 5: 507, 3: 325, 4: 290, 1: 43, 2: 37})\n"
     ]
    }
   ],
   "source": [
    "### check progress\n",
    "path = \"/home/yingshac/CYS/WebQnA/WebQnA_data_new/img_meta_upd/\"\n",
    "#print(os.listdir(path))\n",
    "img_meta_upd = {}\n",
    "if os.path.isdir(path):\n",
    "    finished_samples = []\n",
    "    files = os.listdir(path)\n",
    "    print(\"{} files found\".format(len(files)))\n",
    "    for f in files:\n",
    "        if not '.json' in f: continue\n",
    "        try: img_meta_upd.update(json.load(open(os.path.join(path, f), \"r\")))\n",
    "        except: raise\n",
    "else:\n",
    "    img_meta_upd.update(json.load(open(path, \"r\")))\n",
    "print(\"{} samples found\".format(len(img_meta_upd)))\n",
    "description_lengths = [len(img_meta_upd[k]['description']) for k in img_meta_upd if len(img_meta_upd[k]['description'])<10]\n",
    "print(len(description_lengths), Counter(description_lengths))"
   ]
  },
  {
   "cell_type": "code",
   "execution_count": 123,
   "metadata": {},
   "outputs": [
    {
     "data": {
      "text/plain": [
       "['10117614',\n",
       " '10277709',\n",
       " '10320351',\n",
       " '10024335',\n",
       " '7041',\n",
       " '10067871',\n",
       " '2096',\n",
       " '10263924',\n",
       " '10014408',\n",
       " '10169947',\n",
       " '10016815',\n",
       " '10089871',\n",
       " '10204065',\n",
       " '10279648',\n",
       " '10079424',\n",
       " '10187984',\n",
       " '21637',\n",
       " '10166634',\n",
       " '10208720',\n",
       " '10024987',\n",
       " '10150909',\n",
       " '10025510',\n",
       " '10044019',\n",
       " '10333051',\n",
       " '10129747',\n",
       " '10053200',\n",
       " '10041936',\n",
       " '10017529',\n",
       " '10078175',\n",
       " '10153839']"
      ]
     },
     "execution_count": 123,
     "metadata": {},
     "output_type": "execute_result"
    }
   ],
   "source": [
    "random.sample(list(img_meta_upd.keys()), 30)"
   ]
  },
  {
   "cell_type": "code",
   "execution_count": 112,
   "metadata": {},
   "outputs": [
    {
     "name": "stdout",
     "output_type": "stream",
     "text": [
      "https://commons.wikimedia.org/wiki/File:A_strange_but_familiar_world_(5730783407).jpg\n",
      "https://commons.wikimedia.org/wiki/File:1024_Botanischer_Garten_%E2%80%9AAlpinum_Juliana%E2%80%98-2691.jpg\n",
      "https://commons.wikimedia.org/wiki/File:Central_Park_NYC_-_'Indian_Hunter'_Statue_by_John_Quincy_Adams_Ward_-_IMG_5711.JPG\n",
      "https://commons.wikimedia.org/wiki/File:Roadside_Station_%2CSAGAE_2013.jpg\n",
      "https://commons.wikimedia.org/wiki/File:State_Department_Images_WTC_9-11_Prayer_Meeting.jpg\n",
      "https://commons.wikimedia.org/wiki/File:Festuca_pratensis_-_Botanischer_Garten_M%C3%BCnchen-Nymphenburg_-_DSC07799.JPG\n",
      "https://commons.wikimedia.org/wiki/File:%C3%89glise_Saint-Pierre-%C3%A8s-Liens_de_Collongues_2.jpg\n",
      "https://commons.wikimedia.org/wiki/File:Lotto%2C_nozze_mistiche_bergamo_00.jpg\n"
     ]
    }
   ],
   "source": [
    "for k in img_meta_upd:\n",
    "    if len(img_meta_upd[k]['description']) == 0 and random.random()<0.0001:\n",
    "        print(img_meta_upd[k]['page'])"
   ]
  },
  {
   "cell_type": "code",
   "execution_count": null,
   "metadata": {},
   "outputs": [],
   "source": []
  },
  {
   "cell_type": "markdown",
   "metadata": {},
   "source": [
    "### Check description lengths for x_distractors"
   ]
  },
  {
   "cell_type": "code",
   "execution_count": 96,
   "metadata": {},
   "outputs": [
    {
     "name": "stdout",
     "output_type": "stream",
     "text": [
      "Counter({'train': 17812, 'test': 4076, 'val': 2455})\n",
      "24343\n"
     ]
    }
   ],
   "source": [
    "txt_dataset = json.load(open(\"/home/yingshac/CYS/WebQnA/WebQnA_data_new/txt_dataset_0823_clean_te.json\", \"r\"))\n",
    "print(Counter([txt_dataset[k]['split'] for k in txt_dataset]))\n",
    "print(len(set([txt_dataset[k]['Guid'] for k in txt_dataset])))"
   ]
  },
  {
   "cell_type": "code",
   "execution_count": 99,
   "metadata": {},
   "outputs": [
    {
     "name": "stdout",
     "output_type": "stream",
     "text": [
      "Ra. \n",
      "Ra. \n",
      "War\n",
      "Red\n",
      "Hu. \n",
      "40. \n",
      "40. \n",
      "War\n",
      "2013\n",
      "M198\n",
      " Ion\n",
      "War\n",
      " Ch\n",
      "Ægir\n",
      "Area\n",
      "Kick\n",
      "Ali\n",
      "Red\n",
      " Ion\n",
      "Area\n",
      "Si–X\n",
      "Area\n",
      " Ion\n",
      " Ion\n",
      " Ion\n",
      "Area\n",
      "Type\n",
      "F3. \n",
      "F3. \n",
      "Si–X\n",
      "Type\n",
      "War\n",
      "War\n",
      "Ali\n",
      " Ion\n",
      "Type\n",
      "Si–X\n",
      " Ion\n",
      "War\n",
      "2\n",
      "Kick\n"
     ]
    }
   ],
   "source": [
    "for k in txt_dataset:\n",
    "    for im in txt_dataset[k]['img_negFacts']:\n",
    "        if len(im['caption'])<5:\n",
    "            print(im['caption']) "
   ]
  },
  {
   "cell_type": "code",
   "execution_count": null,
   "metadata": {},
   "outputs": [],
   "source": []
  }
 ],
 "metadata": {
  "kernelspec": {
   "display_name": "py37",
   "language": "python",
   "name": "py37"
  },
  "language_info": {
   "codemirror_mode": {
    "name": "ipython",
    "version": 3
   },
   "file_extension": ".py",
   "mimetype": "text/x-python",
   "name": "python",
   "nbconvert_exporter": "python",
   "pygments_lexer": "ipython3",
   "version": "3.7.9"
  }
 },
 "nbformat": 4,
 "nbformat_minor": 4
}
