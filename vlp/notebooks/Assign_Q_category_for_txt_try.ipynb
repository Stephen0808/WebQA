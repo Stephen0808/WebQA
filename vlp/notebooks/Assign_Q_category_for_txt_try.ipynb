{
 "cells": [
  {
   "cell_type": "code",
   "execution_count": 1,
   "metadata": {},
   "outputs": [],
   "source": [
    "import json\n",
    "import numpy as np\n",
    "import pylcs\n",
    "from collections import Counter, defaultdict\n",
    "import copy\n",
    "import seaborn as sns\n",
    "import matplotlib.pyplot as plt\n",
    "from pprint import pprint\n",
    "import random\n",
    "import spacy\n",
    "from sklearn.cluster import AgglomerativeClustering, KMeans\n",
    "from nltk.corpus import stopwords\n",
    "import torch\n",
    "nlp = spacy.load(\"en_core_web_sm\", disable=[\"ner\",\"textcat\",\"parser\"])"
   ]
  },
  {
   "cell_type": "code",
   "execution_count": 2,
   "metadata": {},
   "outputs": [],
   "source": [
    "from word2number import w2n\n",
    "def toNum(word):\n",
    "    try: return w2n.word_to_num(word)\n",
    "    except:\n",
    "        return word"
   ]
  },
  {
   "cell_type": "code",
   "execution_count": 3,
   "metadata": {},
   "outputs": [],
   "source": [
    "# This version has NO lemmatization.\n",
    "# normalize_text for eval needs lemmatization\n",
    "def normalize_text(s):\n",
    "    import string, re\n",
    "    def remove_articles(text):\n",
    "        regex = re.compile(r\"\\b(a|an|the)\\b\", re.UNICODE)\n",
    "        return re.sub(regex, \" \", text)\n",
    "\n",
    "    def white_space_fix(text): # additional: converting numbers to digit form\n",
    "        return \" \".join([str(toNum(w)) for w in text.split()])\n",
    "        #return \" \".join(text.split())\n",
    "\n",
    "    def remove_punc(text):\n",
    "        exclude = set(string.punctuation) - set(['.'])\n",
    "        text1 = \"\".join(ch for ch in text if ch not in exclude)\n",
    "        return re.sub(r\"\\.(?!\\d)\", \"\", text1)\n",
    "\n",
    "    def lower(text):\n",
    "        return text.lower()\n",
    "    \n",
    "    #def lemmatization(text):\n",
    "        #return \" \".join([token.lemma_ for token in nlp(text)])\n",
    "    if len(s.strip()) == 1:\n",
    "        # FIXME: Is there a more general solution for handling answers like \"+\", \"The\"\n",
    "        return white_space_fix(lower(s))\n",
    "    if len(s.strip().split()) == 1: \n",
    "        return white_space_fix(remove_punc(lower(s)))\n",
    "    \n",
    "    return white_space_fix(remove_articles(remove_punc(lower(s))))"
   ]
  },
  {
   "cell_type": "code",
   "execution_count": 5,
   "metadata": {},
   "outputs": [
    {
     "name": "stdout",
     "output_type": "stream",
     "text": [
      "Counter({2: 24030, 3: 882, 4: 46, 1: 3, 5: 1})\n",
      "Counter({'train': 17812, 'test': 4695, 'val': 2455})\n"
     ]
    }
   ],
   "source": [
    "txt_dataset = json.load(open(\"/home/yingshac/CYS/WebQnA/WebQnA_data_new/txt_dataset_0820_addKA.json\", \"r\"))\n",
    "\n",
    "print(Counter([len(txt_dataset[j]['txt_posFacts']) for j in txt_dataset]))\n",
    "print(Counter([txt_dataset[j]['split'] for j in txt_dataset]))"
   ]
  },
  {
   "cell_type": "code",
   "execution_count": 10,
   "metadata": {},
   "outputs": [
    {
     "name": "stdout",
     "output_type": "stream",
     "text": [
      "24962\n"
     ]
    },
    {
     "name": "stderr",
     "output_type": "stream",
     "text": [
      "/home/yingshac/miniconda3/envs/py37/lib/python3.7/site-packages/seaborn/distributions.py:2551: FutureWarning: `distplot` is a deprecated function and will be removed in a future version. Please adapt your code to use either `displot` (a figure-level function with similar flexibility) or `histplot` (an axes-level function for histograms).\n",
      "  warnings.warn(msg, FutureWarning)\n"
     ]
    },
    {
     "data": {
      "text/plain": [
       "<matplotlib.legend.Legend at 0x7f2f84074e90>"
      ]
     },
     "execution_count": 10,
     "metadata": {},
     "output_type": "execute_result"
    },
    {
     "data": {
      "image/png": "[encoded data removed]",
      "text/plain": [
       "<Figure size 432x288 with 1 Axes>"
      ]
     },
     "metadata": {},
     "output_type": "display_data"
    }
   ],
   "source": [
    "import pylcs\n",
    "print(len(txt_dataset))\n",
    "overlap_ratio_list = []\n",
    "id2ratio = {}\n",
    "for k in txt_dataset:\n",
    "    if not txt_dataset[k]['split'] == 'test': continue\n",
    "    A = normalize_text(txt_dataset[k]['Keywords_A'].replace('\"', ''))\n",
    "    B = normalize_text(txt_dataset[k]['Q'].replace('\"', ''))\n",
    "    overlap_ratio = pylcs.lcs2(B, A) / len(A)\n",
    "    id2ratio[k] = overlap_ratio\n",
    "    overlap_ratio_list.append(overlap_ratio)\n",
    "\n",
    "sns.distplot(overlap_ratio_list, kde=False, label=\"PR\")\n",
    "plt.legend()"
   ]
  },
  {
   "cell_type": "code",
   "execution_count": 13,
   "metadata": {},
   "outputs": [
    {
     "name": "stdout",
     "output_type": "stream",
     "text": [
      "4695\n",
      "Others 4326\n",
      "choose 369\n",
      "Counter({'TBD': 20267, 'Others': 4326, 'choose': 369})\n",
      "24962\n"
     ]
    }
   ],
   "source": [
    "print(len(id2ratio))\n",
    "txt_dataset_Qcate = copy.deepcopy(txt_dataset)\n",
    "Qcate_dict = defaultdict(lambda: [])\n",
    "used_k = []\n",
    "for k in txt_dataset:\n",
    "    if not txt_dataset[k]['split'] == 'test': \n",
    "        txt_dataset_Qcate[k]['Qcate'] = 'TBD'\n",
    "        continue\n",
    "    normalized_A = normalize_text(txt_dataset[k]['Keywords_A'].replace('\"', ''))\n",
    "    if id2ratio[k] > 0.8 and (not \"what\" in txt_dataset[k]['Q'].lower()) and (len(normalized_A) > 1) and (not \"no\" == normalized_A) and (not normalized_A == \"yes\"):\n",
    "        txt_dataset_Qcate[k]['Qcate'] = 'choose'\n",
    "        Qcate_dict['choose'].append(k)\n",
    "    else:\n",
    "        txt_dataset_Qcate[k]['Qcate'] = 'Others'\n",
    "        Qcate_dict['Others'].append(k)\n",
    "    \n",
    "    ### dataset_J_Qcate[k]['Guid'] = uuid.uuid1().hex # Guid was generated for img data on Jun 23. Never need to run this line again unless it's really necessary\n",
    "\n",
    "for cate in Qcate_dict:\n",
    "    print(cate, len(Qcate_dict[cate]))\n",
    "print(Counter([txt_dataset_Qcate[k]['Qcate'] for k in txt_dataset_Qcate]))\n",
    "print(len(set([txt_dataset_Qcate[k]['Guid'] for k in txt_dataset_Qcate])))"
   ]
  },
  {
   "cell_type": "code",
   "execution_count": 22,
   "metadata": {},
   "outputs": [
    {
     "name": "stdout",
     "output_type": "stream",
     "text": [
      "\n",
      "0.8181818181818182\n",
      "'Whose father had a longer first name: Micheal O Domhnaill or Michael Ce?'\n",
      "[\"Michael Che's father had a longer first name.\",\n",
      " '\"Michael Che\\'s father had a longer first name.\"',\n",
      " '\"Michael Che\\'s father had a longer first name than the father of Micheal O '\n",
      " 'Domhnaill.\"',\n",
      " '\"Michael Ce\\'s father had a longer name than Micheal O Domhnaill\\'s father.\"',\n",
      " '\"Micheal Che\\'s father has a longer first name then does Mícheál Ó '\n",
      " 'Domhnaill\\'s father.\"']\n",
      "'\"Michael Che\"'\n",
      "\n",
      "0.8333333333333334\n",
      "('How many years after the Cwmorthin Quarry was connected to the Ffestiniog '\n",
      " 'Railway did the Cwmorthin Slate Company become incorporated?')\n",
      "['It took one year for the Cwmorthin Slate Company to incorporate in 1861 '\n",
      " 'after the Cwmorthin Quarry finally was connected to the Ffestiniog Railway '\n",
      " 'in 1860.',\n",
      " '\"The Cwmorthin Slate Company became incorporated in 1861, one year after the '\n",
      " 'Cwmorthin Quarry was connected to the Ffestiniog Railway in 1860.\"',\n",
      " '\"It says that Cwmorthin quarry was connected to the Ffestiniog Railway in '\n",
      " '1860. And that in1861 the Cwmorthin Slate Company was incorporated. '\n",
      " '1861-1860 is one. Therefore the answer is one year.\"',\n",
      " '\"The Cwmorthin Slate Company became incorporated one year after the '\n",
      " 'Cwmorthin Quarry was connected to the Ffestiniog Railway.\"',\n",
      " '\"One year after the Cwmorthin Quarry was connected to the Ffestiniog '\n",
      " 'Railway, the Cwmorthin Slate Company become incorporated.\"',\n",
      " '\"It was one year later.\"']\n",
      "'\"1 year\"'\n",
      "\n",
      "0.8333333333333334\n",
      "('How many years after the beginning of the Second Schleswig War did Jan '\n",
      " 'Matejko paint The Forging of Poland?')\n",
      "['one',\n",
      " '\"One year after the beginning of the Second Schleswig War, Jan Matejko '\n",
      " 'painted The Forging of Poland.\"',\n",
      " '\"One year after the beginning of the Second Schleswig War did Jan Matejko '\n",
      " 'paint The Forging of Poland.\"',\n",
      " '\"Matejko painted The Forging of Poland in 1864, a year after the beginning '\n",
      " 'of the Second Schleswig War.\"',\n",
      " '\"Jan Matejko painted The Forging of Poland one year after the beginning of '\n",
      " 'the Second Schleswig War.\"']\n",
      "'\"1 year\"'\n",
      "\n",
      "0.8333333333333334\n",
      "('A shade of blue, also known as glas celtig in Welsh, shares a name with '\n",
      " 'which tribes that sometimes allied with the Romans and Greeks to fight '\n",
      " 'against other tribes?')\n",
      "['Celtic',\n",
      " '\"Celtic blue shares its name with the tribes that sometimes allied with the '\n",
      " 'Romans and Greeks to fight against other tribes.\"',\n",
      " '\"Celtic blue shares it\\'s name with Celtic tribes.\"',\n",
      " '\"The shade of blue called \"celtic blue\" shares a name with the tribes called '\n",
      " '\"celtic tribes\" who fought amongst each other and sometimes allied with '\n",
      " 'Romans and Greeks.\"',\n",
      " '\"Celtic blue shares a name with the Celtic tribes.\"',\n",
      " '\"A shade of blue, also known as glas celtig in Welsh shares a name with the '\n",
      " 'Celtic tribes.\"']\n",
      "'\"Celtic\"'\n",
      "\n",
      "0.8333333333333334\n",
      "('The 12th Senate District of Wisconsin is one of 33 districts of the State '\n",
      " 'Senate of a state with how many districts in its State Assembly?')\n",
      "['99',\n",
      " '\"The 12th Senate District of Wisconsin is one of 33 districts of the State '\n",
      " 'Senate of a state with 99 districts in its State Assembly.\"',\n",
      " '\"Wisconsin has 99 districts in the Wisconsin State Assembly.\"',\n",
      " '\"Wisconsin has 99 districts in its State Assembly.\"',\n",
      " '\"The 12th Senate District of Wisconsin is one of 33 districts of the State '\n",
      " 'Senate of Wisconsin, which is one of 99 districts in its State Assembly.\"']\n",
      "'\"99 districts\"'\n"
     ]
    }
   ],
   "source": [
    "for k in txt_dataset:\n",
    "    if not k in id2ratio: continue\n",
    "    normalized_A = normalize_text(txt_dataset[k]['Keywords_A'].replace('\"', ''))\n",
    "    if 0.8<id2ratio[k] <=0.85 and (not \"what\" in txt_dataset[k]['Q'].lower()) and (len(normalized_A) > 1) and (not \"no\" == normalized_A) and (not normalized_A == \"yes\"):\n",
    "        if random.random() > 0.2: continue\n",
    "        print()\n",
    "        print(id2ratio[k])\n",
    "        pprint(txt_dataset[k]['Q'])\n",
    "        pprint(txt_dataset[k]['A'])\n",
    "        pprint(txt_dataset[k]['Keywords_A'])"
   ]
  },
  {
   "cell_type": "code",
   "execution_count": 14,
   "metadata": {},
   "outputs": [
    {
     "name": "stdout",
     "output_type": "stream",
     "text": [
      "\n",
      "('Are Lucanus cervus and Lucanus capreolus found on the same continent or '\n",
      " 'different continents?')\n",
      "['Different, as cervus is found in Europe and capreolus is found in N. '\n",
      " 'America.',\n",
      " '\"Lucanus cervus and Lucanus capreolus are found on different continents.\"',\n",
      " '\"Lucanus cervus and Lucanus capreolus found on different continents.\"',\n",
      " '\"Lucanus cervus and Lucanus capreolus are found in different continents.\"',\n",
      " '\"Lucanus cervus and Lucanus capreolus can be found on different continents\"']\n",
      "'\"Different continents\"'\n",
      "\n",
      "('In which could you get a more widely recognized education; Hyde Park or '\n",
      " 'Vanderbilt University')\n",
      "['Vanderbilt University',\n",
      " '\"You could get a more widely recognized education at Vanderbilt University '\n",
      " 'than at Hyde Park, given that Hyde Park is a mansion and historic site, not '\n",
      " 'a university.\"',\n",
      " '\"Vanderbilt University is a private research university, and thus provides '\n",
      " 'education. Hyde Park is not a school of any kind, and therefore one could '\n",
      " 'not get an education there.\"',\n",
      " '\"You could get a more widely recognized education at Vanderbilt University '\n",
      " 'than Hyde Park.\"',\n",
      " '\"You can get a more widely recognized education in Vanderbilt University '\n",
      " 'than Hyde Park.\"',\n",
      " '\"You could get a more widely recognized education at Vanderbilt University.\"']\n",
      "'\"Vanderbilt University\"'\n",
      "\n",
      "('Between Iran and Syria, which had more of a period of good relations that '\n",
      " 'lasted longer with Israel?')\n",
      "['Iran',\n",
      " '\"Iran and Syria have had longer periods of good relations when compared to '\n",
      " 'Israel and Syria as Israel and Syria have not had any diplomatic relations.\"',\n",
      " '\"Iran had more of a period of good relations that lasted longer with Israel '\n",
      " 'than Syria.\"',\n",
      " '\"Iran had a longer period of good relations with Israel.\"',\n",
      " '\"Iran had a longer period of good relations with Israel than did Syria.\"',\n",
      " '\"Iran and Israel had a friendly period during the era of the Pahlavi '\n",
      " 'dynasty, while Syria and Israel have not had any diplomatic relations since '\n",
      " 'the creation of both countries in the mid-20th century.\"']\n",
      "'\"Iran\"'\n",
      "\n",
      "('Which political party would be more likely to side with the Nazis, the '\n",
      " \"United States People's Party, or Hlinka's Slovak People's Party?\")\n",
      "[\"Hlinka's Slovak People's Party\",\n",
      " '\"Hlinka\\'s Slovak People\\'s Party would more likely side with the Nazis.\"',\n",
      " '\"Hlinka\\'s Slovak People\\'s Party included an openly pro-Nazi faction '\n",
      " \"whereas the United States People's Party was a left-wing agrarian populist \"\n",
      " 'political party.\"',\n",
      " '\"Hlinka\\'s Slovak People\\'s Party would be more likely to side with the '\n",
      " 'Nazis.\"',\n",
      " '\"Hlinka\\'s Slovak People\\'s Party would be more likely to side with the '\n",
      " 'Nazis than the United States People\\'s Party would\"',\n",
      " '\"Hlinka\\'s Slovak People\\'s Party would be more likely to side with the '\n",
      " 'Nazis than the United States People\\'s Party.\"']\n",
      "'\"Hlinka\\'s Slovak People\\'s Party\"'\n",
      "\n",
      "('Which is something useful in preparing a breakfast beverage; Bending or '\n",
      " 'Blender?')\n",
      "['Blender.',\n",
      " '\"A blender is something useful in preparing a breakfast beverage.\"',\n",
      " '\"A blender, which is an appliance that is used to puree or emulsify food, is '\n",
      " 'more useful for preparing a breakfast beverage than bending which is a '\n",
      " 'technique used with sheet metal.\"',\n",
      " '\"A blender is more useful in preparing a breakfast beverage than the process '\n",
      " 'of manufacturing bending.\"',\n",
      " '\"The blender is more useful for preparing breakfast because it is used to '\n",
      " 'mix and/or emulsify food.\"',\n",
      " '\"A blender is more useful in preparing a breakfast beverage than bending.\"']\n",
      "'\"A Blender\"'\n",
      "\n",
      "('Is the Chicxulub crater smaller or later in diameter than the distance from '\n",
      " 'the Cote-Nord region of Quebec to the city of Baie-Comeau?')\n",
      "['It would be smaller.',\n",
      " '\"The crater is smaller in diameter.\"',\n",
      " '\"The Chicxulub crater has a diameter of roughly 50 miles, which is less than '\n",
      " 'the 190-mile distance between the Cote-Nord region of Quebec and the city of '\n",
      " 'Baie-Comeau.\"',\n",
      " '\"The Côte-Nord region of Quebec is larger than the crater\\'s diameter.\"',\n",
      " '\"The Chicxulub crater is smaller than the distance from the Cote-Nord region '\n",
      " 'of Quebec to the city of Baie-Comeau.\"',\n",
      " '\"The diameter is smaller.\"']\n",
      "'\"Smaller\"'\n",
      "\n",
      "('Between the Don River in Russia and Mutludere River in Turkey, which river '\n",
      " 'is longer.?')\n",
      "['The Don River flows for a distance of about 1870 km and Mutludere is about '\n",
      " '112 km long.',\n",
      " '\"Don River is longer.\"',\n",
      " '\"The Don River in Russia is longer.\"',\n",
      " '\"Compare to the Mutludere River in Turkey, the Don River in Russia is '\n",
      " 'longer.\"',\n",
      " '\"The Don River in Russia is longer than the Mutludere River in Turkey.\"']\n",
      "'\"Don River\"'\n",
      "\n",
      "'Which embassy has the earliest roots in Asia; Bangkok or China?'\n",
      "['Bangkok',\n",
      " '\"The embassy in Bangkok has earlier roots than the embassy in China.\"',\n",
      " '\"The UK embassy in Bangkok has a slightly longer history than the embassy in '\n",
      " 'China.\"',\n",
      " '\"The embassy in China was created first, in 1861.\"',\n",
      " '\"The Embassy of Bangkok has the earliest roots in Asia.\"',\n",
      " '\"The embassy in China has the earliest root in Asia compared to Bangkok\"']\n",
      "'\"China\"'\n",
      "\n",
      "('Are Maynard Barnes and Danny Reagan played by actors of the same sex or '\n",
      " 'different sexes?')\n",
      "['They are played by actors of the same sex.',\n",
      " '\"Maynard Barnes and Danny Reagan are played by actors of the same sex.\"',\n",
      " '\"They are played by actors of the same sex.\"',\n",
      " '\"The characters of Maynard Barnes and Danny Reagan are both played by men.\"']\n",
      "'\"Same sex\"'\n",
      "\n",
      "('Which happened first, the Crowell v. Benson Supreme Court decision or the '\n",
      " 'Pharaoh v. Benson lawsuit?')\n",
      "['Pharaoh lawsuit.',\n",
      " '\"Pharaoh v. Benson lawsuit came before Crowell v. Benson Supreme Court '\n",
      " 'case,\"',\n",
      " '\"The Pharaoh v. Benson lawsuit happened before the Crowell v. Benson Supreme '\n",
      " 'Court decision\"',\n",
      " '\"The Pharaoh v. Benson lawsuit happened before the Crowell v. Benson Supreme '\n",
      " 'Court decision.\"',\n",
      " '\"Pharaoh v. Benson happened first.\"',\n",
      " '\"The Pharaoh v Benson lawsuit occurred first.\"']\n",
      "'\"Pharaoh v. Benson\"'\n"
     ]
    }
   ],
   "source": [
    "for k in random.sample(list(Qcate_dict['choose']), 10):\n",
    "    print()\n",
    "    pprint(txt_dataset_Qcate[k]['Q'])\n",
    "    pprint(txt_dataset_Qcate[k]['A'])\n",
    "    pprint(txt_dataset_Qcate[k]['Keywords_A'])"
   ]
  },
  {
   "cell_type": "code",
   "execution_count": null,
   "metadata": {},
   "outputs": [],
   "source": []
  }
 ],
 "metadata": {
  "kernelspec": {
   "display_name": "py37",
   "language": "python",
   "name": "py37"
  },
  "language_info": {
   "codemirror_mode": {
    "name": "ipython",
    "version": 3
   },
   "file_extension": ".py",
   "mimetype": "text/x-python",
   "name": "python",
   "nbconvert_exporter": "python",
   "pygments_lexer": "ipython3",
   "version": "3.7.9"
  }
 },
 "nbformat": 4,
 "nbformat_minor": 4
}
