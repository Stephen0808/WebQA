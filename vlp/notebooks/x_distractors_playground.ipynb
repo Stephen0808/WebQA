{
 "cells": [
  {
   "cell_type": "code",
   "execution_count": 38,
   "metadata": {},
   "outputs": [],
   "source": [
    "import json, random, time\n",
    "import numpy as np\n",
    "from pprint import pprint\n",
    "from collections import Counter, defaultdict\n",
    "from bs4 import BeautifulSoup\n",
    "import requests\n",
    "import urllib.request\n",
    "import re\n",
    "import seaborn as sns\n",
    "import matplotlib.pyplot as plt\n",
    "from nltk.corpus import stopwords\n",
    "import pickle\n",
    "import copy\n",
    "import spacy\n",
    "from spacy import displacy\n",
    "from itertools import tee\n",
    "import wikipedia\n",
    "import pylcs\n",
    "import string\n",
    "np.set_printoptions(precision=4)"
   ]
  },
  {
   "cell_type": "code",
   "execution_count": 55,
   "metadata": {},
   "outputs": [
    {
     "name": "stdout",
     "output_type": "stream",
     "text": [
      "7921\n"
     ]
    }
   ],
   "source": [
    "txt_dataset = json.load(open(\"/home/yingshac/CYS/WebQnA/WebQnA_data_new/output_mine_all_schema.json\", \"r\"))\n",
    "print(len(txt_dataset))"
   ]
  },
  {
   "cell_type": "code",
   "execution_count": 56,
   "metadata": {},
   "outputs": [
    {
     "name": "stdout",
     "output_type": "stream",
     "text": [
      "[5701, 1074, 5359, 629, 2565, 1470, 6956, 7162, 6074, 2430, 6307, 1682, 6053, 4625, 3374]\n",
      "Q:  Are Wesley Lopes Beltrame and Wesley David de Oliveira Andrade both from the same country?\n",
      "A:  Yes, they are both from Brazil.\n",
      "Wesley David de Oliveira Andrade (born 13 March 2000), or simply Wesley, is a Brazilian professional footballer who plays as right-back for Swiss club Sion, on loan from Italian club Juventus . On 2 September 2019, Wesley joined Serie A club Hellas Verona on a free transfer, after his contract with Flamengo had expired in April.\n",
      "https://en.wikipedia.org/wiki/Wesley_(footballer,_born_2000)\n",
      "Wesley Lopes Beltrame (born 24 June 1987), simply known as Wesley, is a Brazilian professional footballer who plays for CRB as a central or defensive midfielder . Wesley began his career in 2006 with Santos, and was promoted to the senior side in 2007 where he played four games.\n",
      "https://en.wikipedia.org/wiki/Wesley_Lopes_Beltrame\n",
      "\n",
      "Q:  Which involved more singing; Se7en or Beyond the Sea?\n",
      "A:  Beyond the Sea\n",
      "That same year he played serial killer and villain in Se7en opposite Brad Pitt and Morgan Freeman. He went on to star in L.A. Confidential (1997), Midnight in the Garden of Good and Evil (1997), The Negotiator (1998), and American Beauty (1999). The latter earned him his second Academy Award, but this time for Best Actor .\n",
      "https://en.wikipedia.org/wiki/Kevin_Spacey_filmography\n",
      "Beyond the Sea is a 2004 American biographical musical drama film based on the life of singer-actor Bobby Darin. Starring in the lead role and using his own singing voice for the musical numbers, Kevin Spacey co-wrote, directed, and co-produced the film, which takes its title from Darin's song of the same name .\n",
      "https://en.m.wikipedia.org/wiki/Beyond_the_Sea_(2004_film)\n",
      "\n",
      "Q:  What architectural part of the cathedral, in which the Bishop of Winchester is seated, is the longest of any Gothic cathedral in Europe?\n",
      "A:  The nave\n",
      "Winchester Cathedral is a mediaeval Anglican church in Winchester, Hampshire. It is the seat of the Bishop of Winchester. The cathedral has the longest nave and overall length of any Gothic cathedral in Europe.\n",
      "https://simple.wikipedia.org/wiki/Winchester_Cathedral\n",
      "The Bishop of Winchester is the diocesan bishop of the Diocese of Winchester in the Church of England. The bishop's seat ( cathedra) is at Winchester Cathedral in Hampshire.\n",
      "https://en.wikipedia.org/wiki/Bishop_of_Winchester,_England_(Catholic)\n",
      "\n",
      "Q:  What adjectives are used in chemistry and in the ordinary world to indicate a substance that contains iron?\n",
      "A:  Ferrous and ferruginous\n",
      "The term \"ferrous\" is usually applied only to metals and alloys. The adjective ferruginous is used instead to refer to non-metallic substances that contain iron, such as \"ferruginous water\"; or to an orangish-brown color resembling that of rust.\n",
      "https://en.wikipedia.org/wiki/Ferrous\n",
      "In chemistry, the adjective ferrous indicates a compound that contains iron in the +2 oxidation state, possibly as the divalent cation Fe 2+. It is opposed to \" ferric \", which indicates presence of iron in a +3 oxidation state, such as the trivalent cation Fe 3+.\n",
      "https://en.wikipedia.org/wiki/Ferrous\n",
      "\n",
      "Q:  What was the length of the two tusked animal whose fossils were found in Neogene -aged marine strata dating from the Tortonian to the Zanclean?\n",
      "A:  About 2.1m long\n",
      "Odobenocetops ( / ˌoʊdəbiːˈnɒsɪtɒps /) is an extinct genus of small toothed whale known from Peru and Chile. Its fossils are found in Neogene -aged marine strata dating from the Tortonian to the Zanclean. It had two tusks, and, in some fossils, one tusk was longer than the other.\n",
      "https://en.wikipedia.org/wiki/Odobenocetops\n",
      "Odobenocetops was an early member of the dolphin superfamily, more closely related to narwhals than dolphins, with tusks projecting towards the rear of its body. It measured about 2.1 m (6.9 ft) long and weighed between 150 and 650 kg. Its neck articulations show that it was very flexible, being able to turn its head over 90 degrees.\n",
      "https://en.wikipedia.org/wiki/Odobenocetops\n",
      "\n",
      "Q:  What the name of the first Viking settler on an island located between Scotland and Iceland that is partly ruled by Denmark?\n",
      "A:  Kamban\n",
      "The Faroe Islands, located between Scotland and Iceland, are partly ruled by Denmark, and as such the people long practiced the same religion as the Danes although religious observance is nowadays more widespread and intense among the Faroese. The Faroe Islands were Christianized between 850 and 1000.\n",
      "https://en.wikipedia.org/wiki/Religion_in_the_Faroe_Islands\n",
      "While Kamban is recognized as the first Viking settler of the Faroe Islands, his surname is of Gaelic origin. Writings from the Papar, an order of Irish monks, show that they left the Faroe Islands due to ongoing Viking raids. The name of the islands is first recorded on the Hereford Mappa Mundi (1280), where they are labelled farei .\n",
      "https://en.wikipedia.org/wiki/History_of_the_Faroe_Islands\n",
      "\n",
      "Q:  Which area includes more postcode districts, the UB postcode area or the BA postcode area?\n",
      "A:  The BA postcard area includes more districts.\n",
      "The UB postcode area, also known as the Southall postcode area, is a group of eleven postcode districts in England, within six post towns. These cover parts of western and north-western Greater London, plus a very small part of Buckinghamshire. The letters in the postcode are derived from an abbreviation of Uxbridge .\n",
      "https://en.wikipedia.org/wiki/UB_postcode_area\n",
      "The BA postcode area, also known as the Bath postcode area, is a group of nineteen postcode districts in South West England, within sixteen post towns.\n",
      "https://en.wikipedia.org/wiki/BA_postcode_area\n",
      "\n",
      "Q:  Are there other Reduced pressure zone devices than Relief valves?\n",
      "A:  There are many other types of Reduced pressure zone devices\n",
      "A relief valve or pressure relief valve ( PRV) is a type of safety valve used to control or limit the pressure in a system; pressure might otherwise build up and create a process upset, instrument or equipment failure, or fire. The pressure is relieved by allowing the pressurized fluid to flow from an auxiliary passage out of the system.\n",
      "https://en.wikipedia.org/wiki/Relief_valve\n",
      "In the case of the downstream check valve passing, the differential pressure relief valve prevents the possibility of the chamber pressure from exceeding the supply pressure. It is theoretically possible that, when both valves are faulty, backflow could occur, should the reverse flow rate exceed the capacity of the relief valve.\n",
      "https://en.wikipedia.org/wiki/Reduced_pressure_zone_device\n",
      "\n",
      "Q:  In the religion in which Shesha is generally depicted with a massive form that floats coiled in space, what does Ānanda signify?\n",
      "A:  ānanda signifies eternal bliss which accompanies the ending of the rebirth cycle\n",
      "Shesha is generally depicted with a massive form that floats coiled in space, or on the ocean of bliss, to form the bed on which Vishnu lies.\n",
      "https://en.wikipedia.org/wiki/Shesha\n",
      "Ānanda ( Sanskrit: आनन्द) literally means bliss or happiness. In the Hindu Vedas, Upanishads and Bhagavad gita, ānanda signifies eternal bliss which accompanies the ending of the rebirth cycle.\n",
      "https://en.wikipedia.org/wiki/%C4%80nanda_(Hindu_philosophy)\n",
      "\n",
      "Q:  What vegetable name was used in 1946 to describe a flammagenitus or mushroom cloud?\n",
      "A:  cauliflower\n",
      "A mushroom cloud is a distinctive mushroom -shaped flammagenitus cloud of debris, smoke and usually condensed water vapor resulting from a large explosion. The effect is most commonly associated with a nuclear explosion, but any sufficiently energetic detonation or deflagration will produce the same effect.\n",
      "https://en.wikipedia.org/wiki/Mushroom_cloud\n",
      "Later in 1946, the Operation Crossroads nuclear bomb tests were described as having a \" cauliflower \" cloud, but a reporter present also spoke of \"the mushroom, now the common symbol of the atomic age \".\n",
      "https://en.wikipedia.org/wiki/Mushroom_cloud\n",
      "\n",
      "Q:  Did the Labour Party election which occurred in response to Hugh Gaitskell's death occur before or after Labour leader Gordon Brown resigned?\n",
      "A:  The 1963 Labour Party election in response to Hugh Gaitskell's death occurred before Gordon Brown's 2010 resignation.\n",
      "The 1963 Labour Party leadership election was held following the death of Hugh Gaitskell, party leader since 1955. He died on 18 January 1963 and was succeeded (on a temporary basis) by deputy leader George Brown .\n",
      "https://en.wikipedia.org/wiki/Labour_Party_(UK)_leadership_election,_1963\n",
      "The 2010 Labour Party leadership election was triggered by a general election which resulted in a hung parliament; the first since 1974. The previous Labour leader, Gordon Brown, resigned as Leader of the Labour Party on 10 May and as Prime Minister on 11 May, following the Conservatives and Liberal Democrats forming a coalition government.\n",
      "https://en.wikipedia.org/wiki/Labour_Party_(UK)_leadership_election,_2010\n",
      "\n",
      "Q:  What was another name for he character portrayed  by Raul Julia that won him a posthumous nomination?\n",
      "A:  Dictator\n",
      "In a variety of media, Bison has been portrayed by Raul Julia, Neal McDonough and Silvio Simac and voiced by Tom Wyner, Richard Newman and Gerald C. Rivers. Julia was nominated for a posthumous Saturn Award for Best Supporting Actor for his performance.\n",
      "https://en.wikipedia.org/wiki/M.Bison\n",
      "M. Bison, also known as Dictator (for international tournaments), is a video game character created by Capcom. First introduced in Street Fighter II: The World Warrior, he is a recurring character in the Street Fighter series of fighting games, acting as one of the series' main antagonists .\n",
      "https://en.wikipedia.org/wiki/M.Bison\n",
      "\n",
      "Q:  What is the superpower of the character drawn by Ethan Van Sciver and associated with Iris West II, Bart Allen, Jesse Chambers, Wally West, Jay Garrick, and Max Mercury?\n",
      "A:  The power to move at superhuman speeds\n",
      "The series is based on the DC Comics character Barry Allen / Flash, a costumed superhero crime-fighter with the power to move at superhuman speeds.\n",
      "https://en.wikipedia.org/wiki/The_Flash_(season_1)\n",
      "Characters who have associated with the name \"The Flash\": Barry Allen at the center, and counterclockwise from upper left are Iris West II, Bart Allen, Jesse Chambers, Wally West, Jay Garrick, and Max Mercury. Art by Ethan Van Sciver.\n",
      "https://en.wikipedia.org/wiki/Flash_(comics)\n",
      "\n",
      "Q:  How many more lanes does Interstate-84 in Idaho have as it leaves Nampa and enters Ada county that Tennessee State Route 77 at its beginning in Dyer county in Tennessee?\n",
      "A:  Six more\n",
      "I-84 expands from four lanes to eight lanes as it leaves Nampa and enters Ada County, passing through suburban neighborhoods in Meridian.[9] The freeway crosses under two single-point urban interchanges at Ten Mile Road and SH-69, along with a partial cloverleaf interchange where SH-55 splits from the concurrency to head north.[10]\n",
      "https://en.wikipedia.org/wiki/Interstate_84_in_Idaho\n",
      "The 84.86-mile-long (136.57 km) route traverses the flat farmland of West Tennessee . SR 77 begins as a secondary 2-lane highway in Dyer County at an interchange with US 51 / SR 3 ( Future I-69) in Newbern.\n",
      "https://en.wikipedia.org/wiki/Tennessee_State_Route_77\n",
      "\n",
      "Q:  What is the style of architecture that was most common in Russia up until the style associated with the Socialist realism school of art and architecture took over?\n",
      "A:  Russian architecture was the style used prior to the Stalinist Architecture period.\n",
      "Stalinist architecture is associated with the Socialist realism school of art and architecture. As part of the Soviet policy of rationalization of the country, all cities were built to a general development plan.\n",
      "https://en.wikipedia.org/wiki/Stalinist_architecture\n",
      "Russian architecture is the name of the Architecture style of Russia from the early Russian wooden architecture period until the Stalinist Architecture period. from the \"Pre-Christian\" until the \"Kievan Rus Christian\" period most of the structures was made of wood and after than the structures was made by stones\n",
      "https://simple.wikipedia.org/wiki/Russian_architecture\n",
      "\n"
     ]
    }
   ],
   "source": [
    "# Randomly look at positive facts and the wikipedia pages they come from\n",
    "analyze_ids = random.sample(range(7921), 15)\n",
    "print(analyze_ids)\n",
    "for i in analyze_ids:\n",
    "    k = str(i)\n",
    "    print('Q: ', txt_dataset[k]['Q'])\n",
    "    print('A: ', txt_dataset[k]['A'])\n",
    "    for f in txt_dataset[k]['SupportingFacts']:\n",
    "        print(f['fact'])\n",
    "        print(f['url'])\n",
    "    print()"
   ]
  },
  {
   "cell_type": "markdown",
   "metadata": {},
   "source": [
    "**Step 1: Question --> Identify keywords** NOUN, ADJ, NUM, PROPN, Capitalized words\n",
    "\n",
    "**Step 2: Pos Facts --> Relevant Wiki pages** Hyperlink, wikipedia.search(pos_fact's title)\n",
    "\n",
    "**Step 3: Wikipages --> html parsing --> paragraphs, images & their captions**\n",
    "\n",
    "**Step 4: Choose paragraphs with high overlap with the question *without* giving away the core answer info** Punish overlapping with {Q} \\\\ {A &cup; G} "
   ]
  },
  {
   "cell_type": "code",
   "execution_count": 3,
   "metadata": {},
   "outputs": [],
   "source": [
    "nlp = spacy.load('en_core_web_sm')"
   ]
  },
  {
   "cell_type": "code",
   "execution_count": 4,
   "metadata": {},
   "outputs": [],
   "source": [
    "def show_ents(doc): \n",
    "    if doc.ents: \n",
    "        for ent in doc.ents: \n",
    "            print(ent.text+' - ' +str(ent.start_char) +' - '+ str(ent.end_char) +' - '+ent.label_+ ' - '+str(spacy.explain(ent.label_))) \n",
    "    else: print('No named entities found.')"
   ]
  },
  {
   "cell_type": "code",
   "execution_count": 561,
   "metadata": {
    "scrolled": true
   },
   "outputs": [
    {
     "name": "stdout",
     "output_type": "stream",
     "text": [
      "5114\n",
      "Q:  How much higher did Take That & Party peak on the UK Albums Chart than Having a Party peaked on the Billboard Hot 100?\n",
      "A:  Take That & Party peaked 15 spots spots higher on it's respective chart.\n",
      "Released on 17 August 1992 on RCA Records, it reached number two on the UK Albums Chart and stayed in the UK Top 75 album chart for 73 weeks (one year, five months and one week). It was their only album not to reach number one until Wonderland peaked at number two in 2017.\n",
      "https://en.wikipedia.org/wiki/Take_That_%26_Party\n",
      "The song peaked at number four on Billboard 's Hot R&B Sides chart, and also charted at number 17 on the Billboard Hot 100 . \"Having a Party\", like its A-side, \"Bring It On Home to Me\", was written while Cooke was on tour for Henry Wynn.\n",
      "https://en.wikipedia.org/wiki/Having_a_Party_(song)\n",
      "\n",
      "Entities:\n",
      "Take That & Party - 20 - 37 - ORG - Companies, agencies, institutions, etc.\n",
      "UK - 50 - 52 - GPE - Countries, cities, states\n",
      "Party - 80 - 85 - ORG - Companies, agencies, institutions, etc.\n",
      "100 - 114 - 117 - CARDINAL - Numerals that do not fall under another type\n"
     ]
    },
    {
     "data": {
      "text/html": [
       "<span class=\"tex2jax_ignore\"><div class=\"entities\" style=\"line-height: 2.5; direction: ltr\">How much higher did \n",
       "<mark class=\"entity\" style=\"background: #7aecec; padding: 0.45em 0.6em; margin: 0 0.25em; line-height: 1; border-radius: 0.35em;\">\n",
       "    Take That &amp; Party\n",
       "    <span style=\"font-size: 0.8em; font-weight: bold; line-height: 1; border-radius: 0.35em; vertical-align: middle; margin-left: 0.5rem\">ORG</span>\n",
       "</mark>\n",
       " peak on the \n",
       "<mark class=\"entity\" style=\"background: #feca74; padding: 0.45em 0.6em; margin: 0 0.25em; line-height: 1; border-radius: 0.35em;\">\n",
       "    UK\n",
       "    <span style=\"font-size: 0.8em; font-weight: bold; line-height: 1; border-radius: 0.35em; vertical-align: middle; margin-left: 0.5rem\">GPE</span>\n",
       "</mark>\n",
       " Albums Chart than Having a \n",
       "<mark class=\"entity\" style=\"background: #7aecec; padding: 0.45em 0.6em; margin: 0 0.25em; line-height: 1; border-radius: 0.35em;\">\n",
       "    Party\n",
       "    <span style=\"font-size: 0.8em; font-weight: bold; line-height: 1; border-radius: 0.35em; vertical-align: middle; margin-left: 0.5rem\">ORG</span>\n",
       "</mark>\n",
       " peaked on the Billboard Hot \n",
       "<mark class=\"entity\" style=\"background: #e4e7d2; padding: 0.45em 0.6em; margin: 0 0.25em; line-height: 1; border-radius: 0.35em;\">\n",
       "    100\n",
       "    <span style=\"font-size: 0.8em; font-weight: bold; line-height: 1; border-radius: 0.35em; vertical-align: middle; margin-left: 0.5rem\">CARDINAL</span>\n",
       "</mark>\n",
       "?</div></span>"
      ],
      "text/plain": [
       "<IPython.core.display.HTML object>"
      ]
     },
     "metadata": {},
     "output_type": "display_data"
    },
    {
     "name": "stdout",
     "output_type": "stream",
     "text": [
      "['Take That & Party', 'Take That', 'List of songs recorded by Take That', 'Take That discography', 'Wonderland (Take That album)', 'Greatest Hits (Take That album)', 'Could It Be Magic', 'Take That Presents: The Circus Live', 'III (Take That album)', 'Jason Orange']\n",
      "['United Kingdom', 'Countries of the United Kingdom', '.uk', '2016 United Kingdom European Union membership referendum', 'List of political parties in the United Kingdom', 'UK garage', 'Postcodes in the United Kingdom', 'Sky UK', 'Prime Minister of the United Kingdom', 'UK Biobank']\n",
      "['Party', 'Political party', 'Labour Party (UK)', 'Republican Party (United States)', 'Political parties in the United States', 'Social Democratic Party of Germany', 'One-party state', 'Democratic Party (United States)', 'Black Panther Party', 'National Party of Australia']\n",
      "['100', '100 metres', '100%', 'Nasdaq-100', '$100', 'The 100', 'Time 100', 'Billboard Hot 100', \"List of men's footballers with 100 or more international caps\", '$100 hamburger']\n",
      " ---------------------------------------------------------------------------- \n",
      "\n",
      "5663\n",
      "Q:  What synthetic class do the steroids prednisolone acetate and methylprednisolone belong to?\n",
      "A:  They are synthetic glucocorticoids.\n",
      "Prednisolone acetate is a synthetic glucocorticoid corticosteroid and a corticosteroid ester. It is the 21- acetate ester of prednisolone. Prednisolone acetate is acutely toxic with an LD50 of >240 mg/kg for a rat and 3500 mg/kg for a mouse.\n",
      "https://en.wikipedia.org/wiki/Prednisolone_acetate\n",
      "Chemically, methylprednisolone is a synthetic pregnane steroid hormone derived from hydrocortisone and prednisolone. It belongs to a class of synthetic glucocorticoids and more generally, corticosteroids. It acts as a mineralocorticoid and glucocorticoid receptor agonist.\n",
      "https://en.wikipedia.org/wiki/Methylprednisolone\n",
      "\n",
      "Entities:\n",
      "No named entities found.\n"
     ]
    },
    {
     "name": "stderr",
     "output_type": "stream",
     "text": [
      "/home/yingshac/miniconda3/envs/py37/lib/python3.7/site-packages/spacy/displacy/__init__.py:189: UserWarning: [W006] No entities to visualize found in Doc object. If this is surprising to you, make sure the Doc was processed using a model that supports named entity recognition, and check the `doc.ents` property manually if necessary.\n",
      "  warnings.warn(Warnings.W006)\n"
     ]
    },
    {
     "data": {
      "text/html": [
       "<span class=\"tex2jax_ignore\"><div class=\"entities\" style=\"line-height: 2.5; direction: ltr\">What synthetic class do the steroids prednisolone acetate and methylprednisolone belong to?</div></span>"
      ],
      "text/plain": [
       "<IPython.core.display.HTML object>"
      ]
     },
     "metadata": {},
     "output_type": "display_data"
    },
    {
     "name": "stdout",
     "output_type": "stream",
     "text": [
      " ---------------------------------------------------------------------------- \n",
      "\n",
      "515\n",
      "Q:  What cardinal region of Hartford, Connecticut do the American soccer team Hartford City FC and University of Hartford's Hartford Hawks lie in?\n",
      "A:  In West Hartford.\n",
      "The Hartford Hawks are the NCAA Division I athletic teams of the University of Hartford, located in West Hartford, Connecticut.\n",
      "https://en.wikipedia.org/wiki/Hartford_Hawks_softball\n",
      "Hartford City FC is an American soccer team based in West Hartford, Connecticut. The team plays in the National Premier Soccer Leagues' Northeast Region, North Atlantic Conference.\n",
      "https://en.wikipedia.org/wiki/Hartford_City_FC\n",
      "\n",
      "Entities:\n",
      "Hartford - 24 - 32 - GPE - Countries, cities, states\n",
      "Connecticut - 34 - 45 - GPE - Countries, cities, states\n",
      "American - 53 - 61 - NORP - Nationalities or religious or political groups\n",
      "Hartford City FC - 74 - 90 - GPE - Countries, cities, states\n",
      "University of Hartford's - 95 - 119 - ORG - Companies, agencies, institutions, etc.\n",
      "Hartford Hawks - 120 - 134 - ORG - Companies, agencies, institutions, etc.\n"
     ]
    },
    {
     "data": {
      "text/html": [
       "<span class=\"tex2jax_ignore\"><div class=\"entities\" style=\"line-height: 2.5; direction: ltr\">What cardinal region of \n",
       "<mark class=\"entity\" style=\"background: #feca74; padding: 0.45em 0.6em; margin: 0 0.25em; line-height: 1; border-radius: 0.35em;\">\n",
       "    Hartford\n",
       "    <span style=\"font-size: 0.8em; font-weight: bold; line-height: 1; border-radius: 0.35em; vertical-align: middle; margin-left: 0.5rem\">GPE</span>\n",
       "</mark>\n",
       ", \n",
       "<mark class=\"entity\" style=\"background: #feca74; padding: 0.45em 0.6em; margin: 0 0.25em; line-height: 1; border-radius: 0.35em;\">\n",
       "    Connecticut\n",
       "    <span style=\"font-size: 0.8em; font-weight: bold; line-height: 1; border-radius: 0.35em; vertical-align: middle; margin-left: 0.5rem\">GPE</span>\n",
       "</mark>\n",
       " do the \n",
       "<mark class=\"entity\" style=\"background: #c887fb; padding: 0.45em 0.6em; margin: 0 0.25em; line-height: 1; border-radius: 0.35em;\">\n",
       "    American\n",
       "    <span style=\"font-size: 0.8em; font-weight: bold; line-height: 1; border-radius: 0.35em; vertical-align: middle; margin-left: 0.5rem\">NORP</span>\n",
       "</mark>\n",
       " soccer team \n",
       "<mark class=\"entity\" style=\"background: #feca74; padding: 0.45em 0.6em; margin: 0 0.25em; line-height: 1; border-radius: 0.35em;\">\n",
       "    Hartford City FC\n",
       "    <span style=\"font-size: 0.8em; font-weight: bold; line-height: 1; border-radius: 0.35em; vertical-align: middle; margin-left: 0.5rem\">GPE</span>\n",
       "</mark>\n",
       " and \n",
       "<mark class=\"entity\" style=\"background: #7aecec; padding: 0.45em 0.6em; margin: 0 0.25em; line-height: 1; border-radius: 0.35em;\">\n",
       "    University of Hartford's\n",
       "    <span style=\"font-size: 0.8em; font-weight: bold; line-height: 1; border-radius: 0.35em; vertical-align: middle; margin-left: 0.5rem\">ORG</span>\n",
       "</mark>\n",
       " \n",
       "<mark class=\"entity\" style=\"background: #7aecec; padding: 0.45em 0.6em; margin: 0 0.25em; line-height: 1; border-radius: 0.35em;\">\n",
       "    Hartford Hawks\n",
       "    <span style=\"font-size: 0.8em; font-weight: bold; line-height: 1; border-radius: 0.35em; vertical-align: middle; margin-left: 0.5rem\">ORG</span>\n",
       "</mark>\n",
       " lie in?</div></span>"
      ],
      "text/plain": [
       "<IPython.core.display.HTML object>"
      ]
     },
     "metadata": {},
     "output_type": "display_data"
    },
    {
     "name": "stdout",
     "output_type": "stream",
     "text": [
      "['Hartford, Connecticut', 'The Hartford', 'Hartford Whalers', 'Travelers Championship', 'Dee Hartford', 'Greater Hartford', 'Asa Hartford', 'Hartford Athletic', 'Hartford Courant', 'Eden Hartford']\n",
      "['Connecticut', 'The Haunting in Connecticut', 'Hartford, Connecticut', 'University of Connecticut', 'Connecticut River', 'List of municipalities in Connecticut', 'Bridgeport, Connecticut', 'Stamford, Connecticut', 'Sandy Hook Elementary School shooting', 'Connecticut Lakes']\n",
      "['American', 'White Americans', 'American Express', 'African Americans', 'American Airlines', 'American Samoa', 'American football', 'American Idol', 'German Americans', 'American bison']\n",
      "['Hartford City FC', 'Hartford City', 'Hartford, Connecticut', 'Hartford Athletic', 'National Premier Soccer League', 'Asa Hartford', 'Boston City FC', '2017 NPSL season', 'Al-Marzook Field at Alumni Stadium', 'New York City FC']\n",
      "['University of Hartford', 'Hartford, Connecticut', 'West Hartford, Connecticut', 'Hartford Hawks', 'University of Hartford Hartt School', 'Greater Hartford', 'John Hartford', 'Huntington Hartford', 'University of Saint Joseph (Connecticut)', 'University of Connecticut']\n",
      "['Hartford Hawks', 'Hartford Hawks baseball', 'Dee Hartford', 'University of Hartford', \"Hartford Hawks men's basketball\", 'Eden Hartford', \"Dunkin' Donuts Park\", \"Hartford Hawks men's lacrosse\", 'Alexis Triadis', 'Greater Hartford']\n",
      " ---------------------------------------------------------------------------- \n",
      "\n",
      "5274\n",
      "Q:  How do manufacturers ensure that the system that carries the graphical user interface elements works properly?\n",
      "A:  They use graphical user interface testing to test a product's graphical user interface to ensure it meets its specifications.\n",
      "In software engineering, graphical user interface testing is the process of testing a product's graphical user interface (GUI) to ensure it meets its specifications. This is normally done through the use of a variety of test cases .\n",
      "https://en.wikipedia.org/wiki/Graphical_user_interface_testing\n",
      "Graphical user interface elements are those elements used by graphical user interfaces (GUIs) to offer a consistent visual language to represent information stored in computers. These make it easier for people with few computer skills to work with and use computer software.\n",
      "https://en.wikipedia.org/wiki/List_of_graphical_user_interface_elements\n",
      "\n",
      "Entities:\n",
      "No named entities found.\n"
     ]
    },
    {
     "data": {
      "text/html": [
       "<span class=\"tex2jax_ignore\"><div class=\"entities\" style=\"line-height: 2.5; direction: ltr\">How do manufacturers ensure that the system that carries the graphical user interface elements works properly?</div></span>"
      ],
      "text/plain": [
       "<IPython.core.display.HTML object>"
      ]
     },
     "metadata": {},
     "output_type": "display_data"
    },
    {
     "name": "stdout",
     "output_type": "stream",
     "text": [
      " ---------------------------------------------------------------------------- \n",
      "\n",
      "1192\n",
      "Q:  What continents do the 31st parallel north and the 38th parallel north both cross?\n",
      "A:  Asia and North America\n",
      "The 38th parallel north is a circle of latitude that is 38 degrees north of the Earth's equatorial plane. It crosses Europe, the Mediterranean Sea, Asia, the Pacific Ocean, North America, and the Atlantic Ocean. The 38th parallel north formed the border between North and South Korea prior to the Korean War .\n",
      "https://en.wikipedia.org/wiki/38th_parallel_north\n",
      "In the United States, the 31st parallel defines part of the border between Mississippi and Louisiana, and part of the border between Alabama and Florida. The 31st parallel north is a circle of latitude that is 31 degrees north of the Earth's equatorial plane. It crosses Africa, Asia, the Pacific Ocean, North America and the Atlantic Ocean .\n",
      "https://en.wikipedia.org/wiki/31st_parallel_north\n",
      "\n",
      "Entities:\n",
      "38th - 51 - 55 - ORDINAL - \"first\", \"second\", etc.\n"
     ]
    },
    {
     "data": {
      "text/html": [
       "<span class=\"tex2jax_ignore\"><div class=\"entities\" style=\"line-height: 2.5; direction: ltr\">What continents do the 31st parallel north and the \n",
       "<mark class=\"entity\" style=\"background: #e4e7d2; padding: 0.45em 0.6em; margin: 0 0.25em; line-height: 1; border-radius: 0.35em;\">\n",
       "    38th\n",
       "    <span style=\"font-size: 0.8em; font-weight: bold; line-height: 1; border-radius: 0.35em; vertical-align: middle; margin-left: 0.5rem\">ORDINAL</span>\n",
       "</mark>\n",
       " parallel north both cross?</div></span>"
      ],
      "text/plain": [
       "<IPython.core.display.HTML object>"
      ]
     },
     "metadata": {},
     "output_type": "display_data"
    },
    {
     "name": "stdout",
     "output_type": "stream",
     "text": [
      "['38th parallel north', '38th Street gang', '38th Street (Minneapolis)', '38th Infantry Division (United States)', 'Korean War', '38th Academy Awards', '38th Infantry Regiment (United States)', '38th Regiment', '38th Filmfare Awards', '38th SS-Grenadier-Division \"Nibelungen\"']\n",
      " ---------------------------------------------------------------------------- \n",
      "\n"
     ]
    }
   ],
   "source": [
    "### NER does not give us what we want\n",
    "ids = random.sample(range(7921), 5)\n",
    "for i in ids:\n",
    "    k = str(i)\n",
    "    print(k)\n",
    "    Q = txt_dataset[k]['Q']\n",
    "    print('Q: ', Q)\n",
    "    print('A: ', txt_dataset[k]['A'])\n",
    "    for f in txt_dataset[k]['SupportingFacts']:\n",
    "        print(f['fact'])\n",
    "        print(f['url'])\n",
    "    print(\"\\nEntities:\")\n",
    "    doc = nlp(Q)\n",
    "    show_ents(doc)\n",
    "    if doc.ents: displacy.render(doc, style='ent', jupyter=True)\n",
    "    for e in doc.ents:\n",
    "        print(wikipedia.search(e.text))\n",
    "    print(\" ---------------------------------------------------------------------------- \\n\")"
   ]
  },
  {
   "cell_type": "code",
   "execution_count": 61,
   "metadata": {},
   "outputs": [
    {
     "name": "stderr",
     "output_type": "stream",
     "text": [
      "/home/yingshac/miniconda3/envs/py37/lib/python3.7/site-packages/seaborn/distributions.py:2551: FutureWarning: `distplot` is a deprecated function and will be removed in a future version. Please adapt your code to use either `displot` (a figure-level function with similar flexibility) or `histplot` (an axes-level function for histograms).\n",
      "  warnings.warn(msg, FutureWarning)\n",
      "No handles with labels found to put in legend.\n"
     ]
    },
    {
     "name": "stdout",
     "output_type": "stream",
     "text": [
      "44.5311007751938\n"
     ]
    },
    {
     "data": {
      "text/plain": [
       "<matplotlib.legend.Legend at 0x7fbe92c6bd50>"
      ]
     },
     "execution_count": 61,
     "metadata": {},
     "output_type": "execute_result"
    },
    {
     "data": {
      "image/png": "[encoded data removed]",
      "text/plain": [
       "<Figure size 432x288 with 1 Axes>"
      ]
     },
     "metadata": {},
     "output_type": "display_data"
    }
   ],
   "source": [
    "# Length distribution of pos facts (Whitespace tokenization)\n",
    "fact_lengths = [len(f['fact'].split()) for k in txt_dataset for f in txt_dataset[k]['SupportingFacts']]\n",
    "print(np.mean(fact_lengths))\n",
    "sns.distplot(fact_lengths, kde=False)\n",
    "plt.legend()"
   ]
  },
  {
   "cell_type": "code",
   "execution_count": 58,
   "metadata": {
    "collapsed": true
   },
   "outputs": [
    {
     "name": "stdout",
     "output_type": "stream",
     "text": [
      "{'seeming', 'show', 'noone', 'over', 'should', 'whoever', 'beforehand', \"'m\", 'quite', 'put', 'either', 'call', 'hereby', 'elsewhere', 'thence', 'while', 'part', 'becoming', 'whereafter', 'neither', 'anywhere', 'nothing', 'some', 'both', 'four', 'empty', 'three', 'if', 'thereafter', 'already', 'do', '’ll', 'became', 'am', 'namely', 'ca', 'get', 'becomes', 'whither', 'could', 'therein', 'twenty', 'we', 'amongst', 'whence', 'otherwise', '’d', 'further', 'sixty', 'within', 'meanwhile', 'though', 'whereby', 'why', 'than', 'due', 'thus', 'with', 'were', 'move', 'only', 'therefore', 'being', 'an', 'per', 'wherever', 'any', 'who', 'mine', 'n’t', 'onto', 'several', 'cannot', \"'ve\", 'again', 'enough', 'once', 'or', 'thereupon', 'forty', 'every', 'alone', 'own', \"'ll\", 'he', '’s', 'often', 'whether', 'might', 'however', 'by', 'back', 'what', 'nobody', 'hereafter', 'many', 'this', 'almost', 'afterwards', 'become', 'say', 'top', 'will', 'not', 'they', 'two', 'everywhere', 'into', 'can', 'ten', 'much', 'through', 'at', 'and', \"'d\", 'now', 'anyway', 'for', 'keep', 'unless', 'full', 'so', 'yourselves', 'hundred', 'before', 'was', 'someone', 'very', 'when', 'until', 'had', 'done', 'that', 'rather', 'anything', 'your', 'all', 'fifty', 'latter', 'just', 'never', \"n't\", 'did', '’ve', '‘re', '’m', 'side', 'twelve', 'its', 'themselves', 'our', 'eight', 'because', 'eleven', 'himself', 'among', 'via', 'beyond', 'then', 'together', 'the', 'using', 'been', 'everyone', 'besides', 'least', 'beside', 'but', 'one', 'too', '‘d', 'about', 'since', 'whenever', 'where', 'most', 'how', 'nor', 'as', 'first', 'to', 'another', 'throughout', 'yet', 'a', 'wherein', 'formerly', 'former', 'her', 'thereby', 'less', 'please', 'out', 'those', 'behind', 'except', 'i', 'towards', 're', '’re', 'ever', 'always', 'indeed', 'make', 'after', 'hence', 'no', 'his', 'more', 'above', 'myself', 'others', 'sometime', 'she', 'else', 'something', 'anyone', 'their', 'up', 'none', 'during', \"'re\", 'latterly', 'really', 'whereas', 'same', 'doing', 'other', 'last', 'six', 'nevertheless', 'third', 'there', 'whom', 'well', 'from', 'used', 'few', 'mostly', 'anyhow', 'below', 'along', '‘s', 'amount', 'in', 'fifteen', 'hereupon', 'here', 'whatever', '‘m', 'still', 'itself', 'down', 'front', 'somehow', 'us', 'hers', 'although', 'me', 'herein', 'against', 'give', 'has', 'does', 'him', 'across', 'moreover', 'it', 'name', 'go', 'them', 'thru', 'without', 'are', 'next', 'take', 'everything', 'also', 'between', 'seemed', 'somewhere', 'nowhere', 'whole', 'around', 'such', \"'s\", 'even', 'made', 'regarding', 'my', 'you', 'may', 'serious', 'off', 'would', 'of', 'nine', '‘ll', 'under', 'each', 'yours', 'these', 'five', 'must', '‘ve', 'see', 'herself', 'yourself', 'be', 'seems', 'ours', 'sometimes', 'whose', 'bottom', 'perhaps', 'ourselves', 'toward', 'is', 'which', 'seem', 'upon', 'whereupon', 'on', 'have', 'n‘t', 'various'}\n",
      "['i', 'me', 'my', 'myself', 'we', 'our', 'ours', 'ourselves', 'you', \"you're\", \"you've\", \"you'll\", \"you'd\", 'your', 'yours', 'yourself', 'yourselves', 'he', 'him', 'his', 'himself', 'she', \"she's\", 'her', 'hers', 'herself', 'it', \"it's\", 'its', 'itself', 'they', 'them', 'their', 'theirs', 'themselves', 'what', 'which', 'who', 'whom', 'this', 'that', \"that'll\", 'these', 'those', 'am', 'is', 'are', 'was', 'were', 'be', 'been', 'being', 'have', 'has', 'had', 'having', 'do', 'does', 'did', 'doing', 'a', 'an', 'the', 'and', 'but', 'if', 'or', 'because', 'as', 'until', 'while', 'of', 'at', 'by', 'for', 'with', 'about', 'against', 'between', 'into', 'through', 'during', 'before', 'after', 'above', 'below', 'to', 'from', 'up', 'down', 'in', 'out', 'on', 'off', 'over', 'under', 'again', 'further', 'then', 'once', 'here', 'there', 'when', 'where', 'why', 'how', 'all', 'any', 'both', 'each', 'few', 'more', 'most', 'other', 'some', 'such', 'no', 'nor', 'not', 'only', 'own', 'same', 'so', 'than', 'too', 'very', 's', 't', 'can', 'will', 'just', 'don', \"don't\", 'should', \"should've\", 'now', 'd', 'll', 'm', 'o', 're', 've', 'y', 'ain', 'aren', \"aren't\", 'couldn', \"couldn't\", 'didn', \"didn't\", 'doesn', \"doesn't\", 'hadn', \"hadn't\", 'hasn', \"hasn't\", 'haven', \"haven't\", 'isn', \"isn't\", 'ma', 'mightn', \"mightn't\", 'mustn', \"mustn't\", 'needn', \"needn't\", 'shan', \"shan't\", 'shouldn', \"shouldn't\", 'wasn', \"wasn't\", 'weren', \"weren't\", 'won', \"won't\", 'wouldn', \"wouldn't\"]\n"
     ]
    }
   ],
   "source": [
    "# spacy stopwords list covers more than nltk's\n",
    "print(nlp.Defaults.stop_words) # spacy\n",
    "print(stopwords.words('english')) #nltk"
   ]
  },
  {
   "cell_type": "code",
   "execution_count": 756,
   "metadata": {
    "scrolled": true
   },
   "outputs": [
    {
     "name": "stdout",
     "output_type": "stream",
     "text": [
      "sentence: ------------- 22\n",
      "True 0\n",
      "False 1\n",
      "False 2\n",
      "False 3\n",
      "False 4\n",
      "False 5\n",
      "False 6\n",
      "False 7\n",
      "False 8\n",
      "False 9\n",
      "False 10\n",
      "False 11\n",
      "False 12\n",
      "False 13\n",
      "False 14\n",
      "False 15\n",
      "False 16\n",
      "False 17\n",
      "False 18\n",
      "False 19\n",
      "False 20\n",
      "False 21\n",
      "sentence: ------------- 25\n",
      "True 0\n",
      "False 1\n",
      "False 2\n",
      "False 3\n",
      "False 4\n",
      "False 5\n",
      "False 6\n",
      "False 7\n",
      "False 8\n",
      "False 9\n",
      "False 10\n",
      "False 11\n",
      "False 12\n",
      "False 13\n",
      "False 14\n",
      "False 15\n",
      "False 16\n",
      "False 17\n",
      "False 18\n",
      "False 19\n",
      "False 20\n",
      "False 21\n",
      "False 22\n",
      "False 23\n",
      "False 24\n"
     ]
    }
   ],
   "source": [
    "doc = nlp(\"The ancient Egyptians had an elaborate set of funerary practices that they believed were necessary to ensure their immortality after death. These rituals included mummifying the body, casting magic spells, and burials with specific grave goods thought to be needed in the afterlife.\")\n",
    "for s in doc.sents:\n",
    "    print(\"sentence: -------------\", len(s))\n",
    "    for t in s:\n",
    "        print(t.is_sent_start, t.i - s.start)"
   ]
  },
  {
   "cell_type": "code",
   "execution_count": 59,
   "metadata": {},
   "outputs": [
    {
     "name": "stdout",
     "output_type": "stream",
     "text": [
      "2.2571162790697676 0.9147201345021733\n",
      "2.457612403100775 1.2233966714275941\n"
     ]
    }
   ],
   "source": [
    "### num_sents, num_dots statistics for positive facts\n",
    "num_sents = []\n",
    "num_dots = []\n",
    "\n",
    "for k in txt_dataset:\n",
    "    for f in txt_dataset[k]['SupportingFacts']:\n",
    "        doc = nlp(f['fact'])\n",
    "        num_sents.append(len(list(doc.sents)))\n",
    "        num_dots.append(f['fact'].count('.'))\n",
    "        \n",
    "print(np.mean(num_sents), np.std(num_sents))\n",
    "print(np.mean(num_dots), np.std(num_dots))"
   ]
  },
  {
   "cell_type": "markdown",
   "metadata": {},
   "source": [
    "### Mridu sent updated 7921samples, fixed \"missing pos facts\""
   ]
  },
  {
   "cell_type": "code",
   "execution_count": 60,
   "metadata": {},
   "outputs": [
    {
     "name": "stdout",
     "output_type": "stream",
     "text": [
      "7921\n",
      "Counter({2: 7657, 3: 245, 4: 19})\n"
     ]
    },
    {
     "data": {
      "text/plain": [
       "'\\ntemp = {}\\ncount = 0\\nfor i in new_txt_data:\\n    temp[count] = copy.deepcopy(i)\\n    temp[count][\\'Q\\'] = temp[count][\\'Question\\']\\n    temp[count][\\'A\\'] = temp[count][\\'Answer\\']\\n    del temp[count][\\'Question\\']\\n    del temp[count][\\'Answer\\']\\n    count += 1\\njson.dump(temp, open(\"/home/yingshac/CYS/WebQnA/WebQnA_data_new/output_mine_all_schema.json\", \"w\"), indent=4)\\n'"
      ]
     },
     "execution_count": 60,
     "metadata": {},
     "output_type": "execute_result"
    }
   ],
   "source": [
    "new_txt_data = json.load(open(\"/home/yingshac/CYS/WebQnA/WebQnA_data_new/output_mine_all_schema.json\", \"r\"))\n",
    "print(len(new_txt_data))\n",
    "print(Counter([len(new_txt_data[k]['SupportingFacts']) for k in new_txt_data]))\n",
    "'''\n",
    "temp = {}\n",
    "count = 0\n",
    "for i in new_txt_data:\n",
    "    temp[count] = copy.deepcopy(i)\n",
    "    temp[count]['Q'] = temp[count]['Question']\n",
    "    temp[count]['A'] = temp[count]['Answer']\n",
    "    del temp[count]['Question']\n",
    "    del temp[count]['Answer']\n",
    "    count += 1\n",
    "json.dump(temp, open(\"/home/yingshac/CYS/WebQnA/WebQnA_data_new/output_mine_all_schema.json\", \"w\"), indent=4)\n",
    "'''"
   ]
  },
  {
   "cell_type": "code",
   "execution_count": null,
   "metadata": {},
   "outputs": [],
   "source": [
    "def sample2keywords(k):\n",
    "    Q = new_txt_data[str(k)]['Q']\n",
    "    doc = nlp(Q)\n",
    "    keywords = set([t.text for s in doc.sents for t in s if t.pos_ in pos_list or ((not t.is_sent_start) and t.text[0].isupper())])\n",
    "\n",
    "    keywords = keywords - PUNCTUATIONS        \n",
    "\n",
    "    A = new_txt_data[str(k)]['A']\n",
    "    doc = nlp(A)\n",
    "    answerwords = set([t.text for t in doc if t.pos_ in pos_list or ((not t.is_sent_start) and t.text[0].isupper())])\n",
    "    answerwords = answerwords - PUNCTUATIONS\n",
    "\n",
    "    goldfactwords = set()\n",
    "    titlewords = set()\n",
    "    Q_A_words = keywords.union(answerwords)\n",
    "    for f in new_txt_data[str(k)]['SupportingFacts']:\n",
    "        doc = nlp(f['fact'])\n",
    "        goldfactwords = goldfactwords.union(set([t.text for t in doc if t.pos_ in pos_list or ((not t.is_sent_start) and t.text[0].isupper())]) - Q_A_words)\n",
    "        fact_title_raw = ' '.join(urllib.parse.unquote(f['url']).split('/')[-1].split('_'))\n",
    "        fact_title = pattern.sub('', fact_title_raw)\n",
    "        titlewords = titlewords.union(fact_title.split())\n",
    "    goldfactwords = goldfactwords - PUNCTUATIONS \n",
    "    titlewords = titlewords - PUNCTUATIONS\n",
    "\n",
    "    word_lists = [titlewords, keywords, goldfactwords, answerwords]\n",
    "    return word_lists"
   ]
  },
  {
   "cell_type": "code",
   "execution_count": null,
   "metadata": {},
   "outputs": [],
   "source": [
    "def add_html_row_vis_ori_dataset(k, word_lists, colors = [\"(223, 255, 238)\", \"(193, 239, 253)\", \"(253, 252, 152)\", \"(255, 214, 222)\"]):\n",
    "    html = \"\"\n",
    "    html += '<tr><td>{}.</td><td>Q: {}<br>'.format(k, highlight_words(word_lists, colors, new_txt_data[str(k)]['Q']))\n",
    "    for f in new_txt_data[str(k)]['SupportingFacts']:\n",
    "        html += '<br><br>&nbsp;&nbsp;{}'.format(highlight_words(word_lists, colors, f['fact']))\n",
    "        html += '<a href=\"{}\"> link</a>'.format(f['url'])\n",
    "    html += '<br><br>A: {}<br>'.format(highlight_words(word_lists, colors, new_txt_data[str(k)]['A']))\n",
    "    html += '</td><td>'\n",
    "    \n",
    "    for f in new_txt_data[str(k)]['DistractorFacts']:            \n",
    "            html += highlight_words(word_lists, colors, f['fact'])\n",
    "            html += '<a href=\"{}\"> {}</a><br><br>'.format(f['url'], f['title'])\n",
    "    html += '</td></tr>'\n",
    "    html += '<tr><td colspan=3><hr></td></tr>'\n",
    "    return html"
   ]
  },
  {
   "cell_type": "code",
   "execution_count": null,
   "metadata": {},
   "outputs": [],
   "source": [
    "sampled_indx = random.sample(range(7921), 25)\n",
    "\n",
    "html = \"<html><body>\"\n",
    "html += '<table border=\"0\" style=\"table-layout: fixed; width: 100%; word-break:break-word\">'\n",
    "html += '<tr bgcolor=gray><td width=5%>Index</td><td width=35%>Q & Pos Facts</td><td width=60%>Neg Facts</td></tr>'\n",
    "count = 0\n",
    "for k in sampled_indx:\n",
    "    count += 1\n",
    "    word_lists = sample2keywords(k)[:2]\n",
    "    html += add_html_row_vis_ori_dataset(k, word_lists)\n",
    "    o = open('txt_dataset_vis.html', 'wt')\n",
    "\n",
    "    o.write(html)\n",
    "    o.close()\n",
    "html += '</table></body></html>'\n",
    "o = open('txt_dataset_vis.html', 'wt')\n",
    "\n",
    "o.write(html)\n",
    "o.close()"
   ]
  },
  {
   "cell_type": "code",
   "execution_count": null,
   "metadata": {},
   "outputs": [],
   "source": []
  }
 ],
 "metadata": {
  "kernelspec": {
   "display_name": "py37",
   "language": "python",
   "name": "py37"
  },
  "language_info": {
   "codemirror_mode": {
    "name": "ipython",
    "version": 3
   },
   "file_extension": ".py",
   "mimetype": "text/x-python",
   "name": "python",
   "nbconvert_exporter": "python",
   "pygments_lexer": "ipython3",
   "version": "3.7.9"
  }
 },
 "nbformat": 4,
 "nbformat_minor": 4
}
