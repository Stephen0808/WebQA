{
 "cells": [
  {
   "cell_type": "code",
   "execution_count": 38,
   "metadata": {},
   "outputs": [],
   "source": [
    "import json, random, time\n",
    "import numpy as np\n",
    "from pprint import pprint\n",
    "from collections import Counter, defaultdict\n",
    "from bs4 import BeautifulSoup\n",
    "import requests\n",
    "import urllib.request\n",
    "import re\n",
    "import seaborn as sns\n",
    "import matplotlib.pyplot as plt\n",
    "from nltk.corpus import stopwords\n",
    "import pickle\n",
    "import copy\n",
    "import spacy\n",
    "from spacy import displacy\n",
    "from itertools import tee\n",
    "import wikipedia\n",
    "import pylcs\n",
    "import string\n",
    "np.set_printoptions(precision=4)"
   ]
  },
  {
   "cell_type": "code",
   "execution_count": 55,
   "metadata": {},
   "outputs": [
    {
     "name": "stdout",
     "output_type": "stream",
     "text": [
      "7921\n"
     ]
    }
   ],
   "source": [
    "txt_dataset = json.load(open(\"/home/yingshac/CYS/WebQnA/WebQnA_data_new/output_mine_all_schema.json\", \"r\"))\n",
    "print(len(txt_dataset))"
   ]
  },
  {
   "cell_type": "markdown",
   "metadata": {},
   "source": [
    "**Step 1: Question --> Identify keywords** NOUN, ADJ, NUM, PROPN, Capitalized words\n",
    "\n",
    "**Step 2: Pos Facts --> Relevant Wiki pages** Hyperlink, wikipedia.search(pos_fact's title)\n",
    "\n",
    "**Step 3: Wikipages --> html parsing --> paragraphs, images & their captions**\n",
    "\n",
    "**Step 4: Choose paragraphs with high overlap with the question *without* giving away the core answer info** Punish overlapping with {Q} \\\\ {A &cup; G} "
   ]
  },
  {
   "cell_type": "code",
   "execution_count": 3,
   "metadata": {},
   "outputs": [],
   "source": [
    "nlp = spacy.load('en_core_web_sm')"
   ]
  },
  {
   "cell_type": "code",
   "execution_count": 4,
   "metadata": {},
   "outputs": [],
   "source": [
    "def show_ents(doc): \n",
    "    if doc.ents: \n",
    "        for ent in doc.ents: \n",
    "            print(ent.text+' - ' +str(ent.start_char) +' - '+ str(ent.end_char) +' - '+ent.label_+ ' - '+str(spacy.explain(ent.label_))) \n",
    "    else: print('No named entities found.')"
   ]
  },
  {
   "cell_type": "code",
   "execution_count": 561,
   "metadata": {
    "scrolled": true
   },
   "outputs": [
    {
     "name": "stdout",
     "output_type": "stream",
     "text": [
      "5114\n",
      "Q:  How much higher did Take That & Party peak on the UK Albums Chart than Having a Party peaked on the Billboard Hot 100?\n",
      "A:  Take That & Party peaked 15 spots spots higher on it's respective chart.\n",
      "Released on 17 August 1992 on RCA Records, it reached number two on the UK Albums Chart and stayed in the UK Top 75 album chart for 73 weeks (one year, five months and one week). It was their only album not to reach number one until Wonderland peaked at number two in 2017.\n",
      "https://en.wikipedia.org/wiki/Take_That_%26_Party\n",
      "The song peaked at number four on Billboard 's Hot R&B Sides chart, and also charted at number 17 on the Billboard Hot 100 . \"Having a Party\", like its A-side, \"Bring It On Home to Me\", was written while Cooke was on tour for Henry Wynn.\n",
      "https://en.wikipedia.org/wiki/Having_a_Party_(song)\n",
      "\n",
      "Entities:\n",
      "Take That & Party - 20 - 37 - ORG - Companies, agencies, institutions, etc.\n",
      "UK - 50 - 52 - GPE - Countries, cities, states\n",
      "Party - 80 - 85 - ORG - Companies, agencies, institutions, etc.\n",
      "100 - 114 - 117 - CARDINAL - Numerals that do not fall under another type\n"
     ]
    },
    {
     "data": {
      "text/html": [
       "<span class=\"tex2jax_ignore\"><div class=\"entities\" style=\"line-height: 2.5; direction: ltr\">How much higher did \n",
       "<mark class=\"entity\" style=\"background: #7aecec; padding: 0.45em 0.6em; margin: 0 0.25em; line-height: 1; border-radius: 0.35em;\">\n",
       "    Take That &amp; Party\n",
       "    <span style=\"font-size: 0.8em; font-weight: bold; line-height: 1; border-radius: 0.35em; vertical-align: middle; margin-left: 0.5rem\">ORG</span>\n",
       "</mark>\n",
       " peak on the \n",
       "<mark class=\"entity\" style=\"background: #feca74; padding: 0.45em 0.6em; margin: 0 0.25em; line-height: 1; border-radius: 0.35em;\">\n",
       "    UK\n",
       "    <span style=\"font-size: 0.8em; font-weight: bold; line-height: 1; border-radius: 0.35em; vertical-align: middle; margin-left: 0.5rem\">GPE</span>\n",
       "</mark>\n",
       " Albums Chart than Having a \n",
       "<mark class=\"entity\" style=\"background: #7aecec; padding: 0.45em 0.6em; margin: 0 0.25em; line-height: 1; border-radius: 0.35em;\">\n",
       "    Party\n",
       "    <span style=\"font-size: 0.8em; font-weight: bold; line-height: 1; border-radius: 0.35em; vertical-align: middle; margin-left: 0.5rem\">ORG</span>\n",
       "</mark>\n",
       " peaked on the Billboard Hot \n",
       "<mark class=\"entity\" style=\"background: #e4e7d2; padding: 0.45em 0.6em; margin: 0 0.25em; line-height: 1; border-radius: 0.35em;\">\n",
       "    100\n",
       "    <span style=\"font-size: 0.8em; font-weight: bold; line-height: 1; border-radius: 0.35em; vertical-align: middle; margin-left: 0.5rem\">CARDINAL</span>\n",
       "</mark>\n",
       "?</div></span>"
      ],
      "text/plain": [
       "<IPython.core.display.HTML object>"
      ]
     },
     "metadata": {},
     "output_type": "display_data"
    },
    {
     "name": "stdout",
     "output_type": "stream",
     "text": [
      "['Take That & Party', 'Take That', 'List of songs recorded by Take That', 'Take That discography', 'Wonderland (Take That album)', 'Greatest Hits (Take That album)', 'Could It Be Magic', 'Take That Presents: The Circus Live', 'III (Take That album)', 'Jason Orange']\n",
      "['United Kingdom', 'Countries of the United Kingdom', '.uk', '2016 United Kingdom European Union membership referendum', 'List of political parties in the United Kingdom', 'UK garage', 'Postcodes in the United Kingdom', 'Sky UK', 'Prime Minister of the United Kingdom', 'UK Biobank']\n",
      "['Party', 'Political party', 'Labour Party (UK)', 'Republican Party (United States)', 'Political parties in the United States', 'Social Democratic Party of Germany', 'One-party state', 'Democratic Party (United States)', 'Black Panther Party', 'National Party of Australia']\n",
      "['100', '100 metres', '100%', 'Nasdaq-100', '$100', 'The 100', 'Time 100', 'Billboard Hot 100', \"List of men's footballers with 100 or more international caps\", '$100 hamburger']\n",
      " ---------------------------------------------------------------------------- \n",
      "\n",
      "5663\n",
      "Q:  What synthetic class do the steroids prednisolone acetate and methylprednisolone belong to?\n",
      "A:  They are synthetic glucocorticoids.\n",
      "Prednisolone acetate is a synthetic glucocorticoid corticosteroid and a corticosteroid ester. It is the 21- acetate ester of prednisolone. Prednisolone acetate is acutely toxic with an LD50 of >240 mg/kg for a rat and 3500 mg/kg for a mouse.\n",
      "https://en.wikipedia.org/wiki/Prednisolone_acetate\n",
      "Chemically, methylprednisolone is a synthetic pregnane steroid hormone derived from hydrocortisone and prednisolone. It belongs to a class of synthetic glucocorticoids and more generally, corticosteroids. It acts as a mineralocorticoid and glucocorticoid receptor agonist.\n",
      "https://en.wikipedia.org/wiki/Methylprednisolone\n",
      "\n",
      "Entities:\n",
      "No named entities found.\n"
     ]
    },
    {
     "name": "stderr",
     "output_type": "stream",
     "text": [
      "/home/yingshac/miniconda3/envs/py37/lib/python3.7/site-packages/spacy/displacy/__init__.py:189: UserWarning: [W006] No entities to visualize found in Doc object. If this is surprising to you, make sure the Doc was processed using a model that supports named entity recognition, and check the `doc.ents` property manually if necessary.\n",
      "  warnings.warn(Warnings.W006)\n"
     ]
    },
    {
     "data": {
      "text/html": [
       "<span class=\"tex2jax_ignore\"><div class=\"entities\" style=\"line-height: 2.5; direction: ltr\">What synthetic class do the steroids prednisolone acetate and methylprednisolone belong to?</div></span>"
      ],
      "text/plain": [
       "<IPython.core.display.HTML object>"
      ]
     },
     "metadata": {},
     "output_type": "display_data"
    },
    {
     "name": "stdout",
     "output_type": "stream",
     "text": [
      " ---------------------------------------------------------------------------- \n",
      "\n",
      "515\n",
      "Q:  What cardinal region of Hartford, Connecticut do the American soccer team Hartford City FC and University of Hartford's Hartford Hawks lie in?\n",
      "A:  In West Hartford.\n",
      "The Hartford Hawks are the NCAA Division I athletic teams of the University of Hartford, located in West Hartford, Connecticut.\n",
      "https://en.wikipedia.org/wiki/Hartford_Hawks_softball\n",
      "Hartford City FC is an American soccer team based in West Hartford, Connecticut. The team plays in the National Premier Soccer Leagues' Northeast Region, North Atlantic Conference.\n",
      "https://en.wikipedia.org/wiki/Hartford_City_FC\n",
      "\n",
      "Entities:\n",
      "Hartford - 24 - 32 - GPE - Countries, cities, states\n",
      "Connecticut - 34 - 45 - GPE - Countries, cities, states\n",
      "American - 53 - 61 - NORP - Nationalities or religious or political groups\n",
      "Hartford City FC - 74 - 90 - GPE - Countries, cities, states\n",
      "University of Hartford's - 95 - 119 - ORG - Companies, agencies, institutions, etc.\n",
      "Hartford Hawks - 120 - 134 - ORG - Companies, agencies, institutions, etc.\n"
     ]
    },
    {
     "data": {
      "text/html": [
       "<span class=\"tex2jax_ignore\"><div class=\"entities\" style=\"line-height: 2.5; direction: ltr\">What cardinal region of \n",
       "<mark class=\"entity\" style=\"background: #feca74; padding: 0.45em 0.6em; margin: 0 0.25em; line-height: 1; border-radius: 0.35em;\">\n",
       "    Hartford\n",
       "    <span style=\"font-size: 0.8em; font-weight: bold; line-height: 1; border-radius: 0.35em; vertical-align: middle; margin-left: 0.5rem\">GPE</span>\n",
       "</mark>\n",
       ", \n",
       "<mark class=\"entity\" style=\"background: #feca74; padding: 0.45em 0.6em; margin: 0 0.25em; line-height: 1; border-radius: 0.35em;\">\n",
       "    Connecticut\n",
       "    <span style=\"font-size: 0.8em; font-weight: bold; line-height: 1; border-radius: 0.35em; vertical-align: middle; margin-left: 0.5rem\">GPE</span>\n",
       "</mark>\n",
       " do the \n",
       "<mark class=\"entity\" style=\"background: #c887fb; padding: 0.45em 0.6em; margin: 0 0.25em; line-height: 1; border-radius: 0.35em;\">\n",
       "    American\n",
       "    <span style=\"font-size: 0.8em; font-weight: bold; line-height: 1; border-radius: 0.35em; vertical-align: middle; margin-left: 0.5rem\">NORP</span>\n",
       "</mark>\n",
       " soccer team \n",
       "<mark class=\"entity\" style=\"background: #feca74; padding: 0.45em 0.6em; margin: 0 0.25em; line-height: 1; border-radius: 0.35em;\">\n",
       "    Hartford City FC\n",
       "    <span style=\"font-size: 0.8em; font-weight: bold; line-height: 1; border-radius: 0.35em; vertical-align: middle; margin-left: 0.5rem\">GPE</span>\n",
       "</mark>\n",
       " and \n",
       "<mark class=\"entity\" style=\"background: #7aecec; padding: 0.45em 0.6em; margin: 0 0.25em; line-height: 1; border-radius: 0.35em;\">\n",
       "    University of Hartford's\n",
       "    <span style=\"font-size: 0.8em; font-weight: bold; line-height: 1; border-radius: 0.35em; vertical-align: middle; margin-left: 0.5rem\">ORG</span>\n",
       "</mark>\n",
       " \n",
       "<mark class=\"entity\" style=\"background: #7aecec; padding: 0.45em 0.6em; margin: 0 0.25em; line-height: 1; border-radius: 0.35em;\">\n",
       "    Hartford Hawks\n",
       "    <span style=\"font-size: 0.8em; font-weight: bold; line-height: 1; border-radius: 0.35em; vertical-align: middle; margin-left: 0.5rem\">ORG</span>\n",
       "</mark>\n",
       " lie in?</div></span>"
      ],
      "text/plain": [
       "<IPython.core.display.HTML object>"
      ]
     },
     "metadata": {},
     "output_type": "display_data"
    },
    {
     "name": "stdout",
     "output_type": "stream",
     "text": [
      "['Hartford, Connecticut', 'The Hartford', 'Hartford Whalers', 'Travelers Championship', 'Dee Hartford', 'Greater Hartford', 'Asa Hartford', 'Hartford Athletic', 'Hartford Courant', 'Eden Hartford']\n",
      "['Connecticut', 'The Haunting in Connecticut', 'Hartford, Connecticut', 'University of Connecticut', 'Connecticut River', 'List of municipalities in Connecticut', 'Bridgeport, Connecticut', 'Stamford, Connecticut', 'Sandy Hook Elementary School shooting', 'Connecticut Lakes']\n",
      "['American', 'White Americans', 'American Express', 'African Americans', 'American Airlines', 'American Samoa', 'American football', 'American Idol', 'German Americans', 'American bison']\n",
      "['Hartford City FC', 'Hartford City', 'Hartford, Connecticut', 'Hartford Athletic', 'National Premier Soccer League', 'Asa Hartford', 'Boston City FC', '2017 NPSL season', 'Al-Marzook Field at Alumni Stadium', 'New York City FC']\n",
      "['University of Hartford', 'Hartford, Connecticut', 'West Hartford, Connecticut', 'Hartford Hawks', 'University of Hartford Hartt School', 'Greater Hartford', 'John Hartford', 'Huntington Hartford', 'University of Saint Joseph (Connecticut)', 'University of Connecticut']\n",
      "['Hartford Hawks', 'Hartford Hawks baseball', 'Dee Hartford', 'University of Hartford', \"Hartford Hawks men's basketball\", 'Eden Hartford', \"Dunkin' Donuts Park\", \"Hartford Hawks men's lacrosse\", 'Alexis Triadis', 'Greater Hartford']\n",
      " ---------------------------------------------------------------------------- \n",
      "\n",
      "5274\n",
      "Q:  How do manufacturers ensure that the system that carries the graphical user interface elements works properly?\n",
      "A:  They use graphical user interface testing to test a product's graphical user interface to ensure it meets its specifications.\n",
      "In software engineering, graphical user interface testing is the process of testing a product's graphical user interface (GUI) to ensure it meets its specifications. This is normally done through the use of a variety of test cases .\n",
      "https://en.wikipedia.org/wiki/Graphical_user_interface_testing\n",
      "Graphical user interface elements are those elements used by graphical user interfaces (GUIs) to offer a consistent visual language to represent information stored in computers. These make it easier for people with few computer skills to work with and use computer software.\n",
      "https://en.wikipedia.org/wiki/List_of_graphical_user_interface_elements\n",
      "\n",
      "Entities:\n",
      "No named entities found.\n"
     ]
    },
    {
     "data": {
      "text/html": [
       "<span class=\"tex2jax_ignore\"><div class=\"entities\" style=\"line-height: 2.5; direction: ltr\">How do manufacturers ensure that the system that carries the graphical user interface elements works properly?</div></span>"
      ],
      "text/plain": [
       "<IPython.core.display.HTML object>"
      ]
     },
     "metadata": {},
     "output_type": "display_data"
    },
    {
     "name": "stdout",
     "output_type": "stream",
     "text": [
      " ---------------------------------------------------------------------------- \n",
      "\n",
      "1192\n",
      "Q:  What continents do the 31st parallel north and the 38th parallel north both cross?\n",
      "A:  Asia and North America\n",
      "The 38th parallel north is a circle of latitude that is 38 degrees north of the Earth's equatorial plane. It crosses Europe, the Mediterranean Sea, Asia, the Pacific Ocean, North America, and the Atlantic Ocean. The 38th parallel north formed the border between North and South Korea prior to the Korean War .\n",
      "https://en.wikipedia.org/wiki/38th_parallel_north\n",
      "In the United States, the 31st parallel defines part of the border between Mississippi and Louisiana, and part of the border between Alabama and Florida. The 31st parallel north is a circle of latitude that is 31 degrees north of the Earth's equatorial plane. It crosses Africa, Asia, the Pacific Ocean, North America and the Atlantic Ocean .\n",
      "https://en.wikipedia.org/wiki/31st_parallel_north\n",
      "\n",
      "Entities:\n",
      "38th - 51 - 55 - ORDINAL - \"first\", \"second\", etc.\n"
     ]
    },
    {
     "data": {
      "text/html": [
       "<span class=\"tex2jax_ignore\"><div class=\"entities\" style=\"line-height: 2.5; direction: ltr\">What continents do the 31st parallel north and the \n",
       "<mark class=\"entity\" style=\"background: #e4e7d2; padding: 0.45em 0.6em; margin: 0 0.25em; line-height: 1; border-radius: 0.35em;\">\n",
       "    38th\n",
       "    <span style=\"font-size: 0.8em; font-weight: bold; line-height: 1; border-radius: 0.35em; vertical-align: middle; margin-left: 0.5rem\">ORDINAL</span>\n",
       "</mark>\n",
       " parallel north both cross?</div></span>"
      ],
      "text/plain": [
       "<IPython.core.display.HTML object>"
      ]
     },
     "metadata": {},
     "output_type": "display_data"
    },
    {
     "name": "stdout",
     "output_type": "stream",
     "text": [
      "['38th parallel north', '38th Street gang', '38th Street (Minneapolis)', '38th Infantry Division (United States)', 'Korean War', '38th Academy Awards', '38th Infantry Regiment (United States)', '38th Regiment', '38th Filmfare Awards', '38th SS-Grenadier-Division \"Nibelungen\"']\n",
      " ---------------------------------------------------------------------------- \n",
      "\n"
     ]
    }
   ],
   "source": [
    "### NER does not give us what we want\n",
    "ids = random.sample(range(7921), 5)\n",
    "for i in ids:\n",
    "    k = str(i)\n",
    "    print(k)\n",
    "    Q = txt_dataset[k]['Q']\n",
    "    print('Q: ', Q)\n",
    "    print('A: ', txt_dataset[k]['A'])\n",
    "    for f in txt_dataset[k]['SupportingFacts']:\n",
    "        print(f['fact'])\n",
    "        print(f['url'])\n",
    "    print(\"\\nEntities:\")\n",
    "    doc = nlp(Q)\n",
    "    show_ents(doc)\n",
    "    if doc.ents: displacy.render(doc, style='ent', jupyter=True)\n",
    "    for e in doc.ents:\n",
    "        print(wikipedia.search(e.text))\n",
    "    print(\" ---------------------------------------------------------------------------- \\n\")"
   ]
  },
  {
   "cell_type": "code",
   "execution_count": 61,
   "metadata": {},
   "outputs": [
    {
     "name": "stderr",
     "output_type": "stream",
     "text": [
      "/home/yingshac/miniconda3/envs/py37/lib/python3.7/site-packages/seaborn/distributions.py:2551: FutureWarning: `distplot` is a deprecated function and will be removed in a future version. Please adapt your code to use either `displot` (a figure-level function with similar flexibility) or `histplot` (an axes-level function for histograms).\n",
      "  warnings.warn(msg, FutureWarning)\n",
      "No handles with labels found to put in legend.\n"
     ]
    },
    {
     "name": "stdout",
     "output_type": "stream",
     "text": [
      "44.5311007751938\n"
     ]
    },
    {
     "data": {
      "text/plain": [
       "<matplotlib.legend.Legend at 0x7fbe92c6bd50>"
      ]
     },
     "execution_count": 61,
     "metadata": {},
     "output_type": "execute_result"
    },
    {
     "data": {
      "image/png": "[encoded data removed]",
      "text/plain": [
       "<Figure size 432x288 with 1 Axes>"
      ]
     },
     "metadata": {},
     "output_type": "display_data"
    }
   ],
   "source": [
    "# Length distribution of pos facts (Whitespace tokenization)\n",
    "fact_lengths = [len(f['fact'].split()) for k in txt_dataset for f in txt_dataset[k]['SupportingFacts']]\n",
    "print(np.mean(fact_lengths))\n",
    "sns.distplot(fact_lengths, kde=False)\n",
    "plt.legend()"
   ]
  },
  {
   "cell_type": "code",
   "execution_count": 58,
   "metadata": {
    "collapsed": true
   },
   "outputs": [
    {
     "name": "stdout",
     "output_type": "stream",
     "text": [
      "{'seeming', 'show', 'noone', 'over', 'should', 'whoever', 'beforehand', \"'m\", 'quite', 'put', 'either', 'call', 'hereby', 'elsewhere', 'thence', 'while', 'part', 'becoming', 'whereafter', 'neither', 'anywhere', 'nothing', 'some', 'both', 'four', 'empty', 'three', 'if', 'thereafter', 'already', 'do', '’ll', 'became', 'am', 'namely', 'ca', 'get', 'becomes', 'whither', 'could', 'therein', 'twenty', 'we', 'amongst', 'whence', 'otherwise', '’d', 'further', 'sixty', 'within', 'meanwhile', 'though', 'whereby', 'why', 'than', 'due', 'thus', 'with', 'were', 'move', 'only', 'therefore', 'being', 'an', 'per', 'wherever', 'any', 'who', 'mine', 'n’t', 'onto', 'several', 'cannot', \"'ve\", 'again', 'enough', 'once', 'or', 'thereupon', 'forty', 'every', 'alone', 'own', \"'ll\", 'he', '’s', 'often', 'whether', 'might', 'however', 'by', 'back', 'what', 'nobody', 'hereafter', 'many', 'this', 'almost', 'afterwards', 'become', 'say', 'top', 'will', 'not', 'they', 'two', 'everywhere', 'into', 'can', 'ten', 'much', 'through', 'at', 'and', \"'d\", 'now', 'anyway', 'for', 'keep', 'unless', 'full', 'so', 'yourselves', 'hundred', 'before', 'was', 'someone', 'very', 'when', 'until', 'had', 'done', 'that', 'rather', 'anything', 'your', 'all', 'fifty', 'latter', 'just', 'never', \"n't\", 'did', '’ve', '‘re', '’m', 'side', 'twelve', 'its', 'themselves', 'our', 'eight', 'because', 'eleven', 'himself', 'among', 'via', 'beyond', 'then', 'together', 'the', 'using', 'been', 'everyone', 'besides', 'least', 'beside', 'but', 'one', 'too', '‘d', 'about', 'since', 'whenever', 'where', 'most', 'how', 'nor', 'as', 'first', 'to', 'another', 'throughout', 'yet', 'a', 'wherein', 'formerly', 'former', 'her', 'thereby', 'less', 'please', 'out', 'those', 'behind', 'except', 'i', 'towards', 're', '’re', 'ever', 'always', 'indeed', 'make', 'after', 'hence', 'no', 'his', 'more', 'above', 'myself', 'others', 'sometime', 'she', 'else', 'something', 'anyone', 'their', 'up', 'none', 'during', \"'re\", 'latterly', 'really', 'whereas', 'same', 'doing', 'other', 'last', 'six', 'nevertheless', 'third', 'there', 'whom', 'well', 'from', 'used', 'few', 'mostly', 'anyhow', 'below', 'along', '‘s', 'amount', 'in', 'fifteen', 'hereupon', 'here', 'whatever', '‘m', 'still', 'itself', 'down', 'front', 'somehow', 'us', 'hers', 'although', 'me', 'herein', 'against', 'give', 'has', 'does', 'him', 'across', 'moreover', 'it', 'name', 'go', 'them', 'thru', 'without', 'are', 'next', 'take', 'everything', 'also', 'between', 'seemed', 'somewhere', 'nowhere', 'whole', 'around', 'such', \"'s\", 'even', 'made', 'regarding', 'my', 'you', 'may', 'serious', 'off', 'would', 'of', 'nine', '‘ll', 'under', 'each', 'yours', 'these', 'five', 'must', '‘ve', 'see', 'herself', 'yourself', 'be', 'seems', 'ours', 'sometimes', 'whose', 'bottom', 'perhaps', 'ourselves', 'toward', 'is', 'which', 'seem', 'upon', 'whereupon', 'on', 'have', 'n‘t', 'various'}\n",
      "['i', 'me', 'my', 'myself', 'we', 'our', 'ours', 'ourselves', 'you', \"you're\", \"you've\", \"you'll\", \"you'd\", 'your', 'yours', 'yourself', 'yourselves', 'he', 'him', 'his', 'himself', 'she', \"she's\", 'her', 'hers', 'herself', 'it', \"it's\", 'its', 'itself', 'they', 'them', 'their', 'theirs', 'themselves', 'what', 'which', 'who', 'whom', 'this', 'that', \"that'll\", 'these', 'those', 'am', 'is', 'are', 'was', 'were', 'be', 'been', 'being', 'have', 'has', 'had', 'having', 'do', 'does', 'did', 'doing', 'a', 'an', 'the', 'and', 'but', 'if', 'or', 'because', 'as', 'until', 'while', 'of', 'at', 'by', 'for', 'with', 'about', 'against', 'between', 'into', 'through', 'during', 'before', 'after', 'above', 'below', 'to', 'from', 'up', 'down', 'in', 'out', 'on', 'off', 'over', 'under', 'again', 'further', 'then', 'once', 'here', 'there', 'when', 'where', 'why', 'how', 'all', 'any', 'both', 'each', 'few', 'more', 'most', 'other', 'some', 'such', 'no', 'nor', 'not', 'only', 'own', 'same', 'so', 'than', 'too', 'very', 's', 't', 'can', 'will', 'just', 'don', \"don't\", 'should', \"should've\", 'now', 'd', 'll', 'm', 'o', 're', 've', 'y', 'ain', 'aren', \"aren't\", 'couldn', \"couldn't\", 'didn', \"didn't\", 'doesn', \"doesn't\", 'hadn', \"hadn't\", 'hasn', \"hasn't\", 'haven', \"haven't\", 'isn', \"isn't\", 'ma', 'mightn', \"mightn't\", 'mustn', \"mustn't\", 'needn', \"needn't\", 'shan', \"shan't\", 'shouldn', \"shouldn't\", 'wasn', \"wasn't\", 'weren', \"weren't\", 'won', \"won't\", 'wouldn', \"wouldn't\"]\n"
     ]
    }
   ],
   "source": [
    "# spacy stopwords list covers more than nltk's\n",
    "print(nlp.Defaults.stop_words) # spacy\n",
    "print(stopwords.words('english')) #nltk"
   ]
  },
  {
   "cell_type": "code",
   "execution_count": 756,
   "metadata": {
    "collapsed": true
   },
   "outputs": [
    {
     "name": "stdout",
     "output_type": "stream",
     "text": [
      "sentence: ------------- 22\n",
      "True 0\n",
      "False 1\n",
      "False 2\n",
      "False 3\n",
      "False 4\n",
      "False 5\n",
      "False 6\n",
      "False 7\n",
      "False 8\n",
      "False 9\n",
      "False 10\n",
      "False 11\n",
      "False 12\n",
      "False 13\n",
      "False 14\n",
      "False 15\n",
      "False 16\n",
      "False 17\n",
      "False 18\n",
      "False 19\n",
      "False 20\n",
      "False 21\n",
      "sentence: ------------- 25\n",
      "True 0\n",
      "False 1\n",
      "False 2\n",
      "False 3\n",
      "False 4\n",
      "False 5\n",
      "False 6\n",
      "False 7\n",
      "False 8\n",
      "False 9\n",
      "False 10\n",
      "False 11\n",
      "False 12\n",
      "False 13\n",
      "False 14\n",
      "False 15\n",
      "False 16\n",
      "False 17\n",
      "False 18\n",
      "False 19\n",
      "False 20\n",
      "False 21\n",
      "False 22\n",
      "False 23\n",
      "False 24\n"
     ]
    }
   ],
   "source": [
    "doc = nlp(\"The ancient Egyptians had an elaborate set of funerary practices that they believed were necessary to ensure their immortality after death. These rituals included mummifying the body, casting magic spells, and burials with specific grave goods thought to be needed in the afterlife.\")\n",
    "for s in doc.sents:\n",
    "    print(\"sentence: -------------\", len(s))\n",
    "    for t in s:\n",
    "        print(t.is_sent_start, t.i - s.start)"
   ]
  },
  {
   "cell_type": "code",
   "execution_count": 59,
   "metadata": {},
   "outputs": [
    {
     "name": "stdout",
     "output_type": "stream",
     "text": [
      "2.2571162790697676 0.9147201345021733\n",
      "2.457612403100775 1.2233966714275941\n"
     ]
    }
   ],
   "source": [
    "### num_sents, num_dots statistics for positive facts\n",
    "num_sents = []\n",
    "num_dots = []\n",
    "\n",
    "for k in txt_dataset:\n",
    "    for f in txt_dataset[k]['SupportingFacts']:\n",
    "        doc = nlp(f['fact'])\n",
    "        num_sents.append(len(list(doc.sents)))\n",
    "        num_dots.append(f['fact'].count('.'))\n",
    "        \n",
    "print(np.mean(num_sents), np.std(num_sents))\n",
    "print(np.mean(num_dots), np.std(num_dots))"
   ]
  },
  {
   "cell_type": "markdown",
   "metadata": {},
   "source": [
    "### Mridu sent updated 7921samples, fixed \"missing pos facts\""
   ]
  },
  {
   "cell_type": "code",
   "execution_count": 60,
   "metadata": {},
   "outputs": [
    {
     "name": "stdout",
     "output_type": "stream",
     "text": [
      "7921\n",
      "Counter({2: 7657, 3: 245, 4: 19})\n"
     ]
    },
    {
     "data": {
      "text/plain": [
       "'\\ntemp = {}\\ncount = 0\\nfor i in new_txt_data:\\n    temp[count] = copy.deepcopy(i)\\n    temp[count][\\'Q\\'] = temp[count][\\'Question\\']\\n    temp[count][\\'A\\'] = temp[count][\\'Answer\\']\\n    del temp[count][\\'Question\\']\\n    del temp[count][\\'Answer\\']\\n    count += 1\\njson.dump(temp, open(\"/home/yingshac/CYS/WebQnA/WebQnA_data_new/output_mine_all_schema.json\", \"w\"), indent=4)\\n'"
      ]
     },
     "execution_count": 60,
     "metadata": {},
     "output_type": "execute_result"
    }
   ],
   "source": [
    "new_txt_data = json.load(open(\"/home/yingshac/CYS/WebQnA/WebQnA_data_new/output_mine_all_schema.json\", \"r\"))\n",
    "print(len(new_txt_data))\n",
    "print(Counter([len(new_txt_data[k]['SupportingFacts']) for k in new_txt_data]))\n",
    "'''\n",
    "temp = {}\n",
    "count = 0\n",
    "for i in new_txt_data:\n",
    "    temp[count] = copy.deepcopy(i)\n",
    "    temp[count]['Q'] = temp[count]['Question']\n",
    "    temp[count]['A'] = temp[count]['Answer']\n",
    "    del temp[count]['Question']\n",
    "    del temp[count]['Answer']\n",
    "    count += 1\n",
    "json.dump(temp, open(\"/home/yingshac/CYS/WebQnA/WebQnA_data_new/output_mine_all_schema.json\", \"w\"), indent=4)\n",
    "'''"
   ]
  },
  {
   "cell_type": "code",
   "execution_count": null,
   "metadata": {},
   "outputs": [],
   "source": [
    "def sample2keywords(k):\n",
    "    Q = new_txt_data[str(k)]['Q']\n",
    "    doc = nlp(Q)\n",
    "    keywords = set([t.text for s in doc.sents for t in s if t.pos_ in pos_list or ((not t.is_sent_start) and t.text[0].isupper())])\n",
    "\n",
    "    keywords = keywords - PUNCTUATIONS        \n",
    "\n",
    "    A = new_txt_data[str(k)]['A']\n",
    "    doc = nlp(A)\n",
    "    answerwords = set([t.text for t in doc if t.pos_ in pos_list or ((not t.is_sent_start) and t.text[0].isupper())])\n",
    "    answerwords = answerwords - PUNCTUATIONS\n",
    "\n",
    "    goldfactwords = set()\n",
    "    titlewords = set()\n",
    "    Q_A_words = keywords.union(answerwords)\n",
    "    for f in new_txt_data[str(k)]['SupportingFacts']:\n",
    "        doc = nlp(f['fact'])\n",
    "        goldfactwords = goldfactwords.union(set([t.text for t in doc if t.pos_ in pos_list or ((not t.is_sent_start) and t.text[0].isupper())]) - Q_A_words)\n",
    "        fact_title_raw = ' '.join(urllib.parse.unquote(f['url']).split('/')[-1].split('_'))\n",
    "        fact_title = pattern.sub('', fact_title_raw)\n",
    "        titlewords = titlewords.union(fact_title.split())\n",
    "    goldfactwords = goldfactwords - PUNCTUATIONS \n",
    "    titlewords = titlewords - PUNCTUATIONS\n",
    "\n",
    "    word_lists = [titlewords, keywords, goldfactwords, answerwords]\n",
    "    return word_lists"
   ]
  },
  {
   "cell_type": "code",
   "execution_count": null,
   "metadata": {},
   "outputs": [],
   "source": [
    "def add_html_row_vis_ori_dataset(k, word_lists, colors = [\"(223, 255, 238)\", \"(193, 239, 253)\", \"(253, 252, 152)\", \"(255, 214, 222)\"]):\n",
    "    html = \"\"\n",
    "    html += '<tr><td>{}.</td><td>Q: {}<br>'.format(k, highlight_words(word_lists, colors, new_txt_data[str(k)]['Q']))\n",
    "    for f in new_txt_data[str(k)]['SupportingFacts']:\n",
    "        html += '<br><br>&nbsp;&nbsp;{}'.format(highlight_words(word_lists, colors, f['fact']))\n",
    "        html += '<a href=\"{}\"> link</a>'.format(f['url'])\n",
    "    html += '<br><br>A: {}<br>'.format(highlight_words(word_lists, colors, new_txt_data[str(k)]['A']))\n",
    "    html += '</td><td>'\n",
    "    \n",
    "    for f in new_txt_data[str(k)]['DistractorFacts']:            \n",
    "            html += highlight_words(word_lists, colors, f['fact'])\n",
    "            html += '<a href=\"{}\"> {}</a><br><br>'.format(f['url'], f['title'])\n",
    "    html += '</td></tr>'\n",
    "    html += '<tr><td colspan=3><hr></td></tr>'\n",
    "    return html"
   ]
  },
  {
   "cell_type": "code",
   "execution_count": null,
   "metadata": {},
   "outputs": [],
   "source": [
    "sampled_indx = random.sample(range(7921), 25)\n",
    "\n",
    "html = \"<html><body>\"\n",
    "html += '<table border=\"0\" style=\"table-layout: fixed; width: 100%; word-break:break-word\">'\n",
    "html += '<tr bgcolor=gray><td width=5%>Index</td><td width=35%>Q & Pos Facts</td><td width=60%>Neg Facts</td></tr>'\n",
    "count = 0\n",
    "for k in sampled_indx:\n",
    "    count += 1\n",
    "    word_lists = sample2keywords(k)[:2]\n",
    "    html += add_html_row_vis_ori_dataset(k, word_lists)\n",
    "    o = open('txt_dataset_vis.html', 'wt')\n",
    "\n",
    "    o.write(html)\n",
    "    o.close()\n",
    "html += '</table></body></html>'\n",
    "o = open('txt_dataset_vis.html', 'wt')\n",
    "\n",
    "o.write(html)\n",
    "o.close()"
   ]
  },
  {
   "cell_type": "code",
   "execution_count": null,
   "metadata": {},
   "outputs": [],
   "source": []
  },
  {
   "cell_type": "code",
   "execution_count": null,
   "metadata": {},
   "outputs": [],
   "source": []
  }
 ],
 "metadata": {
  "kernelspec": {
   "display_name": "py37",
   "language": "python",
   "name": "py37"
  },
  "language_info": {
   "codemirror_mode": {
    "name": "ipython",
    "version": 3
   },
   "file_extension": ".py",
   "mimetype": "text/x-python",
   "name": "python",
   "nbconvert_exporter": "python",
   "pygments_lexer": "ipython3",
   "version": "3.7.9"
  }
 },
 "nbformat": 4,
 "nbformat_minor": 4
}
