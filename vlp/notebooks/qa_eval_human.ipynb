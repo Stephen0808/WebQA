{
 "cells": [
  {
   "cell_type": "code",
   "execution_count": 21,
   "metadata": {},
   "outputs": [],
   "source": [
    "import spacy\n",
    "import numpy as np\n",
    "from collections import Counter\n",
    "from word2number import w2n\n",
    "import string, re, json\n",
    "import seaborn as sns\n",
    "import matplotlib.pyplot as plt\n",
    "from pprint import pprint\n",
    "import random"
   ]
  },
  {
   "cell_type": "code",
   "execution_count": 2,
   "metadata": {},
   "outputs": [],
   "source": [
    "nlp = spacy.load(\"en_core_web_sm\", disable=[\"ner\",\"textcat\",\"parser\"])"
   ]
  },
  {
   "cell_type": "code",
   "execution_count": 67,
   "metadata": {},
   "outputs": [],
   "source": [
    "def toNum(word):\n",
    "    try: return w2n.word_to_num(word)\n",
    "    except:\n",
    "        return word\n",
    "\n",
    "def normalize_text(s):\n",
    "    def remove_articles(text):\n",
    "        regex = re.compile(r\"\\b(a|an|the)\\b\", re.UNICODE)\n",
    "        return re.sub(regex, \" \", text)\n",
    "\n",
    "    def white_space_fix(text): # additional: converting numbers to digit form\n",
    "        return \" \".join([str(toNum(w)) for w in text.split()])\n",
    "\n",
    "    def remove_punc(text):\n",
    "        exclude = set(string.punctuation) - set(['.'])\n",
    "        text1 = \"\".join(ch for ch in text if ch not in exclude)\n",
    "        return re.sub(r\"\\.(?!\\d)\", \"\", text1) # remove '.' if it's not a decimal point\n",
    "\n",
    "    def lower(text):\n",
    "        return text.lower()\n",
    "    \n",
    "    def lemmatization(text):\n",
    "        return \" \".join([nlp(token)[0].lemma_ for token in text.split()])\n",
    "\n",
    "    if len(s.strip()) == 1:\n",
    "        # accept article and punc if input is a single char\n",
    "        return white_space_fix(lower(s))\n",
    "    elif len(s.strip().split()) == 1: \n",
    "        # accept article if input is a single word\n",
    "        return lemmatization(white_space_fix(remove_punc(lower(s))))\n",
    "\n",
    "    return lemmatization(white_space_fix(remove_articles(remove_punc(lower(s)))))"
   ]
  },
  {
   "cell_type": "code",
   "execution_count": 10,
   "metadata": {},
   "outputs": [],
   "source": [
    "# VQA Eval (SQuAD style EM, F1)\n",
    "def compute_vqa_metrics(cands, a):\n",
    "    if len(cands) == 0: return (0,0,0)\n",
    "    bow_a = normalize_text(a).split()\n",
    "    F1 = []\n",
    "    EM = 0\n",
    "    RE = []\n",
    "    PR = []\n",
    "    for c in cands:\n",
    "        bow_c = normalize_text(c).split()\n",
    "        if bow_c == bow_a:\n",
    "            EM = 1\n",
    "        common = Counter(bow_a) & Counter(bow_c)\n",
    "        num_same = sum(common.values())\n",
    "        if num_same == 0:\n",
    "            return (0,0,0,0,0)\n",
    "        precision = 1.0 * num_same / len(bow_c)\n",
    "        recall = 1.0 * num_same / len(bow_a)\n",
    "        RE.append(recall)\n",
    "        PR.append(precision)\n",
    "\n",
    "        f1 = 2*precision*recall / (precision + recall + 1e-5)\n",
    "        F1.append(f1)\n",
    "    \n",
    "    PR_avg = np.mean(PR)\n",
    "    RE_avg = np.mean(RE)\n",
    "    F1_avg = np.mean(F1)\n",
    "    F1_max = np.max(F1)\n",
    "    return (F1_avg, F1_max, EM, RE_avg, PR_avg)"
   ]
  },
  {
   "cell_type": "code",
   "execution_count": 72,
   "metadata": {},
   "outputs": [
    {
     "name": "stdout",
     "output_type": "stream",
     "text": [
      "F1_avg =  0.29015513975767765\n",
      "F1_max =  0.29015513975767765\n",
      "EM =  0.06719653179190752\n",
      "precision =  0.21522747266346445\n",
      "recall =  0.7601812666299661\n"
     ]
    }
   ],
   "source": [
    "human_img_json = json.load(open(\"/home/yingshac/CYS/WebQnA/WebQnA_data_new/human_img2.json\", \"r\"))\n",
    "C = [[str(datum['CuratedEvalAnswer'])] for datum in human_img_json]\n",
    "A = [str(datum['A']).replace('\"', \"\") for datum in human_img_json]\n",
    "F1_avg_scores = []\n",
    "F1_max_scores = []\n",
    "EM_scores = []\n",
    "pr_scores = []\n",
    "re_scores = []\n",
    "F1_avg_bertscores = []\n",
    "F1_max_bertscores = []\n",
    "hard = []\n",
    "middle = []\n",
    "for cands, a in zip(C, A):\n",
    "    assert len(cands)==1\n",
    "    F1_avg, F1_max, EM, RE, PR = compute_vqa_metrics(cands, a)\n",
    "    F1_avg_scores.append(F1_avg)\n",
    "    F1_max_scores.append(F1_max)\n",
    "    EM_scores.append(EM)\n",
    "    \n",
    "    pr_scores.append(PR)\n",
    "    re_scores.append(RE)\n",
    "    \n",
    "    if RE < 0.1:\n",
    "        hard.append((PR, RE, cands[0], a))\n",
    "    if RE < 0.9 and RE > 0.1:\n",
    "        middle.append((PR, RE, cands[0], a))\n",
    "    #F1_avg_bertscore, F1_max_bertscore = compute_bertscore(cands, a)\n",
    "    #F1_avg_bertscores.append(F1_avg_bertscore)\n",
    "    #F1_max_bertscores.append(F1_max_bertscore)\n",
    "print(\"F1_avg = \", np.mean(F1_avg_scores))\n",
    "print(\"F1_max = \", np.mean(F1_max_scores))\n",
    "print(\"EM = \", np.mean(EM_scores))\n",
    "print(\"precision = \", np.mean(pr_scores))\n",
    "print(\"recall = \", np.mean(re_scores))\n",
    "#print(\"F1_avg_bertscore = \", np.mean(F1_avg_bertscores))\n",
    "#print(\"F1_max_bertscore = \", np.mean(F1_max_bertscores))"
   ]
  },
  {
   "cell_type": "code",
   "execution_count": 73,
   "metadata": {},
   "outputs": [
    {
     "name": "stderr",
     "output_type": "stream",
     "text": [
      "/home/yingshac/miniconda3/envs/py37/lib/python3.7/site-packages/seaborn/distributions.py:2551: FutureWarning: `distplot` is a deprecated function and will be removed in a future version. Please adapt your code to use either `displot` (a figure-level function with similar flexibility) or `histplot` (an axes-level function for histograms).\n",
      "  warnings.warn(msg, FutureWarning)\n"
     ]
    },
    {
     "data": {
      "text/plain": [
       "<matplotlib.legend.Legend at 0x7f816bd81d50>"
      ]
     },
     "execution_count": 73,
     "metadata": {},
     "output_type": "execute_result"
    },
    {
     "data": {
      "image/png": "[encoded data removed]",
      "text/plain": [
       "<Figure size 432x288 with 1 Axes>"
      ]
     },
     "metadata": {},
     "output_type": "display_data"
    }
   ],
   "source": [
    "sns.distplot(pr_scores, kde=False, label=\"PR\")\n",
    "sns.distplot(re_scores, kde=False, label=\"RE\")\n",
    "plt.legend()"
   ]
  },
  {
   "cell_type": "code",
   "execution_count": 74,
   "metadata": {},
   "outputs": [
    {
     "name": "stdout",
     "output_type": "stream",
     "text": [
      "266\n"
     ]
    },
    {
     "data": {
      "text/plain": [
       "[(0, 0, 'It is rectangular.', 'A diamond.'),\n",
       " (0, 0, 'Cross-hatch', 'Cross hatch.'),\n",
       " (0, 0, 'The buttons on the Sopransaksofon are silver', 'white'),\n",
       " (0, 0, \"Only the O'hare Airport has a moving walkway.\", 'no'),\n",
       " (0,\n",
       "  0,\n",
       "  'A male Northern Cardinal does have a beak that is thicker than its eyeball.',\n",
       "  'Yes'),\n",
       " (0, 0, 'Yes, she is.', 'no'),\n",
       " (0,\n",
       "  0,\n",
       "  'The trees outside of the Bangkok Palace are trimmed into spheres.',\n",
       "  'Circles'),\n",
       " (0, 0, 'No, it does not.', 'Yes'),\n",
       " (0, 0, 'One flat side faces the soccer field.', '3'),\n",
       " (0,\n",
       "  0,\n",
       "  'The background of the sign is grey, while the lettering is black.',\n",
       "  'green')]"
      ]
     },
     "execution_count": 74,
     "metadata": {},
     "output_type": "execute_result"
    }
   ],
   "source": [
    "print(len(hard))\n",
    "random.sample(hard, 10)"
   ]
  },
  {
   "cell_type": "code",
   "execution_count": 75,
   "metadata": {},
   "outputs": [
    {
     "name": "stdout",
     "output_type": "stream",
     "text": [
      "124\n"
     ]
    },
    {
     "data": {
      "text/plain": [
       "[(0.2857142857142857,\n",
       "  0.4,\n",
       "  'The entrance to Parker Hall has more columns.',\n",
       "  'Parker Hall at Bates College'),\n",
       " (0.3333333333333333,\n",
       "  0.3333333333333333,\n",
       "  'The seats are white.',\n",
       "  'red and white'),\n",
       " (0.1,\n",
       "  0.2,\n",
       "  'You could sit in air conditioned comfort at Marble slab',\n",
       "  '14 Market Square in Knoxville'),\n",
       " (0.2,\n",
       "  0.25,\n",
       "  'The deepest indent is in the center.',\n",
       "  'in the middle towards the bottom'),\n",
       " (0.23529411764705882,\n",
       "  0.6666666666666666,\n",
       "  'Munro House in South Branch has a cupola like detail upon the top while the Orchard Terrace Apartments do not.',\n",
       "  'Munro House, South Branch, New Jersey.'),\n",
       " (0.2,\n",
       "  0.6,\n",
       "  'The four characters depicted in Portrait of the Four Tetrarchs are shown to be holding each other',\n",
       "  'Embracing each other, in pairs.'),\n",
       " (0.06666666666666667,\n",
       "  0.5,\n",
       "  'The \"Pasing\" sign on the Munich tram type A 2.2 in the Munich transport museum is higher than the \"256\".',\n",
       "  'The Pasign sign.'),\n",
       " (0.4,\n",
       "  0.26666666666666666,\n",
       "  'The helmet, chestpiece, and item in the hand are all gold plated.',\n",
       "  'A small sculpture of Nike in her hand, tip of her spear, her helmet and chest.'),\n",
       " (0.2,\n",
       "  0.6666666666666666,\n",
       "  'The Chinese basketball team wore red and yellow at the 2008 Olympics.',\n",
       "  'Red and Gold'),\n",
       " (0.25, 0.5, 'They both carry guns.', 'guns / rifles')]"
      ]
     },
     "execution_count": 75,
     "metadata": {},
     "output_type": "execute_result"
    }
   ],
   "source": [
    "print(len(middle))\n",
    "random.sample(middle, 10)"
   ]
  },
  {
   "cell_type": "code",
   "execution_count": 58,
   "metadata": {},
   "outputs": [
    {
     "data": {
      "text/plain": [
       "'5'"
      ]
     },
     "execution_count": 58,
     "metadata": {},
     "output_type": "execute_result"
    }
   ],
   "source": [
    "normalize_text('Five.')"
   ]
  },
  {
   "cell_type": "code",
   "execution_count": null,
   "metadata": {},
   "outputs": [],
   "source": []
  }
 ],
 "metadata": {
  "kernelspec": {
   "display_name": "py37",
   "language": "python",
   "name": "py37"
  },
  "language_info": {
   "codemirror_mode": {
    "name": "ipython",
    "version": 3
   },
   "file_extension": ".py",
   "mimetype": "text/x-python",
   "name": "python",
   "nbconvert_exporter": "python",
   "pygments_lexer": "ipython3",
   "version": "3.7.9"
  }
 },
 "nbformat": 4,
 "nbformat_minor": 4
}
