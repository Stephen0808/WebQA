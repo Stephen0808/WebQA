{
 "cells": [
  {
   "cell_type": "code",
   "execution_count": 6,
   "metadata": {},
   "outputs": [],
   "source": [
    "import json, pickle, os, time, copy, random, base64\n",
    "from collections import Counter, defaultdict\n",
    "import numpy as np\n",
    "import torch\n",
    "from pprint import pprint"
   ]
  },
  {
   "cell_type": "code",
   "execution_count": 4,
   "metadata": {},
   "outputs": [
    {
     "name": "stdout",
     "output_type": "stream",
     "text": [
      "240700\n"
     ]
    }
   ],
   "source": [
    "with open(\"/data/yingshac/MMMHQA/VinVL_output/x_neg_imgs_0_240661/predictions.lineidx\", \"r\") as fp:\n",
    "    pred_lineidx = [int(i.strip()) for i in fp.readlines()]\n",
    "    print(len(pred_lineidx))"
   ]
  },
  {
   "cell_type": "code",
   "execution_count": 7,
   "metadata": {},
   "outputs": [
    {
     "name": "stdout",
     "output_type": "stream",
     "text": [
      "199967\n",
      "num of boxes =  100\n",
      "torch.FloatTensor\n",
      "torch.FloatTensor\n",
      "torch.FloatTensor\n",
      "torch.FloatTensor\n",
      "torch.Size([100, 4])\n",
      "torch.Size([100])\n",
      "torch.Size([100, 2048])\n",
      "torch.Size([100, 1595])\n"
     ]
    }
   ],
   "source": [
    "i = 200001\n",
    "with open(\"/data/yingshac/MMMHQA/VinVL_output/x_neg_imgs_0_240661/predictions.tsv\", \"r\") as fp:\n",
    "    fp.seek(pred_lineidx[i])\n",
    "    row = fp.readline().strip().split('\\t')\n",
    "    img_id_from_pred = int(row[0])\n",
    "    pred = json.loads(row[-1])['objects']\n",
    "    print(img_id_from_pred)\n",
    "    print(\"num of boxes = \", len(pred))\n",
    "V = pred\n",
    "pred_boxes_list = []\n",
    "scores_list = []\n",
    "fc1_features_list = []\n",
    "cls_features_list = []\n",
    "for v in V:\n",
    "    pred_boxes_list.append(v['rect'])\n",
    "    scores_list.append(v['conf'])\n",
    "    fc1_features_list.append(np.frombuffer(base64.b64decode(v['feature']), np.float32))\n",
    "    cls_features_list.append(np.frombuffer(base64.b64decode(v['scores_all']), np.float32))\n",
    "pred_boxes = torch.FloatTensor(pred_boxes_list)\n",
    "scores = torch.FloatTensor(scores_list)\n",
    "fc1_features = torch.FloatTensor(fc1_features_list)\n",
    "cls_features = torch.FloatTensor(cls_features_list)\n",
    "print(pred_boxes.type())\n",
    "print(scores.type())\n",
    "print(fc1_features.type())\n",
    "print(cls_features.type())\n",
    "print(pred_boxes.size())\n",
    "print(scores.size())\n",
    "print(fc1_features.size())\n",
    "print(cls_features.size())"
   ]
  },
  {
   "cell_type": "code",
   "execution_count": 81,
   "metadata": {},
   "outputs": [
    {
     "data": {
      "text/plain": [
       "22265"
      ]
     },
     "execution_count": 81,
     "metadata": {},
     "output_type": "execute_result"
    }
   ],
   "source": [
    "len(os.listdir(\"/data/yingshac/MMMHQA/imgFeatures_upd/gold/\"))"
   ]
  },
  {
   "cell_type": "code",
   "execution_count": 83,
   "metadata": {},
   "outputs": [
    {
     "name": "stdout",
     "output_type": "stream",
     "text": [
      "999\n",
      "1999\n",
      "2999\n",
      "3999\n",
      "4999\n",
      "5999\n",
      "6999\n",
      "7999\n",
      "8999\n",
      "9999\n",
      "10999\n",
      "11999\n",
      "12999\n",
      "13999\n",
      "14999\n",
      "15999\n",
      "16999\n",
      "17999\n",
      "18999\n",
      "19999\n",
      "20999\n",
      "21999\n"
     ]
    }
   ],
   "source": [
    "fp = open(\"/data/yingshac/MMMHQA/detectron_output/gold.tsv\", \"w\")\n",
    "fp_lineidx = open(\"/data/yingshac/MMMHQA/detectron_output/gold.lineidx\", \"w\")\n",
    "for i in range(22265):\n",
    "    if i%1000 == 999: print(i)\n",
    "    im = \"0\"*(8-len(str(i))) + str(i)\n",
    "    if not os.path.exists(\"/data/yingshac/MMMHQA/imgFeatures_upd/gold/{}.pkl\".format(im)): \n",
    "        print(\"NONE: \", im)\n",
    "        fp_lineidx.write('{0}\\n'.format(\"NONE\"))\n",
    "        #fp.write('{0}\\n'.format('NONE'))\n",
    "    features = pickle.load(open(\"/data/yingshac/MMMHQA/imgFeatures_upd/gold/{}.pkl\".format(im), \"rb\"))\n",
    "    #print(features.keys())\n",
    "    row = {}\n",
    "    row['image_size'] = features['image_size']\n",
    "    row['num_instances'] = features['num_instances']\n",
    "    row['pred_classes'] = base64.b64encode(features['pred_classes'].detach().cpu().numpy()).decode(\"utf-8\")\n",
    "    row['scores'] = base64.b64encode(features['scores'].detach().cpu().numpy()).decode(\"utf-8\")\n",
    "    row['pred_boxes'] = base64.b64encode(features['pred_boxes'].detach().cpu().numpy()).decode(\"utf-8\")\n",
    "    row['fc1_features'] = base64.b64encode(features['fc1_features'].detach().cpu().numpy()).decode(\"utf-8\")\n",
    "    row['cls_features'] = base64.b64encode(features['cls_features'].detach().cpu().numpy()).decode(\"utf-8\")\n",
    "    x = json.dumps(row)\n",
    "    line = [i, im, x]\n",
    "    v = '{0}\\n'.format('\\t'.join(map(str, line)))\n",
    "    fp_lineidx.write('{0}\\n'.format(fp.tell()))\n",
    "    fp.write(v)\n",
    "    \n",
    "fp.close()\n",
    "fp_lineidx.close()"
   ]
  },
  {
   "cell_type": "code",
   "execution_count": 79,
   "metadata": {},
   "outputs": [
    {
     "name": "stdout",
     "output_type": "stream",
     "text": [
      "500\n"
     ]
    }
   ],
   "source": [
    "with open(\"/data/yingshac/MMMHQA/detectron_output/gold.lineidx\", \"r\") as fp:\n",
    "    pred_lineidx = [int(i.strip()) for i in fp.readlines()]\n",
    "    print(len(pred_lineidx))"
   ]
  },
  {
   "cell_type": "code",
   "execution_count": 80,
   "metadata": {},
   "outputs": [
    {
     "name": "stdout",
     "output_type": "stream",
     "text": [
      "411\n",
      "00000411\n",
      "[1196, 800]\n",
      "<class 'int'>\n",
      "(100,)\n",
      "(100,)\n",
      "(100, 4)\n",
      "(100, 2048)\n",
      "(100, 1601)\n"
     ]
    }
   ],
   "source": [
    "i = 411\n",
    "with open(\"/data/yingshac/MMMHQA/detectron_output/gold.tsv\", \"r\") as fp:\n",
    "    fp.seek(pred_lineidx[i])\n",
    "    row = fp.readline().strip().split('\\t')\n",
    "    print(int(row[0]))\n",
    "    print(row[1])\n",
    "    pred = json.loads(row[-1])\n",
    "    print(pred['image_size'])\n",
    "    print(type(pred['num_instances']))\n",
    "    print(np.frombuffer(base64.b64decode(pred['pred_classes']), np.int64).shape)\n",
    "    print(np.frombuffer(base64.b64decode(pred['scores']), np.float32).shape)\n",
    "    print(np.frombuffer(base64.b64decode(pred['pred_boxes']), np.float32).reshape((100,4)).shape)\n",
    "    print(np.frombuffer(base64.b64decode(pred['fc1_features']), np.float32).reshape((100,2048)).shape)\n",
    "    print(np.frombuffer(base64.b64decode(pred['cls_features']), np.float32).reshape((100,1601)).shape)"
   ]
  },
  {
   "cell_type": "code",
   "execution_count": 56,
   "metadata": {},
   "outputs": [
    {
     "name": "stdout",
     "output_type": "stream",
     "text": [
      "<class 'list'>\n",
      "<class 'int'>\n",
      "(100,)\n",
      "(100,)\n",
      "(100, 4)\n",
      "(100, 2048)\n",
      "(100, 1601)\n"
     ]
    }
   ],
   "source": [
    "pred = json.loads(x)\n",
    "print(type(pred['image_size']))\n",
    "print(type(pred['num_instances']))\n",
    "print(np.frombuffer(base64.b64decode(pred['pred_classes']), np.int64).shape)\n",
    "print(np.frombuffer(base64.b64decode(pred['scores']), np.float32).shape)\n",
    "print(np.frombuffer(base64.b64decode(pred['pred_boxes']), np.float32).reshape((100,4)).shape)\n",
    "print(np.frombuffer(base64.b64decode(pred['fc1_features']), np.float32).reshape((100,2048)).shape)\n",
    "print(np.frombuffer(base64.b64decode(pred['cls_features']), np.float32).reshape((100,1601)).shape)"
   ]
  },
  {
   "cell_type": "code",
   "execution_count": null,
   "metadata": {},
   "outputs": [],
   "source": []
  }
 ],
 "metadata": {
  "kernelspec": {
   "display_name": "py37",
   "language": "python",
   "name": "py37"
  },
  "language_info": {
   "codemirror_mode": {
    "name": "ipython",
    "version": 3
   },
   "file_extension": ".py",
   "mimetype": "text/x-python",
   "name": "python",
   "nbconvert_exporter": "python",
   "pygments_lexer": "ipython3",
   "version": "3.7.9"
  }
 },
 "nbformat": 4,
 "nbformat_minor": 4
}
