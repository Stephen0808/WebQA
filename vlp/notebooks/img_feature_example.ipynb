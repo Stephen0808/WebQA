{
 "cells": [
  {
   "cell_type": "code",
   "execution_count": 14,
   "metadata": {},
   "outputs": [],
   "source": [
    "import pickle\n",
    "import torch"
   ]
  },
  {
   "cell_type": "code",
   "execution_count": 5,
   "metadata": {},
   "outputs": [],
   "source": [
    "x = pickle.load(open('img_feature_example.pkl', 'rb'))"
   ]
  },
  {
   "cell_type": "code",
   "execution_count": 6,
   "metadata": {},
   "outputs": [
    {
     "name": "stdout",
     "output_type": "stream",
     "text": [
      "<class 'dict'>\n"
     ]
    }
   ],
   "source": [
    "print(type(x))"
   ]
  },
  {
   "cell_type": "code",
   "execution_count": 15,
   "metadata": {},
   "outputs": [
    {
     "name": "stdout",
     "output_type": "stream",
     "text": [
      "image_size <class 'tuple'>\n",
      "num_instances <class 'int'>\n",
      "pred_boxes <class 'torch.Tensor'>\n",
      "   size:  torch.Size([100, 4])\n",
      "scores <class 'torch.Tensor'>\n",
      "   size:  torch.Size([100])\n",
      "pred_classes <class 'torch.Tensor'>\n",
      "   size:  torch.Size([100])\n",
      "fc1_features <class 'torch.Tensor'>\n",
      "   size:  torch.Size([100, 2048])\n",
      "cls_features <class 'torch.Tensor'>\n",
      "   size:  torch.Size([100, 1601])\n"
     ]
    }
   ],
   "source": [
    "for k in x.keys():\n",
    "    print(k, type(x[k]))\n",
    "    if isinstance(x[k], torch.Tensor):\n",
    "        print(\"   size: \", x[k].size())"
   ]
  }
 ],
 "metadata": {
  "kernelspec": {
   "display_name": "py37",
   "language": "python",
   "name": "py37"
  },
  "language_info": {
   "codemirror_mode": {
    "name": "ipython",
    "version": 3
   },
   "file_extension": ".py",
   "mimetype": "text/x-python",
   "name": "python",
   "nbconvert_exporter": "python",
   "pygments_lexer": "ipython3",
   "version": "3.7.9"
  }
 },
 "nbformat": 4,
 "nbformat_minor": 4
}
