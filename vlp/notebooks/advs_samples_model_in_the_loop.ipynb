{
 "cells": [
  {
   "cell_type": "code",
   "execution_count": 72,
   "metadata": {},
   "outputs": [],
   "source": [
    "import spacy\n",
    "import numpy as np\n",
    "from collections import Counter, defaultdict\n",
    "from word2number import w2n\n",
    "import string, re, json\n",
    "import seaborn as sns\n",
    "import matplotlib.pyplot as plt\n",
    "from pprint import pprint\n",
    "import random\n",
    "import pickle"
   ]
  },
  {
   "cell_type": "code",
   "execution_count": 2,
   "metadata": {},
   "outputs": [],
   "source": [
    "nlp = spacy.load(\"en_core_web_sm\", disable=[\"ner\",\"textcat\",\"parser\"])"
   ]
  },
  {
   "cell_type": "code",
   "execution_count": 3,
   "metadata": {},
   "outputs": [],
   "source": [
    "def toNum(word):\n",
    "    try: return w2n.word_to_num(word)\n",
    "    except:\n",
    "        return word\n",
    "\n",
    "def normalize_text(s):\n",
    "    def remove_articles(text):\n",
    "        regex = re.compile(r\"\\b(a|an|the)\\b\", re.UNICODE)\n",
    "        return re.sub(regex, \" \", text)\n",
    "\n",
    "    def white_space_fix(text): # additional: converting numbers to digit form\n",
    "        return \" \".join([str(toNum(w)) for w in text.split()])\n",
    "\n",
    "    def remove_punc(text):\n",
    "        exclude = set(string.punctuation) - set(['.'])\n",
    "        text1 = \"\".join(ch for ch in text if ch not in exclude)\n",
    "        return re.sub(r\"\\.(?!\\d)\", \"\", text1) # remove '.' if it's not a decimal point\n",
    "\n",
    "    def lower(text):\n",
    "        return text.lower()\n",
    "    \n",
    "    def lemmatization(text):\n",
    "        return \" \".join([nlp(token)[0].lemma_ for token in text.split()])\n",
    "\n",
    "    if len(s.strip()) == 1:\n",
    "        # accept article and punc if input is a single char\n",
    "        return white_space_fix(lower(s))\n",
    "    elif len(s.strip().split()) == 1: \n",
    "        # accept article if input is a single word\n",
    "        return lemmatization(white_space_fix(remove_punc(lower(s))))\n",
    "\n",
    "    return lemmatization(white_space_fix(remove_articles(remove_punc(lower(s)))))"
   ]
  },
  {
   "cell_type": "code",
   "execution_count": 27,
   "metadata": {},
   "outputs": [],
   "source": [
    "# VQA Eval (SQuAD style EM, F1)\n",
    "def compute_vqa_metrics(cands, a):\n",
    "    if len(cands) == 0: return (0,0,0)\n",
    "    bow_a = normalize_text(a).split()\n",
    "    F1 = []\n",
    "    EM = 0\n",
    "    RE = []\n",
    "    PR = []\n",
    "    for c in cands:\n",
    "        bow_c = normalize_text(c).split()\n",
    "        if bow_c == bow_a:\n",
    "            EM = 1\n",
    "        common = Counter(bow_a) & Counter(bow_c)\n",
    "        num_same = sum(common.values())\n",
    "        if num_same == 0:\n",
    "            return (0,0,0,0,0)\n",
    "        precision = 1.0 * num_same / len(bow_c)\n",
    "        recall = 1.0 * num_same / len(bow_a)\n",
    "        RE.append(recall)\n",
    "        PR.append(precision)\n",
    "\n",
    "        f1 = 2*precision*recall / (precision + recall + 1e-5)\n",
    "        F1.append(f1)\n",
    "    \n",
    "    PR_avg = np.mean(PR)\n",
    "    RE_avg = np.mean(RE)\n",
    "    F1_avg = np.mean(F1)\n",
    "    F1_max = np.max(F1)\n",
    "    return (F1_avg, F1_max, EM, RE_avg, PR_avg)"
   ]
  },
  {
   "cell_type": "code",
   "execution_count": 48,
   "metadata": {},
   "outputs": [
    {
     "name": "stdout",
     "output_type": "stream",
     "text": [
      "1 4186\n",
      "2 4112\n",
      "3 4024\n",
      "4 4125\n",
      "5 4100\n",
      "6 4145\n",
      "7 4093\n",
      "8 4033\n",
      "9 4156\n",
      "10 4042\n"
     ]
    }
   ],
   "source": [
    "guid2metrics = {}\n",
    "beam = 5\n",
    "\n",
    "for i in range(1, 11):\n",
    "    split_json = json.load(open(\"/home/yingshac/CYS/WebQnA/WebQnA_data_new/img_binary_10_split/img_binary_split_{}.json\".format(i), \"r\"))\n",
    "    guids = [split_json[k]['Guid'] for k in split_json if split_json[k]['split'] == 'test']\n",
    "    with open(\"/home/yingshac/CYS/WebQnA/VLP/vlp/light_output/adv_split/split{}/qa_infr/test_qainfr_-1_beam5_img_True_True_step8_img_binary_split_{}.txt\".format(i, i), \"r\") as f:\n",
    "        lines = f.readlines()\n",
    "    while True:\n",
    "        if lines[0].strip() == \"-----Starting writing results:-----\":\n",
    "            lines.pop(0)\n",
    "            lines.pop(0)\n",
    "            break\n",
    "        else:\n",
    "            lines.pop(0)\n",
    "\n",
    "    pt = 'Q'\n",
    "    \n",
    "    folder = {'Q':[], 'A':[], 'C':[], 'TopC':[]}\n",
    "    for l in lines:\n",
    "        if pt == 'Q':\n",
    "            folder[pt].append(l.strip())\n",
    "            pt = 'A'\n",
    "        elif pt == 'A':\n",
    "            folder[pt].append(l.strip())\n",
    "            pt = 'OC'\n",
    "        elif pt == 'OC': # Output Confidence\n",
    "            pt = 'C'\n",
    "            folder[pt].append([])   \n",
    "        elif pt == 'C':\n",
    "            folder[pt][-1].append(l.strip())\n",
    "            if len(folder[pt][-1]) == beam:\n",
    "                folder['TopC'].append([folder[pt][-1][0]])\n",
    "                pt = ''\n",
    "        else:\n",
    "            pt='Q' # skip empty line between samples\n",
    "    assert len(folder['Q']) == len(folder['A']) == len(folder['C']) == len(folder['TopC']) == len(guids)\n",
    "    \n",
    "    for q, a, topc, guid in zip(folder['Q'], folder['A'], folder['TopC'], guids):\n",
    "        F1_avg, F1_max, EM, RE, PR = compute_vqa_metrics(topc, a)\n",
    "        if guid in guid2metrics:\n",
    "            guid2metrics[guid]['F1'].append(F1_avg)\n",
    "            guid2metrics[guid]['EM'].append(EM)\n",
    "            guid2metrics[guid]['RE'].append(RE)\n",
    "            guid2metrics[guid]['PR'].append(PR)\n",
    "            guid2metrics[guid]['Q'].append(q)\n",
    "            guid2metrics[guid]['A'].append(a)\n",
    "            guid2metrics[guid]['C'].append(topc[0])\n",
    "        else:\n",
    "            guid2metrics[guid] = {'F1':[F1_avg], 'EM': [EM], 'RE': [RE], 'PR': [PR], 'Q': [q], 'A': [a], 'C': [topc[0]]}\n",
    "    print(i, len(folder['Q']))\n"
   ]
  },
  {
   "cell_type": "code",
   "execution_count": 49,
   "metadata": {},
   "outputs": [],
   "source": [
    "# pickle.dump(guid2metrics, open(\"/home/yingshac/CYS/WebQnA/WebQnA_data_new/guid2metrics.pkl\", \"wb\"))\n",
    "\n",
    "# models are trained on 10 random splits (roughly 70%-30% train-test) for 8 epochs\n",
    "# every guid shows up exactly 3 times in test set\n",
    "# testing metrics for 10 random splits were generated and stored on Jun 29"
   ]
  },
  {
   "cell_type": "code",
   "execution_count": 50,
   "metadata": {},
   "outputs": [],
   "source": [
    "guid2metrics = pickle.load(open(\"/home/yingshac/CYS/WebQnA/WebQnA_data_new/guid2metrics.pkl\", \"rb\"))\n",
    "# sanity check\n",
    "for guid in guid2metrics:\n",
    "    for m in ['F1', 'EM', 'RE', 'PR']:\n",
    "        if not len(guid2metrics[guid][m]) == 3:\n",
    "            print(guid, m)"
   ]
  },
  {
   "cell_type": "code",
   "execution_count": 68,
   "metadata": {},
   "outputs": [
    {
     "name": "stdout",
     "output_type": "stream",
     "text": [
      "dc689bc0d46f11ebba07a504a20e7724 [0, 0, 0]\n",
      "Are all of the crosswalks on Dickson Street in Fayetteville , Arkansas paved with brick ?\n",
      "['Yes', 'Yes', 'Yes']\n",
      "['No .', 'No', 'No .']\n",
      "\n",
      "dc77d482d46f11ebba07a504a20e7724 [0, 0, 0]\n",
      "Is the palm tree growing next to the Clock Tower on Worth Avenue taller than the clock tower ?\n",
      "['yes', 'yes', 'yes']\n",
      "['No', 'No', 'No']\n",
      "\n",
      "dc7b7704d46f11ebba07a504a20e7724 [0, 0, 0]\n",
      "Is the Schotten Busenborn Protestant Church Organ located on the ground floor ?\n",
      "['No', 'No', 'No']\n",
      "['Yes', 'Yes', 'Yes']\n",
      "\n",
      "dc64e066d46f11ebba07a504a20e7724 [0, 0, 0]\n",
      "Do the Laughing Falcon and the Lesser Spotted Woodpecker both have black beaks ?\n",
      "['Yes', 'Yes', 'Yes']\n",
      "['No', 'No .', 'No']\n",
      "\n",
      "dc456e16d46f11ebba07a504a20e7724 [0, 0, 0]\n",
      "Does the Bethesda fountain run ?\n",
      "['Yes', 'Yes', 'Yes']\n",
      "['no', 'No .', 'No']\n",
      "\n",
      "dc578dd0d46f11ebba07a504a20e7724 [0, 0, 0]\n",
      "At the Navy Pier in Chicago , which item is shorter , the Ferris wheel or the chair swing ride ?\n",
      "['the chair swing ride', 'the chair swing ride', 'the chair swing ride']\n",
      "['Ferris wheel', 'the Ferris wheel', 'Ferris wheel']\n",
      "\n",
      "dc6185b0d46f11ebba07a504a20e7724 [0, 0, 0]\n",
      "Do Amanita multisquamosa or Psilocybe subsecotioides mushrooms have smoother caps ?\n",
      "['Psilocybe subsecotioides', 'Psilocybe subsecotioides', 'Psilocybe subsecotioides']\n",
      "['Amsilocybe subsquas subsquamos', 'Amanita multisquamosta multisquamosa nosquamosa no', 'Amanita multisquamosa multiquamosa multiquaa multiquamosa multiquamosa multiquaquaquamos multiqua']\n",
      "\n",
      "dc775476d46f11ebba07a504a20e7724 [0, 0, 0]\n",
      "Do both of the knees extend past the legs on the katanda figure in the De Young Museum ?\n",
      "['No', 'No', 'No']\n",
      "['Yes', 'Yes', 'Yes']\n",
      "\n",
      "dc5283bcd46f11ebba07a504a20e7724 [0, 0, 0]\n",
      "In the Portrait of the Four Tetrarchs sculpture , are the swords held by the subjects sheathed or unsheathed ?\n",
      "['Sheathed .', 'Sheathed .', 'Sheathed .']\n",
      "['Unshed .', 'Coed .', 'Handmade .']\n",
      "\n",
      "dc746b6cd46f11ebba07a504a20e7724 [0, 0, 0]\n",
      "Which has the clock mounted on the wider tower , The Umbrella or the clock tower at Partick Cross , Glasgow ?\n",
      "['clock tower at Partick Cross , Glasgow ?', 'clock tower at Partick Cross , Glasgow ?', 'clock tower at Partick Cross , Glasgow ?']\n",
      "['The Umbrella Part', 'The Umbrella', 'The Umbrella']\n",
      "\n",
      "2129\n"
     ]
    }
   ],
   "source": [
    "count = 0\n",
    "hard_guids = []\n",
    "for guid in guid2metrics:\n",
    "    x = np.max(guid2metrics[guid]['F1'])\n",
    "    if x == 0:\n",
    "        hard_guids.append(guid)\n",
    "        if random.random() < 0.005:\n",
    "            print(guid, guid2metrics[guid]['F1'])\n",
    "            print(guid2metrics[guid]['Q'][0])\n",
    "            print(guid2metrics[guid]['A'])\n",
    "            print(guid2metrics[guid]['C'])\n",
    "            print()\n",
    "        count += 1\n",
    "print(len(hard_guids))"
   ]
  },
  {
   "cell_type": "code",
   "execution_count": 74,
   "metadata": {},
   "outputs": [],
   "source": [
    "# pickle.dump(hard_guids, open(\"/home/yingshac/CYS/WebQnA/WebQnA_data_new/YesNo_choose_ood_guid.pkl\", \"wb\"))\n",
    "\n",
    "# every guid shows up 3 times in test set out of 10 random splits.\n",
    "# guids that got zero F1 for all 3 times are put into adversarial bucket\n",
    "# ood guids for YesNo and choose categories were generated on Jun 29"
   ]
  },
  {
   "cell_type": "code",
   "execution_count": 82,
   "metadata": {},
   "outputs": [
    {
     "name": "stdout",
     "output_type": "stream",
     "text": [
      "2129\n"
     ]
    }
   ],
   "source": [
    "count = 0\n",
    "F1means = []\n",
    "F1maxs = []\n",
    "F1mins = []\n",
    "for guid in guid2metrics:\n",
    "    x = np.mean(guid2metrics[guid]['F1'])\n",
    "    F1means.append(x)\n",
    "    F1mins.append(np.min(guid2metrics[guid]['F1']))\n",
    "    F1maxs.append(np.max(guid2metrics[guid]['F1']))\n",
    "    if x  == 0:\n",
    "        count += 1\n",
    "print(count)"
   ]
  },
  {
   "cell_type": "code",
   "execution_count": 83,
   "metadata": {},
   "outputs": [
    {
     "name": "stderr",
     "output_type": "stream",
     "text": [
      "/home/yingshac/miniconda3/envs/py37/lib/python3.7/site-packages/seaborn/distributions.py:2551: FutureWarning: `distplot` is a deprecated function and will be removed in a future version. Please adapt your code to use either `displot` (a figure-level function with similar flexibility) or `histplot` (an axes-level function for histograms).\n",
      "  warnings.warn(msg, FutureWarning)\n"
     ]
    },
    {
     "data": {
      "text/plain": [
       "<matplotlib.legend.Legend at 0x7f1d0d43d410>"
      ]
     },
     "execution_count": 83,
     "metadata": {},
     "output_type": "execute_result"
    },
    {
     "data": {
      "image/png": "[encoded data removed]",
      "text/plain": [
       "<Figure size 432x288 with 1 Axes>"
      ]
     },
     "metadata": {},
     "output_type": "display_data"
    }
   ],
   "source": [
    "sns.distplot(F1means, kde=False, label=\"F1mean\")\n",
    "sns.distplot(F1mins, kde=False, label=\"F1min\")\n",
    "sns.distplot(F1maxs, kde=False, label=\"F1maxs\")\n",
    "\n",
    "plt.legend()"
   ]
  },
  {
   "cell_type": "code",
   "execution_count": 70,
   "metadata": {},
   "outputs": [
    {
     "name": "stdout",
     "output_type": "stream",
     "text": [
      "Counter({'YesNo': 8432, 'Others': 6748, 'choose': 5240, 'number': 2341, 'color': 2044, 'shape': 662})\n",
      "25467\n",
      "Counter({1: 14337, 2: 11130})\n",
      "[233, 338, 443, 1233, 1234, 2141, 2361]\n"
     ]
    }
   ],
   "source": [
    "# Sanity check after img_dataset_J_Qcate.json is fixed\n",
    "dataset_J_Qcate = json.load(open(\"/home/yingshac/CYS/WebQnA/WebQnA_data_new/img_dataset_J_Qcate.json\", \"r\"))\n",
    "print(Counter([dataset_J_Qcate[k]['Qcate'] for k in dataset_J_Qcate]))\n",
    "print(len(set([dataset_J_Qcate[k]['Guid'] for k in dataset_J_Qcate])))\n",
    "print(Counter([len(dataset_J_Qcate[j]['GoldIds']) for j in dataset_J_Qcate]))\n",
    "print([k for k in range(25474) if str(k) not in dataset_J_Qcate])"
   ]
  },
  {
   "cell_type": "code",
   "execution_count": 75,
   "metadata": {},
   "outputs": [
    {
     "name": "stdout",
     "output_type": "stream",
     "text": [
      "defaultdict(<class 'int'>, {'img-Singlehop': 984, 'img-Multihop': 1145})\n"
     ]
    }
   ],
   "source": [
    "cate = defaultdict(int)\n",
    "for k in dataset_J_Qcate:\n",
    "    if dataset_J_Qcate[k]['Guid'] in hard_guids:\n",
    "        cate[dataset_J_Qcate[k]['Qtype']] += 1\n",
    "pprint(cate)"
   ]
  },
  {
   "cell_type": "code",
   "execution_count": null,
   "metadata": {},
   "outputs": [],
   "source": []
  }
 ],
 "metadata": {
  "kernelspec": {
   "display_name": "py37",
   "language": "python",
   "name": "py37"
  },
  "language_info": {
   "codemirror_mode": {
    "name": "ipython",
    "version": 3
   },
   "file_extension": ".py",
   "mimetype": "text/x-python",
   "name": "python",
   "nbconvert_exporter": "python",
   "pygments_lexer": "ipython3",
   "version": "3.7.9"
  }
 },
 "nbformat": 4,
 "nbformat_minor": 4
}
