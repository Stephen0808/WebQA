{
 "cells": [
  {
   "cell_type": "markdown",
   "metadata": {},
   "source": [
    "1. Currently distractors are not hard enough cuz a simple strategy that measures token-level overlap can achieve 70% F1 on the filter task\n",
    "2. Sadly the trained model did no better than this.\n",
    "3. Analysis of the failure cases of model & token-level overlap strategy suggests that **a)** model does have preferences for choosing facts with high overlap with the question but it's not always true. **b)** The model did develop additional strategies which allow it to recover performance where the token-level overlap strategy falls short. But such additional skills compromise performance somewhere else. Thus, from a global point of view, filter F1 didn't get improved.\n",
    "\n",
    "Takeaways:\n",
    "- It is necessary to include token-level overlap strategy as a baseline\n",
    "- Hard distractors must also have strong overlap with the question, so as to make comparing token-level overlap insufficient.\n",
    "- We expect the model to learn additional skills where overlap strategy falls short, **without losing** the ability to carry out what such simple strategy can do."
   ]
  },
  {
   "cell_type": "code",
   "execution_count": 1,
   "metadata": {},
   "outputs": [],
   "source": [
    "import json, random, os\n",
    "import numpy as np\n",
    "from pprint import pprint\n",
    "from collections import Counter, defaultdict\n",
    "from bs4 import BeautifulSoup\n",
    "import requests\n",
    "import urllib.request\n",
    "import re\n",
    "import seaborn as sns\n",
    "import matplotlib.pyplot as plt\n",
    "from nltk.corpus import stopwords\n",
    "import pickle\n",
    "import pylcs\n",
    "import copy"
   ]
  },
  {
   "cell_type": "code",
   "execution_count": 2,
   "metadata": {},
   "outputs": [],
   "source": [
    "np.set_printoptions(precision=4)"
   ]
  },
  {
   "cell_type": "code",
   "execution_count": 3,
   "metadata": {},
   "outputs": [],
   "source": [
    "pattern = re.compile(r'\\b(' + r'|'.join(stopwords.words('english')) + r')\\b\\s*')"
   ]
  },
  {
   "cell_type": "code",
   "execution_count": 5,
   "metadata": {},
   "outputs": [
    {
     "name": "stdout",
     "output_type": "stream",
     "text": [
      "7921\n"
     ]
    }
   ],
   "source": [
    "#txt_dataset = json.load(open(\"/home/yingshac/CYS/WebQnA/WebQnA_data_new/txt_dataset_J.json\", \"r\"))\n",
    "txt_dataset = json.load(open(\"/home/yingshac/CYS/WebQnA/WebQnA_data_new/output_mine_all_schema.json\", \"r\"))\n",
    "\n",
    "print(len(txt_dataset))"
   ]
  },
  {
   "cell_type": "code",
   "execution_count": 6,
   "metadata": {},
   "outputs": [
    {
     "data": {
      "text/plain": [
       "Counter({2: 7657, 3: 245, 4: 19})"
      ]
     },
     "execution_count": 6,
     "metadata": {},
     "output_type": "execute_result"
    }
   ],
   "source": [
    "Counter([len(txt_dataset[k]['SupportingFacts']) for k in txt_dataset]) # 3.5% num_gold != 2"
   ]
  },
  {
   "cell_type": "code",
   "execution_count": 7,
   "metadata": {},
   "outputs": [],
   "source": [
    "from transformers import BertTokenizer\n",
    "tokenizer = BertTokenizer.from_pretrained(\"bert-base-cased\", do_lower_case=True)"
   ]
  },
  {
   "cell_type": "code",
   "execution_count": 8,
   "metadata": {},
   "outputs": [],
   "source": [
    "# For the purpose of measuring token-level overlap\n",
    "### Processing: only did stopwords removal + tokenization\n",
    "def compute_vqa_metrics(cands, a):\n",
    "    if len(cands) == 0: return (0,0,0)\n",
    "    remove_stop_a = pattern.sub('', a)\n",
    "    bow_a = tokenizer.tokenize(remove_stop_a) #normalize_text(a).split()\n",
    "    F1 = []\n",
    "    EM = 0\n",
    "    RE = []\n",
    "    PR = []\n",
    "    for c in cands:\n",
    "        remove_stop_c = pattern.sub('', c)\n",
    "        bow_c = tokenizer.tokenize(remove_stop_c) #normalize_text(c).split()\n",
    "        if bow_c == bow_a:\n",
    "            EM = 1\n",
    "        common = Counter(bow_a) & Counter(bow_c)\n",
    "        num_same = sum(common.values())\n",
    "        if num_same == 0:\n",
    "            return (0,0,0,0,0)\n",
    "        precision = 1.0 * num_same / len(bow_c)\n",
    "        recall = 1.0 * num_same / len(bow_a)\n",
    "        RE.append(recall)\n",
    "        PR.append(precision)\n",
    "\n",
    "        f1 = 2*precision*recall / (precision + recall + 1e-5)\n",
    "        F1.append(f1)\n",
    "    \n",
    "    PR_avg = np.mean(PR)\n",
    "    RE_avg = np.mean(RE)\n",
    "    F1_avg = np.mean(F1)\n",
    "    F1_max = np.max(F1)\n",
    "    return (F1_avg, F1_max, EM, RE_avg, PR_avg)"
   ]
  },
  {
   "cell_type": "code",
   "execution_count": 9,
   "metadata": {},
   "outputs": [
    {
     "name": "stdout",
     "output_type": "stream",
     "text": [
      "999\n",
      "1999\n",
      "2999\n",
      "3999\n",
      "4999\n",
      "5999\n",
      "6999\n",
      "0\n"
     ]
    }
   ],
   "source": [
    "# For each sample, compute overlap metrics between Q and all facts respectively\n",
    "\n",
    "guid2posMetrics = defaultdict(lambda: defaultdict(lambda: []))\n",
    "guid2negMetrics = defaultdict(lambda: defaultdict(lambda: []))\n",
    "zero_pos = 0\n",
    "count = 0\n",
    "for k in txt_dataset:\n",
    "    count += 1\n",
    "    if count%1000 == 0: print(k)\n",
    "    q = txt_dataset[k]['Q']\n",
    "    guid = txt_dataset[k]['Guid']\n",
    "    if len(txt_dataset[k]['SupportingFacts']) == 0: \n",
    "        zero_pos += 1\n",
    "        continue\n",
    "    for f in txt_dataset[k]['SupportingFacts']:\n",
    "        F1, _, __, RE, PR = compute_vqa_metrics([f['fact']], q)\n",
    "        lcs = pylcs.lcs2(q, f['fact'])\n",
    "        lcs_f = lcs / len(f['fact'])\n",
    "        lcs_q = lcs / len(q)\n",
    "        guid2posMetrics[guid]['F1'].append(F1)\n",
    "        guid2posMetrics[guid]['RE'].append(RE)\n",
    "        guid2posMetrics[guid]['PR'].append(PR)\n",
    "        guid2posMetrics[guid]['lcs_q'].append(lcs_q)\n",
    "        guid2posMetrics[guid]['lcs_f'].append(lcs_f)\n",
    "        \n",
    "    for d in txt_dataset[k]['DistractorFacts']:\n",
    "        F1, _, __, RE, PR = compute_vqa_metrics([d['fact']], q)\n",
    "        lcs = pylcs.lcs2(q, d['fact'])\n",
    "        lcs_f = lcs / len(d['fact'])\n",
    "        lcs_q = lcs / len(q)\n",
    "        guid2negMetrics[guid]['F1'].append(F1)\n",
    "        guid2negMetrics[guid]['RE'].append(RE)\n",
    "        guid2negMetrics[guid]['PR'].append(PR)\n",
    "        guid2negMetrics[guid]['lcs_q'].append(lcs_q)\n",
    "        guid2negMetrics[guid]['lcs_f'].append(lcs_f)\n",
    "assert set(guid2posMetrics.keys()) == set(guid2negMetrics.keys())\n",
    "print(zero_pos)"
   ]
  },
  {
   "cell_type": "code",
   "execution_count": 11,
   "metadata": {
    "collapsed": true
   },
   "outputs": [
    {
     "name": "stdout",
     "output_type": "stream",
     "text": [
      "5129\n",
      "Q:  Was the 2002 Men's Hockey World Cup held in the same country as the tournament held by the International Basketball Federation in 2002?\n",
      "A:  No, as one was held in the USA and the other was held in Malyasia.\n",
      "+\n",
      "0 The tournament held by the International Basketball Federation in Indianapolis, Indiana, United States from August 29 to September 8, 2002. At the start of tournament, all 16 participating countries had 12 players on their roster. The following nations' teams competed:\n",
      "(0.2222184329192391, 0.2222184329192391, 0, 0.4375, 0.14893617021276595)\n",
      "1 The 2002 Men's Hockey World Cup was the 10th edition of the Hockey World Cup, a men's field hockey tournament. It was held from 24 February to 9 March 2002 in Kuala Lumpur, Malaysia. Germany won their first title after defeating Australia 2–1 in the final.\n",
      "(0.2608660029892024, 0.2608660029892024, 0, 0.5625, 0.16981132075471697)\n",
      "-\n",
      "0 The 2002 FIBA World Championship was the 14th edition of the competition now known as the FIBA Basketball World Cup, the international world championship for men's basketball teams. The tournament held by the International Basketball Federation in Indianapolis, Indiana, United States from August 29 to September 8, 2002.\n",
      "(0.31883701747311183, 0.31883701747311183, 0, 0.6875, 0.20754716981132076)\n",
      "1 The 2002 FIFA U-19 Women's World Championship was held from 17 August to 1 September. It was the first sanctioned youth tournament for women put together by FIFA. The tournament was hosted by Canada. FIFA granted the tournament to Canada in March 2001. Three cities hosted the tournament, Edmonton, Vancouver, and Victoria.\n",
      "(0.12194807860558518, 0.12194807860558518, 0, 0.3125, 0.07575757575757576)\n",
      "2 The Championship was played in Gothenburg, Sweden. Slovakia won the gold medal game, defeating Russia 4–3. While Poland and Italy were relegated to Division I for 2003. Group A was played in Eindhoven, The Netherlands between April 14 and April 20, 2002.\n",
      "(0.02597073409915834, 0.02597073409915834, 0, 0.0625, 0.01639344262295082)\n",
      "3 The tournament was held in Pardubice and Hradec Králové, Czech Republic, from December 25, 2001 – January 4, 2002. Russia won the gold medal with a 5–4 come-from-behind victory over Canada in the championship game, while Finland won the bronze medal with a 5–1 victory over Switzerland .\n",
      "(0.07594613697442741, 0.07594613697442741, 0, 0.1875, 0.047619047619047616)\n",
      "4 Marcus Grönholm won his second drivers' world championship in a Peugeot 206 WRC, ahead of Petter Solberg and Carlos Sainz. The manufacturers' title was won by Peugeot, ahead of Ford and Subaru . The 2002 championship was contested over fourteen rounds in Europe, Africa, South America and Oceania .\n",
      "(0.07407090396131194, 0.07407090396131194, 0, 0.1875, 0.046153846153846156)\n",
      "5 The 2002 World Snooker Championship (also referred to as the 2002 Embassy World Snooker Championship for the purposes of sponsorship) was a professional snooker tournament that took place from 20 April to 6 May 2002 at the Crucible Theatre in Sheffield, England. It was the final ranking event of the 2001–02 snooker season.\n",
      "(0.10810471887908378, 0.10810471887908378, 0, 0.25, 0.06896551724137931)\n",
      "  ------------------------------------------------------------  \n",
      "\n",
      "7116\n",
      "Q:  Is the regular script of Chinese calligraphy full of homophones and synonyms?\n",
      "A:  No, the Variant Chinese characters are.\n",
      "+\n",
      "0 Variant Chinese characters ( simplified Chinese: 异体字; traditional Chinese: 異體字; pinyin: yìtǐzì; Kanji: 異体字; Hepburn: itaiji; Korean : 이체자; Hanja : 異體字; Revised Romanization: icheja) are Chinese characters that are homophones and synonyms. Almost all variants are allographs in most circumstances, such as casual handwriting.\n",
      "(0.1428545502344746, 0.1428545502344746, 0, 0.4666666666666667, 0.08433734939759036)\n",
      "1 The regular script (often called \"standard\" script or simply ‘kǎishū’ 楷书) is one of the last major calligraphic styles to develop, emerging between the Chinese Hàn dynasty and Three Kingdoms period, gaining dominance in the Southern and Northern Dynasties, and maturing in the Táng Dynasty.\n",
      "(0.18181466948933941, 0.18181466948933941, 0, 0.4, 0.11764705882352941)\n",
      "-\n",
      "0 Sino-Korean vocabulary or hanja-eo ( 한자어; 漢字語 ), either words borrowed from Chinese or created from Sino-Korean roots, were generally always written in hanja although very rare or complex characters were often substituted with hangul.\n",
      "(0.06348843558145884, 0.06348843558145884, 0, 0.13333333333333333, 0.041666666666666664)\n",
      "1 Traditional Chinese characters are used in Taiwan, Hong Kong, and Macau, as well as in most overseas Chinese communities outside Southeast Asia. In contrast, simplified Chinese characters are used in Mainland China, Malaysia, and Singapore in official publications.\n",
      "(0.09374641127019356, 0.09374641127019356, 0, 0.2, 0.061224489795918366)\n",
      "2 Both had influence on each other and a later founder effect diminished the internal variety of both language families. Chinese characters arrived in Korea (see Sino-Xenic pronunciations for further information) together with Buddhism during the Proto-Three Kingdoms era in the 1st century BC.\n",
      "(0.09999625014061973, 0.09999625014061973, 0, 0.2, 0.06666666666666667)\n",
      "3 Using similar words, Koreans in China refer to themselves as Chaoxianzu ( Chinese: 朝鲜族) in Chinese or Joseonjok, Joseonsaram ( Korean: 조선족, 조선사람) in Korean, which are cognates that literally mean \"Joseon ethnic group \".\n",
      "(0.07791894092575492, 0.07791894092575492, 0, 0.2, 0.04838709677419355)\n",
      "4 Vertical writing is known respectively as zongpai ( simplified Chinese: 纵排; traditional Chinese: 縱排; pinyin: zōngpái; lit. 'vertical alignment'), tategaki ( 縦書き, \"vertical writing\", also tategumi, 縦組み ), or serosseugi ( 세로쓰기) or jongseo ( 종서; 縱書 ).\n",
      "(0.04166403011476096, 0.04166403011476096, 0, 0.13333333333333333, 0.024691358024691357)\n",
      "  ------------------------------------------------------------  \n",
      "\n"
     ]
    }
   ],
   "source": [
    "# Take a random look. Every fact has 5 overlap scores with the corresponding question (F1, RE, PR, lcs_q, lcs_f)\n",
    "for k in txt_dataset:\n",
    "    if random.random() > 3/7921: continue\n",
    "    print(k)\n",
    "    print('Q: ', txt_dataset[k]['Q'])\n",
    "    print('A: ', txt_dataset[k]['A'])\n",
    "    print('+')\n",
    "    for i, f in enumerate(txt_dataset[k]['SupportingFacts']):\n",
    "        print(i, f['fact'])\n",
    "        print(compute_vqa_metrics([f['fact']], txt_dataset[k]['Q']))\n",
    "    print('-')\n",
    "    for i, d in enumerate(txt_dataset[k]['DistractorFacts']):\n",
    "        print(i, d['fact'])\n",
    "        print(compute_vqa_metrics([d['fact']], txt_dataset[k]['Q']))\n",
    "    print('  ------------------------------------------------------------  \\n')"
   ]
  },
  {
   "cell_type": "code",
   "execution_count": 10,
   "metadata": {},
   "outputs": [
    {
     "name": "stdout",
     "output_type": "stream",
     "text": [
      "F1 0.4902158818331019\n",
      "RE 0.43214240626183564\n",
      "PR 0.45474056306021965\n",
      "lcs_q 0.41181668981189246\n",
      "lcs_f 0.40095947481378613\n"
     ]
    },
    {
     "name": "stderr",
     "output_type": "stream",
     "text": [
      "/home/yingshac/miniconda3/envs/py37/lib/python3.7/site-packages/seaborn/distributions.py:2551: FutureWarning: `distplot` is a deprecated function and will be removed in a future version. Please adapt your code to use either `displot` (a figure-level function with similar flexibility) or `histplot` (an axes-level function for histograms).\n",
      "  warnings.warn(msg, FutureWarning)\n"
     ]
    },
    {
     "data": {
      "text/plain": [
       "<matplotlib.lines.Line2D at 0x7f0f7f574f50>"
      ]
     },
     "execution_count": 10,
     "metadata": {},
     "output_type": "execute_result"
    },
    {
     "data": {
      "image/png": "[encoded data removed]",
      "text/plain": [
       "<Figure size 720x216 with 2 Axes>"
      ]
     },
     "metadata": {},
     "output_type": "display_data"
    }
   ],
   "source": [
    "# posdominate\n",
    "metrics = ['F1', 'RE', 'PR', 'lcs_q', 'lcs_f']\n",
    "colors = sns.color_palette(\"tab10\")\n",
    "fig, axes = plt.subplots(1, 2, sharex=True, figsize=(10,3))\n",
    "for m, color in zip(metrics[:3], colors[:3]):\n",
    "    ax = axes[0]\n",
    "    data = [min(guid2posMetrics[guid][m]) - max(guid2negMetrics[guid][m]) for guid in guid2posMetrics]\n",
    "    print(m, np.sum(np.array(data)>0) / len(data))\n",
    "    sns.distplot(data, ax=ax, kde=False, label=\"min(pos_{}s) - max(neg_{}s)\".format(m, m), color=color)\n",
    "axes[0].legend()\n",
    "for m, color in zip(metrics[3:], colors[3:]):\n",
    "    ax = axes[1]\n",
    "    data = [min(guid2posMetrics[guid][m]) - max(guid2negMetrics[guid][m]) for guid in guid2posMetrics]\n",
    "    print(m, np.sum(np.array(data)>0) / len(data))\n",
    "    sns.distplot(data, ax=ax, kde=False, label=\"min(pos_{}s) - max(neg_{}s)\".format(m, m), color=color)\n",
    "axes[1].legend()\n",
    "plt.axvline(0.0, color='red')"
   ]
  },
  {
   "cell_type": "code",
   "execution_count": 11,
   "metadata": {},
   "outputs": [
    {
     "name": "stdout",
     "output_type": "stream",
     "text": [
      "F1 0.9655346547153137\n",
      "RE 0.9704582754702689\n"
     ]
    },
    {
     "name": "stderr",
     "output_type": "stream",
     "text": [
      "/home/yingshac/miniconda3/envs/py37/lib/python3.7/site-packages/seaborn/distributions.py:2551: FutureWarning: `distplot` is a deprecated function and will be removed in a future version. Please adapt your code to use either `displot` (a figure-level function with similar flexibility) or `histplot` (an axes-level function for histograms).\n",
      "  warnings.warn(msg, FutureWarning)\n"
     ]
    },
    {
     "name": "stdout",
     "output_type": "stream",
     "text": [
      "PR 0.9584648402979422\n",
      "lcs_q 0.9599798005302361\n",
      "lcs_f 0.9383916172200479\n"
     ]
    },
    {
     "data": {
      "text/plain": [
       "<matplotlib.lines.Line2D at 0x7f0f7f048410>"
      ]
     },
     "execution_count": 11,
     "metadata": {},
     "output_type": "execute_result"
    },
    {
     "data": {
      "image/png": "[encoded data removed]",
      "text/plain": [
       "<Figure size 720x216 with 2 Axes>"
      ]
     },
     "metadata": {},
     "output_type": "display_data"
    }
   ],
   "source": [
    "# avg(pos) - avg(neg)\n",
    "metrics = ['F1', 'RE', 'PR', 'lcs_q', 'lcs_f']\n",
    "colors = sns.color_palette(\"tab10\")\n",
    "fig, axes = plt.subplots(1, 2, sharex=True, figsize=(10,3))\n",
    "for m, color in zip(metrics[:3], colors[:3]):\n",
    "    ax = axes[0]\n",
    "    data = [np.mean(guid2posMetrics[guid][m]) - np.mean(guid2negMetrics[guid][m]) for guid in guid2posMetrics]\n",
    "    print(m, np.sum(np.array(data)>0) / len(data))\n",
    "    sns.distplot(data, ax=ax, kde=False, label=\"avg(pos_{}s) - avg(neg_{}s)\".format(m, m), color=color)\n",
    "axes[0].legend()\n",
    "for m, color in zip(metrics[3:], colors[3:]):\n",
    "    ax = axes[1]\n",
    "    data = [np.mean(guid2posMetrics[guid][m]) - np.mean(guid2negMetrics[guid][m]) for guid in guid2posMetrics]\n",
    "    print(m, np.sum(np.array(data)>0) / len(data))\n",
    "    sns.distplot(data, ax=ax, kde=False, label=\"avg(pos_{}s) - avg(neg_{}s)\".format(m, m), color=color)\n",
    "axes[1].legend()\n",
    "plt.axvline(0.0, color='red')"
   ]
  },
  {
   "cell_type": "code",
   "execution_count": 53,
   "metadata": {},
   "outputs": [
    {
     "name": "stderr",
     "output_type": "stream",
     "text": [
      "/home/yingshac/miniconda3/envs/py37/lib/python3.7/site-packages/numpy/core/fromnumeric.py:3373: RuntimeWarning: Mean of empty slice.\n",
      "  out=out, **kwargs)\n",
      "/home/yingshac/miniconda3/envs/py37/lib/python3.7/site-packages/numpy/core/_methods.py:170: RuntimeWarning: invalid value encountered in double_scalars\n",
      "  ret = ret.dtype.type(ret / rcount)\n",
      "/home/yingshac/miniconda3/envs/py37/lib/python3.7/site-packages/seaborn/distributions.py:2551: FutureWarning: `distplot` is a deprecated function and will be removed in a future version. Please adapt your code to use either `displot` (a figure-level function with similar flexibility) or `histplot` (an axes-level function for histograms).\n",
      "  warnings.warn(msg, FutureWarning)\n"
     ]
    },
    {
     "name": "stdout",
     "output_type": "stream",
     "text": [
      "F1 0.810564893213699\n",
      "RE 0.8053835460634399\n",
      "PR 0.7880702641223304\n",
      "lcs_q 0.7975483381776823\n",
      "lcs_f 0.7492733476557564\n"
     ]
    },
    {
     "data": {
      "text/plain": [
       "<matplotlib.lines.Line2D at 0x7f2a8b421a50>"
      ]
     },
     "execution_count": 53,
     "metadata": {},
     "output_type": "execute_result"
    },
    {
     "data": {
      "image/png": "[encoded data removed]",
      "text/plain": [
       "<Figure size 720x216 with 2 Axes>"
      ]
     },
     "metadata": {},
     "output_type": "display_data"
    }
   ],
   "source": [
    "# avg(pos) - avg(neg_top)\n",
    "metrics = ['F1', 'RE', 'PR', 'lcs_q', 'lcs_f']\n",
    "colors = sns.color_palette(\"tab10\")\n",
    "fig, axes = plt.subplots(1, 2, sharex=True, figsize=(10,3))\n",
    "for m, color in zip(metrics[:3], colors[:3]):\n",
    "    ax = axes[0]\n",
    "    data = [np.mean(guid2posMetrics[guid][m]) - np.mean(sorted(guid2negMetrics[guid][m], reverse=True)[:len(guid2posMetrics[guid][m])]) for guid in guid2posMetrics]\n",
    "    print(m, np.sum(np.array(data)>0) / len(data))\n",
    "    sns.distplot(data, ax=ax, kde=False, label=\"avg(pos_{}s) - avg(neg_top_{}s)\".format(m, m), color=color)\n",
    "axes[0].legend()\n",
    "for m, color in zip(metrics[3:], colors[3:]):\n",
    "    ax = axes[1]\n",
    "    data = [np.mean(guid2posMetrics[guid][m]) - np.mean(sorted(guid2negMetrics[guid][m], reverse=True)[:len(guid2posMetrics[guid][m])]) for guid in guid2posMetrics]\n",
    "    print(m, np.sum(np.array(data)>0) / len(data))\n",
    "    sns.distplot(data, ax=ax, kde=False, label=\"avg(pos_{}s) - avg(neg_top_{}s)\".format(m, m), color=color)\n",
    "axes[1].legend()\n",
    "plt.axvline(0.0, color='red')"
   ]
  },
  {
   "cell_type": "code",
   "execution_count": 24,
   "metadata": {},
   "outputs": [],
   "source": [
    "def compute_retrieval_metrics(pred, gth):\n",
    "    common = len(set(pred).intersection(gth))\n",
    "    RE = common / len(gth)\n",
    "    PR = common / len(pred)\n",
    "    F1 = 2*PR*RE / (PR + RE + 1e-5)\n",
    "    return F1, RE, PR"
   ]
  },
  {
   "cell_type": "code",
   "execution_count": 25,
   "metadata": {},
   "outputs": [
    {
     "name": "stdout",
     "output_type": "stream",
     "text": [
      "F1\n",
      "   F1 =  0.7173657038219061\n",
      "   RE =  0.7140117994100295\n",
      "   PR =  0.7225663716814159\n",
      "RE\n",
      "   F1 =  0.6812806664913325\n",
      "   RE =  0.6781394858828487\n",
      "   PR =  0.6861567635903919\n",
      "PR\n",
      "   F1 =  0.6939523575011564\n",
      "   RE =  0.6906236831015593\n",
      "   PR =  0.6991150442477876\n",
      "lcs_q\n",
      "   F1 =  0.6624480429737595\n",
      "   RE =  0.6593025705857564\n",
      "   PR =  0.6673198482932996\n",
      "lcs_f\n",
      "   F1 =  0.6585794988220267\n",
      "   RE =  0.6553518752633797\n",
      "   PR =  0.663590391908976\n"
     ]
    }
   ],
   "source": [
    "# Performance of top2<m> strategy\n",
    "for m in ['F1', 'RE', 'PR', 'lcs_q', 'lcs_f']:\n",
    "    F1s = []\n",
    "    REs = []\n",
    "    PRs = []\n",
    "    print(m)\n",
    "    for guid in guid2posMetrics:\n",
    "        f_scores = guid2posMetrics[guid][m]\n",
    "        all_scores = np.array(f_scores + guid2negMetrics[guid][m])\n",
    "        pred = all_scores.argsort()[-2:][::-1]\n",
    "        gth = range(len(guid2posMetrics[guid][m]))\n",
    "        F1, RE, PR = compute_retrieval_metrics(pred, gth)\n",
    "        F1s.append(F1)\n",
    "        REs.append(RE)\n",
    "        PRs.append(PR)\n",
    "    print('   F1 = ', np.mean(F1s))\n",
    "    print('   RE = ', np.mean(REs))\n",
    "    print('   PR = ', np.mean(PRs))"
   ]
  },
  {
   "cell_type": "code",
   "execution_count": 38,
   "metadata": {},
   "outputs": [
    {
     "name": "stdout",
     "output_type": "stream",
     "text": [
      "posdominate 3866\n",
      "mixed 2166\n",
      "top&lag 1385\n",
      "negdominate 493\n"
     ]
    }
   ],
   "source": [
    "### Categorization based on overlap patterns between question & facts\n",
    "m = 'F1'\n",
    "buckets = defaultdict(lambda: [])\n",
    "for guid in guid2posMetrics:\n",
    "    all_scores = np.array(guid2posMetrics[guid][m]+guid2negMetrics[guid][m])\n",
    "    if len(guid2posMetrics[guid][m]) == 0: \n",
    "        continue\n",
    "    if set(all_scores.argsort()[-2:]) == {0,1}:\n",
    "        buckets['posdominate'].append(guid)\n",
    "    if (0 not in all_scores.argsort()[-2:]) and (1 not in all_scores.argsort()[-2:]):\n",
    "        buckets['negdominate'].append(guid)\n",
    "    if (all_scores.argsort()[-1] in {0,1}) and (bool(0 in all_scores.argsort()[-3:]) != bool(1 in all_scores.argsort()[-3:])):\n",
    "        buckets['top&lag'].append(guid)\n",
    "    if (set(all_scores.argsort()[-3::2]) == {1,0}) or ((not set(all_scores.argsort()[-2:]) == {0,1}) and (all_scores.argsort()[-2:][0] in {0,1})):\n",
    "        buckets['mixed'].append(guid)\n",
    "\n",
    "for k in buckets:\n",
    "    print(k, len(buckets[k]))\n"
   ]
  },
  {
   "cell_type": "markdown",
   "metadata": {},
   "source": [
    "### Recover model predictions on each sample"
   ]
  },
  {
   "cell_type": "code",
   "execution_count": 79,
   "metadata": {},
   "outputs": [
    {
     "name": "stdout",
     "output_type": "stream",
     "text": [
      "1594\n",
      "2387\n"
     ]
    }
   ],
   "source": [
    "# Combine filter model outputs on val+te\n",
    "light_output_dir = \"/home/yingshac/CYS/WebQnA/VLP/vlp/light_output/filter_full_data/\"\n",
    "step = 5\n",
    "txt_prediction = json.load(open(os.path.join(light_output_dir, \"ind_test|ood_test_-1_step{}_txt_20_True_txt_dataset_J.json\".format(step)), \"r\")) \n",
    "print(len(txt_prediction))\n",
    "txt_prediction.update(json.load(open(os.path.join(light_output_dir, \"val_-1_step{}_txt_20_True_txt_dataset_J.json\".format(step)), \"r\")))\n",
    "print(len(txt_prediction))"
   ]
  },
  {
   "cell_type": "code",
   "execution_count": 89,
   "metadata": {},
   "outputs": [
    {
     "name": "stdout",
     "output_type": "stream",
     "text": [
      "6886\n",
      "6927\n",
      "5649\n",
      "2387\n"
     ]
    }
   ],
   "source": [
    "indx2guid = dict(zip([i for i in txt_dataset], [txt_dataset[i]['Guid'] for i in txt_dataset]))\n",
    "\n",
    "txt_guid2pred = {}\n",
    "for indx in txt_prediction:\n",
    "    i = str(indx2guid[indx])\n",
    "    try:\n",
    "        txt_guid2pred[i] = {\"gth\": [], \"gth_f\": [], \"pred\": [], \"pred_f\": []}\n",
    "        for c in np.array(txt_prediction[indx]['pred_scores'][:len(txt_prediction[indx]['choices'])]).argsort()[-2:]:\n",
    "            txt_guid2pred[i]['pred_f'].append(txt_prediction[indx]['choices'][c])\n",
    "            txt_guid2pred[i]['pred'].append(c)\n",
    "        for inx, l, f in zip(range(len(txt_prediction[indx]['labels'])), txt_prediction[indx]['labels'], txt_prediction[indx]['choices']):\n",
    "            if l == 1:\n",
    "                txt_guid2pred[i]['gth'].append(inx)\n",
    "                txt_guid2pred[i]['gth_f'].append(f)\n",
    "        F1, RE, PR = compute_retrieval_metrics(txt_guid2pred[i]['pred'], txt_guid2pred[i]['gth'])\n",
    "        txt_guid2pred[i]['F1'] = F1\n",
    "        txt_guid2pred[i]['RE'] = RE\n",
    "        txt_guid2pred[i]['PR'] = PR\n",
    "        txt_guid2pred[i]['indx'] = indx\n",
    "    except:\n",
    "        txt_guid2pred[i]['F1'] = 0.0\n",
    "        txt_guid2pred[i]['RE'] = 0.0\n",
    "        txt_guid2pred[i]['PR'] = 0.0\n",
    "        txt_guid2pred[i]['indx'] = indx\n",
    "        print(indx)\n",
    "print(len(txt_guid2pred))\n",
    "#pickle.dump(txt_guid2pred, open(os.path.join(light_output_dir, \"guid2pred_val|ind_test|ood_test_-1_step{}_txt_20_True_txt_dataset_J.pkl\".format(step)), \"wb\"))"
   ]
  },
  {
   "cell_type": "code",
   "execution_count": 90,
   "metadata": {},
   "outputs": [
    {
     "name": "stdout",
     "output_type": "stream",
     "text": [
      "0\n",
      "1000\n",
      "2000\n",
      "3000\n",
      "4000\n",
      "5000\n",
      "6000\n",
      "7000\n"
     ]
    }
   ],
   "source": [
    "txt_guid2pred = pickle.load(open(os.path.join(light_output_dir, \"guid2pred_val|ind_test|ood_test_-1_step{}_txt_20_True_txt_dataset_J.pkl\".format(step)), \"rb\"))\n",
    "\n",
    "### recover pred_f (pred_f in the prediction files are tokenized.)\n",
    "txt_guid2pred_recovered = copy.deepcopy(txt_guid2pred)\n",
    "for k in txt_dataset:\n",
    "    if int(k) % 1000 == 0: print(k)\n",
    "    guid = txt_dataset[k]['Guid']\n",
    "    if str(guid) not in txt_guid2pred: continue\n",
    "    ori = len(txt_guid2pred_recovered[str(guid)]['pred_f'])\n",
    "    txt_guid2pred_recovered[str(guid)]['pred_f'] = []\n",
    "    for pred_f in txt_guid2pred[str(guid)]['pred_f']:\n",
    "        best_f1 = 0\n",
    "        nearest_f = \"\"\n",
    "        for f in txt_dataset[k]['SupportingFacts'] + txt_dataset[k]['DistractorFacts']:\n",
    "            F1, _, __, RE, PR = compute_vqa_metrics([pred_f], f['fact'])\n",
    "            if F1 > best_f1:\n",
    "                best_f1 = F1\n",
    "                nearest_f = f['fact']\n",
    "        txt_guid2pred_recovered[str(guid)]['pred_f'].append(nearest_f)\n",
    "    assert len(txt_guid2pred_recovered[str(guid)]['pred_f']) == ori"
   ]
  },
  {
   "cell_type": "code",
   "execution_count": 91,
   "metadata": {},
   "outputs": [],
   "source": [
    "pickle.dump(txt_guid2pred_recovered, open(os.path.join(light_output_dir, \"guid2pred_val|ind_test|ood_test_-1_step6_txt_20_True_txt_dataset_J_recovered.pkl\".format(step)), \"wb\"))"
   ]
  },
  {
   "cell_type": "code",
   "execution_count": 75,
   "metadata": {
    "collapsed": true
   },
   "outputs": [
    {
     "name": "stdout",
     "output_type": "stream",
     "text": [
      "79d0e7ad-cfaa-4215-8ed0-1034a8564ef3\n",
      "{'F1': 0.9999950000249999,\n",
      " 'PR': 1.0,\n",
      " 'RE': 1.0,\n",
      " 'gth': [3, 6],\n",
      " 'gth_f': [\"The Innuitian Region is a physiographic division of Canada ' s far \"\n",
      "           'north . It is one of three physiographic divisions of the Arctic '\n",
      "           'Lands physiographic region , along with the Arctic Coastal Plain , '\n",
      "           'and the Arctic Lowlands . The Queen Elizabeth Islands comprise '\n",
      "           'most of the region , which is also considered to be part of the '\n",
      "           'Arctic Archipelago .',\n",
      "           'The Arctic Cordillera is a terrestrial ecozone in northern Canada '\n",
      "           'characterized by a vast , deeply dissected chain of mountain '\n",
      "           'ranges extending along the northeastern flank of the Canadian '\n",
      "           'Arctic Archipelago from Ellesmere Island to the northeasternmost '\n",
      "           'part of the Labrador Peninsula in northern Labrador and northern '\n",
      "           'Quebec , Canada .'],\n",
      " 'indx': '7103',\n",
      " 'pred': [3, 6],\n",
      " 'pred_f': [\"The Innuitian Region is a physiographic division of Canada's far \"\n",
      "            'north. It is one of three physiographic divisions of the Arctic '\n",
      "            'Lands physiographic region, along with the Arctic Coastal Plain, '\n",
      "            'and the Arctic Lowlands. The Queen Elizabeth Islands comprise '\n",
      "            'most of the region, which is also considered to be part of the '\n",
      "            'Arctic Archipelago .',\n",
      "            'The Arctic Cordillera is a terrestrial ecozone in northern Canada '\n",
      "            'characterized by a vast, deeply dissected chain of mountain '\n",
      "            'ranges extending along the northeastern flank of the Canadian '\n",
      "            'Arctic Archipelago from Ellesmere Island to the northeasternmost '\n",
      "            'part of the Labrador Peninsula in northern Labrador and northern '\n",
      "            'Quebec, Canada.']}\n"
     ]
    }
   ],
   "source": [
    "# Take a random look at model predictions (structured in a way for friendly to later analysis)\n",
    "for i in txt_guid2pred_recovered:\n",
    "    if random.random() < 0.001:\n",
    "        print(i)\n",
    "        pprint(txt_guid2pred_recovered[i])"
   ]
  },
  {
   "cell_type": "code",
   "execution_count": 93,
   "metadata": {},
   "outputs": [
    {
     "name": "stdout",
     "output_type": "stream",
     "text": [
      "0.7750964185692016\n",
      "0.7710515291160452\n",
      "0.7813154587348136\n"
     ]
    }
   ],
   "source": [
    "# Model performance filter F1\n",
    "# This is slightly better than the reported number in overleaf, which is resulted from threshold=0.15 w/o top2.\n",
    "# Filter metrics here correspond to threshold=0.0 w/ top2\n",
    "# The threshold was selected because it leads to higher F1 for the joint model\n",
    "print(np.mean([txt_guid2pred_recovered[g]['F1'] for g in txt_guid2pred_recovered]))\n",
    "print(np.mean([txt_guid2pred_recovered[g]['RE'] for g in txt_guid2pred_recovered]))\n",
    "print(np.mean([txt_guid2pred_recovered[g]['PR'] for g in txt_guid2pred_recovered]))"
   ]
  },
  {
   "cell_type": "markdown",
   "metadata": {},
   "source": [
    "### Categorization of questions based on overlapping patterns. \n",
    "### Investigation into whether it relates to a notion of difficulty"
   ]
  },
  {
   "cell_type": "code",
   "execution_count": 97,
   "metadata": {},
   "outputs": [
    {
     "name": "stdout",
     "output_type": "stream",
     "text": [
      "2166\n",
      "650\n",
      "0.6866106109774817\n"
     ]
    }
   ],
   "source": [
    "# Performance breakdown w.r.t overlapping patterns\n",
    "count = 0\n",
    "pred_count = 0\n",
    "m = 'F1'\n",
    "cased_F1s = []\n",
    "for k in txt_dataset:\n",
    "    guid = txt_dataset[k]['Guid']\n",
    "    if len(guid2posMetrics[guid][m]) == 0: \n",
    "        continue\n",
    "    all_scores = np.array(guid2posMetrics[guid][m]+guid2negMetrics[guid][m])\n",
    "    #if (0 in all_scores.argsort()[-2:]) and (1 in all_scores.argsort()[-2:]): ## pos dominate\n",
    "    #if (0 not in all_scores.argsort()[-2:]) and (1 not in all_scores.argsort()[-2:]): ## negdominate\n",
    "    if (set(all_scores.argsort()[-3::2]) == {1,0})or ((not set(all_scores.argsort()[-2:]) == {0,1}) and (all_scores.argsort()[-2:][0] in {0,1})): ## Mixed\n",
    "    #if (all_scores.argsort()[-1] in {0,1}) and (bool(0 in all_scores.argsort()[-3:]) != bool(1 in all_scores.argsort()[-3:])): ## head&toes\n",
    "    #if (set(all_scores.argsort()[-4::3]) == {1,0}): ## head&toes' children\n",
    "        count += 1\n",
    "\n",
    "        if str(guid) in txt_guid2pred_recovered:\n",
    "            cased_F1s.append(txt_guid2pred_recovered[str(guid)]['F1'])\n",
    "            pred_count += 1\n",
    "        if (not str(guid) in txt_guid2pred_recovered) or random.random() > 0.001: continue\n",
    "        \n",
    "        print(\" ----------------------------------------- \")\n",
    "        print('Q: ', txt_dataset[k]['Q'])\n",
    "        print('A: ', txt_dataset[k]['A'])\n",
    "        print(\"PRED: \", txt_guid2pred_recovered[str(guid)]['pred_f'][0])\n",
    "        print(\"PRED: \", txt_guid2pred_recovered[str(guid)]['pred_f'][1])\n",
    "        print('+')\n",
    "        for f, F1, RE, PR in zip(txt_dataset[k]['SupportingFacts'], guid2posMetrics[guid]['F1'], guid2posMetrics[guid]['RE'], guid2posMetrics[guid]['PR']):\n",
    "            \n",
    "            print(F1, f['fact'])\n",
    "            print(RE, PR)\n",
    "        print('-')\n",
    "        for d, F1, RE, PR in zip(txt_dataset[k]['DistractorFacts'], guid2negMetrics[guid]['F1'], guid2negMetrics[guid]['RE'], guid2negMetrics[guid]['PR']):\n",
    "            if d['fact'] in txt_guid2pred_recovered[str(guid)]['pred_f']:\n",
    "                print(F1, d['fact'])\n",
    "                print(RE, PR)\n",
    "print(count)\n",
    "print(pred_count)\n",
    "print(np.mean(cased_F1s))"
   ]
  },
  {
   "cell_type": "code",
   "execution_count": 102,
   "metadata": {},
   "outputs": [
    {
     "name": "stdout",
     "output_type": "stream",
     "text": [
      "continue\n",
      " ----------------------------------------- \n",
      "Q:  What is a nerve cell made of?\n",
      "A:  A body (soma), dendrites, and a single axon.\n",
      "PRED:  This process is called sensory transduction. The cell bodies of the sensory neurons are located in the dorsal ganglia of the spinal cord. This sensory information travels along afferent nerve fibers in an afferent or sensory nerve, to the brain via the spinal cord.\n",
      "PRED:  There are many different types of cell in the human body . basal cell (stem cell) of cornea, tongue, mouth, nasal cavity, distal anal canal, distal urethra, and distal vagina There are nerve cells, also known as neurons, present in our human body. They are branched out. These cells make up nervous tissue .\n",
      "+\n",
      "-\n",
      "0.10526087262579169 The cell bodies of the sensory neurons are located in the dorsal ganglia of the spinal cord. This sensory information travels along afferent nerve fibers in an afferent or sensory nerve, to the brain via the spinal cord.\n",
      "0.4 0.06060606060606061\n",
      "0.0888869136241417 This process is called sensory transduction. The cell bodies of the sensory neurons are located in the dorsal ganglia of the spinal cord. This sensory information travels along afferent nerve fibers in an afferent or sensory nerve, to the brain via the spinal cord.\n",
      "0.4 0.05\n",
      "continue\n",
      "continue\n",
      "133\n",
      "0.34962406015037595\n"
     ]
    }
   ],
   "source": [
    "### Agreement between Top2<m> & model prediction\n",
    "m = 'F1'\n",
    "F1s = []\n",
    "for k in txt_dataset:\n",
    "    guid = txt_dataset[k]['Guid']\n",
    "    if str(guid) not in txt_guid2pred_recovered: continue\n",
    "    if len(guid2posMetrics[guid][m]) == 0: \n",
    "        print('continue')\n",
    "        continue\n",
    "    all_scores =  np.array(guid2posMetrics[guid][m] + guid2negMetrics[guid][m])\n",
    "    #if (0 in all_scores.argsort()[-2:]) and (1 in all_scores.argsort()[-2:]): ## posdominate\n",
    "    if (0 not in all_scores.argsort()[-2:]) and (1 not in all_scores.argsort()[-2:]): ## negdominate\n",
    "    #if (set(all_scores.argsort()[-3::2]) == {1,0})or ((not set(all_scores.argsort()[-2:]) == {0,1}) and (all_scores.argsort()[-2:][0] in {0,1})): # Mixed\n",
    "    #if (all_scores.argsort()[-1] in {0,1}) and (bool(0 in all_scores.argsort()[-3:]) != bool(1 in all_scores.argsort()[-3:])): ## head&toes\n",
    "    #if (set(all_scores.argsort()[-3::2]) == {1,0}): ## Mixed's children\n",
    "    #if ((not set(all_scores.argsort()[-2:]) == {0,1}) and (all_scores.argsort()[-2:][0] in {0,1})): ## Mixed's children\n",
    "    #if True: ## Overall\n",
    "        m_pred = all_scores.argsort()[-2:]\n",
    "        all_facts = txt_dataset[k]['SupportingFacts'] + txt_dataset[k]['DistractorFacts']\n",
    "        common = 0\n",
    "        for c in m_pred:\n",
    "            if all_facts[c]['fact'] in txt_guid2pred_recovered[str(guid)]['pred_f']:\n",
    "                common += 1\n",
    "        if common == 0:\n",
    "            F1s.append(0)\n",
    "            \n",
    "        elif common ==1:\n",
    "            F1s.append(0.5)\n",
    "            if random.random() < 0.01:\n",
    "                print(\" ----------------------------------------- \")\n",
    "                print('Q: ', txt_dataset[k]['Q'])\n",
    "                print('A: ', txt_dataset[k]['A'])\n",
    "                print(\"PRED: \", txt_guid2pred_recovered[str(guid)]['pred_f'][0])\n",
    "                print(\"PRED: \", txt_guid2pred_recovered[str(guid)]['pred_f'][1])\n",
    "                #try:\n",
    "                    #print(\"--\", all_facts[m_pred[0]]['fact'])\n",
    "                    #print(\"--\", all_facts[m_pred[1]]['fact'])\n",
    "                #except: pass\n",
    "                i = 0\n",
    "                print('+')\n",
    "                for f, F1, RE, PR in zip(txt_dataset[k]['SupportingFacts'], guid2posMetrics[guid]['F1'], guid2posMetrics[guid]['RE'], guid2posMetrics[guid]['PR']):\n",
    "                    if i in m_pred:\n",
    "                        print(F1, f['fact'])\n",
    "                        print(RE, PR)\n",
    "                    i += 1\n",
    "                print('-')\n",
    "                for d, F1, RE, PR in zip(txt_dataset[k]['DistractorFacts'], guid2negMetrics[guid]['F1'], guid2negMetrics[guid]['RE'], guid2negMetrics[guid]['PR']):\n",
    "                    if i in m_pred:\n",
    "                        print(F1, d['fact'])\n",
    "                        print(RE, PR)\n",
    "                    i += 1\n",
    "        elif common == 2:\n",
    "            F1s.append(1)\n",
    "            \n",
    "        else:\n",
    "            print(\"wtf???\")\n",
    "print(len(F1s))\n",
    "print(np.mean(F1s))"
   ]
  },
  {
   "cell_type": "code",
   "execution_count": null,
   "metadata": {},
   "outputs": [],
   "source": []
  }
 ],
 "metadata": {
  "kernelspec": {
   "display_name": "py37",
   "language": "python",
   "name": "py37"
  },
  "language_info": {
   "codemirror_mode": {
    "name": "ipython",
    "version": 3
   },
   "file_extension": ".py",
   "mimetype": "text/x-python",
   "name": "python",
   "nbconvert_exporter": "python",
   "pygments_lexer": "ipython3",
   "version": "3.7.9"
  }
 },
 "nbformat": 4,
 "nbformat_minor": 4
}
