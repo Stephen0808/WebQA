{
 "cells": [
  {
   "cell_type": "code",
   "execution_count": 29,
   "metadata": {},
   "outputs": [],
   "source": [
    "import os, json\n",
    "import numpy as np"
   ]
  },
  {
   "cell_type": "code",
   "execution_count": 45,
   "metadata": {},
   "outputs": [
    {
     "name": "stdout",
     "output_type": "stream",
     "text": [
      "(22265,)\n"
     ]
    }
   ],
   "source": [
    "x = np.zeros(len(os.listdir(\"/data/yingshac/MMMHQA/gold_test\")), dtype=np.longlong)\n",
    "print(x.shape)\n",
    "with open(\"/data/yingshac/maskrcnn-benchmark-1/datasets1/visualgenome/visualgenome/WebQnA_hw.lineidx\", \"r\") as fp:\n",
    "    hw_lineidx = [int(i.strip()) for i in fp.readlines()]\n",
    "with open(\"/data/yingshac/maskrcnn-benchmark-1/datasets1/visualgenome/visualgenome/WebQnA_img.lineidx\", \"r\") as fp:\n",
    "    img_lineidx = [int(i.strip()) for i in fp.readlines()]\n",
    "with open(\"/data/yingshac/MMMHQA/VinVL_output/gold_0_22265/predictions.lineidx\", \"r\") as fp:\n",
    "    pred_lineidx = [int(i.strip()) for i in fp.readlines()]\n",
    "assert len(hw_lineidx) == len(img_lineidx) == len(pred_lineidx) == len(x)"
   ]
  },
  {
   "cell_type": "code",
   "execution_count": 48,
   "metadata": {},
   "outputs": [
    {
     "name": "stdout",
     "output_type": "stream",
     "text": [
      "1000\n",
      "2000\n",
      "3000\n",
      "4000\n",
      "5000\n",
      "6000\n",
      "7000\n",
      "8000\n",
      "9000\n",
      "10000\n",
      "11000\n",
      "12000\n",
      "13000\n",
      "14000\n",
      "15000\n",
      "16000\n",
      "17000\n",
      "18000\n",
      "19000\n",
      "20000\n",
      "21000\n",
      "22000\n"
     ]
    }
   ],
   "source": [
    "# Generate lineidx with the correct order\n",
    "count = 0\n",
    "with open(\"/data/yingshac/MMMHQA/VinVL_output/gold_0_22265/predictions.tsv\", \"r\") as fp:\n",
    "    for i in pred_lineidx:\n",
    "        fp.seek(i)\n",
    "        imgid = int(fp.readline().strip().split('\\t')[0])\n",
    "        x[imgid] = i\n",
    "        count += 1\n",
    "        if count % 1000 == 0: print(count)"
   ]
  },
  {
   "cell_type": "code",
   "execution_count": 49,
   "metadata": {},
   "outputs": [
    {
     "name": "stdout",
     "output_type": "stream",
     "text": [
      "999\n",
      "1999\n",
      "2999\n",
      "3999\n",
      "4999\n",
      "5999\n",
      "6999\n",
      "7999\n",
      "8999\n",
      "9999\n",
      "10999\n",
      "11999\n",
      "12999\n",
      "13999\n",
      "14999\n",
      "15999\n",
      "16999\n",
      "17999\n",
      "18999\n",
      "19999\n",
      "20999\n",
      "21999\n"
     ]
    }
   ],
   "source": [
    "# write a new predictions.tsv according to the lineidx created\n",
    "with open(\"/data/yingshac/MMMHQA/VinVL_output/gold_0_22265/predictions.tsv\", \"r\") as fp, open(\"/data/yingshac/MMMHQA/VinVL_output/gold_0_22265/predictions_cor.tsv\", \"w\") as fp_cor:\n",
    "    for i in range(len(x)):\n",
    "        fp.seek(x[i])\n",
    "        fp_cor.write(fp.readline())\n",
    "        if i % 1000 == 999: print(i)"
   ]
  },
  {
   "cell_type": "code",
   "execution_count": 50,
   "metadata": {},
   "outputs": [
    {
     "name": "stdout",
     "output_type": "stream",
     "text": [
      "1999\n",
      "3999\n",
      "5999\n",
      "7999\n",
      "9999\n",
      "11999\n",
      "13999\n",
      "15999\n",
      "17999\n",
      "19999\n",
      "21999\n",
      "22265\n"
     ]
    }
   ],
   "source": [
    "# generate new lineidx based on predictions_cor\n",
    "### given a file, store lineidx in <filename>.lineidx in the same directory\n",
    "directory = '/data/yingshac/MMMHQA/VinVL_output/gold_0_22265/'\n",
    "filename = 'predictions_cor.tsv'\n",
    "\n",
    "fp = open(os.path.join(directory, filename), 'r')\n",
    "linefp = open(os.path.join(directory, '{}.lineidx'.format(filename.split('.')[0])), 'w')\n",
    "count = 0\n",
    "while True:\n",
    "    if count %2000 == 1999: print(count)\n",
    "    tmp = fp.tell()\n",
    "    l = fp.readline()\n",
    "    if not l: break\n",
    "    linefp.write('{0}'.format(tmp) + '\\n')\n",
    "    count += 1\n",
    "fp.close()\n",
    "linefp.close()\n",
    "print(count)"
   ]
  },
  {
   "cell_type": "code",
   "execution_count": 51,
   "metadata": {},
   "outputs": [
    {
     "name": "stdout",
     "output_type": "stream",
     "text": [
      "2000\n",
      "4000\n",
      "6000\n",
      "8000\n",
      "10000\n",
      "12000\n",
      "14000\n",
      "16000\n",
      "18000\n",
      "20000\n",
      "22000\n"
     ]
    }
   ],
   "source": [
    "# Sanity check: there should be NO more mismatch\n",
    "with open(\"/data/yingshac/MMMHQA/VinVL_output/gold_0_22265/predictions_cor.lineidx\", \"r\") as fp:\n",
    "    pred_lineidx_cor = [int(i.strip()) for i in fp.readlines()]\n",
    "count = 0\n",
    "with open(\"/data/yingshac/MMMHQA/VinVL_output/gold_0_22265/predictions_cor.tsv\", \"r\") as fp:\n",
    "    for i in pred_lineidx_cor:\n",
    "        fp.seek(i)\n",
    "        imgid = int(fp.readline().strip().split('\\t')[0])\n",
    "        if not imgid == count: print(count, imgid)\n",
    "        count += 1\n",
    "        if count % 2000 == 0: print(count)"
   ]
  },
  {
   "cell_type": "code",
   "execution_count": null,
   "metadata": {},
   "outputs": [],
   "source": []
  },
  {
   "cell_type": "code",
   "execution_count": 52,
   "metadata": {},
   "outputs": [
    {
     "name": "stdout",
     "output_type": "stream",
     "text": [
      "15192064999\n",
      "16017534999\n",
      "33138744999\n",
      "34958739999\n",
      "46396489999\n",
      "46816934999\n",
      "60023204999\n",
      "62642639999\n",
      "90883149999\n",
      "90896879999\n",
      "103138104999\n",
      "112610054999\n",
      "130003254999\n",
      "172005679999\n",
      "180697544999\n",
      "183300214999\n",
      "199152774999\n",
      "207182684999\n",
      "209369807640 209367846579\n",
      "2339169999\n",
      "26017469999\n",
      "27784874999\n",
      "28881754999\n",
      "68175694999\n",
      "69194129999\n",
      "85226489999\n",
      "88111699999\n",
      "91249654999\n",
      "94489969999\n",
      "98605634999\n",
      "109248449999\n",
      "119529499999\n",
      "125771594999\n",
      "131166029999\n",
      "135073474999\n",
      "151189829999\n",
      "173231899999\n",
      "182324599999\n",
      "182715524999\n",
      "186505359999\n",
      "198782044999\n",
      "201299599999\n",
      "211888889999\n",
      "219501229999\n",
      "219874424999\n",
      "236713899999\n",
      "239791949999\n",
      "259524804999\n",
      "263288824999\n",
      "264389789999\n",
      "272322304999\n",
      "286359834999\n",
      "287389259999\n",
      "290421769999\n",
      "308459164999\n",
      "316943849999\n",
      "336747499999\n",
      "343209499999\n",
      "352245259999\n",
      "371784724999\n",
      "388215684999\n",
      "396600339999\n",
      "399686729999\n",
      "401903769999\n",
      "403834234999\n",
      "418999969999\n",
      "431023069999\n",
      "443246244999\n",
      "443540099999\n",
      "865616043077 446874466626\n"
     ]
    }
   ],
   "source": [
    "# Concat two tsv files, adjust lineidx correspondingly\n",
    "tsv_list = [\"/data/yingshac/MMMHQA/VinVL_output/neg_imgs_0_108000/inference/vinvl_vg_x152c4/predictions.tsv\",\n",
    "            \"/data/yingshac/MMMHQA/VinVL_output/neg_imgs_108000/inference/vinvl_vg_x152c4/predictions.tsv\"]\n",
    "lineidx_list = [\"/data/yingshac/MMMHQA/VinVL_output/neg_imgs_0_108000/inference/vinvl_vg_x152c4/predictions.lineidx\",\n",
    "            \"/data/yingshac/MMMHQA/VinVL_output/neg_imgs_108000/inference/vinvl_vg_x152c4/predictions.lineidx\"]\n",
    "output_path = \"/data/yingshac/MMMHQA/VinVL_output/neg_imgs_0_338842\"\n",
    "if not os.path.isdir(output_path): os.mkdir(output_path)\n",
    "\n",
    "offset = 0\n",
    "with open(os.path.join(output_path, \"predictions.tsv\"), \"w\") as output_tsv, open(os.path.join(output_path, \"predictions.lineidx\"), \"w\") as output_lineidx:\n",
    "    for T, L in zip(tsv_list, lineidx_list):\n",
    "        with open(L, \"r\") as fp:\n",
    "            lineidx = [int(i.strip()) for i in fp.readlines()]\n",
    "        print(\"len(lineidx) = \", len(lineidx))\n",
    "        with open(T, \"r\") as fp:\n",
    "            for i in range(len(lineidx)):\n",
    "                fp.seek(lineidx[i])\n",
    "                output_tsv.write(fp.readline())\n",
    "                output_lineidx.write('{0}'.format(i+offset) + '\\n')\n",
    "                if i%5000 == 4999: print(i)\n",
    "        offset += output_tsv.tell()\n",
    "        print(offset, i)\n",
    "        "
   ]
  },
  {
   "cell_type": "code",
   "execution_count": null,
   "metadata": {},
   "outputs": [],
   "source": []
  }
 ],
 "metadata": {
  "kernelspec": {
   "display_name": "py37",
   "language": "python",
   "name": "py37"
  },
  "language_info": {
   "codemirror_mode": {
    "name": "ipython",
    "version": 3
   },
   "file_extension": ".py",
   "mimetype": "text/x-python",
   "name": "python",
   "nbconvert_exporter": "python",
   "pygments_lexer": "ipython3",
   "version": "3.7.9"
  }
 },
 "nbformat": 4,
 "nbformat_minor": 4
}
