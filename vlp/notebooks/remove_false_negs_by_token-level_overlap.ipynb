{
 "cells": [
  {
   "cell_type": "markdown",
   "metadata": {},
   "source": [
    "#### Token-level overlap measurements (F1 / lcs) as sanity check to remove false negatives that nearly contain the same sentence as one of the positive facts"
   ]
  },
  {
   "cell_type": "code",
   "execution_count": 3,
   "metadata": {},
   "outputs": [],
   "source": [
    "import json, random\n",
    "import numpy as np\n",
    "from pprint import pprint\n",
    "from collections import Counter, defaultdict\n",
    "import re\n",
    "import seaborn as sns\n",
    "import matplotlib.pyplot as plt\n",
    "from nltk.corpus import stopwords\n",
    "import pickle\n",
    "import copy\n",
    "np.set_printoptions(precision=4)"
   ]
  },
  {
   "cell_type": "code",
   "execution_count": 1,
   "metadata": {},
   "outputs": [],
   "source": [
    "from transformers import BertTokenizer\n",
    "tokenizer = BertTokenizer.from_pretrained(\"bert-base-cased\", do_lower_case=True)"
   ]
  },
  {
   "cell_type": "code",
   "execution_count": 6,
   "metadata": {},
   "outputs": [
    {
     "name": "stdout",
     "output_type": "stream",
     "text": [
      "7921\n"
     ]
    }
   ],
   "source": [
    "txt_dataset = json.load(open(\"/home/yingshac/CYS/WebQnA/WebQnA_data_new/txt_dataset_J.json\", \"r\"))\n",
    "print(len(txt_dataset))"
   ]
  },
  {
   "cell_type": "code",
   "execution_count": 4,
   "metadata": {},
   "outputs": [],
   "source": [
    "# VQA Eval (SQuAD style EM, F1)\n",
    "pattern = re.compile(r'\\b(' + r'|'.join(stopwords.words('english')) + r')\\b\\s*') \n",
    "# Use regex to remove stopwords is way faster than looping by yourself\n",
    "\n",
    "def compute_vqa_metrics(cands, a):\n",
    "    if len(cands) == 0: return (0,0,0)\n",
    "    remove_stop_a = pattern.sub('', a)\n",
    "    bow_a = tokenizer.tokenize(remove_stop_a) #normalize_text(a).split()\n",
    "    F1 = []\n",
    "    EM = 0\n",
    "    RE = []\n",
    "    PR = []\n",
    "    for c in cands:\n",
    "        remove_stop_c = pattern.sub('', c)\n",
    "        bow_c = tokenizer.tokenize(remove_stop_c) #normalize_text(c).split()\n",
    "        if bow_c == bow_a:\n",
    "            EM = 1\n",
    "        common = Counter(bow_a) & Counter(bow_c)\n",
    "        num_same = sum(common.values())\n",
    "        if num_same == 0:\n",
    "            return (0,0,0,0,0)\n",
    "        precision = 1.0 * num_same / len(bow_c)\n",
    "        recall = 1.0 * num_same / len(bow_a)\n",
    "        RE.append(recall)\n",
    "        PR.append(precision)\n",
    "\n",
    "        f1 = 2*precision*recall / (precision + recall + 1e-5)\n",
    "        F1.append(f1)\n",
    "    \n",
    "    PR_avg = np.mean(PR)\n",
    "    RE_avg = np.mean(RE)\n",
    "    F1_avg = np.mean(F1)\n",
    "    F1_max = np.max(F1)\n",
    "    return (F1_avg, F1_max, EM, RE_avg, PR_avg)"
   ]
  },
  {
   "cell_type": "code",
   "execution_count": 7,
   "metadata": {},
   "outputs": [
    {
     "name": "stdout",
     "output_type": "stream",
     "text": [
      "0\n",
      "922\n",
      "1000\n",
      "1066\n",
      "1250\n",
      "1436\n",
      "2000\n",
      "2494\n",
      "3000\n",
      "4000\n",
      "4310\n",
      "4487\n",
      "5000\n",
      "5369\n",
      "5649\n",
      "6000\n",
      "6886\n",
      "6927\n",
      "7000\n"
     ]
    }
   ],
   "source": [
    "### find distractors super similar to gold (by F1s)\n",
    "flat_F1s = []\n",
    "F1s = []\n",
    "indx2posnegsim = defaultdict(lambda: [])\n",
    "for k in txt_dataset:\n",
    "    if int(k) % 1000 == 0: print(k)\n",
    "    #guid = str(txt_dataset[k]['Guid'])\n",
    "    for pos in txt_dataset[k]['SupportingFacts']:\n",
    "        for neg in txt_dataset[k]['DistractorFacts']:\n",
    "            F1, _, __, RE, PR = compute_vqa_metrics([neg['fact']], pos['fact'])\n",
    "            flat_F1s.append(F1)\n",
    "            indx2posnegsim[k].append(F1)\n",
    "    if k in indx2posnegsim: F1s.append(max(indx2posnegsim[k]))\n",
    "    else: print(k)\n",
    "    "
   ]
  },
  {
   "cell_type": "code",
   "execution_count": 8,
   "metadata": {},
   "outputs": [
    {
     "name": "stdout",
     "output_type": "stream",
     "text": [
      "count =  518\n"
     ]
    }
   ],
   "source": [
    "count = 0\n",
    "for k in indx2posnegsim:\n",
    "    if max(indx2posnegsim[k]) > 0.8:\n",
    "        \n",
    "        count += 1\n",
    "        if random.random() < 0.01:\n",
    "            print(indx2posnegsim[k])\n",
    "print(\"count = \", count)"
   ]
  },
  {
   "cell_type": "code",
   "execution_count": 9,
   "metadata": {},
   "outputs": [
    {
     "name": "stderr",
     "output_type": "stream",
     "text": [
      "/home/yingshac/miniconda3/envs/py37/lib/python3.7/site-packages/seaborn/distributions.py:2551: FutureWarning: `distplot` is a deprecated function and will be removed in a future version. Please adapt your code to use either `displot` (a figure-level function with similar flexibility) or `histplot` (an axes-level function for histograms).\n",
      "  warnings.warn(msg, FutureWarning)\n"
     ]
    },
    {
     "data": {
      "text/plain": [
       "<matplotlib.legend.Legend at 0x7f4efce785d0>"
      ]
     },
     "execution_count": 9,
     "metadata": {},
     "output_type": "execute_result"
    },
    {
     "data": {
      "image/png": "[encoded data removed]",
      "text/plain": [
       "<Figure size 720x216 with 2 Axes>"
      ]
     },
     "metadata": {},
     "output_type": "display_data"
    }
   ],
   "source": [
    "fig, axes = plt.subplots(1, 2, sharex=True, figsize=(10,3))\n",
    "sns.distplot(flat_F1s, ax=axes[0], kde=False, label=\"flat_F1s\")\n",
    "axes[0].legend()\n",
    "sns.distplot(F1s, ax=axes[1], kde=False, label=\"F1s\")\n",
    "axes[1].legend()"
   ]
  },
  {
   "cell_type": "code",
   "execution_count": 10,
   "metadata": {},
   "outputs": [
    {
     "name": "stdout",
     "output_type": "stream",
     "text": [
      "0\n",
      "922\n",
      "1066\n",
      "1250\n",
      "1436\n",
      "2000\n",
      "2494\n",
      "4000\n",
      "4310\n",
      "4487\n",
      "5369\n",
      "5649\n",
      "6000\n",
      "6886\n",
      "6927\n",
      "7910\n"
     ]
    },
    {
     "name": "stderr",
     "output_type": "stream",
     "text": [
      "/home/yingshac/miniconda3/envs/py37/lib/python3.7/site-packages/seaborn/distributions.py:2551: FutureWarning: `distplot` is a deprecated function and will be removed in a future version. Please adapt your code to use either `displot` (a figure-level function with similar flexibility) or `histplot` (an axes-level function for histograms).\n",
      "  warnings.warn(msg, FutureWarning)\n"
     ]
    },
    {
     "data": {
      "text/plain": [
       "<matplotlib.legend.Legend at 0x7f4efce3f650>"
      ]
     },
     "execution_count": 10,
     "metadata": {},
     "output_type": "execute_result"
    },
    {
     "data": {
      "image/png": "[encoded data removed]",
      "text/plain": [
       "<Figure size 720x216 with 2 Axes>"
      ]
     },
     "metadata": {},
     "output_type": "display_data"
    }
   ],
   "source": [
    "### find distractors super similar to gold (by lcs)\n",
    "import pylcs\n",
    "flat_lcs = []\n",
    "lcs = []\n",
    "indx2posneglcs = defaultdict(lambda: [])\n",
    "for k in txt_dataset:\n",
    "    if int(k) % 2000 == 0: print(k)\n",
    "    #guid = str(txt_dataset[k]['Guid'])\n",
    "    for pos in txt_dataset[k]['SupportingFacts']:\n",
    "        for neg in txt_dataset[k]['DistractorFacts']:\n",
    "            overlap_ratio = pylcs.lcs2(neg['fact'], pos['fact']) / len(pos['fact'])\n",
    "            flat_lcs.append(overlap_ratio)\n",
    "            indx2posneglcs[k].append(overlap_ratio)\n",
    "    if k in indx2posneglcs: lcs.append(max(indx2posneglcs[k]))\n",
    "    else: print(k)\n",
    "\n",
    "print(len(lcs))\n",
    "fig, axes = plt.subplots(1, 2, sharex=True, figsize=(10,3))\n",
    "sns.distplot(flat_lcs, ax=axes[0], kde=False, label=\"flat_lcs\")\n",
    "axes[0].legend()\n",
    "sns.distplot(lcs, ax=axes[1], kde=False, label=\"lcs\")\n",
    "axes[1].legend()"
   ]
  },
  {
   "cell_type": "code",
   "execution_count": 11,
   "metadata": {},
   "outputs": [
    {
     "name": "stderr",
     "output_type": "stream",
     "text": [
      "/home/yingshac/miniconda3/envs/py37/lib/python3.7/site-packages/seaborn/distributions.py:2551: FutureWarning: `distplot` is a deprecated function and will be removed in a future version. Please adapt your code to use either `displot` (a figure-level function with similar flexibility) or `histplot` (an axes-level function for histograms).\n",
      "  warnings.warn(msg, FutureWarning)\n"
     ]
    },
    {
     "data": {
      "text/plain": [
       "<matplotlib.legend.Legend at 0x7f4efc481610>"
      ]
     },
     "execution_count": 11,
     "metadata": {},
     "output_type": "execute_result"
    },
    {
     "data": {
      "image/png": "[encoded data removed]",
      "text/plain": [
       "<Figure size 720x216 with 2 Axes>"
      ]
     },
     "metadata": {},
     "output_type": "display_data"
    }
   ],
   "source": [
    "# Plot posnegsim & posneglcs together\n",
    "fig, axes = plt.subplots(1, 2, sharex=True, figsize=(10,3))\n",
    "sns.distplot(flat_F1s, ax=axes[0], kde=False, label=\"flat_F1s\")\n",
    "sns.distplot(flat_lcs, ax=axes[0], kde=False, label=\"flat_lcs\")\n",
    "axes[0].legend()\n",
    "sns.distplot(F1s, ax=axes[1], kde=False, label=\"F1s\")\n",
    "sns.distplot(lcs, ax=axes[1], kde=False, label=\"lcs\")\n",
    "axes[1].legend()"
   ]
  },
  {
   "cell_type": "code",
   "execution_count": 12,
   "metadata": {},
   "outputs": [
    {
     "name": "stdout",
     "output_type": "stream",
     "text": [
      "854 950\n",
      "[('1261', 4), ('1916', 3), ('3173', 3), ('4565', 3), ('5343', 3), ('7071', 3), ('105', 2), ('155', 2), ('283', 2), ('284', 2)]\n"
     ]
    },
    {
     "name": "stderr",
     "output_type": "stream",
     "text": [
      "/home/yingshac/miniconda3/envs/py37/lib/python3.7/site-packages/seaborn/distributions.py:2551: FutureWarning: `distplot` is a deprecated function and will be removed in a future version. Please adapt your code to use either `displot` (a figure-level function with similar flexibility) or `histplot` (an axes-level function for histograms).\n",
      "  warnings.warn(msg, FutureWarning)\n"
     ]
    },
    {
     "data": {
      "image/png": "[encoded data removed]",
      "text/plain": [
       "<Figure size 432x288 with 1 Axes>"
      ]
     },
     "metadata": {},
     "output_type": "display_data"
    }
   ],
   "source": [
    "# How many samples got false negatives, and how many mistakes they made.\n",
    "# Removal criterion: lcs / F1 > threshold\n",
    "remove = []\n",
    "for k in indx2posneglcs:\n",
    "    if len(indx2posneglcs[k]):\n",
    "        for x in indx2posneglcs[k]:\n",
    "            if x > 0.6:\n",
    "                remove.append(k)\n",
    "print(len(set(remove)), len(remove))\n",
    "print(Counter(remove).most_common(10))\n",
    "sns.distplot(list(Counter(remove).values()), kde=False, label=\"remove\")\n",
    "plt.legend()\n",
    "plt.yscale('log')"
   ]
  },
  {
   "cell_type": "code",
   "execution_count": 13,
   "metadata": {},
   "outputs": [
    {
     "name": "stdout",
     "output_type": "stream",
     "text": [
      "#samples where remaining #negatives < 3 =  52\n"
     ]
    },
    {
     "name": "stderr",
     "output_type": "stream",
     "text": [
      "/home/yingshac/miniconda3/envs/py37/lib/python3.7/site-packages/seaborn/distributions.py:2551: FutureWarning: `distplot` is a deprecated function and will be removed in a future version. Please adapt your code to use either `displot` (a figure-level function with similar flexibility) or `histplot` (an axes-level function for histograms).\n",
      "  warnings.warn(msg, FutureWarning)\n"
     ]
    },
    {
     "data": {
      "image/png": "[encoded data removed]",
      "text/plain": [
       "<Figure size 432x288 with 1 Axes>"
      ]
     },
     "metadata": {},
     "output_type": "display_data"
    }
   ],
   "source": [
    "c = Counter(remove)\n",
    "remaining_num = []\n",
    "for k in txt_dataset:\n",
    "    if k in c:\n",
    "        remaining_num.append(len(txt_dataset[k]['DistractorFacts']) - c[k])\n",
    "print(\"#samples where remaining #negatives < 3 = \", np.sum(np.array(remaining_num) < 3))\n",
    "sns.distplot(remaining_num, kde=False, label=\"remaining_num\")\n",
    "plt.legend()\n",
    "plt.yscale('log')"
   ]
  },
  {
   "cell_type": "code",
   "execution_count": 15,
   "metadata": {},
   "outputs": [
    {
     "name": "stdout",
     "output_type": "stream",
     "text": [
      " ------------------------------- \n",
      "740\n",
      "[0.22608227457710972, 0.2222174113695837, 0.08402899820561116, 0.43835132300336754, 0.150532662899766, 0.9247262111494025, 0.32966534484050003, 0.1526668051252811, 0.09090467221891572, 0.14814322759827742, 0.224714632079789, 0.4770592543232172, 0.1834812727545447, 0.2056025295975886]\n",
      " ------------------------------- \n",
      "2513\n",
      "[0.3516434875687915, 0.8760281347179206, 0.2075421699317724, 0.15384115585764085, 0.18749505438392428, 0.25713815212690694, 0.18486960253142404, 0.1610688637175539, 0.25372656168512153, 0.22726798563611783, 0.11289869555119118, 0.2857092921791121]\n",
      " ------------------------------- \n",
      "4061\n",
      "[0.883715997864198, 0.15872537177450202, 0.13513013897215906, 0.2758571489845651, 0.16841625276837502, 0.14814316736758273, 0.14814316736758273, 0.3218341604662826, 0.3716765291581502, 0.11110709891031713, 0.138609273752467, 0.19297755475668343, 0.16392944788029185, 0.16666187428046697, 0.12962483728280152, 0.29824071260748375]\n",
      "308\n"
     ]
    }
   ],
   "source": [
    "count = 0\n",
    "for k in indx2posneglcs:\n",
    "    if max(indx2posneglcs[k]) == 1.0:# and max(indx2posneglcs[k]) < 0.8:\n",
    "        \n",
    "        count += 1\n",
    "        if random.random() < 0.005:\n",
    "            print(\" ------------------------------- \")\n",
    "            print(k)\n",
    "            print(indx2posnegsim[k])\n",
    "print(count)"
   ]
  },
  {
   "cell_type": "code",
   "execution_count": null,
   "metadata": {},
   "outputs": [],
   "source": []
  }
 ],
 "metadata": {
  "kernelspec": {
   "display_name": "py37",
   "language": "python",
   "name": "py37"
  },
  "language_info": {
   "codemirror_mode": {
    "name": "ipython",
    "version": 3
   },
   "file_extension": ".py",
   "mimetype": "text/x-python",
   "name": "python",
   "nbconvert_exporter": "python",
   "pygments_lexer": "ipython3",
   "version": "3.7.9"
  }
 },
 "nbformat": 4,
 "nbformat_minor": 4
}
