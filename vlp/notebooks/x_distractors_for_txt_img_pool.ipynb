{
 "cells": [
  {
   "cell_type": "code",
   "execution_count": 1,
   "metadata": {},
   "outputs": [],
   "source": [
    "import json, os, sys, random, time, copy\n",
    "from collections import Counter, defaultdict\n",
    "import numpy as np\n",
    "from bs4 import BeautifulSoup\n",
    "import urllib.parse\n",
    "import urllib.request\n",
    "from pprint import pprint"
   ]
  },
  {
   "cell_type": "code",
   "execution_count": 2,
   "metadata": {},
   "outputs": [],
   "source": [
    "USER_AGENT_LIST = [\n",
    "            \"Mozilla/4.0 (compatible; MSIE 6.0; Windows NT 5.1; SV1; AcooBrowser; .NET CLR 1.1.4322; .NET CLR 2.0.50727)\",\n",
    "            \"Mozilla/4.0 (compatible; MSIE 7.0; Windows NT 6.0; Acoo Browser; SLCC1; .NET CLR 2.0.50727; Media Center PC 5.0; .NET CLR 3.0.04506)\",\n",
    "            \"Mozilla/4.0 (compatible; MSIE 7.0; AOL 9.5; AOLBuild 4337.35; Windows NT 5.1; .NET CLR 1.1.4322; .NET CLR 2.0.50727)\",\n",
    "            \"Mozilla/5.0 (Windows; U; MSIE 9.0; Windows NT 9.0; en-US)\",\n",
    "            \"Mozilla/5.0 (compatible; MSIE 9.0; Windows NT 6.1; Win64; x64; Trident/5.0; .NET CLR 3.5.30729; .NET CLR 3.0.30729; .NET CLR 2.0.50727; Media Center PC 6.0)\",\n",
    "            \"Mozilla/5.0 (compatible; MSIE 8.0; Windows NT 6.0; Trident/4.0; WOW64; Trident/4.0; SLCC2; .NET CLR 2.0.50727; .NET CLR 3.5.30729; .NET CLR 3.0.30729; .NET CLR 1.0.3705; .NET CLR 1.1.4322)\",\n",
    "            \"Mozilla/4.0 (compatible; MSIE 7.0b; Windows NT 5.2; .NET CLR 1.1.4322; .NET CLR 2.0.50727; InfoPath.2; .NET CLR 3.0.04506.30)\",\n",
    "            \"Mozilla/5.0 (Windows; U; Windows NT 5.1; zh-CN) AppleWebKit/523.15 (KHTML, like Gecko, Safari/419.3) Arora/0.3 (Change: 287 c9dfb30)\",\n",
    "            \"Mozilla/5.0 (X11; U; Linux; en-US) AppleWebKit/527+ (KHTML, like Gecko, Safari/419.3) Arora/0.6\",\n",
    "            \"Mozilla/5.0 (Windows; U; Windows NT 5.1; en-US; rv:1.8.1.2pre) Gecko/20070215 K-Ninja/2.1.1\",\n",
    "            \"Mozilla/5.0 (Windows; U; Windows NT 5.1; zh-CN; rv:1.9) Gecko/20080705 Firefox/3.0 Kapiko/3.0\",\n",
    "            \"Mozilla/5.0 (X11; Linux i686; U;) Gecko/20070322 Kazehakase/0.4.5\",\n",
    "            \"Mozilla/5.0 (X11; U; Linux i686; en-US; rv:1.9.0.8) Gecko Fedora/1.9.0.8-1.fc10 Kazehakase/0.5.6\",\n",
    "            \"Mozilla/5.0 (Windows NT 6.1; WOW64) AppleWebKit/535.11 (KHTML, like Gecko) Chrome/17.0.963.56 Safari/535.11\",\n",
    "            \"Mozilla/5.0 (Macintosh; Intel Mac OS X 10_7_3) AppleWebKit/535.20 (KHTML, like Gecko) Chrome/19.0.1036.7 Safari/535.20\",\n",
    "            \"Opera/9.80 (Macintosh; Intel Mac OS X 10.6.8; U; fr) Presto/2.9.168 Version/11.52\",\n",
    "            \"Mozilla/5.0 (Windows NT 6.1; WOW64) AppleWebKit/536.11 (KHTML, like Gecko) Chrome/20.0.1132.11 TaoBrowser/2.0 Safari/536.11\",\n",
    "            \"Mozilla/5.0 (Windows NT 6.1; WOW64) AppleWebKit/537.1 (KHTML, like Gecko) Chrome/21.0.1180.71 Safari/537.1 LBBROWSER\",\n",
    "            \"Mozilla/5.0 (compatible; MSIE 9.0; Windows NT 6.1; WOW64; Trident/5.0; SLCC2; .NET CLR 2.0.50727; .NET CLR 3.5.30729; .NET CLR 3.0.30729; Media Center PC 6.0; .NET4.0C; .NET4.0E; LBBROWSER)\",\n",
    "            \"Mozilla/4.0 (compatible; MSIE 6.0; Windows NT 5.1; SV1; QQDownload 732; .NET4.0C; .NET4.0E; LBBROWSER)\",\n",
    "            \"Mozilla/5.0 (Windows NT 6.1; WOW64) AppleWebKit/535.11 (KHTML, like Gecko) Chrome/17.0.963.84 Safari/535.11 LBBROWSER\",\n",
    "            \"Mozilla/4.0 (compatible; MSIE 7.0; Windows NT 6.1; WOW64; Trident/5.0; SLCC2; .NET CLR 2.0.50727; .NET CLR 3.5.30729; .NET CLR 3.0.30729; Media Center PC 6.0; .NET4.0C; .NET4.0E)\",\n",
    "            \"Mozilla/5.0 (compatible; MSIE 9.0; Windows NT 6.1; WOW64; Trident/5.0; SLCC2; .NET CLR 2.0.50727; .NET CLR 3.5.30729; .NET CLR 3.0.30729; Media Center PC 6.0; .NET4.0C; .NET4.0E; QQBrowser/7.0.3698.400)\",\n",
    "            \"Mozilla/4.0 (compatible; MSIE 6.0; Windows NT 5.1; SV1; QQDownload 732; .NET4.0C; .NET4.0E)\",\n",
    "            \"Mozilla/4.0 (compatible; MSIE 7.0; Windows NT 5.1; Trident/4.0; SV1; QQDownload 732; .NET4.0C; .NET4.0E; 360SE)\",\n",
    "            \"Mozilla/4.0 (compatible; MSIE 6.0; Windows NT 5.1; SV1; QQDownload 732; .NET4.0C; .NET4.0E)\",\n",
    "            \"Mozilla/4.0 (compatible; MSIE 7.0; Windows NT 6.1; WOW64; Trident/5.0; SLCC2; .NET CLR 2.0.50727; .NET CLR 3.5.30729; .NET CLR 3.0.30729; Media Center PC 6.0; .NET4.0C; .NET4.0E)\",\n",
    "            \"Mozilla/5.0 (Windows NT 5.1) AppleWebKit/537.1 (KHTML, like Gecko) Chrome/21.0.1180.89 Safari/537.1\",\n",
    "            \"Mozilla/5.0 (Windows NT 6.1; WOW64) AppleWebKit/537.1 (KHTML, like Gecko) Chrome/21.0.1180.89 Safari/537.1\",\n",
    "            \"Mozilla/5.0 (iPad; U; CPU OS 4_2_1 like Mac OS X; zh-cn) AppleWebKit/533.17.9 (KHTML, like Gecko) Version/5.0.2 Mobile/8C148 Safari/6533.18.5\",\n",
    "            \"Mozilla/5.0 (Windows NT 6.1; Win64; x64; rv:2.0b13pre) Gecko/20110307 Firefox/4.0b13pre\",\n",
    "            \"Mozilla/5.0 (X11; Ubuntu; Linux x86_64; rv:16.0) Gecko/20100101 Firefox/16.0\",\n",
    "            \"Mozilla/5.0 (Windows NT 6.1; WOW64) AppleWebKit/537.11 (KHTML, like Gecko) Chrome/23.0.1271.64 Safari/537.11\",\n",
    "            \"Mozilla/5.0 (X11; U; Linux x86_64; zh-CN; rv:1.9.2.10) Gecko/20100922 Ubuntu/10.10 (maverick) Firefox/3.6.10\",\n",
    "            \"Mozilla/5.0 (Windows NT 10.0; Win64; x64) AppleWebKit/537.36 (KHTML, like Gecko) Chrome/58.0.3029.110 Safari/537.36\",\n",
    "        ]\n"
   ]
  },
  {
   "cell_type": "code",
   "execution_count": 3,
   "metadata": {},
   "outputs": [],
   "source": [
    "def contentUrl_to_displayUrl(contentUrl):\n",
    "    if 'commons' in contentUrl:\n",
    "        prefix = 'https://commons.wikimedia.org/wiki/'\n",
    "    else:\n",
    "        prefix = 'https://en.wikipedia.org/wiki/'\n",
    "    tokens = contentUrl.split('/')\n",
    "    if 'px-' in tokens[-1]:\n",
    "        return prefix + 'File:'+tokens[-2]\n",
    "    else:\n",
    "        return prefix + 'File:'+tokens[-1]"
   ]
  },
  {
   "cell_type": "code",
   "execution_count": 4,
   "metadata": {},
   "outputs": [],
   "source": [
    "def displayUrl_to_imgUrl(html):\n",
    "\n",
    "    soup = BeautifulSoup(html, 'html.parser')\n",
    "    result = soup.find_all('a',class_= \"mw-thumbnail-link\", limit=10)\n",
    "    idx = 0\n",
    "    default = \"\"\n",
    "    for r in result:\n",
    "        soup_short = BeautifulSoup(str(r), 'html.parser')\n",
    "        for a in soup_short.find_all('a', href=True):\n",
    "            href = a['href']\n",
    "            if idx == 0: \n",
    "                default = a['href']\n",
    "                idx += 1\n",
    "            if '800px' in href:\n",
    "                return href, \"GOOD\"\n",
    "    if len(default)>0: return default, \"GOOD\"\n",
    "    else:\n",
    "        result = soup.find_all('div',class_= \"fullImageLink\", limit=1)\n",
    "        for r in result:\n",
    "            soup_short = BeautifulSoup(str(r), 'html.parser')\n",
    "            for im in soup_short.find_all('img'):\n",
    "                if max(int(im['width']), int(im['height']))>=600 and min(int(im['width']), int(im['height']))>=400:\n",
    "                    return im['src'], \"GOOD\"\n",
    "                return im['src'], \"SIZE\"\n",
    "    return \"\", \"FIELD_NONEXIST\""
   ]
  },
  {
   "cell_type": "code",
   "execution_count": 5,
   "metadata": {},
   "outputs": [],
   "source": [
    "def get_display_page_html(desurl):\n",
    "    start = time.time()\n",
    "    try:\n",
    "        req = urllib.request.Request(desurl, headers = {'User-Agent': random.choice(USER_AGENT_LIST)})\n",
    "        with urllib.request.urlopen(req) as f:\n",
    "            html = f.read().decode('utf-8')\n",
    "        #print(\"url request time: \", time.time() - start)\n",
    "        return html\n",
    "    except KeyboardInterrupt:\n",
    "        raise\n",
    "    except:\n",
    "        return \"\""
   ]
  },
  {
   "cell_type": "code",
   "execution_count": 8,
   "metadata": {},
   "outputs": [],
   "source": [
    "def normalize_imgUrl(url):\n",
    "    if not 'commons' in url: return \"https:\"+url\n",
    "    displayUrl = contentUrl_to_displayUrl(url)\n",
    "    html = get_display_page_html(displayUrl)\n",
    "    imgUrl, status = displayUrl_to_imgUrl(html)\n",
    "    return imgUrl"
   ]
  },
  {
   "cell_type": "code",
   "execution_count": 17,
   "metadata": {},
   "outputs": [
    {
     "name": "stdout",
     "output_type": "stream",
     "text": [
      "21\n",
      "22\n",
      "23\n",
      "24\n",
      "25\n",
      "26\n",
      "27\n",
      "28\n",
      "29\n",
      "30\n",
      "31\n",
      "32\n",
      "33\n",
      "34\n",
      "35\n",
      "36\n",
      "37\n",
      "38\n",
      "39\n",
      "40\n",
      "41\n",
      "42\n",
      "43\n",
      "44\n",
      "45\n",
      "46\n",
      "47\n",
      "48\n",
      "49\n"
     ]
    }
   ],
   "source": [
    "data = json.load(open(\"/home/yingshac/CYS/WebQnA/WebQnA_data_new/upd_txt_data/upd_txt_data_{}.json\".format(1000), \"r\"))\n",
    "try: data_upd_imgUrl = json.load(open(\"/home/yingshac/CYS/WebQnA/WebQnA_data_new/upd_txt_data_upd_imgUrl/upd_txt_data_{}.json\".format(1000), \"r\"))\n",
    "except: data_upd_imgUrl = {}\n",
    "for k in range(50):\n",
    "    if str(k) in data_upd_imgUrl: continue\n",
    "    data_upd_imgUrl[str(k)] = copy.deepcopy(data[str(k)])\n",
    "    data_upd_imgUrl[str(k)]['img_negFacts'] = []\n",
    "    for f in data[str(k)]['img_negFacts']:\n",
    "        if \"maps.wikimedia.org\" in f['imgUrl']: continue\n",
    "        f_upd = copy.deepcopy(f)\n",
    "        f_upd['imgUrl'] = normalize_imgUrl(f['imgUrl'])\n",
    "        data_upd_imgUrl[str(k)]['img_negFacts'].append(f_upd)\n",
    "    if k % 10 == 0:\n",
    "        json.dump(data_upd_imgUrl, open(\"/home/yingshac/CYS/WebQnA/WebQnA_data_new/upd_txt_data_upd_imgUrl/upd_txt_data_{}.json\".format(1000), \"w\"), indent=4)\n",
    "json.dump(data_upd_imgUrl, open(\"/home/yingshac/CYS/WebQnA/WebQnA_data_new/upd_txt_data_upd_imgUrl/upd_txt_data_{}.json\".format(1000), \"w\"), indent=4)"
   ]
  },
  {
   "cell_type": "code",
   "execution_count": 28,
   "metadata": {},
   "outputs": [
    {
     "name": "stdout",
     "output_type": "stream",
     "text": [
      "7921 samples finished\n",
      "[(0, 51), (1, 24), (2, 35), (3, 27), (4, 28), (5, 38), (6, 66), (7, 46), (8, 56), (9, 49), (10, 72), (11, 62), (12, 50), (13, 49), (14, 57), (15, 71), (16, 52), (17, 56), (18, 58), (19, 54), (20, 59), (21, 47), (22, 65), (23, 46), (24, 61), (25, 46), (26, 58), (27, 50), (28, 52), (29, 40), (30, 50), (31, 52), (32, 59), (33, 40), (34, 54), (35, 61), (36, 47), (37, 59), (38, 44), (39, 59), (40, 5871)]\n",
      "[(0, 36), (1, 85), (2, 85), (3, 99), (4, 119), (5, 431), (6, 415), (7, 380), (8, 350), (9, 319), (10, 307), (11, 283), (12, 239), (13, 255), (14, 221), (15, 213), (16, 225), (17, 160), (18, 178), (19, 177), (20, 142), (21, 135), (22, 136), (23, 125), (24, 123), (25, 103), (26, 103), (27, 92), (28, 84), (29, 83), (30, 80), (31, 74), (32, 61), (33, 63), (34, 74), (35, 82), (36, 76), (37, 82), (38, 102), (39, 224), (40, 1300)]\n",
      "524\n"
     ]
    }
   ],
   "source": [
    "path = \"/home/yingshac/CYS/WebQnA/WebQnA_data_new/upd_txt_data_upd_imgUrl/\"\n",
    "\n",
    "snippets_count = []\n",
    "img_count = []\n",
    "\n",
    "no_snippet_k = []\n",
    "no_img_k = []\n",
    "\n",
    "files = os.listdir(path)\n",
    "data = {}\n",
    "for f in files:\n",
    "    if not '.json' in f: continue\n",
    "    x = json.load(open(os.path.join(path, f), \"r\"))\n",
    "    for k in x:\n",
    "        num_snippets = len(x[k]['new_negFacts'])\n",
    "        num_imgs = len(x[k]['img_negFacts'])\n",
    "        if num_snippets == 0:\n",
    "            no_snippet_k.append(k)\n",
    "        if num_imgs == 0:\n",
    "            no_img_k.append(k)\n",
    "        snippets_count.append(num_snippets)\n",
    "        img_count.append(num_imgs)\n",
    "    data.update(x)\n",
    "print(\"{} samples finished\".format(len(data)))\n",
    "print(sorted(Counter(snippets_count).items()))\n",
    "print(sorted(Counter(img_count).items()))\n",
    "print(len([k for k in data if len(data[k]['new_negFacts'])< 5 or len(data[k]['img_negFacts']) < 5]))"
   ]
  },
  {
   "cell_type": "code",
   "execution_count": null,
   "metadata": {},
   "outputs": [],
   "source": []
  },
  {
   "cell_type": "code",
   "execution_count": 11,
   "metadata": {},
   "outputs": [],
   "source": [
    "img_meta = json.load(open(\"/home/yingshac/CYS/WebQnA/WebQnA_data/img_metadata-Copy1.json\", \"r\"))"
   ]
  },
  {
   "cell_type": "code",
   "execution_count": 21,
   "metadata": {},
   "outputs": [
    {
     "name": "stdout",
     "output_type": "stream",
     "text": [
      "{'description': ' Canyon Road in Santa Fe - New Mexico - USA',\n",
      " 'name': 'Canyon_Road_in_Santa_Fe,_New_Mexico,_USA',\n",
      " 'page': 'https://commons.wikimedia.org/wiki/File:Canyon_Road_in_Santa_Fe%2C_New_Mexico%2C_USA.jpg',\n",
      " 'src': 'https://upload.wikimedia.org/wikipedia/commons/thumb/3/38/Canyon_Road_in_Santa_Fe%2C_New_Mexico%2C_USA.jpg/800px-Canyon_Road_in_Santa_Fe%2C_New_Mexico%2C_USA.jpg'}\n",
      "{'description': '',\n",
      " 'name': 'Peoples_Drug_Store,_interior,_11th_&_G,_(Washington,_D.C.)_LCCN2016823726.tif',\n",
      " 'page': 'https://commons.wikimedia.org/wiki/File:Peoples_Drug_Store%2C_interior%2C_11th_%26_G%2C_%28Washington%2C_D.C.%29_LCCN2016823726.tif',\n",
      " 'src': 'https://upload.wikimedia.org/wikipedia/commons/thumb/8/8a/Peoples_Drug_Store%2C_interior%2C_11th_%26_G%2C_%28Washington%2C_D.C.%29_LCCN2016823726.tif/lossy-page1-1200px-Peoples_Drug_Store%2C_interior%2C_11th_%26_G%2C_%28Washington%2C_D.C.%29_LCCN2016823726.tif.jpg'}\n",
      "{'description': '',\n",
      " 'name': \"The_Missouri_float_in_President_Truman's_inaugural_parade_-_NARA_-_200049.tif\",\n",
      " 'page': \"https://commons.wikimedia.org/wiki/File:The_Missouri_float_in_President_Truman's_inaugural_parade_-_NARA_-_200049.tif\",\n",
      " 'src': \"https://upload.wikimedia.org/wikipedia/commons/4/46/The_Missouri_float_in_President_Truman's_inaugural_parade_-_NARA_-_200049.tif\"}\n",
      "{'description': ' ',\n",
      " 'name': 'Ornithogalum_umbellatum-Tci',\n",
      " 'page': 'https://commons.wikimedia.org/wiki/File:Ornithogalum_umbellatum-Tci.jpg',\n",
      " 'src': 'https://upload.wikimedia.org/wikipedia/commons/thumb/0/00/Ornithogalum_umbellatum-Tci.jpg/691px-Ornithogalum_umbellatum-Tci.jpg'}\n",
      "{'description': ' Sunrise in Gdansk-Brzezno (Poland).',\n",
      " 'name': 'Brosen_sunrise',\n",
      " 'page': 'https://commons.wikimedia.org/wiki/File:Brosen_sunrise.jpg',\n",
      " 'src': 'https://upload.wikimedia.org/wikipedia/commons/thumb/b/b1/Brosen_sunrise.jpg/800px-Brosen_sunrise.jpg'}\n",
      "{'description': '',\n",
      " 'name': 'Brisbane_River_seen_from_Sherwood_Arboretum_in_Sherwood,_Brisbane,_Queensland,_Australia_08',\n",
      " 'page': 'https://commons.wikimedia.org/wiki/File:Brisbane_River_seen_from_Sherwood_Arboretum_in_Sherwood%2C_Brisbane%2C_Queensland%2C_Australia_08.jpg',\n",
      " 'src': 'https://upload.wikimedia.org/wikipedia/commons/thumb/4/43/Brisbane_River_seen_from_Sherwood_Arboretum_in_Sherwood%2C_Brisbane%2C_Queensland%2C_Australia_08.jpg/640px-Brisbane_River_seen_from_Sherwood_Arboretum_in_Sherwood%2C_Brisbane%2C_Queensland%2C_Australia_08.jpg'}\n",
      "{'description': '',\n",
      " 'name': 'Loggers_with_felling_axes_and_crosscut_saw_sitting_in_undercut_of_large_redcedar,_Sultan,_Washington,_nd_(INDOCC_476)',\n",
      " 'page': 'https://commons.wikimedia.org/wiki/File:Loggers_with_felling_axes_and_crosscut_saw_sitting_in_undercut_of_large_redcedar%2C_Sultan%2C_Washington%2C_nd_(INDOCC_476).jpg',\n",
      " 'src': 'https://upload.wikimedia.org/wikipedia/commons/4/43/Loggers_with_felling_axes_and_crosscut_saw_sitting_in_undercut_of_large_redcedar%2C_Sultan%2C_Washington%2C_nd_(INDOCC_476).jpg'}\n",
      "{'description': '',\n",
      " 'name': 'Schaerbeek_Rue-Léon-Mignon_01',\n",
      " 'page': 'https://commons.wikimedia.org/wiki/File:Schaerbeek_Rue-L%C3%A9on-Mignon_01.jpg',\n",
      " 'src': 'http://upload.wikimedia.org/wikipedia/commons/3/31/Schaerbeek_Rue-L%C3%A9on-Mignon_01.jpg'}\n",
      "{'description': '',\n",
      " 'name': 'Denver_art_museum_night_archipreneur_adam_crain',\n",
      " 'page': 'https://commons.wikimedia.org/wiki/File:Denver_art_museum_night_archipreneur_adam_crain.jpg',\n",
      " 'src': 'https://upload.wikimedia.org/wikipedia/commons/8/88/Denver_art_museum_night_archipreneur_adam_crain.jpg'}\n",
      "{'description': '',\n",
      " 'name': 'Fotothek_df_n-05_0000054',\n",
      " 'page': 'https://commons.wikimedia.org/wiki/File:Fotothek_df_n-05_0000054.jpg',\n",
      " 'src': 'https://upload.wikimedia.org/wikipedia/commons/b/bc/Fotothek_df_n-05_0000054.jpg'}\n",
      "{'description': ' ',\n",
      " 'name': 'Banksia_aemula_bud1_original',\n",
      " 'page': 'https://commons.wikimedia.org/wiki/File:Banksia_aemula_bud1_original.jpg',\n",
      " 'src': 'https://upload.wikimedia.org/wikipedia/commons/thumb/8/8a/Banksia_aemula_bud1_original.jpg/450px-Banksia_aemula_bud1_original.jpg'}\n",
      "{'description': '',\n",
      " 'name': 'Remojadas_-_Xipe_Totec_Impersonator_-_Walters_20092011_-_Three_Quarter_Left',\n",
      " 'page': 'https://commons.wikimedia.org/wiki/File:Remojadas_-_Xipe_Totec_Impersonator_-_Walters_20092011_-_Three_Quarter_Left.jpg',\n",
      " 'src': 'https://upload.wikimedia.org/wikipedia/commons/thumb/8/8c/Remojadas_-_Xipe_Totec_Impersonator_-_Walters_20092011_-_Three_Quarter_Left.jpg/555px-Remojadas_-_Xipe_Totec_Impersonator_-_Walters_20092011_-_Three_Quarter_Left.jpg'}\n",
      "{'description': '',\n",
      " 'name': 'Alexander_romance._Armenian_illuminated_manuscript_of_XIV_century_(Venice,_San_Lazzaro,_424)_(2)',\n",
      " 'page': 'https://commons.wikimedia.org/wiki/File:Alexander_romance._Armenian_illuminated_manuscript_of_XIV_century_(Venice%2C_San_Lazzaro%2C_424)_(2).jpg',\n",
      " 'src': 'https://upload.wikimedia.org/wikipedia/commons/thumb/c/c0/Alexander_romance._Armenian_illuminated_manuscript_of_XIV_century_(Venice%2C_San_Lazzaro%2C_424)_(2).jpg/394px-Alexander_romance._Armenian_illuminated_manuscript_of_XIV_century_(Venice%2C_San_Lazzaro%2C_424)_(2).jpg'}\n",
      "{'description': '',\n",
      " 'name': 'Curtiss_P-40N_Kittyhawk_(3892764767)',\n",
      " 'page': 'https://commons.wikimedia.org/wiki/File:Curtiss_P-40N_Kittyhawk_(3892764767).jpg',\n",
      " 'src': 'https://upload.wikimedia.org/wikipedia/commons/thumb/d/d0/Curtiss_P-40N_Kittyhawk_(3892764767).jpg/1024px-Curtiss_P-40N_Kittyhawk_(3892764767).jpg'}\n",
      "{'description': '',\n",
      " 'name': 'Elena_Zaniboni',\n",
      " 'page': 'https://commons.wikimedia.org/wiki/File:Elena_Zaniboni.jpg',\n",
      " 'src': 'https://upload.wikimedia.org/wikipedia/commons/b/ba/Elena_Zaniboni.jpg'}\n"
     ]
    }
   ],
   "source": [
    "for k in random.sample(list(img_meta.keys()), 20):\n",
    "    if '.jpg' not in img_meta[k]['name'].lower():\n",
    "        pprint(img_meta[k])"
   ]
  },
  {
   "cell_type": "code",
   "execution_count": 24,
   "metadata": {},
   "outputs": [
    {
     "name": "stdout",
     "output_type": "stream",
     "text": [
      "22264\n",
      "0\n"
     ]
    }
   ],
   "source": [
    "print(max([int(k) for k in img_meta if int(k) < 10000000]))\n",
    "print(min([int(k) for k in img_meta]))"
   ]
  },
  {
   "cell_type": "code",
   "execution_count": null,
   "metadata": {},
   "outputs": [],
   "source": []
  }
 ],
 "metadata": {
  "kernelspec": {
   "display_name": "py37",
   "language": "python",
   "name": "py37"
  },
  "language_info": {
   "codemirror_mode": {
    "name": "ipython",
    "version": 3
   },
   "file_extension": ".py",
   "mimetype": "text/x-python",
   "name": "python",
   "nbconvert_exporter": "python",
   "pygments_lexer": "ipython3",
   "version": "3.7.9"
  }
 },
 "nbformat": 4,
 "nbformat_minor": 4
}
