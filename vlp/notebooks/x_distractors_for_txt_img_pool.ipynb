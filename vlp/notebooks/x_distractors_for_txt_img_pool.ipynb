{
 "cells": [
  {
   "cell_type": "code",
   "execution_count": 5,
   "metadata": {},
   "outputs": [],
   "source": [
    "import json, os, sys, random, time, copy\n",
    "from collections import Counter, defaultdict\n",
    "import numpy as np\n",
    "from bs4 import BeautifulSoup\n",
    "import urllib.parse\n",
    "import urllib.request\n",
    "from pprint import pprint\n",
    "import pickle"
   ]
  },
  {
   "cell_type": "code",
   "execution_count": 2,
   "metadata": {},
   "outputs": [],
   "source": [
    "USER_AGENT_LIST = [\n",
    "            \"Mozilla/4.0 (compatible; MSIE 6.0; Windows NT 5.1; SV1; AcooBrowser; .NET CLR 1.1.4322; .NET CLR 2.0.50727)\",\n",
    "            \"Mozilla/4.0 (compatible; MSIE 7.0; Windows NT 6.0; Acoo Browser; SLCC1; .NET CLR 2.0.50727; Media Center PC 5.0; .NET CLR 3.0.04506)\",\n",
    "            \"Mozilla/4.0 (compatible; MSIE 7.0; AOL 9.5; AOLBuild 4337.35; Windows NT 5.1; .NET CLR 1.1.4322; .NET CLR 2.0.50727)\",\n",
    "            \"Mozilla/5.0 (Windows; U; MSIE 9.0; Windows NT 9.0; en-US)\",\n",
    "            \"Mozilla/5.0 (compatible; MSIE 9.0; Windows NT 6.1; Win64; x64; Trident/5.0; .NET CLR 3.5.30729; .NET CLR 3.0.30729; .NET CLR 2.0.50727; Media Center PC 6.0)\",\n",
    "            \"Mozilla/5.0 (compatible; MSIE 8.0; Windows NT 6.0; Trident/4.0; WOW64; Trident/4.0; SLCC2; .NET CLR 2.0.50727; .NET CLR 3.5.30729; .NET CLR 3.0.30729; .NET CLR 1.0.3705; .NET CLR 1.1.4322)\",\n",
    "            \"Mozilla/4.0 (compatible; MSIE 7.0b; Windows NT 5.2; .NET CLR 1.1.4322; .NET CLR 2.0.50727; InfoPath.2; .NET CLR 3.0.04506.30)\",\n",
    "            \"Mozilla/5.0 (Windows; U; Windows NT 5.1; zh-CN) AppleWebKit/523.15 (KHTML, like Gecko, Safari/419.3) Arora/0.3 (Change: 287 c9dfb30)\",\n",
    "            \"Mozilla/5.0 (X11; U; Linux; en-US) AppleWebKit/527+ (KHTML, like Gecko, Safari/419.3) Arora/0.6\",\n",
    "            \"Mozilla/5.0 (Windows; U; Windows NT 5.1; en-US; rv:1.8.1.2pre) Gecko/20070215 K-Ninja/2.1.1\",\n",
    "            \"Mozilla/5.0 (Windows; U; Windows NT 5.1; zh-CN; rv:1.9) Gecko/20080705 Firefox/3.0 Kapiko/3.0\",\n",
    "            \"Mozilla/5.0 (X11; Linux i686; U;) Gecko/20070322 Kazehakase/0.4.5\",\n",
    "            \"Mozilla/5.0 (X11; U; Linux i686; en-US; rv:1.9.0.8) Gecko Fedora/1.9.0.8-1.fc10 Kazehakase/0.5.6\",\n",
    "            \"Mozilla/5.0 (Windows NT 6.1; WOW64) AppleWebKit/535.11 (KHTML, like Gecko) Chrome/17.0.963.56 Safari/535.11\",\n",
    "            \"Mozilla/5.0 (Macintosh; Intel Mac OS X 10_7_3) AppleWebKit/535.20 (KHTML, like Gecko) Chrome/19.0.1036.7 Safari/535.20\",\n",
    "            \"Opera/9.80 (Macintosh; Intel Mac OS X 10.6.8; U; fr) Presto/2.9.168 Version/11.52\",\n",
    "            \"Mozilla/5.0 (Windows NT 6.1; WOW64) AppleWebKit/536.11 (KHTML, like Gecko) Chrome/20.0.1132.11 TaoBrowser/2.0 Safari/536.11\",\n",
    "            \"Mozilla/5.0 (Windows NT 6.1; WOW64) AppleWebKit/537.1 (KHTML, like Gecko) Chrome/21.0.1180.71 Safari/537.1 LBBROWSER\",\n",
    "            \"Mozilla/5.0 (compatible; MSIE 9.0; Windows NT 6.1; WOW64; Trident/5.0; SLCC2; .NET CLR 2.0.50727; .NET CLR 3.5.30729; .NET CLR 3.0.30729; Media Center PC 6.0; .NET4.0C; .NET4.0E; LBBROWSER)\",\n",
    "            \"Mozilla/4.0 (compatible; MSIE 6.0; Windows NT 5.1; SV1; QQDownload 732; .NET4.0C; .NET4.0E; LBBROWSER)\",\n",
    "            \"Mozilla/5.0 (Windows NT 6.1; WOW64) AppleWebKit/535.11 (KHTML, like Gecko) Chrome/17.0.963.84 Safari/535.11 LBBROWSER\",\n",
    "            \"Mozilla/4.0 (compatible; MSIE 7.0; Windows NT 6.1; WOW64; Trident/5.0; SLCC2; .NET CLR 2.0.50727; .NET CLR 3.5.30729; .NET CLR 3.0.30729; Media Center PC 6.0; .NET4.0C; .NET4.0E)\",\n",
    "            \"Mozilla/5.0 (compatible; MSIE 9.0; Windows NT 6.1; WOW64; Trident/5.0; SLCC2; .NET CLR 2.0.50727; .NET CLR 3.5.30729; .NET CLR 3.0.30729; Media Center PC 6.0; .NET4.0C; .NET4.0E; QQBrowser/7.0.3698.400)\",\n",
    "            \"Mozilla/4.0 (compatible; MSIE 6.0; Windows NT 5.1; SV1; QQDownload 732; .NET4.0C; .NET4.0E)\",\n",
    "            \"Mozilla/4.0 (compatible; MSIE 7.0; Windows NT 5.1; Trident/4.0; SV1; QQDownload 732; .NET4.0C; .NET4.0E; 360SE)\",\n",
    "            \"Mozilla/4.0 (compatible; MSIE 6.0; Windows NT 5.1; SV1; QQDownload 732; .NET4.0C; .NET4.0E)\",\n",
    "            \"Mozilla/4.0 (compatible; MSIE 7.0; Windows NT 6.1; WOW64; Trident/5.0; SLCC2; .NET CLR 2.0.50727; .NET CLR 3.5.30729; .NET CLR 3.0.30729; Media Center PC 6.0; .NET4.0C; .NET4.0E)\",\n",
    "            \"Mozilla/5.0 (Windows NT 5.1) AppleWebKit/537.1 (KHTML, like Gecko) Chrome/21.0.1180.89 Safari/537.1\",\n",
    "            \"Mozilla/5.0 (Windows NT 6.1; WOW64) AppleWebKit/537.1 (KHTML, like Gecko) Chrome/21.0.1180.89 Safari/537.1\",\n",
    "            \"Mozilla/5.0 (iPad; U; CPU OS 4_2_1 like Mac OS X; zh-cn) AppleWebKit/533.17.9 (KHTML, like Gecko) Version/5.0.2 Mobile/8C148 Safari/6533.18.5\",\n",
    "            \"Mozilla/5.0 (Windows NT 6.1; Win64; x64; rv:2.0b13pre) Gecko/20110307 Firefox/4.0b13pre\",\n",
    "            \"Mozilla/5.0 (X11; Ubuntu; Linux x86_64; rv:16.0) Gecko/20100101 Firefox/16.0\",\n",
    "            \"Mozilla/5.0 (Windows NT 6.1; WOW64) AppleWebKit/537.11 (KHTML, like Gecko) Chrome/23.0.1271.64 Safari/537.11\",\n",
    "            \"Mozilla/5.0 (X11; U; Linux x86_64; zh-CN; rv:1.9.2.10) Gecko/20100922 Ubuntu/10.10 (maverick) Firefox/3.6.10\",\n",
    "            \"Mozilla/5.0 (Windows NT 10.0; Win64; x64) AppleWebKit/537.36 (KHTML, like Gecko) Chrome/58.0.3029.110 Safari/537.36\",\n",
    "        ]\n"
   ]
  },
  {
   "cell_type": "code",
   "execution_count": 3,
   "metadata": {},
   "outputs": [],
   "source": [
    "def contentUrl_to_displayUrl(contentUrl):\n",
    "    if 'commons' in contentUrl:\n",
    "        prefix = 'https://commons.wikimedia.org/wiki/'\n",
    "    else:\n",
    "        prefix = 'https://en.wikipedia.org/wiki/'\n",
    "    tokens = contentUrl.split('/')\n",
    "    if 'px-' in tokens[-1]:\n",
    "        return prefix + 'File:'+tokens[-2]\n",
    "    else:\n",
    "        return prefix + 'File:'+tokens[-1]"
   ]
  },
  {
   "cell_type": "code",
   "execution_count": 4,
   "metadata": {},
   "outputs": [],
   "source": [
    "def displayUrl_to_imgUrl(html):\n",
    "\n",
    "    soup = BeautifulSoup(html, 'html.parser')\n",
    "    result = soup.find_all('a',class_= \"mw-thumbnail-link\", limit=10)\n",
    "    idx = 0\n",
    "    default = \"\"\n",
    "    for r in result:\n",
    "        soup_short = BeautifulSoup(str(r), 'html.parser')\n",
    "        for a in soup_short.find_all('a', href=True):\n",
    "            href = a['href']\n",
    "            if idx == 0: \n",
    "                default = a['href']\n",
    "                idx += 1\n",
    "            if '800px' in href:\n",
    "                return href, \"GOOD\"\n",
    "    if len(default)>0: return default, \"GOOD\"\n",
    "    else:\n",
    "        result = soup.find_all('div',class_= \"fullImageLink\", limit=1)\n",
    "        for r in result:\n",
    "            soup_short = BeautifulSoup(str(r), 'html.parser')\n",
    "            for im in soup_short.find_all('img'):\n",
    "                if max(int(im['width']), int(im['height']))>=600 and min(int(im['width']), int(im['height']))>=400:\n",
    "                    return im['src'], \"GOOD\"\n",
    "                return im['src'], \"SIZE\"\n",
    "    return \"\", \"FIELD_NONEXIST\""
   ]
  },
  {
   "cell_type": "code",
   "execution_count": 5,
   "metadata": {},
   "outputs": [],
   "source": [
    "def get_display_page_html(desurl):\n",
    "    start = time.time()\n",
    "    try:\n",
    "        req = urllib.request.Request(desurl, headers = {'User-Agent': random.choice(USER_AGENT_LIST)})\n",
    "        with urllib.request.urlopen(req) as f:\n",
    "            html = f.read().decode('utf-8')\n",
    "        #print(\"url request time: \", time.time() - start)\n",
    "        return html\n",
    "    except KeyboardInterrupt:\n",
    "        raise\n",
    "    except:\n",
    "        return \"\""
   ]
  },
  {
   "cell_type": "code",
   "execution_count": 8,
   "metadata": {},
   "outputs": [],
   "source": [
    "def normalize_imgUrl(url):\n",
    "    if not 'commons' in url: return \"https:\"+url\n",
    "    displayUrl = contentUrl_to_displayUrl(url)\n",
    "    html = get_display_page_html(displayUrl)\n",
    "    imgUrl, status = displayUrl_to_imgUrl(html)\n",
    "    return imgUrl"
   ]
  },
  {
   "cell_type": "code",
   "execution_count": 17,
   "metadata": {},
   "outputs": [
    {
     "name": "stdout",
     "output_type": "stream",
     "text": [
      "21\n",
      "22\n",
      "23\n",
      "24\n",
      "25\n",
      "26\n",
      "27\n",
      "28\n",
      "29\n",
      "30\n",
      "31\n",
      "32\n",
      "33\n",
      "34\n",
      "35\n",
      "36\n",
      "37\n",
      "38\n",
      "39\n",
      "40\n",
      "41\n",
      "42\n",
      "43\n",
      "44\n",
      "45\n",
      "46\n",
      "47\n",
      "48\n",
      "49\n"
     ]
    }
   ],
   "source": [
    "data = json.load(open(\"/home/yingshac/CYS/WebQnA/WebQnA_data_new/upd_txt_data/upd_txt_data_{}.json\".format(1000), \"r\"))\n",
    "try: data_upd_imgUrl = json.load(open(\"/home/yingshac/CYS/WebQnA/WebQnA_data_new/upd_txt_data_upd_imgUrl/upd_txt_data_{}.json\".format(1000), \"r\"))\n",
    "except: data_upd_imgUrl = {}\n",
    "for k in range(50):\n",
    "    if str(k) in data_upd_imgUrl: continue\n",
    "    data_upd_imgUrl[str(k)] = copy.deepcopy(data[str(k)])\n",
    "    data_upd_imgUrl[str(k)]['img_negFacts'] = []\n",
    "    for f in data[str(k)]['img_negFacts']:\n",
    "        if \"maps.wikimedia.org\" in f['imgUrl']: continue\n",
    "        f_upd = copy.deepcopy(f)\n",
    "        f_upd['imgUrl'] = normalize_imgUrl(f['imgUrl'])\n",
    "        data_upd_imgUrl[str(k)]['img_negFacts'].append(f_upd)\n",
    "    if k % 10 == 0:\n",
    "        json.dump(data_upd_imgUrl, open(\"/home/yingshac/CYS/WebQnA/WebQnA_data_new/upd_txt_data_upd_imgUrl/upd_txt_data_{}.json\".format(1000), \"w\"), indent=4)\n",
    "#json.dump(data_upd_imgUrl, open(\"/home/yingshac/CYS/WebQnA/WebQnA_data_new/upd_txt_data_upd_imgUrl/upd_txt_data_{}.json\".format(1000), \"w\"), indent=4)"
   ]
  },
  {
   "cell_type": "code",
   "execution_count": 25,
   "metadata": {},
   "outputs": [
    {
     "name": "stdout",
     "output_type": "stream",
     "text": [
      "17430 samples finished\n",
      "[(0, 813), (1, 579), (2, 504), (3, 456), (4, 394), (5, 362), (6, 366), (7, 370), (8, 319), (9, 368), (10, 303), (11, 277), (12, 287), (13, 262), (14, 255), (15, 236), (16, 229), (17, 218), (18, 253), (19, 228), (20, 213), (21, 208), (22, 177), (23, 190), (24, 191), (25, 171), (26, 162), (27, 155), (28, 139), (29, 139), (30, 159), (31, 159), (32, 147), (33, 159), (34, 150), (35, 128), (36, 142), (37, 134), (38, 124), (39, 106), (40, 7198)]\n",
      "[(0, 330), (1, 696), (2, 636), (3, 615), (4, 537), (5, 515), (6, 459), (7, 454), (8, 430), (9, 443), (10, 394), (11, 364), (12, 331), (13, 330), (14, 339), (15, 305), (16, 292), (17, 281), (18, 305), (19, 260), (20, 251), (21, 219), (22, 217), (23, 223), (24, 195), (25, 224), (26, 199), (27, 220), (28, 144), (29, 190), (30, 186), (31, 159), (32, 159), (33, 158), (34, 148), (35, 152), (36, 146), (37, 125), (38, 147), (39, 139), (40, 5513)]\n",
      "4213\n"
     ]
    }
   ],
   "source": [
    "path = \"/home/yingshac/CYS/WebQnA/WebQnA_data_new/upd_txt_data_16k/\"\n",
    "\n",
    "snippets_count = []\n",
    "img_count = []\n",
    "\n",
    "no_snippet_k = []\n",
    "no_img_k = []\n",
    "\n",
    "files = os.listdir(path)\n",
    "data = {}\n",
    "for f in files:\n",
    "    if not '.json' in f: continue\n",
    "    x = json.load(open(os.path.join(path, f), \"r\"))\n",
    "    for k in x:\n",
    "        num_snippets = len(x[k]['new_negFacts'])\n",
    "        num_imgs = len(x[k]['img_negFacts'])\n",
    "        if num_snippets == 0:\n",
    "            no_snippet_k.append(k)\n",
    "        if num_imgs == 0:\n",
    "            no_img_k.append(k)\n",
    "        snippets_count.append(num_snippets)\n",
    "        img_count.append(num_imgs)\n",
    "    data.update(x)\n",
    "print(\"{} samples finished\".format(len(data)))\n",
    "print(sorted(Counter(snippets_count).items()))\n",
    "print(sorted(Counter(img_count).items()))\n",
    "print(len([k for k in data if len(data[k]['new_negFacts'])< 5 or len(data[k]['img_negFacts']) < 5]))"
   ]
  },
  {
   "cell_type": "code",
   "execution_count": 26,
   "metadata": {},
   "outputs": [
    {
     "name": "stdout",
     "output_type": "stream",
     "text": [
      "17430\n"
     ]
    }
   ],
   "source": [
    "# 0725: imgUrl was updated so that we'll use the 800px version if it exists. And imgs from map.wikimedia.org were deleted\n",
    "# 0803: distractor mining done for 16k new txt data \n",
    "print(len(data))\n",
    "#json.dump(data, open(\"/home/yingshac/CYS/WebQnA/WebQnA_data_new/txt_dataset_0725.json\", \"w\"), indent=4)\n",
    "json.dump(data, open(\"/home/yingshac/CYS/WebQnA/WebQnA_data_new/txt_dataset_0803_16k.json\", \"w\"), indent=4)"
   ]
  },
  {
   "cell_type": "code",
   "execution_count": 27,
   "metadata": {},
   "outputs": [
    {
     "data": {
      "text/plain": [
       "Counter({'ind_test': 1805, 'ood_test': 1500, 'train': 12314, 'val': 1811})"
      ]
     },
     "execution_count": 27,
     "metadata": {},
     "output_type": "execute_result"
    }
   ],
   "source": [
    "Counter([data[k]['Split'] for k in data])"
   ]
  },
  {
   "cell_type": "code",
   "execution_count": 9,
   "metadata": {},
   "outputs": [
    {
     "name": "stdout",
     "output_type": "stream",
     "text": [
      "340194\n"
     ]
    }
   ],
   "source": [
    "src2idx = pickle.load(open(\"/home/yingshac/CYS/WebQnA/WebQnA_data/dis_src2idx-Copy1.pkl\", \"rb\"))\n",
    "print(len(src2idx))"
   ]
  },
  {
   "cell_type": "code",
   "execution_count": 10,
   "metadata": {},
   "outputs": [
    {
     "name": "stdout",
     "output_type": "stream",
     "text": [
      "<class 'int'>\n",
      "https://upload.wikimedia.org/wikipedia/commons/thumb/5/52/Central-Park-18.jpg/800px-Central-Park-18.jpg\n",
      "10000000\n"
     ]
    }
   ],
   "source": [
    "for s in src2idx:\n",
    "    print(type(src2idx[s]))\n",
    "    print(s)\n",
    "    print(src2idx[s])\n",
    "    break"
   ]
  },
  {
   "cell_type": "code",
   "execution_count": 28,
   "metadata": {},
   "outputs": [
    {
     "name": "stdout",
     "output_type": "stream",
     "text": [
      "17430\n"
     ]
    }
   ],
   "source": [
    "# Assign img ids for neg_img for txt data (starting from 20000000)\n",
    "#txt_dataset = json.load(open(\"/home/yingshac/CYS/WebQnA/WebQnA_data_new/txt_dataset_0725_random_split.json\", \"r\"))\n",
    "\n",
    "# Assign img ids for neg_img for 16k txt data (starting from 20098051)\n",
    "txt_dataset = json.load(open(\"/home/yingshac/CYS/WebQnA/WebQnA_data_new/txt_dataset_0803_16k.json\", \"r\"))\n",
    "print(len(txt_dataset))"
   ]
  },
  {
   "cell_type": "code",
   "execution_count": 30,
   "metadata": {},
   "outputs": [
    {
     "name": "stdout",
     "output_type": "stream",
     "text": [
      "20098050\n"
     ]
    }
   ],
   "source": [
    "x_dis_src2idx = pickle.load(open(\"/home/yingshac/CYS/WebQnA/WebQnA_data_new/x_dis_src2idx.pkl\", \"rb\"))\n",
    "print(max(x_dis_src2idx.values()))"
   ]
  },
  {
   "cell_type": "code",
   "execution_count": 31,
   "metadata": {},
   "outputs": [
    {
     "name": "stdout",
     "output_type": "stream",
     "text": [
      "20098050\n",
      "20240700\n",
      "240700\n"
     ]
    }
   ],
   "source": [
    "#x_dis_src2idx = {}\n",
    "#idx = 20000000\n",
    "x_dis_src2idx = pickle.load(open(\"/home/yingshac/CYS/WebQnA/WebQnA_data_new/x_dis_src2idx.pkl\", \"rb\"))\n",
    "print(max(x_dis_src2idx.values()))\n",
    "idx = max(x_dis_src2idx.values()) + 1\n",
    "for k in txt_dataset:\n",
    "    for im in txt_dataset[k]['img_negFacts']:\n",
    "        s = im['imgUrl']\n",
    "        if s in x_dis_src2idx: continue\n",
    "        x_dis_src2idx[s] = idx\n",
    "        idx += 1\n",
    "print(idx)\n",
    "print(len(x_dis_src2idx))"
   ]
  },
  {
   "cell_type": "code",
   "execution_count": 32,
   "metadata": {},
   "outputs": [
    {
     "name": "stdout",
     "output_type": "stream",
     "text": [
      "240700\n"
     ]
    }
   ],
   "source": [
    "x_dis_idx2src = {}\n",
    "for s in x_dis_src2idx:\n",
    "    idx = x_dis_src2idx[s]\n",
    "    x_dis_idx2src[idx] = s\n",
    "print(len(x_dis_idx2src))"
   ]
  },
  {
   "cell_type": "code",
   "execution_count": 33,
   "metadata": {},
   "outputs": [],
   "source": [
    "# Jul 27 src2idx fixed for negImgs in 7921 txt data\n",
    "# Aug 3 src2idx fixed for negImgs for 7921 + 16k data\n",
    "pickle.dump(x_dis_src2idx, open(\"/home/yingshac/CYS/WebQnA/WebQnA_data_new/x_dis_src2idx.pkl\", \"wb\"))"
   ]
  },
  {
   "cell_type": "code",
   "execution_count": 34,
   "metadata": {},
   "outputs": [],
   "source": [
    "# Jul 27 idx2src fixed for negImgs in 7921 txt data\n",
    "# Aug 3 idx2src fixed for negImgs for 7921 + 16k data\n",
    "pickle.dump(x_dis_idx2src, open(\"/home/yingshac/CYS/WebQnA/WebQnA_data_new/x_dis_idx2src.pkl\", \"wb\"))"
   ]
  },
  {
   "cell_type": "code",
   "execution_count": 63,
   "metadata": {},
   "outputs": [
    {
     "name": "stdout",
     "output_type": "stream",
     "text": [
      "235954\n"
     ]
    }
   ],
   "source": [
    "print(len(os.listdir(\"/data/yingshac/MMMHQA/x_distractors\")))"
   ]
  },
  {
   "cell_type": "code",
   "execution_count": 21,
   "metadata": {},
   "outputs": [
    {
     "data": {
      "text/plain": [
       "'https://upload.wikimedia.org/wikipedia/commons/f/fd/Adam_and_the_Angels_watched_by_Iblis.jpg'"
      ]
     },
     "execution_count": 21,
     "metadata": {},
     "output_type": "execute_result"
    }
   ],
   "source": [
    "x_dis_idx2src[20070025]"
   ]
  },
  {
   "cell_type": "code",
   "execution_count": null,
   "metadata": {},
   "outputs": [],
   "source": []
  }
 ],
 "metadata": {
  "kernelspec": {
   "display_name": "py37",
   "language": "python",
   "name": "py37"
  },
  "language_info": {
   "codemirror_mode": {
    "name": "ipython",
    "version": 3
   },
   "file_extension": ".py",
   "mimetype": "text/x-python",
   "name": "python",
   "nbconvert_exporter": "python",
   "pygments_lexer": "ipython3",
   "version": "3.7.9"
  }
 },
 "nbformat": 4,
 "nbformat_minor": 4
}
