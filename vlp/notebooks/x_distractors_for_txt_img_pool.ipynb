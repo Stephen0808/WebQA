{
 "cells": [
  {
   "cell_type": "code",
   "execution_count": 40,
   "metadata": {},
   "outputs": [],
   "source": [
    "import json, os, sys, random, time\n",
    "from collections import Counter, defaultdict\n",
    "import numpy as np\n",
    "from bs4 import BeautifulSoup\n",
    "import urllib.parse\n",
    "import urllib.request\n",
    "from pprint import pprint"
   ]
  },
  {
   "cell_type": "code",
   "execution_count": 8,
   "metadata": {},
   "outputs": [],
   "source": [
    "USER_AGENT_LIST = [\n",
    "            \"Mozilla/4.0 (compatible; MSIE 6.0; Windows NT 5.1; SV1; AcooBrowser; .NET CLR 1.1.4322; .NET CLR 2.0.50727)\",\n",
    "            \"Mozilla/4.0 (compatible; MSIE 7.0; Windows NT 6.0; Acoo Browser; SLCC1; .NET CLR 2.0.50727; Media Center PC 5.0; .NET CLR 3.0.04506)\",\n",
    "            \"Mozilla/4.0 (compatible; MSIE 7.0; AOL 9.5; AOLBuild 4337.35; Windows NT 5.1; .NET CLR 1.1.4322; .NET CLR 2.0.50727)\",\n",
    "            \"Mozilla/5.0 (Windows; U; MSIE 9.0; Windows NT 9.0; en-US)\",\n",
    "            \"Mozilla/5.0 (compatible; MSIE 9.0; Windows NT 6.1; Win64; x64; Trident/5.0; .NET CLR 3.5.30729; .NET CLR 3.0.30729; .NET CLR 2.0.50727; Media Center PC 6.0)\",\n",
    "            \"Mozilla/5.0 (compatible; MSIE 8.0; Windows NT 6.0; Trident/4.0; WOW64; Trident/4.0; SLCC2; .NET CLR 2.0.50727; .NET CLR 3.5.30729; .NET CLR 3.0.30729; .NET CLR 1.0.3705; .NET CLR 1.1.4322)\",\n",
    "            \"Mozilla/4.0 (compatible; MSIE 7.0b; Windows NT 5.2; .NET CLR 1.1.4322; .NET CLR 2.0.50727; InfoPath.2; .NET CLR 3.0.04506.30)\",\n",
    "            \"Mozilla/5.0 (Windows; U; Windows NT 5.1; zh-CN) AppleWebKit/523.15 (KHTML, like Gecko, Safari/419.3) Arora/0.3 (Change: 287 c9dfb30)\",\n",
    "            \"Mozilla/5.0 (X11; U; Linux; en-US) AppleWebKit/527+ (KHTML, like Gecko, Safari/419.3) Arora/0.6\",\n",
    "            \"Mozilla/5.0 (Windows; U; Windows NT 5.1; en-US; rv:1.8.1.2pre) Gecko/20070215 K-Ninja/2.1.1\",\n",
    "            \"Mozilla/5.0 (Windows; U; Windows NT 5.1; zh-CN; rv:1.9) Gecko/20080705 Firefox/3.0 Kapiko/3.0\",\n",
    "            \"Mozilla/5.0 (X11; Linux i686; U;) Gecko/20070322 Kazehakase/0.4.5\",\n",
    "            \"Mozilla/5.0 (X11; U; Linux i686; en-US; rv:1.9.0.8) Gecko Fedora/1.9.0.8-1.fc10 Kazehakase/0.5.6\",\n",
    "            \"Mozilla/5.0 (Windows NT 6.1; WOW64) AppleWebKit/535.11 (KHTML, like Gecko) Chrome/17.0.963.56 Safari/535.11\",\n",
    "            \"Mozilla/5.0 (Macintosh; Intel Mac OS X 10_7_3) AppleWebKit/535.20 (KHTML, like Gecko) Chrome/19.0.1036.7 Safari/535.20\",\n",
    "            \"Opera/9.80 (Macintosh; Intel Mac OS X 10.6.8; U; fr) Presto/2.9.168 Version/11.52\",\n",
    "            \"Mozilla/5.0 (Windows NT 6.1; WOW64) AppleWebKit/536.11 (KHTML, like Gecko) Chrome/20.0.1132.11 TaoBrowser/2.0 Safari/536.11\",\n",
    "            \"Mozilla/5.0 (Windows NT 6.1; WOW64) AppleWebKit/537.1 (KHTML, like Gecko) Chrome/21.0.1180.71 Safari/537.1 LBBROWSER\",\n",
    "            \"Mozilla/5.0 (compatible; MSIE 9.0; Windows NT 6.1; WOW64; Trident/5.0; SLCC2; .NET CLR 2.0.50727; .NET CLR 3.5.30729; .NET CLR 3.0.30729; Media Center PC 6.0; .NET4.0C; .NET4.0E; LBBROWSER)\",\n",
    "            \"Mozilla/4.0 (compatible; MSIE 6.0; Windows NT 5.1; SV1; QQDownload 732; .NET4.0C; .NET4.0E; LBBROWSER)\",\n",
    "            \"Mozilla/5.0 (Windows NT 6.1; WOW64) AppleWebKit/535.11 (KHTML, like Gecko) Chrome/17.0.963.84 Safari/535.11 LBBROWSER\",\n",
    "            \"Mozilla/4.0 (compatible; MSIE 7.0; Windows NT 6.1; WOW64; Trident/5.0; SLCC2; .NET CLR 2.0.50727; .NET CLR 3.5.30729; .NET CLR 3.0.30729; Media Center PC 6.0; .NET4.0C; .NET4.0E)\",\n",
    "            \"Mozilla/5.0 (compatible; MSIE 9.0; Windows NT 6.1; WOW64; Trident/5.0; SLCC2; .NET CLR 2.0.50727; .NET CLR 3.5.30729; .NET CLR 3.0.30729; Media Center PC 6.0; .NET4.0C; .NET4.0E; QQBrowser/7.0.3698.400)\",\n",
    "            \"Mozilla/4.0 (compatible; MSIE 6.0; Windows NT 5.1; SV1; QQDownload 732; .NET4.0C; .NET4.0E)\",\n",
    "            \"Mozilla/4.0 (compatible; MSIE 7.0; Windows NT 5.1; Trident/4.0; SV1; QQDownload 732; .NET4.0C; .NET4.0E; 360SE)\",\n",
    "            \"Mozilla/4.0 (compatible; MSIE 6.0; Windows NT 5.1; SV1; QQDownload 732; .NET4.0C; .NET4.0E)\",\n",
    "            \"Mozilla/4.0 (compatible; MSIE 7.0; Windows NT 6.1; WOW64; Trident/5.0; SLCC2; .NET CLR 2.0.50727; .NET CLR 3.5.30729; .NET CLR 3.0.30729; Media Center PC 6.0; .NET4.0C; .NET4.0E)\",\n",
    "            \"Mozilla/5.0 (Windows NT 5.1) AppleWebKit/537.1 (KHTML, like Gecko) Chrome/21.0.1180.89 Safari/537.1\",\n",
    "            \"Mozilla/5.0 (Windows NT 6.1; WOW64) AppleWebKit/537.1 (KHTML, like Gecko) Chrome/21.0.1180.89 Safari/537.1\",\n",
    "            \"Mozilla/5.0 (iPad; U; CPU OS 4_2_1 like Mac OS X; zh-cn) AppleWebKit/533.17.9 (KHTML, like Gecko) Version/5.0.2 Mobile/8C148 Safari/6533.18.5\",\n",
    "            \"Mozilla/5.0 (Windows NT 6.1; Win64; x64; rv:2.0b13pre) Gecko/20110307 Firefox/4.0b13pre\",\n",
    "            \"Mozilla/5.0 (X11; Ubuntu; Linux x86_64; rv:16.0) Gecko/20100101 Firefox/16.0\",\n",
    "            \"Mozilla/5.0 (Windows NT 6.1; WOW64) AppleWebKit/537.11 (KHTML, like Gecko) Chrome/23.0.1271.64 Safari/537.11\",\n",
    "            \"Mozilla/5.0 (X11; U; Linux x86_64; zh-CN; rv:1.9.2.10) Gecko/20100922 Ubuntu/10.10 (maverick) Firefox/3.6.10\",\n",
    "            \"Mozilla/5.0 (Windows NT 10.0; Win64; x64) AppleWebKit/537.36 (KHTML, like Gecko) Chrome/58.0.3029.110 Safari/537.36\",\n",
    "        ]\n"
   ]
  },
  {
   "cell_type": "code",
   "execution_count": 2,
   "metadata": {},
   "outputs": [],
   "source": [
    "def contentUrl_to_displayUrl(contentUrl):\n",
    "    prefix = 'https://commons.wikimedia.org/wiki/'\n",
    "    tokens = contentUrl.split('/')\n",
    "    if 'px-' in tokens[-1]:\n",
    "        return prefix + 'File:'+tokens[-2]\n",
    "    else:\n",
    "        return prefix + 'File:'+tokens[-1]"
   ]
  },
  {
   "cell_type": "code",
   "execution_count": 35,
   "metadata": {},
   "outputs": [],
   "source": [
    "def get_description_by_url(html):\n",
    "    soup = BeautifulSoup(html, 'html.parser')\n",
    "    result = soup.find_all('div',class_= \"description mw-content-ltr en\", limit=1)\n",
    "    des = \" \"\n",
    "    for r in result:\n",
    "        soup_short = BeautifulSoup(str(r), 'html.parser')\n",
    "        for row in soup_short.prettify().split('\\n'):\n",
    "            if not \"<\" in row:\n",
    "                des += row.strip()\n",
    "        des += '\\n'\n",
    "    return des\n",
    "\n",
    "def get_filename_by_url(desurl):\n",
    "    filename = urllib.parse.unquote(desurl).split(\"/\")[-1].replace(\"File:\", \"\").replace(\".jpg\", \"\")\n",
    "    return filename"
   ]
  },
  {
   "cell_type": "code",
   "execution_count": 51,
   "metadata": {},
   "outputs": [],
   "source": [
    "def displayUrl_to_imgUrl(html):\n",
    "\n",
    "    soup = BeautifulSoup(html, 'html.parser')\n",
    "    result = soup.find_all('a',class_= \"mw-thumbnail-link\", limit=10)\n",
    "    idx = 0\n",
    "    default = \"\"\n",
    "    for r in result:\n",
    "        soup_short = BeautifulSoup(str(r), 'html.parser')\n",
    "        for a in soup_short.find_all('a', href=True):\n",
    "            href = a['href']\n",
    "            if idx == 0: \n",
    "                default = a['href']\n",
    "                idx += 1\n",
    "            if '800px' in href:\n",
    "                return href, \"GOOD\"\n",
    "    if len(default)>0: return default, \"GOOD\"\n",
    "    else:\n",
    "        result = soup.find_all('div',class_= \"fullImageLink\", limit=1)\n",
    "        for r in result:\n",
    "            soup_short = BeautifulSoup(str(r), 'html.parser')\n",
    "            for im in soup_short.find_all('img'):\n",
    "                if max(int(im['width']), int(im['height']))>=600 and min(int(im['width']), int(im['height']))>=400:\n",
    "                    return im['src'], \"GOOD\"\n",
    "                return im['src'], \"SIZE\"\n",
    "    return \"\", \"FIELD_NONEXIST\""
   ]
  },
  {
   "cell_type": "code",
   "execution_count": 54,
   "metadata": {},
   "outputs": [],
   "source": [
    "def get_display_page_html(desurl):\n",
    "    start = time.time()\n",
    "    try:\n",
    "        req = urllib.request.Request(displayUrl, headers = {'User-Agent': random.choice(USER_AGENT_LIST)})\n",
    "        with urllib.request.urlopen(req) as f:\n",
    "            html = f.read().decode('utf-8')\n",
    "        #print(\"url request time: \", time.time() - start)\n",
    "        return html\n",
    "    except KeyboardInterrupt:\n",
    "        raise\n",
    "    except:\n",
    "        return \"\""
   ]
  },
  {
   "cell_type": "code",
   "execution_count": 18,
   "metadata": {},
   "outputs": [],
   "source": [
    "url = 'https:'+'//upload.wikimedia.org/wikipedia/commons/thumb/b/bf/Stadio_Olimpia_2007.JPG/220px-Stadio_Olimpia_2007.JPG'\n",
    "displayUrl = contentUrl_to_displayUrl(url)\n",
    "imgUrl = displayUrl_to_imgUrl(displayUrl)\n",
    "des = get_description_by_url(displayUrl)\n",
    "filename = get_filename_by_url(displayUrl)"
   ]
  },
  {
   "cell_type": "code",
   "execution_count": 19,
   "metadata": {},
   "outputs": [
    {
     "name": "stdout",
     "output_type": "stream",
     "text": [
      "https://commons.wikimedia.org/wiki/File:Stadio_Olimpia_2007.JPG\n",
      "https://upload.wikimedia.org/wikipedia/commons/thumb/b/bf/Stadio_Olimpia_2007.JPG/800px-Stadio_Olimpia_2007.JPG\n",
      " \n",
      "Stadio_Olimpia_2007.JPG\n"
     ]
    }
   ],
   "source": [
    "print(displayUrl)\n",
    "print(imgUrl)\n",
    "print(des)\n",
    "print(filename)"
   ]
  },
  {
   "cell_type": "code",
   "execution_count": 64,
   "metadata": {},
   "outputs": [
    {
     "name": "stdout",
     "output_type": "stream",
     "text": [
      "9 files found\n",
      "819\n",
      "273\n",
      "CANNOT_OPEN_PAGE https://commons.wikimedia.org/wiki/File:Heatherlyside.jpg\n",
      "//upload.wikimedia.org/wikipedia/en/9/9b/Heatherlyside.jpg\n",
      "CANNOT_OPEN_PAGE https://commons.wikimedia.org/wiki/File:osm-intl,13,a,a,300x200.png?lang=en&domain=en.wikipedia.org&title=Lower+East+Side&groups=_87397c02d4c74b6628ca59d6d8cffdc332ab9a8d\n",
      "https://maps.wikimedia.org/img/osm-intl,13,a,a,300x200.png?lang=en&domain=en.wikipedia.org&title=Lower+East+Side&groups=_87397c02d4c74b6628ca59d6d8cffdc332ab9a8d\n",
      "CANNOT_OPEN_PAGE https://commons.wikimedia.org/wiki/File:osm-intl,12,a,a,300x200.png?lang=en&domain=en.wikipedia.org&title=Upper+East+Side&groups=_e08ce71c637635eeafc5743d176d15a3366278cd\n",
      "https://maps.wikimedia.org/img/osm-intl,12,a,a,300x200.png?lang=en&domain=en.wikipedia.org&title=Upper+East+Side&groups=_e08ce71c637635eeafc5743d176d15a3366278cd\n",
      "433\n",
      "480\n",
      "15\n",
      "CANNOT_OPEN_PAGE https://commons.wikimedia.org/wiki/File:Irish_ancestry_in_the_USA_and_Canada.png\n",
      "//upload.wikimedia.org/wikipedia/en/thumb/5/5e/Irish_ancestry_in_the_USA_and_Canada.png/220px-Irish_ancestry_in_the_USA_and_Canada.png\n",
      "72 71\n",
      "defaultdict(<class 'int'>, {'GOOD': 60, 'SIZE': 12, 'CANNOT_OPEN_PAGE': 4})\n"
     ]
    }
   ],
   "source": [
    "path = \"/home/yingshac/CYS/WebQnA/WebQnA_data_new/upd_txt_data/\"\n",
    "\n",
    "data = {}\n",
    "files = os.listdir(path)\n",
    "print(\"{} files found\".format(len(files)))\n",
    "for f in files:\n",
    "    if not '.json' in f: continue\n",
    "    data.update(json.load(open(os.path.join(path, f), \"r\")))\n",
    "\n",
    "count = 0\n",
    "imgUrl_set = set()\n",
    "error = defaultdict(int)\n",
    "for k in random.sample(range(1000), 5):\n",
    "    print(k)\n",
    "    for f in data[str(k)]['img_negFacts']:\n",
    "        displayUrl = contentUrl_to_displayUrl(f['imgUrl'])\n",
    "        html = get_display_page_html(displayUrl)\n",
    "        if not html: \n",
    "            error[\"CANNOT_OPEN_PAGE\"] += 1\n",
    "            print(\"CANNOT_OPEN_PAGE\", displayUrl)\n",
    "            print(f['imgUrl'])\n",
    "            continue\n",
    "        imgUrl, status = displayUrl_to_imgUrl(html)\n",
    "        error[status] += 1\n",
    "        if status == \"FIELD_NONEXIST\": \n",
    "            print(status, displayUrl)\n",
    "            print(f['imgUrl'])\n",
    "        imgUrl_set.add(imgUrl)\n",
    "        des = get_description_by_url(html)\n",
    "        filename = get_filename_by_url(displayUrl)\n",
    "        count+=1\n",
    "print(count, len(imgUrl_set))\n",
    "print(error)"
   ]
  },
  {
   "cell_type": "code",
   "execution_count": 11,
   "metadata": {},
   "outputs": [],
   "source": [
    "img_meta = json.load(open(\"/home/yingshac/CYS/WebQnA/WebQnA_data/img_metadata-Copy1.json\", \"r\"))"
   ]
  },
  {
   "cell_type": "code",
   "execution_count": 21,
   "metadata": {},
   "outputs": [
    {
     "name": "stdout",
     "output_type": "stream",
     "text": [
      "{'description': ' Canyon Road in Santa Fe - New Mexico - USA',\n",
      " 'name': 'Canyon_Road_in_Santa_Fe,_New_Mexico,_USA',\n",
      " 'page': 'https://commons.wikimedia.org/wiki/File:Canyon_Road_in_Santa_Fe%2C_New_Mexico%2C_USA.jpg',\n",
      " 'src': 'https://upload.wikimedia.org/wikipedia/commons/thumb/3/38/Canyon_Road_in_Santa_Fe%2C_New_Mexico%2C_USA.jpg/800px-Canyon_Road_in_Santa_Fe%2C_New_Mexico%2C_USA.jpg'}\n",
      "{'description': '',\n",
      " 'name': 'Peoples_Drug_Store,_interior,_11th_&_G,_(Washington,_D.C.)_LCCN2016823726.tif',\n",
      " 'page': 'https://commons.wikimedia.org/wiki/File:Peoples_Drug_Store%2C_interior%2C_11th_%26_G%2C_%28Washington%2C_D.C.%29_LCCN2016823726.tif',\n",
      " 'src': 'https://upload.wikimedia.org/wikipedia/commons/thumb/8/8a/Peoples_Drug_Store%2C_interior%2C_11th_%26_G%2C_%28Washington%2C_D.C.%29_LCCN2016823726.tif/lossy-page1-1200px-Peoples_Drug_Store%2C_interior%2C_11th_%26_G%2C_%28Washington%2C_D.C.%29_LCCN2016823726.tif.jpg'}\n",
      "{'description': '',\n",
      " 'name': \"The_Missouri_float_in_President_Truman's_inaugural_parade_-_NARA_-_200049.tif\",\n",
      " 'page': \"https://commons.wikimedia.org/wiki/File:The_Missouri_float_in_President_Truman's_inaugural_parade_-_NARA_-_200049.tif\",\n",
      " 'src': \"https://upload.wikimedia.org/wikipedia/commons/4/46/The_Missouri_float_in_President_Truman's_inaugural_parade_-_NARA_-_200049.tif\"}\n",
      "{'description': ' ',\n",
      " 'name': 'Ornithogalum_umbellatum-Tci',\n",
      " 'page': 'https://commons.wikimedia.org/wiki/File:Ornithogalum_umbellatum-Tci.jpg',\n",
      " 'src': 'https://upload.wikimedia.org/wikipedia/commons/thumb/0/00/Ornithogalum_umbellatum-Tci.jpg/691px-Ornithogalum_umbellatum-Tci.jpg'}\n",
      "{'description': ' Sunrise in Gdansk-Brzezno (Poland).',\n",
      " 'name': 'Brosen_sunrise',\n",
      " 'page': 'https://commons.wikimedia.org/wiki/File:Brosen_sunrise.jpg',\n",
      " 'src': 'https://upload.wikimedia.org/wikipedia/commons/thumb/b/b1/Brosen_sunrise.jpg/800px-Brosen_sunrise.jpg'}\n",
      "{'description': '',\n",
      " 'name': 'Brisbane_River_seen_from_Sherwood_Arboretum_in_Sherwood,_Brisbane,_Queensland,_Australia_08',\n",
      " 'page': 'https://commons.wikimedia.org/wiki/File:Brisbane_River_seen_from_Sherwood_Arboretum_in_Sherwood%2C_Brisbane%2C_Queensland%2C_Australia_08.jpg',\n",
      " 'src': 'https://upload.wikimedia.org/wikipedia/commons/thumb/4/43/Brisbane_River_seen_from_Sherwood_Arboretum_in_Sherwood%2C_Brisbane%2C_Queensland%2C_Australia_08.jpg/640px-Brisbane_River_seen_from_Sherwood_Arboretum_in_Sherwood%2C_Brisbane%2C_Queensland%2C_Australia_08.jpg'}\n",
      "{'description': '',\n",
      " 'name': 'Loggers_with_felling_axes_and_crosscut_saw_sitting_in_undercut_of_large_redcedar,_Sultan,_Washington,_nd_(INDOCC_476)',\n",
      " 'page': 'https://commons.wikimedia.org/wiki/File:Loggers_with_felling_axes_and_crosscut_saw_sitting_in_undercut_of_large_redcedar%2C_Sultan%2C_Washington%2C_nd_(INDOCC_476).jpg',\n",
      " 'src': 'https://upload.wikimedia.org/wikipedia/commons/4/43/Loggers_with_felling_axes_and_crosscut_saw_sitting_in_undercut_of_large_redcedar%2C_Sultan%2C_Washington%2C_nd_(INDOCC_476).jpg'}\n",
      "{'description': '',\n",
      " 'name': 'Schaerbeek_Rue-Léon-Mignon_01',\n",
      " 'page': 'https://commons.wikimedia.org/wiki/File:Schaerbeek_Rue-L%C3%A9on-Mignon_01.jpg',\n",
      " 'src': 'http://upload.wikimedia.org/wikipedia/commons/3/31/Schaerbeek_Rue-L%C3%A9on-Mignon_01.jpg'}\n",
      "{'description': '',\n",
      " 'name': 'Denver_art_museum_night_archipreneur_adam_crain',\n",
      " 'page': 'https://commons.wikimedia.org/wiki/File:Denver_art_museum_night_archipreneur_adam_crain.jpg',\n",
      " 'src': 'https://upload.wikimedia.org/wikipedia/commons/8/88/Denver_art_museum_night_archipreneur_adam_crain.jpg'}\n",
      "{'description': '',\n",
      " 'name': 'Fotothek_df_n-05_0000054',\n",
      " 'page': 'https://commons.wikimedia.org/wiki/File:Fotothek_df_n-05_0000054.jpg',\n",
      " 'src': 'https://upload.wikimedia.org/wikipedia/commons/b/bc/Fotothek_df_n-05_0000054.jpg'}\n",
      "{'description': ' ',\n",
      " 'name': 'Banksia_aemula_bud1_original',\n",
      " 'page': 'https://commons.wikimedia.org/wiki/File:Banksia_aemula_bud1_original.jpg',\n",
      " 'src': 'https://upload.wikimedia.org/wikipedia/commons/thumb/8/8a/Banksia_aemula_bud1_original.jpg/450px-Banksia_aemula_bud1_original.jpg'}\n",
      "{'description': '',\n",
      " 'name': 'Remojadas_-_Xipe_Totec_Impersonator_-_Walters_20092011_-_Three_Quarter_Left',\n",
      " 'page': 'https://commons.wikimedia.org/wiki/File:Remojadas_-_Xipe_Totec_Impersonator_-_Walters_20092011_-_Three_Quarter_Left.jpg',\n",
      " 'src': 'https://upload.wikimedia.org/wikipedia/commons/thumb/8/8c/Remojadas_-_Xipe_Totec_Impersonator_-_Walters_20092011_-_Three_Quarter_Left.jpg/555px-Remojadas_-_Xipe_Totec_Impersonator_-_Walters_20092011_-_Three_Quarter_Left.jpg'}\n",
      "{'description': '',\n",
      " 'name': 'Alexander_romance._Armenian_illuminated_manuscript_of_XIV_century_(Venice,_San_Lazzaro,_424)_(2)',\n",
      " 'page': 'https://commons.wikimedia.org/wiki/File:Alexander_romance._Armenian_illuminated_manuscript_of_XIV_century_(Venice%2C_San_Lazzaro%2C_424)_(2).jpg',\n",
      " 'src': 'https://upload.wikimedia.org/wikipedia/commons/thumb/c/c0/Alexander_romance._Armenian_illuminated_manuscript_of_XIV_century_(Venice%2C_San_Lazzaro%2C_424)_(2).jpg/394px-Alexander_romance._Armenian_illuminated_manuscript_of_XIV_century_(Venice%2C_San_Lazzaro%2C_424)_(2).jpg'}\n",
      "{'description': '',\n",
      " 'name': 'Curtiss_P-40N_Kittyhawk_(3892764767)',\n",
      " 'page': 'https://commons.wikimedia.org/wiki/File:Curtiss_P-40N_Kittyhawk_(3892764767).jpg',\n",
      " 'src': 'https://upload.wikimedia.org/wikipedia/commons/thumb/d/d0/Curtiss_P-40N_Kittyhawk_(3892764767).jpg/1024px-Curtiss_P-40N_Kittyhawk_(3892764767).jpg'}\n",
      "{'description': '',\n",
      " 'name': 'Elena_Zaniboni',\n",
      " 'page': 'https://commons.wikimedia.org/wiki/File:Elena_Zaniboni.jpg',\n",
      " 'src': 'https://upload.wikimedia.org/wikipedia/commons/b/ba/Elena_Zaniboni.jpg'}\n"
     ]
    }
   ],
   "source": [
    "for k in random.sample(list(img_meta.keys()), 20):\n",
    "    if '.jpg' not in img_meta[k]['name'].lower():\n",
    "        pprint(img_meta[k])"
   ]
  },
  {
   "cell_type": "code",
   "execution_count": 24,
   "metadata": {},
   "outputs": [
    {
     "name": "stdout",
     "output_type": "stream",
     "text": [
      "22264\n",
      "0\n"
     ]
    }
   ],
   "source": [
    "print(max([int(k) for k in img_meta if int(k) < 10000000]))\n",
    "print(min([int(k) for k in img_meta]))"
   ]
  },
  {
   "cell_type": "code",
   "execution_count": null,
   "metadata": {},
   "outputs": [],
   "source": []
  }
 ],
 "metadata": {
  "kernelspec": {
   "display_name": "py37",
   "language": "python",
   "name": "py37"
  },
  "language_info": {
   "codemirror_mode": {
    "name": "ipython",
    "version": 3
   },
   "file_extension": ".py",
   "mimetype": "text/x-python",
   "name": "python",
   "nbconvert_exporter": "python",
   "pygments_lexer": "ipython3",
   "version": "3.7.9"
  }
 },
 "nbformat": 4,
 "nbformat_minor": 4
}
