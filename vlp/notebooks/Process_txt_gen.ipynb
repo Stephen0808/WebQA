{
 "cells": [
  {
   "cell_type": "code",
   "execution_count": 1,
   "metadata": {},
   "outputs": [],
   "source": [
    "import numpy as np\n",
    "import os\n",
    "import json, time, copy\n",
    "import math\n",
    "\n",
    "from tqdm import tqdm\n",
    "import random\n",
    "import pickle\n",
    "from word2number import w2n\n",
    "import string, re\n",
    "from collections import Counter, defaultdict\n",
    "from pprint import pprint\n",
    "import spacy\n",
    "nlp = spacy.load(\"en_core_web_sm\", disable=[\"ner\",\"textcat\",\"parser\"])\n",
    "np.set_printoptions(precision=4)"
   ]
  },
  {
   "cell_type": "code",
   "execution_count": 7,
   "metadata": {},
   "outputs": [
    {
     "name": "stdout",
     "output_type": "stream",
     "text": [
      "Counter({'train': 17812, 'test': 4076, 'val': 2455})\n",
      "24343\n"
     ]
    }
   ],
   "source": [
    "txt_dataset = json.load(open(\"/home/yingshac/CYS/WebQnA/WebQnA_data_new/txt_dataset_0823_clean_te.json\", \"r\"))\n",
    "\n",
    "print(Counter([txt_dataset[k]['split'] for k in txt_dataset]))\n",
    "print(len(set([txt_dataset[k]['Guid'] for k in txt_dataset])))"
   ]
  },
  {
   "cell_type": "code",
   "execution_count": 9,
   "metadata": {},
   "outputs": [
    {
     "name": "stdout",
     "output_type": "stream",
     "text": [
      "{'1': 5, 'A': 3, 'Guid': 0, 'Keywords_A': 4, 'Output': 6, 'Q': 2, 'Qcate': 1}\n"
     ]
    }
   ],
   "source": [
    "file = \"Txt_gen_model/LargePredictions_FullSchema.tsv\"\n",
    "with open(os.path.join(\"/home/yingshac/CYS/WebQnA/VLP/vlp/light_output/\", file), \"r\") as fp:\n",
    "    lines = fp.readlines()\n",
    "    header = lines[0].strip().split('\\t')\n",
    "    rows = lines[1:]\n",
    "key = dict(zip(header, range(len(header))))\n",
    "pprint(key)"
   ]
  },
  {
   "cell_type": "code",
   "execution_count": 18,
   "metadata": {},
   "outputs": [
    {
     "name": "stdout",
     "output_type": "stream",
     "text": [
      "4180\n"
     ]
    }
   ],
   "source": [
    "guid2output = dict([(r.strip().split('\\t')[0], r.strip().split('\\t')[-1]) for r in rows])\n",
    "print(len(guid2output))"
   ]
  },
  {
   "cell_type": "code",
   "execution_count": 26,
   "metadata": {},
   "outputs": [
    {
     "name": "stdout",
     "output_type": "stream",
     "text": [
      "11a8fd8b-b505-473e-904a-889bd04af07d\n",
      "7257e221-9e93-45d9-8a81-8728a750f86f\n",
      "dcebed0b-269c-48b7-90fa-b3dd781e7483\n"
     ]
    }
   ],
   "source": [
    "f = open(os.path.join(\"/home/yingshac/CYS/WebQnA/VLP/vlp/light_output/\", file.split('.')[0]+\"_cor.tsv\"), \"w\")\n",
    "header = ['Guid', 'Qcate', 'Q', 'A', 'Keywords_A', 'Output_conf', 'Output']\n",
    "v = '{0}\\n'.format('\\t'.join(map(str, header)))\n",
    "f.write(v)\n",
    "for k in txt_dataset:\n",
    "    if not txt_dataset[k]['split'] == 'test': continue\n",
    "    guid = txt_dataset[k]['Guid']\n",
    "    if not guid in guid2output: \n",
    "        print(guid)\n",
    "        continue\n",
    "    row = [guid, 'text', txt_dataset[k]['Q'], json.dumps(txt_dataset[k]['A']), txt_dataset[k]['Keywords_A'], 1, json.dumps([guid2output[guid]])]\n",
    "    v = '{0}\\n'.format('\\t'.join(map(str, row)))\n",
    "    f.write(v)\n",
    "f.close()"
   ]
  },
  {
   "cell_type": "code",
   "execution_count": 21,
   "metadata": {},
   "outputs": [
    {
     "data": {
      "text/plain": [
       "'2-Butoxyethanol is a solvent for paints and surface coatings, as well as cleaning products and inks. It can be obtained in the laboratory by performing a ring opening of 2-propyl-1.'"
      ]
     },
     "execution_count": 21,
     "metadata": {},
     "output_type": "execute_result"
    }
   ],
   "source": [
    "k = random.choice(list(guid2output.keys()))\n",
    "guid2output[k]"
   ]
  },
  {
   "cell_type": "code",
   "execution_count": null,
   "metadata": {},
   "outputs": [],
   "source": []
  }
 ],
 "metadata": {
  "kernelspec": {
   "display_name": "py37",
   "language": "python",
   "name": "py37"
  },
  "language_info": {
   "codemirror_mode": {
    "name": "ipython",
    "version": 3
   },
   "file_extension": ".py",
   "mimetype": "text/x-python",
   "name": "python",
   "nbconvert_exporter": "python",
   "pygments_lexer": "ipython3",
   "version": "3.7.9"
  }
 },
 "nbformat": 4,
 "nbformat_minor": 4
}
