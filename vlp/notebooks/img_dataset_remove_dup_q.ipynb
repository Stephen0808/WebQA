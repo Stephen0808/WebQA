{
 "cells": [
  {
   "cell_type": "code",
   "execution_count": 8,
   "metadata": {},
   "outputs": [],
   "source": [
    "import json, random, os, copy\n",
    "import numpy as np\n",
    "from collections import defaultdict, Counter\n",
    "from pprint import pprint"
   ]
  },
  {
   "cell_type": "code",
   "execution_count": 2,
   "metadata": {},
   "outputs": [],
   "source": [
    "dup_q_list = [\n",
    "    \"What is the roof color of the New York Life Building?\",\n",
    "    \"Are there both hilly areas and flat areas at Newark Earthworks?\",\n",
    "    \"Are there both hilly areas and flat areas at Newark Earthworks?\",\n",
    "    \"What is in the center of the Old Town Square in Prague?\",\n",
    "    \"What is the color of the robe worn by the angel in the painting \\\"Kneeling Angel\\\" by Bernardo di Stefano Rosselli?\",\n",
    "    \"What is the Roman statue of the God Mars in the Yorkshire Museum, York, UK holding in his left hand?\",\n",
    "    \"What is the lady in Charles-Amable Lenoir's \\\"To the Return of Times Lost\\\" holding?\",\n",
    "    \"What is the angel in Luca Signorelli's \\\"The Archangel Gabriel\\\" holding?\",\n",
    "    \"Is there a pool of water in front of the Lotfollah mosque, isfahan?\",\n",
    "    \"What weapons are seen in Anne-Louis Girodet de Roussy-Trioson's \\\"Oath of the Horatii\\\"?\",\n",
    "    \"What colors is the Huashan upside down house?\",\n",
    "    \"What is the lady in Paolo Veronese's \\\"Portrait of a Lady as Saint Agnes\\\" holding?\",\n",
    "    \"What shape is the entrance of the Petit Palais in Paris?\",\n",
    "    \"How are the tops of the Empire State Building and Chrysler Building similar?\",\n",
    "    \"How many columns are at the Entrance to Hathorn Hall?\",\n",
    "    \"How many flag poles are in front of the Vista Civic Center?\",\n",
    "    \"Are there any trees near the DC Tower 1 in Vienna which are taller than the tower?\",\n",
    "    \"Is the lady in Sofonisba Anguissola's \\\"Portrait of a Young Lady\\\" standing?\",\n",
    "    \"What grows near both Ardgowan Castle and Dunlough Castle?\",\n",
    "    \"What is the lady in Élisabeth Louise Vigée Le Brun's \\\"Portrait of Julie Le Brun\\\" wearing on her head?\",\n",
    "]"
   ]
  },
  {
   "cell_type": "code",
   "execution_count": 11,
   "metadata": {},
   "outputs": [
    {
     "name": "stdout",
     "output_type": "stream",
     "text": [
      "[233, 338, 443, 1233, 1234, 2141, 2361]\n"
     ]
    }
   ],
   "source": [
    "img_dataset = json.load(open(\"/home/yingshac/CYS/WebQnA/WebQnA_data_new/img_dataset_0725.json\", \"r\"))\n",
    "print([k for k in range(25467) if not str(k) in img_dataset])"
   ]
  },
  {
   "cell_type": "code",
   "execution_count": 12,
   "metadata": {
    "collapsed": true
   },
   "outputs": [
    {
     "name": "stdout",
     "output_type": "stream",
     "text": [
      "defaultdict(<function <lambda> at 0x7f5e557399e0>,\n",
      "            {'Are there any trees near the DC Tower 1 in Vienna which are taller than the tower?': ['21151 '\n",
      "                                                                                                    \"['00016161'] \"\n",
      "                                                                                                    'train '\n",
      "                                                                                                    'YesNo',\n",
      "                                                                                                    '15304 '\n",
      "                                                                                                    \"['00015852'] \"\n",
      "                                                                                                    'ind_test '\n",
      "                                                                                                    'YesNo'],\n",
      "             'Are there both hilly areas and flat areas at Newark Earthworks?': ['665 '\n",
      "                                                                                 \"['00000723', \"\n",
      "                                                                                 \"'00000722'] \"\n",
      "                                                                                 'train '\n",
      "                                                                                 'YesNo',\n",
      "                                                                                 '2372 '\n",
      "                                                                                 \"['00002636', \"\n",
      "                                                                                 \"'00002637'] \"\n",
      "                                                                                 'train '\n",
      "                                                                                 'YesNo',\n",
      "                                                                                 '2378 '\n",
      "                                                                                 \"['00002643', \"\n",
      "                                                                                 \"'00002644'] \"\n",
      "                                                                                 'train '\n",
      "                                                                                 'YesNo'],\n",
      "             'How are the tops of the Empire State Building and Chrysler Building similar?': ['8129 '\n",
      "                                                                                              \"['00007956', \"\n",
      "                                                                                              \"'00003316'] \"\n",
      "                                                                                              'val '\n",
      "                                                                                              'Others',\n",
      "                                                                                              '17105 '\n",
      "                                                                                              \"['00017125', \"\n",
      "                                                                                              \"'00007956'] \"\n",
      "                                                                                              'train '\n",
      "                                                                                              'Others'],\n",
      "             'How many columns are at the Entrance to Hathorn Hall?': ['11119 '\n",
      "                                                                       \"['00003205'] \"\n",
      "                                                                       'val '\n",
      "                                                                       'number',\n",
      "                                                                       '20376 '\n",
      "                                                                       \"['00003205'] \"\n",
      "                                                                       'train '\n",
      "                                                                       'number'],\n",
      "             'How many flag poles are in front of the Vista Civic Center?': ['15706 '\n",
      "                                                                             \"['00003616'] \"\n",
      "                                                                             'train '\n",
      "                                                                             'number',\n",
      "                                                                             '20978 '\n",
      "                                                                             \"['00003616'] \"\n",
      "                                                                             'train '\n",
      "                                                                             'number'],\n",
      "             'Is the lady in Sofonisba Anguissola\\'s \"Portrait of a Young Lady\" standing?': ['16412 '\n",
      "                                                                                             \"['00016671'] \"\n",
      "                                                                                             'train '\n",
      "                                                                                             'YesNo',\n",
      "                                                                                             '24329 '\n",
      "                                                                                             \"['00016671'] \"\n",
      "                                                                                             'val '\n",
      "                                                                                             'YesNo'],\n",
      "             'Is there a pool of water in front of the Lotfollah mosque, isfahan?': ['3765 '\n",
      "                                                                                     \"['00004529'] \"\n",
      "                                                                                     'train '\n",
      "                                                                                     'YesNo',\n",
      "                                                                                     '12329 '\n",
      "                                                                                     \"['00004529'] \"\n",
      "                                                                                     'train '\n",
      "                                                                                     'YesNo'],\n",
      "             'What colors is the Huashan upside down house?': ['4193 '\n",
      "                                                               \"['00005060'] \"\n",
      "                                                               'train color',\n",
      "                                                               '13406 '\n",
      "                                                               \"['00005060'] \"\n",
      "                                                               'val color'],\n",
      "             'What grows near both Ardgowan Castle and Dunlough Castle?': ['24396 '\n",
      "                                                                           \"['00014075', \"\n",
      "                                                                           \"'00017928'] \"\n",
      "                                                                           'val '\n",
      "                                                                           'Others',\n",
      "                                                                           '18294 '\n",
      "                                                                           \"['00014075', \"\n",
      "                                                                           \"'00017928'] \"\n",
      "                                                                           'train '\n",
      "                                                                           'Others'],\n",
      "             'What is in the center of the Old Town Square in Prague?': ['4886 '\n",
      "                                                                         \"['00005902', \"\n",
      "                                                                         \"'00005903'] \"\n",
      "                                                                         'ood_test '\n",
      "                                                                         'Others',\n",
      "                                                                         '4965 '\n",
      "                                                                         \"['00006000'] \"\n",
      "                                                                         'train '\n",
      "                                                                         'Others'],\n",
      "             'What is the Roman statue of the God Mars in the Yorkshire Museum, York, UK holding in his left hand?': ['4087 '\n",
      "                                                                                                                      \"['00004921'] \"\n",
      "                                                                                                                      'ind_test '\n",
      "                                                                                                                      'Others',\n",
      "                                                                                                                      '5496 '\n",
      "                                                                                                                      \"['00006624', \"\n",
      "                                                                                                                      \"'00004921'] \"\n",
      "                                                                                                                      'ind_test '\n",
      "                                                                                                                      'Others'],\n",
      "             'What is the angel in Luca Signorelli\\'s \"The Archangel Gabriel\" holding?': ['2597 '\n",
      "                                                                                          \"['00002955'] \"\n",
      "                                                                                          'ood_test '\n",
      "                                                                                          'Others',\n",
      "                                                                                          '10824 '\n",
      "                                                                                          \"['00002955'] \"\n",
      "                                                                                          'train '\n",
      "                                                                                          'Others'],\n",
      "             'What is the color of the robe worn by the angel in the painting \"Kneeling Angel\" by Bernardo di Stefano Rosselli?': ['5182 '\n",
      "                                                                                                                                   \"['00003756'] \"\n",
      "                                                                                                                                   'ind_test '\n",
      "                                                                                                                                   'color',\n",
      "                                                                                                                                   '5249 '\n",
      "                                                                                                                                   \"['00006341'] \"\n",
      "                                                                                                                                   'train '\n",
      "                                                                                                                                   'color'],\n",
      "             'What is the lady in Charles-Amable Lenoir\\'s \"To the Return of Times Lost\" holding?': ['3030 '\n",
      "                                                                                                     \"['00003553'] \"\n",
      "                                                                                                     'train '\n",
      "                                                                                                     'Others',\n",
      "                                                                                                     '5804 '\n",
      "                                                                                                     \"['00003553'] \"\n",
      "                                                                                                     'ood_test '\n",
      "                                                                                                     'Others'],\n",
      "             'What is the lady in Paolo Veronese\\'s \"Portrait of a Lady as Saint Agnes\" holding?': ['4687 '\n",
      "                                                                                                    \"['00005671'] \"\n",
      "                                                                                                    'train '\n",
      "                                                                                                    'Others',\n",
      "                                                                                                    '14519 '\n",
      "                                                                                                    \"['00005671'] \"\n",
      "                                                                                                    'train '\n",
      "                                                                                                    'Others'],\n",
      "             'What is the lady in Élisabeth Louise Vigée Le Brun\\'s \"Portrait of Julie Le Brun\" wearing on her head?': ['24368 '\n",
      "                                                                                                                        \"['00021568'] \"\n",
      "                                                                                                                        'train '\n",
      "                                                                                                                        'Others',\n",
      "                                                                                                                        '24779 '\n",
      "                                                                                                                        \"['00021568'] \"\n",
      "                                                                                                                        'train '\n",
      "                                                                                                                        'Others'],\n",
      "             'What is the roof color of the New York Life Building?': ['191 '\n",
      "                                                                       \"['00000216'] \"\n",
      "                                                                       'ood_test '\n",
      "                                                                       'Others',\n",
      "                                                                       '2128 '\n",
      "                                                                       \"['00002379'] \"\n",
      "                                                                       'train '\n",
      "                                                                       'Others'],\n",
      "             'What shape is the entrance of the Petit Palais in Paris?': ['5514 '\n",
      "                                                                          \"['00006648'] \"\n",
      "                                                                          'train '\n",
      "                                                                          'shape',\n",
      "                                                                          '15390 '\n",
      "                                                                          \"['00004829', \"\n",
      "                                                                          \"'00012011'] \"\n",
      "                                                                          'train '\n",
      "                                                                          'shape'],\n",
      "             'What weapons are seen in Anne-Louis Girodet de Roussy-Trioson\\'s \"Oath of the Horatii\"?': ['12410 '\n",
      "                                                                                                         \"['00004182'] \"\n",
      "                                                                                                         'train '\n",
      "                                                                                                         'Others',\n",
      "                                                                                                         '12673 '\n",
      "                                                                                                         \"['00004182'] \"\n",
      "                                                                                                         'train '\n",
      "                                                                                                         'Others']})\n"
     ]
    }
   ],
   "source": [
    "dup_samples = defaultdict(lambda: [])\n",
    "for k in img_dataset:\n",
    "    Q = img_dataset[k]['Q'][1:-1]\n",
    "    if Q in dup_q_list:\n",
    "        dup_samples[Q].append(' '.join([k, str(img_dataset[k]['GoldIds']), img_dataset[k]['split'], img_dataset[k]['Qcate']]))\n",
    "pprint(dup_samples)"
   ]
  },
  {
   "cell_type": "code",
   "execution_count": 35,
   "metadata": {},
   "outputs": [
    {
     "name": "stdout",
     "output_type": "stream",
     "text": [
      "15 duplicated samples to delete\n",
      "25452\n",
      "[233, 338, 443, 1233, 1234, 2141, 2361, 3030, 3765, 4687, 4886, 5249, 5496, 10824, 11119, 12410, 13406, 15706, 16412, 18294, 21151, 24779]\n"
     ]
    }
   ],
   "source": [
    "# Delete duplicated samples\n",
    "del_samples = ['21151', '11119', '15706', '16412', '3765', '13406', '18294', '4886', '5496', '10824', '5249', '3030', '4687', '24779', '12410']\n",
    "print(\"{} duplicated samples to delete\".format(len(del_samples)))\n",
    "img_dataset_0812 = copy.deepcopy(img_dataset)\n",
    "for k in del_samples:\n",
    "    del img_dataset_0812[k]\n",
    "print(len(img_dataset_0812))\n",
    "print([k for k in range(25467) if not str(k) in img_dataset_0812])"
   ]
  },
  {
   "cell_type": "code",
   "execution_count": 36,
   "metadata": {},
   "outputs": [
    {
     "name": "stdout",
     "output_type": "stream",
     "text": [
      "25447\n"
     ]
    }
   ],
   "source": [
    "# Img full_sentence answers collection is done\n",
    "q2a = json.load(open(\"/home/yingshac/CYS/WebQnA/WebQnA_data_new/img_dataset_full_sentence_from_Mridu.json\", \"r\"))\n",
    "print(len(q2a))"
   ]
  },
  {
   "cell_type": "code",
   "execution_count": 37,
   "metadata": {},
   "outputs": [
    {
     "name": "stdout",
     "output_type": "stream",
     "text": [
      "25452\n"
     ]
    }
   ],
   "source": [
    "# Add full-sentence answers\n",
    "for k in img_dataset_0812:\n",
    "    img_dataset_0812[k]['Keywords_A'] = copy.deepcopy(img_dataset_0812[k]['A'])\n",
    "    try: img_dataset_0812[k]['A'] = '\"'+q2a[img_dataset_0812[k]['Q']]+'\"'\n",
    "    except: print(\"full-sentence answer not found for k={}\".format(k))\n",
    "print(len(img_dataset_0812))"
   ]
  },
  {
   "cell_type": "code",
   "execution_count": 38,
   "metadata": {},
   "outputs": [],
   "source": [
    "# Aug 12: full sentence answer added, removed 15 duplicated samples\n",
    "json.dump(img_dataset_0812, open(\"/home/yingshac/CYS/WebQnA/WebQnA_data_new/img_dataset_0812.json\", \"w\"), indent=4)"
   ]
  },
  {
   "cell_type": "code",
   "execution_count": 45,
   "metadata": {},
   "outputs": [
    {
     "name": "stdout",
     "output_type": "stream",
     "text": [
      "25452\n",
      "Counter({1: 14325, 2: 11127})\n",
      "[233, 338, 443, 1233, 1234, 2141, 2361, 3030, 3765, 4687, 4886, 5249, 5496, 10824, 11119, 12410, 13406, 15706, 16412, 18294, 21151, 24779]\n",
      "Counter({'YesNo': 8429, 'Others': 6713, 'choose': 5240, 'number': 2339, 'color': 2069, 'shape': 662})\n",
      "Counter({'train': 16447, 'ood_test': 3987, 'val': 2511, 'ind_test': 2507})\n",
      "25452\n"
     ]
    }
   ],
   "source": [
    "test = json.load(open(\"/home/yingshac/CYS/WebQnA/WebQnA_data_new/img_dataset_0812.json\", \"r\"))\n",
    "print(len(set([test[k]['Guid'] for k in test])))\n",
    "print(Counter([len(test[j]['GoldIds']) for j in test]))\n",
    "print([k for k in range(25474) if str(k) not in test])\n",
    "print(Counter([test[k]['Qcate'] for k in test]))\n",
    "print(Counter([test[k]['split'] for k in test]))\n",
    "print(len(set([test[k]['Guid'] for k in test])))"
   ]
  },
  {
   "cell_type": "code",
   "execution_count": null,
   "metadata": {},
   "outputs": [],
   "source": []
  }
 ],
 "metadata": {
  "kernelspec": {
   "display_name": "py37",
   "language": "python",
   "name": "py37"
  },
  "language_info": {
   "codemirror_mode": {
    "name": "ipython",
    "version": 3
   },
   "file_extension": ".py",
   "mimetype": "text/x-python",
   "name": "python",
   "nbconvert_exporter": "python",
   "pygments_lexer": "ipython3",
   "version": "3.7.9"
  }
 },
 "nbformat": 4,
 "nbformat_minor": 4
}
