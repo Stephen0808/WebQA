{
 "cells": [
  {
   "cell_type": "code",
   "execution_count": 17,
   "metadata": {},
   "outputs": [],
   "source": [
    "import json, os, copy, random\n",
    "import numpy as np\n",
    "from collections import Counter\n",
    "from tqdm import tqdm\n",
    "import pickle"
   ]
  },
  {
   "cell_type": "code",
   "execution_count": 4,
   "metadata": {},
   "outputs": [
    {
     "name": "stdout",
     "output_type": "stream",
     "text": [
      "Counter({'train': 36766, 'test': 7540, 'val': 4966})\n",
      "Counter({'text': 24343, 'YesNo': 8255, 'Others': 6470, 'choose': 5201, 'number': 2318, 'color': 2058, 'shape': 627})\n",
      "Counter({'text': 4076, 'Others': 1058, 'choose': 981, 'YesNo': 935, 'color': 228, 'number': 200, 'shape': 62})\n",
      "49272\n"
     ]
    }
   ],
   "source": [
    "dataset = json.load(open(\"/home/yingshac/CYS/WebQnA/WebQnA_data_new/WebQA_0904_concat.json\", \"r\"))\n",
    "\n",
    "print(Counter([dataset[k]['split'] for k in dataset]))\n",
    "print(Counter([dataset[k]['Qcate'] for k in dataset]))\n",
    "print(Counter([dataset[k]['Qcate'] for k in dataset if dataset[k]['split'] == 'test']))\n",
    "print(len(set([dataset[k]['Guid'] for k in dataset])))"
   ]
  },
  {
   "cell_type": "code",
   "execution_count": 5,
   "metadata": {},
   "outputs": [
    {
     "name": "stdout",
     "output_type": "stream",
     "text": [
      "22265\n",
      "340194\n",
      "240700\n"
     ]
    }
   ],
   "source": [
    "### Load img files' lineidx\n",
    "img_lineidx = {}\n",
    "\n",
    "# positive images for img-based queries\n",
    "with open(\"/data/yingshac/MMMHQA/base64/gold_img.lineidx\", \"r\") as fp:\n",
    "    lineidx = [int(i.strip()) for i in fp.readlines()]\n",
    "    print(len(lineidx))\n",
    "    img_lineidx[0] = lineidx\n",
    "# negative images for img-based queries\n",
    "with open(\"/data/yingshac/MMMHQA/base64/neg_img.lineidx\", \"r\") as fp:\n",
    "    lineidx = [int(i.strip()) for i in fp.readlines()]\n",
    "    print(len(lineidx))\n",
    "    img_lineidx[1] = lineidx\n",
    "# negative images for txt-based queries\n",
    "with open(\"/data/yingshac/MMMHQA/base64/x_neg_img.lineidx\", \"r\") as fp:\n",
    "    lineidx = [int(i.strip()) for i in fp.readlines()]\n",
    "    print(len(lineidx))\n",
    "    img_lineidx[2] = lineidx\n",
    "\n",
    "### img tsv files; paths\n",
    "img_tsv = {0: \"/data/yingshac/MMMHQA/base64/gold_img.tsv\",\n",
    "          1: \"/data/yingshac/MMMHQA/base64/neg_img.tsv\", \n",
    "          2: \"/data/yingshac/MMMHQA/base64/x_neg_img.tsv\"}"
   ]
  },
  {
   "cell_type": "code",
   "execution_count": 49,
   "metadata": {},
   "outputs": [
    {
     "name": "stderr",
     "output_type": "stream",
     "text": [
      "100%|██████████| 49272/49272 [00:00<00:00, 104118.74it/s]"
     ]
    },
    {
     "name": "stdout",
     "output_type": "stream",
     "text": [
      "389750\n"
     ]
    },
    {
     "name": "stderr",
     "output_type": "stream",
     "text": [
      "\n"
     ]
    }
   ],
   "source": [
    "image_ids_all = set()\n",
    "for g in tqdm(dataset):\n",
    "    if 'img_posFacts' in dataset[g]:\n",
    "        for im in dataset[g]['img_posFacts']:\n",
    "            image_ids_all.add(str(im['image_id']))\n",
    "    for im in dataset[g]['img_negFacts']:\n",
    "            image_ids_all.add(str(im['image_id']))\n",
    "print(len(image_ids_all))"
   ]
  },
  {
   "cell_type": "code",
   "execution_count": 50,
   "metadata": {},
   "outputs": [
    {
     "name": "stdout",
     "output_type": "stream",
     "text": [
      "['20240481', '20240483', '20240491', '20240492', '20240493', '20240494', '20240496', '20240497', '20240498', '20240499', '20240500', '20240501', '20240502', '20240503', '20240504', '20240505', '20240506', '20240507', '20240508', '20240509', '20240510', '20240511', '20240512', '20240513', '20240514', '20240515', '20240516', '20240519', '20240522', '20240523', '20240524', '20240525', '20240533', '20240534', '20240536', '20240550', '20240551', '20240552', '20240553', '20240554', '20240555', '20240556', '20240557', '20240558', '20240569', '20240573', '20240574', '20240577', '20240581', '20240590', '20240592', '20240593', '20240594', '20240595', '20240597', '20240598', '20240599', '20240610', '20240611', '20240612', '20240613', '20240614', '20240615', '20240619', '20240620', '20240622', '20240623', '20240624', '20240625', '20240626', '20240627', '20240630', '20240632', '20240634', '20240635', '20240640', '20240641', '20240642', '20240643', '20240646', '20240650', '20240656', '20240658', '20240659', '20240660', '20240661', '20240662', '20240663', '20240665', '20240666', '20240681', '20240683', '20240684', '20240685', '20240686', '20240690', '20240696', '20240697', '20240698', '20240699']\n"
     ]
    }
   ],
   "source": [
    "print(sorted(image_ids_all, key=lambda x: int(x))[-100:])"
   ]
  },
  {
   "cell_type": "code",
   "execution_count": 62,
   "metadata": {},
   "outputs": [
    {
     "name": "stdout",
     "output_type": "stream",
     "text": [
      "389750\n",
      "389750\n"
     ]
    }
   ],
   "source": [
    "print(len(image_ids_all))\n",
    "new_ids = list(range(30000000,30000000+len(image_ids_all)))\n",
    "random.shuffle(new_ids)\n",
    "print(len(new_ids))"
   ]
  },
  {
   "cell_type": "code",
   "execution_count": 63,
   "metadata": {},
   "outputs": [
    {
     "name": "stdout",
     "output_type": "stream",
     "text": [
      "389750\n"
     ]
    }
   ],
   "source": [
    "image_id_map_0904 = dict(zip(image_ids_all, new_ids))\n",
    "print(len(image_id_map_0904))\n",
    "map_sortedby_newid = dict(sorted(image_id_map_0904.items(), key=lambda x: x[1]))\n",
    "pickle.dump(map_sortedby_newid, open(\"image_id_map_0904.pkl\", \"wb\"))"
   ]
  },
  {
   "cell_type": "code",
   "execution_count": 69,
   "metadata": {},
   "outputs": [
    {
     "data": {
      "text/plain": [
       "30123989"
      ]
     },
     "execution_count": 69,
     "metadata": {},
     "output_type": "execute_result"
    }
   ],
   "source": [
    "map_sortedby_newid['00002098']"
   ]
  },
  {
   "cell_type": "code",
   "execution_count": 67,
   "metadata": {},
   "outputs": [
    {
     "name": "stdout",
     "output_type": "stream",
     "text": [
      "30389742\n",
      "30389743\n",
      "30389744\n",
      "30389745\n",
      "30389746\n",
      "30389747\n",
      "30389748\n",
      "30389749\n"
     ]
    }
   ],
   "source": [
    "for i in list(map_sortedby_newid.keys())[-8:]:\n",
    "    print(map_sortedby_newid[i])"
   ]
  },
  {
   "cell_type": "code",
   "execution_count": 73,
   "metadata": {},
   "outputs": [
    {
     "name": "stderr",
     "output_type": "stream",
     "text": [
      "100%|██████████| 389750/389750 [1:37:34<00:00, 66.57it/s]  \n"
     ]
    }
   ],
   "source": [
    "### Write new tsv, combined\n",
    "fp = open(\"/data/yingshac/MMMHQA/base64_0904/imgs.tsv\", \"w\")\n",
    "fp_lineidx = open(\"/data/yingshac/MMMHQA/base64_0904/imgs.lineidx\", \"w\")\n",
    "fp0 = open(img_tsv[0], \"r\")\n",
    "fp1 = open(img_tsv[1], \"r\")\n",
    "fp2 = open(img_tsv[2], \"r\")\n",
    "count = 0\n",
    "for i in tqdm(map_sortedby_newid):\n",
    "    assert count == map_sortedby_newid[i] % 10000000\n",
    "    if int(i) // 10000000 == 0:\n",
    "        fp0.seek(img_lineidx[0][int(i)%10000000])\n",
    "        fp_lineidx.write('{0}\\n'.format(fp.tell()))\n",
    "        line = [map_sortedby_newid[i], fp0.readline().strip().split('\\t')[-1]]\n",
    "        v = '{0}\\n'.format('\\t'.join(map(str, line)))\n",
    "        fp.write(v)\n",
    "    elif int(i) // 10000000 == 1:\n",
    "        fp1.seek(img_lineidx[1][int(i)%10000000])\n",
    "        fp_lineidx.write('{0}\\n'.format(fp.tell()))\n",
    "        line = [map_sortedby_newid[i], fp1.readline().strip().split('\\t')[-1]]\n",
    "        v = '{0}\\n'.format('\\t'.join(map(str, line)))\n",
    "        fp.write(v)\n",
    "    elif int(i) // 10000000 == 2:\n",
    "        fp2.seek(img_lineidx[2][int(i)%10000000])\n",
    "        fp_lineidx.write('{0}\\n'.format(fp.tell()))\n",
    "        line = [map_sortedby_newid[i], fp2.readline().strip().split('\\t')[-1]]\n",
    "        v = '{0}\\n'.format('\\t'.join(map(str, line)))\n",
    "        fp.write(v)\n",
    "    else: \n",
    "        print(\"F***\")\n",
    "        print(i)\n",
    "    count += 1\n",
    "fp.close()\n",
    "fp0.close()\n",
    "fp1.close()\n",
    "fp2.close()\n",
    "fp_lineidx.close()"
   ]
  },
  {
   "cell_type": "code",
   "execution_count": null,
   "metadata": {},
   "outputs": [],
   "source": []
  }
 ],
 "metadata": {
  "kernelspec": {
   "display_name": "py37",
   "language": "python",
   "name": "py37"
  },
  "language_info": {
   "codemirror_mode": {
    "name": "ipython",
    "version": 3
   },
   "file_extension": ".py",
   "mimetype": "text/x-python",
   "name": "python",
   "nbconvert_exporter": "python",
   "pygments_lexer": "ipython3",
   "version": "3.7.9"
  }
 },
 "nbformat": 4,
 "nbformat_minor": 4
}
