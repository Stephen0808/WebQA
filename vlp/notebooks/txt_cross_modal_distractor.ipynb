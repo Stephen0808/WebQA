{
 "cells": [
  {
   "cell_type": "code",
   "execution_count": 22,
   "metadata": {},
   "outputs": [],
   "source": [
    "import json, random\n",
    "import numpy as np\n",
    "from pprint import pprint\n",
    "from collections import Counter, defaultdict\n",
    "from bs4 import BeautifulSoup\n",
    "import requests\n",
    "import urllib.request\n",
    "import re\n",
    "import seaborn as sns\n",
    "import matplotlib.pyplot as plt\n",
    "from nltk.corpus import stopwords\n",
    "import pickle\n",
    "import copy\n",
    "import spacy\n",
    "from spacy import displacy\n",
    "from itertools import tee\n",
    "import wikipedia\n",
    "import pylcs\n",
    "import string\n",
    "np.set_printoptions(precision=4)"
   ]
  },
  {
   "cell_type": "code",
   "execution_count": 2,
   "metadata": {},
   "outputs": [
    {
     "name": "stdout",
     "output_type": "stream",
     "text": [
      "7921\n"
     ]
    }
   ],
   "source": [
    "txt_dataset = json.load(open(\"/home/yingshac/CYS/WebQnA/WebQnA_data_new/txt_dataset_J.json\", \"r\"))\n",
    "print(len(txt_dataset))"
   ]
  },
  {
   "cell_type": "code",
   "execution_count": 506,
   "metadata": {},
   "outputs": [
    {
     "name": "stdout",
     "output_type": "stream",
     "text": [
      "[4330, 982, 5834, 6850, 3781, 697, 3929, 2376, 5909, 4968, 5537, 1581, 6812, 6693, 2102]\n",
      "Q:  Did Nickelodeon or Netflix premiere Winx episodes first?\n",
      "A:  Nickelodeon was first as it premiered the Winx Club series in 2012, whereas Netflix premiered the Winx Saga in 2021.\n",
      "Its television premiere was on 11 March 2012 on Nickelodeon in the United States. The plot takes place after the events of the first three seasons. In 2007, production began on a sequel to The Secret of the Lost Kingdom, before the fourth season had been written. It was released in Italy on 29 October 2010.\n",
      "https://en.wikipedia.org/wiki/List_of_Winx_Club_episodes\n",
      "The six-episode first season debuted on Netflix on 22 January 2021 to mixed reviews. In February 2021, the series was renewed for a second season. Bloom, a fairy with fire powers, enrolls at a magical boarding school in the Otherworld called Alfea College.\n",
      "https://en.wikipedia.org/wiki/Fate:_The_Winx_Saga\n",
      "\n",
      "Q:  What is a concept that is centrally emphasized by both the Rangtong and Madhyamaka teachings of Buddhism?\n",
      "A:  Both teachings emphasize emptiness or sunyata centrally.\n",
      "The ultimate truth in Madhyamaka is the truth that everything is empty ( Sunyata ), that which is an underlying unchanging essence. Sunyata itself is also \"empty,\" 'the emptiness of emptiness', which means that Sunyata itself does not constitute a higher or ultimate \"essence\" or \"reality.\"\n",
      "https://en.wikipedia.org/wiki/Verses_of_the_Five_Ranks\n",
      "Rangtong is the majority Tibetan teaching on the nature of śūnyatā or \"emptiness\", namely that all phenomena are empty of a self-nature in both the relative and absolute sense, without positing anything beyond that. This position is the mainstream Tibetan interpretation of Madhyamaka, especially by the followers of Prasaṅgika Mādhyamaka .\n",
      "https://en.wikipedia.org/wiki/Shentong\n",
      "\n",
      "Q:  What color are the mountains that share a name with the tribe of the Native American Pueblo people living on a reservation in the Rio Grande Rift of central New Mexico?\n",
      "A:  The Sandia Mountains have a red appearance to them.\n",
      "But the most convincing and most-cited explanation is that the Spanish called the mountain Sandía after viewing it illuminated by the setting sun. The Sandia Mountains have a red appearance to them, and the layer of vegetation gives it a luminous \"rind\" of green when backlit, giving it the appearance of a sliced watermelon.\n",
      "https://en.wikipedia.org/wiki/Sandia_Pueblo\n",
      "Sandia Pueblo ( / sænˈdiːə /; Tiwa: Tuf Shur Tia) is a federally recognized tribe of Native American Pueblo people inhabiting a 101.114-square-kilometre (39.040 sq mi) reservation of the same name in the eastern Rio Grande Rift of central New Mexico.\n",
      "https://en.wikipedia.org/wiki/Sandia_Pueblo\n",
      "\n",
      "Q:  Where can you find both Melaleuca alternifolia and Alphitonia excelsa?\n",
      "A:  Melaleuca alternifolia and Alphitonia excelsa are native to Australia.\n",
      "It is derived from the leaves of the tea tree, Melaleuca alternifolia, native to southeast Queensland and the northeast coast of New South Wales, Australia. The oil comprises many constituent chemicals and its composition changes if it is exposed to air and oxidizes .\n",
      "https://en.wikipedia.org/wiki/Tea_tree_oil\n",
      "(Fenzl) Benth. Alphitonia excelsa, commonly known as the red ash or soap tree, is a species of tree in the family Rhamnaceae. It is endemic to Australia, being found in New South Wales, Queensland, Northern Territory and the northeastern tip of Western Australia.\n",
      "https://en.wikipedia.org/wiki/Alphitonia_excelsa\n",
      "\n",
      "Q:  What are the names of the four watersheds of the Black Mountains?\n",
      "A:  They are the Lake Mead Watershed, the Detrital Wash Watershed, the Havasu-Mohave Lakes Watershed, and the Sacramento Wash Watershed.\n",
      "The Black Mountains are in four watersheds. The north and northeast contain the Lake Mead Watershed, and the north-flowing Detrital Wash Watershed.\n",
      "https://en.wikipedia.org/wiki/Black_Mountains_(Arizona)\n",
      "The north and northeast contain the Lake Mead Watershed, and the north-flowing Detrital Wash Watershed. The west along the Colorado River and southern-west contains the Havasu-Mohave Lakes Watershed where the Sacramento Wash Watershed flows into the southern Topock Marsh, at the southern third of the Havasu-Mohave Lakes region.\n",
      "https://en.m.wikipedia.org/wiki/Black_Mountains_(Arizona)\n",
      "\n",
      "Q:  Killa Saifullah was a fort built by a person whose first name means what to Muslims?\n",
      "A:  Sword of God\n",
      "Saifullah, also spelled Sayfullah etc. ( Arabic: سيف الله ‎), meaning sword of God is a male Islamic given name, originally an honorific awarded for military prowess. In modern times it may be used as a surname. SayfAllāh al-Maslūl, name given to Khalid ibn al-Walid, one of the companions of Muhammad (sal)\n",
      "https://en.wikipedia.org/wiki/Saifullah\n",
      "Killa Saifullah or Saifullah's Qilla is a fort built by Saifullah Khan, an influential personage and warlord among the Mirdadzai Khudiadadzai tribe of Kakar Sunzer-khels.This District is named after Saifullah Khan, who was from the Mirdadzai (Khodadzai) tribe of Kakar Sunzerkhail.\n",
      "https://en.wikipedia.org/wiki/Killa_Saifullah\n",
      "\n",
      "Q:  Why was the crystal eyed catfish imported?\n",
      "A:  Hemibagrus wyckii, sometimes called the Crystal-eyed catfish was imported as an aquarium fish.\n",
      "Hemibagrus wyckii is a species of catfish ( order Siluriformes) of the family Bagridae. It is occasionally called the crystal-eyed catfish. This species originates in Asia from Thailand to Indonesia.\n",
      "https://en.wikipedia.org/wiki/Crystal_eyed_catfish\n",
      "Hemibagrus wyckii and Hemibagrus wyckioides are the two members of this genus imported as aquarium fish. These fish will bite and can damage objects in the aquarium. Due to both its aggressive and its predatory nature, this species should be kept alone.\n",
      "https://en.m.wikipedia.org/wiki/Hemibagrus_wyckii\n",
      "\n",
      "Q:  Did Republican senator Hank Brown decide to retire before or after President Bill Clinton was nominated to run in the 1996 Democratic National Convention.\n",
      "A:  After.\n",
      "The 1996 United States Senate election in Colorado was held on November 5, 1996. Incumbent Republican U.S. Senator Hank Brown decided to retire instead of seeking a second term.\n",
      "https://en.wikipedia.org/wiki/United_States_Senate_election_in_Colorado,_1996\n",
      "Incumbent President Bill Clinton was again selected as the nominee through a series of primary elections and caucuses culminating in the 1996 Democratic National Convention held from August 26 to August 29, 1996, in Chicago, Illinois . With the advantage of incumbency, Bill Clinton's path to renomination by the Democratic Party was uneventful.\n",
      "https://en.wikipedia.org/wiki/1996_Democratic_Party_presidential_primaries\n",
      "\n",
      "Q:  Name a few countries where might you find the group of passerine birds with a name derived from the Hindi language mainā?\n",
      "A:  Southern Asia, especially India, Pakistan and Bangladesh .\n",
      "The myna ( / ˈmaɪnə /; also spelled mynah) is a bird of the starling family (Sturnidae). This is a group of passerine birds which are native to southern Asia, especially India, Pakistan and Bangladesh .\n",
      "https://en.wikipedia.org/wiki/Mynah\n",
      "The Bali myna, which is critically endangered and nearly extinct in the wild, is highly distinctive. Some mynas are considered talking birds, for their ability to reproduce sounds, including human speech, when in captivity. Myna is derived from the Hindi language mainā which itself is derived from Sanskrit madanā.\n",
      "https://en.wikipedia.org/wiki/Myna\n",
      "\n",
      "Q:  How much larger is the group of brothers that the TV show Brotherhood focuses on than the central group on the show Dexter?\n",
      "A:  One larger\n",
      "As young boys, he and his older brother Brian witnessed the murder of their mother, Laura Moser and were left for two days in a shipping container filled with blood. The incident left them psychologically scarred. Soon afterwards, Dexter was adopted by Harry Morgan, who hoped to help repress his memory of the death of his mother.\n",
      "https://en.wikipedia.org/wiki/Miguel_Prado\n",
      "The series centres around three brothers: Dan (age 25), Toby (aged 23) and Jamie (aged 14). Since their mother died six months before the events of the series, Dan and Toby have become the guardians of Jamie who hasn't said a word since the death.\n",
      "https://en.m.wikipedia.org/wiki/Brotherhood_(UK_TV_series)\n",
      "\n",
      "Q:  What forms of media did Rogue appear in?\n",
      "A:  Rogue appeared in the X-Men TV series and also in comic books.\n",
      "This particular version of Rogue also appeared in the Animated Series' two tie in comics: X-Men Adventures and The Adventures of the X-Men, with the former being based on the animated series and the latter including the same characters but with original storylines.\n",
      "https://en.wikipedia.org/wiki/Rogue_in_other_media\n",
      "Rogue appeared in the X-Men television series, where she was one of the main characters. Rogue was voiced by Lenore Zann. In this series, she had her absorption powers, Ms. Marvel powers, and a copy of Ms. Marvel's psyche trapped inside her own.\n",
      "https://en.wikipedia.org/wiki/Rogue_in_other_media\n",
      "\n",
      "Q:  Were both Grafton, Virginia and Grafton, Nova Scotia named after the same person, wittingly or unwittingly?\n",
      "A:  yes\n",
      "It was first settled by New England Planters in the 1820s as they moved westward from the initial settlements around Canning, Nova Scotia. One of the first homes was the Kinsman-Salsman House, built in 1818, which still survives and is now a provincial historic home. The community was named after the Duke of Grafton or Grafton, Massachusetts.\n",
      "https://en.m.wikipedia.org/wiki/Grafton,_Nova_Scotia\n",
      "By renaming their town, the citizens unknowingly named their community after the 3rd Duke of Grafton, Prime Minister Lord Augustus FitzRoy, who served as the head of government for the United Kingdom 1768–1770. It is known as the childhood home of Shelly Rollo Roman, wife of Bill Roman.\n",
      "https://en.wikipedia.org/wiki/Grafton,_Virginia\n",
      "\n",
      "Q:  To what family do the gastropd mollusks Conus capitaneus and the conus natalaurantium belong?\n",
      "A:  Conidae\n",
      "Conus natalaurantius is a species of sea snail, a marine gastropod mollusk in the family Conidae, the cone snails, cone shells or cones. These snails are predatory and venomous.\n",
      "https://en.wikipedia.org/wiki/Conus_natalaurantius\n",
      "Conus capitaneus, common name the captain cone, is a species of sea snail, a marine gastropod mollusk in the family Conidae, the cone snails and their allies. Like all species within the genus Conus, these snails are predatory and venomous.\n",
      "https://en.wikipedia.org/wiki/Conus_capitaneus\n",
      "\n",
      "Q:  When did the ducal title held by the Capetians end?\n",
      "A:  It ended with the extinction of the male line in 1477.\n",
      "Under the Ancien Régime, the Duke of Burgundy was the premier lay peer of the kingdom of France. Beginning with Robert II of France, the title was held by the Capetians, the French royal family. It was granted to Robert's younger son, Robert, who founded the House of Burgundy.\n",
      "https://en.m.wikipedia.org/wiki/Duke_of_Burgundy\n",
      "The Valois Dukes of Burgundy gradually ruled over a vast complex of territories known as the Burgundian State, and became dangerous rivals to the senior line of the House of Valois. When the male line of the Valois Dukes of Burgundy became extinct in 1477, the Duchy of Burgundy was confiscated by Louis XI of France.\n",
      "https://en.wikipedia.org/wiki/Duke_of_Burgundy\n",
      "\n",
      "Q:  The largest portions of both China and Britain are referred to as what?\n",
      "A:  Mainland\n",
      "The term also excludes Hong Kong and Macau. The area highlighted in yellow is Mainland China. In the Qing Dynasty (Manchu Dynasty), all of Mainland China, Hong Kong, Macau, Taiwan, Kinmen, Matsu, the Pescadores, and Mongolia were part of the Manchu Empire.\n",
      "https://simple.m.wikipedia.org/wiki/Mainland_China\n",
      "Mainland Britain, as opposed to the many smaller islands of the United Kingdom. The largest islands within the Northern Isles are called Orkney Mainland and Shetland Mainland, respectively. Mainland New Zealand, is the two islands, the north and south islands.\n",
      "https://en.wikipedia.org/wiki/Mainland\n",
      "\n"
     ]
    }
   ],
   "source": [
    "# Randomly look at positive facts and the wikipedia pages they come from\n",
    "analyze_ids = random.sample(range(7921), 15)\n",
    "print(analyze_ids)\n",
    "for i in analyze_ids:\n",
    "    k = str(i)\n",
    "    print('Q: ', txt_dataset[k]['Q'])\n",
    "    print('A: ', txt_dataset[k]['A'])\n",
    "    for f in txt_dataset[k]['SupportingFacts']:\n",
    "        print(f['fact'])\n",
    "        print(f['url'])\n",
    "    print()"
   ]
  },
  {
   "cell_type": "markdown",
   "metadata": {},
   "source": [
    "Step 1: Question --> Identify salient spans\n",
    "\n",
    "Step 2: Spans --> Wiki pages\n",
    "\n",
    "Step 3: Wikipages --> html parsing --> paragraphs, images & their captions\n",
    "\n",
    "Step 4: Choose paragraphs with high overlap with the question **without** giving away the core answer info"
   ]
  },
  {
   "cell_type": "markdown",
   "metadata": {},
   "source": [
    "#### Step 1: Question --> Identify salient spans"
   ]
  },
  {
   "cell_type": "code",
   "execution_count": 3,
   "metadata": {},
   "outputs": [],
   "source": [
    "nlp = spacy.load('en_core_web_sm')"
   ]
  },
  {
   "cell_type": "code",
   "execution_count": 4,
   "metadata": {},
   "outputs": [],
   "source": [
    "def show_ents(doc): \n",
    "    if doc.ents: \n",
    "        for ent in doc.ents: \n",
    "            print(ent.text+' - ' +str(ent.start_char) +' - '+ str(ent.end_char) +' - '+ent.label_+ ' - '+str(spacy.explain(ent.label_))) \n",
    "    else: print('No named entities found.')"
   ]
  },
  {
   "cell_type": "code",
   "execution_count": 561,
   "metadata": {
    "collapsed": true
   },
   "outputs": [
    {
     "name": "stdout",
     "output_type": "stream",
     "text": [
      "5114\n",
      "Q:  How much higher did Take That & Party peak on the UK Albums Chart than Having a Party peaked on the Billboard Hot 100?\n",
      "A:  Take That & Party peaked 15 spots spots higher on it's respective chart.\n",
      "Released on 17 August 1992 on RCA Records, it reached number two on the UK Albums Chart and stayed in the UK Top 75 album chart for 73 weeks (one year, five months and one week). It was their only album not to reach number one until Wonderland peaked at number two in 2017.\n",
      "https://en.wikipedia.org/wiki/Take_That_%26_Party\n",
      "The song peaked at number four on Billboard 's Hot R&B Sides chart, and also charted at number 17 on the Billboard Hot 100 . \"Having a Party\", like its A-side, \"Bring It On Home to Me\", was written while Cooke was on tour for Henry Wynn.\n",
      "https://en.wikipedia.org/wiki/Having_a_Party_(song)\n",
      "\n",
      "Entities:\n",
      "Take That & Party - 20 - 37 - ORG - Companies, agencies, institutions, etc.\n",
      "UK - 50 - 52 - GPE - Countries, cities, states\n",
      "Party - 80 - 85 - ORG - Companies, agencies, institutions, etc.\n",
      "100 - 114 - 117 - CARDINAL - Numerals that do not fall under another type\n"
     ]
    },
    {
     "data": {
      "text/html": [
       "<span class=\"tex2jax_ignore\"><div class=\"entities\" style=\"line-height: 2.5; direction: ltr\">How much higher did \n",
       "<mark class=\"entity\" style=\"background: #7aecec; padding: 0.45em 0.6em; margin: 0 0.25em; line-height: 1; border-radius: 0.35em;\">\n",
       "    Take That &amp; Party\n",
       "    <span style=\"font-size: 0.8em; font-weight: bold; line-height: 1; border-radius: 0.35em; vertical-align: middle; margin-left: 0.5rem\">ORG</span>\n",
       "</mark>\n",
       " peak on the \n",
       "<mark class=\"entity\" style=\"background: #feca74; padding: 0.45em 0.6em; margin: 0 0.25em; line-height: 1; border-radius: 0.35em;\">\n",
       "    UK\n",
       "    <span style=\"font-size: 0.8em; font-weight: bold; line-height: 1; border-radius: 0.35em; vertical-align: middle; margin-left: 0.5rem\">GPE</span>\n",
       "</mark>\n",
       " Albums Chart than Having a \n",
       "<mark class=\"entity\" style=\"background: #7aecec; padding: 0.45em 0.6em; margin: 0 0.25em; line-height: 1; border-radius: 0.35em;\">\n",
       "    Party\n",
       "    <span style=\"font-size: 0.8em; font-weight: bold; line-height: 1; border-radius: 0.35em; vertical-align: middle; margin-left: 0.5rem\">ORG</span>\n",
       "</mark>\n",
       " peaked on the Billboard Hot \n",
       "<mark class=\"entity\" style=\"background: #e4e7d2; padding: 0.45em 0.6em; margin: 0 0.25em; line-height: 1; border-radius: 0.35em;\">\n",
       "    100\n",
       "    <span style=\"font-size: 0.8em; font-weight: bold; line-height: 1; border-radius: 0.35em; vertical-align: middle; margin-left: 0.5rem\">CARDINAL</span>\n",
       "</mark>\n",
       "?</div></span>"
      ],
      "text/plain": [
       "<IPython.core.display.HTML object>"
      ]
     },
     "metadata": {},
     "output_type": "display_data"
    },
    {
     "name": "stdout",
     "output_type": "stream",
     "text": [
      "['Take That & Party', 'Take That', 'List of songs recorded by Take That', 'Take That discography', 'Wonderland (Take That album)', 'Greatest Hits (Take That album)', 'Could It Be Magic', 'Take That Presents: The Circus Live', 'III (Take That album)', 'Jason Orange']\n",
      "['United Kingdom', 'Countries of the United Kingdom', '.uk', '2016 United Kingdom European Union membership referendum', 'List of political parties in the United Kingdom', 'UK garage', 'Postcodes in the United Kingdom', 'Sky UK', 'Prime Minister of the United Kingdom', 'UK Biobank']\n",
      "['Party', 'Political party', 'Labour Party (UK)', 'Republican Party (United States)', 'Political parties in the United States', 'Social Democratic Party of Germany', 'One-party state', 'Democratic Party (United States)', 'Black Panther Party', 'National Party of Australia']\n",
      "['100', '100 metres', '100%', 'Nasdaq-100', '$100', 'The 100', 'Time 100', 'Billboard Hot 100', \"List of men's footballers with 100 or more international caps\", '$100 hamburger']\n",
      " ---------------------------------------------------------------------------- \n",
      "\n",
      "5663\n",
      "Q:  What synthetic class do the steroids prednisolone acetate and methylprednisolone belong to?\n",
      "A:  They are synthetic glucocorticoids.\n",
      "Prednisolone acetate is a synthetic glucocorticoid corticosteroid and a corticosteroid ester. It is the 21- acetate ester of prednisolone. Prednisolone acetate is acutely toxic with an LD50 of >240 mg/kg for a rat and 3500 mg/kg for a mouse.\n",
      "https://en.wikipedia.org/wiki/Prednisolone_acetate\n",
      "Chemically, methylprednisolone is a synthetic pregnane steroid hormone derived from hydrocortisone and prednisolone. It belongs to a class of synthetic glucocorticoids and more generally, corticosteroids. It acts as a mineralocorticoid and glucocorticoid receptor agonist.\n",
      "https://en.wikipedia.org/wiki/Methylprednisolone\n",
      "\n",
      "Entities:\n",
      "No named entities found.\n"
     ]
    },
    {
     "name": "stderr",
     "output_type": "stream",
     "text": [
      "/home/yingshac/miniconda3/envs/py37/lib/python3.7/site-packages/spacy/displacy/__init__.py:189: UserWarning: [W006] No entities to visualize found in Doc object. If this is surprising to you, make sure the Doc was processed using a model that supports named entity recognition, and check the `doc.ents` property manually if necessary.\n",
      "  warnings.warn(Warnings.W006)\n"
     ]
    },
    {
     "data": {
      "text/html": [
       "<span class=\"tex2jax_ignore\"><div class=\"entities\" style=\"line-height: 2.5; direction: ltr\">What synthetic class do the steroids prednisolone acetate and methylprednisolone belong to?</div></span>"
      ],
      "text/plain": [
       "<IPython.core.display.HTML object>"
      ]
     },
     "metadata": {},
     "output_type": "display_data"
    },
    {
     "name": "stdout",
     "output_type": "stream",
     "text": [
      " ---------------------------------------------------------------------------- \n",
      "\n",
      "515\n",
      "Q:  What cardinal region of Hartford, Connecticut do the American soccer team Hartford City FC and University of Hartford's Hartford Hawks lie in?\n",
      "A:  In West Hartford.\n",
      "The Hartford Hawks are the NCAA Division I athletic teams of the University of Hartford, located in West Hartford, Connecticut.\n",
      "https://en.wikipedia.org/wiki/Hartford_Hawks_softball\n",
      "Hartford City FC is an American soccer team based in West Hartford, Connecticut. The team plays in the National Premier Soccer Leagues' Northeast Region, North Atlantic Conference.\n",
      "https://en.wikipedia.org/wiki/Hartford_City_FC\n",
      "\n",
      "Entities:\n",
      "Hartford - 24 - 32 - GPE - Countries, cities, states\n",
      "Connecticut - 34 - 45 - GPE - Countries, cities, states\n",
      "American - 53 - 61 - NORP - Nationalities or religious or political groups\n",
      "Hartford City FC - 74 - 90 - GPE - Countries, cities, states\n",
      "University of Hartford's - 95 - 119 - ORG - Companies, agencies, institutions, etc.\n",
      "Hartford Hawks - 120 - 134 - ORG - Companies, agencies, institutions, etc.\n"
     ]
    },
    {
     "data": {
      "text/html": [
       "<span class=\"tex2jax_ignore\"><div class=\"entities\" style=\"line-height: 2.5; direction: ltr\">What cardinal region of \n",
       "<mark class=\"entity\" style=\"background: #feca74; padding: 0.45em 0.6em; margin: 0 0.25em; line-height: 1; border-radius: 0.35em;\">\n",
       "    Hartford\n",
       "    <span style=\"font-size: 0.8em; font-weight: bold; line-height: 1; border-radius: 0.35em; vertical-align: middle; margin-left: 0.5rem\">GPE</span>\n",
       "</mark>\n",
       ", \n",
       "<mark class=\"entity\" style=\"background: #feca74; padding: 0.45em 0.6em; margin: 0 0.25em; line-height: 1; border-radius: 0.35em;\">\n",
       "    Connecticut\n",
       "    <span style=\"font-size: 0.8em; font-weight: bold; line-height: 1; border-radius: 0.35em; vertical-align: middle; margin-left: 0.5rem\">GPE</span>\n",
       "</mark>\n",
       " do the \n",
       "<mark class=\"entity\" style=\"background: #c887fb; padding: 0.45em 0.6em; margin: 0 0.25em; line-height: 1; border-radius: 0.35em;\">\n",
       "    American\n",
       "    <span style=\"font-size: 0.8em; font-weight: bold; line-height: 1; border-radius: 0.35em; vertical-align: middle; margin-left: 0.5rem\">NORP</span>\n",
       "</mark>\n",
       " soccer team \n",
       "<mark class=\"entity\" style=\"background: #feca74; padding: 0.45em 0.6em; margin: 0 0.25em; line-height: 1; border-radius: 0.35em;\">\n",
       "    Hartford City FC\n",
       "    <span style=\"font-size: 0.8em; font-weight: bold; line-height: 1; border-radius: 0.35em; vertical-align: middle; margin-left: 0.5rem\">GPE</span>\n",
       "</mark>\n",
       " and \n",
       "<mark class=\"entity\" style=\"background: #7aecec; padding: 0.45em 0.6em; margin: 0 0.25em; line-height: 1; border-radius: 0.35em;\">\n",
       "    University of Hartford's\n",
       "    <span style=\"font-size: 0.8em; font-weight: bold; line-height: 1; border-radius: 0.35em; vertical-align: middle; margin-left: 0.5rem\">ORG</span>\n",
       "</mark>\n",
       " \n",
       "<mark class=\"entity\" style=\"background: #7aecec; padding: 0.45em 0.6em; margin: 0 0.25em; line-height: 1; border-radius: 0.35em;\">\n",
       "    Hartford Hawks\n",
       "    <span style=\"font-size: 0.8em; font-weight: bold; line-height: 1; border-radius: 0.35em; vertical-align: middle; margin-left: 0.5rem\">ORG</span>\n",
       "</mark>\n",
       " lie in?</div></span>"
      ],
      "text/plain": [
       "<IPython.core.display.HTML object>"
      ]
     },
     "metadata": {},
     "output_type": "display_data"
    },
    {
     "name": "stdout",
     "output_type": "stream",
     "text": [
      "['Hartford, Connecticut', 'The Hartford', 'Hartford Whalers', 'Travelers Championship', 'Dee Hartford', 'Greater Hartford', 'Asa Hartford', 'Hartford Athletic', 'Hartford Courant', 'Eden Hartford']\n",
      "['Connecticut', 'The Haunting in Connecticut', 'Hartford, Connecticut', 'University of Connecticut', 'Connecticut River', 'List of municipalities in Connecticut', 'Bridgeport, Connecticut', 'Stamford, Connecticut', 'Sandy Hook Elementary School shooting', 'Connecticut Lakes']\n",
      "['American', 'White Americans', 'American Express', 'African Americans', 'American Airlines', 'American Samoa', 'American football', 'American Idol', 'German Americans', 'American bison']\n",
      "['Hartford City FC', 'Hartford City', 'Hartford, Connecticut', 'Hartford Athletic', 'National Premier Soccer League', 'Asa Hartford', 'Boston City FC', '2017 NPSL season', 'Al-Marzook Field at Alumni Stadium', 'New York City FC']\n",
      "['University of Hartford', 'Hartford, Connecticut', 'West Hartford, Connecticut', 'Hartford Hawks', 'University of Hartford Hartt School', 'Greater Hartford', 'John Hartford', 'Huntington Hartford', 'University of Saint Joseph (Connecticut)', 'University of Connecticut']\n",
      "['Hartford Hawks', 'Hartford Hawks baseball', 'Dee Hartford', 'University of Hartford', \"Hartford Hawks men's basketball\", 'Eden Hartford', \"Dunkin' Donuts Park\", \"Hartford Hawks men's lacrosse\", 'Alexis Triadis', 'Greater Hartford']\n",
      " ---------------------------------------------------------------------------- \n",
      "\n",
      "5274\n",
      "Q:  How do manufacturers ensure that the system that carries the graphical user interface elements works properly?\n",
      "A:  They use graphical user interface testing to test a product's graphical user interface to ensure it meets its specifications.\n",
      "In software engineering, graphical user interface testing is the process of testing a product's graphical user interface (GUI) to ensure it meets its specifications. This is normally done through the use of a variety of test cases .\n",
      "https://en.wikipedia.org/wiki/Graphical_user_interface_testing\n",
      "Graphical user interface elements are those elements used by graphical user interfaces (GUIs) to offer a consistent visual language to represent information stored in computers. These make it easier for people with few computer skills to work with and use computer software.\n",
      "https://en.wikipedia.org/wiki/List_of_graphical_user_interface_elements\n",
      "\n",
      "Entities:\n",
      "No named entities found.\n"
     ]
    },
    {
     "data": {
      "text/html": [
       "<span class=\"tex2jax_ignore\"><div class=\"entities\" style=\"line-height: 2.5; direction: ltr\">How do manufacturers ensure that the system that carries the graphical user interface elements works properly?</div></span>"
      ],
      "text/plain": [
       "<IPython.core.display.HTML object>"
      ]
     },
     "metadata": {},
     "output_type": "display_data"
    },
    {
     "name": "stdout",
     "output_type": "stream",
     "text": [
      " ---------------------------------------------------------------------------- \n",
      "\n",
      "1192\n",
      "Q:  What continents do the 31st parallel north and the 38th parallel north both cross?\n",
      "A:  Asia and North America\n",
      "The 38th parallel north is a circle of latitude that is 38 degrees north of the Earth's equatorial plane. It crosses Europe, the Mediterranean Sea, Asia, the Pacific Ocean, North America, and the Atlantic Ocean. The 38th parallel north formed the border between North and South Korea prior to the Korean War .\n",
      "https://en.wikipedia.org/wiki/38th_parallel_north\n",
      "In the United States, the 31st parallel defines part of the border between Mississippi and Louisiana, and part of the border between Alabama and Florida. The 31st parallel north is a circle of latitude that is 31 degrees north of the Earth's equatorial plane. It crosses Africa, Asia, the Pacific Ocean, North America and the Atlantic Ocean .\n",
      "https://en.wikipedia.org/wiki/31st_parallel_north\n",
      "\n",
      "Entities:\n",
      "38th - 51 - 55 - ORDINAL - \"first\", \"second\", etc.\n"
     ]
    },
    {
     "data": {
      "text/html": [
       "<span class=\"tex2jax_ignore\"><div class=\"entities\" style=\"line-height: 2.5; direction: ltr\">What continents do the 31st parallel north and the \n",
       "<mark class=\"entity\" style=\"background: #e4e7d2; padding: 0.45em 0.6em; margin: 0 0.25em; line-height: 1; border-radius: 0.35em;\">\n",
       "    38th\n",
       "    <span style=\"font-size: 0.8em; font-weight: bold; line-height: 1; border-radius: 0.35em; vertical-align: middle; margin-left: 0.5rem\">ORDINAL</span>\n",
       "</mark>\n",
       " parallel north both cross?</div></span>"
      ],
      "text/plain": [
       "<IPython.core.display.HTML object>"
      ]
     },
     "metadata": {},
     "output_type": "display_data"
    },
    {
     "name": "stdout",
     "output_type": "stream",
     "text": [
      "['38th parallel north', '38th Street gang', '38th Street (Minneapolis)', '38th Infantry Division (United States)', 'Korean War', '38th Academy Awards', '38th Infantry Regiment (United States)', '38th Regiment', '38th Filmfare Awards', '38th SS-Grenadier-Division \"Nibelungen\"']\n",
      " ---------------------------------------------------------------------------- \n",
      "\n"
     ]
    }
   ],
   "source": [
    "ids = random.sample(range(7921), 5)\n",
    "for i in ids:\n",
    "    k = str(i)\n",
    "    print(k)\n",
    "    Q = txt_dataset[k]['Q']\n",
    "    print('Q: ', Q)\n",
    "    print('A: ', txt_dataset[k]['A'])\n",
    "    for f in txt_dataset[k]['SupportingFacts']:\n",
    "        print(f['fact'])\n",
    "        print(f['url'])\n",
    "    print(\"\\nEntities:\")\n",
    "    doc = nlp(Q)\n",
    "    show_ents(doc)\n",
    "    if doc.ents: displacy.render(doc, style='ent', jupyter=True)\n",
    "    for e in doc.ents:\n",
    "        print(wikipedia.search(e.text))\n",
    "    print(\" ---------------------------------------------------------------------------- \\n\")"
   ]
  },
  {
   "cell_type": "code",
   "execution_count": 574,
   "metadata": {
    "collapsed": true
   },
   "outputs": [
    {
     "name": "stdout",
     "output_type": "stream",
     "text": [
      "Q:  What commercially viable rock could you find near St., Thomas Mount?\n",
      "https://en.wikipedia.org/wiki/St._Thomas_Mount\n",
      "St. Thomas Mount\n",
      "https://en.wikipedia.org/wiki/Stones_of_India\n",
      "Stones of India\n"
     ]
    },
    {
     "data": {
      "text/html": [
       "<span class=\"tex2jax_ignore\"><div class=\"entities\" style=\"line-height: 2.5; direction: ltr\">What commercially viable rock could you find near \n",
       "<mark class=\"entity\" style=\"background: #feca74; padding: 0.45em 0.6em; margin: 0 0.25em; line-height: 1; border-radius: 0.35em;\">\n",
       "    St.\n",
       "    <span style=\"font-size: 0.8em; font-weight: bold; line-height: 1; border-radius: 0.35em; vertical-align: middle; margin-left: 0.5rem\">GPE</span>\n",
       "</mark>\n",
       ", \n",
       "<mark class=\"entity\" style=\"background: #aa9cfc; padding: 0.45em 0.6em; margin: 0 0.25em; line-height: 1; border-radius: 0.35em;\">\n",
       "    Thomas Mount\n",
       "    <span style=\"font-size: 0.8em; font-weight: bold; line-height: 1; border-radius: 0.35em; vertical-align: middle; margin-left: 0.5rem\">PERSON</span>\n",
       "</mark>\n",
       "?</div></span>"
      ],
      "text/plain": [
       "<IPython.core.display.HTML object>"
      ]
     },
     "metadata": {},
     "output_type": "display_data"
    },
    {
     "name": "stdout",
     "output_type": "stream",
     "text": [
      " ---------------------------------------------------------------------------- \n",
      "\n",
      "Q:  Which partner in the Byzantine–Venetian Treaty of 1082 had the statues of a pair of armored late Roman emperors embracing each other last?\n",
      "https://en.wikipedia.org/wiki/Ionian_Islands_under_Venetian_rule\n",
      "Ionian Islands under Venetian rule\n",
      "https://en.wikipedia.org/wiki/Portrait_of_the_Four_Tetrarchs\n",
      "Portrait of the Four Tetrarchs\n"
     ]
    },
    {
     "data": {
      "text/html": [
       "<span class=\"tex2jax_ignore\"><div class=\"entities\" style=\"line-height: 2.5; direction: ltr\">Which partner in the \n",
       "<mark class=\"entity\" style=\"background: #c887fb; padding: 0.45em 0.6em; margin: 0 0.25em; line-height: 1; border-radius: 0.35em;\">\n",
       "    Byzantine\n",
       "    <span style=\"font-size: 0.8em; font-weight: bold; line-height: 1; border-radius: 0.35em; vertical-align: middle; margin-left: 0.5rem\">NORP</span>\n",
       "</mark>\n",
       "–Venetian Treaty of \n",
       "<mark class=\"entity\" style=\"background: #bfe1d9; padding: 0.45em 0.6em; margin: 0 0.25em; line-height: 1; border-radius: 0.35em;\">\n",
       "    1082\n",
       "    <span style=\"font-size: 0.8em; font-weight: bold; line-height: 1; border-radius: 0.35em; vertical-align: middle; margin-left: 0.5rem\">DATE</span>\n",
       "</mark>\n",
       " had the statues of a pair of armored late Roman emperors embracing each other last?</div></span>"
      ],
      "text/plain": [
       "<IPython.core.display.HTML object>"
      ]
     },
     "metadata": {},
     "output_type": "display_data"
    },
    {
     "name": "stdout",
     "output_type": "stream",
     "text": [
      " ---------------------------------------------------------------------------- \n",
      "\n",
      "Q:  What was the name of the deceased Desperate Housewives character that was friends with both the character who was originally planned to be interested in Orson Hodge and the character who ends up being interested in Orson?\n",
      "https://en.wikipedia.org/wiki/Acquaintances_of_Gabrielle_Solis\n",
      "Acquaintances of Gabrielle Solis\n",
      "https://en.m.wikipedia.org/wiki/Paul_Young_(Desperate_Housewives)\n",
      "Paul Young (Desperate Housewives)\n",
      "https://en.wikipedia.org/wiki/Orson_Hodge_(Desperate_Housewives)\n",
      "Orson Hodge (Desperate Housewives)\n"
     ]
    },
    {
     "data": {
      "text/html": [
       "<span class=\"tex2jax_ignore\"><div class=\"entities\" style=\"line-height: 2.5; direction: ltr\">What was the name of the deceased \n",
       "<mark class=\"entity\" style=\"background: #7aecec; padding: 0.45em 0.6em; margin: 0 0.25em; line-height: 1; border-radius: 0.35em;\">\n",
       "    Desperate Housewives\n",
       "    <span style=\"font-size: 0.8em; font-weight: bold; line-height: 1; border-radius: 0.35em; vertical-align: middle; margin-left: 0.5rem\">ORG</span>\n",
       "</mark>\n",
       " character that was friends with both the character who was originally planned to be interested in \n",
       "<mark class=\"entity\" style=\"background: #aa9cfc; padding: 0.45em 0.6em; margin: 0 0.25em; line-height: 1; border-radius: 0.35em;\">\n",
       "    Orson Hodge\n",
       "    <span style=\"font-size: 0.8em; font-weight: bold; line-height: 1; border-radius: 0.35em; vertical-align: middle; margin-left: 0.5rem\">PERSON</span>\n",
       "</mark>\n",
       " and the character who ends up being interested in \n",
       "<mark class=\"entity\" style=\"background: #aa9cfc; padding: 0.45em 0.6em; margin: 0 0.25em; line-height: 1; border-radius: 0.35em;\">\n",
       "    Orson\n",
       "    <span style=\"font-size: 0.8em; font-weight: bold; line-height: 1; border-radius: 0.35em; vertical-align: middle; margin-left: 0.5rem\">PERSON</span>\n",
       "</mark>\n",
       "?</div></span>"
      ],
      "text/plain": [
       "<IPython.core.display.HTML object>"
      ]
     },
     "metadata": {},
     "output_type": "display_data"
    },
    {
     "name": "stdout",
     "output_type": "stream",
     "text": [
      " ---------------------------------------------------------------------------- \n",
      "\n",
      "Q:  Were Cerdanya and Urgell still united when Wilfred was Count of Cerdanya?\n",
      "https://en.wikipedia.org/wiki/County_of_Cerdanya\n",
      "County of Cerdanya\n",
      "https://en.wikipedia.org/wiki/Wifred_II,_Count_of_Cerdanya\n",
      "Wifred II, Count of Cerdanya\n"
     ]
    },
    {
     "data": {
      "text/html": [
       "<span class=\"tex2jax_ignore\"><div class=\"entities\" style=\"line-height: 2.5; direction: ltr\">Were \n",
       "<mark class=\"entity\" style=\"background: #feca74; padding: 0.45em 0.6em; margin: 0 0.25em; line-height: 1; border-radius: 0.35em;\">\n",
       "    Cerdanya\n",
       "    <span style=\"font-size: 0.8em; font-weight: bold; line-height: 1; border-radius: 0.35em; vertical-align: middle; margin-left: 0.5rem\">GPE</span>\n",
       "</mark>\n",
       " and \n",
       "<mark class=\"entity\" style=\"background: #7aecec; padding: 0.45em 0.6em; margin: 0 0.25em; line-height: 1; border-radius: 0.35em;\">\n",
       "    Urgell\n",
       "    <span style=\"font-size: 0.8em; font-weight: bold; line-height: 1; border-radius: 0.35em; vertical-align: middle; margin-left: 0.5rem\">ORG</span>\n",
       "</mark>\n",
       " still united when \n",
       "<mark class=\"entity\" style=\"background: #7aecec; padding: 0.45em 0.6em; margin: 0 0.25em; line-height: 1; border-radius: 0.35em;\">\n",
       "    Wilfred\n",
       "    <span style=\"font-size: 0.8em; font-weight: bold; line-height: 1; border-radius: 0.35em; vertical-align: middle; margin-left: 0.5rem\">ORG</span>\n",
       "</mark>\n",
       " was Count of \n",
       "<mark class=\"entity\" style=\"background: #feca74; padding: 0.45em 0.6em; margin: 0 0.25em; line-height: 1; border-radius: 0.35em;\">\n",
       "    Cerdanya\n",
       "    <span style=\"font-size: 0.8em; font-weight: bold; line-height: 1; border-radius: 0.35em; vertical-align: middle; margin-left: 0.5rem\">GPE</span>\n",
       "</mark>\n",
       "?</div></span>"
      ],
      "text/plain": [
       "<IPython.core.display.HTML object>"
      ]
     },
     "metadata": {},
     "output_type": "display_data"
    },
    {
     "name": "stdout",
     "output_type": "stream",
     "text": [
      " ---------------------------------------------------------------------------- \n",
      "\n",
      "Q:  Were there the same number of laps in both the 1961 and 1963 Syracuse Grand Prix?\n",
      "https://en.wikipedia.org/wiki/1963_Syracuse_Grand_Prix\n",
      "1963 Syracuse Grand Prix\n",
      "https://en.wikipedia.org/wiki/1961_Syracuse_Grand_Prix\n",
      "1961 Syracuse Grand Prix\n"
     ]
    },
    {
     "data": {
      "text/html": [
       "<span class=\"tex2jax_ignore\"><div class=\"entities\" style=\"line-height: 2.5; direction: ltr\">Were there the same number of laps in both the \n",
       "<mark class=\"entity\" style=\"background: #bfe1d9; padding: 0.45em 0.6em; margin: 0 0.25em; line-height: 1; border-radius: 0.35em;\">\n",
       "    1961\n",
       "    <span style=\"font-size: 0.8em; font-weight: bold; line-height: 1; border-radius: 0.35em; vertical-align: middle; margin-left: 0.5rem\">DATE</span>\n",
       "</mark>\n",
       " and \n",
       "<mark class=\"entity\" style=\"background: #bfe1d9; padding: 0.45em 0.6em; margin: 0 0.25em; line-height: 1; border-radius: 0.35em;\">\n",
       "    1963\n",
       "    <span style=\"font-size: 0.8em; font-weight: bold; line-height: 1; border-radius: 0.35em; vertical-align: middle; margin-left: 0.5rem\">DATE</span>\n",
       "</mark>\n",
       " \n",
       "<mark class=\"entity\" style=\"background: #ffeb80; padding: 0.45em 0.6em; margin: 0 0.25em; line-height: 1; border-radius: 0.35em;\">\n",
       "    Syracuse Grand Prix\n",
       "    <span style=\"font-size: 0.8em; font-weight: bold; line-height: 1; border-radius: 0.35em; vertical-align: middle; margin-left: 0.5rem\">EVENT</span>\n",
       "</mark>\n",
       "?</div></span>"
      ],
      "text/plain": [
       "<IPython.core.display.HTML object>"
      ]
     },
     "metadata": {},
     "output_type": "display_data"
    },
    {
     "name": "stdout",
     "output_type": "stream",
     "text": [
      " ---------------------------------------------------------------------------- \n",
      "\n",
      "Q:  A passage grave was a type of grave used primarily in which of the time periods in which Entrance graves were used?\n",
      "https://en.wikipedia.org/wiki/Passage_grave\n",
      "Passage grave\n",
      "https://en.wikipedia.org/wiki/Entrance_grave\n",
      "Entrance grave\n"
     ]
    },
    {
     "data": {
      "text/html": [
       "<span class=\"tex2jax_ignore\"><div class=\"entities\" style=\"line-height: 2.5; direction: ltr\">A passage grave was a type of grave used primarily in which of the time periods in which \n",
       "<mark class=\"entity\" style=\"background: #7aecec; padding: 0.45em 0.6em; margin: 0 0.25em; line-height: 1; border-radius: 0.35em;\">\n",
       "    Entrance\n",
       "    <span style=\"font-size: 0.8em; font-weight: bold; line-height: 1; border-radius: 0.35em; vertical-align: middle; margin-left: 0.5rem\">ORG</span>\n",
       "</mark>\n",
       " graves were used?</div></span>"
      ],
      "text/plain": [
       "<IPython.core.display.HTML object>"
      ]
     },
     "metadata": {},
     "output_type": "display_data"
    },
    {
     "name": "stdout",
     "output_type": "stream",
     "text": [
      " ---------------------------------------------------------------------------- \n",
      "\n",
      "Q:  How many years were there between the earliest known football match involving a women's French team and the suspension of the Ligue 1 season for COVID?\n",
      "https://en.wikipedia.org/wiki/2019%E2%80%9320_Ligue_1\n",
      "2019%E2%80%9320 Ligue 1\n",
      "https://en.wikipedia.org/wiki/Women%27s_football_in_France\n",
      "Women%27s football in France\n"
     ]
    },
    {
     "data": {
      "text/html": [
       "<span class=\"tex2jax_ignore\"><div class=\"entities\" style=\"line-height: 2.5; direction: ltr\">How many years were there between the earliest known football match involving a women's \n",
       "<mark class=\"entity\" style=\"background: #c887fb; padding: 0.45em 0.6em; margin: 0 0.25em; line-height: 1; border-radius: 0.35em;\">\n",
       "    French\n",
       "    <span style=\"font-size: 0.8em; font-weight: bold; line-height: 1; border-radius: 0.35em; vertical-align: middle; margin-left: 0.5rem\">NORP</span>\n",
       "</mark>\n",
       " team and the suspension of the Ligue 1 season for COVID?</div></span>"
      ],
      "text/plain": [
       "<IPython.core.display.HTML object>"
      ]
     },
     "metadata": {},
     "output_type": "display_data"
    },
    {
     "name": "stdout",
     "output_type": "stream",
     "text": [
      " ---------------------------------------------------------------------------- \n",
      "\n",
      "Q:  Is the Accomodation reflex related to Horner's syndrome?\n",
      "https://en.wikipedia.org/wiki/Horner%27s_syndrome\n",
      "Horner%27s syndrome\n",
      "https://en.wikipedia.org/wiki/Accommodation_reflex\n",
      "Accommodation reflex\n"
     ]
    },
    {
     "data": {
      "text/html": [
       "<span class=\"tex2jax_ignore\"><div class=\"entities\" style=\"line-height: 2.5; direction: ltr\">Is the Accomodation reflex related to \n",
       "<mark class=\"entity\" style=\"background: #aa9cfc; padding: 0.45em 0.6em; margin: 0 0.25em; line-height: 1; border-radius: 0.35em;\">\n",
       "    Horner\n",
       "    <span style=\"font-size: 0.8em; font-weight: bold; line-height: 1; border-radius: 0.35em; vertical-align: middle; margin-left: 0.5rem\">PERSON</span>\n",
       "</mark>\n",
       "'s syndrome?</div></span>"
      ],
      "text/plain": [
       "<IPython.core.display.HTML object>"
      ]
     },
     "metadata": {},
     "output_type": "display_data"
    },
    {
     "name": "stdout",
     "output_type": "stream",
     "text": [
      " ---------------------------------------------------------------------------- \n",
      "\n"
     ]
    }
   ],
   "source": [
    "ids = random.sample(range(7921), 8)\n",
    "for i in ids:\n",
    "    k = str(i)\n",
    "    Q = txt_dataset[k]['Q']\n",
    "    print('Q: ', Q)\n",
    "    for f in txt_dataset[k]['SupportingFacts']:\n",
    "        print(f['url'])\n",
    "        print(\" \".join(f['url'].split('/')[-1].split(\"_\")))\n",
    "    doc = nlp(Q)\n",
    "    if doc.ents: displacy.render(doc, style='ent', jupyter=True)\n",
    "    else: print(\"No entities found\")\n",
    "    print(\" ---------------------------------------------------------------------------- \\n\")"
   ]
  },
  {
   "cell_type": "markdown",
   "metadata": {},
   "source": [
    "Cases where NER fails:\n",
    "Which party controlled the **Senate** and the Presidency after the **1854** elections? But I need \"1854 elections\" / \"1854 Senate\"\n",
    "On which body part are hoods and almuces worn? No entities found But I need \"hoods\" / \"almuces\"\n",
    "Which caused more death; **Nazi Crimes** against the **Polish** nation or **Masterplan** album? But I need \"Nazi Crimes against the Polist nation\" / \"Masterplan album\"\n",
    "What type of plant is both the Eucalyptus tereticornis and the **Corymbia** cadophora? But I need \"Eucalyptus tereticornis\" / \"Corymbia cadophora\""
   ]
  },
  {
   "cell_type": "code",
   "execution_count": 5,
   "metadata": {},
   "outputs": [],
   "source": [
    "USER_AGENT_LIST = [\n",
    "            \"Mozilla/4.0 (compatible; MSIE 6.0; Windows NT 5.1; SV1; AcooBrowser; .NET CLR 1.1.4322; .NET CLR 2.0.50727)\",\n",
    "            \"Mozilla/4.0 (compatible; MSIE 7.0; Windows NT 6.0; Acoo Browser; SLCC1; .NET CLR 2.0.50727; Media Center PC 5.0; .NET CLR 3.0.04506)\",\n",
    "            \"Mozilla/4.0 (compatible; MSIE 7.0; AOL 9.5; AOLBuild 4337.35; Windows NT 5.1; .NET CLR 1.1.4322; .NET CLR 2.0.50727)\",\n",
    "            \"Mozilla/5.0 (Windows; U; MSIE 9.0; Windows NT 9.0; en-US)\",\n",
    "            \"Mozilla/5.0 (compatible; MSIE 9.0; Windows NT 6.1; Win64; x64; Trident/5.0; .NET CLR 3.5.30729; .NET CLR 3.0.30729; .NET CLR 2.0.50727; Media Center PC 6.0)\",\n",
    "            \"Mozilla/5.0 (compatible; MSIE 8.0; Windows NT 6.0; Trident/4.0; WOW64; Trident/4.0; SLCC2; .NET CLR 2.0.50727; .NET CLR 3.5.30729; .NET CLR 3.0.30729; .NET CLR 1.0.3705; .NET CLR 1.1.4322)\",\n",
    "            \"Mozilla/4.0 (compatible; MSIE 7.0b; Windows NT 5.2; .NET CLR 1.1.4322; .NET CLR 2.0.50727; InfoPath.2; .NET CLR 3.0.04506.30)\",\n",
    "            \"Mozilla/5.0 (Windows; U; Windows NT 5.1; zh-CN) AppleWebKit/523.15 (KHTML, like Gecko, Safari/419.3) Arora/0.3 (Change: 287 c9dfb30)\",\n",
    "            \"Mozilla/5.0 (X11; U; Linux; en-US) AppleWebKit/527+ (KHTML, like Gecko, Safari/419.3) Arora/0.6\",\n",
    "            \"Mozilla/5.0 (Windows; U; Windows NT 5.1; en-US; rv:1.8.1.2pre) Gecko/20070215 K-Ninja/2.1.1\",\n",
    "            \"Mozilla/5.0 (Windows; U; Windows NT 5.1; zh-CN; rv:1.9) Gecko/20080705 Firefox/3.0 Kapiko/3.0\",\n",
    "            \"Mozilla/5.0 (X11; Linux i686; U;) Gecko/20070322 Kazehakase/0.4.5\",\n",
    "            \"Mozilla/5.0 (X11; U; Linux i686; en-US; rv:1.9.0.8) Gecko Fedora/1.9.0.8-1.fc10 Kazehakase/0.5.6\",\n",
    "            \"Mozilla/5.0 (Windows NT 6.1; WOW64) AppleWebKit/535.11 (KHTML, like Gecko) Chrome/17.0.963.56 Safari/535.11\",\n",
    "            \"Mozilla/5.0 (Macintosh; Intel Mac OS X 10_7_3) AppleWebKit/535.20 (KHTML, like Gecko) Chrome/19.0.1036.7 Safari/535.20\",\n",
    "            \"Opera/9.80 (Macintosh; Intel Mac OS X 10.6.8; U; fr) Presto/2.9.168 Version/11.52\",\n",
    "            \"Mozilla/5.0 (Windows NT 6.1; WOW64) AppleWebKit/536.11 (KHTML, like Gecko) Chrome/20.0.1132.11 TaoBrowser/2.0 Safari/536.11\",\n",
    "            \"Mozilla/5.0 (Windows NT 6.1; WOW64) AppleWebKit/537.1 (KHTML, like Gecko) Chrome/21.0.1180.71 Safari/537.1 LBBROWSER\",\n",
    "            \"Mozilla/5.0 (compatible; MSIE 9.0; Windows NT 6.1; WOW64; Trident/5.0; SLCC2; .NET CLR 2.0.50727; .NET CLR 3.5.30729; .NET CLR 3.0.30729; Media Center PC 6.0; .NET4.0C; .NET4.0E; LBBROWSER)\",\n",
    "            \"Mozilla/4.0 (compatible; MSIE 6.0; Windows NT 5.1; SV1; QQDownload 732; .NET4.0C; .NET4.0E; LBBROWSER)\",\n",
    "            \"Mozilla/5.0 (Windows NT 6.1; WOW64) AppleWebKit/535.11 (KHTML, like Gecko) Chrome/17.0.963.84 Safari/535.11 LBBROWSER\",\n",
    "            \"Mozilla/4.0 (compatible; MSIE 7.0; Windows NT 6.1; WOW64; Trident/5.0; SLCC2; .NET CLR 2.0.50727; .NET CLR 3.5.30729; .NET CLR 3.0.30729; Media Center PC 6.0; .NET4.0C; .NET4.0E)\",\n",
    "            \"Mozilla/5.0 (compatible; MSIE 9.0; Windows NT 6.1; WOW64; Trident/5.0; SLCC2; .NET CLR 2.0.50727; .NET CLR 3.5.30729; .NET CLR 3.0.30729; Media Center PC 6.0; .NET4.0C; .NET4.0E; QQBrowser/7.0.3698.400)\",\n",
    "            \"Mozilla/4.0 (compatible; MSIE 6.0; Windows NT 5.1; SV1; QQDownload 732; .NET4.0C; .NET4.0E)\",\n",
    "            \"Mozilla/4.0 (compatible; MSIE 7.0; Windows NT 5.1; Trident/4.0; SV1; QQDownload 732; .NET4.0C; .NET4.0E; 360SE)\",\n",
    "            \"Mozilla/4.0 (compatible; MSIE 6.0; Windows NT 5.1; SV1; QQDownload 732; .NET4.0C; .NET4.0E)\",\n",
    "            \"Mozilla/4.0 (compatible; MSIE 7.0; Windows NT 6.1; WOW64; Trident/5.0; SLCC2; .NET CLR 2.0.50727; .NET CLR 3.5.30729; .NET CLR 3.0.30729; Media Center PC 6.0; .NET4.0C; .NET4.0E)\",\n",
    "            \"Mozilla/5.0 (Windows NT 5.1) AppleWebKit/537.1 (KHTML, like Gecko) Chrome/21.0.1180.89 Safari/537.1\",\n",
    "            \"Mozilla/5.0 (Windows NT 6.1; WOW64) AppleWebKit/537.1 (KHTML, like Gecko) Chrome/21.0.1180.89 Safari/537.1\",\n",
    "            \"Mozilla/5.0 (iPad; U; CPU OS 4_2_1 like Mac OS X; zh-cn) AppleWebKit/533.17.9 (KHTML, like Gecko) Version/5.0.2 Mobile/8C148 Safari/6533.18.5\",\n",
    "            \"Mozilla/5.0 (Windows NT 6.1; Win64; x64; rv:2.0b13pre) Gecko/20110307 Firefox/4.0b13pre\",\n",
    "            \"Mozilla/5.0 (X11; Ubuntu; Linux x86_64; rv:16.0) Gecko/20100101 Firefox/16.0\",\n",
    "            \"Mozilla/5.0 (Windows NT 6.1; WOW64) AppleWebKit/537.11 (KHTML, like Gecko) Chrome/23.0.1271.64 Safari/537.11\",\n",
    "            \"Mozilla/5.0 (X11; U; Linux x86_64; zh-CN; rv:1.9.2.10) Gecko/20100922 Ubuntu/10.10 (maverick) Firefox/3.6.10\",\n",
    "            \"Mozilla/5.0 (Windows NT 10.0; Win64; x64) AppleWebKit/537.36 (KHTML, like Gecko) Chrome/58.0.3029.110 Safari/537.36\",\n",
    "        ]"
   ]
  },
  {
   "cell_type": "code",
   "execution_count": 6,
   "metadata": {},
   "outputs": [],
   "source": [
    "url_blocklist = ['seal', 'sign ', 'pdf', 'gif', 'icon', 'notice', 'cartoon', 'publish', 'menu', 'logo', 'svg', 'webm', 'page', \\\n",
    "                     'ogg', 'flickr', 'poster', 'ogv', 'banner', 'tif', 'montage', 'centralautologin', 'footer']"
   ]
  },
  {
   "cell_type": "code",
   "execution_count": 7,
   "metadata": {},
   "outputs": [],
   "source": [
    "def get_page_categories(title):\n",
    "    url = 'https://en.wikipedia.org/w/api.php?format=xml&action=query&prop=categories&titles='+urllib.parse.quote(title)\n",
    "    req = urllib.request.Request(url, headers = {'User-Agent': random.choice(USER_AGENT_LIST)})\n",
    "    with urllib.request.urlopen(req) as f:\n",
    "        xml = f.read().decode('utf-8')\n",
    "    soup= BeautifulSoup(xml,\"lxml-xml\")\n",
    "    tags = soup.find('categories')\n",
    "    if tags is None: return []\n",
    "    categories = [c.get('title').replace(\"Category:\", \"\") for c in tags]\n",
    "    return categories\n"
   ]
  },
  {
   "cell_type": "code",
   "execution_count": 8,
   "metadata": {},
   "outputs": [],
   "source": [
    "def is_disambiguation_page(url):\n",
    "    title = url.split('/')[-1]\n",
    "    return 'disambiguation' in \" \".join(get_page_categories(title))"
   ]
  },
  {
   "cell_type": "code",
   "execution_count": 691,
   "metadata": {
    "collapsed": true
   },
   "outputs": [
    {
     "name": "stdout",
     "output_type": "stream",
     "text": [
      "Q =  According to the French-inspired Arthurian romance tradition, who is the father of the character who was given a name by Chrétien involving a lake?\n",
      "title =  Snake\n",
      "Q =  According to the French-inspired Arthurian romance tradition, who is the father of the character who was given a name by Chrétien involving a lake?\n",
      "title =  Snake\n",
      "30\n",
      "{'https://en.wikipedia.org/wiki/Lancelot',\n",
      " 'https://en.wikipedia.org/wiki/Lancelot_of_the_Lake',\n",
      " 'https://en.wikipedia.org/wiki/Snake'}\n",
      "Q =  Which kind of tensor makes it possible to define several geometric notions on it and is present with a positive-definite metric tensor?\n",
      "title =  Snake\n",
      "Q =  Which kind of tensor makes it possible to define several geometric notions on it and is present with a positive-definite metric tensor?\n",
      "title =  Snake\n",
      "90\n",
      "{'https://en.wikipedia.org/wiki/Metric_tensor',\n",
      " 'https://en.wikipedia.org/wiki/Riemannian_metric',\n",
      " 'https://en.wikipedia.org/wiki/Snake'}\n",
      "Q =  Who was being addressed in the oldest known example of the language spoken by the Diffa Arabs?\n",
      "title =  Aymara language\n",
      "Q =  Who was being addressed in the oldest known example of the language spoken by the Diffa Arabs?\n",
      "title =  Aymara language\n",
      "100\n",
      "{'https://en.wikipedia.org/wiki/Aymara_language',\n",
      " 'https://en.wikipedia.org/wiki/List_of_countries_where_Arabic_is_an_official_language',\n",
      " 'https://en.wikipedia.org/wiki/Old_Arabic'}\n",
      "Q =  What type of ship building technique might have been used to make quadriremes?\n",
      "title =  Snake\n",
      "Q =  What type of ship building technique might have been used to make quadriremes?\n",
      "title =  Snake\n",
      "489\n",
      "{'https://en.m.wikipedia.org/wiki/Trireme',\n",
      " 'https://en.wikipedia.org/wiki/Ancient_shipbuilding_techniques',\n",
      " 'https://en.wikipedia.org/wiki/Snake'}\n",
      "Q =  What material can you make by using an element with an atomic number of 30 and alloying elements of magnesium, aluminium, and copper?\n",
      "title =  Snake\n",
      "Q =  What material can you make by using an element with an atomic number of 30 and alloying elements of magnesium, aluminium, and copper?\n",
      "title =  Snake\n",
      "820\n",
      "{'https://en.wikipedia.org/wiki/Snake',\n",
      " 'https://en.wikipedia.org/wiki/Zamak',\n",
      " 'https://en.wikipedia.org/wiki/Zinc'}\n",
      "Q =  In the Italian language, what letter is never marked with an acute accent that would typically be added above a vowel to show how to say it?\n",
      "title =  Quechuan languages\n",
      "Q =  In the Italian language, what letter is never marked with an acute accent that would typically be added above a vowel to show how to say it?\n",
      "title =  Aymara language\n",
      "Q =  In the Italian language, what letter is never marked with an acute accent that would typically be added above a vowel to show how to say it?\n",
      "title =  Quechuan languages\n",
      "Q =  In the Italian language, what letter is never marked with an acute accent that would typically be added above a vowel to show how to say it?\n",
      "title =  Aymara language\n",
      "1088\n",
      "{'https://en.wikipedia.org/wiki/Acute_accent',\n",
      " 'https://en.wikipedia.org/wiki/Aymara_language',\n",
      " 'https://en.wikipedia.org/wiki/Quechuan_languages',\n",
      " 'https://simple.wikipedia.org/wiki/Acute_accent'}\n",
      "Q =  Which state was bordered by the north and east by Massachusetts had more slaves taken through it in the 1700s?\n",
      "title =  Snake\n",
      "Q =  Which state was bordered by the north and east by Massachusetts had more slaves taken through it in the 1700s?\n",
      "title =  Snake\n",
      "1166\n",
      "{'https://en.wikipedia.org/wiki/Snake',\n",
      " 'https://simple.wikipedia.org/wiki/Rhode_Island',\n",
      " 'https://simple.wikipedia.org/wiki/Rhode_island_colony'}\n",
      "Q =  Are Herpestinae and Herpestidids found primarily in the same region?\n",
      "text =  serpent\n",
      "Q =  Are Herpestinae and Herpestidids found primarily in the same region?\n",
      "text =  serpent\n",
      "1224\n",
      "{'https://en.wikipedia.org/wiki/List_of_herpestidids',\n",
      " 'https://en.wikipedia.org/wiki/Mongoose',\n",
      " 'https://en.wikipedia.org/wiki/Snake'}\n",
      "Q =  Was John Oliver ever considered as the person to take over David Letterman's job by the chairman of CBS Entertainment?\n",
      "title =  Snake\n",
      "Q =  Was John Oliver ever considered as the person to take over David Letterman's job by the chairman of CBS Entertainment?\n",
      "title =  Snake\n",
      "1244\n",
      "{'https://en.wikipedia.org/wiki/Snake',\n",
      " 'https://www.hollywoodreporter.com/news/cbs-approached-john-oliver-late-693587',\n",
      " 'https://www.hollywoodreporter.com/news/craig-ferguson-replacement-wont-be-699948'}\n",
      "Q =  Who was the Pharaoh that was a relief on the wall in an Amun at el-Hibeh temple that also defeated a Bedouin incursion after surprising the enemy at the shores of the Bitter Lakes?\n",
      "title =  Snake\n",
      "Q =  Who was the Pharaoh that was a relief on the wall in an Amun at el-Hibeh temple that also defeated a Bedouin incursion after surprising the enemy at the shores of the Bitter Lakes?\n",
      "title =  Snake\n",
      "1362\n",
      "{'https://en.wikipedia.org/wiki/List_of_battles_(geographic)',\n",
      " 'https://en.wikipedia.org/wiki/Shishak',\n",
      " 'https://en.wikipedia.org/wiki/Snake'}\n",
      "Q =  How many years after first rising to the Presidency did PInochet take office for an eight-year term?\n",
      "title =  Snake\n",
      "Q =  How many years after first rising to the Presidency did PInochet take office for an eight-year term?\n",
      "title =  Snake\n",
      "1962\n",
      "{'https://en.wikipedia.org/wiki/1973_Chilean_coup_d%27%C3%A9tat',\n",
      " 'https://en.wikipedia.org/wiki/1988_Chilean_national_plebiscite',\n",
      " 'https://en.wikipedia.org/wiki/Snake'}\n",
      "Q =  The Delaware River and the the Snake River both run through how many different states?\n",
      "title =  Snake\n",
      "Q =  The Delaware River and the the Snake River both run through how many different states?\n",
      "title =  Snake\n",
      "2042\n",
      "{'https://en.wikipedia.org/wiki/Delaware_River',\n",
      " 'https://en.wikipedia.org/wiki/Snake',\n",
      " 'https://en.wikipedia.org/wiki/Snake_River'}\n",
      "Q =  How many years after Tino da Camaino helped King Robert of Naples enlarge the fortress, did Alfonso V of Aragon completely rebuild his castle court?\n",
      "title =  Dragon\n",
      "Q =  How many years after Tino da Camaino helped King Robert of Naples enlarge the fortress, did Alfonso V of Aragon completely rebuild his castle court?\n",
      "title =  Dragon\n",
      "2463\n",
      "{'https://en.m.wikipedia.org/wiki/Castel_Nuovo',\n",
      " 'https://en.m.wikipedia.org/wiki/Castel_Sant%27Elmo',\n",
      " 'https://en.wikipedia.org/wiki/Dragon'}\n",
      "Q =  Which could make something more purple; Sodium dithionite or Sodium thiosulfate?\n",
      "title =  Snake\n",
      "Q =  Which could make something more purple; Sodium dithionite or Sodium thiosulfate?\n",
      "title =  Snake\n",
      "Q =  Which could make something more purple; Sodium dithionite or Sodium thiosulfate?\n",
      "title =  Snake\n",
      "Q =  Which could make something more purple; Sodium dithionite or Sodium thiosulfate?\n",
      "title =  Snake\n",
      "Q =  Where do the Chinese dragon and the pixiu both originate?\n",
      "title =  Dragon\n",
      "Q =  Where do the Chinese dragon and the pixiu both originate?\n",
      "title =  Dragon\n",
      "3735\n",
      "{'https://en.wikipedia.org/wiki/Chinese_dragon',\n",
      " 'https://en.wikipedia.org/wiki/Dragon',\n",
      " 'https://en.wikipedia.org/wiki/Pixiu'}\n",
      "Q =  Which colors are shared by the Trimeresurus gumprechti and Trimeresurus sumatranus snake species?\n",
      "title =  Snake\n",
      "Q =  Which colors are shared by the Trimeresurus gumprechti and Trimeresurus sumatranus snake species?\n",
      "title =  Snake\n",
      "4335\n",
      "{'https://en.wikipedia.org/wiki/Snake',\n",
      " 'https://en.wikipedia.org/wiki/Trimeresurus_gumprechti',\n",
      " 'https://en.wikipedia.org/wiki/Trimeresurus_sumatranus'}\n",
      "Q =  Is the first king of the Polish state as founded in 1025 remembered with the same honorific as the legendary founder of the Xia Dynasty?\n",
      "title =  Legendary creature\n",
      "Q =  Is the first king of the Polish state as founded in 1025 remembered with the same honorific as the legendary founder of the Xia Dynasty?\n",
      "title =  Legendary creature\n",
      "4846\n",
      "{'https://en.wikipedia.org/wiki/Legendary_creature',\n",
      " 'https://en.wikipedia.org/wiki/List_of_Polish_monarchs',\n",
      " 'https://en.wikipedia.org/wiki/Shia_Dynasty'}\n",
      "Q =  Which of the Seven Wonders of the Ancient World is partially named after the Greek word that means \"wheat cake\"?\n",
      "title =  Snake\n",
      "Q =  Which of the Seven Wonders of the Ancient World is partially named after the Greek word that means \"wheat cake\"?\n",
      "title =  Snake\n",
      "4892\n",
      "{'https://en.wikipedia.org/wiki/Great_Pyramid_at_Giza',\n",
      " 'https://en.wikipedia.org/wiki/Snake',\n",
      " 'https://simple.wikipedia.org/wiki/Pyramid'}\n",
      "Q =  Were Command rank flags to denote the commander-in-chief of the English fleet used prior to or after the Rising Sun Ensign became a major symbol in the emerging Japanese Empire?\n",
      "title =  Inca Empire\n"
     ]
    },
    {
     "name": "stdout",
     "output_type": "stream",
     "text": [
      "Q =  Were Command rank flags to denote the commander-in-chief of the English fleet used prior to or after the Rising Sun Ensign became a major symbol in the emerging Japanese Empire?\n",
      "title =  Inca Empire\n",
      "5192\n",
      "{'https://en.wikipedia.org/wiki/Flag_of_Japan',\n",
      " 'https://en.wikipedia.org/wiki/Inca_Empire',\n",
      " 'https://en.wikipedia.org/wiki/List_of_command_flags_of_the_Royal_Navy'}\n",
      "Q =  Were men, women or both burned at the stake as punishment for their crimes in the UK?\n",
      "title =  Snake\n",
      "Q =  Were men, women or both burned at the stake as punishment for their crimes in the UK?\n",
      "title =  Snake\n",
      "5368\n",
      "{'https://en.wikipedia.org/wiki/Burning_of_women_in_England',\n",
      " 'https://en.wikipedia.org/wiki/Snake',\n",
      " 'https://en.wikipedia.org/wiki/Thomas_Aikenhead'}\n",
      "Q =  In what year did both the Football League play-offs and then FIA Formula One World Championship take place?\n",
      "title =  Snake\n",
      "Q =  In what year did both the Football League play-offs and then FIA Formula One World Championship take place?\n",
      "title =  Snake\n",
      "5432\n",
      "{'https://en.wikipedia.org/wiki/2011_Football_League_play-offs',\n",
      " 'https://en.wikipedia.org/wiki/2011_Formula_One_season',\n",
      " 'https://en.wikipedia.org/wiki/Snake'}\n",
      "Q =  What are the basic capabilities of the surveillance and target acquisitions portions of the RSTA operations?\n",
      "title =  Gateway of the Sun\n",
      "Q =  What are the basic capabilities of the surveillance and target acquisitions portions of the RSTA operations?\n",
      "title =  Gateway of the Sun\n",
      "5597\n",
      "{'https://en.m.wikipedia.org/wiki/RSTA_(U.S._Army)',\n",
      " 'https://en.wikipedia.org/wiki/Gateway_of_the_Sun',\n",
      " 'https://en.wikipedia.org/wiki/Surveillance_and_Target_Acquisition'}\n",
      "Q =  What four letter word forms part of both the name of the Turks and Caicos Islands as well as the name of the tribe that founded the Ottoman Empire?\n",
      "title =  Inca Empire\n",
      "Q =  What four letter word forms part of both the name of the Turks and Caicos Islands as well as the name of the tribe that founded the Ottoman Empire?\n",
      "title =  Inca Empire\n",
      "5625\n",
      "{'https://en.wikipedia.org/wiki/History_of_the_Turks_and_Caicos_Islands',\n",
      " 'https://en.wikipedia.org/wiki/Inca_Empire',\n",
      " 'https://en.wikipedia.org/wiki/Ottoman_Empire'}\n",
      "Q =  Which came first, the construction of the Basilica of St. John or the rise of the Ottoman Empire?\n",
      "title =  Inca Empire\n",
      "Q =  Which came first, the construction of the Basilica of St. John or the rise of the Ottoman Empire?\n",
      "title =  Inca Empire\n",
      "5668\n",
      "{'https://en.wikipedia.org/wiki/Basilica_of_St._John',\n",
      " 'https://en.wikipedia.org/wiki/Church_of_St._John_at_Kaneo',\n",
      " 'https://en.wikipedia.org/wiki/Inca_Empire'}\n",
      "Q =  Who spent more actual time on the grounds of the White house: Justin Trudeau or Trude Feldman?\n",
      "text =  serpent\n",
      "Q =  Who spent more actual time on the grounds of the White house: Justin Trudeau or Trude Feldman?\n",
      "text =  serpent\n",
      "5722\n",
      "{'https://en.wikipedia.org/wiki/Justin_Trudeau',\n",
      " 'https://en.wikipedia.org/wiki/Snake',\n",
      " 'https://en.wikipedia.org/wiki/Trude_Feldman'}\n",
      "Q =  How many more times did The Threepenny Opera play at the Theater am Schiffbauerdamm than it did at the Broadway at the Empire Theatre?\n",
      "title =  Inca Empire\n",
      "Q =  How many more times did The Threepenny Opera play at the Theater am Schiffbauerdamm than it did at the Broadway at the Empire Theatre?\n",
      "title =  Inca Empire\n",
      "Q =  Did the 2003 Chelsea F.C team advance farther during the 2003 UEFA Cup than the San Jose Earthquakes advanced during the 2001 MLS playoffs?\n",
      "title =  Snake\n",
      "Q =  Did the 2003 Chelsea F.C team advance farther during the 2003 UEFA Cup than the San Jose Earthquakes advanced during the 2001 MLS playoffs?\n",
      "title =  Snake\n",
      "6097\n",
      "{'https://en.wikipedia.org/wiki/2001_Major_League_Soccer_season',\n",
      " 'https://en.wikipedia.org/wiki/2002%E2%80%9303_Chelsea_F.C._season',\n",
      " 'https://en.wikipedia.org/wiki/Snake'}\n",
      "Q =  Did the 1968 and 2020 US Presidential elections take place on the same day of the month?\n",
      "title =  Snake\n",
      "Q =  Did the 1968 and 2020 US Presidential elections take place on the same day of the month?\n",
      "title =  Gateway of the Sun\n",
      "Q =  Did the 1968 and 2020 US Presidential elections take place on the same day of the month?\n",
      "title =  Snake\n",
      "Q =  Did the 1968 and 2020 US Presidential elections take place on the same day of the month?\n",
      "title =  Gateway of the Sun\n",
      "6113\n",
      "{'https://en.wikipedia.org/wiki/2020_United_States_presidential_election_in_Alaska',\n",
      " 'https://en.wikipedia.org/wiki/Gateway_of_the_Sun',\n",
      " 'https://en.wikipedia.org/wiki/Snake',\n",
      " 'https://en.wikipedia.org/wiki/United_States_presidential_election_in_Alaska,_1968'}\n",
      "Q =  The cursive-joining alphabet used for writing the variety of Old Turkic that was the ancestor of the modern Western Yugur language was used during what time period?\n",
      "title =  Aymara language\n",
      "Q =  The cursive-joining alphabet used for writing the variety of Old Turkic that was the ancestor of the modern Western Yugur language was used during what time period?\n",
      "title =  Aymara language\n",
      "Q =  Is the Brahminy blind snake a venomous pit viper species found in the southern United States?\n",
      "title =  Snake\n",
      "Q =  Is the Brahminy blind snake a venomous pit viper species found in the southern United States?\n",
      "title =  Snake\n",
      "6776\n",
      "{'https://en.wikipedia.org/wiki/Agkistrodon_contortrix_laticinctus',\n",
      " 'https://en.wikipedia.org/wiki/List_of_snakes_of_Connecticut',\n",
      " 'https://en.wikipedia.org/wiki/Snake'}\n",
      "Q =  Is the last letter of the name of the protagonist of the 1991 Aircel Comics six issue miniseries Carmilla the same as the antagonist in The Dark Blue published in 1971-72\n",
      "title =  Dragon\n",
      "Q =  Is the last letter of the name of the protagonist of the 1991 Aircel Comics six issue miniseries Carmilla the same as the antagonist in The Dark Blue published in 1971-72\n",
      "title =  Dragon\n",
      "Q =  How large was the empire of the Islamic caliphate that sieged Constantinople in 717-718 relative to the other world empires of that time period?\n",
      "title =  Inca Empire\n",
      "Q =  How large was the empire of the Islamic caliphate that sieged Constantinople in 717-718 relative to the other world empires of that time period?\n",
      "title =  Inca Empire\n",
      "7083\n",
      "{'https://en.wikipedia.org/wiki/Inca_Empire',\n",
      " 'https://en.wikipedia.org/wiki/Siege_of_Constantinople_(717%E2%80%93718)',\n",
      " 'https://simple.wikipedia.org/wiki/Umayyad_Empire'}\n",
      "Q =  Would stop sounds like /p/, /t/, and /k/ be included in Sanskrit, Hindustani and all other Indic languages?\n",
      "title =  Quechuan languages\n",
      "Q =  Would stop sounds like /p/, /t/, and /k/ be included in Sanskrit, Hindustani and all other Indic languages?\n",
      "title =  Aymara language\n",
      "Q =  Would stop sounds like /p/, /t/, and /k/ be included in Sanskrit, Hindustani and all other Indic languages?\n",
      "title =  Quechuan languages\n",
      "Q =  Would stop sounds like /p/, /t/, and /k/ be included in Sanskrit, Hindustani and all other Indic languages?\n",
      "title =  Aymara language\n",
      "7139\n",
      "{'https://en.wikipedia.org/wiki/Aymara_language',\n",
      " 'https://en.wikipedia.org/wiki/Dental_consonant',\n",
      " 'https://en.wikipedia.org/wiki/Quechuan_languages',\n",
      " 'https://simple.wikipedia.org/wiki/Stop_consonant'}\n",
      "Q =  In what three Asian cultures have dragons been depicted as having snake-like characteristics?\n",
      "title =  Snake\n",
      "Q =  In what three Asian cultures have dragons been depicted as having snake-like characteristics?\n",
      "title =  Dragon\n",
      "Q =  In what three Asian cultures have dragons been depicted as having snake-like characteristics?\n",
      "title =  Snake\n",
      "Q =  In what three Asian cultures have dragons been depicted as having snake-like characteristics?\n",
      "title =  Dragon\n",
      "7236\n",
      "{'https://en.wikipedia.org/wiki/Chinese_dragon',\n",
      " 'https://en.wikipedia.org/wiki/Dragon',\n",
      " 'https://en.wikipedia.org/wiki/List_of_dragons_in_mythology_and_folklore',\n",
      " 'https://en.wikipedia.org/wiki/Snake'}\n",
      "Q =  Did the Wik-Mungkan people or the Kaantyu have more than one language?\n",
      "title =  Aymara language\n",
      "Q =  Did the Wik-Mungkan people or the Kaantyu have more than one language?\n",
      "title =  Aymara language\n",
      "7284\n",
      "{'https://en.wikipedia.org/wiki/Aymara_language',\n",
      " 'https://en.wikipedia.org/wiki/Kaantju',\n",
      " 'https://en.wikipedia.org/wiki/Wik-Mungkan_people'}\n",
      "Q =  When someone makes a creation (like a book, movie, picture, song or website ), they can say how this creation should be used in a process that arises when?\n",
      "title =  Snake\n",
      "Q =  When someone makes a creation (like a book, movie, picture, song or website ), they can say how this creation should be used in a process that arises when?\n",
      "title =  Snake\n",
      "7540\n",
      "{'https://en.m.wikipedia.org/wiki/History_of_copyright_law',\n",
      " 'https://en.wikipedia.org/wiki/Snake',\n",
      " 'https://simple.wikipedia.org/wiki/Wikipedia:Copyrights'}\n"
     ]
    },
    {
     "name": "stdout",
     "output_type": "stream",
     "text": [
      "Q =  The Metamorphoses of Apuleius and Amphitryon are both works that originated in what empire?\n",
      "title =  Inca Empire\n",
      "Q =  The Metamorphoses of Apuleius and Amphitryon are both works that originated in what empire?\n",
      "title =  Inca Empire\n",
      "7616\n",
      "{'https://en.wikipedia.org/wiki/Amphitryon_(Plautus_play)',\n",
      " 'https://en.wikipedia.org/wiki/Inca_Empire',\n",
      " 'https://en.wikipedia.org/wiki/The_Golden_Ass'}\n",
      "Q =  The Huma and  Amen Bird are both part of the mythology of what modern-day region?\n",
      "title =  Inca mythology\n",
      "Q =  The Huma and  Amen Bird are both part of the mythology of what modern-day region?\n",
      "title =  Inca mythology\n",
      "7630\n",
      "{'https://en.wikipedia.org/wiki/Huma_bird',\n",
      " 'https://en.wikipedia.org/wiki/Inca_mythology',\n",
      " 'https://en.wikipedia.org/wiki/Iranian_folklore'}\n",
      "Q =  What are three things thought to be required funerary practices by the people that thought that like Ra, their physical bodies, or Khat, would reawaken after they completed their journey through the underworld?\n",
      "title =  Snake\n",
      "Q =  What are three things thought to be required funerary practices by the people that thought that like Ra, their physical bodies, or Khat, would reawaken after they completed their journey through the underworld?\n",
      "title =  Snake\n",
      "7747\n",
      "{'https://en.wikipedia.org/wiki/Ancient_Egyptian_afterlife_beliefs',\n",
      " 'https://en.wikipedia.org/wiki/Egyptian_tombs',\n",
      " 'https://en.wikipedia.org/wiki/Snake'}\n",
      "count =  409\n",
      "5 5\n",
      "35\n"
     ]
    }
   ],
   "source": [
    "disambiguation_ks = []\n",
    "effective = 0\n",
    "count = 0\n",
    "problematic_ks = []\n",
    "for k in txt_dataset:\n",
    "    if random.random() > 0.05: continue\n",
    "    count += 1\n",
    "    Q = txt_dataset[k]['Q']\n",
    "    relevant_pages = set()\n",
    "    try: \n",
    "        for f in txt_dataset[k]['SupportingFacts']:\n",
    "            try: \n",
    "                fact_url = f['url']\n",
    "                relevant_pages.add(fact_url)\n",
    "                if is_disambiguation_page(fact_url):\n",
    "                    disambiguation_ks.append(k)\n",
    "                else:\n",
    "                    relevant_pages = relevant_pages.union(find_hyperlinks(Q, fact_url))\n",
    "            except (TypeError, AttributeError) as error: print(k, fact_url)\n",
    "    except:\n",
    "        print(k, \"some error\")\n",
    "        problematic_ks.append(k)\n",
    "    if len(relevant_pages) > len(txt_dataset[k]['SupportingFacts']):\n",
    "        effective += 1\n",
    "        print(k)\n",
    "        pprint(relevant_pages)\n",
    "print(\"count = \", count)\n",
    "print(len(disambiguation_ks), len(set(disambiguation_ks)))\n",
    "print(effective)"
   ]
  },
  {
   "cell_type": "code",
   "execution_count": 9,
   "metadata": {},
   "outputs": [],
   "source": [
    "pos_list = ['NUM', 'NOUN', 'ADJ', 'PROPN']"
   ]
  },
  {
   "cell_type": "code",
   "execution_count": 10,
   "metadata": {},
   "outputs": [],
   "source": [
    "def find_pages_by_hyperlink(keywords, url):\n",
    "    if 'en.wikipedia.org' not in url: return {}\n",
    "    anchor2page = {}\n",
    "    req = urllib.request.Request(url, headers = {'User-Agent': random.choice(USER_AGENT_LIST)})\n",
    "    with urllib.request.urlopen(req) as f:\n",
    "        html = f.read().decode('utf-8')\n",
    "    end_indx = html.find('<h2><span class=\"mw-headline\" id=\"References\">References</span>')\n",
    "    html = html[:end_indx]\n",
    "    soup = BeautifulSoup(html, 'html.parser')\n",
    "    links = soup.find_all('a', attrs={'href': re.compile(\"^/wiki/(?!.*(:|\\(identifier\\))).*\")})\n",
    "    for link in links:\n",
    "        title = link.get('title')\n",
    "        text = link.text\n",
    "        if title is None or not text: continue\n",
    "        #print(link)\n",
    "        if any(b in keywords for b in title.split()):\n",
    "            pagelink = 'https://en.wikipedia.org' + link.get('href')\n",
    "            if pagelink.find(\"#\") > -1:\n",
    "                pagelink = pagelink[:pagelink.find(\"#\")]\n",
    "            anchor2page[title] = pagelink\n",
    "        if len(text) == 0: print(link)\n",
    "        elif pylcs.lcs(title.lower(), text.lower())/len(text) < 0.85:\n",
    "            if any(b in keywords for b in text.split()):\n",
    "                pagelink = 'https://en.wikipedia.org' + link.get('href')\n",
    "                if pagelink.find(\"#\") > -1:\n",
    "                    pagelink = pagelink[:pagelink.find(\"#\")]\n",
    "                anchor2page[text] = pagelink\n",
    "    return anchor2page"
   ]
  },
  {
   "cell_type": "code",
   "execution_count": 895,
   "metadata": {
    "collapsed": true
   },
   "outputs": [
    {
     "name": "stdout",
     "output_type": "stream",
     "text": [
      "title =  Ancient Egyptian religion\n",
      "title =  Ancient Egyptian afterlife beliefs\n",
      "title =  Egyptian mythology\n",
      "title =  Numbers in Egyptian mythology\n",
      "title =  Ancient Egyptian philosophy\n",
      "title =  Ancient Egyptian concept of the soul\n",
      "title =  Ancient Egyptian burial customs\n",
      "title =  Ancient Egyptian offering formula\n",
      "title =  Egyptian temple\n",
      "title =  Egyptian pantheon\n",
      "title =  List of Egyptian deities\n",
      "title =  Cavern deities of the underworld\n",
      "title =  Gate deities of the underworld\n",
      "title =  Ra\n",
      "title =  Egyptian obelisk\n",
      "title =  Egyptian pool\n",
      "title =  Eye of Ra\n",
      "title =  Ancient Egyptian funerary texts\n",
      "title =  Ancient Egyptian afterlife beliefs\n",
      "title =  Ancient Egyptian afterlife beliefs\n",
      "title =  Ancient Egyptian retainer sacrifices\n",
      "title =  Egyptian faience\n",
      "title =  Egyptian hieroglyphs\n",
      "title =  Semitic people\n",
      "title =  List of Egyptian mummies\n",
      "title =  Ancient Egyptian concept of the soul\n",
      "title =  Ancient Egyptian concept of the soul\n",
      "title =  Ancient Egyptian funerary practices\n",
      "title =  Ancient Egyptian funerary practices\n",
      "title =  Ancient Egyptian funerary practices\n",
      "title =  Ancient Egyptian funerary practices\n",
      "title =  Ra\n",
      "title =  Ancient Egyptian concept of the soul\n",
      "title =  Ancient Egyptian funerary texts\n",
      "title =  Ancient Egyptian offering formula\n",
      "text =  funerary boat\n",
      "title =  Ancient Egyptian afterlife beliefs\n",
      "text =  Egyptian mummies\n"
     ]
    },
    {
     "data": {
      "text/plain": [
       "{'Ancient Egyptian afterlife beliefs': 'https://en.wikipedia.org/wiki/Ancient_Egyptian_afterlife_beliefs',\n",
       " 'Ancient Egyptian burial customs': 'https://en.wikipedia.org/wiki/Ancient_Egyptian_burial_customs',\n",
       " 'Ancient Egyptian concept of the soul': 'https://en.wikipedia.org/wiki/Ancient_Egyptian_concept_of_the_soul',\n",
       " 'Ancient Egyptian funerary practices': 'https://en.wikipedia.org/wiki/Ancient_Egyptian_funerary_practices',\n",
       " 'Ancient Egyptian funerary texts': 'https://en.wikipedia.org/wiki/Ancient_Egyptian_funerary_texts',\n",
       " 'Ancient Egyptian offering formula': 'https://en.wikipedia.org/wiki/Ancient_Egyptian_offering_formula',\n",
       " 'Ancient Egyptian philosophy': 'https://en.wikipedia.org/wiki/Ancient_Egyptian_philosophy',\n",
       " 'Ancient Egyptian religion': 'https://en.wikipedia.org/wiki/Ancient_Egyptian_religion',\n",
       " 'Ancient Egyptian retainer sacrifices': 'https://en.wikipedia.org/wiki/Ancient_Egyptian_retainer_sacrifices',\n",
       " 'Cavern deities of the underworld': 'https://en.wikipedia.org/wiki/Cavern_deities_of_the_underworld',\n",
       " 'Egyptian faience': 'https://en.wikipedia.org/wiki/Egyptian_faience',\n",
       " 'Egyptian hieroglyphs': 'https://en.wikipedia.org/wiki/Egyptian_hieroglyphs',\n",
       " 'Egyptian mummies': 'https://en.wikipedia.org/wiki/Mummy',\n",
       " 'Egyptian mythology': 'https://en.wikipedia.org/wiki/Egyptian_mythology',\n",
       " 'Egyptian obelisk': 'https://en.wikipedia.org/wiki/Egyptian_obelisk',\n",
       " 'Egyptian pantheon': 'https://en.wikipedia.org/wiki/Egyptian_pantheon',\n",
       " 'Egyptian pool': 'https://en.wikipedia.org/wiki/Egyptian_pool',\n",
       " 'Egyptian temple': 'https://en.wikipedia.org/wiki/Egyptian_temple',\n",
       " 'Eye of Ra': 'https://en.wikipedia.org/wiki/Eye_of_Ra',\n",
       " 'Gate deities of the underworld': 'https://en.wikipedia.org/wiki/Gate_deities_of_the_underworld',\n",
       " 'List of Egyptian deities': 'https://en.wikipedia.org/wiki/List_of_Egyptian_deities',\n",
       " 'List of Egyptian mummies': 'https://en.wikipedia.org/wiki/List_of_Egyptian_mummies',\n",
       " 'Numbers in Egyptian mythology': 'https://en.wikipedia.org/wiki/Numbers_in_Egyptian_mythology',\n",
       " 'Ra': 'https://en.wikipedia.org/wiki/Ra',\n",
       " 'Semitic people': 'https://en.wikipedia.org/wiki/Semitic_people',\n",
       " 'funerary boat': 'https://en.wikipedia.org/wiki/Khufu_ship'}"
      ]
     },
     "execution_count": 895,
     "metadata": {},
     "output_type": "execute_result"
    }
   ],
   "source": [
    "url = \"https://en.wikipedia.org/wiki/Egyptian_tombs\"\n",
    "Q = 'What are three things thought to be required funerary practices by the people that thought that like Ra, their physical bodies, or Khat, would reawaken after they completed their journey through the underworld?'\n",
    "find_pages_by_hyperlink(Q, url)"
   ]
  },
  {
   "cell_type": "code",
   "execution_count": 720,
   "metadata": {},
   "outputs": [
    {
     "name": "stderr",
     "output_type": "stream",
     "text": [
      "/home/yingshac/miniconda3/envs/py37/lib/python3.7/site-packages/seaborn/distributions.py:2551: FutureWarning: `distplot` is a deprecated function and will be removed in a future version. Please adapt your code to use either `displot` (a figure-level function with similar flexibility) or `histplot` (an axes-level function for histograms).\n",
      "  warnings.warn(msg, FutureWarning)\n",
      "No handles with labels found to put in legend.\n"
     ]
    },
    {
     "name": "stdout",
     "output_type": "stream",
     "text": [
      "44.53412407625908\n"
     ]
    },
    {
     "data": {
      "text/plain": [
       "<matplotlib.legend.Legend at 0x7f85a107a890>"
      ]
     },
     "execution_count": 720,
     "metadata": {},
     "output_type": "execute_result"
    },
    {
     "data": {
      "image/png": "[encoded data removed]",
      "text/plain": [
       "<Figure size 432x288 with 1 Axes>"
      ]
     },
     "metadata": {},
     "output_type": "display_data"
    }
   ],
   "source": [
    "fact_lengths = [len(f['fact'].split()) for k in txt_dataset for f in txt_dataset[k]['SupportingFacts']]\n",
    "print(np.mean(fact_lengths))\n",
    "sns.distplot(fact_lengths, kde=False)\n",
    "plt.legend()"
   ]
  },
  {
   "cell_type": "code",
   "execution_count": 11,
   "metadata": {},
   "outputs": [],
   "source": [
    "import nltk\n",
    "from nltk.corpus import stopwords\n",
    "pattern = re.compile(r'\\b(' + r'|'.join(stopwords.words('english')) + r')\\b\\s*|\\(|\\)|-')"
   ]
  },
  {
   "cell_type": "code",
   "execution_count": 31,
   "metadata": {
    "scrolled": false
   },
   "outputs": [],
   "source": [
    "def get_sen2score_from_indx(k):\n",
    "    #k = \"13\"\n",
    "    #if random.random() > 0.05: continue\n",
    "    print('k = ', k)\n",
    "    Q = txt_dataset[str(k)]['Q']\n",
    "    doc = nlp(Q)\n",
    "    keywords = set([t.text for s in doc.sents for t in s if t.pos_ in pos_list or ((not t.is_sent_start) and t.text[0].isupper())])\n",
    "    titlewords = set()\n",
    "    anchor2page = {}\n",
    "    for f in txt_dataset[str(k)]['SupportingFacts']:\n",
    "        fact_title_raw = ' '.join(urllib.parse.unquote(f['url']).split('/')[-1].split('_'))\n",
    "        fact_title = pattern.sub('', fact_title_raw)\n",
    "        titlewords = titlewords.union(fact_title.split())\n",
    "        print(fact_title)\n",
    "        for title in wikipedia.search(fact_title_raw):\n",
    "            anchor2page[title] = \"https://en.wikipedia.org/wiki/\" + \"_\".join(title.split())\n",
    "    print(len(anchor2page))\n",
    "    keywords = keywords - PUNCTUATIONS\n",
    "    titlewords = titlewords - PUNCTUATIONS\n",
    "    for f in txt_dataset[str(k)]['SupportingFacts']:\n",
    "        d = find_pages_by_hyperlink(keywords.union(titlewords), f['url'])\n",
    "        anchor2page.update(d)\n",
    "        print(len(anchor2page))\n",
    "    #pprint(anchor2page)\n",
    "    \n",
    "    A = txt_dataset[str(k)]['A']\n",
    "    doc = nlp(A)\n",
    "    answerwords = set([t.text for t in doc if t.pos_ in pos_list or ((not t.is_sent_start) and t.text[0].isupper())])\n",
    "    answerwords = answerwords - PUNCTUATIONS\n",
    "    goldfactwords = set()\n",
    "    Q_A_words = keywords.union(answerwords)\n",
    "    for f in txt_dataset[str(k)]['SupportingFacts']:\n",
    "        doc = nlp(f['fact'])\n",
    "        goldfactwords = goldfactwords.union(set([t.text for t in doc if t.pos_ in pos_list or ((not t.is_sent_start) and t.text[0].isupper())]) - Q_A_words)\n",
    "    goldfactwords = goldfactwords - PUNCTUATIONS \n",
    "    print(\"keywords = \", keywords)\n",
    "    print(\"titlewords = \", titlewords)\n",
    "    print(\"answerwords = \", answerwords)\n",
    "    print(\"goldfactwords = \", goldfactwords)\n",
    "    print(\" -- find sentences from each page --\")\n",
    "    sen2score = {}\n",
    "    for title in anchor2page:\n",
    "        try:\n",
    "            if is_disambiguation_page(anchor2page[title]):\n",
    "                print(\"disambiguation page: \", title)\n",
    "                continue\n",
    "        except:\n",
    "            print(anchor2page[title])\n",
    "        sen2score.update(find_sentences_from_page(title, anchor2page[title], keywords, answerwords, goldfactwords))\n",
    "    print(\"total num of sentences found = \", len(sen2score))\n",
    "    word_lists = [titlewords, keywords, goldfactwords, answerwords]\n",
    "    return sen2score, word_lists"
   ]
  },
  {
   "cell_type": "code",
   "execution_count": 13,
   "metadata": {},
   "outputs": [],
   "source": [
    "def highlight_words(word_lists, colors, sentence):\n",
    "    s = copy.deepcopy(sentence)\n",
    "    for word_list, color in zip(word_lists, colors):\n",
    "        if \"\".join(word_list): s = re.sub(r'\\b(' + r'|'.join(word_list) + r')\\b\\s*', lambda m: '<span style=\"background-color:rgb{}\">{}</span>'.format(color, m.group()), s)\n",
    "    return s"
   ]
  },
  {
   "cell_type": "code",
   "execution_count": 32,
   "metadata": {},
   "outputs": [],
   "source": [
    "def add_html_row(k, sen2score, word_lists, colors = [\"(223, 255, 238)\", \"(193, 239, 253)\", \"(253, 252, 152)\", \"(255, 214, 222)\"]):\n",
    "    html = \"\"\n",
    "    html += '<tr><td>{}.</td><td>Q: {}<br>'.format(k, highlight_words(word_lists, colors, txt_dataset[str(k)]['Q']))\n",
    "    for f in txt_dataset[str(k)]['SupportingFacts']:\n",
    "        #words = f['fact'].split()\n",
    "        #for i in range(len(words)):\n",
    "            #w = words[i]\n",
    "            #if w in keywords:\n",
    "                #words[i] = '<span style=\"background-color:rgb(193, 239, 253)\">{}</span>'.format(w)\n",
    "        html += '<br><br>&nbsp;&nbsp;{}'.format(highlight_words(word_lists, colors, f['fact']))\n",
    "        html += '<a href=\"{}\"> link</a>'.format(f['url'])\n",
    "    html += '<br><br>A: {}<br>'.format(highlight_words(word_lists, colors, txt_dataset[str(k)]['A']))\n",
    "    html += '</td><td>'\n",
    "    s_buckets = defaultdict(lambda: [])\n",
    "    for s in sen2score:\n",
    "        if sen2score[s]['scores'][4] > 0.14 and sen2score[s]['scores'][2] == 0.0 and len(s.split()) in range(22, 60):\n",
    "            s_buckets['good'].append(s)\n",
    "        elif sen2score[s]['scores'][4] < 0.14 and sen2score[s]['scores'][4] > 0.06 and sen2score[s]['scores'][2] == 0.0 and len(s.split()) in range(22, 60):\n",
    "            s_buckets['okay'].append(s)\n",
    "        elif sen2score[s]['scores'][1] > 0.0 or sen2score[s]['scores'][2] > 0.0:\n",
    "            s_buckets['(maybe)falseneg'].append(s)\n",
    "    for b in ['good', 'okay', '(maybe)falseneg']:\n",
    "        html += '<strong> ----------------- {} ---------------- </strong><br>'.format(b)\n",
    "        for s in random.sample(s_buckets[b], min(len(s_buckets[b]), 5)):\n",
    "            #if sen2score[s]['scores'][4] > th and sen2score[s]['scores'][2] == 0.0 and len(s.split()) in range(22, 60):\n",
    "            \n",
    "            html += '{} --- {} '.format(highlight_words(word_lists, colors, s), str(sen2score[s]['scores']))\n",
    "            html += '<a href=\"{}\"> {}</a><br><br>'.format(sen2score[s]['link'], sen2score[s]['title'])\n",
    "    html += '</td></tr>'\n",
    "    html += '<tr><td colspan=3><hr></td></tr>'\n",
    "    return html"
   ]
  },
  {
   "cell_type": "code",
   "execution_count": 15,
   "metadata": {},
   "outputs": [],
   "source": [
    "sampled_indx = [23, 5199, 2892, 1489, 5713, 6793, 217, 2192, 934, 1859, 4804, 4311, 741, 5264, 1223]"
   ]
  },
  {
   "cell_type": "code",
   "execution_count": 16,
   "metadata": {},
   "outputs": [],
   "source": [
    "PUNCTUATIONS = set(string.punctuation) - set(['.'])"
   ]
  },
  {
   "cell_type": "code",
   "execution_count": 1144,
   "metadata": {},
   "outputs": [
    {
     "data": {
      "text/plain": [
       "[('SS', 'NOUN'),\n",
       " ('-', 'PUNCT'),\n",
       " ('N-22', 'PROPN'),\n",
       " ('Sunburn', 'PROPN'),\n",
       " ('is', 'AUX'),\n",
       " ('the', 'DET'),\n",
       " ('NATO', 'PROPN'),\n",
       " ('reporting', 'NOUN'),\n",
       " ('name', 'NOUN'),\n",
       " ('for', 'ADP'),\n",
       " ('two', 'NUM'),\n",
       " ('unrelated', 'ADJ'),\n",
       " ('Soviet', 'ADJ'),\n",
       " ('anti', 'ADJ'),\n",
       " ('-', 'ADJ'),\n",
       " ('ship', 'ADJ'),\n",
       " ('missiles', 'NOUN'),\n",
       " ('.', 'PUNCT'),\n",
       " ('Although', 'SCONJ'),\n",
       " ('the', 'DET'),\n",
       " ('missiles', 'NOUN'),\n",
       " ('were', 'VERB'),\n",
       " ('very', 'ADV'),\n",
       " ('different', 'ADJ'),\n",
       " (',', 'PUNCT'),\n",
       " ('distinguishing', 'VERB'),\n",
       " ('between', 'ADP'),\n",
       " ('them', 'PRON'),\n",
       " ('is', 'AUX'),\n",
       " ('difficult', 'ADJ'),\n",
       " ('because', 'SCONJ'),\n",
       " ('their', 'PRON'),\n",
       " ('ship', 'NOUN'),\n",
       " ('-', 'PUNCT'),\n",
       " ('mounted', 'VERB'),\n",
       " ('launching', 'VERB'),\n",
       " ('containers', 'NOUN'),\n",
       " ('were', 'VERB'),\n",
       " ('identical', 'ADJ'),\n",
       " ('.', 'PUNCT')]"
      ]
     },
     "execution_count": 1144,
     "metadata": {},
     "output_type": "execute_result"
    }
   ],
   "source": [
    "[(t.text, t.pos_) for t in nlp(\"SS-N-22 Sunburn is the NATO reporting name for two unrelated Soviet anti-ship missiles. Although the missiles were very different, distinguishing between them is difficult because their ship-mounted launching containers were identical.\")]"
   ]
  },
  {
   "cell_type": "code",
   "execution_count": 33,
   "metadata": {
    "scrolled": false
   },
   "outputs": [
    {
     "name": "stdout",
     "output_type": "stream",
     "text": [
      "k =  23\n",
      "21st Army Group\n",
      "British Army Rhine\n",
      "19\n",
      "19\n",
      "34\n",
      "keywords =  {'21st', 'British', 'more', 'Group', 'less', 'corps', 'Army', 'armies', 'Rhine'}\n",
      "titlewords =  {'21st', 'British', 'Group', 'Army', 'Rhine'}\n",
      "answerwords =  set()\n",
      "goldfactwords =  {'division', 'William', 'occupation', 'Harry', 'Canadian', 'Simpson', 'General', 'Southern', 'Division', 'divisions', 'time', '29th', 'Major', 'Commanded', 'Crerar', 'Miles', 'Ninth', 'March', 'Rhineland', 'US', '1919', 'two', 'forces', 'cavalry', 'First', '1945', 'Second', 'five', 'Dempsey', 'Allied', 'first', 'Heneker'}\n",
      " -- find sentences from each page --\n",
      "disambiguation page:  21st Army\n",
      "disambiguation page:  Army of the Rhine (disambiguation)\n",
      "total num of sentences found =  1224\n",
      "k =  5199\n",
      "Schelte Bolswert\n",
      "Schelte Bolswert\n",
      "10\n",
      "27\n",
      "27\n",
      "keywords =  {'side', 'Magdalene', 'St.', 'man', 'horseback', 'two', 'Men', 'Crucifixion', 'figure', 'Virgin', 'John', 'Sponge', 'Cross', 'other', 'Mary', 'Christ', 'grand', 'composition'}\n",
      "titlewords =  {'Schelte', 'Bolswert'}\n",
      "answerwords =  {'1586'}\n",
      "goldfactwords =  {'Dutch', 'de', '1641', 'Schelte', 'Dyck', 'Van', '1632', 'Anthony', 'Elevation', 'engravings', 'Friesland', 'one', 'works', '1586–1659', 'Portrait', 'van', 'Bolswert', 'Willem', 'engraver', 'Rubens', 'beautiful', 'town', 'Vos'}\n",
      " -- find sentences from each page --\n"
     ]
    },
    {
     "name": "stderr",
     "output_type": "stream",
     "text": [
      "/home/yingshac/miniconda3/envs/py37/lib/python3.7/site-packages/wikipedia/wikipedia.py:389: GuessedAtParserWarning: No parser was explicitly specified, so I'm using the best available HTML parser for this system (\"lxml\"). This usually isn't a problem, but if you run this code on another system, or in a different virtual environment, it may use a different parser and behave differently.\n",
      "\n",
      "The code that caused this warning is on line 389 of the file /home/yingshac/miniconda3/envs/py37/lib/python3.7/site-packages/wikipedia/wikipedia.py. To get rid of this warning, pass the additional argument 'features=\"lxml\"' to the BeautifulSoup constructor.\n",
      "\n",
      "  lis = BeautifulSoup(html).find_all('li')\n"
     ]
    },
    {
     "name": "stdout",
     "output_type": "stream",
     "text": [
      "total num of sentences found =  483\n",
      "k =  2892\n",
      "SEQU\n",
      "Cheddi Jagan International Airport\n",
      "20\n",
      "54\n",
      "61\n",
      "keywords =  {'codes', 'Jagan', 'Airport', 'ICAO', 'Sucre', 'Cheddi', 'Mariscal', 'International'}\n",
      "titlewords =  {'Jagan', 'Airport', 'SEQU', 'Cheddi', 'International'}\n",
      "answerwords =  {'Mariscal', 'Sucre', 'International', 'Airport'}\n",
      "goldfactwords =  {'South', 'IATA', 'right', 'SEQU', 'aircraft', 'passenger', 'Pichincha', 'airports', 'busiest', 'bank', 'SYCJ', 'movement', 'traffic', 'capital', 'one', 'airport', '41', 'south', 'main', 'international', 'Demerara', 'city', 'mi', 'cargo', 'Spanish', 'GEO', 'America', 'Timehri', 'Georgetown', 'Guyana', 'national', 'Province', 'UIO', 'kilometres', 'Ecuador', '25', 'Aeropuerto', 'Quito', 'Internacional', 'River'}\n",
      " -- find sentences from each page --\n",
      "disambiguation page:  Geo\n",
      "total num of sentences found =  109\n",
      "k =  1489\n",
      "Duchy Normandy\n",
      "Frederick II, Duke Austria\n",
      "20\n",
      "32\n",
      "46\n",
      "keywords =  {'ducal', 'Europe', 'one', 'history', 'countries', 'point', 'leaders', 'Western', 'titles'}\n",
      "titlewords =  {'Austria', 'Duchy', 'Duke', 'Frederick', 'Normandy', 'II,'}\n",
      "answerwords =  {'Normandy', 'Austria'}\n",
      "goldfactwords =  {'dukes', 'European', '987', 'powerful', '1241', 'Hungary', 'Duke', 'few', 'I', 'papacy', 'duchy', 'Richard', '980', 'duke', 'Norman', 'years', 'Capet', 'commanders', 'French', 'Hugh', 'knights', 'IV', 'force', '1006', 'small', '1050', 'Frederick', 'Hungarians', 'II', 'consolidated', 'title', 'help', 'throne', 'rulers', 'first', 'Mongols', 'expeditionary', 'King', 'Bela', 'son', 'Croatia'}\n",
      " -- find sentences from each page --\n",
      "disambiguation page:  Frederick II\n",
      "disambiguation page:  Frederick of Austria\n",
      "total num of sentences found =  101\n",
      "k =  5713\n",
      "Metabolic acidosis\n",
      "High anion gap metabolic acidosis\n",
      "14\n",
      "18\n",
      "20\n",
      "keywords =  {'lead', 'aspirin', 'condition'}\n",
      "titlewords =  {'High', 'anion', 'metabolic', 'gap', 'Metabolic', 'acidosis'}\n",
      "answerwords =  {'acidemia'}\n",
      "goldfactwords =  {'anion', 'methanol', 'mEq', 'loss', 'metabolic', 'causes', 'three', 'arterial', 'bicarbonate', 'blood', '12', 'ability', 'acids', 'body', 'high', 'excess', 'production', 'kidneys', 'High', 'gap', 'main', 'L.', 'lower', 'pH', 'root', '7.35', 'acid', 'Metabolic', 'acidosis'}\n",
      " -- find sentences from each page --\n",
      "total num of sentences found =  133\n",
      "k =  6793\n",
      "John Colter\n",
      "John Newman explorer\n",
      "20\n",
      "26\n",
      "26\n",
      "keywords =  {'age', 'older', 'John', 'Newman', 'Colter', 'Private'}\n",
      "titlewords =  {'Newman', 'John', 'Colter', 'explorer'}\n",
      "answerwords =  {'Newman', 'John'}\n",
      "goldfactwords =  {'May', 'Pennsylvania', 'c.1770–1775', '7', 'November', 'Daniel', '1804–1806', '1813', '1812', 'c.', 'Expedition', 'Regiment', 'First', '22', '1785', 'Lewis', '1838', 'Bissell', 'captain', 'Infantry', 'Clark', 'member', 'company'}\n",
      " -- find sentences from each page --\n",
      "disambiguation page:  Colter\n",
      "disambiguation page:  John Newman\n",
      "disambiguation page:  John Coulter (disambiguation)\n",
      "total num of sentences found =  140\n",
      "k =  217\n",
      "Cynwyl Elfed\n",
      "River Taff\n",
      "20\n",
      "26\n",
      "61\n",
      "keywords =  {'Fechan', 'Afon', 'body', 'Taf', 'water', 'Welsh', 'Gwili'}\n",
      "titlewords =  {'Taff', 'Elfed', 'Cynwyl', 'River'}\n",
      "answerwords =  {'rivers'}\n",
      "goldfactwords =  {'Elfed', 'village', 'Cynwyl', 'one', 'confluence', 'east', 'Cardiff', 'Forest', 'Wales', 'estuary', 'great', 'Fawr', 'Llanpumsaint', 'Brechfa', 'Beacons', 'tributary', 'two', 'Taff', 'Severn', 'little', 'Merthyr', 'longest', 'river', 'Brecon', 'Tywi', 'Llanllawddog', 'Tydfil', 'Duad', 'River'}\n",
      " -- find sentences from each page --\n",
      "disambiguation page:  Elfed\n",
      "disambiguation page:  Taff\n",
      "disambiguation page:  Taff Vale\n",
      "total num of sentences found =  308\n",
      "k =  2192\n",
      "International Day Peace\n",
      "International Day Happiness\n",
      "19\n",
      "47\n",
      "48\n",
      "keywords =  {'The', 'United', 'Happiness', 'Peace', 'Day', 'International', 'Nations'}\n",
      "titlewords =  {'International', 'Happiness', 'Peace', 'Day'}\n",
      "answerwords =  set()\n",
      "goldfactwords =  {'June', 'world', 'war', 'absence', 'access', 'General', '20th', 'Assembly', 'combat', 'World', 'zone', 'peace', 'humanitarian', 'March', '21', '28', 'September', 'holiday', 'ceasefire', '2012', 'such', 'aid', 'violence', 'temporary'}\n",
      " -- find sentences from each page --\n",
      "total num of sentences found =  1230\n",
      "k =  934\n",
      "Sizzler missile\n",
      "SSN22\n",
      "18\n",
      "23\n",
      "23\n",
      "keywords =  {'N-22', 'names', 'Sunburn', 'Club', 'SS'}\n",
      "titlewords =  {'Sizzler', 'missile', 'SSN22'}\n",
      "answerwords =  {'Missiles'}\n",
      "goldfactwords =  {'export', 'submarine', 'identical', 'name', 'missile', 'ship', 'one', 'unrelated', 'attack', 'different', 'designation', 'modular', 'shipping', 'containers', 'versions', 'two', 'NATO', 'reporting', 'missiles', 'system', 'five', 'types', 'Soviet', 'difficult', 'land', 'anti'}\n",
      " -- find sentences from each page --\n",
      "disambiguation page:  Sizzler (disambiguation)\n",
      "total num of sentences found =  58\n",
      "k =  1859\n",
      "South Carolina gubernatorial election, 2018\n",
      "2022 South Carolina gubernatorial election\n",
      "18\n",
      "341\n",
      "343\n",
      "keywords =  {'Norman', 'Haley', 'removal', 'able', 'election', 'Ralph', '2018', 'Nikki'}\n",
      "titlewords =  {'South', '2022', 'gubernatorial', 'election', 'Carolina', '2018', 'election,'}\n",
      "answerwords =  set()\n",
      "goldfactwords =  {'South', 'Representatives', 'right', 'McMaster', 'Incumbent', 'Henry', 'full', 'States', 'office', 'Carolina', 'Smith', 'own', 'second', '2017', 'general', 'Republican', 're', '24', 'House', 'Governor', 'United', 'term', 'resignation', 'January', 'member'}\n",
      " -- find sentences from each page --\n",
      "total num of sentences found =  589\n",
      "k =  4804\n",
      "The Fureys\n",
      "The Dubliners\n",
      "20\n",
      "24\n",
      "57\n",
      "keywords =  {'The', 'country', 'Fureys', 'Dubliners', 'music'}\n",
      "titlewords =  {'The', 'Fureys', 'Dubliners'}\n",
      "answerwords =  {'Ireland'}\n",
      "goldfactwords =  {'brothers', 'Paul', 'lively', '1974', 'four', 'up', 'male', 'fifty', 'lead', 'many', 'career', 'number', 'Eddie', 'songs', 'hits', 'singers', 'one', 'group', 'singles', 'street', 'success', 'Ronnie', 'Ballyfermot', 'ballads', 'Kelly', 'two', 'Two', 'albums', 'heritage', 'international', 'Drew', 'Traveller', 'changes', 'line', 'personnel', 'George', 'Kingdom', 'Furey', 'folk', 'United', 'band', 'Luke', 'Finbar', 'traditional', 'Irish', 'Dublin', 'year', 'instrumentals'}\n",
      " -- find sentences from each page --\n",
      "disambiguation page:  Dubliner\n",
      "total num of sentences found =  680\n",
      "k =  4311\n",
      "Hampton, Virginia\n",
      "Langley Research Center\n",
      "20\n",
      "57\n",
      "66\n",
      "keywords =  {'NASA', 'oldest', 'field', 'center', 'first', 'parish', 'city', 'Anglican', 'year'}\n",
      "titlewords =  {'Langley', 'Hampton,', 'Research', 'Center', 'Virginia'}\n",
      "answerwords =  {'NASA', 'Langley', 'oldest', 'field', 'center', 'Research', 'Center', 'Hampton', '1610', 'first', 'parish', 'Anglican', 'Virginia'}\n",
      "goldfactwords =  {'sites', 'tən/', 'Bay', 'residential', 'Chesapeake', 'points', 'Americas', 'States', 'independent', 'enterprises', 'areas', 'retail', 'Air', 'fort', 'other', 'centers', 'business', 'Back', 'Commonwealth', 'six', 'historical', 'interest', 'bastion', 'short', 'industrial', 'Base', 'Force', 'United', 'track', 'LaRC', 'sided', 'NASCAR', 'array', 'wide', 'River'}\n",
      " -- find sentences from each page --\n",
      "total num of sentences found =  229\n",
      "k =  741\n",
      "La Jolla Band Luiseno Indians\n",
      "Round Valley Indian Tribes Round Valley Reservation\n",
      "19\n",
      "22\n",
      "28\n",
      "keywords =  {'Indians', 'La', 'same', 'Valley', 'Round', 'county', 'Indian', 'Band', 'Reservation', 'Jolla', 'Luiseno'}\n",
      "titlewords =  {'Indians', 'La', 'Valley', 'Round', 'Indian', 'Band', 'Reservation', 'Tribes', 'Jolla', 'Luiseno'}\n",
      "answerwords =  {'Indians', 'La', 'Mendocino', 'Valley', 'Jolla', 'Round', 'counites', 'San', 'Indian', 'Band', 'Reservation', 'Diego', 'County', 'Trinity'}\n",
      "goldfactwords =  {'trust', 'southern', 'Luiseño', '93.939', 'reservation', 'northern', 'States', 'tribes', 'other', 'km²', 'small', 'sq', 'area', 'Seal', 'mi', 'tribe', 'California', 'United', '36.270', 'five', 'part', 'total', 'land'}\n",
      " -- find sentences from each page --\n",
      "disambiguation page:  Round Valley\n",
      "total num of sentences found =  14\n",
      "k =  5264\n",
      "Injection moulding\n",
      "Nuclear fuel\n",
      "20\n",
      "31\n",
      "51\n",
      "keywords =  {'injection', 'fuel', 'moulding', 'nuclear'}\n",
      "titlewords =  {'Injection', 'Nuclear', 'fuel', 'moulding'}\n",
      "answerwords =  set()\n",
      "goldfactwords =  {'spelling', 'process', 'manufacturing', 'mold', 'experiments', 'fuels', 'BeF', 'mould', 'Molten', 'molten', '12', 'LFTR', 'reactor', '72', 'material', 'other', 'parts', 'LiF', 'Salt', 'mixture', 'U.S.', '2', 'salt', 'core', '4', 'lithium', 'uranium', 'mol%', 'liquid', 'Injection', 'molding', 'thorium', 'Experiment', 'Reactor', '0.4', 'fluorides', '16', 'beryllium'}\n",
      " -- find sentences from each page --\n"
     ]
    },
    {
     "name": "stdout",
     "output_type": "stream",
     "text": [
      "total num of sentences found =  1883\n",
      "k =  1223\n",
      "Princebishop\n",
      "Priesthood Catholic Church\n",
      "20\n",
      "49\n",
      "82\n",
      "keywords =  {'church', 'priest', 'catholic', 'bishop', 'Prince'}\n",
      "titlewords =  {'Priesthood', 'Catholic', 'Church', 'Princebishop'}\n",
      "answerwords =  set()\n",
      "goldfactwords =  {'bishops', 'secular', 'ruler', 'priests', 'three', 'Catholic', 'Catholics', 'presbyters', 'one', 'holy', 'other', 'prince', 'principality', 'doctrine', 'two', 'civil', 'sovereignty', 'ordained', 'Church', 'deacons', 'orders', 'common', 'priesthood'}\n",
      " -- find sentences from each page --\n",
      "total num of sentences found =  1539\n"
     ]
    }
   ],
   "source": [
    "html = \"<html><body>\"\n",
    "html += '<table border=\"0\" style=\"table-layout: fixed; width: 100%; word-break:break-word\">'\n",
    "html += '<tr bgcolor=gray><td width=5%>Index</td><td width=35%>Q & Pos Facts</td><td width=60%>Neg Facts</td></tr>'\n",
    "count = 0\n",
    "for k in sampled_indx:\n",
    "    count += 1\n",
    "    sen2score, word_lists = get_sen2score_from_indx(k)\n",
    "    html += add_html_row(k, sen2score, word_lists)\n",
    "    o = open('distractor_demo.html', 'wt')\n",
    "\n",
    "    o.write(html)\n",
    "    o.close()\n",
    "html += '</table></body></html>'\n",
    "o = open('distractor_demo.html', 'wt')\n",
    "\n",
    "o.write(html)\n",
    "o.close()"
   ]
  },
  {
   "cell_type": "code",
   "execution_count": 24,
   "metadata": {},
   "outputs": [],
   "source": [
    "def find_sentences_from_page(title, page, keywords, answerwords, goldfactwords):\n",
    "    try: \n",
    "        content = wikipedia.page(title, auto_suggest=False, redirect=True).content\n",
    "        paragraphs = content[:content.find('== References ==')].split('\\n')\n",
    "        \n",
    "    except: return {}\n",
    "    #records = []\n",
    "    sen2score = {}\n",
    "    for p in paragraphs:\n",
    "        if len(p.split()) >= 10:\n",
    "            #records.append(-999)\n",
    "            doc = nlp(p)\n",
    "            for s in doc.sents:\n",
    "                if len(s) < 10: \n",
    "                    continue\n",
    "                nouns_in_s = [t.text for t in s if (t.pos_ in pos_list or ((not t.is_sent_start) and t.text[0].isupper()))]\n",
    "\n",
    "                IoU_Q = IoU(set(nouns_in_s), keywords)\n",
    "                IoU_A = IoU(set(nouns_in_s), answerwords)\n",
    "                if IoU_Q -  IoU_A > 0.06:\n",
    "                    #print(IoU_Q, IoU_A, s.text)\n",
    "                    IoU_G = IoU(set(nouns_in_s), goldfactwords)\n",
    "                    sen2score[s.text] = {'scores': (IoU_Q, IoU_A, IoU_G, IoU_Q - IoU_A, IoU_Q - IoU_A - IoU_G), 'link': page, 'title': title}\n",
    "                #records.append(round(IoU_Q, 2))\n",
    "    #print(records)\n",
    "\n",
    "    #records = []\n",
    "    for p in paragraphs:\n",
    "        if len(p.split()) >= 10:\n",
    "            #records.append(-999)\n",
    "            doc = nlp(p)\n",
    "            it1, it2 = tee(doc.sents)\n",
    "            next(it2, None)\n",
    "            for s1, s2 in zip(it1, it2):\n",
    "                if len(s1) < 5 or len(s2) < 5 or len(s1)+len(s2) > 70 or len(s1)+len(s2) < 10: \n",
    "                    continue \n",
    "                nouns_in_s = [t.text for s in [s1, s2] for t in s if (t.pos_ in pos_list or ((not t.is_sent_start) and t.text[0].isupper()))]\n",
    "\n",
    "                IoU_Q = IoU(set(nouns_in_s), keywords)\n",
    "                IoU_A = IoU(set(nouns_in_s), answerwords)\n",
    "                if IoU_Q -  IoU_A >= 0.06:\n",
    "                    #print(IoU_Q, IoU_A, \" \".join([s1.text, s2.text]))\n",
    "                    IoU_G = IoU(set(nouns_in_s), goldfactwords)\n",
    "                    sen2score[\" \".join([s1.text, s2.text])] = {'scores': (IoU_Q, IoU_A, IoU_G, IoU_Q - IoU_A, IoU_Q - IoU_A - IoU_G), 'link': page, 'title': title}\n",
    "                    #print(s)\n",
    "                #records.append(round(IoU_Q, 2))\n",
    "    #print(records)\n",
    "    #print(len(sen2score))\n",
    "    return sen2score"
   ]
  },
  {
   "cell_type": "code",
   "execution_count": 903,
   "metadata": {},
   "outputs": [],
   "source": [
    "paragraphs = wikipedia.page(\"Egyptian mythology\", auto_suggest=False, redirect=True).content.split('\\n')"
   ]
  },
  {
   "cell_type": "code",
   "execution_count": 756,
   "metadata": {
    "collapsed": true
   },
   "outputs": [
    {
     "name": "stdout",
     "output_type": "stream",
     "text": [
      "sentence: ------------- 22\n",
      "True 0\n",
      "False 1\n",
      "False 2\n",
      "False 3\n",
      "False 4\n",
      "False 5\n",
      "False 6\n",
      "False 7\n",
      "False 8\n",
      "False 9\n",
      "False 10\n",
      "False 11\n",
      "False 12\n",
      "False 13\n",
      "False 14\n",
      "False 15\n",
      "False 16\n",
      "False 17\n",
      "False 18\n",
      "False 19\n",
      "False 20\n",
      "False 21\n",
      "sentence: ------------- 25\n",
      "True 0\n",
      "False 1\n",
      "False 2\n",
      "False 3\n",
      "False 4\n",
      "False 5\n",
      "False 6\n",
      "False 7\n",
      "False 8\n",
      "False 9\n",
      "False 10\n",
      "False 11\n",
      "False 12\n",
      "False 13\n",
      "False 14\n",
      "False 15\n",
      "False 16\n",
      "False 17\n",
      "False 18\n",
      "False 19\n",
      "False 20\n",
      "False 21\n",
      "False 22\n",
      "False 23\n",
      "False 24\n"
     ]
    }
   ],
   "source": [
    "doc = nlp(\"The ancient Egyptians had an elaborate set of funerary practices that they believed were necessary to ensure their immortality after death. These rituals included mummifying the body, casting magic spells, and burials with specific grave goods thought to be needed in the afterlife.\")\n",
    "for s in doc.sents:\n",
    "    print(\"sentence: -------------\", len(s))\n",
    "    for t in s:\n",
    "        print(t.is_sent_start, t.i - s.start)"
   ]
  },
  {
   "cell_type": "code",
   "execution_count": 763,
   "metadata": {
    "collapsed": true
   },
   "outputs": [
    {
     "data": {
      "text/plain": [
       "'\\n\\n\\n\\nAncient Egyptian funerary practices - Wikipedia\\n\\n\\n\\n\\n\\n\\n\\n\\n\\n\\n\\n\\n\\n\\n\\n\\n\\n\\n\\n\\n\\n\\n\\n\\n\\n\\n\\n\\n\\n\\n\\n\\n\\nAncient Egyptian funerary practices\\n\\nFrom Wikipedia, the free encyclopedia\\n\\xa0\\xa0(Redirected from Egyptian tombs)\\n\\n\\nJump to navigation\\nJump to search\\nElaborate set of funerary practices\\n The Opening of the Mouth ceremony being performed on a mummy before the tomb\\nPart of a series onAncient Egyptian religion\\nBeliefs\\nAfterlife\\nDuat\\nMa\\'at\\nMythology\\nNumerology\\nPhilosophy\\nSoul\\n\\nPractices\\nFunerals\\nOffering formula\\nTemples\\nPriestess of Hathor\\nPyramids\\n\\nDeities (list)Ogdoad\\nAmun\\nAmunet\\nHauhet\\nHeh\\nKauket\\nKek\\nNaunet\\nNu\\nEnnead\\nAtum\\nGeb\\nIsis\\nNephthys\\nNut\\nOsiris\\nSet\\nShu\\nTefnut\\nA\\nAker\\nAkhty\\nAmmit\\nAm-heh\\nAnat\\nAndjety\\nAnhur\\nAnput\\nAnubis\\nAnuket\\nApedemak\\nApep\\nApis\\nApt\\nAqen\\nArensnuphis\\nAsh\\nAssessors\\nAstarte\\nAten\\nB\\n\\nBabi\\nBanebdjedet\\nBastet\\nBat\\nBata\\nBa-Pef\\nBennu\\nBes\\nBuchis\\nC\\n\\nCavern deities\\nD\\n\\nDedun\\nDuau (god)\\nF\\n\\nFour sons of Horus\\nDuamutef\\nHapi\\nImset\\nQebehsenuef\\nG\\n\\nGate deities\\nH\\n\\nHa\\nHapi\\nHathor\\nHatmehit\\nHedetet\\nHedjhotep\\nHeka\\nHemen\\nHemsut\\nHeqet\\nHermanubis\\nHesat\\nHorus\\nHeryshaf\\nHu\\nI\\n\\nIabet\\nIah\\nIat\\nIhy\\nImentet\\nImhotep\\nIunit\\nIusaaset\\nK\\n\\nKebechet\\nKhensit\\nKhenti-Amentiu\\nKhenti-kheti\\nKhepri\\nKherty\\nKhnum\\nKhonsu\\nKothar-wa-Khasis\\nM\\n\\nMaahes\\nMa\\'at\\nMandulis\\nMedjed\\nMafdet\\nMehen\\nMehet-Weret\\nMehit\\nMenhit\\nMeret\\nMeretseger\\nMeskhenet\\nMin\\nMnevis\\nMontu\\nMut\\nN\\n\\nNebethetepet\\nNebtuwi\\nNefertem\\nNehebkau\\nNehmetawy\\nNeith\\nNemty\\nNekhbet\\nNeper\\nP\\n\\nPakhet\\nPetbe\\nPtah\\nQ\\n\\nQebui\\nQetesh\\nR\\n\\nRa\\nRaet-Tawy\\nRem\\nRenenutet\\nRenpet\\nRepyt\\nResheph\\nS\\n\\nSah\\nSatis\\nSekhmet\\nSeker\\nSerapis\\nSerket\\nSeshat\\nShai\\nShed\\nShesmetet\\nShezmu\\nSia\\nSobek\\nSopdet\\nSopdu\\nSouls of Pe and Nekhen\\nT\\n\\nTatenen\\nTaweret\\nTayt\\nTa-Bitjet\\nTenenet\\nThoth\\nHermes Trismegistus\\nTjenenyet\\nTutu\\nU\\n\\nUnut\\nW\\n\\nWadjet\\nWadj-wer\\nWeneg\\nWepset\\nWepwawet\\nWerethekau\\nWosret\\n\\nLocations\\nAaru\\nBenben\\nDuat\\nLand of Manu\\nThe Indestructibles\\n\\nSymbols and objects\\nAani\\nAbtu\\nAnkh\\nAtef\\nAtet\\nBook of Thoth\\nCartouche\\nCrook and flail\\nDeshret\\nDjed\\nEgyptian obelisk\\nEgyptian pool\\nEye of Horus\\nEye of Ra\\nGriffin\\nHedjet\\nHemhem crown\\nHennu\\nHieracosphinx\\nImiut fetish\\nKhepresh\\nKneph\\nMatet boat\\nMedjed\\nMenat\\nNebu\\nNemes\\nNeshmet\\nOuroboros\\nPschent\\nScarab\\nSeqtet boat\\nSerekh\\nSerpopard\\nSet animal\\nShen ring\\nSphinx\\nTyet\\nUraeus\\nUshabti\\nWas-sceptre\\nWinged sun\\n\\nTexts\\nFunerary texts (Amduat • Books of Breathing • Book of Caverns • Book of the Dead • Book of the Earth • Book of Gates)\\n\\nRelated religions\\nAtenism\\nHermeticism\\nThelema\\nKemeticism (Kemetic Orthodoxy • Church of the Most High Goddess)\\n\\n\\xa0Ancient Egypt portalvte\\nThe ancient Egyptians had an elaborate set of funerary practices that they believed were necessary to ensure their immortality after death. These rituals included mummifying the body, casting magic spells, and burials with specific grave goods thought to be needed in the afterlife.[1][2]\\nThe ancient Egyptian burial process evolved over time as old customs were discarded and new ones adopted, but several important elements of the process persisted. Although specific details changed over time, the preparation of the body, the magic rituals, and grave goods were all essential parts of a proper Egyptian funeral.\\n\\nContents\\n\\n1 History\\n\\n1.1 Prehistory, Earliest Burials\\n1.2 Predynastic Period, Development of Customs\\n1.3 Early Dynastic Period, Tombs and Coffins\\n1.4 Old Kingdom, Pyramids and Mummification\\n1.5 First Intermediate Period, Regional Variation\\n1.6 Middle Kingdom, New Tomb Contents\\n1.7 Second Intermediate Period, Foreigner Burials\\n1.8 New Kingdom, New Object Purposes\\n1.9 Third Intermediate Period\\n1.10 Late Period, Monumentality and Return to Traditions\\n1.11 Ptolemaic Period, Hellenistic Influences\\n1.12 Roman Period, Roman Influences\\n\\n\\n2 Funerary rituals\\n3 Mummification\\n\\n3.1 Embalming\\n3.2 Mummification process\\n3.3 Animal mummification\\n\\n\\n4 Burial rituals\\n5 Tombs\\n6 Coffins\\n7 Damnation\\n8 Judgement\\n9 Funerary texts\\n10 Burial goods\\n11 Funerary boats\\n12 The study of ancient Egyptian mummies today\\n13 Depictions in modern culture\\n14 See also\\n15 References\\n16 External links\\n\\n\\nHistory[edit]\\n Professional mourners in eloquent gestures of mourning.\\nAlthough no writing survived from the Predynastic Period in Egypt (c. 6000 – c. 3150 BCE), scholars believe the importance of the physical body and its preservation originated there. This likely explains why people of that time did not follow the common practice of cremation but rather buried the dead. Some also believe they may have feared the bodies would rise again if mistreated after death.[3]\\nEarly bodies were buried in simple, shallow oval pits, with a few burial goods. Sometimes multiple people and animals were placed in the same grave. Over time, graves became more complex. At one point, bodies were placed in a wicker basket, but eventually bodies were places in wooden or terracotta coffins. The latest tombs Egyptians made were sarcophagi. These graves contained burial goods like jewellery, food, games and sharpened splint.[4]\\nBetween the Predynastic Period and the Ptolemaic dynasty, there was a constant focus on eternal life and the certainty of personal existence beyond death. This belief in an afterlife is reflected in the burial of grave goods in tombs. The Egyptians\\' beliefs in an afterlife became known throughout the ancient world by way of trade and cultural transmission having an influence on other civilizations and religions. Notably, this belief became well known by way of the Silk Road. It was believed that individuals were admitted into the afterlife on the basis of being able to serve a purpose there. For example, the pharaoh was thought to be allowed into the afterlife because of his role as a ruler of Ancient Egypt, which would be a purpose translated into his afterlife. \\nHuman sacrifices found in early royal tombs reinforce the idea of serving a purpose in the afterlife. Those sacrificed were probably meant to serve the pharaoh in his afterlife. Eventually, figurines and wall paintings begin to replace human victims.[5] Some of these figurines may have been created to resemble certain people, so they could follow the pharaoh after their lives ended.\\nNot only did the lower classes rely on the pharaoh\\'s favor, but also the noble classes. They believed that when he died, the pharaoh became a sort of god who could bestow upon certain individuals the ability to have an afterlife. This belief existed from the predynastic period through the Old Kingdom.\\nAlthough many spells from the predeceasing texts were carried over, the new Coffin Texts also had additional new spells added, along with slight changes made to make this new funerary text more relatable to the nobility.[6] In the First Intermediate Period, however, the importance of the pharaoh declined. Funerary texts, previously restricted to royal use, became more widely available. The pharaoh was no longer a god-king in the sense that only he was allowed in the next life due to his status here, now he was merely the ruler of the population who upon his death would be leveled down towards the plane of the mortals.[7]\\n\\nPrehistory, Earliest Burials[edit]\\nThe first funerals in Egypt are known from the villages of Omari and Maadi in the north, near present-day Cairo. The people of these villages buried their dead in a simple, round grave with a pot. The body was neither treated nor arranged in a particular way which would change later in the historical period. Without any written evidence, there is little to provide information about contemporary beliefs concerning the afterlife except for the regular inclusion of a single pot in the grave. Given later customs, the pot was probably intended to hold food for the deceased.[8]\\n\\nPredynastic Period, Development of Customs[edit]\\nFunerary customs were developed during the Predynastic period from those of the Prehistoric Period. At first, people excavated round graves with one pot in the Badarian Period (4400–3800 BC), continuing the tradition of Omari and Maadi cultures. By the end of the Predynastic period, there were increasing numbers of objects deposited with the body in rectangular graves, and there is growing evidence of rituals practiced by Egyptians of the Naqada II Period (3650–3300 BC). At this point, bodies were regularly arranged in a crouched or fetal position with the face toward either the east the rising sun or the west (which in this historical period was the land of the dead). Artists painted jars with funeral processions and perhaps ritual dancing. Figures of bare-breasted women with birdlike faces and their legs concealed under skirts also appeared. Some graves were much richer in goods than others, demonstrating the beginnings of social stratification. Gender differences in burial emerged with the inclusion of weapons in men\\'s graves and cosmetic palettes in women\\'s graves.[9]\\nBy 3,600 BC, Egyptians had begun to mummify the dead, wrapping them in linen bandages with embalming oils (conifer resin and aromatic plant extracts).[10][11]\\n\\nEarly Dynastic Period, Tombs and Coffins[edit]\\nBy the First Dynasty, some Egyptians were wealthy enough to build tombs over their burials rather than placing their bodies in simple pit graves dug into the sand. The rectangular, mudbrick tomb with an underground burial chamber called a mastaba developed in this period. These tombs had niched walls, a style of building called the palace-façade motif because the walls imitated those surrounding the palace of the king. Since commoners as well as kings, however, had such tombs, the architecture suggests that in death, some wealthy people did achieve an elevated status. Later in the historical period, it is certain that the deceased was associated with the god of the dead, Osiris.\\nGrave goods expanded to include furniture, jewelry, and games as well as the weapons, cosmetic palettes, and food supplies in decorated jars known earlier, in the Predynastic period. Now, however, in the richest tombs, grave goods numbered in the thousands. Only the newly invented coffins for the body were made specifically for the tomb. There is also some inconclusive evidence for mummification. Other objects in the tombs that had been used during daily life suggest that Egyptians already in the First Dynasty anticipated needing in the next life. Further continuity from this life into the next can be found in the positioning of tombs: those persons who served the king during their lifetimes chose burials close to their lord. The use of stela in front of the tomb began in the First Dynasty, indicating a desire to individualize the tomb with the deceased\\'s name.[12]\\n\\nOld Kingdom, Pyramids and Mummification[edit]\\n  Relief of Men Presenting Oxen, ca. 2500–2350 B.C.E. Limestone. In this relief, three men bring cattle to the tomb owner, \"from the towns of the estate,\" as the inscription says. Two of these balding, rustic laborers wear kilts of coarse material and the other wears nothing at all. A fragmentary scene below shows men bringing cranes, which Egyptians penned and raised for food. Artisans carved images of live food animals in tombs to supply the deceased with an eternal source of provisions. Brooklyn Museum\\nIn the Old Kingdom, kings first built pyramids for their tombs surrounded by stone mastaba tombs for their high officials. The fact that most high officials were also royal relatives suggests another motivation for such placement: these complexes were also family cemeteries.\\nAmong the elite, bodies were mummified, wrapped in linen bandages, sometimes covered with molded plaster, and placed in stone sarcophagi or plain wooden coffins. At the end of the Old Kingdom, mummy masks in cartonnage (linen soaked in plaster, modeled and painted) also appeared. Canopic jars now held their internal organs. Amulets of gold, faience, and carnelian first appeared in various shapes to protect different parts of the body. There is also the first evidence of inscriptions inside the coffins of the elite during the Old Kingdom. Often, reliefs of everyday items were etched onto the walls supplemented grave goods, which made them available through their representation.\\nThe new false door was a non-functioning stone sculpture of a door, found either inside the chapel or on the outside of the mastaba; it served as a place to make offerings and recite prayers for the deceased. Statues of the deceased were now included in tombs and used for ritual purposes. Burial chambers of some private people received their first decorations in addition to the decoration of the chapels. At the end of the Old Kingdom, the burial chamber decorations depicted offerings, but not people.[13]\\n\\nFirst Intermediate Period, Regional Variation[edit]\\nThe political situation in the First Intermediate Period, with many centers of power, is reflected in the many local styles of art and burial at this time. The many regional styles for decorating coffins make their origins easy to distinguish from each other. For example, some coffins have one-line inscriptions, and many styles include the depiction of Wadjet eyes (the human eye with the markings of a falcon). There are also regional variations in the hieroglyphs used to decorate coffins.\\nOccasionally men had tools and weapons in their graves, while some women had jewelry and cosmetic objects such as mirrors. Grindstones were sometimes included in women\\'s tombs, perhaps to be considered a tool for food preparation in the next world, just as the weapons in men\\'s tombs imply men\\'s assignment to a role in fighting.[14]\\n\\nMiddle Kingdom, New Tomb Contents[edit]\\n Mask from a coffin. Cartonnage, 37.1387E, Brooklyn Museum\\nBurial customs in the Middle Kingdom reflect some of the political trends of this period. During the Eleventh Dynasty, tombs were cut into the mountains of Thebes surrounding the king\\'s tomb or in local cemeteries in Upper and Middle Egypt; Thebes was the native city of the Eleventh Dynasty kings, and they preferred to be buried there. But the Twelfth Dynasty, high officials served the kings of a new family now ruling from the north in Lisht; these kings and their high officials preferred burial in a mastaba near the pyramids belonging to their masters. Moreover, the difference in topography between Thebes and Lisht led to a difference in tomb type: in the north, nobles build mastaba tombs on the flat desert plains, while in the south, local dignitaries continued to excavate tombs in the mountain.\\nFor those of ranks lower than royal courtiers during the Eleventh Dynasty, tombs were simpler. Coffins could be simple wooden boxes with the body either mummified and wrapped in linen or simply wrapped without mummification, and the addition of a cartonnage mummy mask, a custom that continued until the Graeco-Roman period. Some tombs included wooded shoes and a simple statue near the body. In one burial there were only twelve loaves of bread, a leg of beef, and a jar of beer for food offerings. Jewelry could be included but only rarely were objects of great value found in non-elite graves. Some burials continued to include the wooden models that were popular during the First Intermediate Period. Wooden models of boats, scenes of food production, craftsmen and workshops, and professions such as scribes or soldiers have been found in the tombs of this period.\\nSome rectangular coffins of the Twelfth Dynasty have short inscriptions and representations of the most important offerings the deceased required. For men, the objects depicted were weapons and symbols of office as well as food. Women\\'s coffins depicted mirrors, sandals, and jars containing food and drink. Some coffins included texts that were later versions of the royal Pyramid Texts.\\nAnother kind of faience model of the deceased as a mummy seems to anticipate the use of shabti figurines (also called shawabti or an ushabti) later in the Twelfth Dynasty. These early figurines do not have the text directing the figure to work in the place of the deceased that is found in later figurines. The richest people had stone figurines that seem to anticipate shabtis, though some scholars have seen them as mummy substitutes rather than servant figures.\\nIn the later Twelfth Dynasty, significant changes occurred in burials, perhaps reflecting administrative changes enacted by King Senwosret III (1836–1818 BC). The body was now regularly placed on its back, rather than its side as had been done for thousands of years. Coffin texts and wooden models disappeared from new tombs of the period while heart scarabs and figurines shaped like mummies were now often included in burials, as they would be for the remainder of Egyptian history. Coffin decoration was simplified. The Thirteenth Dynasty saw another change in decoration. Different motifs were found in the north and south, a reflection of decentralized government power at the time. There was also a marked increase in the number of burials in one tomb, a rare occurrence in earlier periods. The reuse of one tomb by a family over generations seems to have occurred when wealth was more equitably spread.[15]\\n\\nSecond Intermediate Period, Foreigner Burials[edit]\\nKnown graves from the Second Intermediate Period reveal the presence of non-Egyptians buried in the country. In the north, graves associated with the Hyksos, a western Semitic people ruling the north from the northeast delta, include small mudbrick structures containing the body, pottery vessels, a dagger in a men\\'s graves and often a nearby donkey burial. Simple pan-shaped graves in various parts of the country are thought to belong to Nubian soldiers. Such graves reflect very ancient customs and feature shallow, round pits, bodies contracted and minimal food offerings in pots. The occasional inclusion of identifiable Egyptian materials from the Second Intermediate Period provides the only marks distinguishing these burials from those of Predynastic and even earlier periods.[16]\\n\\nNew Kingdom, New Object Purposes[edit]\\n Objects in the Tomb of Tutankhamun. Photograph taken by Harry Burton in 1922\\nThe majority of elite tombs in the New Kingdom were rock-cut chambers. Kings were buried in multi-roomed, rock-cut tombs in the Valley of the Kings and no longer in pyramids. Priests conducted funerary rituals for them in stone temples built on the west bank of the Nile opposite of Thebes. From the current evidence, the Eighteenth Dynasty appears to be the last period in which Egyptians regularly included multiple objects from their daily lives in their tombs; beginning in the Nineteenth Dynasty, tombs contained fewer items from daily life and included objects made especially for the next world. Thus, the change from the Eighteenth to the Nineteenth Dynasties formed a dividing line in burial traditions: the Eighteenth Dynasty more closely remembered the immediate past in its customs whereas the Nineteenth Dynasty anticipated the customs of the Late Period.\\n\\n Gilded bier fashioned to resemble the goddess Sekhmet, the fierce protector of the kings in life and death, from the tomb of Tutankhamun, Cairo Museum\\nPeople of the elite ranks in the Eighteenth Dynasty placed furniture as well as clothing and other items in their tombs, objects they undoubtedly used during life on earth. Beds, headrests, chairs, stools, leather sandals, jewelry, musical instruments, and wooden storage chests were present in these tombs. While all of the objects listed were for the elite, many poor people did not put anything beyond weapons and cosmetics into their tombs.\\nNo elite tombs survive unplundered from the Ramesside period. In this period, artists decorated tombs belonging to the elite with more scene of religious events, rather than the everyday scene that had been popular since the Old Kingdom. The funeral itself, the funerary meal with multiple relatives, the worshipping of the gods, even figures in the underworld were subjects in elite tomb decorations. The majority of objects found in the Ramesside period tombs were made for the afterlife. Aside from the jewelry, which could have been used also during life, objects in Ramesside tombs were manufactured for the next world.[17]\\n\\nThird Intermediate Period[edit]\\n Shabtis of King Pinudjem I, ca. 1025–1007 B.C.E., 16.190, Brooklyn Museum\\nAlthough the political structure of the New Kingdom collapsed at the end of the Twentieth Dynasty, the majority of burials in the Twenty-first Dynasty directly reflect developments from the earlier period. At the beginning of this time, reliefs resembled those from the Ramesside period. Only at the very end of the Third Intermediate Period did new funerary practices of the Late Period begin to be seen.\\nLittle is known of tombs from this period. The very lack of decorations in tombs seems to have led to much more elaborate decoration of coffins. The remaining grave goods of the period show fairly cheaply made shabtis, even when the owner was a queen or a princess.[18]\\n\\nLate Period, Monumentality and Return to Traditions[edit]\\nBurials in the Late Period could make use of large-scale, temple-like tombs built for the non-royal elite for the first time. But the majority of tombs in this period were in shafts sunk into the desert floor. In addition to fine statuary and reliefs reflecting the style of the Old Kingdom, the majority of grave goods were specially made for the tomb. Coffins continued to bear religious texts and scenes. Some shafts were personalized by the use of stela with the deceased prayers and name on it. Shabtis in faience for all classes are known. Canopic jars, though often nonfunctional, continued to be included. Staves and scepters representing the deceased\\'s office in life were often present as well. A wooden figure of either the god Osiris[19] or of the composite deity Ptah-Sokar-Osiris could be found,[20][21] along with heart scarabs, both gold and faience examples of djed-columns, Eye of Horus amulets, figures of gods, and images of the deceased\\'s ba. Tools for the tomb\\'s ritual called the \"opening of the mouth\" as well as \"magical bricks\" at the four compass points could be included.[22]\\n\\nPtolemaic Period, Hellenistic Influences[edit]\\nFollowing Egypt\\'s conquest by Alexander the Great, the country was ruled by the descendants of Ptolemy, one of his generals. The Macedonian Greek family fostered a culture that promoted both Hellenistic and ancient Egyptian ways of life: while many Greek-speaking people living in Alexandria followed the customs of mainland Greece, others adopted Egyptian customs, while Egyptians continued to follow their own already ancient customs.\\nVery few Ptolemaic tombs are known. Fine temple statuary of the period suggests the possibility of tomb sculpture and offering tables. Egyptian elite burials still made use of stone sarcophagi. Books of the Dead and amulets were also still popular.[23]\\n\\nRoman Period, Roman Influences[edit]\\n The mummy of Demetrios, 95–100 CE. Brooklyn Museum\\nThe Romans conquered Egypt in 30 BC, ending the rule of the last and most famous member of the Ptolemaic dynasty, Cleopatra VII. During Roman rule, an elite hybrid burial style developed incorporating both Egyptian and Roman elements.\\nSome people were mummified and wrapped in linen bandages. The front of the mummy was often painted with a selection of traditional Egyptian symbols. Mummy masks in either traditional Egyptian style or Roman style could be added to the mummies. Another possibility was a Roman-style mummy portrait, executed in encaustic (pigment suspended in wax) on a wooden panel. Sometimes the feet of the mummy was covered. An alternative to this was a complete shroud with Egyptian motifs but a portrait in the Roman style. Tombs of the elite could also include fine jewelry.[24]\\n\\nFunerary rituals[edit]\\nSee also: Dance in ancient Egypt §\\xa0Funeral Dances\\nGreek historians Herodotus (5th century BC) and Diodorus Siculus (1st century BC) provide the most complete surviving evidence of how ancient Egyptians approached the preservation of a dead body.[25] Before embalming, or preserving the dead body as to delay or prevent decay, mourners, especially if the deceased had high status, covered their faces with mud, and paraded around town while beating their chests.[25] If the wife of a high-status male died, her body was not embalmed until three or four days have passed, because this prevented abuse of the corpse.[25] In the case that someone drowned or was attacked, embalming was carried out immediately on their body, in a sacred and careful manner. This kind of death was viewed as venerated, and only priests were permitted to touch the body.[25]\\nAfter embalming, the mourners may have carried out a ritual involving an enactment of judgement during the Hour Vigil, with volunteers to play the role of Osiris and his enemy brother Set, as well as the gods Isis, Nephthys, Horus, Anubis, and Thoth.[26] As the tale goes, Set was envious of his brother Osiris for being granted the throne before him, so he plotted to kill him. Osiris\\'s wife, Isis, battled back and forth with Set to gain possession of Osiris\\'s body, and through this struggle, Osiris\\'s spirit was lost.[27] Nonetheless, Osiris resurrected and was reinstated as a god.[28] In addition to the reenactment of the judgement of Osiris, numerous funeral processions were conducted throughout the nearby necropolis, which symbolized different sacred journeys.[26]\\nThe funeral procession to the tomb generally included cattle pulling the body in a sledge-type of carrier, with friends and family to follow. During the procession, the priest burned incense and poured milk before the dead body.[26] Upon arrival to the tomb, and essentially the next life, the priest performed the Opening of the mouth ceremony on the deceased. The deceased\\'s head was turned towards the south, and the body was imagined to be a statue replica of the deceased. Opening the mouth of the deceased symbolized allowing the person to speak and defend themselves during the judgement process. Goods were then offered to the deceased to conclude the ceremony.[26]\\n\\n A funeral procession depicted in the Book of the Dead\\nMummification[edit]\\nMain articles: Mummy §\\xa0Mummification and rank, and List of Egyptian mummies\\nEmbalming[edit]\\nThe preservation of a dead body was critical if the deceased wanted a chance at acceptance into the afterlife. Within the Ancient Egyptian concept of the soul, ka, which represented vitality, leaves the body once the person dies.[29] Only if the body is embalmed in a specific fashion will ka return to the deceased body, and rebirth will take place.[25] The embalmers received the body after death, and in a systematized manner, prepared it for mummification. The family and friends of the deceased had a choice of options that ranged in price for the preparation of the body, similar to the process at modern funeral homes. Next, the embalmers escorted the body to ibw, translated to “place of purification,” a tent in which the body was washed, and then per nefer, “the House of Beauty,” where mummification took place.[25]\\n\\nMummification process[edit]\\n Simplistic representation of the Ancient Egyptian mummification process.\\nIn order to live for all eternity and be presented in front of Osiris, the body of the deceased had to be preserved by mummification, so that the soul could reunite with it, and take pleasure in the afterlife. The main process of mummification was preserving the body by dehydrating it using natron, a natural salt found in Wadi Natrun. The body was drained of any liquids and left with the skin, hair and muscles preserved.[30] The mummification process is said to have taken up to seventy days. During this process, special priests worked as embalmers as they treated and wrapped the body of the deceased in preparation for burial. \\nThe process of mummification was available for anyone who could afford it. It was believed that even those who could not afford this process could still enjoy the afterlife with the right reciting of spells. Mummification existed in three different processes, ranging from most expensive, moderately expensive, and most simplistic, or cheapest.[25] The most classic, common, and most expensive method of mummification dates back to the 18th Dynasty. The first step was to remove the internal organs and liquid so that the body would not decay. After being laid out on a table, the embalmers took out the brain through a process named excerebration by inserting a metal hook through the nostril, breaking through it into the brain. They removed as much as they could with the hook, and the rest they liquefied with drugs and drained out.[25] They threw out the brain because they thought that the heart did all the thinking. The next step was to remove the internal organs, the lungs, liver, stomach, and intestines, and place them in canopic jars with lids shaped like the heads of the protective deities, the four sons of Horus: Imsety, Hapy, Duamutef, and Qebhseneuf. Imsety was human-headed, and guarded the liver; Hapy was ape-headed, and guarded the lungs; Duamutef was jackal-headed, and guarded the stomach; Qebhseneuf was hawk-headed, and guarded the small and large intestines.[25] Sometimes the four canopic jars were placed into a canopic chest, and buried with the mummified body. A canopic chest resembled a \"miniature coffin\" and was intricately painted. The Ancient Egyptians believed that by burying the deceased with their organs, they may rejoin with them in the afterlife.[26] Other times, the organs were cleaned and cleansed, and then returned into the body.[25] The body cavity was then rinsed and cleaned with wine and an array of spices. The body was sewn up with aromatic plants and spices left inside.[25] The heart stayed in the body, because in the hall of judgement, it would be weighed against the feather of Maat. After the body was washed with wine, it was stuffed with bags of natron. The dehydration process took 40 days.[27]\\n\\n Painted mummy bandage\\nThe second part of the process took 30 days. This was the time where the deceased turned into a semi divine being, and all that was left in the body from the first part was removed, followed by applying first wine and then oils. The oils were for ritual purposes, as well as for preventing the limbs and bones from breaking while being wrapped. The body was sometimes colored with a golden resin, which protected the body from bacteria and insects. Additionally, this practice was based on the belief that divine beings had flesh of gold. Next, the body was wrapped in linen cut into strips with amulets while a priest recited prayers and burned incense. The linen was adhered to the body using gum, opposed to a glue.[25] The dressing provided the body physical protection from the elements, and depending on how wealthy the deceased\\'s family was, the deceased could be dressed with an ornamented funeral mask and shroud.[25] Special care was given to the head, hands, feet, and genitals, as contemporary mummies reveal extra wrappings and paddings in these areas.[31] Mummies were identified via small, wooden name-tags tied typically around the deceased\\'s neck.[25] The 70-day process is connected to Osiris and the length the star Sothis was absent from the sky.[28]\\nThe second, moderately expensive option for mummification did not involve an incision into the abdominal cavity or the removal of the internal organs. Instead, the embalmers injected the oil of a cedar tree into the body, which prevented liquid from leaving the body. The body was then laid in natron for a specific number of days. The oil was then drained out of the body, and with it came the internal organs, the stomach and the intestines, which were liquefied by the cedar oil. The flesh dissolved in the natron, which left only skin and bones left of the deceased body. The remains are given back to the family.[25] The cheapest, most basic method of mummification, which was often chosen by the poor, involved purging out the deceased\\'s internal organs, and then laying the body in natron for 70 days. The body was then given back to the family.[25]\\n\\nAnimal mummification[edit]\\nMain article: Animal mummy\\nAnimals were mummified in Ancient Egypt for many reasons. Household pets that held a special important to their owners were buried alongside them. However, animals were not only viewed as pets but as incarnations of the gods. Therefore, these animals were buried to honor ancient Egyptian deities. Some animal mummifications were performed to serve as sacred offerings to the gods who often took the form of animals such as cats, frogs, cows, baboons, and vultures. Other animals were mummified with the intention of being a food offering to humans in the afterlife. Additionally, household pets that held a special important to their owners were buried alongside them. \\n\\n Mummy of a peregrine falcon\\nSeveral kinds of animal remains have been discovered in tombs all around Dayr al-Barsha, a Coptic village in Middle Egypt. The remains found in the shafts and burial chambers included dogs, foxes, eagle owls, bats, rodents, and snakes. These were determined to be individuals that had entered the deposits by accident. Other animal remains that were found were more common and recurred more than those individuals that wound up accidentally trapped in these tombs. These remains included numerous gazelle and cattle bones, as well as calves and goats which were believed to have been in result of human behavior. This was due to finding that some remains had fragments altered, missing, or separated from their original skeletons. These remains also had traces of paint and cut marks on them, seen especially with cattle skulls and feet. Based on this, the natural environment of the Dayr al-Barsha tombs, and the fact that only some parts of these animals were found, the possibility of natural deposition can be ruled out, and the cause of these remains in fact are most likely caused by animal sacrifices, as only the head, foreleg, and feet were apparently selected for deposition within the tombs. According to a study by Christopher Eyre, cattle meat was actually not a part of the daily diet in Ancient Egypt, as the consumption of meat only took place during celebrations including funerary and mortuary rituals, and the practice of providing the deceased with offerings of cattle going back to the Predynastic Period.[32]\\n\\nBurial rituals[edit]\\n Ay performing the opening of the mouth for Tutankhamun.\\nAfter the mummy was prepared, it would need to be re-animated, symbolically, by a priest. The opening of the mouth ceremony was conducted by a priest who would utter a spell and touch the mummy or sarcophagus with a ceremonial adze\\xa0– a copper or stone blade. This ceremony ensured that the mummy could breathe and speak in the afterlife. In a similar fashion, the priest could utter spells to reanimate the mummy\\'s arms, legs, and other body parts.\\nThe priests, maybe even the king\\'s successor, proceeded to move the body through the causeway to the mortuary temple. This is where prayers were recited, incense was burned, and more rituals were performed to help prepare the king for his final journey. The king\\'s mummy was then placed inside the pyramid along with enormous amount of food, drink, furniture, clothes, and jewelry which were to be used in the afterlife. The pyramid was sealed so that no one would ever enter it again. However, the king\\'s soul could move through the burial chamber as it wished. After the funeral the king becomes a god and could be worshipped in the temples beside his pyramid.[33]\\nIn ancient times Egyptians were buried directly in the ground. Since the weather was so hot and dry, it was easy for the bodies to remain preserved. Usually the bodies would be buried in the fetal position.[34] Ancient Egyptians believed the burial process to be an important part in sending humans to a comfortable afterlife. The Egyptians believed that, after death, the deceased could still have such feelings of anger, or hold a grudge as the living. The deceased were also expected to support and help their living family.[35] They believed that the Ba and Ka are what enabled the dead to support their family. The Ba made it possible for an invisible twin to be released from the body to support the family, while the Ka would recognize the twin when it would come back to the body.[36] With the ideas of the dead being so valuable, it is clear why the Egyptians treated the deceased with respect. The less fortunate Egyptians still wanted their family members to be given a proper burial. A typical burial would be held in the desert where the family would wrap the body in a cloth and bury it with everyday objects for the dead to be comfortable.[37] Although some could afford mummification, most commoners were not mummified due to the expense.[38] Often the poor are found in mass graves where their bodies are not mummified and only with minimal household objects, spread out throughout the desert, often in areas that are now populated.[citation needed]\\n\\nTombs[edit]\\n Example of a mastaba\\nThe tomb was the housing for the deceased and served two crucial functions: the tomb provided infinite protection for the deceased to rest, as well as a place for mourners to perform rituals in which aided the deceased into eternal life. Therefore, the ancient Egyptians were very serious about the way in which the tombs were built.[39] Two hallmarks of the tomb included: a burial chamber, which housed the physical body of the deceased (inside a coffin) as well as funerary objects deemed most important, and a \"cult place,\" which resembled a chapel where mourners, family, and friends could congregate. The tomb of a king included a full temple, instead of a chapel.[39]\\nTypically, the tomb of a deceased person was located somewhere close by their home community. The ancient Egyptians opted to bury the deceased in land that was not particularly fertile or useful for vegetation. Therefore, tombs were mostly built in desert areas. Tombs were usually built near each other and rarely stood alone. For a deceased king, however, the tomb was located in a place of utmost sacredness.[39]\\nIn the Prehistoric Egypt, bodies were buried in deserts because they would naturally be preserved by dehydration. The \"graves\" were small oval or rectangular pits dug in the sand. They could give the body of the deceased in a tight position on its left side alongside a few jars of food and drink and slate palettes with magical religious spells. The size of graves eventually increased according to status and wealth. The dry, desert conditions were a benefit in ancient Egypt for burials of the poor, who could not afford the complex burial preparations that the wealthy had.\\nThe simple graves evolved into mudbrick structures called mastabas. Royal mastabas later developed into step pyramids and then \"true pyramids.\"[40] As soon as a king took the throne he would start to build his pyramid. Rituals of the burial, including the \"Opening of the mouth ceremony\" took place at the Valley Temple.[33][41] While a pyramid\\'s large size was made to protect against robbery, it may also be connected to a religious belief about the sun god, Ra.[42]\\nA majority of cemeteries were located on the west bank of the Nile, which was metaphorically viewed as \"the realm of the dead.\" The tomb was said to represent the deceased\\'s place in the cosmos, which ultimately depended on the social class of the deceased. If the deceased was of a notably high-class, they were buried near the king, whereas middle and lower class individuals were simply buried near the communities in which they had lived.[39] In many cases, the tombs of the high-class were situated in accordance with the tombs of the lower classes so that they would be viewed as a \"focal point.\" For example, one burial site was designed so that the tombs of the governors were placed alongside the slope of a hill, whereas the tombs of the governor\\'s attendants were placed at the foot of the hill.[39]\\n\\nCoffins[edit]\\n Anthropoid coffin and sarcophagus of priest Ken-Hor, in the Ägyptisches Museum Berlin\\nAfter having been preserved, the mummy was placed into a coffin. Although the coffins that housed the deceased bodies were made simply of wood, they were intricately painted and designed to suit each individual. During the Old Kingdom, the following was included on each coffin: the title of the deceased, a list of offerings, a false compartment through which ka could pass through, and painted eyes so that the deceased could look through the coffin.[43] The decorations on the coffin usually fit the deceased\\'s status.\\nDuring the Middle Kingdom, the coffin was treated as if it were a \"miniature tomb\" and was painted and inscribed like so. Goddesses Isis and Nephthys were painted on the coffins, and were said to guard the deceased in the afterlife. Along the sides of the coffins, the four sons of Horus were painted, amongst other gods. Prayers were often inscribed on the coffins as well.[43]\\nAnthropoid coffins soon emerged, which were tailored to the contour of the deceased\\'s body. The deceased\\'s face and hair was painted onto the coffin so to personalize it further.[43] A sarcophagus, which is a large, stone container, was used to house the coffin, and provide supplementary protection to the dead body. The Ancient Egyptians translated the word \"sarcophagus\" to mean \"possessor of life,\" and therefore, the sarcophagus would aid the deceased into the afterlife.[44]\\n\\nDamnation[edit]\\nOne of the funerary practices followed by the Egyptians was preparing properly for the afterlife. Ka, the vital force within the Ancient Egyptian concept of the soul, would not return to the deceased body if embalming was not carried out in the proper fashion.[29] In this case, the body decayed, and possibly became unrecognizable, which rendered the afterlife unattainable for the deceased person.[25] If the proper precautions were not taken, damnation would occur. Damnation meant that Egyptians would not experience the glories of the afterlife where they became a deified figure and would be welcomed by the Gods.[45] Instead, damnation was depicted in the books of the underworld. It was a place of opposites; chaos, fire, and struggle.[45]\\xa0Different pages of the books of the underworld depict different perspectives of what happens during damnation. It discusses cutting out humanity and individuality from the person and reversing the cosmic order.[45]\\n\\nJudgement[edit]\\nThe idea of judgement went as follows: in order to be considered for the admittance into the afterlife, those who died were obligated to undergo a multi-step judgement by certain gods.[39] The concept and belief in judgement is outlined in the Book of the Dead, a funerary text of the New Kingdom. The Book of the Dead is composed of spells relating to the deceased and the afterlife. Spell 125, in particular, is understood to be delivered by the deceased at the outset of the judgement process.[39]\\n\\n The Weighing of the Heart\\nThe visual picture of what judgement looks like has been discovered through ancient Egyptian ruins and artefacts. The procedure was depicted as follows: the deceased\\'s heart was weighed in comparison to the feather of Maat, while Ammit awaited to eat the heart (if the deceased was found to be a sinner).[39] Osiris was the judge (among others), and represented an ideal output of the judgement process for the deceased who entered his judgement hall. This is because he resurrected and regained his godly status after he was justified against his brother Set, who wrongly murdered him.[28] The deceased pleaded to Osiris that they had not committed sin, which is known as a \"negative confession.\"[28] The forty-two Assessors of Maat judged how virtuous the life of the deceased was, and this represented the principal element of the deceased entering the afterlife. After passing judgement, the family and friends of the deceased celebrated them and boasted about their righteousness to attain entry into the afterlife.[25]\\n\\nFunerary texts[edit]\\nMain article: Ancient Egyptian funerary texts\\nMany mummies were provided with some form of funerary literature to take with them to the afterlife. Most funerary literature consists of lists of spells and instructions for navigating the afterlife. During the Old Kingdom, only the pharaoh had access to this material, which scholars refer to as the Pyramid Texts. The Pyramid Texts are a collection of spells to assure the royal resurrection and protect the pharaoh from various malignant influences. The Pharaoh Unas was the first to use this collection of spells, as he and a few subsequent pharaohs had them carved on the walls of their pyramids.[46] These texts were individually chosen from a larger bank of spells.\\nIn the First Intermediate Period and in the Middle Kingdom, some of the Pyramid Text spells also are found in burial chambers of high officials and on many coffins, where they begin to evolve into what scholars call the Coffin Texts. In this period, the nobles and many non-royal Egyptians began to have access to funerary literature. Although many spells from the earlier texts were carried over, the new coffin texts also had additional spells, along with slight changes made to make this new funerary text more fit for the nobility.[6]\\nIn the New Kingdom, the Coffin Texts became the Book of the Dead, or the Funeral Papyri, and would last through the Late Kingdom. The text in these books was divided according to chapters/ spells, which were almost two-hundred in number. Each one of these texts was individualized for the deceased, though to varying degrees. If the person was rich enough, then they could commission their own personal version of the text that would include only the spells that they wanted. However, if one was not so wealthy, then one had to make do with the pre-made versions that had spaces left for the name of the deceased.\\nIf the scribe ran out of room while doing the transcription, he would just stop the spell wherever he was and would not continue.[47] It is not until the Twenty-sixth Dynasty that there began to be any regulation of the order or even the number of spells that were to be included in the Book of the Dead.\\nAt this time, the regulation is set at 192 spells to be placed in the book, with certain ones holding the same place at all times.[48] This makes it seem as if the order of the texts was not what was important, so the person could place them in an order that he was comfortable with, but rather that it was what was written that mattered.\\n\\nBurial goods[edit]\\n A selection of shabti statues\\nAlthough the types of burial goods changed throughout ancient Egyptian history, their purpose to protect the deceased and provide sustenance in the afterlife remained.\\nFrom the earliest periods of Egyptian history, all Egyptians were buried with at least some goods that they thought were necessary after death. At a minimum, these consisted of everyday objects such as bowls, combs, and other trinkets, along with food. Wealthier Egyptians could afford to be buried with jewelry, furniture, and other valuables, which made them targets of tomb robbers. In the early Dynastic Period, tombs were filled with daily life objects, such as furniture, jewelry and other valuables. They also contained many stone and pottery vessels.[49] One important factor in the development of Ancient Egyptian tombs was the need of storage space for funerary goods. \\nAs burial customs developed in the Old Kingdom, wealthy citizens were buried in wooden or stone coffins. However, the number of burial goods declined. They were often just a set of copper models, tools and vessels.[50] Starting in the First Intermediate period, wooden models became very popular burial goods. These wooden models often depict everyday activities that the deceased expected to continue doing in the afterlife. Also, a type of rectangular coffin became the standard, being brightly painted and often including an offering formula. Objects of daily use were not often included in the tombs during this period.\\n\\n The ancient Egyptians put green stone scarab beetles into the coffins of important people, along with the mummified bodies.\\nAt the end of the Middle Kingdom, new object types were introduced into burials, such as the first shabtis and the first heart scarabs. Shabtis were little clay statues made to perform tasks on command for the pharaoh. Now objects of daily use appear in tombs again, often magical items already employed for protecting the living. Scarabs (beetles) collect animal dung and roll it into little balls. To the Egyptians, these balls looked like the life-giving Sun, so they hoped that scarabs would bring them long life. Scarabs have been found in tombs and graves.[51]\\nIn the New Kingdom, some of the old burial customs changed. For example, an anthropoid coffin shape became standardized, and the deceased were provided with a small shabti statue, which the Egyptians believed would perform work for them in the afterlife. Elite burials were often filled with objects of daily use. Under Ramesses II and later all daily life objects disappear from tombs. They most often only contained a selection of items especially made for the burial. Also, in later burials, the numbers of shabti statues increased; in some burials, numbering more than four hundred statues. In addition to these shabti statues, the deceased could be buried with many different types of magical figurines to protect them from harm.\\n\\nFunerary boats[edit]\\n Ancient Egyptian funerary boat on display at the Ure Museum from the Tomb of the Officials at Beni Hassan.\\nFunerary boats were a part of some ancient Egyptian burials.[52] Boats played a major role in Egyptian religion because they were conceived as the main means by which the gods traveled across the sky and through to the netherworld. One type of boat used at funerals was for making pilgrimages to holy sites such as Abydos. A large funerary boat, for example, was found near the pyramid of the Old Kingdom Pharaoh Khufu. The funerary boats were usually made of wood; the Egyptians used a collection of papyrus reeds and tied them together with the wood very tightly.[53] The most common route for funerary boats was the River Nile to the afterlife. The boat carried the coffin and often had a dog in the boat since they believed a dog would lead the deceased to the afterlife.[54] The boats usually measured about 20 feet or longer. These however did not match those of the great pharaohs like Pharaoh Khufu (who built the Great Pyramid). His funerary boat was approximately 144 foot long with 12 oars. Common funerary boats were smaller sized with few oars.[55]\\nAt the Ure Museum, there is an Egyptian funerary boat on display that represents a typical tomb offering. This boat symbolizes the transport of the dead from life to the afterlife. In Ancient Egypt death was seen as a boat journey. More specifically, it was seen as a trip across their River Nile that joined the North and South. This funerary boat offering was added to the museum\\'s collection in 1923 from the Liverpool Institute of Archaeology from the Tomb of the Officials at Beni Hassan.\\n\\nThe study of ancient Egyptian mummies today[edit]\\n Mummy of pharaoh Seti I, Egyptian Museum in Cairo. Photo by Emile Brugsch\\nThrough the study of mummies themselves in addition to ancient writers and modern scientists, a better understanding of the Ancient Egyptian mummification process is promoted. The majority of what is known to be true about the mummification process is based on the writing of early historians who carefully recorded the processes-- one of which was Herodotus. Now, modern day archaeologists are using the writings of early historians as a basis for their study. The advancement of new technology including x-rays has allowed for the analysis of mummies without destroying the elaborate outer wrappings of the body. In addition to the use of x-rays, autopsies are also being performed in order to gain a better understanding of the diseases suffered by Ancient Egyptians as well as the treatments used for these diseases. A pregnant mummy sheds light on pregnancy complications and prenatal care and treatments.[56][57] In learning their age of death, experts are able to create a timeline of the dates regarding the ruling of Egyptian kings. In looking at the bones of the mummified bodies, experts get a better idea of the average height and life span. Studying Ancient Egyptian Mummies, archaeologists are able to learn about the past. \\n\\nDepictions in modern culture[edit]\\nBolesław Prus, Pharaoh (1895), depicts the whole process of mummification and funeral at the fall of the 20th Dynasty and New Kingdom.\\nSee also[edit]\\n\\n\\nAncient Egypt portal\\nAncient Egyptian afterlife beliefs\\nEgyptian mummies\\n'"
      ]
     },
     "execution_count": 763,
     "metadata": {},
     "output_type": "execute_result"
    }
   ],
   "source": [
    "url = \"https://en.wikipedia.org/wiki/Egyptian_tombs\"\n",
    "Q = 'What are three things thought to be required funerary practices by the people that thought that like Ra, their physical bodies, or Khat, would reawaken after they completed their journey through the underworld?'\n",
    "req = urllib.request.Request(url, headers = {'User-Agent': random.choice(USER_AGENT_LIST)})\n",
    "with urllib.request.urlopen(req) as f:\n",
    "    html = f.read().decode('utf-8')\n",
    "end_indx = html.find('<h2><span class=\"mw-headline\" id=\"References\">References</span>')\n",
    "html = html[:end_indx]\n",
    "soup = BeautifulSoup(html, 'html.parser')\n",
    "soup.text"
   ]
  },
  {
   "cell_type": "code",
   "execution_count": 19,
   "metadata": {},
   "outputs": [],
   "source": [
    "def IoU(A, B):\n",
    "    intersection = len(A.intersection(B))\n",
    "    union = len(A.union(B))\n",
    "    return round(intersection / (union+1e-7), 2)"
   ]
  },
  {
   "cell_type": "code",
   "execution_count": 881,
   "metadata": {},
   "outputs": [
    {
     "name": "stdout",
     "output_type": "stream",
     "text": [
      "999\n",
      "1999\n",
      "2999\n",
      "3999\n",
      "4999\n",
      "5999\n",
      "6999\n",
      "731\n",
      "0.14349787194622898 0.09841205375478518\n",
      "2.25689307330195 0.8937753983387692\n",
      "2.453934095494284 1.2716436857249314\n"
     ]
    }
   ],
   "source": [
    "### Calculate num_sents, num_dots, IoU_Q for all positive facts\n",
    "count = 0\n",
    "num_sents = []\n",
    "num_dots = []\n",
    "IoU_Qs = []\n",
    "IoU_As = []\n",
    "IoU_Q_sub_As = []\n",
    "for k in txt_dataset:\n",
    "    if int(k) % 1000 == 999: print(k)\n",
    "    if random.random() > 0.1: continue\n",
    "    #print(k)\n",
    "    count += 1\n",
    "    Q = txt_dataset[k]['Q']\n",
    "    doc = nlp(Q)\n",
    "    keywords = set([t.text for t in doc if t.pos_ in pos_list or ((not t.is_sent_start) and t.text[0].isupper())])\n",
    "    \n",
    "    A = txt_dataset[k]['A']\n",
    "    doc = nlp(A)\n",
    "    answerwords = set([t.text for t in doc if t.pos_ in pos_list or ((not t.is_sent_start) and t.text[0].isupper())])\n",
    "    #print(answerwords)\n",
    "    for f in txt_dataset[k]['SupportingFacts']:\n",
    "        keywords = keywords.union([urllib.parse.unquote(x) for x in f['url'].split('/')[-1].split('_')])\n",
    "    for f in txt_dataset[k]['SupportingFacts']:\n",
    "        doc = nlp(f['fact'])\n",
    "        num_sents.append(len(list(doc.sents)))\n",
    "        num_dots.append(f['fact'].count('.'))\n",
    "        nouns_in_s = [t.text for t in doc if (t.pos_ in pos_list or ((not t.is_sent_start) and t.text[0].isupper()))]\n",
    "        \n",
    "        IoU_Q = IoU(set(nouns_in_s), keywords)\n",
    "        IoU_Qs.append(IoU_Q)\n",
    "        IoU_A = IoU(set(nouns_in_s), answerwords)\n",
    "        IoU_As.append(IoU_A)\n",
    "        IoU_Q_sub_As.append(IoU_Q - IoU_A)\n",
    "    #break\n",
    "print(count)\n",
    "print(np.mean(IoU_Qs), np.std(IoU_Qs))\n",
    "print(np.mean(num_sents), np.std(num_sents))\n",
    "print(np.mean(num_dots), np.std(num_dots))\n"
   ]
  },
  {
   "cell_type": "code",
   "execution_count": 882,
   "metadata": {},
   "outputs": [
    {
     "name": "stdout",
     "output_type": "stream",
     "text": [
      "0.06880772929447361 0.0894684868478612\n",
      "0.07469014265175539 0.12109388161553208\n"
     ]
    }
   ],
   "source": [
    "print(np.mean(IoU_As), np.std(IoU_As))\n",
    "print(np.mean(IoU_Q_sub_As), np.std(IoU_Q_sub_As))"
   ]
  },
  {
   "cell_type": "code",
   "execution_count": 866,
   "metadata": {
    "scrolled": false
   },
   "outputs": [
    {
     "name": "stdout",
     "output_type": "stream",
     "text": [
      "Which person is more likely to code with fewer errors; Indra Joshi or Jagdish Joshi?\n",
      "Were T.M. Parrott and Sir Thomas Perrot born on the same continent or different continents?\n",
      "Are Rassolnik and Chicken soup made with the same meat or different meat?\n",
      "Is it true that the only way to get an Intel processor slot to accept another processor it was designed for is to bend it left or right when installing it?\n",
      "Was William John Battersby's male child dead or alive when the company eventually merged with several other hat makers?\n",
      "Did the Buccaneers make it farther in the playoffs in 2001 or in 2002?\n",
      "Replacing a coastal mangrove stand, roadside weeds or wheat fields is all called what?\n",
      "Who created something first; Daniel Jones or Laurie Lee?\n",
      "Was Guild single longer after her marriage to Russell or after her marriage to Martin?\n",
      "Did Edgar, King of Scotland claim kingship before or after the birth of Sancho Alfónsez?\n",
      "Which play was longer: Corey Rodgers' touchdown run in the 2003 Fort Worth Bowl or Byron Leftwich's touchdown pass to Denero Marriott in the 2002 GMAC Bowl?\n",
      "Were the founders of Dawn newspaper of India and The Dawn publishing house of the same religion or different religions?\n",
      "Which is older Jan Novak or Nicholas Ryan Novak?\n",
      "Would a Commander (often abbreviated Cdr) and a Commander, Navy Installations Command (CNIC) be in the same country's naval force or different country's naval force?\n",
      "Are the Panaeolus semiovatus and the Stomopneustes variolaris both from the same or different regions?\n",
      "What do the remnants of the former floodplain of a stream or river form that incise into the material that it deposited in the valley?\n",
      "Who was born first; Charlie (Karoly Horvath) or Shawn Phillips?\n",
      "The item that uses a beat frequency oscillator or BFO as a dedicated oscillator used to create an audio frequency signal from Morse code radiotelegraphy ( CW) transmissions to make them audible receives what type of waves?\n",
      "At their respective maximum ranges, would the Type 90 75mm field gun or the 8-inch gun M1 artillery pieces been more likely to hit the other?\n",
      "Were the 1921 and 1934 film versions of The Double Event made in the same or different countries?\n",
      "Which medication is likely to save money because the original owner of the patent no longer controls it; Generic Drug or Lithium?\n",
      "Did the German Kynology propose the name \"Alpendog\" for Barry hounds before or after Bern Minster was completed?\n",
      "Which event came first: the birth of Roman Emperor Hadrian or the establishing of Givat Massuah?\n",
      "Which is less controversial: Global Trade Exchange or Global Trade Watch?\n",
      "Which castle has more original remnants that are still visible; Montfolde or Bishop's palace?\n",
      "Did Vancouver Giants part-owner Pat Quinn die before or after MetLife Stadium was opened?\n",
      "Were Darren Moore and Ian Storey-Moore born in the same country or different countries?\n",
      "Who has a longer birth last name: Kram or Spider Webb?\n",
      "Which occurred first: the Debra Dean character appearing on East Enders or the airing of the first episode from the 22nd season of Home and Away?\n",
      "Which event was earlier in the calendar year: Humboldt Broncos bus crash or Carrollton bus collision?\n",
      "Was Arsenal's season streak in the top division of English Football in the 1920's a bigger or smaller number than the Wimbledon Southern League title streak as of 1977?\n",
      "What other name can be used for the stew that uses blood of the hare or rabbit?\n",
      "Which contestant did better in the Miss Universe contests, winning a more wide title and defeating more contestants; Rabiya Mateo or Catriona Gray?\n",
      "In which case is temperature the most important determining factor to  balance; Balancing of rotating masses or Hydronic balancing?\n",
      "If you wanted to live in a place where people who work very hard have lots of political power, should you live in a dictatorship or the political system whose name comes from the Ancient Greek term for strength and power?\n",
      "Which is a more wide study, encompassing more beings and Earth Features; Geography or Saltation?\n",
      "Which event includes more jumping over things; King George VI Chase or Coronation Cup?\n",
      "Which election was more closely contested, McClellan's or the contest between Eisenhower and Stevenson?\n",
      "Did Frank Marlowe and Hugh Marlowe perform during the same time period or a different time period?\n",
      "Which is more likely to be incorporated into local law, transcending religion, making it more public or formal; Flogging or Self Flagellation?\n",
      "Which came first, the \"Red Fox Battallion\", or the British military officer later known as the \"Red Fox\"?\n",
      "Which occurred first: Lindsey Graham's endorsement of Jeb Bush for the 2016 presidential elections or the 2016 caucuses and primaries?\n",
      "Which Boy Scouts of America region fully covers more states: Central or Northeast?\n",
      "Which maneuver requires forces to be divided in some way, more necessarily; Pincer movement or a single flanking movement?\n",
      "Did Russell Maclellan become Premier of Nova Scotia before or after Donald Cameron assumed office in 1991?\n",
      "Which holiday was celebrated first, The Aphrodisia festival or bank holidays in the UK?\n",
      "Are there more classes of nerve fiber in the central nervous system and peripheral nervous system or more types of neuroglia found in the peripheral nervous system?\n",
      "Which bird's feet enable it to swim better; Pigeons and doves or Heliornithidae?\n",
      "Who announced a provisional list of players for the UEFA Euro 2012 squads first, Bert van Marwijk or Blokhin?\n",
      "Was the additional dock siding of the main station at London Waterloo station opened before or after the LCDR connected Blackfriars to Farringdon via the Snow Hill Tunnel?\n",
      "What family of proteins with high molecular weight are under investigation as possible diagnostic markers for malignancies and other disease processes in which they are most commonly over- or mis-expressed?\n",
      "Who was born later; Catherine Fabienne Dorleac (Catherine Deneuve) or Catherine Wagner?\n",
      "Are Catholic University of America and Washington University in St. Louis both private, or is only one private?\n",
      "Who is older, Wesley Lopes Beltrame or Wesley David de Oliveira Andrade?\n",
      "How are the Eighteen Arhats depicted in the religion practiced by the person who formulated a nominalist theory of meaning called apoha, or theory of exclusions ?\n",
      "What is does a subfield of calculus have in common with a gear train with three shafts that has the property that the rotational speed of one shaft is the average of the speeds of the others, or a fixed multiple of that average?\n",
      "Which Republican candidate announced their run for president earlier; Michele Bachmann or Gary Johnson?\n",
      "Was the 2002 or he 1998 Ohio gubernatorial election considered more competitive?\n",
      "Which would be closer to Central London: Dartford or Longfield?\n",
      "Which came first: The Ransom movie or the second season of Ransom, the TV series?\n",
      "What do Mycoviruses and Fungivores both affect or eat?\n",
      "Did Tom Junod graduate from college before or after Narender Singh won his first national championship?\n",
      "Which event took place on an earlier date in 1969, the presidential elections in the Philippines or the resignation of French President Charles de Gaulle?\n",
      "As a back throw, would a Daki age be considered a seoi-nage or a seoi-otoshi?\n",
      "Does the glaucous gull or the black-headed gull have a longer scientific name?\n",
      "Are there more or less major professional sports leagues in the United States than there are current Olympic equestrian disciplines?\n",
      "What is a sort of passivation process in steel and can be something done with acid directly or placing metal parts in a sealed cabinet with moisture source?\n",
      "Does the founder of the Ford Foundation and its current Chairman have the same first name or different first names?\n",
      "What is the name of the region that has a range of mountains running from immediately south of Aberdeen westward, and is contained within all or part of the electoral districts of Buninyong?\n",
      "Were fewer people killed in the blaze at Mecca Intermediate School No. 31 or in the Erwadi fire incident on 6 August 2001?\n",
      "Which came first; Music of Friends or formation of Arrival the band?\n",
      "Which anemone can withstand salt water; dahlia anemone or Anemone, Ranunculacea, windflowers?\n",
      "Which is taller: The Church of Saint Peter ( Aramaic: Knisset Mar Semaan Kefa, Turkish: Senpiyer Kilisesi, St. Peter's Cave Church, Cave-Church of St. Peter) near Antakya or Sant'Antonio\n",
      "Which roadway was opened first, the Pettipauge and Guilford Turnpike or Interstate 80?\n",
      "Who came out with music called Friends first; (Album of Music of Friends) or Arrival?\n",
      "Which area includes more postcode districts, the UB postcode area or the BA postcode area?\n",
      "Which came first: Big Bash League's inaugural year or Brett Lee's retirement from playing cricket?\n",
      "Which is more likely to attack something that creates energy from the sun; Cyanophages or fungivores?\n",
      "Do Camptothecin and Doxorubicin have the same number of letters for initials or a different number of letters?\n",
      "Who served first: Pope Leo XIII or Pope Benedict XVI?\n",
      "Was Augustus active in Gaul in Lugdunum or the Rhine frontier during the capture of Rome by Gauls in 390 BC?\n",
      "Did the Pre-Pottery Neolithic B period occur before or after Kouros sculptures began to be made in Ancient Greece?\n",
      "What was the name of a kingdom created by Alfonso the Great, that also means fierce or brave warrior in Spanish?\n",
      "Which is located in a city with a longer name: India's Southern Naval Command or India's Eastern Naval Command?\n",
      "Which instrument has more strings: the instrument that was made to double a tenor banjo or a normal electric guitar?\n",
      "1626\n"
     ]
    }
   ],
   "source": [
    "or_questions = []\n",
    "for k in txt_dataset:\n",
    "    if ' or '  in txt_dataset[k]['Q']:\n",
    "        if random.random() < 0.05:\n",
    "            print(txt_dataset[k]['Q'])\n",
    "        or_questions.append(k)\n",
    "print(len(or_questions))"
   ]
  },
  {
   "cell_type": "code",
   "execution_count": 907,
   "metadata": {
    "scrolled": false
   },
   "outputs": [
    {
     "name": "stdout",
     "output_type": "stream",
     "text": [
      "0.09523809523809523 0.0 The beliefs that these myths express are an important part of ancient Egyptian religion.\n",
      "+++++++++++++++++  The beliefs that these myths express are an important part of ancient Egyptian religion.\n",
      "0.08695652173913043 0.0 Events from the present that might be regarded as myths include Ra's daily journey through the world and its otherworldly counterpart, the Duat.\n",
      "+++++++++++++++++  Events from the present that might be regarded as myths include Ra's daily journey through the world and its otherworldly counterpart, the Duat.\n",
      "0.1 0.0 Scholars have difficulty defining which ancient Egyptian beliefs are myths.\n",
      "0.09523809523809523 0.0 Frankfort's arguments are the basis for much of the more recent analysis of Egyptian beliefs.\n",
      "+++++++++++++++++  Frankfort's arguments are the basis for much of the more recent analysis of Egyptian beliefs.\n",
      "0.09523809523809523 0.0 Political changes affected Egyptian beliefs, but the ideas that emerged through those changes also have deeper meaning.\n",
      "+++++++++++++++++  Political changes affected Egyptian beliefs, but the ideas that emerged through those changes also have deeper meaning.\n",
      "0.15 0.0 They were the first Egyptian funerary texts, intended to ensure that the kings buried in the pyramid would pass safely through the afterlife.\n",
      "0.12 0.0 These authors' knowledge of Egyptian religion was limited because they were excluded from many religious practices, and their statements about Egyptian beliefs are affected by their biases about Egypt's culture.\n",
      "+++++++++++++++++  These authors' knowledge of Egyptian religion was limited because they were excluded from many religious practices, and their statements about Egyptian beliefs are affected by their biases about Egypt's culture.\n",
      "0.1111111111111111 0.0 She slays many people, but Ra apparently decides that he does not want her to destroy all of humanity.\n",
      "+++++++++++++++++  She slays many people, but Ra apparently decides that he does not want her to destroy all of humanity.\n",
      "0.11764705882352941 0.0 The surviving humans are dismayed, and they attack the people among them who plotted against Ra.\n",
      "+++++++++++++++++  The surviving humans are dismayed, and they attack the people among them who plotted against Ra.\n",
      "0.1 0.0 The beginning of Ra's journey is the beginning of the cyclical time of the present.\n",
      "0.09523809523809523 0.0 In that story, the three kings are the offspring of Ra and a human woman.\n",
      "+++++++++++++++++  In that story, the three kings are the offspring of Ra and a human woman.\n",
      "0.10344827586206896 0.0 Ra's movements through the sky and the Duat are not fully narrated in Egyptian sources, although funerary texts like the Amduat, Book of Gates, and Book of Caverns relate the nighttime half of the journey in sequences of vignettes.\n",
      "0.1 0.0 This journey is key to Ra's nature and to the sustenance of all life.\n",
      "+++++++++++++++++  This journey is key to Ra's nature and to the sustenance of all life.\n",
      "0.10526315789473684 0.0 In traveling across the sky, Ra brings light to the earth, sustaining all things that live there.\n",
      "+++++++++++++++++  In traveling across the sky, Ra brings light to the earth, sustaining all things that live there.\n",
      "0.08695652173913043 0.0 In the evening, Ra takes the form of Atum, the creator god, oldest of all things in the world.\n",
      "0.1 0.0 Indeed, although Egyptian texts avoid saying it explicitly, Ra's entry into the Duat is seen as his death.\n",
      "0.1 0.0 The key event in the journey is the meeting of Ra and Osiris.\n",
      "+++++++++++++++++  The key event in the journey is the meeting of Ra and Osiris.\n",
      "0.1 0.0 Once he has united with Osiris' regenerative power, Ra continues on his journey with renewed vitality.\n",
      "+++++++++++++++++  Once he has united with Osiris' regenerative power, Ra continues on his journey with renewed vitality.\n",
      "0.08333333333333333 0.0 In this revitalized state, Ra is depicted as a child or as the scarab beetle god Khepri, both of which represent rebirth in Egyptian iconography.\n",
      "0.08333333333333333 0.0 Illustrations of gods and mythical events appear extensively alongside religious writing in tombs, temples, and funerary texts.\n",
      "0.08695652173913043 0.0 Similarly, the corridors of tombs were linked with the god's journey through the Duat, and the burial chamber with the tomb of Osiris.\n",
      "0.09523809523809523 0.0 The Egyptian Myths: A Guide to the Ancient Gods and Legends.\n",
      "[-999, 0.04, 0.1, 0.07, 0.0, -999, 0.0, 0.0, 0.0, 0.03, 0.09, 0.0, -999, 0.0, 0.04, 0.0, -999, 0.06, 0.0, 0.05, 0.0, -999, 0.05, 0.0, 0.0, 0.03, 0.0, 0.0, 0.0, 0.0, 0.05, 0.0, 0.0, 0.0, 0.0, 0.05, 0.05, 0.0, 0.0, 0.0, 0.0, 0.0, 0.0, 0.0, 0.04, 0.0, 0.0, 0.0, 0.0, 0.0, 0.0, 0.03, 0.0, 0.0, 0.03, 0.0, 0.0, 0.0, 0.04, -999, 0.1, 0.0, 0.0, 0.03, 0.04, 0.0, 0.04, 0.0, 0.0, -999, 0.03, 0.0, 0.08, 0.0, 0.0, 0.0, 0.0, 0.0, 0.04, -999, 0.0, 0.0, 0.0, 0.0, 0.05, 0.0, 0.0, 0.0, 0.06, 0.0, 0.0, 0.05, 0.04, 0.04, 0.0, 0.05, 0.0, 0.0, 0.0, 0.04, 0.0, 0.05, 0.0, 0.0, 0.0, 0.0, 0.0, 0.0, 0.04, 0.03, 0.1, 0.1, 0.0, 0.05, -999, 0.0, 0.0, 0.0, 0.04, 0.04, 0.0, 0.04, -999, 0.0, 0.04, 0.0, 0.15, 0.04, 0.04, 0.0, 0.03, 0.07, 0.0, -999, 0.0, 0.0, 0.0, 0.0, 0.0, 0.0, 0.0, 0.0, 0.0, 0.0, 0.0, 0.05, 0.0, 0.04, -999, 0.04, 0.0, 0.03, 0.05, 0.0, 0.03, 0.03, 0.12, -999, 0.05, 0.0, 0.0, 0.04, 0.0, 0.0, 0.0, -999, 0.04, 0.0, 0.0, 0.04, 0.04, 0.0, 0.0, 0.05, 0.0, 0.0, 0.0, 0.0, 0.0, 0.0, 0.0, 0.04, 0.0, 0.0, 0.0, 0.05, 0.04, 0.05, 0.0, 0.0, 0.05, -999, 0.0, 0.03, 0.0, 0.04, 0.04, 0.0, 0.04, 0.0, 0.0, 0.0, 0.0, 0.0, 0.0, 0.0, -999, 0.0, 0.04, 0.0, -999, 0.0, 0.0, 0.0, 0.0, 0.0, -999, 0.0, 0.0, 0.0, 0.03, 0.0, 0.0, 0.0, 0.0, 0.0, 0.0, 0.0, 0.0, 0.0, 0.07, 0.0, 0.03, 0.0, 0.05, 0.03, 0.0, 0.0, -999, 0.04, 0.04, 0.07, 0.03, 0.04, 0.04, 0.04, 0.04, 0.05, 0.0, 0.05, 0.04, 0.11, 0.0, 0.0, 0.05, 0.12, 0.04, 0.0, 0.1, 0.0, 0.03, 0.03, 0.04, -999, 0.04, 0.0, 0.0, 0.0, 0.08, 0.0, -999, 0.0, 0.0, 0.0, 0.0, 0.0, 0.0, 0.0, 0.04, 0.0, 0.0, 0.0, 0.04, 0.0, 0.0, 0.0, 0.0, 0.0, 0.0, 0.0, -999, 0.04, 0.03, 0.1, 0.0, 0.0, 0.0, 0.0, 0.0, 0.0, 0.0, 0.04, -999, 0.1, 0.1, 0.11, 0.0, 0.09, 0.04, 0.0, 0.05, 0.0, 0.04, 0.05, 0.0, 0.1, -999, 0.05, 0.0, 0.0, 0.04, 0.05, 0.05, 0.1, 0.04, 0.0, 0.04, 0.05, 0.07, 0.1, 0.03, 0.0, 0.08, -999, 0.05, 0.0, 0.0, 0.05, 0.0, 0.0, -999, 0.04, 0.04, 0.05, 0.04, 0.05, 0.03, 0.0, 0.0, 0.03, 0.0, 0.0, 0.04, 0.0, 0.0, 0.05, -999, 0.08, 0.04, 0.05, 0.0, 0.0, 0.09, 0.03, 0.04, 0.0, 0.0, 0.0, -999, 0.05, 0.02, 0.03, 0.0, 0.0, 0.0, 0.0, 0.0, 0.0, 0.04, -999, 0.0, 0.05, 0.0, 0.0, -999, 0.0, 0.0, -999, 0.0, 0.05, 0.0, -999, 0.0, 0.1, 0.0, -999, 0.0, 0.0, 0.0, -999, 0.0, 0.05, 0.0]\n"
     ]
    }
   ],
   "source": [
    "records = []\n",
    "for p in paragraphs:\n",
    "    if len(p.split()) >= 10:\n",
    "        records.append(-999)\n",
    "        doc = nlp(p)\n",
    "        for s in doc.sents:\n",
    "            if len(s) < 5: \n",
    "                #print(\"------------ Short sentence: \", s)\n",
    "                continue\n",
    "            #intersection = np.sum(b in keywords for b in [t.text for t in s])\n",
    "            nouns_in_s = [t.text for t in s if (t.pos_ in pos_list or ((not t.is_sent_start) and t.text[0].isupper()))]\n",
    "            \n",
    "            #print(nouns_in_s)\n",
    "            IoU_Q = IoU(set(nouns_in_s), keywords)\n",
    "            IoU_A = IoU(set(nouns_in_s), answerwords)\n",
    "            if IoU_Q -  IoU_A > 0.08:\n",
    "                print(IoU_Q, IoU_A, s.text)\n",
    "                sen2score[s.text] = IoU_Q -  IoU_A\n",
    "                #print(s)\n",
    "                if records[-1] > 0: print(\"+++++++++++++++++ \", s)\n",
    "            records.append(round(IoU_Q, 2))\n",
    "print(records)"
   ]
  },
  {
   "cell_type": "code",
   "execution_count": 910,
   "metadata": {
    "scrolled": false
   },
   "outputs": [
    {
     "name": "stdout",
     "output_type": "stream",
     "text": [
      "0.07142857142857142 0.0 Egyptian mythology is the collection of myths from ancient Egypt, which describe the actions of the Egyptian gods as a means of understanding the world around them. The beliefs that these myths express are an important part of ancient Egyptian religion.\n",
      "0.08823529411764706 0.0 The beliefs that these myths express are an important part of ancient Egyptian religion. Myths appear frequently in Egyptian writings and art, particularly in short stories and in religious material such as hymns, ritual texts, funerary texts, and temple decoration.\n",
      "0.07407407407407407 0.0 In ancient Egypt, the earliest evidence of religious practices predates written myths. Rituals early in Egyptian history included only a few motifs from myth.\n",
      "0.06896551724137931 0.0 Scholars have difficulty defining which ancient Egyptian beliefs are myths. The basic definition of myth suggested by the Egyptologist John Baines is \"a sacred or culturally central narrative\".\n",
      "0.06451612903225806 0.0 The Egyptians explained these profound issues through statements about the gods. Egyptian deities represent natural phenomena, from physical objects like the earth or the sun to abstract forces like knowledge and creativity.\n",
      "0.0625 0.0 Egyptian deities represent natural phenomena, from physical objects like the earth or the sun to abstract forces like knowledge and creativity. The actions and interactions of the gods, the Egyptians believed, govern the behavior of all of these forces and elements.\n",
      "0.07692307692307693 0.0 Frankfort's arguments are the basis for much of the more recent analysis of Egyptian beliefs. Political changes affected Egyptian beliefs, but the ideas that emerged through those changes also have deeper meaning.\n",
      "0.10344827586206896 0.0 These texts are a collection of several hundred incantations inscribed in the interiors of pyramids beginning in the 24th century BC. They were the first Egyptian funerary texts, intended to ensure that the kings buried in the pyramid would pass safely through the afterlife.\n",
      "0.1111111111111111 0.0 They were the first Egyptian funerary texts, intended to ensure that the kings buried in the pyramid would pass safely through the afterlife. Many of the incantations allude to myths related to the afterlife, including creation myths and the myth of Osiris.\n",
      "0.0625 0.0 Many of the incantations allude to myths related to the afterlife, including creation myths and the myth of Osiris. Many of the texts are likely much older than their first known written copies, and they therefore provide clues about the early stages of Egyptian religious belief.\n",
      "0.0625 0.0 The New Kingdom also saw the development of another type of funerary text, containing detailed and cohesive descriptions of the nocturnal journey of the sun god. Texts of this type include the Amduat, the Book of Gates, and the Book of Caverns.\n",
      "0.10526315789473684 0.0 Prominent among these writers is Plutarch, whose work De Iside et Osiride contains, among other things, the longest ancient account of the myth of Osiris. These authors' knowledge of Egyptian religion was limited because they were excluded from many religious practices, and their statements about Egyptian beliefs are affected by their biases about Egypt's culture.\n",
      "0.06666666666666667 0.0 Foreign nations are associated with the hostile deserts in Egyptian ideology. Foreign people, likewise, are generally lumped in with the \"nine bows\", people who threaten pharaonic rule and the stability of maat, although peoples allied with or subject to Egypt may be viewed more positively.\n",
      "0.0625 0.0 Foreign people, likewise, are generally lumped in with the \"nine bows\", people who threaten pharaonic rule and the stability of maat, although peoples allied with or subject to Egypt may be viewed more positively. For these reasons, events in Egyptian mythology rarely take place in foreign lands.\n",
      "0.06060606060606061 0.0 By the time of the Coffin Texts, they described the formation of the world as the realization of a concept first developed within the mind of the creator god. The force of heka, or magic, which links things in the divine realm and things in the physical world, is the power that links the creator's original concept with its physical realization.\n",
      "0.06451612903225806 0.0 The force of heka, or magic, which links things in the divine realm and things in the physical world, is the power that links the creator's original concept with its physical realization. Heka itself can be personified as a god, but this intellectual process of creation is not associated with that god alone.\n",
      "0.06451612903225806 0.0 In the period of the mythic past after the creation, Ra dwells on earth as king of the gods and of humans. This period is the closest thing to a golden age in Egyptian tradition, the period of stability that the Egyptians constantly sought to evoke and imitate.\n",
      "0.07407407407407407 0.0 In an episode often called \"The Destruction of Mankind\", related in The Book of the Heavenly Cow, Ra discovers that humanity is plotting rebellion against him and sends his Eye to punish them. She slays many people, but Ra apparently decides that he does not want her to destroy all of humanity.\n",
      "0.09090909090909091 0.0 She slays many people, but Ra apparently decides that he does not want her to destroy all of humanity. He has beer dyed red to resemble blood and spreads it over the field.\n",
      "0.13043478260869565 0.0 Ra then withdraws into the sky, weary of ruling on earth, and begins his daily journey through the heavens and the Duat. The surviving humans are dismayed, and they attack the people among them who plotted against Ra.\n",
      "0.07692307692307693 0.0 The surviving humans are dismayed, and they attack the people among them who plotted against Ra. This event is the origin of warfare, death, and humans' constant struggle to protect maat from the destructive actions of other people.\n",
      "0.06060606060606061 0.0 In The Book of the Heavenly Cow, the results of the destruction of mankind seem to mark the end of the direct reign of the gods and of the linear time of myth. The beginning of Ra's journey is the beginning of the cyclical time of the present.\n",
      "0.08333333333333333 0.0 The beginning of Ra's journey is the beginning of the cyclical time of the present. Yet in other sources, mythic time continues after this change.\n",
      "0.06451612903225806 0.0 Osiris' sister and wife, Isis, finds her husband's body and restores it to wholeness. She is assisted by funerary deities such as Nephthys and Anubis, and the process of Osiris' restoration reflects Egyptian traditions of embalming and burial.\n",
      "0.06666666666666667 0.0 She is assisted by funerary deities such as Nephthys and Anubis, and the process of Osiris' restoration reflects Egyptian traditions of embalming and burial. Isis then briefly revives Osiris to conceive an heir with him: the god Horus.\n",
      "0.12121212121212122 0.0 Ra's movements through the sky and the Duat are not fully narrated in Egyptian sources, although funerary texts like the Amduat, Book of Gates, and Book of Caverns relate the nighttime half of the journey in sequences of vignettes. This journey is key to Ra's nature and to the sustenance of all life.\n",
      "0.13043478260869565 0.0 This journey is key to Ra's nature and to the sustenance of all life. In traveling across the sky, Ra brings light to the earth, sustaining all things that live there.\n",
      "0.08333333333333333 0.0 In traveling across the sky, Ra brings light to the earth, sustaining all things that live there. He reaches the peak of his strength at noon and then ages and weakens as he moves toward sunset.\n",
      "0.07142857142857142 0.0 He reaches the peak of his strength at noon and then ages and weakens as he moves toward sunset. In the evening, Ra takes the form of Atum, the creator god, oldest of all things in the world.\n",
      "0.1 0.0 In the evening, Ra takes the form of Atum, the creator god, oldest of all things in the world. According to early Egyptian texts, at the end of the day he spits out all the other deities, whom he devoured at sunrise.\n",
      "0.06896551724137931 0.0 At others, the sky goddess Nut is said to swallow the sun god, so that his journey through the Duat is likened to a journey through her body. In funerary texts, the Duat and the deities in it are portrayed in elaborate, detailed, and widely varying imagery.\n",
      "0.06451612903225806 0.0 These images are symbolic of the awesome and enigmatic nature of the Duat, where both the gods and the dead are renewed by contact with the original powers of creation. Indeed, although Egyptian texts avoid saying it explicitly, Ra's entry into the Duat is seen as his death.\n"
     ]
    },
    {
     "name": "stdout",
     "output_type": "stream",
     "text": [
      "0.07692307692307693 0.0 In his passage Ra also brings light to the Duat, enlivening the blessed dead who dwell there. In contrast, his enemies—people who have undermined maat—are tormented and thrown into dark pits or lakes of fire.\n",
      "0.11538461538461539 0.0 In contrast, his enemies—people who have undermined maat—are tormented and thrown into dark pits or lakes of fire. The key event in the journey is the meeting of Ra and Osiris.\n",
      "0.1111111111111111 0.0 The key event in the journey is the meeting of Ra and Osiris. In the New Kingdom, this event developed into a complex symbol of the Egyptian conception of life and time.\n",
      "0.06666666666666667 0.0 When Ra and Osiris meet, they merge into a single being. Their pairing reflects the Egyptian vision of time as a continuous repeating pattern, with one member (Osiris) being always static and the other (Ra) living in a constant cycle.\n",
      "0.0967741935483871 0.0 Their pairing reflects the Egyptian vision of time as a continuous repeating pattern, with one member (Osiris) being always static and the other (Ra) living in a constant cycle. Once he has united with Osiris' regenerative power, Ra continues on his journey with renewed vitality.\n",
      "0.07142857142857142 0.0 At this moment, the rising sun god swallows the stars once more, absorbing their power. In this revitalized state, Ra is depicted as a child or as the scarab beetle god Khepri, both of which represent rebirth in Egyptian iconography.\n",
      "0.06451612903225806 0.0 The rituals of Egyptian religion were meant to make the mythic events, and the concepts they represented, real once more, thereby renewing maat. The rituals were believed to achieve this effect through the force of heka, the same connection between the physical and divine realms that enabled the original creation.\n",
      "0.06666666666666667 0.0 The rituals were believed to achieve this effect through the force of heka, the same connection between the physical and divine realms that enabled the original creation. For this reason, Egyptian rituals often included actions that symbolized mythical events.\n",
      "0.09375 0.0 Illustrations of gods and mythical events appear extensively alongside religious writing in tombs, temples, and funerary texts. Mythological scenes in Egyptian artwork are rarely placed in sequence as a narrative, but individual scenes, particularly depicting the resurrection of Osiris, do sometimes appear in religious artwork.\n",
      "0.07407407407407407 0.0 Temple decoration was filled with solar emblems that underscored this relationship. Similarly, the corridors of tombs were linked with the god's journey through the Duat, and the burial chamber with the tomb of Osiris.\n",
      "0.08333333333333333 0.0 Shaw, Garry J. (2014). The Egyptian Myths: A Guide to the Ancient Gods and Legends.\n",
      "[-999, 0.07, 0.09, 0.06, -999, 0.0, 0.0, 0.05, -999, 0.03, 0.03, -999, 0.04, 0.04, 0.03, -999, 0.04, 0.0, 0.03, 0.03, 0.0, 0.0, 0.0, 0.03, 0.04, 0.0, 0.0, 0.0, 0.03, 0.07, 0.04, 0.0, 0.0, 0.0, 0.0, 0.0, 0.0, 0.03, 0.03, 0.0, 0.0, 0.0, 0.0, 0.0, 0.03, 0.0, 0.03, 0.02, 0.03, -999, 0.07, 0.0, 0.03, 0.03, 0.03, 0.03, 0.0, -999, 0.03, 0.06, 0.06, 0.0, 0.0, 0.0, 0.0, 0.03, -999, 0.0, 0.0, 0.0, 0.03, 0.03, 0.0, 0.0, 0.04, 0.05, 0.0, 0.04, 0.04, 0.06, 0.03, 0.04, 0.04, 0.0, 0.0, 0.03, 0.03, 0.04, 0.04, 0.0, 0.0, 0.0, 0.0, 0.0, 0.03, 0.03, 0.06, 0.08, 0.06, 0.03, -999, 0.0, 0.0, 0.03, 0.03, 0.03, 0.03, -999, 0.03, 0.03, 0.1, 0.11, 0.06, 0.02, 0.02, 0.05, 0.06, -999, 0.0, 0.0, 0.0, 0.0, 0.0, 0.0, 0.0, 0.0, 0.0, 0.0, 0.04, 0.03, 0.03, -999, 0.03, 0.03, 0.03, 0.04, 0.03, 0.05, 0.11, -999, 0.04, 0.0, 0.03, 0.03, 0.0, 0.0, -999, 0.03, 0.0, 0.04, 0.03, 0.04, 0.0, 0.04, 0.03, 0.0, 0.0, 0.0, 0.0, 0.0, 0.03, 0.03, 0.0, 0.0, 0.04, 0.07, 0.06, 0.03, 0.0, 0.03, -999, 0.03, 0.03, 0.03, 0.03, 0.04, 0.03, 0.04, 0.0, 0.0, 0.0, 0.0, 0.0, 0.0, -999, 0.04, 0.03, -999, 0.0, 0.0, 0.0, 0.0, -999, 0.0, 0.0, 0.03, 0.0, 0.0, 0.0, 0.0, 0.0, 0.0, 0.0, 0.0, 0.06, 0.06, 0.03, 0.06, 0.03, 0.0, -999, 0.06, 0.06, 0.03, 0.04, 0.03, 0.03, 0.04, 0.05, 0.04, 0.07, 0.09, 0.0, 0.04, 0.13, 0.08, 0.03, 0.06, 0.08, 0.03, -999, 0.03, 0.0, 0.0, 0.06, 0.07, -999, 0.0, 0.0, 0.0, 0.0, 0.0, 0.0, 0.03, 0.03, 0.0, 0.0, 0.03, 0.03, 0.0, 0.0, 0.0, 0.0, 0.0, 0.0, -999, 0.05, 0.06, 0.05, 0.0, 0.0, 0.0, 0.0, 0.0, 0.03, -999, 0.12, 0.13, 0.08, 0.07, 0.1, 0.04, 0.04, 0.04, 0.04, 0.07, 0.03, 0.06, -999, 0.04, 0.0, 0.03, 0.03, 0.08, 0.12, 0.11, 0.04, 0.04, 0.04, 0.07, 0.1, 0.06, 0.03, 0.07, -999, 0.04, 0.04, 0.0, -999, 0.03, 0.04, 0.06, 0.07, 0.05, 0.02, 0.0, 0.03, 0.0, 0.03, -999, 0.09, 0.03, 0.03, 0.0, 0.07, 0.03, 0.0, 0.0, -999, 0.0, 0.0, 0.0, 0.0, 0.0, 0.02, -999, 0.04, 0.0, -999, -999, 0.04, -999, 0.08, -999, 0.0, -999, 0.05]\n",
      "337\n"
     ]
    }
   ],
   "source": [
    "records = []\n",
    "for p in paragraphs:\n",
    "    if len(p.split()) >= 10:\n",
    "        records.append(-999)\n",
    "        doc = nlp(p)\n",
    "        it1, it2 = tee(doc.sents)\n",
    "        next(it2, None)\n",
    "        for s1, s2 in zip(it1, it2):\n",
    "            if len(s1) < 5 or len(s2) < 5 or len(s1)+len(s2) > 70: \n",
    "                #print(\"------------ Short sentence: \", s)\n",
    "                continue\n",
    "            #intersection = np.sum(b in keywords for b in [t.text for t in s])\n",
    "            nouns_in_s = [t.text for s in [s1, s2] for t in s if (t.pos_ in pos_list or ((not t.is_sent_start) and t.text[0].isupper()))]\n",
    "            \n",
    "            #print(nouns_in_s)\n",
    "            IoU_Q = IoU(set(nouns_in_s), keywords)\n",
    "            IoU_A = IoU(set(nouns_in_s), answerwords)\n",
    "            if IoU_Q -  IoU_A >= 0.06:\n",
    "                print(IoU_Q, IoU_A, \" \".join([s1.text, s2.text]))\n",
    "                sen2score[\" \".join([s1.text, s2.text])] = IoU_Q -  IoU_A\n",
    "                #print(s)\n",
    "                #if records[-1] > 0: print(\"+++++++++++++++++ \", \" \".join([s1.text, s2.text]))\n",
    "            records.append(round(IoU_Q, 2))\n",
    "print(records)\n",
    "print(len(records))"
   ]
  },
  {
   "cell_type": "code",
   "execution_count": 813,
   "metadata": {},
   "outputs": [
    {
     "name": "stdout",
     "output_type": "stream",
     "text": [
      "0.10344827586206896 In looking at the bones of the mummified bodies, experts get a better idea of the average height and life span. Studying Ancient Egyptian Mummies, archaeologists are able to learn about the past.\n",
      "0.11403508771929824 One important factor in the development of Ancient Egyptian tombs was the need of storage space for funerary goods.\n",
      "0.10526315789473684 In Ancient Egypt death was seen as a boat journey.\n",
      "0.1111111111111111 The Ancient Egyptian Books of the Afterlife.\n",
      "0.10526315789473684 Mark, Joshua J. “Ancient Egyptian Burial”.\n",
      "0.10714285714285714 Since the people regarded Ra as a principal god, creator of the universe and the source of life, he had a strong influence on them, which led to him being one of the most worshiped of all the Egyptian gods and even considered King of the Gods.\n",
      "0.1111111111111111 When Ra was in the underworld, he would visit all of his various forms.\n",
      "0.10526315789473684 When Ra was in the underworld, he merged with Osiris, the god of the dead.\n",
      "0.21052631578947367 The walls of tombs were dedicated to extremely detailed texts that depicted Ra's journey through the underworld.\n",
      "0.1111111111111111 He was said to lie just below the horizon line, trying to devour Ra as Ra traveled through the underworld.\n",
      "0.10714285714285714 These boats took him on his journey through the sky and the Duat - twelve hours of night which is also the literal underworld of Egypt. While Ra was on the Mesektet, he was in his ram-headed form.\n",
      "0.12 Sometimes, members of the Ennead helped him on his journey, including Set, who overcame the serpent Apophis, and Mehen, who defended against the monsters of the underworld. When Ra was in the underworld, he would visit all of his various forms.\n",
      "0.10344827586206896 When Ra was in the underworld, he would visit all of his various forms. Apophis, the god of chaos (isfet), was an enormous serpent who attempted to stop the sun-boat's journey every night by consuming it or by stopping it in its tracks with a hypnotic stare.\n",
      "0.15384615384615385 At the time of the New Kingdom of Egypt, the worship of Ra had become more complicated and grander. The walls of tombs were dedicated to extremely detailed texts that depicted Ra's journey through the underworld.\n",
      "0.15384615384615385 The walls of tombs were dedicated to extremely detailed texts that depicted Ra's journey through the underworld. Ra was said to carry the prayers and blessings of the living with the souls of the dead on the sun-boat.\n"
     ]
    }
   ],
   "source": [
    "for s in sen2score:\n",
    "    v= sen2score[s]\n",
    "    if v > 0.1:\n",
    "        print(v, s)"
   ]
  },
  {
   "cell_type": "code",
   "execution_count": 599,
   "metadata": {
    "scrolled": false
   },
   "outputs": [
    {
     "name": "stdout",
     "output_type": "stream",
     "text": [
      "15\n",
      " --------------------------------------------------------------- \n",
      "//upload.wikimedia.org/wikipedia/commons/thumb/a/ad/Eucalyptus_tereticornis_-_full_tree.jpg/220px-Eucalyptus_tereticornis_-_full_tree.jpg\n",
      "parent<tr>:  \n",
      "\n",
      "\n",
      "<p>:  Eucalyptus tereticornis, commonly known as forest red gum, blue gum or red irongum,[2] is a species of tree that is native to eastern Australia and southern New Guinea. It has smooth bark, lance-shaped to curved adult leaves, flower buds in groups of seven, nine or eleven, white flowers and hemispherical fruit.\n",
      "\n",
      "prev<th>:  Forest red gum, blue gum, red irongum\n",
      "\n",
      "prev<p>:  \n",
      "\n",
      " --------------------------------------------------------------- \n",
      "//upload.wikimedia.org/wikipedia/commons/thumb/f/f4/Eucalyptus_terticornis_trees.jpg/220px-Eucalyptus_terticornis_trees.jpg\n",
      "parent thumbinner<div>:   E. tereticornis trees\n"
     ]
    }
   ],
   "source": [
    "### Scrap imgs and their captions. \n",
    "url = 'https://en.wikipedia.org/wiki/Forest_Red_Gum'\n",
    "req = urllib.request.Request(url, headers = {'User-Agent': random.choice(USER_AGENT_LIST)})\n",
    "with urllib.request.urlopen(req) as f:\n",
    "    html = f.read().decode('utf-8')\n",
    "end_indx = html.find('<h2><span class=\"mw-headline\" id=\"References\">References</span>')\n",
    "html = html[:end_indx]\n",
    "soup = BeautifulSoup(html, 'html.parser')\n",
    "#links = soup.find_all('img', {'src':re.compile('.jpg|.png')})\n",
    "links = soup.find_all('img')\n",
    "print(len(links))\n",
    "for l in links:\n",
    "    imgUrl = l.get('src')\n",
    "    #if \"http\" not in imgUrl: imgUrl = \"https://\" + url.split(\"/\")[2] + imgUrl\n",
    "    if int(l['width'])<100 or int(l['height'])<100:\n",
    "        continue\n",
    "    if any(b in imgUrl.lower() for b in url_blocklist): \n",
    "        continue\n",
    "    print(\" --------------------------------------------------------------- \")\n",
    "    print(imgUrl)\n",
    "    \n",
    "    # Special case for thumb images, which are located inside a table\n",
    "    thumbinner_div = l.find_parent(\"div\", class_='thumbinner')\n",
    "    if thumbinner_div: \n",
    "        print(\"parent thumbinner<div>: \", thumbinner_div.text)\n",
    "        continue\n",
    "        \n",
    "    tr_parent = l.find_parent('tr')\n",
    "    if tr_parent: print(\"parent<tr>: \", tr_parent.text)\n",
    "        \n",
    "    next_p = l.find_next('p')\n",
    "    if next_p: print(\"<p>: \", next_p.text)\n",
    "                \n",
    "    prev_th = l.find_previous('th')\n",
    "    if prev_th: print(\"prev<th>: \", prev_th.text)\n",
    "    \n",
    "    prev_p = l.find_previous('p')\n",
    "    if prev_p: print(\"prev<p>: \", prev_p.text)\n"
   ]
  },
  {
   "cell_type": "code",
   "execution_count": 597,
   "metadata": {},
   "outputs": [
    {
     "data": {
      "text/plain": [
       "'<h2><span cla'"
      ]
     },
     "execution_count": 597,
     "metadata": {},
     "output_type": "execute_result"
    }
   ],
   "source": [
    "#html.find('<h2><span class=\"mw-headline\" id=\"References\">References</span>')\n",
    "html[106916:106929]"
   ]
  },
  {
   "cell_type": "code",
   "execution_count": null,
   "metadata": {},
   "outputs": [],
   "source": []
  }
 ],
 "metadata": {
  "kernelspec": {
   "display_name": "py37",
   "language": "python",
   "name": "py37"
  },
  "language_info": {
   "codemirror_mode": {
    "name": "ipython",
    "version": 3
   },
   "file_extension": ".py",
   "mimetype": "text/x-python",
   "name": "python",
   "nbconvert_exporter": "python",
   "pygments_lexer": "ipython3",
   "version": "3.7.9"
  }
 },
 "nbformat": 4,
 "nbformat_minor": 4
}
