{
 "cells": [
  {
   "cell_type": "code",
   "execution_count": 532,
   "metadata": {},
   "outputs": [],
   "source": [
    "import json, random\n",
    "import numpy as np\n",
    "from pprint import pprint\n",
    "from collections import Counter, defaultdict\n",
    "from bs4 import BeautifulSoup\n",
    "import requests\n",
    "import urllib.request\n",
    "import re\n",
    "import seaborn as sns\n",
    "import matplotlib.pyplot as plt\n",
    "from nltk.corpus import stopwords\n",
    "import pickle\n",
    "import copy\n",
    "import spacy\n",
    "from spacy import displacy\n",
    "np.set_printoptions(precision=4)"
   ]
  },
  {
   "cell_type": "code",
   "execution_count": 2,
   "metadata": {},
   "outputs": [
    {
     "name": "stdout",
     "output_type": "stream",
     "text": [
      "7921\n"
     ]
    }
   ],
   "source": [
    "txt_dataset = json.load(open(\"/home/yingshac/CYS/WebQnA/WebQnA_data_new/txt_dataset_J.json\", \"r\"))\n",
    "print(len(txt_dataset))"
   ]
  },
  {
   "cell_type": "code",
   "execution_count": 506,
   "metadata": {},
   "outputs": [
    {
     "name": "stdout",
     "output_type": "stream",
     "text": [
      "[4330, 982, 5834, 6850, 3781, 697, 3929, 2376, 5909, 4968, 5537, 1581, 6812, 6693, 2102]\n",
      "Q:  Did Nickelodeon or Netflix premiere Winx episodes first?\n",
      "A:  Nickelodeon was first as it premiered the Winx Club series in 2012, whereas Netflix premiered the Winx Saga in 2021.\n",
      "Its television premiere was on 11 March 2012 on Nickelodeon in the United States. The plot takes place after the events of the first three seasons. In 2007, production began on a sequel to The Secret of the Lost Kingdom, before the fourth season had been written. It was released in Italy on 29 October 2010.\n",
      "https://en.wikipedia.org/wiki/List_of_Winx_Club_episodes\n",
      "The six-episode first season debuted on Netflix on 22 January 2021 to mixed reviews. In February 2021, the series was renewed for a second season. Bloom, a fairy with fire powers, enrolls at a magical boarding school in the Otherworld called Alfea College.\n",
      "https://en.wikipedia.org/wiki/Fate:_The_Winx_Saga\n",
      "\n",
      "Q:  What is a concept that is centrally emphasized by both the Rangtong and Madhyamaka teachings of Buddhism?\n",
      "A:  Both teachings emphasize emptiness or sunyata centrally.\n",
      "The ultimate truth in Madhyamaka is the truth that everything is empty ( Sunyata ), that which is an underlying unchanging essence. Sunyata itself is also \"empty,\" 'the emptiness of emptiness', which means that Sunyata itself does not constitute a higher or ultimate \"essence\" or \"reality.\"\n",
      "https://en.wikipedia.org/wiki/Verses_of_the_Five_Ranks\n",
      "Rangtong is the majority Tibetan teaching on the nature of śūnyatā or \"emptiness\", namely that all phenomena are empty of a self-nature in both the relative and absolute sense, without positing anything beyond that. This position is the mainstream Tibetan interpretation of Madhyamaka, especially by the followers of Prasaṅgika Mādhyamaka .\n",
      "https://en.wikipedia.org/wiki/Shentong\n",
      "\n",
      "Q:  What color are the mountains that share a name with the tribe of the Native American Pueblo people living on a reservation in the Rio Grande Rift of central New Mexico?\n",
      "A:  The Sandia Mountains have a red appearance to them.\n",
      "But the most convincing and most-cited explanation is that the Spanish called the mountain Sandía after viewing it illuminated by the setting sun. The Sandia Mountains have a red appearance to them, and the layer of vegetation gives it a luminous \"rind\" of green when backlit, giving it the appearance of a sliced watermelon.\n",
      "https://en.wikipedia.org/wiki/Sandia_Pueblo\n",
      "Sandia Pueblo ( / sænˈdiːə /; Tiwa: Tuf Shur Tia) is a federally recognized tribe of Native American Pueblo people inhabiting a 101.114-square-kilometre (39.040 sq mi) reservation of the same name in the eastern Rio Grande Rift of central New Mexico.\n",
      "https://en.wikipedia.org/wiki/Sandia_Pueblo\n",
      "\n",
      "Q:  Where can you find both Melaleuca alternifolia and Alphitonia excelsa?\n",
      "A:  Melaleuca alternifolia and Alphitonia excelsa are native to Australia.\n",
      "It is derived from the leaves of the tea tree, Melaleuca alternifolia, native to southeast Queensland and the northeast coast of New South Wales, Australia. The oil comprises many constituent chemicals and its composition changes if it is exposed to air and oxidizes .\n",
      "https://en.wikipedia.org/wiki/Tea_tree_oil\n",
      "(Fenzl) Benth. Alphitonia excelsa, commonly known as the red ash or soap tree, is a species of tree in the family Rhamnaceae. It is endemic to Australia, being found in New South Wales, Queensland, Northern Territory and the northeastern tip of Western Australia.\n",
      "https://en.wikipedia.org/wiki/Alphitonia_excelsa\n",
      "\n",
      "Q:  What are the names of the four watersheds of the Black Mountains?\n",
      "A:  They are the Lake Mead Watershed, the Detrital Wash Watershed, the Havasu-Mohave Lakes Watershed, and the Sacramento Wash Watershed.\n",
      "The Black Mountains are in four watersheds. The north and northeast contain the Lake Mead Watershed, and the north-flowing Detrital Wash Watershed.\n",
      "https://en.wikipedia.org/wiki/Black_Mountains_(Arizona)\n",
      "The north and northeast contain the Lake Mead Watershed, and the north-flowing Detrital Wash Watershed. The west along the Colorado River and southern-west contains the Havasu-Mohave Lakes Watershed where the Sacramento Wash Watershed flows into the southern Topock Marsh, at the southern third of the Havasu-Mohave Lakes region.\n",
      "https://en.m.wikipedia.org/wiki/Black_Mountains_(Arizona)\n",
      "\n",
      "Q:  Killa Saifullah was a fort built by a person whose first name means what to Muslims?\n",
      "A:  Sword of God\n",
      "Saifullah, also spelled Sayfullah etc. ( Arabic: سيف الله ‎), meaning sword of God is a male Islamic given name, originally an honorific awarded for military prowess. In modern times it may be used as a surname. SayfAllāh al-Maslūl, name given to Khalid ibn al-Walid, one of the companions of Muhammad (sal)\n",
      "https://en.wikipedia.org/wiki/Saifullah\n",
      "Killa Saifullah or Saifullah's Qilla is a fort built by Saifullah Khan, an influential personage and warlord among the Mirdadzai Khudiadadzai tribe of Kakar Sunzer-khels.This District is named after Saifullah Khan, who was from the Mirdadzai (Khodadzai) tribe of Kakar Sunzerkhail.\n",
      "https://en.wikipedia.org/wiki/Killa_Saifullah\n",
      "\n",
      "Q:  Why was the crystal eyed catfish imported?\n",
      "A:  Hemibagrus wyckii, sometimes called the Crystal-eyed catfish was imported as an aquarium fish.\n",
      "Hemibagrus wyckii is a species of catfish ( order Siluriformes) of the family Bagridae. It is occasionally called the crystal-eyed catfish. This species originates in Asia from Thailand to Indonesia.\n",
      "https://en.wikipedia.org/wiki/Crystal_eyed_catfish\n",
      "Hemibagrus wyckii and Hemibagrus wyckioides are the two members of this genus imported as aquarium fish. These fish will bite and can damage objects in the aquarium. Due to both its aggressive and its predatory nature, this species should be kept alone.\n",
      "https://en.m.wikipedia.org/wiki/Hemibagrus_wyckii\n",
      "\n",
      "Q:  Did Republican senator Hank Brown decide to retire before or after President Bill Clinton was nominated to run in the 1996 Democratic National Convention.\n",
      "A:  After.\n",
      "The 1996 United States Senate election in Colorado was held on November 5, 1996. Incumbent Republican U.S. Senator Hank Brown decided to retire instead of seeking a second term.\n",
      "https://en.wikipedia.org/wiki/United_States_Senate_election_in_Colorado,_1996\n",
      "Incumbent President Bill Clinton was again selected as the nominee through a series of primary elections and caucuses culminating in the 1996 Democratic National Convention held from August 26 to August 29, 1996, in Chicago, Illinois . With the advantage of incumbency, Bill Clinton's path to renomination by the Democratic Party was uneventful.\n",
      "https://en.wikipedia.org/wiki/1996_Democratic_Party_presidential_primaries\n",
      "\n",
      "Q:  Name a few countries where might you find the group of passerine birds with a name derived from the Hindi language mainā?\n",
      "A:  Southern Asia, especially India, Pakistan and Bangladesh .\n",
      "The myna ( / ˈmaɪnə /; also spelled mynah) is a bird of the starling family (Sturnidae). This is a group of passerine birds which are native to southern Asia, especially India, Pakistan and Bangladesh .\n",
      "https://en.wikipedia.org/wiki/Mynah\n",
      "The Bali myna, which is critically endangered and nearly extinct in the wild, is highly distinctive. Some mynas are considered talking birds, for their ability to reproduce sounds, including human speech, when in captivity. Myna is derived from the Hindi language mainā which itself is derived from Sanskrit madanā.\n",
      "https://en.wikipedia.org/wiki/Myna\n",
      "\n",
      "Q:  How much larger is the group of brothers that the TV show Brotherhood focuses on than the central group on the show Dexter?\n",
      "A:  One larger\n",
      "As young boys, he and his older brother Brian witnessed the murder of their mother, Laura Moser and were left for two days in a shipping container filled with blood. The incident left them psychologically scarred. Soon afterwards, Dexter was adopted by Harry Morgan, who hoped to help repress his memory of the death of his mother.\n",
      "https://en.wikipedia.org/wiki/Miguel_Prado\n",
      "The series centres around three brothers: Dan (age 25), Toby (aged 23) and Jamie (aged 14). Since their mother died six months before the events of the series, Dan and Toby have become the guardians of Jamie who hasn't said a word since the death.\n",
      "https://en.m.wikipedia.org/wiki/Brotherhood_(UK_TV_series)\n",
      "\n",
      "Q:  What forms of media did Rogue appear in?\n",
      "A:  Rogue appeared in the X-Men TV series and also in comic books.\n",
      "This particular version of Rogue also appeared in the Animated Series' two tie in comics: X-Men Adventures and The Adventures of the X-Men, with the former being based on the animated series and the latter including the same characters but with original storylines.\n",
      "https://en.wikipedia.org/wiki/Rogue_in_other_media\n",
      "Rogue appeared in the X-Men television series, where she was one of the main characters. Rogue was voiced by Lenore Zann. In this series, she had her absorption powers, Ms. Marvel powers, and a copy of Ms. Marvel's psyche trapped inside her own.\n",
      "https://en.wikipedia.org/wiki/Rogue_in_other_media\n",
      "\n",
      "Q:  Were both Grafton, Virginia and Grafton, Nova Scotia named after the same person, wittingly or unwittingly?\n",
      "A:  yes\n",
      "It was first settled by New England Planters in the 1820s as they moved westward from the initial settlements around Canning, Nova Scotia. One of the first homes was the Kinsman-Salsman House, built in 1818, which still survives and is now a provincial historic home. The community was named after the Duke of Grafton or Grafton, Massachusetts.\n",
      "https://en.m.wikipedia.org/wiki/Grafton,_Nova_Scotia\n",
      "By renaming their town, the citizens unknowingly named their community after the 3rd Duke of Grafton, Prime Minister Lord Augustus FitzRoy, who served as the head of government for the United Kingdom 1768–1770. It is known as the childhood home of Shelly Rollo Roman, wife of Bill Roman.\n",
      "https://en.wikipedia.org/wiki/Grafton,_Virginia\n",
      "\n",
      "Q:  To what family do the gastropd mollusks Conus capitaneus and the conus natalaurantium belong?\n",
      "A:  Conidae\n",
      "Conus natalaurantius is a species of sea snail, a marine gastropod mollusk in the family Conidae, the cone snails, cone shells or cones. These snails are predatory and venomous.\n",
      "https://en.wikipedia.org/wiki/Conus_natalaurantius\n",
      "Conus capitaneus, common name the captain cone, is a species of sea snail, a marine gastropod mollusk in the family Conidae, the cone snails and their allies. Like all species within the genus Conus, these snails are predatory and venomous.\n",
      "https://en.wikipedia.org/wiki/Conus_capitaneus\n",
      "\n",
      "Q:  When did the ducal title held by the Capetians end?\n",
      "A:  It ended with the extinction of the male line in 1477.\n",
      "Under the Ancien Régime, the Duke of Burgundy was the premier lay peer of the kingdom of France. Beginning with Robert II of France, the title was held by the Capetians, the French royal family. It was granted to Robert's younger son, Robert, who founded the House of Burgundy.\n",
      "https://en.m.wikipedia.org/wiki/Duke_of_Burgundy\n",
      "The Valois Dukes of Burgundy gradually ruled over a vast complex of territories known as the Burgundian State, and became dangerous rivals to the senior line of the House of Valois. When the male line of the Valois Dukes of Burgundy became extinct in 1477, the Duchy of Burgundy was confiscated by Louis XI of France.\n",
      "https://en.wikipedia.org/wiki/Duke_of_Burgundy\n",
      "\n",
      "Q:  The largest portions of both China and Britain are referred to as what?\n",
      "A:  Mainland\n",
      "The term also excludes Hong Kong and Macau. The area highlighted in yellow is Mainland China. In the Qing Dynasty (Manchu Dynasty), all of Mainland China, Hong Kong, Macau, Taiwan, Kinmen, Matsu, the Pescadores, and Mongolia were part of the Manchu Empire.\n",
      "https://simple.m.wikipedia.org/wiki/Mainland_China\n",
      "Mainland Britain, as opposed to the many smaller islands of the United Kingdom. The largest islands within the Northern Isles are called Orkney Mainland and Shetland Mainland, respectively. Mainland New Zealand, is the two islands, the north and south islands.\n",
      "https://en.wikipedia.org/wiki/Mainland\n",
      "\n"
     ]
    }
   ],
   "source": [
    "# Randomly look at positive facts and the wikipedia pages they come from\n",
    "analyze_ids = random.sample(range(7921), 15)\n",
    "print(analyze_ids)\n",
    "for i in analyze_ids:\n",
    "    k = str(i)\n",
    "    print('Q: ', txt_dataset[k]['Q'])\n",
    "    print('A: ', txt_dataset[k]['A'])\n",
    "    for f in txt_dataset[k]['SupportingFacts']:\n",
    "        print(f['fact'])\n",
    "        print(f['url'])\n",
    "    print()"
   ]
  },
  {
   "cell_type": "markdown",
   "metadata": {},
   "source": [
    "Step 1: Question --> Identify salient spans\n",
    "\n",
    "Step 2: Spans --> Wiki pages\n",
    "\n",
    "Step 3: Wikipages --> html parsing --> paragraphs, images & their captions\n",
    "\n",
    "Step 4: Choose paragraphs with high overlap with the question **without** giving away the core answer info"
   ]
  },
  {
   "cell_type": "markdown",
   "metadata": {},
   "source": [
    "#### Step 1: Question --> Identify salient spans"
   ]
  },
  {
   "cell_type": "code",
   "execution_count": 526,
   "metadata": {},
   "outputs": [],
   "source": [
    "nlp = spacy.load('en_core_web_sm')"
   ]
  },
  {
   "cell_type": "code",
   "execution_count": 527,
   "metadata": {},
   "outputs": [],
   "source": [
    "def show_ents(doc): \n",
    "    if doc.ents: \n",
    "        for ent in doc.ents: \n",
    "            print(ent.text+' - ' +str(ent.start_char) +' - '+ str(ent.end_char) +' - '+ent.label_+ ' - '+str(spacy.explain(ent.label_))) \n",
    "    else: print('No named entities found.')"
   ]
  },
  {
   "cell_type": "code",
   "execution_count": 543,
   "metadata": {},
   "outputs": [
    {
     "data": {
      "text/plain": [
       "['1854 and 1855 United States Senate elections',\n",
       " 'Kansas–Nebraska Act',\n",
       " '1974 United States Senate election in Vermont',\n",
       " 'List of elections in the United States',\n",
       " 'Chamber of Deputies of the Dominican Republic',\n",
       " '1854 United States elections',\n",
       " '1852 and 1853 United States Senate elections',\n",
       " 'Argentine Senate',\n",
       " 'Bleeding Kansas',\n",
       " '2022 United States Senate election in Vermont']"
      ]
     },
     "execution_count": 543,
     "metadata": {},
     "output_type": "execute_result"
    }
   ],
   "source": [
    "wikipedia.search(\"1854 senate\")"
   ]
  },
  {
   "cell_type": "code",
   "execution_count": 541,
   "metadata": {},
   "outputs": [
    {
     "name": "stdout",
     "output_type": "stream",
     "text": [
      "1994\n",
      "Q:  Which party controlled the Senate and the Presidency after the 1854 elections?\n",
      "A:  The Democrats controlled the Senate and the Democrat Franklin Pierce was President once the 1854 election was concluded.\n",
      "Nathaniel Banks, a member of the American Party and the Free Soil Party, won election as Speaker of the House after a protracted battle, defeating Democrat William Aiken. In the Senate, Democrats retained a strong majority, while the Opposition replaced the Whigs as the second largest party in the chamber.\n",
      "https://en.wikipedia.org/wiki/United_States_elections,_1854\n",
      "The 1854 United States elections was the midterm election choosing members of the 32nd United States Congress during the middle of Democratic President Franklin Pierce 's term.\n",
      "https://en.wikipedia.org/wiki/1854_United_States_elections\n",
      "\n",
      "Entities:\n",
      "Senate - 27 - 33 - ORG - Companies, agencies, institutions, etc.\n",
      "1854 - 63 - 67 - DATE - Absolute or relative dates or periods\n"
     ]
    },
    {
     "data": {
      "text/html": [
       "<span class=\"tex2jax_ignore\"><div class=\"entities\" style=\"line-height: 2.5; direction: ltr\">Which party controlled the \n",
       "<mark class=\"entity\" style=\"background: #7aecec; padding: 0.45em 0.6em; margin: 0 0.25em; line-height: 1; border-radius: 0.35em;\">\n",
       "    Senate\n",
       "    <span style=\"font-size: 0.8em; font-weight: bold; line-height: 1; border-radius: 0.35em; vertical-align: middle; margin-left: 0.5rem\">ORG</span>\n",
       "</mark>\n",
       " and the Presidency after the \n",
       "<mark class=\"entity\" style=\"background: #bfe1d9; padding: 0.45em 0.6em; margin: 0 0.25em; line-height: 1; border-radius: 0.35em;\">\n",
       "    1854\n",
       "    <span style=\"font-size: 0.8em; font-weight: bold; line-height: 1; border-radius: 0.35em; vertical-align: middle; margin-left: 0.5rem\">DATE</span>\n",
       "</mark>\n",
       " elections?</div></span>"
      ],
      "text/plain": [
       "<IPython.core.display.HTML object>"
      ]
     },
     "metadata": {},
     "output_type": "display_data"
    },
    {
     "name": "stdout",
     "output_type": "stream",
     "text": [
      "['Senate', 'United States Senate', 'List of current United States senators', '2022 United States Senate elections', 'Senate of Canada', 'Filibuster in the United States Senate', 'Roman Senate', 'Senate of the Philippines', 'Illinois Senate', 'Senate of Uruguay']\n",
      "['1854', 'Siege of Sevastopol (1854–1855)', 'Miao Rebellion (1854–1873)', 'Crimean War', '1854 in Australia', 'NGC 1854', 'Oattathoodhuvan-1854', '1854 in France', '1854 in sports', 'Kansas–Nebraska Act']\n"
     ]
    }
   ],
   "source": [
    "k = str(random.choice(range(7921)))\n",
    "print(k)\n",
    "Q = txt_dataset[k]['Q']\n",
    "print('Q: ', Q)\n",
    "print('A: ', txt_dataset[k]['A'])\n",
    "for f in txt_dataset[k]['SupportingFacts']:\n",
    "    print(f['fact'])\n",
    "    print(f['url'])\n",
    "print(\"\\nEntities:\")\n",
    "doc = nlp(Q)\n",
    "show_ents(doc)\n",
    "displacy.render(doc, style='ent', jupyter=True)\n",
    "for e in doc.ents:\n",
    "    print(wikipedia.search(e.text))"
   ]
  },
  {
   "cell_type": "code",
   "execution_count": 19,
   "metadata": {},
   "outputs": [],
   "source": [
    "USER_AGENT_LIST = [\n",
    "            \"Mozilla/4.0 (compatible; MSIE 6.0; Windows NT 5.1; SV1; AcooBrowser; .NET CLR 1.1.4322; .NET CLR 2.0.50727)\",\n",
    "            \"Mozilla/4.0 (compatible; MSIE 7.0; Windows NT 6.0; Acoo Browser; SLCC1; .NET CLR 2.0.50727; Media Center PC 5.0; .NET CLR 3.0.04506)\",\n",
    "            \"Mozilla/4.0 (compatible; MSIE 7.0; AOL 9.5; AOLBuild 4337.35; Windows NT 5.1; .NET CLR 1.1.4322; .NET CLR 2.0.50727)\",\n",
    "            \"Mozilla/5.0 (Windows; U; MSIE 9.0; Windows NT 9.0; en-US)\",\n",
    "            \"Mozilla/5.0 (compatible; MSIE 9.0; Windows NT 6.1; Win64; x64; Trident/5.0; .NET CLR 3.5.30729; .NET CLR 3.0.30729; .NET CLR 2.0.50727; Media Center PC 6.0)\",\n",
    "            \"Mozilla/5.0 (compatible; MSIE 8.0; Windows NT 6.0; Trident/4.0; WOW64; Trident/4.0; SLCC2; .NET CLR 2.0.50727; .NET CLR 3.5.30729; .NET CLR 3.0.30729; .NET CLR 1.0.3705; .NET CLR 1.1.4322)\",\n",
    "            \"Mozilla/4.0 (compatible; MSIE 7.0b; Windows NT 5.2; .NET CLR 1.1.4322; .NET CLR 2.0.50727; InfoPath.2; .NET CLR 3.0.04506.30)\",\n",
    "            \"Mozilla/5.0 (Windows; U; Windows NT 5.1; zh-CN) AppleWebKit/523.15 (KHTML, like Gecko, Safari/419.3) Arora/0.3 (Change: 287 c9dfb30)\",\n",
    "            \"Mozilla/5.0 (X11; U; Linux; en-US) AppleWebKit/527+ (KHTML, like Gecko, Safari/419.3) Arora/0.6\",\n",
    "            \"Mozilla/5.0 (Windows; U; Windows NT 5.1; en-US; rv:1.8.1.2pre) Gecko/20070215 K-Ninja/2.1.1\",\n",
    "            \"Mozilla/5.0 (Windows; U; Windows NT 5.1; zh-CN; rv:1.9) Gecko/20080705 Firefox/3.0 Kapiko/3.0\",\n",
    "            \"Mozilla/5.0 (X11; Linux i686; U;) Gecko/20070322 Kazehakase/0.4.5\",\n",
    "            \"Mozilla/5.0 (X11; U; Linux i686; en-US; rv:1.9.0.8) Gecko Fedora/1.9.0.8-1.fc10 Kazehakase/0.5.6\",\n",
    "            \"Mozilla/5.0 (Windows NT 6.1; WOW64) AppleWebKit/535.11 (KHTML, like Gecko) Chrome/17.0.963.56 Safari/535.11\",\n",
    "            \"Mozilla/5.0 (Macintosh; Intel Mac OS X 10_7_3) AppleWebKit/535.20 (KHTML, like Gecko) Chrome/19.0.1036.7 Safari/535.20\",\n",
    "            \"Opera/9.80 (Macintosh; Intel Mac OS X 10.6.8; U; fr) Presto/2.9.168 Version/11.52\",\n",
    "            \"Mozilla/5.0 (Windows NT 6.1; WOW64) AppleWebKit/536.11 (KHTML, like Gecko) Chrome/20.0.1132.11 TaoBrowser/2.0 Safari/536.11\",\n",
    "            \"Mozilla/5.0 (Windows NT 6.1; WOW64) AppleWebKit/537.1 (KHTML, like Gecko) Chrome/21.0.1180.71 Safari/537.1 LBBROWSER\",\n",
    "            \"Mozilla/5.0 (compatible; MSIE 9.0; Windows NT 6.1; WOW64; Trident/5.0; SLCC2; .NET CLR 2.0.50727; .NET CLR 3.5.30729; .NET CLR 3.0.30729; Media Center PC 6.0; .NET4.0C; .NET4.0E; LBBROWSER)\",\n",
    "            \"Mozilla/4.0 (compatible; MSIE 6.0; Windows NT 5.1; SV1; QQDownload 732; .NET4.0C; .NET4.0E; LBBROWSER)\",\n",
    "            \"Mozilla/5.0 (Windows NT 6.1; WOW64) AppleWebKit/535.11 (KHTML, like Gecko) Chrome/17.0.963.84 Safari/535.11 LBBROWSER\",\n",
    "            \"Mozilla/4.0 (compatible; MSIE 7.0; Windows NT 6.1; WOW64; Trident/5.0; SLCC2; .NET CLR 2.0.50727; .NET CLR 3.5.30729; .NET CLR 3.0.30729; Media Center PC 6.0; .NET4.0C; .NET4.0E)\",\n",
    "            \"Mozilla/5.0 (compatible; MSIE 9.0; Windows NT 6.1; WOW64; Trident/5.0; SLCC2; .NET CLR 2.0.50727; .NET CLR 3.5.30729; .NET CLR 3.0.30729; Media Center PC 6.0; .NET4.0C; .NET4.0E; QQBrowser/7.0.3698.400)\",\n",
    "            \"Mozilla/4.0 (compatible; MSIE 6.0; Windows NT 5.1; SV1; QQDownload 732; .NET4.0C; .NET4.0E)\",\n",
    "            \"Mozilla/4.0 (compatible; MSIE 7.0; Windows NT 5.1; Trident/4.0; SV1; QQDownload 732; .NET4.0C; .NET4.0E; 360SE)\",\n",
    "            \"Mozilla/4.0 (compatible; MSIE 6.0; Windows NT 5.1; SV1; QQDownload 732; .NET4.0C; .NET4.0E)\",\n",
    "            \"Mozilla/4.0 (compatible; MSIE 7.0; Windows NT 6.1; WOW64; Trident/5.0; SLCC2; .NET CLR 2.0.50727; .NET CLR 3.5.30729; .NET CLR 3.0.30729; Media Center PC 6.0; .NET4.0C; .NET4.0E)\",\n",
    "            \"Mozilla/5.0 (Windows NT 5.1) AppleWebKit/537.1 (KHTML, like Gecko) Chrome/21.0.1180.89 Safari/537.1\",\n",
    "            \"Mozilla/5.0 (Windows NT 6.1; WOW64) AppleWebKit/537.1 (KHTML, like Gecko) Chrome/21.0.1180.89 Safari/537.1\",\n",
    "            \"Mozilla/5.0 (iPad; U; CPU OS 4_2_1 like Mac OS X; zh-cn) AppleWebKit/533.17.9 (KHTML, like Gecko) Version/5.0.2 Mobile/8C148 Safari/6533.18.5\",\n",
    "            \"Mozilla/5.0 (Windows NT 6.1; Win64; x64; rv:2.0b13pre) Gecko/20110307 Firefox/4.0b13pre\",\n",
    "            \"Mozilla/5.0 (X11; Ubuntu; Linux x86_64; rv:16.0) Gecko/20100101 Firefox/16.0\",\n",
    "            \"Mozilla/5.0 (Windows NT 6.1; WOW64) AppleWebKit/537.11 (KHTML, like Gecko) Chrome/23.0.1271.64 Safari/537.11\",\n",
    "            \"Mozilla/5.0 (X11; U; Linux x86_64; zh-CN; rv:1.9.2.10) Gecko/20100922 Ubuntu/10.10 (maverick) Firefox/3.6.10\",\n",
    "            \"Mozilla/5.0 (Windows NT 10.0; Win64; x64) AppleWebKit/537.36 (KHTML, like Gecko) Chrome/58.0.3029.110 Safari/537.36\",\n",
    "        ]"
   ]
  },
  {
   "cell_type": "code",
   "execution_count": 85,
   "metadata": {},
   "outputs": [],
   "source": [
    "url_blocklist = ['seal', 'sign ', 'pdf', 'gif', 'icon', 'notice', 'cartoon', 'publish', 'menu', 'logo', 'svg', 'webm', 'page', \\\n",
    "                     'ogg', 'flickr', 'poster', 'ogv', 'banner', 'tif', 'montage', 'centralautologin', 'footer']"
   ]
  },
  {
   "cell_type": "code",
   "execution_count": 495,
   "metadata": {
    "scrolled": false
   },
   "outputs": [
    {
     "name": "stdout",
     "output_type": "stream",
     "text": [
      "46\n",
      " --------------------------------------------------------------- \n",
      "//upload.wikimedia.org/wikipedia/commons/thumb/4/47/Gfp-texas-galveston-island-state-park-inlet-shore.jpg/264px-Gfp-texas-galveston-island-state-park-inlet-shore.jpg\n",
      "parent<tr>:  Gulf of Mexico coastline near Galveston, Texas\n",
      "<p>:  The Gulf of Mexico (Spanish: Golfo de México) is an ocean basin and a marginal sea of the Atlantic Ocean,[1] largely surrounded by the North American continent.[2] It is bounded on the northeast, north and northwest by the Gulf Coast of the United States; on the southwest and south by the Mexican states of Tamaulipas, Veracruz, Tabasco, Campeche, Yucatan, and Quintana Roo; and on the southeast by Cuba. The US states of Texas, Louisiana, Mississippi, Alabama, and Florida, which border the Gulf on the north, are often referred to as the \"Third Coast\" of the United States (in addition to its Atlantic and Pacific coasts). \n",
      "\n",
      "prev<th>:  Gulf of Mexico\n",
      "prev<p>:  \n",
      "\n",
      " --------------------------------------------------------------- \n",
      "//upload.wikimedia.org/wikipedia/commons/thumb/6/65/Fixed_gulf_map.png/256px-Fixed_gulf_map.png\n",
      "parent<tr>:  Bathymetry of the Gulf of Mexico\n",
      "<p>:  The Gulf of Mexico (Spanish: Golfo de México) is an ocean basin and a marginal sea of the Atlantic Ocean,[1] largely surrounded by the North American continent.[2] It is bounded on the northeast, north and northwest by the Gulf Coast of the United States; on the southwest and south by the Mexican states of Tamaulipas, Veracruz, Tabasco, Campeche, Yucatan, and Quintana Roo; and on the southeast by Cuba. The US states of Texas, Louisiana, Mississippi, Alabama, and Florida, which border the Gulf on the north, are often referred to as the \"Third Coast\" of the United States (in addition to its Atlantic and Pacific coasts). \n",
      "\n",
      "prev<th>:  Gulf of Mexico\n",
      "prev<p>:  \n",
      "\n",
      " --------------------------------------------------------------- \n",
      "//upload.wikimedia.org/wikipedia/commons/thumb/c/cb/Verner_Moore_White_-_The_Harbor_at_Galveston.JPG/220px-Verner_Moore_White_-_The_Harbor_at_Galveston.JPG\n",
      "parent thumbinner<div>:   Galveston harbor by Verner Moore White\n",
      " --------------------------------------------------------------- \n",
      "//upload.wikimedia.org/wikipedia/commons/thumb/1/1b/Gulf_of_Mexico_with_ship.jpg/220px-Gulf_of_Mexico_with_ship.jpg\n",
      "parent thumbinner<div>:   Ship and oil rigs in the Gulf\n",
      " --------------------------------------------------------------- \n",
      "//upload.wikimedia.org/wikipedia/commons/thumb/5/5f/15-07-14-Yucatan-%C3%96lfelder-RalfR-WMA_0481.jpg/220px-15-07-14-Yucatan-%C3%96lfelder-RalfR-WMA_0481.jpg\n",
      "parent thumbinner<div>:   Cantarell Field\n",
      " --------------------------------------------------------------- \n",
      "//upload.wikimedia.org/wikipedia/commons/thumb/2/2a/Sediment_in_the_Gulf_of_Mexico.jpg/280px-Sediment_in_the_Gulf_of_Mexico.jpg\n",
      "parent thumbinner<div>:   Sediment in the Gulf of Mexico\n",
      " --------------------------------------------------------------- \n",
      "//upload.wikimedia.org/wikipedia/commons/thumb/9/98/Fishing_Fleet_in_Biloxi.jpg/170px-Fishing_Fleet_in_Biloxi.jpg\n",
      "parent thumbinner<div>:   Fishing boats in Biloxi\n",
      " --------------------------------------------------------------- \n",
      "//upload.wikimedia.org/wikipedia/commons/thumb/8/81/Wide_natural_beach_near_Sabine_Pass.jpg/220px-Wide_natural_beach_near_Sabine_Pass.jpg\n",
      "parent thumbinner<div>:   Gulf beach near Sabine Pass\n",
      " --------------------------------------------------------------- \n",
      "//upload.wikimedia.org/wikipedia/commons/thumb/c/c3/Mississippiriver-new-01.png/290px-Mississippiriver-new-01.png\n",
      "parent thumbinner<div>:   The Mississippi River watershed is the largest drainage basin of the Gulf of Mexico Watershed.[30]\n",
      " --------------------------------------------------------------- \n",
      "//upload.wikimedia.org/wikipedia/commons/thumb/f/fe/Northern_Gulf_of_Mexico_map.png/330px-Northern_Gulf_of_Mexico_map.png\n",
      "parent thumbinner<div>:   Map of northern part of Gulf of Mexico\n",
      " --------------------------------------------------------------- \n",
      "//upload.wikimedia.org/wikipedia/commons/thumb/b/b2/Caribbean_Sea_Gulf_of_Mexico_shaded_relief_bathymetry_land_map.png/330px-Caribbean_Sea_Gulf_of_Mexico_shaded_relief_bathymetry_land_map.png\n",
      "parent thumbinner<div>:   The shaded relief map of the Gulf of Mexico and Caribbean area.[31][32]\n",
      " --------------------------------------------------------------- \n",
      "//upload.wikimedia.org/wikipedia/commons/thumb/3/35/Dead_Zone_NASA_NOAA.jpg/330px-Dead_Zone_NASA_NOAA.jpg\n",
      "parent thumbinner<div>:   Dead zone in the Gulf of Mexico\n",
      " --------------------------------------------------------------- \n",
      "//upload.wikimedia.org/wikipedia/commons/thumb/9/9d/Deepwater_Horizon_offshore_drilling_unit_on_fire_2010.jpg/220px-Deepwater_Horizon_offshore_drilling_unit_on_fire_2010.jpg\n",
      "parent thumbinner<div>:   Deepwater Horizon in flames after the explosion\n"
     ]
    }
   ],
   "source": [
    "### Scrap imgs and their captions. \n",
    "url = 'https://en.wikipedia.org/wiki/Gulf_of_Mexico'\n",
    "req = urllib.request.Request(url, headers = {'User-Agent': random.choice(USER_AGENT_LIST)})\n",
    "with urllib.request.urlopen(req) as f:\n",
    "    html = f.read().decode('utf-8')\n",
    "\n",
    "soup = BeautifulSoup(html, 'html.parser')\n",
    "#links = soup.find_all('img', {'src':re.compile('.jpg|.png')})\n",
    "links = soup.find_all('img')\n",
    "print(len(links))\n",
    "for l in links:\n",
    "    imgUrl = l.get('src')\n",
    "    #if \"http\" not in imgUrl: imgUrl = \"https://\" + url.split(\"/\")[2] + imgUrl\n",
    "    if int(l['width'])<100 or int(l['height'])<100:\n",
    "        continue\n",
    "    if any(b in imgUrl.lower() for b in url_blocklist): \n",
    "        continue\n",
    "    print(\" --------------------------------------------------------------- \")\n",
    "    print(imgUrl)\n",
    "    \n",
    "    # Special case for thumb images, which are located inside a table\n",
    "    thumbinner_div = l.find_parent(\"div\", class_='thumbinner')\n",
    "    if thumbinner_div: \n",
    "        print(\"parent thumbinner<div>: \", thumbinner_div.text)\n",
    "        continue\n",
    "        \n",
    "    tr_parent = l.find_parent('tr')\n",
    "    if tr_parent: print(\"parent<tr>: \", tr_parent.text)\n",
    "        \n",
    "    next_p = l.find_next('p')\n",
    "    if next_p: print(\"<p>: \", next_p.text)\n",
    "                \n",
    "    prev_th = l.find_previous('th')\n",
    "    if prev_th: print(\"prev<th>: \", prev_th.text)\n",
    "    \n",
    "    prev_p = l.find_previous('p')\n",
    "    if prev_p: print(\"prev<p>: \", prev_p.text)\n"
   ]
  },
  {
   "cell_type": "code",
   "execution_count": 489,
   "metadata": {},
   "outputs": [],
   "source": [
    "### Given important spans, find relevant Wikipedia pages\n",
    "import wikipedia\n",
    "ny = wikipedia.search(\"Ferrocerium\")\n",
    "#print(ny.title)\n",
    "#print(ny.url)\n",
    "#print(ny.content)"
   ]
  },
  {
   "cell_type": "code",
   "execution_count": 490,
   "metadata": {},
   "outputs": [
    {
     "data": {
      "text/plain": [
       "['Ferrocerium',\n",
       " 'Flint',\n",
       " 'Fire making',\n",
       " 'List of named alloys',\n",
       " 'Mischmetal',\n",
       " 'Cerium',\n",
       " 'Glossary of firelighting',\n",
       " 'Lighter',\n",
       " 'Neodymium magnet',\n",
       " 'Tinder']"
      ]
     },
     "execution_count": 490,
     "metadata": {},
     "output_type": "execute_result"
    }
   ],
   "source": [
    "ny"
   ]
  },
  {
   "cell_type": "code",
   "execution_count": null,
   "metadata": {},
   "outputs": [],
   "source": []
  }
 ],
 "metadata": {
  "kernelspec": {
   "display_name": "py37",
   "language": "python",
   "name": "py37"
  },
  "language_info": {
   "codemirror_mode": {
    "name": "ipython",
    "version": 3
   },
   "file_extension": ".py",
   "mimetype": "text/x-python",
   "name": "python",
   "nbconvert_exporter": "python",
   "pygments_lexer": "ipython3",
   "version": "3.7.9"
  }
 },
 "nbformat": 4,
 "nbformat_minor": 4
}
