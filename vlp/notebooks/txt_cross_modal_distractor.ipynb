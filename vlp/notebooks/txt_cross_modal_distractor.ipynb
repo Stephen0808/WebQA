{
 "cells": [
  {
   "cell_type": "code",
   "execution_count": 320,
   "metadata": {},
   "outputs": [],
   "source": [
    "import json, random\n",
    "import numpy as np\n",
    "from pprint import pprint\n",
    "from collections import Counter, defaultdict\n",
    "from bs4 import BeautifulSoup\n",
    "import requests\n",
    "import urllib.request\n",
    "import re\n",
    "import seaborn as sns\n",
    "import matplotlib.pyplot as plt\n",
    "from nltk.corpus import stopwords\n",
    "import pickle\n",
    "import copy"
   ]
  },
  {
   "cell_type": "code",
   "execution_count": 201,
   "metadata": {},
   "outputs": [],
   "source": [
    "np.set_printoptions(precision=4)"
   ]
  },
  {
   "cell_type": "code",
   "execution_count": 242,
   "metadata": {},
   "outputs": [],
   "source": [
    "pattern = re.compile(r'\\b(' + r'|'.join(stopwords.words('english')) + r')\\b\\s*')"
   ]
  },
  {
   "cell_type": "code",
   "execution_count": 2,
   "metadata": {},
   "outputs": [
    {
     "name": "stdout",
     "output_type": "stream",
     "text": [
      "7921\n"
     ]
    }
   ],
   "source": [
    "txt_dataset = json.load(open(\"/home/yingshac/CYS/WebQnA/WebQnA_data_new/txt_dataset_J.json\", \"r\"))\n",
    "print(len(txt_dataset))"
   ]
  },
  {
   "cell_type": "code",
   "execution_count": 3,
   "metadata": {},
   "outputs": [
    {
     "name": "stdout",
     "output_type": "stream",
     "text": [
      "[6453, 6555, 914, 6064, 5114, 6575, 795, 2645, 4038, 1289, 3208, 3866, 6626, 7594, 1079]\n"
     ]
    }
   ],
   "source": [
    "analyze_ids = random.sample(range(7921), 15)\n",
    "print(analyze_ids)"
   ]
  },
  {
   "cell_type": "code",
   "execution_count": 80,
   "metadata": {
    "collapsed": true
   },
   "outputs": [
    {
     "name": "stdout",
     "output_type": "stream",
     "text": [
      "Q:  What element is combined with non-metallic carbon or silicon to produce the substance used in conjunction with flint in a classic flint and steel system?\n",
      "A:  Elemental iron\n",
      "In a classic flint and steel system, it is the steel that burns, while in a ferrocerium system, it is the ferrocerium. A flint spark lighter (sometimes just called a spark lighter, striker, or flint lighter) is a type of lighter used in many applications to safely light a gaseous fuel to start a flame.\n",
      "https://en.wikipedia.org/wiki/Ferrocerium\n",
      "Elemental iron, combined with non-metallic carbon or silicon, produces alloys called steel or silicon steel. The resulting mixture forms a substance with properties that often differ from those of the pure metals, such as increased strength or hardness.\n",
      "https://en.wikipedia.org/wiki/Alloy_Metals\n",
      "\n",
      "Q:  Are Sardinella tawilis and Sardinella brasiliensis found in the same country or different countries?\n",
      "A:  They're found in different countries.\n",
      "Sardinella brasiliensis, ( Brazilian sardinella or orangespot sardine) is a species of ray-finned fish in the genus Sardinella. S. brasilensis are extremely hard to distinguish from Sardinella aurita and are combined in most studies and catch estimates.\n",
      "https://en.wikipedia.org/wiki/Sardinella_brasiliensis\n",
      "Sardinella tawilis (the freshwater sardinella, freshwater herring, or bombon sardine) is a freshwater sardine found exclusively in the Philippines. It is the only member of the genus Sardinella known to exist entirely in fresh water. Locally, they are known in Filipino as tawilis.\n",
      "https://en.wikipedia.org/wiki/Sardinella_tawilis\n",
      "\n",
      "Q:  What type of specific free trade agreement does the European Union have with countries that are participating in the DCFTA?\n",
      "A:  Countries participating in the DCFTA are given the four freedoms of the EU Single Market: free movement of goods, services, capital, and people.\n",
      "Unlike standard free trade areas, the DCFTA is aimed to offer the associated country the \"four freedoms\" of the EU Single Market: free movement of goods, services, capital, and people. Movement of people however, is in form of visa-free regime for short stay travel, while movement of workers remains within the remit of the EU Member States.\n",
      "https://en.wikipedia.org/wiki/Deep_and_Comprehensive_Free_Trade_Area\n",
      "The European Union has concluded free trade agreements (FTAs) and other agreements with a trade component with many countries worldwide and is negotiating with many others.\n",
      "https://en.wikipedia.org/wiki/European_Union_free_trade_agreements\n",
      "\n",
      "Q:  What profession do Gemma Hayes and Gemma Fox both have together?\n",
      "A:  They are both song writers.\n",
      "Hayes in 2008. Gemma Hayes (born 11 August 1977) is an Irish musician, singer-songwriter and composer. Primarily known as a vocalist and guitarist, she is also proficient with a wide range of instruments, including the piano and the harmonica.\n",
      "https://en.wikipedia.org/wiki/Gemma_Hayes\n",
      "Gemma Fox is an English UK garage, R&B and hip hop singer, song writer best known for her 2004 album Messy. The lead single, \"Girlfriend's Story\", was released in April of that year and featured MC Lyte. The second single, \"Gone\", featured Juelz Santana.\n",
      "https://en.wikipedia.org/wiki/Gemma_Fox\n",
      "\n",
      "Q:  How much higher did Take That & Party peak on the UK Albums Chart than Having a Party peaked on the Billboard Hot 100?\n",
      "A:  Take That & Party peaked 15 spots spots higher on it's respective chart.\n",
      "Released on 17 August 1992 on RCA Records, it reached number two on the UK Albums Chart and stayed in the UK Top 75 album chart for 73 weeks (one year, five months and one week). It was their only album not to reach number one until Wonderland peaked at number two in 2017.\n",
      "https://en.wikipedia.org/wiki/Take_That_%26_Party\n",
      "The song peaked at number four on Billboard 's Hot R&B Sides chart, and also charted at number 17 on the Billboard Hot 100 . \"Having a Party\", like its A-side, \"Bring It On Home to Me\", was written while Cooke was on tour for Henry Wynn.\n",
      "https://en.wikipedia.org/wiki/Having_a_Party_(song)\n",
      "\n",
      "Q:  Who wrote the lyrics for the musical that was first called Shine It On?\n",
      "A:  Fred Ebb wrote the lyrics.\n",
      "It was written to showcase the talents of Kander and Ebb favorite Liza Minnelli, who portrayed Michelle Craig, a fading film star attempting a comeback as a Las Vegas singer. The musical premiered on Broadway in 1977. Originally titled, Shine It On, The Act played out-of-town tryouts for 15 weeks in Chicago, San Francisco, and Los Angeles.\n",
      "https://en.wikipedia.org/wiki/The_Act_(musical)\n",
      "The Act is a musical with a book by George Furth, lyrics by Fred Ebb, and music by John Kander . It was written to showcase the talents of Kander and Ebb favorite Liza Minnelli, who portrayed Michelle Craig, a fading film star attempting a comeback as a Las Vegas singer. The musical premiered on Broadway in 1977.\n",
      "https://en.m.wikipedia.org/wiki/The_Act_(musical)\n",
      "\n",
      "Q:  Did Willibrord and St. Francis Xavier ever go on a mission trip together?\n",
      "A:  No, Willibrord died in 739 AD which is before St. Francis Xavier was born in 1506.\n",
      "St. Francis Xavier, Spanish San Francisco Javier or Xavier, (born April 7, 1506, Xavier (Javier) Castle, near Sangüesa, Navarre [Spain]—died December 3, 1552, Sancian [now Shangchuan] Island, China; canonized March 12, 1622; feast day December 3), the greatest Roman Catholic missionary of modern times who was instrumental in the establishment of Christianity in India, the Malay Archipelago, and Japan.\n",
      "https://www.britannica.com/biography/Saint-Francis-Xavier\n",
      "The main missionaries of the Netherlands were Willibrord, Bonifatius and Saint Eligius . Willibrord (658 – 739), appointed Bishop of Utrecht, came to the Netherlands in 690, and was the first Anglo-Saxon missionary to preach Christianity there. The Christian Franks had just reoccupied and taken control of the lands from the Frisian tribes.\n",
      "https://en.wikipedia.org/wiki/Mythology_of_the_Netherlands\n",
      "\n",
      "Q:  The type of power generated by Sikka Thermal Power Station provides what percentage of total electricity consumed in India?\n",
      "A:  About 71%.\n",
      "Sikka Thermal Power Station is one of Gujarat 's coal -fired power plants. It is located near Jamnagar which is the major industrial town in Gujarat . Sikka Thermal Power Station is located near Jamnagar, which is the major industrial town in Gujarat.\n",
      "https://en.wikipedia.org/wiki/Sikka_Thermal_Power_Station\n",
      "Thermal power is the \"largest\" source of power in India. There are different types of thermal power plants based on the fuel used to generate the steam such as coal, gas, and Diesel, natural gas. About 71% of electricity consumed in India is generated by thermal power plants.\n",
      "https://en.wikipedia.org/wiki/List_of_power_stations_in_India\n",
      "\n",
      "Q:  How many years since the treaty of Paris was signed was Tennessee admitted into the union as a state?\n",
      "A:  13 years.\n",
      "Also known as the Rectangular Survey System, it was created by the Land Ordinance of 1785 to survey land ceded to the United States by the Treaty of Paris in 1783, following the end of the American Revolution. Beginning with the Seven Ranges in present-day Ohio, the PLSS has been used as the primary survey method in the United States.\n",
      "https://en.wikipedia.org/wiki/Public_Land_Survey_System\n",
      "Tennessee is one of the 50 states of the United States. What is now Tennessee was initially part of North Carolina, and later part of the Southwest Territory. It was admitted to the Union on June 1, 1796, as the 16th state.\n",
      "https://en.wikipedia.org/wiki/History_of_Tennessee\n",
      "\n",
      "Q:  How does the operating system used by the Windows Phone 7 differ from the Windows NT operating system?\n",
      "A:  Windows Embedded Compact, the system used by the Windows Phone 7, uses has a different hybrid kernel.\n",
      "Windows Embedded Compact, formerly Windows Embedded CE, Windows Powered and Windows CE, is an operating system subfamily developed by Microsoft as part of its Windows Embedded family of products. Unlike Windows Embedded Standard, which is based on Windows NT, Windows Embedded Compact uses a different hybrid kernel.\n",
      "https://en.wikipedia.org/wiki/Windows_CE\n",
      "Microsoft officially confirmed this and said that Windows Phone 7 is based on Windows Embedded CE 6.0 R3 with some features borrowed from Windows Embedded Compact 7, thus making it a hybrid solution. Windows Embedded Compact 7 contains these features:\n",
      "https://en.wikipedia.org/wiki/Windows_Embedded_Compact_7\n",
      "\n",
      "Q:  How old was Sara Evans when she released an album with her family?\n",
      "A:  48\n",
      "Sara Lynn Evans ( / ˈsɛərə /; born February 5, 1971) is an American country music singer and songwriter.\n",
      "https://en.wikipedia.org/wiki/Sara_Evans\n",
      "On the release, Evans collaborates and shares credit with members of her family, titling themselves Barker Family Band. It was released April 12, 2019 on the independent label, Born to Fly Records.\n",
      "https://en.wikipedia.org/wiki/The_Barker_Family_Band\n",
      "\n",
      "Q:  Which ocean would Admiral Chester W. Nimitz and members of USARPAC have done their tour of duty in?\n",
      "A:  Pacific\n",
      "The United States Army Pacific ( USARPAC) is an Army Service Component Command (ASCC) of the United States Army and is the army component unit of the United States Indo-Pacific Command. The main areas that this command has jurisdiction in include Hawaii, Alaska, the Pacific Ocean, South Korea and Japan.\n",
      "https://en.wikipedia.org/wiki/United_States_Army_Pacific\n",
      "Admiral Chester W. Nimitz of the U.S. Navy, Commander in Chief, U.S. Pacific Fleet, headed the command throughout its existence. The vast majority of Allied forces in the theatre were from the U.S. Navy, U.S. Army and U.S. Marine Corps.\n",
      "https://en.wikipedia.org/wiki/Pacific_Ocean_Areas_(command)\n",
      "\n",
      "Q:  Which centuries did the end of the Han dynasty and the Han-Xiongnu War occur?\n",
      "A:  The end of the Han dynasty occurred from 2nd to 3rd century AD while the Han-Xiongnu War occurred from 1st to 2nd century AD.\n",
      "The end of the Han dynasty refers to the period of Chinese history from 189 to 220 AD, which roughly coincides with the tumultuous reign of the Han dynasty 's last ruler, Emperor Xian. During this period, the country was thrown into turmoil by the Yellow Turban Rebellion (184–205).\n",
      "https://en.wikipedia.org/wiki/End_of_the_Han_Dynasty\n",
      "The Han–Xiongnu War, also known as the Sino–Xiongnu War, was a series of military battles fought between the Chinese Han Empire and the nomadic Xiongnu confederation from 133 BC to 89 AD.\n",
      "https://en.wikipedia.org/wiki/Han%E2%80%93Xiongnu_War\n",
      "\n",
      "Q:  Was Augustus active in Gaul in Lugdunum or the Rhine frontier during the capture of Rome by Gauls in 390 BC?\n",
      "A:  No, the events are over two centuries apart.\n",
      "From 14 to 13 BC, Augustus himself was also active in Gaul, whether in Lugdunum (modern Lyon) or along the Rhine frontier. As governor of Gaul, Drusus made his headquarters at Lugdunum, where he decided to establish the concilium Galliarum or ‘council of the Gaulish provinces’ sometime between 14 and 12 BC.\n",
      "https://en.wikipedia.org/wiki/Nero_Claudius_Drusus\n",
      "The early history of Romano-Celtic relations begins during a period of Gallic expansionism on the Italian peninsula, with the capture of Rome by Gauls in 390 BC (or more likely 387) and the suspiciously fortuitous rescue of the city by Camillus after the Romans had already surrendered.\n",
      "https://en.m.wikipedia.org/wiki/Roman_Republican_governors_of_Gaul\n",
      "\n",
      "Q:  Did General Sextus Julius Severus defend the Western Roman province of Gaul when the Huns invaded?\n",
      "A:  No, General Severus was active in the 2nd century which is hundreds of years before the Huns invaded Gaul in the 5th century.\n",
      "In 451, the Huns invaded the Western Roman province of Gaul, where they fought a combined army of Romans and Visigoths at the Battle of the Catalaunian Fields, and in 452 they invaded Italy. After Attila's death in 453, the Huns ceased to be a major threat to Rome and lost much of their empire following the Battle of Nedao (454?).\n",
      "https://en.wikipedia.org/wiki/Huns\n",
      "As well as leading the revolt, he was regarded by many Jews as the Messiah, who would restore their national independence. This setback, however, caused Emperor Hadrian to assemble a large-scale Roman force from across the Empire, which invaded Judea in 134 under the command of General Sextus Julius Severus.\n",
      "https://en.wikipedia.org/wiki/Bar_Kokhba_revolt\n",
      "\n"
     ]
    }
   ],
   "source": [
    "for i in analyze_ids:\n",
    "    k = str(i)\n",
    "    print('Q: ', txt_dataset[k]['Q'])\n",
    "    print('A: ', txt_dataset[k]['A'])\n",
    "    for f in txt_dataset[k]['SupportingFacts']:\n",
    "        print(f['fact'])\n",
    "        print(f['url'])\n",
    "    print()"
   ]
  },
  {
   "cell_type": "code",
   "execution_count": 19,
   "metadata": {},
   "outputs": [],
   "source": [
    "USER_AGENT_LIST = [\n",
    "            \"Mozilla/4.0 (compatible; MSIE 6.0; Windows NT 5.1; SV1; AcooBrowser; .NET CLR 1.1.4322; .NET CLR 2.0.50727)\",\n",
    "            \"Mozilla/4.0 (compatible; MSIE 7.0; Windows NT 6.0; Acoo Browser; SLCC1; .NET CLR 2.0.50727; Media Center PC 5.0; .NET CLR 3.0.04506)\",\n",
    "            \"Mozilla/4.0 (compatible; MSIE 7.0; AOL 9.5; AOLBuild 4337.35; Windows NT 5.1; .NET CLR 1.1.4322; .NET CLR 2.0.50727)\",\n",
    "            \"Mozilla/5.0 (Windows; U; MSIE 9.0; Windows NT 9.0; en-US)\",\n",
    "            \"Mozilla/5.0 (compatible; MSIE 9.0; Windows NT 6.1; Win64; x64; Trident/5.0; .NET CLR 3.5.30729; .NET CLR 3.0.30729; .NET CLR 2.0.50727; Media Center PC 6.0)\",\n",
    "            \"Mozilla/5.0 (compatible; MSIE 8.0; Windows NT 6.0; Trident/4.0; WOW64; Trident/4.0; SLCC2; .NET CLR 2.0.50727; .NET CLR 3.5.30729; .NET CLR 3.0.30729; .NET CLR 1.0.3705; .NET CLR 1.1.4322)\",\n",
    "            \"Mozilla/4.0 (compatible; MSIE 7.0b; Windows NT 5.2; .NET CLR 1.1.4322; .NET CLR 2.0.50727; InfoPath.2; .NET CLR 3.0.04506.30)\",\n",
    "            \"Mozilla/5.0 (Windows; U; Windows NT 5.1; zh-CN) AppleWebKit/523.15 (KHTML, like Gecko, Safari/419.3) Arora/0.3 (Change: 287 c9dfb30)\",\n",
    "            \"Mozilla/5.0 (X11; U; Linux; en-US) AppleWebKit/527+ (KHTML, like Gecko, Safari/419.3) Arora/0.6\",\n",
    "            \"Mozilla/5.0 (Windows; U; Windows NT 5.1; en-US; rv:1.8.1.2pre) Gecko/20070215 K-Ninja/2.1.1\",\n",
    "            \"Mozilla/5.0 (Windows; U; Windows NT 5.1; zh-CN; rv:1.9) Gecko/20080705 Firefox/3.0 Kapiko/3.0\",\n",
    "            \"Mozilla/5.0 (X11; Linux i686; U;) Gecko/20070322 Kazehakase/0.4.5\",\n",
    "            \"Mozilla/5.0 (X11; U; Linux i686; en-US; rv:1.9.0.8) Gecko Fedora/1.9.0.8-1.fc10 Kazehakase/0.5.6\",\n",
    "            \"Mozilla/5.0 (Windows NT 6.1; WOW64) AppleWebKit/535.11 (KHTML, like Gecko) Chrome/17.0.963.56 Safari/535.11\",\n",
    "            \"Mozilla/5.0 (Macintosh; Intel Mac OS X 10_7_3) AppleWebKit/535.20 (KHTML, like Gecko) Chrome/19.0.1036.7 Safari/535.20\",\n",
    "            \"Opera/9.80 (Macintosh; Intel Mac OS X 10.6.8; U; fr) Presto/2.9.168 Version/11.52\",\n",
    "            \"Mozilla/5.0 (Windows NT 6.1; WOW64) AppleWebKit/536.11 (KHTML, like Gecko) Chrome/20.0.1132.11 TaoBrowser/2.0 Safari/536.11\",\n",
    "            \"Mozilla/5.0 (Windows NT 6.1; WOW64) AppleWebKit/537.1 (KHTML, like Gecko) Chrome/21.0.1180.71 Safari/537.1 LBBROWSER\",\n",
    "            \"Mozilla/5.0 (compatible; MSIE 9.0; Windows NT 6.1; WOW64; Trident/5.0; SLCC2; .NET CLR 2.0.50727; .NET CLR 3.5.30729; .NET CLR 3.0.30729; Media Center PC 6.0; .NET4.0C; .NET4.0E; LBBROWSER)\",\n",
    "            \"Mozilla/4.0 (compatible; MSIE 6.0; Windows NT 5.1; SV1; QQDownload 732; .NET4.0C; .NET4.0E; LBBROWSER)\",\n",
    "            \"Mozilla/5.0 (Windows NT 6.1; WOW64) AppleWebKit/535.11 (KHTML, like Gecko) Chrome/17.0.963.84 Safari/535.11 LBBROWSER\",\n",
    "            \"Mozilla/4.0 (compatible; MSIE 7.0; Windows NT 6.1; WOW64; Trident/5.0; SLCC2; .NET CLR 2.0.50727; .NET CLR 3.5.30729; .NET CLR 3.0.30729; Media Center PC 6.0; .NET4.0C; .NET4.0E)\",\n",
    "            \"Mozilla/5.0 (compatible; MSIE 9.0; Windows NT 6.1; WOW64; Trident/5.0; SLCC2; .NET CLR 2.0.50727; .NET CLR 3.5.30729; .NET CLR 3.0.30729; Media Center PC 6.0; .NET4.0C; .NET4.0E; QQBrowser/7.0.3698.400)\",\n",
    "            \"Mozilla/4.0 (compatible; MSIE 6.0; Windows NT 5.1; SV1; QQDownload 732; .NET4.0C; .NET4.0E)\",\n",
    "            \"Mozilla/4.0 (compatible; MSIE 7.0; Windows NT 5.1; Trident/4.0; SV1; QQDownload 732; .NET4.0C; .NET4.0E; 360SE)\",\n",
    "            \"Mozilla/4.0 (compatible; MSIE 6.0; Windows NT 5.1; SV1; QQDownload 732; .NET4.0C; .NET4.0E)\",\n",
    "            \"Mozilla/4.0 (compatible; MSIE 7.0; Windows NT 6.1; WOW64; Trident/5.0; SLCC2; .NET CLR 2.0.50727; .NET CLR 3.5.30729; .NET CLR 3.0.30729; Media Center PC 6.0; .NET4.0C; .NET4.0E)\",\n",
    "            \"Mozilla/5.0 (Windows NT 5.1) AppleWebKit/537.1 (KHTML, like Gecko) Chrome/21.0.1180.89 Safari/537.1\",\n",
    "            \"Mozilla/5.0 (Windows NT 6.1; WOW64) AppleWebKit/537.1 (KHTML, like Gecko) Chrome/21.0.1180.89 Safari/537.1\",\n",
    "            \"Mozilla/5.0 (iPad; U; CPU OS 4_2_1 like Mac OS X; zh-cn) AppleWebKit/533.17.9 (KHTML, like Gecko) Version/5.0.2 Mobile/8C148 Safari/6533.18.5\",\n",
    "            \"Mozilla/5.0 (Windows NT 6.1; Win64; x64; rv:2.0b13pre) Gecko/20110307 Firefox/4.0b13pre\",\n",
    "            \"Mozilla/5.0 (X11; Ubuntu; Linux x86_64; rv:16.0) Gecko/20100101 Firefox/16.0\",\n",
    "            \"Mozilla/5.0 (Windows NT 6.1; WOW64) AppleWebKit/537.11 (KHTML, like Gecko) Chrome/23.0.1271.64 Safari/537.11\",\n",
    "            \"Mozilla/5.0 (X11; U; Linux x86_64; zh-CN; rv:1.9.2.10) Gecko/20100922 Ubuntu/10.10 (maverick) Firefox/3.6.10\",\n",
    "            \"Mozilla/5.0 (Windows NT 10.0; Win64; x64) AppleWebKit/537.36 (KHTML, like Gecko) Chrome/58.0.3029.110 Safari/537.36\",\n",
    "        ]"
   ]
  },
  {
   "cell_type": "code",
   "execution_count": 85,
   "metadata": {},
   "outputs": [],
   "source": [
    "url_blocklist = ['seal', 'sign ', 'pdf', 'gif', 'icon', 'notice', 'cartoon', 'publish', 'menu', 'logo', 'svg', 'webm', 'page', \\\n",
    "                     'ogg', 'flickr', 'poster', 'ogv', 'banner', 'tif', 'montage', 'centralautologin', 'footer']"
   ]
  },
  {
   "cell_type": "code",
   "execution_count": 495,
   "metadata": {
    "scrolled": false
   },
   "outputs": [
    {
     "name": "stdout",
     "output_type": "stream",
     "text": [
      "46\n",
      " --------------------------------------------------------------- \n",
      "//upload.wikimedia.org/wikipedia/commons/thumb/4/47/Gfp-texas-galveston-island-state-park-inlet-shore.jpg/264px-Gfp-texas-galveston-island-state-park-inlet-shore.jpg\n",
      "parent<tr>:  Gulf of Mexico coastline near Galveston, Texas\n",
      "<p>:  The Gulf of Mexico (Spanish: Golfo de México) is an ocean basin and a marginal sea of the Atlantic Ocean,[1] largely surrounded by the North American continent.[2] It is bounded on the northeast, north and northwest by the Gulf Coast of the United States; on the southwest and south by the Mexican states of Tamaulipas, Veracruz, Tabasco, Campeche, Yucatan, and Quintana Roo; and on the southeast by Cuba. The US states of Texas, Louisiana, Mississippi, Alabama, and Florida, which border the Gulf on the north, are often referred to as the \"Third Coast\" of the United States (in addition to its Atlantic and Pacific coasts). \n",
      "\n",
      "prev<th>:  Gulf of Mexico\n",
      "prev<p>:  \n",
      "\n",
      " --------------------------------------------------------------- \n",
      "//upload.wikimedia.org/wikipedia/commons/thumb/6/65/Fixed_gulf_map.png/256px-Fixed_gulf_map.png\n",
      "parent<tr>:  Bathymetry of the Gulf of Mexico\n",
      "<p>:  The Gulf of Mexico (Spanish: Golfo de México) is an ocean basin and a marginal sea of the Atlantic Ocean,[1] largely surrounded by the North American continent.[2] It is bounded on the northeast, north and northwest by the Gulf Coast of the United States; on the southwest and south by the Mexican states of Tamaulipas, Veracruz, Tabasco, Campeche, Yucatan, and Quintana Roo; and on the southeast by Cuba. The US states of Texas, Louisiana, Mississippi, Alabama, and Florida, which border the Gulf on the north, are often referred to as the \"Third Coast\" of the United States (in addition to its Atlantic and Pacific coasts). \n",
      "\n",
      "prev<th>:  Gulf of Mexico\n",
      "prev<p>:  \n",
      "\n",
      " --------------------------------------------------------------- \n",
      "//upload.wikimedia.org/wikipedia/commons/thumb/c/cb/Verner_Moore_White_-_The_Harbor_at_Galveston.JPG/220px-Verner_Moore_White_-_The_Harbor_at_Galveston.JPG\n",
      "parent thumbinner<div>:   Galveston harbor by Verner Moore White\n",
      " --------------------------------------------------------------- \n",
      "//upload.wikimedia.org/wikipedia/commons/thumb/1/1b/Gulf_of_Mexico_with_ship.jpg/220px-Gulf_of_Mexico_with_ship.jpg\n",
      "parent thumbinner<div>:   Ship and oil rigs in the Gulf\n",
      " --------------------------------------------------------------- \n",
      "//upload.wikimedia.org/wikipedia/commons/thumb/5/5f/15-07-14-Yucatan-%C3%96lfelder-RalfR-WMA_0481.jpg/220px-15-07-14-Yucatan-%C3%96lfelder-RalfR-WMA_0481.jpg\n",
      "parent thumbinner<div>:   Cantarell Field\n",
      " --------------------------------------------------------------- \n",
      "//upload.wikimedia.org/wikipedia/commons/thumb/2/2a/Sediment_in_the_Gulf_of_Mexico.jpg/280px-Sediment_in_the_Gulf_of_Mexico.jpg\n",
      "parent thumbinner<div>:   Sediment in the Gulf of Mexico\n",
      " --------------------------------------------------------------- \n",
      "//upload.wikimedia.org/wikipedia/commons/thumb/9/98/Fishing_Fleet_in_Biloxi.jpg/170px-Fishing_Fleet_in_Biloxi.jpg\n",
      "parent thumbinner<div>:   Fishing boats in Biloxi\n",
      " --------------------------------------------------------------- \n",
      "//upload.wikimedia.org/wikipedia/commons/thumb/8/81/Wide_natural_beach_near_Sabine_Pass.jpg/220px-Wide_natural_beach_near_Sabine_Pass.jpg\n",
      "parent thumbinner<div>:   Gulf beach near Sabine Pass\n",
      " --------------------------------------------------------------- \n",
      "//upload.wikimedia.org/wikipedia/commons/thumb/c/c3/Mississippiriver-new-01.png/290px-Mississippiriver-new-01.png\n",
      "parent thumbinner<div>:   The Mississippi River watershed is the largest drainage basin of the Gulf of Mexico Watershed.[30]\n",
      " --------------------------------------------------------------- \n",
      "//upload.wikimedia.org/wikipedia/commons/thumb/f/fe/Northern_Gulf_of_Mexico_map.png/330px-Northern_Gulf_of_Mexico_map.png\n",
      "parent thumbinner<div>:   Map of northern part of Gulf of Mexico\n",
      " --------------------------------------------------------------- \n",
      "//upload.wikimedia.org/wikipedia/commons/thumb/b/b2/Caribbean_Sea_Gulf_of_Mexico_shaded_relief_bathymetry_land_map.png/330px-Caribbean_Sea_Gulf_of_Mexico_shaded_relief_bathymetry_land_map.png\n",
      "parent thumbinner<div>:   The shaded relief map of the Gulf of Mexico and Caribbean area.[31][32]\n",
      " --------------------------------------------------------------- \n",
      "//upload.wikimedia.org/wikipedia/commons/thumb/3/35/Dead_Zone_NASA_NOAA.jpg/330px-Dead_Zone_NASA_NOAA.jpg\n",
      "parent thumbinner<div>:   Dead zone in the Gulf of Mexico\n",
      " --------------------------------------------------------------- \n",
      "//upload.wikimedia.org/wikipedia/commons/thumb/9/9d/Deepwater_Horizon_offshore_drilling_unit_on_fire_2010.jpg/220px-Deepwater_Horizon_offshore_drilling_unit_on_fire_2010.jpg\n",
      "parent thumbinner<div>:   Deepwater Horizon in flames after the explosion\n"
     ]
    }
   ],
   "source": [
    "### Scrap imgs and their captions. \n",
    "url = 'https://en.wikipedia.org/wiki/Gulf_of_Mexico'\n",
    "req = urllib.request.Request(url, headers = {'User-Agent': random.choice(USER_AGENT_LIST)})\n",
    "with urllib.request.urlopen(req) as f:\n",
    "    html = f.read().decode('utf-8')\n",
    "soup = BeautifulSoup(html, 'html.parser')\n",
    "#links = soup.find_all('img', {'src':re.compile('.jpg|.png')})\n",
    "links = soup.find_all('img')\n",
    "print(len(links))\n",
    "for l in links:\n",
    "    imgUrl = l.get('src')\n",
    "    #if \"http\" not in imgUrl: imgUrl = \"https://\" + url.split(\"/\")[2] + imgUrl\n",
    "    if int(l['width'])<100 or int(l['height'])<100:\n",
    "        continue\n",
    "    if any(b in imgUrl.lower() for b in url_blocklist): \n",
    "        continue\n",
    "    print(\" --------------------------------------------------------------- \")\n",
    "    print(imgUrl)\n",
    "\n",
    "    thumbinner_div = l.find_parent(\"div\", class_='thumbinner')\n",
    "    if thumbinner_div: # Special case for thumb images, which are put into a table\n",
    "        print(\"parent thumbinner<div>: \", thumbinner_div.text)\n",
    "        continue\n",
    "        \n",
    "    tr_parent = l.find_parent('tr')\n",
    "    if tr_parent: print(\"parent<tr>: \", tr_parent.text)\n",
    "        \n",
    "    next_p = l.find_next('p')\n",
    "    if next_p: print(\"<p>: \", next_p.text)\n",
    "                \n",
    "    prev_th = l.find_previous('th')\n",
    "    if prev_th: print(\"prev<th>: \", prev_th.text)\n",
    "    \n",
    "    prev_p = l.find_previous('p')\n",
    "    if prev_p: print(\"prev<p>: \", prev_p.text)\n"
   ]
  },
  {
   "cell_type": "code",
   "execution_count": 489,
   "metadata": {},
   "outputs": [],
   "source": [
    "### Given important spans, find relevant Wikipedia pages\n",
    "import wikipedia\n",
    "ny = wikipedia.search(\"Ferrocerium\")\n",
    "#print(ny.title)\n",
    "#print(ny.url)\n",
    "#print(ny.content)"
   ]
  },
  {
   "cell_type": "code",
   "execution_count": 490,
   "metadata": {},
   "outputs": [
    {
     "data": {
      "text/plain": [
       "['Ferrocerium',\n",
       " 'Flint',\n",
       " 'Fire making',\n",
       " 'List of named alloys',\n",
       " 'Mischmetal',\n",
       " 'Cerium',\n",
       " 'Glossary of firelighting',\n",
       " 'Lighter',\n",
       " 'Neodymium magnet',\n",
       " 'Tinder']"
      ]
     },
     "execution_count": 490,
     "metadata": {},
     "output_type": "execute_result"
    }
   ],
   "source": [
    "ny"
   ]
  },
  {
   "cell_type": "code",
   "execution_count": 154,
   "metadata": {},
   "outputs": [],
   "source": [
    "from transformers import BertTokenizer\n",
    "tokenizer = BertTokenizer.from_pretrained(\"bert-base-cased\", do_lower_case=True)"
   ]
  },
  {
   "cell_type": "code",
   "execution_count": 243,
   "metadata": {},
   "outputs": [],
   "source": [
    "# VQA Eval (SQuAD style EM, F1)\n",
    "def compute_vqa_metrics(cands, a):\n",
    "    if len(cands) == 0: return (0,0,0)\n",
    "    remove_stop_a = pattern.sub('', a)\n",
    "    bow_a = tokenizer.tokenize(remove_stop_a) #normalize_text(a).split()\n",
    "    F1 = []\n",
    "    EM = 0\n",
    "    RE = []\n",
    "    PR = []\n",
    "    for c in cands:\n",
    "        remove_stop_c = pattern.sub('', c)\n",
    "        bow_c = tokenizer.tokenize(remove_stop_c) #normalize_text(c).split()\n",
    "        if bow_c == bow_a:\n",
    "            EM = 1\n",
    "        common = Counter(bow_a) & Counter(bow_c)\n",
    "        num_same = sum(common.values())\n",
    "        if num_same == 0:\n",
    "            return (0,0,0,0,0)\n",
    "        precision = 1.0 * num_same / len(bow_c)\n",
    "        recall = 1.0 * num_same / len(bow_a)\n",
    "        RE.append(recall)\n",
    "        PR.append(precision)\n",
    "\n",
    "        f1 = 2*precision*recall / (precision + recall + 1e-5)\n",
    "        F1.append(f1)\n",
    "    \n",
    "    PR_avg = np.mean(PR)\n",
    "    RE_avg = np.mean(RE)\n",
    "    F1_avg = np.mean(F1)\n",
    "    F1_max = np.max(F1)\n",
    "    return (F1_avg, F1_max, EM, RE_avg, PR_avg)"
   ]
  },
  {
   "cell_type": "code",
   "execution_count": 472,
   "metadata": {},
   "outputs": [
    {
     "name": "stdout",
     "output_type": "stream",
     "text": [
      "499\n",
      "999\n",
      "1499\n",
      "1999\n",
      "2499\n",
      "2999\n",
      "3499\n",
      "3999\n",
      "4499\n",
      "4999\n",
      "5499\n",
      "5999\n",
      "6499\n",
      "6999\n",
      "7499\n",
      "11\n"
     ]
    }
   ],
   "source": [
    "guid2posMetrics = defaultdict(lambda: defaultdict(lambda: []))\n",
    "guid2negMetrics = defaultdict(lambda: defaultdict(lambda: []))\n",
    "zero_pos = 0\n",
    "count = 0\n",
    "for k in txt_dataset:\n",
    "    count += 1\n",
    "    if count%500 == 0: print(k)\n",
    "    q = txt_dataset[k]['Q']\n",
    "    guid = txt_dataset[k]['Guid']\n",
    "    if len(txt_dataset[k]['SupportingFacts']) == 0: \n",
    "        zero_pos += 1\n",
    "        continue\n",
    "    for f in txt_dataset[k]['SupportingFacts']:\n",
    "        F1, _, __, RE, PR = compute_vqa_metrics([f['fact']], q)\n",
    "        lcs = pylcs.lcs2(q, f['fact'])\n",
    "        lcs_f = lcs / len(f['fact'])\n",
    "        lcs_q = lcs / len(q)\n",
    "        guid2posMetrics[guid]['F1'].append(F1)\n",
    "        guid2posMetrics[guid]['RE'].append(RE)\n",
    "        guid2posMetrics[guid]['PR'].append(PR)\n",
    "        guid2posMetrics[guid]['lcs_q'].append(lcs_q)\n",
    "        guid2posMetrics[guid]['lcs_f'].append(lcs_f)\n",
    "        \n",
    "    for d in txt_dataset[k]['DistractorFacts']:\n",
    "        F1, _, __, RE, PR = compute_vqa_metrics([d['fact']], q)\n",
    "        lcs = pylcs.lcs2(q, d['fact'])\n",
    "        lcs_f = lcs / len(d['fact'])\n",
    "        lcs_q = lcs / len(q)\n",
    "        guid2negMetrics[guid]['F1'].append(F1)\n",
    "        guid2negMetrics[guid]['RE'].append(RE)\n",
    "        guid2negMetrics[guid]['PR'].append(PR)\n",
    "        guid2negMetrics[guid]['lcs_q'].append(lcs_q)\n",
    "        guid2negMetrics[guid]['lcs_f'].append(lcs_f)\n",
    "assert set(guid2posMetrics.keys()) == set(guid2negMetrics.keys())\n",
    "print(zero_pos)"
   ]
  },
  {
   "cell_type": "code",
   "execution_count": 226,
   "metadata": {},
   "outputs": [
    {
     "name": "stdout",
     "output_type": "stream",
     "text": [
      "273\n",
      "Q:  The road forming the eastern boundary of the The Lower East Side runs in what direction?\n",
      "A:  North-South\n",
      "+\n",
      "0 The Lower East Side is roughly bounded by the Bowery to the west, East Houston Street to the north, the FDR Drive and East River to the east, and Canal Street to the south. The western boundary below Grand Street veers east off of the Bowery to approximately Essex Street .\n",
      "(0.1666633681208393, 0.1666633681208393, 0, 0.4, 0.10526315789473684)\n",
      "1 The main north–south expressways servicing the East Side are the Franklin D. Roosevelt East River Drive and Harlem River Drive, which for the majority of their length are separated from the east shore of the island by the Manhattan Waterfront Greenway.\n",
      "(0.08162940454410487, 0.08162940454410487, 0, 0.2, 0.05128205128205128)\n",
      "-\n",
      "0 / 40.769; -73.966 The Upper East Side, sometimes abbreviated UES, is a neighborhood in the borough of Manhattan in New York City, bounded by 96th Street to the north, the East River to the east, 59th Street to the south, and Central Park / Fifth Avenue to the west.\n",
      "(0.06779379500342782, 0.06779379500342782, 0, 0.2, 0.04081632653061224)\n",
      "1 / 40.776; -73.950 Yorkville is a neighborhood in the Upper East Side of Manhattan, New York City. Its southern boundary is East 79th Street, its northern East 96th Street, its western Third Avenue, and its eastern the East River. Yorkville is among the city's most affluent neighborhoods.\n",
      "(0.12902955260615503, 0.12902955260615503, 0, 0.4, 0.07692307692307693)\n",
      "2 Regionally, the term refers to the coastal states and area east of the Appalachian Mountains that have shoreline on the Atlantic Ocean, from north to south, Maine, New Hampshire, Massachusetts, Rhode Island, Connecticut, New York, New Jersey, Delaware, Maryland, Virginia, North Carolina, South Carolina, Georgia and Florida.\n",
      "(0.02352733582330971, 0.02352733582330971, 0, 0.1, 0.013333333333333334)\n",
      "3 The east coast of the United States, also known as the Eastern Seaboard, the Atlantic Coast, and the Atlantic Seaboard, is the coastline along which the eastern United States meets the North Atlantic Ocean.\n",
      "(0.10525927992126603, 0.10525927992126603, 0, 0.2, 0.07142857142857142)\n",
      "4 The major neighborhoods on the East Side include (from north to south) East Harlem, Yorkville, the Upper East Side, Turtle Bay, Murray Hill, Kips Bay, Gramercy, East Village, and the Lower East Side.\n",
      "(0.11538150895937414, 0.11538150895937414, 0, 0.3, 0.07142857142857142)\n",
      "  ------------------------------------------------------------  \n",
      "3033\n",
      "Q:  Who was born earliest, English boy band star Harry Styles or English clergyman Henricus?\n",
      "A:  Henricus\n",
      "+\n",
      "0 Henry walking on his murderer. Painting from the Church of Taivassalo about 1450. Henry ( Finnish: Henrik; Swedish: Henrik; Latin: Henricus; died c. 20 January 1156) was a medieval English clergyman.\n",
      "(0.18749609871398767, 0.18749609871398767, 0, 0.35294117647058826, 0.1276595744680851)\n",
      "1 It is also a diminutive form of Harold, Harrison or Harvey. Harry Styles (born 1994), British singer, songwriter, actor as well as member of the boy band One Direction. Harry Mason, protagonist in the 1999 survival horror video game Silent Hill.\n",
      "(0.19354440694969577, 0.19354440694969577, 0, 0.35294117647058826, 0.13333333333333333)\n",
      "-\n",
      "0 Aside from music, he is also known for his flamboyant fashion, and is the first man to appear solo on the cover of Vogue magazine. Harry Edward Styles was born on 1 February 1994 in Redditch, Worcestershire, the son of Anne Twist ( née Selley, formerly Cox) and finance worker Desmond \"Des\" Styles.\n",
      "(0.11110750397513137, 0.11110750397513137, 0, 0.23529411764705882, 0.07272727272727272)\n",
      "1 Harley first became popular in the year 1880, where it was the 180th most popular masculine given name in the United States, the name first became popular as a feminine given name in 1991, and became the 667th most popular feminine given name during that year.\n",
      "(0.04254857451638226, 0.04254857451638226, 0, 0.058823529411764705, 0.03333333333333333)\n",
      "2 Harriet Beecher Stowe is one famous Harriet. Harriet is a female name . The name is an English version of the French Henriette, a female form of Henri. The male name Harry was formed in a similar way from Henry.\n",
      "(0.18867488796107804, 0.18867488796107804, 0, 0.29411764705882354, 0.1388888888888889)\n",
      "3 Harris is a ( patronymic or paternal) family name of British and Irish usage, arising from the bearer or their ancestor being son of a Harry (the Middle English form of Henry ).\n",
      "(0.21738664471235467, 0.21738664471235467, 0, 0.29411764705882354, 0.1724137931034483)\n",
      "4 Harry Edward Styles was born on 1 February 1994 in Redditch, Worcestershire, the son of Anne Twist ( née Selley, formerly Cox) and finance worker Desmond \"Des\" Styles. When he was a child, he moved with his parents and older sister, Gemma, to Holmes Chapel, Cheshire.\n",
      "(0.10810456914434118, 0.10810456914434118, 0, 0.23529411764705882, 0.07017543859649122)\n",
      "5 Harry, as he is commonly known by his associates, is a veteran police homicide detective with the Los Angeles Police Department. He was named after the 15th-century Dutch artist Hieronymus Bosch . Since 2015, Titus Welliver has portrayed the title character in Bosch, a television series adapted from the novels.\n",
      "(0.0923038297474321, 0.0923038297474321, 0, 0.17647058823529413, 0.0625)\n",
      "6 Harvey is an English family and given name derived from the Old Breton name Huiarnviu, derived from the elements hoiarn, huiarn (modern Breton houarn) meaning \"iron\" and viu (Breton bev) meaning \"blazing\". It is related to Old Welsh Haarnbiu. Nick Harvey (born 1961), British M.P.\n",
      "(0.11627589786911162, 0.11627589786911162, 0, 0.29411764705882354, 0.07246376811594203)\n",
      "7 Look up Henry or henry in Wiktionary, the free dictionary. Five kings of France, spelt Henri in Modern French since the Renaissance to italianize the name and to make the difference with the Norman and the English Henry. Henry the Young King, co-ruler with his father, Henry II, until his death.\n",
      "(0.10958546830938935, 0.10958546830938935, 0, 0.23529411764705882, 0.07142857142857142)\n",
      "8 The Old High German name is recorded from the 8th century, in the variants Haimirich, Haimerich, Heimerich, Hemirih. Harry, its English short form, was considered the \"spoken form\" of Henry in medieval England. Most English kings named Henry were called Harry.\n",
      "(0.21211738758043602, 0.21211738758043602, 0, 0.4117647058823529, 0.14285714285714285)\n",
      "9 The most common equivalents in other languages are Henry ( English ), Heikki ( Finnish ), Hendrik ( Dutch ), Heinrich ( German ), Enrico ( Italian ), Henri ( French ), Enrique ( Spanish) and Henrique ( Portuguese ). A longer list can be found here .\n",
      "(0.12194793286668738, 0.12194793286668738, 0, 0.29411764705882354, 0.07692307692307693)\n",
      "10 The name is derived from the Old English words hara meaning hare, and leah, meaning wood or clearing and meadow in later development of the language. The name Harley means \"hare's meadow\".\n",
      "(0.13635889479297653, 0.13635889479297653, 0, 0.17647058823529413, 0.1111111111111111)\n",
      "  ------------------------------------------------------------  \n",
      "3672\n",
      "Q:  Which was released first: Harlem Yu's song Qing Fei De Yi or JJ Lin's Music Voyager album?\n",
      "A:  Harlem Yu's song was released first.\n",
      "+\n",
      "0 Lin launched his musical career by releasing his debut album, Music Voyager (2003). Lin has received three Golden Melody Awards, including one Best New Artist and two Best Mandarin Male Singer.\n",
      "(0.18518043222075817, 0.18518043222075817, 0, 0.23809523809523808, 0.15151515151515152)\n",
      "1 He is particularly well-known for singing the theme song, Qing Fei De Yi, for the 2001 television drama, Meteor Garden. He made a cameo in both that version and the 2018 remake, Meteor Garden performing Qing Fei De Yi ( 情非得已 ).\n",
      "(0.19047174613544732, 0.19047174613544732, 0, 0.2857142857142857, 0.14285714285714285)\n",
      "-\n",
      "0 He later became the first Taiwanese artist to record his album in One Take and One Take Live with no further editing.\n",
      "(0.18181355383681141, 0.18181355383681141, 0, 0.14285714285714285, 0.25)\n",
      "1 Her debut album, Start from Here, was released in January 2008 as a double-disc set, one in English and the other in Chinese. The album reached No.1 in Taiwan and has been popular throughout Southeast Asia. In June 2008, it was released in Japan.\n",
      "(0.10344365656774981, 0.10344365656774981, 0, 0.14285714285714285, 0.08108108108108109)\n",
      "2 JJ Lin was born to an ethnic Kim-mûi Hokkien family ( Minnan ethnicity) in Singapore and studied at Jing Shan Primary School, Anglo-Chinese School (Independent) and Saint Andrew's Junior College before completing his National Service.\n"
     ]
    },
    {
     "name": "stdout",
     "output_type": "stream",
     "text": [
      "(0.09523365100104851, 0.09523365100104851, 0, 0.14285714285714285, 0.07142857142857142)\n",
      "3 Lin was born in Keelung, Taiwan, and is the oldest of 3, He started duo group Ukulele with Lee Chi at university in 1991 and gained attention in Taiwan and Hong Kong with \"Apologize\" in 1992, the band made 4 Mandarin albums, 2 English cover albums and a compilation before disbanding in 1996.\n",
      "(0.08450287661875822, 0.08450287661875822, 0, 0.14285714285714285, 0.06)\n",
      "4 The album reached No.1 in Taiwan and has been popular throughout Southeast Asia. In June 2008, it was released in Japan. Her second album, Joanna & Wang Ruo-lin, which includes her all-original endeavor, The Adult Storybook, was released in January 2009.\n",
      "(0.1212077825244513, 0.1212077825244513, 0, 0.19047619047619047, 0.08888888888888889)\n",
      "  ------------------------------------------------------------  \n",
      "4811\n",
      "Q:  How old was Barber when he was promoted to lieutenant-general?\n",
      "A:  Barber was 55 when he was promoted to lieutenant-general.\n",
      "+\n",
      "0 Lieutenant-General Sir Colin Muir Barber KBE, CB, DSO & Bar (27 June 1897 – 5 May 1964) was a senior British Army officer who fought in both World War I and World War II where he commanded the 15th (Scottish) Infantry Division during their actions across Northwest Europe, from August 1944 until Victory in Europe Day in May 1945.\n",
      "(0.14925162845466775, 0.14925162845466775, 0, 0.625, 0.0847457627118644)\n",
      "1 Barber was promoted to lieutenant-general on 27 February 1952 and made General Officer Commanding-in-Chief (GOC-in-C) of Scottish Command and Governor of Edinburgh Castle. He retired from the army on 28 March 1955. Lieutenant-General Sir Colin Barber died on 5 May 1964.\n",
      "(0.19999768891559475, 0.19999768891559475, 0, 0.75, 0.11538461538461539)\n",
      "-\n",
      "0 Barbour died of a heart attack on September 23, 1992, at the age of 75 at Kennedy University Hospital in Cherry Hill, New Jersey. He was survived by his wife, Veronica, as well as by a daughter and four sons.\n",
      "(0.09090611579984653, 0.09090611579984653, 0, 0.25, 0.05555555555555555)\n",
      "1 Barbour was a teller in the Charter Oak Bank. Barbour political affiliations were with the Republican Party. He was a member of the House of Representatives in 1879; he served as the colleague of the late Hon. Henry C. Robinson.\n",
      "(0.047615963918527175, 0.047615963918527175, 0, 0.125, 0.029411764705882353)\n",
      "2 He is the 21st and incumbent director-general of the Inter-Services Public Relations (ISPR) and has been in office since 1 February 2020. He was commissioned in the Pakistan Army in 1990.\n",
      "(0.1052598338999821, 0.1052598338999821, 0, 0.25, 0.06666666666666667)\n",
      "3 It is an authentic 19th-century general store building, preserved and used to recreate a Victorian-era educational experience for visitors. It is located at the intersection of King Street and Prince William Street in the Trinity Royal Historic Preservation Area in the city's uptown.\n",
      "(0.08888596552824485, 0.08888596552824485, 0, 0.25, 0.05405405405405406)\n",
      "4 Michael Douglas Barbero is a United States Army Lieutenant General. He was commissioned in the infantry upon graduation from the United States Military Academy at West Point in 1976. Lieutenant General Michael D. Barbero served as Director, Joint Improvised Explosive Device Defeat Organization ( JIEDDO) from March 2011 until May 2013.\n",
      "(0.13559087622552968, 0.13559087622552968, 0, 0.5, 0.0784313725490196)\n",
      "  ------------------------------------------------------------  \n",
      "5161\n",
      "Q:  Did the 1972 film called Savage Messiah and the 2002 film Savage Messiah both cover the same topic?\n",
      "A:  No, the 1972 film was a biographical film on Henri Gaudier-Brzeska and the 2002 film dramtaizes the story of Roch Theriault.\n",
      "+\n",
      "0 Savage Messiah ( French: Moïse, l’affaire Roch Thériault) is a Canadian thriller-drama film, released in 2002. The film dramatizes the real-life story of Roch \"Moïse\" Thériault, a cult leader who was arrested in Burnt River, Ontario, in 1989.\n",
      "(0.1764673183996885, 0.1764673183996885, 0, 0.42857142857142855, 0.1111111111111111)\n",
      "1 Savage Messiah is a 1972 British biographical film of the life of French sculptor Henri Gaudier-Brzeska, made by Russ-Arts and distributed by MGM. It was directed and produced by Ken Russell, with Harry Benn as associate producer, from a screenplay by Christopher Logue, based on the book Savage Messiah by H. S. Ede.\n",
      "(0.21621314832694943, 0.21621314832694943, 0, 0.5714285714285714, 0.13333333333333333)\n",
      "-\n",
      "0 The film dramatizes the real-life story of Roch \"Moïse\" Thériault, a cult leader who was arrested in Burnt River, Ontario, in 1989. The film stars Luc Picard as Thériault, and Polly Walker as Paula Jackson, the social worker whose investigation revealed Thériault's crimes.\n",
      "(0.05713965732204711, 0.05713965732204711, 0, 0.14285714285714285, 0.03571428571428571)\n",
      "1 The film stars Luc Picard as Thériault, and Polly Walker as Paula Jackson, the social worker whose investigation revealed Thériault's crimes. The film's cast also includes Isabelle Blais, Louis Ferreira, Pascale Montpetit, Isabelle Cyr, Robert Higden and Domini Blythe .\n",
      "(0.049379856894705726, 0.049379856894705726, 0, 0.14285714285714285, 0.029850746268656716)\n",
      "2 The film was based on the biography by Jim Ede, who had discovered the story while working at the Tate Gallery. Ede had acquired Sophie Brzeska's estate in 1927 from the British Treasury Solicitor after she died intestate. This acquisition included not only her writings, but also the estate of Henri Gaudier, with many of his works and papers.\n",
      "(0.03332975593952916, 0.03332975593952916, 0, 0.07142857142857142, 0.021739130434782608)\n",
      "  ------------------------------------------------------------  \n",
      "6550\n",
      "Q:  What jobs did James Myers Thompson do during his life?\n",
      "A:  He was a screenwriter, author, and worked at an aircraft factory.\n",
      "+\n",
      "0 Thompson joined the Communist Party in 1935 but left the group by 1938. In the early stages of World War II, Thompson worked at an aircraft factory. He was investigated by the FBI because of his early Communist Party affiliation. These events were fodder for his semi-autobiographical debut novel Now and on Earth (1942).\n",
      "(0.1428542092439173, 0.1428542092439173, 0, 0.4, 0.08695652173913043)\n",
      "1 Unsourced material may be challenged and removed. James Myers Thompson (September 27, 1906 – April 7, 1977) was an American author and screenwriter, known for his hardboiled crime fiction . Thompson wrote more than thirty novels, the majority of which were original paperback publications, published from the late-1940s through mid-1950s.\n",
      "(0.19444205249856053, 0.19444205249856053, 0, 0.7, 0.11290322580645161)\n",
      "-\n",
      "0 James Arthur Crumley (October 12, 1939 – September 17, 2008) was the author of violent hardboiled crime novels and several volumes of short stories and essays, as well as published and unpublished screenplays.\n",
      "(0.0799968001279949, 0.0799968001279949, 0, 0.2, 0.05)\n",
      "1 James Harrison Wilson Thompson (born 21 March 1906) was an American businessman who helped revitalise the Thai silk industry in the 1950s and 1960s. He co-founded the Thai Silk Company in 1948.\n",
      "(0.2399968000426661, 0.2399968000426661, 0, 0.6, 0.15)\n",
      "  ------------------------------------------------------------  \n",
      "6713\n",
      "Q:  What are the official and unofficial subdivisions of the German language?\n",
      "A:  West, North and South German\n",
      "+\n",
      "0 South Germanic is a term used for a number of proposed groupings of the Germanic tribes or dialects. However, it is not widely used and has no agreed definition.\n",
      "(0.13332975565155666, 0.13332975565155666, 0, 0.2857142857142857, 0.08695652173913043)\n",
      "1 An estimated 210 million Europeans are native speakers of Germanic languages, the largest groups being German ( c. 95 million), English ( c. 70 million), Dutch ( c. 24 million), Swedish ( c. 10 million), Danish ( c. 6 million), and Norwegian ( c. 5 million). There are two extant major sub-divisions: West Germanic and North Germanic.\n",
      "(0.047617519890284475, 0.047617519890284475, 0, 0.2857142857142857, 0.025974025974025976)\n",
      "-\n",
      "0 Germania ( pronounced [ɡɛʁˈmaːni̯a]) was the projected renewal of the German capital Berlin during the Nazi period, part of Adolf Hitler 's vision for the future of Nazi Germany after the planned victory in World War II.\n",
      "(0.085103847970486, 0.085103847970486, 0, 0.2857142857142857, 0.05)\n",
      "1 The European countries with German-speaking majorities are Germany (95%, 78.3 million), Austria (89%, 8.9 million), and Switzerland (65%, 4.6 million), also known as the \"D-A-CH\" countries.\n"
     ]
    },
    {
     "name": "stdout",
     "output_type": "stream",
     "text": [
      "(0.06451412597270165, 0.06451412597270165, 0, 0.2857142857142857, 0.03636363636363636)\n",
      "2 The description of peoples as Germanic in late antiquity was mainly restricted to those in the Rhine region, and thus referred to the Franks especially, and sometimes also the Alamanni .\n",
      "(0.12902876180129313, 0.12902876180129313, 0, 0.2857142857142857, 0.08333333333333333)\n",
      "3 By the 1st century AD, it stretched from the Danube in the south to the North Sea and Baltic Sea in the north, and from the Rhine in the west to beyond the Vistula in the east. The population of this area was however not entirely composed of Germanic peoples.\n",
      "(0.10526015244038427, 0.10526015244038427, 0, 0.2857142857142857, 0.06451612903225806)\n",
      "4 Largely derived from a synthesis of Proto-Indo-European and indigenous Northern European elements, the Germanic culture developed out of the Nordic Bronze Age. It came under significant external influence during the Migration Period, particularly from ancient Rome .\n",
      "(0.0869539414754323, 0.0869539414754323, 0, 0.2857142857142857, 0.05128205128205128)\n",
      "  ------------------------------------------------------------  \n",
      "6903\n",
      "Q:  Who was most recently crowned winner of Miss Universe Philippines; Rabiya Mateo or Maricres Castro ?\n",
      "A:  Rabiya Mateo\n",
      "+\n",
      "0 #2014: Angela Aninang 2018: Pauline Amelinckx (Mutya ng Pilipinas-Global Beauty Queen) 2019: Maricres Castro\n",
      "(0.25454073397184274, 0.25454073397184274, 0, 0.3333333333333333, 0.20588235294117646)\n",
      "1 The beauty queen who represented Iloilo won the most coveted Miss Universe Philippines 2020 title during the grand coronation held Sunday, October 25, at Baguio Country Club in Baguio City. Rabiya Mateo’s beautiful face and elegant walk earned her the chance to represent the county to compete in Miss Universe 2020.\n",
      "(0.31168434479665064, 0.31168434479665064, 0, 0.5714285714285714, 0.21428571428571427)\n",
      "-\n",
      "0 #2018: We'am Ahmed (Top 18) 2019: Maricres Castro 2019: Krizzia Lynn Moreno\n",
      "(0.18604151446629746, 0.18604151446629746, 0, 0.19047619047619047, 0.18181818181818182)\n",
      "1 #Biliran – Skelly Ivy Florida (fan vote winner) Albay - Paula Madarieta Ortega Bohol - Pauline Amelinckx Aklan - Christelle Abello Iloilo City - Rabiya Mateo Cebu City - Tracy Maureen Perez Davao City - Alaiza Flor Malinao Cavite - Kimberly Hakenson Cebu Province - Apriel Smith Misamis Oriental - Caroline Joy Veronilla Mandaue - Lou Dominique Piczon Taguig - Sandra Lemonon Quezon City - Michele Theresa Gumabao Romblon - Marie Fee Tajaran Pasig - Riana Agatha Pangindian Paranaque - Maria Ysabella Ysmael\n",
      "(0.08235077583548245, 0.08235077583548245, 0, 0.3333333333333333, 0.04697986577181208)\n",
      "2 All the Filipinas Who Have Won the Miss Universe Title #Gloria Diaz, Miss Universe 1969. Gloria Diaz, the first Filipina to win the crown, perhaps bagged the title for the sassy way she answered the final question. Margarita Moran, Miss Universe 1973. Meanwhile, Margarita Moran 's Filipino roots shone with her warm answer to the question: If you had one million dollars what would you do with ... Pia Wurtzbach, Miss Universe 2015. Pia Wurtzbach's win at Miss Universe 2015 was memorable not becuase of Steve Harvey 's blunder, but for her empowering message to Filipinas. Catriona Gray, Miss Universe 2018. Catriona Gray continues the Filipina legacy in Miss Universe history as she answered with grit and genuine love for her country and the entire world.\n",
      "(0.0397327048502375, 0.0397327048502375, 0, 0.14285714285714285, 0.023076923076923078)\n",
      "3 Catriona Gray is Miss Universe 2018 and the fourth Filipino beauty queen to bring home the crown. Below, we take a trip down memory lane as we recall Cat’s predecessors in the history of Miss Universe.\n",
      "(0.08510143985253622, 0.08510143985253622, 0, 0.09523809523809523, 0.07692307692307693)\n",
      "4 The Philippines, widely considered a beauty pageant powerhouse, has won in all four pageants with a total of ninety-four placements and fifteen victories : #Four — Miss Universe crowns ( 1969 • 1973 • 2015 • 2018) One — Miss World crown ( 2013) Six — Miss International crowns ( 1964 • 1970 • 1979 • 2005 • 2013 • 2016) Four — Miss Earth crowns ( 2008 • 2014 • 2015 • 2017)\n",
      "(0.13591908387430748, 0.13591908387430748, 0, 0.3333333333333333, 0.08536585365853659)\n",
      "  ------------------------------------------------------------  \n",
      "6908\n",
      "Q:  In which area can you find both Parcoblatta uhleriana and Parcoblatta pensylvanica?\n",
      "A:  Both Parcoblatta uhleriana and Parcoblatta pensylvanica are in North America.\n",
      "+\n",
      "0 The Pennsylvania wood cockroach ( Parcoblatta pensylvanica) or Pennsylvanian cockroach is a common species of cockroach in eastern and central North America. Dead adult male showing the markings on the median segment and first abdominal segment. Males are dark brown; the sides of the thorax and the front half of the wings are margined with yellow.\n",
      "(0.20778876713405073, 0.20778876713405073, 0, 0.47058823529411764, 0.13333333333333333)\n",
      "1 Parcoblatta uhleriana, the Uhler's wood cockroach, is a species of Parcoblatta native to the United States and Canada. It is a forest species also found in disturbed and urban environments. The male of the species flies freely, while the female does not fly.\n",
      "(0.3272684562540861, 0.3272684562540861, 0, 0.5294117647058824, 0.23684210526315788)\n",
      "-\n",
      "0 As with many cockroaches, the female Parcoblatta lata emits pheromones to find mates, a process termed calling.\n",
      "(0.20512328742887828, 0.20512328742887828, 0, 0.23529411764705882, 0.18181818181818182)\n",
      "1 Parcoblatta bolliana is a small, slender species. The male has long tegmina (outer forewings) and functioning hindwings, while the female tegmina are small oblong pads separated by more than twice their width, and its inner hindwings are absent.\n",
      "(0.14814383414482976, 0.14814383414482976, 0, 0.23529411764705882, 0.10810810810810811)\n",
      "2 The female of the species coloration is more variable, but is usually a shining blackish-brown, and sometimes a dark reddish-brown except its abdomen. Most of the legs, and the edges of the tegmina, are a chestnut brown. It is broader, with a wider head, than the male.\n",
      "(0, 0, 0, 0, 0)\n",
      "3 It is one of the largest species of wood cockroaches. Both genders of P. lata are relatively large and robust for the genus. The male dorsal coloration of the species is a glossy light brown or reddish brown, while the female is a darker brown.\n",
      "(0, 0, 0, 0, 0)\n",
      "  ------------------------------------------------------------  \n",
      "7151\n",
      "Q:  Do Voiced linguolabial nasal and Voice linguolabial plosive have the same manner of articulation or different manners of articulation?\n",
      "A:  They have the same manner of articulation.\n",
      "+\n",
      "0 The voiced linguolabial nasal is a type of consonantal sound used in some spoken languages. The symbol in the International Phonetic Alphabet that represents it is ⟨ n̼ ⟩ or ⟨ m̺ ⟩. Features of the voiced linguolabial nasal: Its manner of articulation is occlusive, which means it is produced by obstructing airflow in the vocal tract.\n",
      "(0.3999956480473493, 0.3999956480473493, 0, 0.625, 0.29411764705882354)\n",
      "1 The voiced linguolabial plosive or stop is a type of consonantal sound used in some spoken languages. The symbol in the International Phonetic Alphabet that represents it is ⟨ d̼ ⟩ or ⟨ b̺ ⟩. Its manner of articulation is occlusive, which means it is produced by obstructing airflow in the vocal tract.\n",
      "(0.36619270785076435, 0.36619270785076435, 0, 0.5416666666666666, 0.2765957446808511)\n",
      "-\n",
      "0 Alveolo-palatal and linguolabial consonants sometimes behave as dorsal and labial consonants, respectively, rather than as coronals. In Arabic and Maltese philology, the sun letters represent coronal consonants. In Australian Aboriginal languages, coronals contrast with peripheral consonants .\n",
      "(0.1518945042036804, 0.1518945042036804, 0, 0.25, 0.10909090909090909)\n",
      "1 The diaeresis diacritic represents the vowel sandhi phenomenon — also known as diaeresis or hiatus — in which a vowel is pronounced separately from an adjacent vowel, rather than as part of a digraph or diphthong.\n",
      "(0, 0, 0, 0, 0)\n",
      "2 They represent one extreme of a coronal articulatory continuum which extends from linguolabial to subapical palatal places of articulation. Cross-linguistically, linguolabial consonants are very rare, but they do not represent a particularly exotic combination of articulatory configurations, unlike click consonants or ejectives.\n"
     ]
    },
    {
     "name": "stdout",
     "output_type": "stream",
     "text": [
      "(0.3733289813840647, 0.3733289813840647, 0, 0.5833333333333334, 0.27450980392156865)\n",
      "3 Labialization is a secondary articulatory feature of sounds in some languages. Labialized sounds involve the lips while the remainder of the oral cavity produces another sound. The term is normally restricted to consonants.\n",
      "(0.07546674293838819, 0.07546674293838819, 0, 0.08333333333333333, 0.06896551724137931)\n",
      "  ------------------------------------------------------------  \n"
     ]
    }
   ],
   "source": [
    "for k in txt_dataset:\n",
    "    if random.random() > 15/7921: continue\n",
    "    print(k)\n",
    "    print('Q: ', txt_dataset[k]['Q'])\n",
    "    print('A: ', txt_dataset[k]['A'])\n",
    "    print('+')\n",
    "    for i, f in enumerate(txt_dataset[k]['SupportingFacts']):\n",
    "        print(i, f['fact'])\n",
    "        print(compute_vqa_metrics([f['fact']], txt_dataset[k]['Q']))\n",
    "    print('-')\n",
    "    for i, d in enumerate(txt_dataset[k]['DistractorFacts']):\n",
    "        print(i, d['fact'])\n",
    "        print(compute_vqa_metrics([d['fact']], txt_dataset[k]['Q']))\n",
    "    print('  ------------------------------------------------------------  ')"
   ]
  },
  {
   "cell_type": "code",
   "execution_count": 259,
   "metadata": {},
   "outputs": [
    {
     "name": "stdout",
     "output_type": "stream",
     "text": [
      "[0.8  0.9  0.85 0.34 0.25 0.16 0.54 0.66]\n",
      "[1 2]\n"
     ]
    }
   ],
   "source": [
    "f_scores = [0.8, 0.9]\n",
    "d_scores = [0.85, 0.34, 0.25, 0.16, 0.54, 0.66]\n",
    "all_scores = np.array(f_scores+d_scores)\n",
    "print(all_scores)\n",
    "print(all_scores.argsort()[-2:][::-1])"
   ]
  },
  {
   "cell_type": "code",
   "execution_count": 266,
   "metadata": {},
   "outputs": [],
   "source": [
    "def compute_retrieval_metrics(pred, gth):\n",
    "    common = len(set(pred).intersection(gth))\n",
    "    RE = common / len(gth)\n",
    "    PR = common / len(pred)\n",
    "    F1 = 2*PR*RE / (PR + RE + 1e-5)\n",
    "    return F1, RE, PR"
   ]
  },
  {
   "cell_type": "code",
   "execution_count": 448,
   "metadata": {
    "scrolled": false
   },
   "outputs": [
    {
     "name": "stdout",
     "output_type": "stream",
     "text": [
      "0\n",
      "200\n",
      "400\n",
      "600\n",
      "800\n",
      "4280dbae-7fda-41f5-aad0-a23bbb5a36a6\n",
      "1000\n",
      "4280dbae-7fda-41f5-aad0-a23bbb5a36a6\n",
      "1200\n",
      "4280dbae-7fda-41f5-aad0-a23bbb5a36a6\n",
      "1400\n",
      "4280dbae-7fda-41f5-aad0-a23bbb5a36a6\n",
      "1600\n",
      "1800\n",
      "2000\n",
      "2200\n",
      "2400\n",
      "4280dbae-7fda-41f5-aad0-a23bbb5a36a6\n",
      "2600\n",
      "2800\n",
      "3000\n",
      "3200\n",
      "3400\n",
      "3600\n",
      "3800\n",
      "4000\n",
      "4200\n",
      "4280dbae-7fda-41f5-aad0-a23bbb5a36a6\n",
      "4400\n",
      "4280dbae-7fda-41f5-aad0-a23bbb5a36a6\n",
      "4600\n",
      "4800\n",
      "5000\n",
      "5200\n",
      "4280dbae-7fda-41f5-aad0-a23bbb5a36a6\n",
      "5400\n",
      "5600\n",
      "4280dbae-7fda-41f5-aad0-a23bbb5a36a6\n",
      "5800\n",
      "6000\n",
      "6200\n",
      "6400\n",
      "6600\n",
      "6800\n",
      "4280dbae-7fda-41f5-aad0-a23bbb5a36a6\n",
      "4280dbae-7fda-41f5-aad0-a23bbb5a36a6\n",
      "7000\n",
      "7200\n",
      "7400\n",
      "7600\n",
      "7800\n"
     ]
    }
   ],
   "source": [
    "### find distractors super similar to gold (by F1s)\n",
    "flat_F1s = []\n",
    "F1s = []\n",
    "indx2posnegsim = defaultdict(lambda: [])\n",
    "for k in txt_dataset:\n",
    "    if int(k) % 200 == 0: print(k)\n",
    "    #guid = str(txt_dataset[k]['Guid'])\n",
    "    for pos in txt_dataset[k]['SupportingFacts']:\n",
    "        for neg in txt_dataset[k]['DistractorFacts']:\n",
    "            F1, _, __, RE, PR = compute_vqa_metrics([neg['fact']], pos['fact'])\n",
    "            flat_F1s.append(F1)\n",
    "            indx2posnegsim[k].append(F1)\n",
    "    if len(indx2posnegsim[k]): F1s.append(max(indx2posnegsim[k]))\n",
    "    else: print(k)\n",
    "    "
   ]
  },
  {
   "cell_type": "code",
   "execution_count": 457,
   "metadata": {},
   "outputs": [
    {
     "name": "stdout",
     "output_type": "stream",
     "text": [
      "367\n",
      "1468\n",
      "1905\n",
      "2647\n",
      "4717\n",
      "739\n"
     ]
    }
   ],
   "source": [
    "count = 0\n",
    "for k in indx2posnegsim:\n",
    "    if len(indx2posnegsim[k]) and max(indx2posnegsim[k]) > 0.6 and max(indx2posnegsim[k]) < 0.8:\n",
    "        \n",
    "        count += 1\n",
    "        if random.random() < 0.01:\n",
    "            print(k)\n",
    "print(count)"
   ]
  },
  {
   "cell_type": "code",
   "execution_count": 450,
   "metadata": {},
   "outputs": [
    {
     "name": "stderr",
     "output_type": "stream",
     "text": [
      "/home/yingshac/miniconda3/envs/py37/lib/python3.7/site-packages/seaborn/distributions.py:2551: FutureWarning: `distplot` is a deprecated function and will be removed in a future version. Please adapt your code to use either `displot` (a figure-level function with similar flexibility) or `histplot` (an axes-level function for histograms).\n",
      "  warnings.warn(msg, FutureWarning)\n"
     ]
    },
    {
     "data": {
      "text/plain": [
       "<matplotlib.legend.Legend at 0x7f857fd95610>"
      ]
     },
     "execution_count": 450,
     "metadata": {},
     "output_type": "execute_result"
    },
    {
     "data": {
      "image/png": "[encoded data removed]",
      "text/plain": [
       "<Figure size 432x288 with 1 Axes>"
      ]
     },
     "metadata": {},
     "output_type": "display_data"
    }
   ],
   "source": [
    "#sns.distplot(flat_F1s, kde=False, label=\"flat_F1s\")\n",
    "sns.distplot(F1s, kde=False, label=\"F1s\")\n",
    "plt.legend()"
   ]
  },
  {
   "cell_type": "code",
   "execution_count": 451,
   "metadata": {},
   "outputs": [
    {
     "name": "stdout",
     "output_type": "stream",
     "text": [
      "0\n",
      "200\n",
      "400\n",
      "600\n",
      "800\n",
      "4280dbae-7fda-41f5-aad0-a23bbb5a36a6\n",
      "1000\n",
      "4280dbae-7fda-41f5-aad0-a23bbb5a36a6\n",
      "1200\n",
      "4280dbae-7fda-41f5-aad0-a23bbb5a36a6\n",
      "1400\n",
      "4280dbae-7fda-41f5-aad0-a23bbb5a36a6\n",
      "1600\n",
      "1800\n",
      "2000\n",
      "2200\n",
      "2400\n",
      "4280dbae-7fda-41f5-aad0-a23bbb5a36a6\n",
      "2600\n",
      "2800\n",
      "3000\n",
      "3200\n",
      "3400\n",
      "3600\n",
      "3800\n",
      "4000\n",
      "4200\n",
      "4280dbae-7fda-41f5-aad0-a23bbb5a36a6\n",
      "4400\n",
      "4280dbae-7fda-41f5-aad0-a23bbb5a36a6\n",
      "4600\n",
      "4800\n",
      "5000\n",
      "5200\n",
      "4280dbae-7fda-41f5-aad0-a23bbb5a36a6\n",
      "5400\n",
      "5600\n",
      "4280dbae-7fda-41f5-aad0-a23bbb5a36a6\n",
      "5800\n",
      "6000\n",
      "6200\n",
      "6400\n",
      "6600\n",
      "6800\n",
      "4280dbae-7fda-41f5-aad0-a23bbb5a36a6\n",
      "4280dbae-7fda-41f5-aad0-a23bbb5a36a6\n",
      "7000\n",
      "7200\n",
      "7400\n",
      "7600\n",
      "7800\n",
      "7910\n"
     ]
    },
    {
     "name": "stderr",
     "output_type": "stream",
     "text": [
      "/home/yingshac/miniconda3/envs/py37/lib/python3.7/site-packages/seaborn/distributions.py:2551: FutureWarning: `distplot` is a deprecated function and will be removed in a future version. Please adapt your code to use either `displot` (a figure-level function with similar flexibility) or `histplot` (an axes-level function for histograms).\n",
      "  warnings.warn(msg, FutureWarning)\n"
     ]
    },
    {
     "data": {
      "text/plain": [
       "<matplotlib.legend.Legend at 0x7f857ede7810>"
      ]
     },
     "execution_count": 451,
     "metadata": {},
     "output_type": "execute_result"
    },
    {
     "data": {
      "image/png": "[encoded data removed]",
      "text/plain": [
       "<Figure size 432x288 with 1 Axes>"
      ]
     },
     "metadata": {},
     "output_type": "display_data"
    }
   ],
   "source": [
    "### find distractors super similar to gold (by lcs)\n",
    "import pylcs\n",
    "flat_lcs = []\n",
    "lcs = []\n",
    "indx2posneglcs = defaultdict(lambda: [])\n",
    "for k in txt_dataset:\n",
    "    if int(k) % 200 == 0: print(k)\n",
    "    #guid = str(txt_dataset[k]['Guid'])\n",
    "    for pos in txt_dataset[k]['SupportingFacts']:\n",
    "        for neg in txt_dataset[k]['DistractorFacts']:\n",
    "            overlap_ratio = pylcs.lcs2(neg['fact'], pos['fact']) / len(pos['fact'])\n",
    "            flat_lcs.append(overlap_ratio)\n",
    "            indx2posneglcs[k].append(overlap_ratio)\n",
    "    if len(indx2posneglcs[k]): lcs.append(max(indx2posneglcs[k]))\n",
    "    else: print(k)\n",
    "\n",
    "print(len(lcs))\n",
    "#sns.distplot(overlap_ratio_list, kde=False, label=\"PR\")\n",
    "sns.distplot(lcs, kde=False, label=\"lcs\")\n",
    "plt.legend()"
   ]
  },
  {
   "cell_type": "code",
   "execution_count": 455,
   "metadata": {},
   "outputs": [
    {
     "name": "stderr",
     "output_type": "stream",
     "text": [
      "/home/yingshac/miniconda3/envs/py37/lib/python3.7/site-packages/seaborn/distributions.py:2551: FutureWarning: `distplot` is a deprecated function and will be removed in a future version. Please adapt your code to use either `displot` (a figure-level function with similar flexibility) or `histplot` (an axes-level function for histograms).\n",
      "  warnings.warn(msg, FutureWarning)\n"
     ]
    },
    {
     "data": {
      "image/png": "[encoded data removed]",
      "text/plain": [
       "<Figure size 432x288 with 1 Axes>"
      ]
     },
     "metadata": {},
     "output_type": "display_data"
    }
   ],
   "source": [
    "sns.distplot(flat_lcs, kde=False, label=\"flat_lcs\")\n",
    "plt.legend()\n",
    "plt.yscale('log')"
   ]
  },
  {
   "cell_type": "code",
   "execution_count": 481,
   "metadata": {},
   "outputs": [
    {
     "name": "stdout",
     "output_type": "stream",
     "text": [
      "854 950\n",
      "[('1261', 4), ('1916', 3), ('3173', 3), ('4565', 3), ('5343', 3)]\n"
     ]
    },
    {
     "name": "stderr",
     "output_type": "stream",
     "text": [
      "/home/yingshac/miniconda3/envs/py37/lib/python3.7/site-packages/seaborn/distributions.py:2551: FutureWarning: `distplot` is a deprecated function and will be removed in a future version. Please adapt your code to use either `displot` (a figure-level function with similar flexibility) or `histplot` (an axes-level function for histograms).\n",
      "  warnings.warn(msg, FutureWarning)\n"
     ]
    },
    {
     "data": {
      "image/png": "[encoded data removed]",
      "text/plain": [
       "<Figure size 432x288 with 1 Axes>"
      ]
     },
     "metadata": {},
     "output_type": "display_data"
    }
   ],
   "source": [
    "remove = []\n",
    "for k in indx2posneglcs:\n",
    "    if len(indx2posneglcs[k]):\n",
    "        for x in indx2posneglcs[k]:\n",
    "            if x > 0.6:\n",
    "                remove.append(k)\n",
    "print(len(set(remove)), len(remove))\n",
    "print(Counter(remove).most_common(5))\n",
    "sns.distplot(list(Counter(remove).values()), kde=False, label=\"remove\")\n",
    "plt.legend()\n",
    "plt.yscale('log')"
   ]
  },
  {
   "cell_type": "code",
   "execution_count": 471,
   "metadata": {},
   "outputs": [
    {
     "name": "stdout",
     "output_type": "stream",
     "text": [
      "46\n",
      "115\n",
      "283\n",
      "368\n",
      "375\n",
      "398\n",
      "399\n",
      "448\n",
      "461\n",
      "619\n",
      "643\n",
      "718\n",
      "817\n",
      "867\n",
      "915\n",
      "930\n",
      "944\n",
      "1034\n",
      "1051\n",
      "1076\n",
      "1086\n",
      "1213\n",
      "1261\n",
      "1310\n",
      "1322\n",
      "1345\n",
      "1425\n",
      "1438\n",
      "1889\n",
      "1916\n",
      "1972\n",
      "2208\n",
      "2291\n",
      "2366\n",
      "2450\n",
      "2458\n",
      "2552\n",
      "2630\n",
      "2719\n",
      "2781\n",
      "2812\n",
      "2927\n",
      "2955\n",
      "2978\n",
      "3027\n",
      "3035\n",
      "3051\n",
      "3063\n",
      "3080\n",
      "3408\n",
      "3435\n",
      "3517\n",
      "3658\n",
      "3729\n",
      "3908\n",
      "4097\n",
      "4100\n",
      "4208\n",
      "4236\n",
      "4272\n",
      "4301\n",
      "4339\n",
      "4454\n",
      "4496\n",
      "4695\n",
      "4717\n",
      "4862\n",
      "4922\n",
      "5164\n",
      "5199\n",
      "5255\n",
      "5267\n",
      "5282\n",
      "5304\n",
      "5316\n",
      "5339\n",
      "5398\n",
      "5423\n",
      "5437\n",
      "5459\n",
      "5470\n",
      "5519\n",
      "5559\n",
      "5722\n",
      "5723\n",
      "5813\n",
      "5928\n",
      "5978\n",
      "6057\n",
      "6112\n",
      "6138\n",
      "6184\n",
      "6218\n",
      "6460\n",
      "6687\n",
      "6776\n",
      "6839\n",
      "6867\n",
      "6885\n",
      "7276\n",
      "7277\n",
      "7359\n",
      "7504\n",
      "7666\n",
      "7755\n",
      "7768\n",
      "7773\n",
      "7889\n"
     ]
    },
    {
     "name": "stderr",
     "output_type": "stream",
     "text": [
      "/home/yingshac/miniconda3/envs/py37/lib/python3.7/site-packages/seaborn/distributions.py:2551: FutureWarning: `distplot` is a deprecated function and will be removed in a future version. Please adapt your code to use either `displot` (a figure-level function with similar flexibility) or `histplot` (an axes-level function for histograms).\n",
      "  warnings.warn(msg, FutureWarning)\n"
     ]
    },
    {
     "data": {
      "image/png": "[encoded data removed]",
      "text/plain": [
       "<Figure size 432x288 with 1 Axes>"
      ]
     },
     "metadata": {},
     "output_type": "display_data"
    }
   ],
   "source": [
    "c = Counter(remove)\n",
    "remaining_num = []\n",
    "for k in txt_dataset:\n",
    "    if k in c:\n",
    "        remaining_num.append(len(txt_dataset[k]['DistractorFacts']) - c[k])\n",
    "        if remaining_num[-1] < 4:\n",
    "            print(k)\n",
    "sns.distplot(remaining_num, kde=False, label=\"remaining_num\")\n",
    "plt.legend()\n",
    "plt.yscale('log')"
   ]
  },
  {
   "cell_type": "code",
   "execution_count": 462,
   "metadata": {},
   "outputs": [
    {
     "name": "stdout",
     "output_type": "stream",
     "text": [
      " ------------------------------- \n",
      "288\n",
      "[0.18643570108086097, 0.21666167928147242, 0.12799500051527987, 0.17599500046202324, 0.2276372795068726, 0.9064698639057801, 0.1745981747463523, 0.062495488606916186, 0.13674716651858443, 0.2764177672923942, 0.15093857437974062, 0.10434287206885656, 0.13114254654871393, 0.16215725361826885, 0.12280207314459882, 0.17646561540830108, 0.08332843995749728, 0.22448492930167183, 0.11650006240843619, 0.19416996524221702, 0.11880705832733522, 0.27349972101960096, 0.1538413777370349, 0.054049112942580316, 0.08420562023044235, 0.3168268601851729, 0.1904711934417554, 0.08601657560916133, 0.09999516223405111, 0.06741076163374923, 0.15216897227762374, 0.08771469245483303]\n",
      " ------------------------------- \n",
      "1943\n",
      "[0.27082841154777737, 0.5405355442390234, 0.6526266726130622, 0.1052581719813272, 0.1884010335167891, 0.15841086575770674, 0.16841614640331398, 0.16867015253943413, 0.17856767865017692, 0.16901091852786423, 0.5090871140778769, 0.05405098629537242, 0.08163020415509982, 0.06557023399885481, 0.10908711418160362, 0.0930188644582593]\n",
      " ------------------------------- \n",
      "3038\n",
      "[0.1842055576132486, 0.11110611519377861, 0.39622199186141166, 0.1647010382047587, 0.1249950783187912, 0.12499504414180453, 0.14285214303213672, 0.16278570864397923, 0.29267797450378513, 0.08620214800236435, 0.1894686981921528, 0.6888838889251789, 0.32431955814162866, 0.1249950783187912]\n",
      " ------------------------------- \n",
      "3876\n",
      "[0.919995032026827, 0.137399860310142, 0.18965095877376076, 0.2518470519433325, 0.18918423405966098, 0.2142808378660754, 0.15253806820536336, 0.22950328282491048, 0.23300471308665308, 0.1590861184293882, 0.8971912621468218, 0.16666173486816235, 0.26785215729942935, 0.1999951581419121]\n",
      " ------------------------------- \n",
      "5724\n",
      "[0.10810349828926212, 0.1353333689432741, 0.25196357378361534, 0.22806547716665462, 0.6603729352378866, 0.15384119660944154, 0.2647008921788505, 0.05555105146258666, 0.9402935253104255, 0.15685797784577135, 0.1935433872259375, 0.28813060623397385, 0.8190427827949969, 0.3505108513732718, 0.24792888747178857, 0.2992076012986605, 0.1414094604141098, 0.31999500039811385]\n",
      " ------------------------------- \n",
      "5778\n",
      "[0.14388032725004912, 0.20437505471073292, 0.8461489645252045, 0.07272429764236917, 0.1548338399034224, 0.09090475227318696, 0.22085395020295556, 0.1607093639900135, 0.09090419695768742, 0.18604151446629746, 0.12047826981638629, 0.1406200013983878, 0.22856662867222644, 0.1911714977504629]\n",
      " ------------------------------- \n",
      "7659\n",
      "[0.08988469142360722, 0.0999960890418508, 0.07142548766148508, 0.0833298766865967, 0.09523430602126307, 0.08247147208691173, 0.05405158683447483, 0.1081036054143931, 0.9268242950891482, 0.22641049493145515, 0.06382497093836323, 0.23528917380630093, 0.10083598917122312, 0.15037185832775515, 0.1311427346561284, 0.5591347994432274, 0.20512333710143008, 0.11428073672473693, 0.2708283355956982, 0.15384145694813364, 0.12499551038502436]\n",
      "854\n"
     ]
    }
   ],
   "source": [
    "count = 0\n",
    "for k in indx2posneglcs:\n",
    "    if len(indx2posneglcs[k]) and max(indx2posneglcs[k]) > 0.6:# and max(indx2posneglcs[k]) < 0.8:\n",
    "        \n",
    "        count += 1\n",
    "        if random.random() < 0.01:\n",
    "            print(\" ------------------------------- \")\n",
    "            print(k)\n",
    "            print(indx2posnegsim[k])\n",
    "print(count)"
   ]
  }
 ],
 "metadata": {
  "kernelspec": {
   "display_name": "py37",
   "language": "python",
   "name": "py37"
  },
  "language_info": {
   "codemirror_mode": {
    "name": "ipython",
    "version": 3
   },
   "file_extension": ".py",
   "mimetype": "text/x-python",
   "name": "python",
   "nbconvert_exporter": "python",
   "pygments_lexer": "ipython3",
   "version": "3.7.9"
  }
 },
 "nbformat": 4,
 "nbformat_minor": 4
}
