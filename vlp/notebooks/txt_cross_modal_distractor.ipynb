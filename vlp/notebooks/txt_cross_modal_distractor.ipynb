{
 "cells": [
  {
   "cell_type": "code",
   "execution_count": 532,
   "metadata": {},
   "outputs": [],
   "source": [
    "import json, random\n",
    "import numpy as np\n",
    "from pprint import pprint\n",
    "from collections import Counter, defaultdict\n",
    "from bs4 import BeautifulSoup\n",
    "import requests\n",
    "import urllib.request\n",
    "import re\n",
    "import seaborn as sns\n",
    "import matplotlib.pyplot as plt\n",
    "from nltk.corpus import stopwords\n",
    "import pickle\n",
    "import copy\n",
    "import spacy\n",
    "from spacy import displacy\n",
    "np.set_printoptions(precision=4)"
   ]
  },
  {
   "cell_type": "code",
   "execution_count": 2,
   "metadata": {},
   "outputs": [
    {
     "name": "stdout",
     "output_type": "stream",
     "text": [
      "7921\n"
     ]
    }
   ],
   "source": [
    "txt_dataset = json.load(open(\"/home/yingshac/CYS/WebQnA/WebQnA_data_new/txt_dataset_J.json\", \"r\"))\n",
    "print(len(txt_dataset))"
   ]
  },
  {
   "cell_type": "code",
   "execution_count": 506,
   "metadata": {},
   "outputs": [
    {
     "name": "stdout",
     "output_type": "stream",
     "text": [
      "[4330, 982, 5834, 6850, 3781, 697, 3929, 2376, 5909, 4968, 5537, 1581, 6812, 6693, 2102]\n",
      "Q:  Did Nickelodeon or Netflix premiere Winx episodes first?\n",
      "A:  Nickelodeon was first as it premiered the Winx Club series in 2012, whereas Netflix premiered the Winx Saga in 2021.\n",
      "Its television premiere was on 11 March 2012 on Nickelodeon in the United States. The plot takes place after the events of the first three seasons. In 2007, production began on a sequel to The Secret of the Lost Kingdom, before the fourth season had been written. It was released in Italy on 29 October 2010.\n",
      "https://en.wikipedia.org/wiki/List_of_Winx_Club_episodes\n",
      "The six-episode first season debuted on Netflix on 22 January 2021 to mixed reviews. In February 2021, the series was renewed for a second season. Bloom, a fairy with fire powers, enrolls at a magical boarding school in the Otherworld called Alfea College.\n",
      "https://en.wikipedia.org/wiki/Fate:_The_Winx_Saga\n",
      "\n",
      "Q:  What is a concept that is centrally emphasized by both the Rangtong and Madhyamaka teachings of Buddhism?\n",
      "A:  Both teachings emphasize emptiness or sunyata centrally.\n",
      "The ultimate truth in Madhyamaka is the truth that everything is empty ( Sunyata ), that which is an underlying unchanging essence. Sunyata itself is also \"empty,\" 'the emptiness of emptiness', which means that Sunyata itself does not constitute a higher or ultimate \"essence\" or \"reality.\"\n",
      "https://en.wikipedia.org/wiki/Verses_of_the_Five_Ranks\n",
      "Rangtong is the majority Tibetan teaching on the nature of śūnyatā or \"emptiness\", namely that all phenomena are empty of a self-nature in both the relative and absolute sense, without positing anything beyond that. This position is the mainstream Tibetan interpretation of Madhyamaka, especially by the followers of Prasaṅgika Mādhyamaka .\n",
      "https://en.wikipedia.org/wiki/Shentong\n",
      "\n",
      "Q:  What color are the mountains that share a name with the tribe of the Native American Pueblo people living on a reservation in the Rio Grande Rift of central New Mexico?\n",
      "A:  The Sandia Mountains have a red appearance to them.\n",
      "But the most convincing and most-cited explanation is that the Spanish called the mountain Sandía after viewing it illuminated by the setting sun. The Sandia Mountains have a red appearance to them, and the layer of vegetation gives it a luminous \"rind\" of green when backlit, giving it the appearance of a sliced watermelon.\n",
      "https://en.wikipedia.org/wiki/Sandia_Pueblo\n",
      "Sandia Pueblo ( / sænˈdiːə /; Tiwa: Tuf Shur Tia) is a federally recognized tribe of Native American Pueblo people inhabiting a 101.114-square-kilometre (39.040 sq mi) reservation of the same name in the eastern Rio Grande Rift of central New Mexico.\n",
      "https://en.wikipedia.org/wiki/Sandia_Pueblo\n",
      "\n",
      "Q:  Where can you find both Melaleuca alternifolia and Alphitonia excelsa?\n",
      "A:  Melaleuca alternifolia and Alphitonia excelsa are native to Australia.\n",
      "It is derived from the leaves of the tea tree, Melaleuca alternifolia, native to southeast Queensland and the northeast coast of New South Wales, Australia. The oil comprises many constituent chemicals and its composition changes if it is exposed to air and oxidizes .\n",
      "https://en.wikipedia.org/wiki/Tea_tree_oil\n",
      "(Fenzl) Benth. Alphitonia excelsa, commonly known as the red ash or soap tree, is a species of tree in the family Rhamnaceae. It is endemic to Australia, being found in New South Wales, Queensland, Northern Territory and the northeastern tip of Western Australia.\n",
      "https://en.wikipedia.org/wiki/Alphitonia_excelsa\n",
      "\n",
      "Q:  What are the names of the four watersheds of the Black Mountains?\n",
      "A:  They are the Lake Mead Watershed, the Detrital Wash Watershed, the Havasu-Mohave Lakes Watershed, and the Sacramento Wash Watershed.\n",
      "The Black Mountains are in four watersheds. The north and northeast contain the Lake Mead Watershed, and the north-flowing Detrital Wash Watershed.\n",
      "https://en.wikipedia.org/wiki/Black_Mountains_(Arizona)\n",
      "The north and northeast contain the Lake Mead Watershed, and the north-flowing Detrital Wash Watershed. The west along the Colorado River and southern-west contains the Havasu-Mohave Lakes Watershed where the Sacramento Wash Watershed flows into the southern Topock Marsh, at the southern third of the Havasu-Mohave Lakes region.\n",
      "https://en.m.wikipedia.org/wiki/Black_Mountains_(Arizona)\n",
      "\n",
      "Q:  Killa Saifullah was a fort built by a person whose first name means what to Muslims?\n",
      "A:  Sword of God\n",
      "Saifullah, also spelled Sayfullah etc. ( Arabic: سيف الله ‎), meaning sword of God is a male Islamic given name, originally an honorific awarded for military prowess. In modern times it may be used as a surname. SayfAllāh al-Maslūl, name given to Khalid ibn al-Walid, one of the companions of Muhammad (sal)\n",
      "https://en.wikipedia.org/wiki/Saifullah\n",
      "Killa Saifullah or Saifullah's Qilla is a fort built by Saifullah Khan, an influential personage and warlord among the Mirdadzai Khudiadadzai tribe of Kakar Sunzer-khels.This District is named after Saifullah Khan, who was from the Mirdadzai (Khodadzai) tribe of Kakar Sunzerkhail.\n",
      "https://en.wikipedia.org/wiki/Killa_Saifullah\n",
      "\n",
      "Q:  Why was the crystal eyed catfish imported?\n",
      "A:  Hemibagrus wyckii, sometimes called the Crystal-eyed catfish was imported as an aquarium fish.\n",
      "Hemibagrus wyckii is a species of catfish ( order Siluriformes) of the family Bagridae. It is occasionally called the crystal-eyed catfish. This species originates in Asia from Thailand to Indonesia.\n",
      "https://en.wikipedia.org/wiki/Crystal_eyed_catfish\n",
      "Hemibagrus wyckii and Hemibagrus wyckioides are the two members of this genus imported as aquarium fish. These fish will bite and can damage objects in the aquarium. Due to both its aggressive and its predatory nature, this species should be kept alone.\n",
      "https://en.m.wikipedia.org/wiki/Hemibagrus_wyckii\n",
      "\n",
      "Q:  Did Republican senator Hank Brown decide to retire before or after President Bill Clinton was nominated to run in the 1996 Democratic National Convention.\n",
      "A:  After.\n",
      "The 1996 United States Senate election in Colorado was held on November 5, 1996. Incumbent Republican U.S. Senator Hank Brown decided to retire instead of seeking a second term.\n",
      "https://en.wikipedia.org/wiki/United_States_Senate_election_in_Colorado,_1996\n",
      "Incumbent President Bill Clinton was again selected as the nominee through a series of primary elections and caucuses culminating in the 1996 Democratic National Convention held from August 26 to August 29, 1996, in Chicago, Illinois . With the advantage of incumbency, Bill Clinton's path to renomination by the Democratic Party was uneventful.\n",
      "https://en.wikipedia.org/wiki/1996_Democratic_Party_presidential_primaries\n",
      "\n",
      "Q:  Name a few countries where might you find the group of passerine birds with a name derived from the Hindi language mainā?\n",
      "A:  Southern Asia, especially India, Pakistan and Bangladesh .\n",
      "The myna ( / ˈmaɪnə /; also spelled mynah) is a bird of the starling family (Sturnidae). This is a group of passerine birds which are native to southern Asia, especially India, Pakistan and Bangladesh .\n",
      "https://en.wikipedia.org/wiki/Mynah\n",
      "The Bali myna, which is critically endangered and nearly extinct in the wild, is highly distinctive. Some mynas are considered talking birds, for their ability to reproduce sounds, including human speech, when in captivity. Myna is derived from the Hindi language mainā which itself is derived from Sanskrit madanā.\n",
      "https://en.wikipedia.org/wiki/Myna\n",
      "\n",
      "Q:  How much larger is the group of brothers that the TV show Brotherhood focuses on than the central group on the show Dexter?\n",
      "A:  One larger\n",
      "As young boys, he and his older brother Brian witnessed the murder of their mother, Laura Moser and were left for two days in a shipping container filled with blood. The incident left them psychologically scarred. Soon afterwards, Dexter was adopted by Harry Morgan, who hoped to help repress his memory of the death of his mother.\n",
      "https://en.wikipedia.org/wiki/Miguel_Prado\n",
      "The series centres around three brothers: Dan (age 25), Toby (aged 23) and Jamie (aged 14). Since their mother died six months before the events of the series, Dan and Toby have become the guardians of Jamie who hasn't said a word since the death.\n",
      "https://en.m.wikipedia.org/wiki/Brotherhood_(UK_TV_series)\n",
      "\n",
      "Q:  What forms of media did Rogue appear in?\n",
      "A:  Rogue appeared in the X-Men TV series and also in comic books.\n",
      "This particular version of Rogue also appeared in the Animated Series' two tie in comics: X-Men Adventures and The Adventures of the X-Men, with the former being based on the animated series and the latter including the same characters but with original storylines.\n",
      "https://en.wikipedia.org/wiki/Rogue_in_other_media\n",
      "Rogue appeared in the X-Men television series, where she was one of the main characters. Rogue was voiced by Lenore Zann. In this series, she had her absorption powers, Ms. Marvel powers, and a copy of Ms. Marvel's psyche trapped inside her own.\n",
      "https://en.wikipedia.org/wiki/Rogue_in_other_media\n",
      "\n",
      "Q:  Were both Grafton, Virginia and Grafton, Nova Scotia named after the same person, wittingly or unwittingly?\n",
      "A:  yes\n",
      "It was first settled by New England Planters in the 1820s as they moved westward from the initial settlements around Canning, Nova Scotia. One of the first homes was the Kinsman-Salsman House, built in 1818, which still survives and is now a provincial historic home. The community was named after the Duke of Grafton or Grafton, Massachusetts.\n",
      "https://en.m.wikipedia.org/wiki/Grafton,_Nova_Scotia\n",
      "By renaming their town, the citizens unknowingly named their community after the 3rd Duke of Grafton, Prime Minister Lord Augustus FitzRoy, who served as the head of government for the United Kingdom 1768–1770. It is known as the childhood home of Shelly Rollo Roman, wife of Bill Roman.\n",
      "https://en.wikipedia.org/wiki/Grafton,_Virginia\n",
      "\n",
      "Q:  To what family do the gastropd mollusks Conus capitaneus and the conus natalaurantium belong?\n",
      "A:  Conidae\n",
      "Conus natalaurantius is a species of sea snail, a marine gastropod mollusk in the family Conidae, the cone snails, cone shells or cones. These snails are predatory and venomous.\n",
      "https://en.wikipedia.org/wiki/Conus_natalaurantius\n",
      "Conus capitaneus, common name the captain cone, is a species of sea snail, a marine gastropod mollusk in the family Conidae, the cone snails and their allies. Like all species within the genus Conus, these snails are predatory and venomous.\n",
      "https://en.wikipedia.org/wiki/Conus_capitaneus\n",
      "\n",
      "Q:  When did the ducal title held by the Capetians end?\n",
      "A:  It ended with the extinction of the male line in 1477.\n",
      "Under the Ancien Régime, the Duke of Burgundy was the premier lay peer of the kingdom of France. Beginning with Robert II of France, the title was held by the Capetians, the French royal family. It was granted to Robert's younger son, Robert, who founded the House of Burgundy.\n",
      "https://en.m.wikipedia.org/wiki/Duke_of_Burgundy\n",
      "The Valois Dukes of Burgundy gradually ruled over a vast complex of territories known as the Burgundian State, and became dangerous rivals to the senior line of the House of Valois. When the male line of the Valois Dukes of Burgundy became extinct in 1477, the Duchy of Burgundy was confiscated by Louis XI of France.\n",
      "https://en.wikipedia.org/wiki/Duke_of_Burgundy\n",
      "\n",
      "Q:  The largest portions of both China and Britain are referred to as what?\n",
      "A:  Mainland\n",
      "The term also excludes Hong Kong and Macau. The area highlighted in yellow is Mainland China. In the Qing Dynasty (Manchu Dynasty), all of Mainland China, Hong Kong, Macau, Taiwan, Kinmen, Matsu, the Pescadores, and Mongolia were part of the Manchu Empire.\n",
      "https://simple.m.wikipedia.org/wiki/Mainland_China\n",
      "Mainland Britain, as opposed to the many smaller islands of the United Kingdom. The largest islands within the Northern Isles are called Orkney Mainland and Shetland Mainland, respectively. Mainland New Zealand, is the two islands, the north and south islands.\n",
      "https://en.wikipedia.org/wiki/Mainland\n",
      "\n"
     ]
    }
   ],
   "source": [
    "# Randomly look at positive facts and the wikipedia pages they come from\n",
    "analyze_ids = random.sample(range(7921), 15)\n",
    "print(analyze_ids)\n",
    "for i in analyze_ids:\n",
    "    k = str(i)\n",
    "    print('Q: ', txt_dataset[k]['Q'])\n",
    "    print('A: ', txt_dataset[k]['A'])\n",
    "    for f in txt_dataset[k]['SupportingFacts']:\n",
    "        print(f['fact'])\n",
    "        print(f['url'])\n",
    "    print()"
   ]
  },
  {
   "cell_type": "markdown",
   "metadata": {},
   "source": [
    "Step 1: Question --> Identify salient spans\n",
    "\n",
    "Step 2: Spans --> Wiki pages\n",
    "\n",
    "Step 3: Wikipages --> html parsing --> paragraphs, images & their captions\n",
    "\n",
    "Step 4: Choose paragraphs with high overlap with the question **without** giving away the core answer info"
   ]
  },
  {
   "cell_type": "markdown",
   "metadata": {},
   "source": [
    "#### Step 1: Question --> Identify salient spans"
   ]
  },
  {
   "cell_type": "code",
   "execution_count": 526,
   "metadata": {},
   "outputs": [],
   "source": [
    "nlp = spacy.load('en_core_web_sm')"
   ]
  },
  {
   "cell_type": "code",
   "execution_count": 527,
   "metadata": {},
   "outputs": [],
   "source": [
    "def show_ents(doc): \n",
    "    if doc.ents: \n",
    "        for ent in doc.ents: \n",
    "            print(ent.text+' - ' +str(ent.start_char) +' - '+ str(ent.end_char) +' - '+ent.label_+ ' - '+str(spacy.explain(ent.label_))) \n",
    "    else: print('No named entities found.')"
   ]
  },
  {
   "cell_type": "code",
   "execution_count": 673,
   "metadata": {},
   "outputs": [
    {
     "name": "stdout",
     "output_type": "stream",
     "text": [
      "['Tupac Shakur', 'Inca Empire', 'Rebellion of Túpac Amaru II', 'Túpac Amaru II', 'Túpac Amaru', 'Spanish conquest of the Inca Empire', 'Neo-Inca State', 'Aramu Muru', 'Tupac (name)', 'Pachacuti']\n"
     ]
    }
   ],
   "source": [
    "print(wikipedia.search(\"Incan amaru\"))"
   ]
  },
  {
   "cell_type": "code",
   "execution_count": 585,
   "metadata": {},
   "outputs": [
    {
     "name": "stdout",
     "output_type": "stream",
     "text": [
      "[]\n"
     ]
    }
   ],
   "source": [
    "print(wikipedia.search(\"Which partner in the Byzantine–Venetian Treaty of 1082 had the statues of a pair of armored late Roman emperors embracing each other last\"))"
   ]
  },
  {
   "cell_type": "code",
   "execution_count": 561,
   "metadata": {},
   "outputs": [
    {
     "name": "stdout",
     "output_type": "stream",
     "text": [
      "5114\n",
      "Q:  How much higher did Take That & Party peak on the UK Albums Chart than Having a Party peaked on the Billboard Hot 100?\n",
      "A:  Take That & Party peaked 15 spots spots higher on it's respective chart.\n",
      "Released on 17 August 1992 on RCA Records, it reached number two on the UK Albums Chart and stayed in the UK Top 75 album chart for 73 weeks (one year, five months and one week). It was their only album not to reach number one until Wonderland peaked at number two in 2017.\n",
      "https://en.wikipedia.org/wiki/Take_That_%26_Party\n",
      "The song peaked at number four on Billboard 's Hot R&B Sides chart, and also charted at number 17 on the Billboard Hot 100 . \"Having a Party\", like its A-side, \"Bring It On Home to Me\", was written while Cooke was on tour for Henry Wynn.\n",
      "https://en.wikipedia.org/wiki/Having_a_Party_(song)\n",
      "\n",
      "Entities:\n",
      "Take That & Party - 20 - 37 - ORG - Companies, agencies, institutions, etc.\n",
      "UK - 50 - 52 - GPE - Countries, cities, states\n",
      "Party - 80 - 85 - ORG - Companies, agencies, institutions, etc.\n",
      "100 - 114 - 117 - CARDINAL - Numerals that do not fall under another type\n"
     ]
    },
    {
     "data": {
      "text/html": [
       "<span class=\"tex2jax_ignore\"><div class=\"entities\" style=\"line-height: 2.5; direction: ltr\">How much higher did \n",
       "<mark class=\"entity\" style=\"background: #7aecec; padding: 0.45em 0.6em; margin: 0 0.25em; line-height: 1; border-radius: 0.35em;\">\n",
       "    Take That &amp; Party\n",
       "    <span style=\"font-size: 0.8em; font-weight: bold; line-height: 1; border-radius: 0.35em; vertical-align: middle; margin-left: 0.5rem\">ORG</span>\n",
       "</mark>\n",
       " peak on the \n",
       "<mark class=\"entity\" style=\"background: #feca74; padding: 0.45em 0.6em; margin: 0 0.25em; line-height: 1; border-radius: 0.35em;\">\n",
       "    UK\n",
       "    <span style=\"font-size: 0.8em; font-weight: bold; line-height: 1; border-radius: 0.35em; vertical-align: middle; margin-left: 0.5rem\">GPE</span>\n",
       "</mark>\n",
       " Albums Chart than Having a \n",
       "<mark class=\"entity\" style=\"background: #7aecec; padding: 0.45em 0.6em; margin: 0 0.25em; line-height: 1; border-radius: 0.35em;\">\n",
       "    Party\n",
       "    <span style=\"font-size: 0.8em; font-weight: bold; line-height: 1; border-radius: 0.35em; vertical-align: middle; margin-left: 0.5rem\">ORG</span>\n",
       "</mark>\n",
       " peaked on the Billboard Hot \n",
       "<mark class=\"entity\" style=\"background: #e4e7d2; padding: 0.45em 0.6em; margin: 0 0.25em; line-height: 1; border-radius: 0.35em;\">\n",
       "    100\n",
       "    <span style=\"font-size: 0.8em; font-weight: bold; line-height: 1; border-radius: 0.35em; vertical-align: middle; margin-left: 0.5rem\">CARDINAL</span>\n",
       "</mark>\n",
       "?</div></span>"
      ],
      "text/plain": [
       "<IPython.core.display.HTML object>"
      ]
     },
     "metadata": {},
     "output_type": "display_data"
    },
    {
     "name": "stdout",
     "output_type": "stream",
     "text": [
      "['Take That & Party', 'Take That', 'List of songs recorded by Take That', 'Take That discography', 'Wonderland (Take That album)', 'Greatest Hits (Take That album)', 'Could It Be Magic', 'Take That Presents: The Circus Live', 'III (Take That album)', 'Jason Orange']\n",
      "['United Kingdom', 'Countries of the United Kingdom', '.uk', '2016 United Kingdom European Union membership referendum', 'List of political parties in the United Kingdom', 'UK garage', 'Postcodes in the United Kingdom', 'Sky UK', 'Prime Minister of the United Kingdom', 'UK Biobank']\n",
      "['Party', 'Political party', 'Labour Party (UK)', 'Republican Party (United States)', 'Political parties in the United States', 'Social Democratic Party of Germany', 'One-party state', 'Democratic Party (United States)', 'Black Panther Party', 'National Party of Australia']\n",
      "['100', '100 metres', '100%', 'Nasdaq-100', '$100', 'The 100', 'Time 100', 'Billboard Hot 100', \"List of men's footballers with 100 or more international caps\", '$100 hamburger']\n",
      " ---------------------------------------------------------------------------- \n",
      "\n",
      "5663\n",
      "Q:  What synthetic class do the steroids prednisolone acetate and methylprednisolone belong to?\n",
      "A:  They are synthetic glucocorticoids.\n",
      "Prednisolone acetate is a synthetic glucocorticoid corticosteroid and a corticosteroid ester. It is the 21- acetate ester of prednisolone. Prednisolone acetate is acutely toxic with an LD50 of >240 mg/kg for a rat and 3500 mg/kg for a mouse.\n",
      "https://en.wikipedia.org/wiki/Prednisolone_acetate\n",
      "Chemically, methylprednisolone is a synthetic pregnane steroid hormone derived from hydrocortisone and prednisolone. It belongs to a class of synthetic glucocorticoids and more generally, corticosteroids. It acts as a mineralocorticoid and glucocorticoid receptor agonist.\n",
      "https://en.wikipedia.org/wiki/Methylprednisolone\n",
      "\n",
      "Entities:\n",
      "No named entities found.\n"
     ]
    },
    {
     "name": "stderr",
     "output_type": "stream",
     "text": [
      "/home/yingshac/miniconda3/envs/py37/lib/python3.7/site-packages/spacy/displacy/__init__.py:189: UserWarning: [W006] No entities to visualize found in Doc object. If this is surprising to you, make sure the Doc was processed using a model that supports named entity recognition, and check the `doc.ents` property manually if necessary.\n",
      "  warnings.warn(Warnings.W006)\n"
     ]
    },
    {
     "data": {
      "text/html": [
       "<span class=\"tex2jax_ignore\"><div class=\"entities\" style=\"line-height: 2.5; direction: ltr\">What synthetic class do the steroids prednisolone acetate and methylprednisolone belong to?</div></span>"
      ],
      "text/plain": [
       "<IPython.core.display.HTML object>"
      ]
     },
     "metadata": {},
     "output_type": "display_data"
    },
    {
     "name": "stdout",
     "output_type": "stream",
     "text": [
      " ---------------------------------------------------------------------------- \n",
      "\n",
      "515\n",
      "Q:  What cardinal region of Hartford, Connecticut do the American soccer team Hartford City FC and University of Hartford's Hartford Hawks lie in?\n",
      "A:  In West Hartford.\n",
      "The Hartford Hawks are the NCAA Division I athletic teams of the University of Hartford, located in West Hartford, Connecticut.\n",
      "https://en.wikipedia.org/wiki/Hartford_Hawks_softball\n",
      "Hartford City FC is an American soccer team based in West Hartford, Connecticut. The team plays in the National Premier Soccer Leagues' Northeast Region, North Atlantic Conference.\n",
      "https://en.wikipedia.org/wiki/Hartford_City_FC\n",
      "\n",
      "Entities:\n",
      "Hartford - 24 - 32 - GPE - Countries, cities, states\n",
      "Connecticut - 34 - 45 - GPE - Countries, cities, states\n",
      "American - 53 - 61 - NORP - Nationalities or religious or political groups\n",
      "Hartford City FC - 74 - 90 - GPE - Countries, cities, states\n",
      "University of Hartford's - 95 - 119 - ORG - Companies, agencies, institutions, etc.\n",
      "Hartford Hawks - 120 - 134 - ORG - Companies, agencies, institutions, etc.\n"
     ]
    },
    {
     "data": {
      "text/html": [
       "<span class=\"tex2jax_ignore\"><div class=\"entities\" style=\"line-height: 2.5; direction: ltr\">What cardinal region of \n",
       "<mark class=\"entity\" style=\"background: #feca74; padding: 0.45em 0.6em; margin: 0 0.25em; line-height: 1; border-radius: 0.35em;\">\n",
       "    Hartford\n",
       "    <span style=\"font-size: 0.8em; font-weight: bold; line-height: 1; border-radius: 0.35em; vertical-align: middle; margin-left: 0.5rem\">GPE</span>\n",
       "</mark>\n",
       ", \n",
       "<mark class=\"entity\" style=\"background: #feca74; padding: 0.45em 0.6em; margin: 0 0.25em; line-height: 1; border-radius: 0.35em;\">\n",
       "    Connecticut\n",
       "    <span style=\"font-size: 0.8em; font-weight: bold; line-height: 1; border-radius: 0.35em; vertical-align: middle; margin-left: 0.5rem\">GPE</span>\n",
       "</mark>\n",
       " do the \n",
       "<mark class=\"entity\" style=\"background: #c887fb; padding: 0.45em 0.6em; margin: 0 0.25em; line-height: 1; border-radius: 0.35em;\">\n",
       "    American\n",
       "    <span style=\"font-size: 0.8em; font-weight: bold; line-height: 1; border-radius: 0.35em; vertical-align: middle; margin-left: 0.5rem\">NORP</span>\n",
       "</mark>\n",
       " soccer team \n",
       "<mark class=\"entity\" style=\"background: #feca74; padding: 0.45em 0.6em; margin: 0 0.25em; line-height: 1; border-radius: 0.35em;\">\n",
       "    Hartford City FC\n",
       "    <span style=\"font-size: 0.8em; font-weight: bold; line-height: 1; border-radius: 0.35em; vertical-align: middle; margin-left: 0.5rem\">GPE</span>\n",
       "</mark>\n",
       " and \n",
       "<mark class=\"entity\" style=\"background: #7aecec; padding: 0.45em 0.6em; margin: 0 0.25em; line-height: 1; border-radius: 0.35em;\">\n",
       "    University of Hartford's\n",
       "    <span style=\"font-size: 0.8em; font-weight: bold; line-height: 1; border-radius: 0.35em; vertical-align: middle; margin-left: 0.5rem\">ORG</span>\n",
       "</mark>\n",
       " \n",
       "<mark class=\"entity\" style=\"background: #7aecec; padding: 0.45em 0.6em; margin: 0 0.25em; line-height: 1; border-radius: 0.35em;\">\n",
       "    Hartford Hawks\n",
       "    <span style=\"font-size: 0.8em; font-weight: bold; line-height: 1; border-radius: 0.35em; vertical-align: middle; margin-left: 0.5rem\">ORG</span>\n",
       "</mark>\n",
       " lie in?</div></span>"
      ],
      "text/plain": [
       "<IPython.core.display.HTML object>"
      ]
     },
     "metadata": {},
     "output_type": "display_data"
    },
    {
     "name": "stdout",
     "output_type": "stream",
     "text": [
      "['Hartford, Connecticut', 'The Hartford', 'Hartford Whalers', 'Travelers Championship', 'Dee Hartford', 'Greater Hartford', 'Asa Hartford', 'Hartford Athletic', 'Hartford Courant', 'Eden Hartford']\n",
      "['Connecticut', 'The Haunting in Connecticut', 'Hartford, Connecticut', 'University of Connecticut', 'Connecticut River', 'List of municipalities in Connecticut', 'Bridgeport, Connecticut', 'Stamford, Connecticut', 'Sandy Hook Elementary School shooting', 'Connecticut Lakes']\n",
      "['American', 'White Americans', 'American Express', 'African Americans', 'American Airlines', 'American Samoa', 'American football', 'American Idol', 'German Americans', 'American bison']\n",
      "['Hartford City FC', 'Hartford City', 'Hartford, Connecticut', 'Hartford Athletic', 'National Premier Soccer League', 'Asa Hartford', 'Boston City FC', '2017 NPSL season', 'Al-Marzook Field at Alumni Stadium', 'New York City FC']\n",
      "['University of Hartford', 'Hartford, Connecticut', 'West Hartford, Connecticut', 'Hartford Hawks', 'University of Hartford Hartt School', 'Greater Hartford', 'John Hartford', 'Huntington Hartford', 'University of Saint Joseph (Connecticut)', 'University of Connecticut']\n",
      "['Hartford Hawks', 'Hartford Hawks baseball', 'Dee Hartford', 'University of Hartford', \"Hartford Hawks men's basketball\", 'Eden Hartford', \"Dunkin' Donuts Park\", \"Hartford Hawks men's lacrosse\", 'Alexis Triadis', 'Greater Hartford']\n",
      " ---------------------------------------------------------------------------- \n",
      "\n",
      "5274\n",
      "Q:  How do manufacturers ensure that the system that carries the graphical user interface elements works properly?\n",
      "A:  They use graphical user interface testing to test a product's graphical user interface to ensure it meets its specifications.\n",
      "In software engineering, graphical user interface testing is the process of testing a product's graphical user interface (GUI) to ensure it meets its specifications. This is normally done through the use of a variety of test cases .\n",
      "https://en.wikipedia.org/wiki/Graphical_user_interface_testing\n",
      "Graphical user interface elements are those elements used by graphical user interfaces (GUIs) to offer a consistent visual language to represent information stored in computers. These make it easier for people with few computer skills to work with and use computer software.\n",
      "https://en.wikipedia.org/wiki/List_of_graphical_user_interface_elements\n",
      "\n",
      "Entities:\n",
      "No named entities found.\n"
     ]
    },
    {
     "data": {
      "text/html": [
       "<span class=\"tex2jax_ignore\"><div class=\"entities\" style=\"line-height: 2.5; direction: ltr\">How do manufacturers ensure that the system that carries the graphical user interface elements works properly?</div></span>"
      ],
      "text/plain": [
       "<IPython.core.display.HTML object>"
      ]
     },
     "metadata": {},
     "output_type": "display_data"
    },
    {
     "name": "stdout",
     "output_type": "stream",
     "text": [
      " ---------------------------------------------------------------------------- \n",
      "\n",
      "1192\n",
      "Q:  What continents do the 31st parallel north and the 38th parallel north both cross?\n",
      "A:  Asia and North America\n",
      "The 38th parallel north is a circle of latitude that is 38 degrees north of the Earth's equatorial plane. It crosses Europe, the Mediterranean Sea, Asia, the Pacific Ocean, North America, and the Atlantic Ocean. The 38th parallel north formed the border between North and South Korea prior to the Korean War .\n",
      "https://en.wikipedia.org/wiki/38th_parallel_north\n",
      "In the United States, the 31st parallel defines part of the border between Mississippi and Louisiana, and part of the border between Alabama and Florida. The 31st parallel north is a circle of latitude that is 31 degrees north of the Earth's equatorial plane. It crosses Africa, Asia, the Pacific Ocean, North America and the Atlantic Ocean .\n",
      "https://en.wikipedia.org/wiki/31st_parallel_north\n",
      "\n",
      "Entities:\n",
      "38th - 51 - 55 - ORDINAL - \"first\", \"second\", etc.\n"
     ]
    },
    {
     "data": {
      "text/html": [
       "<span class=\"tex2jax_ignore\"><div class=\"entities\" style=\"line-height: 2.5; direction: ltr\">What continents do the 31st parallel north and the \n",
       "<mark class=\"entity\" style=\"background: #e4e7d2; padding: 0.45em 0.6em; margin: 0 0.25em; line-height: 1; border-radius: 0.35em;\">\n",
       "    38th\n",
       "    <span style=\"font-size: 0.8em; font-weight: bold; line-height: 1; border-radius: 0.35em; vertical-align: middle; margin-left: 0.5rem\">ORDINAL</span>\n",
       "</mark>\n",
       " parallel north both cross?</div></span>"
      ],
      "text/plain": [
       "<IPython.core.display.HTML object>"
      ]
     },
     "metadata": {},
     "output_type": "display_data"
    },
    {
     "name": "stdout",
     "output_type": "stream",
     "text": [
      "['38th parallel north', '38th Street gang', '38th Street (Minneapolis)', '38th Infantry Division (United States)', 'Korean War', '38th Academy Awards', '38th Infantry Regiment (United States)', '38th Regiment', '38th Filmfare Awards', '38th SS-Grenadier-Division \"Nibelungen\"']\n",
      " ---------------------------------------------------------------------------- \n",
      "\n"
     ]
    }
   ],
   "source": [
    "ids = random.sample(range(7921), 5)\n",
    "for i in ids:\n",
    "    k = str(i)\n",
    "    print(k)\n",
    "    Q = txt_dataset[k]['Q']\n",
    "    print('Q: ', Q)\n",
    "    print('A: ', txt_dataset[k]['A'])\n",
    "    for f in txt_dataset[k]['SupportingFacts']:\n",
    "        print(f['fact'])\n",
    "        print(f['url'])\n",
    "    print(\"\\nEntities:\")\n",
    "    doc = nlp(Q)\n",
    "    show_ents(doc)\n",
    "    if doc.ents: displacy.render(doc, style='ent', jupyter=True)\n",
    "    for e in doc.ents:\n",
    "        print(wikipedia.search(e.text))\n",
    "    print(\" ---------------------------------------------------------------------------- \\n\")"
   ]
  },
  {
   "cell_type": "code",
   "execution_count": 574,
   "metadata": {
    "scrolled": true
   },
   "outputs": [
    {
     "name": "stdout",
     "output_type": "stream",
     "text": [
      "Q:  What commercially viable rock could you find near St., Thomas Mount?\n",
      "https://en.wikipedia.org/wiki/St._Thomas_Mount\n",
      "St. Thomas Mount\n",
      "https://en.wikipedia.org/wiki/Stones_of_India\n",
      "Stones of India\n"
     ]
    },
    {
     "data": {
      "text/html": [
       "<span class=\"tex2jax_ignore\"><div class=\"entities\" style=\"line-height: 2.5; direction: ltr\">What commercially viable rock could you find near \n",
       "<mark class=\"entity\" style=\"background: #feca74; padding: 0.45em 0.6em; margin: 0 0.25em; line-height: 1; border-radius: 0.35em;\">\n",
       "    St.\n",
       "    <span style=\"font-size: 0.8em; font-weight: bold; line-height: 1; border-radius: 0.35em; vertical-align: middle; margin-left: 0.5rem\">GPE</span>\n",
       "</mark>\n",
       ", \n",
       "<mark class=\"entity\" style=\"background: #aa9cfc; padding: 0.45em 0.6em; margin: 0 0.25em; line-height: 1; border-radius: 0.35em;\">\n",
       "    Thomas Mount\n",
       "    <span style=\"font-size: 0.8em; font-weight: bold; line-height: 1; border-radius: 0.35em; vertical-align: middle; margin-left: 0.5rem\">PERSON</span>\n",
       "</mark>\n",
       "?</div></span>"
      ],
      "text/plain": [
       "<IPython.core.display.HTML object>"
      ]
     },
     "metadata": {},
     "output_type": "display_data"
    },
    {
     "name": "stdout",
     "output_type": "stream",
     "text": [
      " ---------------------------------------------------------------------------- \n",
      "\n",
      "Q:  Which partner in the Byzantine–Venetian Treaty of 1082 had the statues of a pair of armored late Roman emperors embracing each other last?\n",
      "https://en.wikipedia.org/wiki/Ionian_Islands_under_Venetian_rule\n",
      "Ionian Islands under Venetian rule\n",
      "https://en.wikipedia.org/wiki/Portrait_of_the_Four_Tetrarchs\n",
      "Portrait of the Four Tetrarchs\n"
     ]
    },
    {
     "data": {
      "text/html": [
       "<span class=\"tex2jax_ignore\"><div class=\"entities\" style=\"line-height: 2.5; direction: ltr\">Which partner in the \n",
       "<mark class=\"entity\" style=\"background: #c887fb; padding: 0.45em 0.6em; margin: 0 0.25em; line-height: 1; border-radius: 0.35em;\">\n",
       "    Byzantine\n",
       "    <span style=\"font-size: 0.8em; font-weight: bold; line-height: 1; border-radius: 0.35em; vertical-align: middle; margin-left: 0.5rem\">NORP</span>\n",
       "</mark>\n",
       "–Venetian Treaty of \n",
       "<mark class=\"entity\" style=\"background: #bfe1d9; padding: 0.45em 0.6em; margin: 0 0.25em; line-height: 1; border-radius: 0.35em;\">\n",
       "    1082\n",
       "    <span style=\"font-size: 0.8em; font-weight: bold; line-height: 1; border-radius: 0.35em; vertical-align: middle; margin-left: 0.5rem\">DATE</span>\n",
       "</mark>\n",
       " had the statues of a pair of armored late Roman emperors embracing each other last?</div></span>"
      ],
      "text/plain": [
       "<IPython.core.display.HTML object>"
      ]
     },
     "metadata": {},
     "output_type": "display_data"
    },
    {
     "name": "stdout",
     "output_type": "stream",
     "text": [
      " ---------------------------------------------------------------------------- \n",
      "\n",
      "Q:  What was the name of the deceased Desperate Housewives character that was friends with both the character who was originally planned to be interested in Orson Hodge and the character who ends up being interested in Orson?\n",
      "https://en.wikipedia.org/wiki/Acquaintances_of_Gabrielle_Solis\n",
      "Acquaintances of Gabrielle Solis\n",
      "https://en.m.wikipedia.org/wiki/Paul_Young_(Desperate_Housewives)\n",
      "Paul Young (Desperate Housewives)\n",
      "https://en.wikipedia.org/wiki/Orson_Hodge_(Desperate_Housewives)\n",
      "Orson Hodge (Desperate Housewives)\n"
     ]
    },
    {
     "data": {
      "text/html": [
       "<span class=\"tex2jax_ignore\"><div class=\"entities\" style=\"line-height: 2.5; direction: ltr\">What was the name of the deceased \n",
       "<mark class=\"entity\" style=\"background: #7aecec; padding: 0.45em 0.6em; margin: 0 0.25em; line-height: 1; border-radius: 0.35em;\">\n",
       "    Desperate Housewives\n",
       "    <span style=\"font-size: 0.8em; font-weight: bold; line-height: 1; border-radius: 0.35em; vertical-align: middle; margin-left: 0.5rem\">ORG</span>\n",
       "</mark>\n",
       " character that was friends with both the character who was originally planned to be interested in \n",
       "<mark class=\"entity\" style=\"background: #aa9cfc; padding: 0.45em 0.6em; margin: 0 0.25em; line-height: 1; border-radius: 0.35em;\">\n",
       "    Orson Hodge\n",
       "    <span style=\"font-size: 0.8em; font-weight: bold; line-height: 1; border-radius: 0.35em; vertical-align: middle; margin-left: 0.5rem\">PERSON</span>\n",
       "</mark>\n",
       " and the character who ends up being interested in \n",
       "<mark class=\"entity\" style=\"background: #aa9cfc; padding: 0.45em 0.6em; margin: 0 0.25em; line-height: 1; border-radius: 0.35em;\">\n",
       "    Orson\n",
       "    <span style=\"font-size: 0.8em; font-weight: bold; line-height: 1; border-radius: 0.35em; vertical-align: middle; margin-left: 0.5rem\">PERSON</span>\n",
       "</mark>\n",
       "?</div></span>"
      ],
      "text/plain": [
       "<IPython.core.display.HTML object>"
      ]
     },
     "metadata": {},
     "output_type": "display_data"
    },
    {
     "name": "stdout",
     "output_type": "stream",
     "text": [
      " ---------------------------------------------------------------------------- \n",
      "\n",
      "Q:  Were Cerdanya and Urgell still united when Wilfred was Count of Cerdanya?\n",
      "https://en.wikipedia.org/wiki/County_of_Cerdanya\n",
      "County of Cerdanya\n",
      "https://en.wikipedia.org/wiki/Wifred_II,_Count_of_Cerdanya\n",
      "Wifred II, Count of Cerdanya\n"
     ]
    },
    {
     "data": {
      "text/html": [
       "<span class=\"tex2jax_ignore\"><div class=\"entities\" style=\"line-height: 2.5; direction: ltr\">Were \n",
       "<mark class=\"entity\" style=\"background: #feca74; padding: 0.45em 0.6em; margin: 0 0.25em; line-height: 1; border-radius: 0.35em;\">\n",
       "    Cerdanya\n",
       "    <span style=\"font-size: 0.8em; font-weight: bold; line-height: 1; border-radius: 0.35em; vertical-align: middle; margin-left: 0.5rem\">GPE</span>\n",
       "</mark>\n",
       " and \n",
       "<mark class=\"entity\" style=\"background: #7aecec; padding: 0.45em 0.6em; margin: 0 0.25em; line-height: 1; border-radius: 0.35em;\">\n",
       "    Urgell\n",
       "    <span style=\"font-size: 0.8em; font-weight: bold; line-height: 1; border-radius: 0.35em; vertical-align: middle; margin-left: 0.5rem\">ORG</span>\n",
       "</mark>\n",
       " still united when \n",
       "<mark class=\"entity\" style=\"background: #7aecec; padding: 0.45em 0.6em; margin: 0 0.25em; line-height: 1; border-radius: 0.35em;\">\n",
       "    Wilfred\n",
       "    <span style=\"font-size: 0.8em; font-weight: bold; line-height: 1; border-radius: 0.35em; vertical-align: middle; margin-left: 0.5rem\">ORG</span>\n",
       "</mark>\n",
       " was Count of \n",
       "<mark class=\"entity\" style=\"background: #feca74; padding: 0.45em 0.6em; margin: 0 0.25em; line-height: 1; border-radius: 0.35em;\">\n",
       "    Cerdanya\n",
       "    <span style=\"font-size: 0.8em; font-weight: bold; line-height: 1; border-radius: 0.35em; vertical-align: middle; margin-left: 0.5rem\">GPE</span>\n",
       "</mark>\n",
       "?</div></span>"
      ],
      "text/plain": [
       "<IPython.core.display.HTML object>"
      ]
     },
     "metadata": {},
     "output_type": "display_data"
    },
    {
     "name": "stdout",
     "output_type": "stream",
     "text": [
      " ---------------------------------------------------------------------------- \n",
      "\n",
      "Q:  Were there the same number of laps in both the 1961 and 1963 Syracuse Grand Prix?\n",
      "https://en.wikipedia.org/wiki/1963_Syracuse_Grand_Prix\n",
      "1963 Syracuse Grand Prix\n",
      "https://en.wikipedia.org/wiki/1961_Syracuse_Grand_Prix\n",
      "1961 Syracuse Grand Prix\n"
     ]
    },
    {
     "data": {
      "text/html": [
       "<span class=\"tex2jax_ignore\"><div class=\"entities\" style=\"line-height: 2.5; direction: ltr\">Were there the same number of laps in both the \n",
       "<mark class=\"entity\" style=\"background: #bfe1d9; padding: 0.45em 0.6em; margin: 0 0.25em; line-height: 1; border-radius: 0.35em;\">\n",
       "    1961\n",
       "    <span style=\"font-size: 0.8em; font-weight: bold; line-height: 1; border-radius: 0.35em; vertical-align: middle; margin-left: 0.5rem\">DATE</span>\n",
       "</mark>\n",
       " and \n",
       "<mark class=\"entity\" style=\"background: #bfe1d9; padding: 0.45em 0.6em; margin: 0 0.25em; line-height: 1; border-radius: 0.35em;\">\n",
       "    1963\n",
       "    <span style=\"font-size: 0.8em; font-weight: bold; line-height: 1; border-radius: 0.35em; vertical-align: middle; margin-left: 0.5rem\">DATE</span>\n",
       "</mark>\n",
       " \n",
       "<mark class=\"entity\" style=\"background: #ffeb80; padding: 0.45em 0.6em; margin: 0 0.25em; line-height: 1; border-radius: 0.35em;\">\n",
       "    Syracuse Grand Prix\n",
       "    <span style=\"font-size: 0.8em; font-weight: bold; line-height: 1; border-radius: 0.35em; vertical-align: middle; margin-left: 0.5rem\">EVENT</span>\n",
       "</mark>\n",
       "?</div></span>"
      ],
      "text/plain": [
       "<IPython.core.display.HTML object>"
      ]
     },
     "metadata": {},
     "output_type": "display_data"
    },
    {
     "name": "stdout",
     "output_type": "stream",
     "text": [
      " ---------------------------------------------------------------------------- \n",
      "\n",
      "Q:  A passage grave was a type of grave used primarily in which of the time periods in which Entrance graves were used?\n",
      "https://en.wikipedia.org/wiki/Passage_grave\n",
      "Passage grave\n",
      "https://en.wikipedia.org/wiki/Entrance_grave\n",
      "Entrance grave\n"
     ]
    },
    {
     "data": {
      "text/html": [
       "<span class=\"tex2jax_ignore\"><div class=\"entities\" style=\"line-height: 2.5; direction: ltr\">A passage grave was a type of grave used primarily in which of the time periods in which \n",
       "<mark class=\"entity\" style=\"background: #7aecec; padding: 0.45em 0.6em; margin: 0 0.25em; line-height: 1; border-radius: 0.35em;\">\n",
       "    Entrance\n",
       "    <span style=\"font-size: 0.8em; font-weight: bold; line-height: 1; border-radius: 0.35em; vertical-align: middle; margin-left: 0.5rem\">ORG</span>\n",
       "</mark>\n",
       " graves were used?</div></span>"
      ],
      "text/plain": [
       "<IPython.core.display.HTML object>"
      ]
     },
     "metadata": {},
     "output_type": "display_data"
    },
    {
     "name": "stdout",
     "output_type": "stream",
     "text": [
      " ---------------------------------------------------------------------------- \n",
      "\n",
      "Q:  How many years were there between the earliest known football match involving a women's French team and the suspension of the Ligue 1 season for COVID?\n",
      "https://en.wikipedia.org/wiki/2019%E2%80%9320_Ligue_1\n",
      "2019%E2%80%9320 Ligue 1\n",
      "https://en.wikipedia.org/wiki/Women%27s_football_in_France\n",
      "Women%27s football in France\n"
     ]
    },
    {
     "data": {
      "text/html": [
       "<span class=\"tex2jax_ignore\"><div class=\"entities\" style=\"line-height: 2.5; direction: ltr\">How many years were there between the earliest known football match involving a women's \n",
       "<mark class=\"entity\" style=\"background: #c887fb; padding: 0.45em 0.6em; margin: 0 0.25em; line-height: 1; border-radius: 0.35em;\">\n",
       "    French\n",
       "    <span style=\"font-size: 0.8em; font-weight: bold; line-height: 1; border-radius: 0.35em; vertical-align: middle; margin-left: 0.5rem\">NORP</span>\n",
       "</mark>\n",
       " team and the suspension of the Ligue 1 season for COVID?</div></span>"
      ],
      "text/plain": [
       "<IPython.core.display.HTML object>"
      ]
     },
     "metadata": {},
     "output_type": "display_data"
    },
    {
     "name": "stdout",
     "output_type": "stream",
     "text": [
      " ---------------------------------------------------------------------------- \n",
      "\n",
      "Q:  Is the Accomodation reflex related to Horner's syndrome?\n",
      "https://en.wikipedia.org/wiki/Horner%27s_syndrome\n",
      "Horner%27s syndrome\n",
      "https://en.wikipedia.org/wiki/Accommodation_reflex\n",
      "Accommodation reflex\n"
     ]
    },
    {
     "data": {
      "text/html": [
       "<span class=\"tex2jax_ignore\"><div class=\"entities\" style=\"line-height: 2.5; direction: ltr\">Is the Accomodation reflex related to \n",
       "<mark class=\"entity\" style=\"background: #aa9cfc; padding: 0.45em 0.6em; margin: 0 0.25em; line-height: 1; border-radius: 0.35em;\">\n",
       "    Horner\n",
       "    <span style=\"font-size: 0.8em; font-weight: bold; line-height: 1; border-radius: 0.35em; vertical-align: middle; margin-left: 0.5rem\">PERSON</span>\n",
       "</mark>\n",
       "'s syndrome?</div></span>"
      ],
      "text/plain": [
       "<IPython.core.display.HTML object>"
      ]
     },
     "metadata": {},
     "output_type": "display_data"
    },
    {
     "name": "stdout",
     "output_type": "stream",
     "text": [
      " ---------------------------------------------------------------------------- \n",
      "\n"
     ]
    }
   ],
   "source": [
    "ids = random.sample(range(7921), 8)\n",
    "for i in ids:\n",
    "    k = str(i)\n",
    "    Q = txt_dataset[k]['Q']\n",
    "    print('Q: ', Q)\n",
    "    for f in txt_dataset[k]['SupportingFacts']:\n",
    "        print(f['url'])\n",
    "        print(\" \".join(f['url'].split('/')[-1].split(\"_\")))\n",
    "    doc = nlp(Q)\n",
    "    if doc.ents: displacy.render(doc, style='ent', jupyter=True)\n",
    "    else: print(\"No entities found\")\n",
    "    print(\" ---------------------------------------------------------------------------- \\n\")"
   ]
  },
  {
   "cell_type": "code",
   "execution_count": null,
   "metadata": {},
   "outputs": [],
   "source": []
  },
  {
   "cell_type": "markdown",
   "metadata": {},
   "source": [
    "Cases where NER fails:\n",
    "Which party controlled the **Senate** and the Presidency after the **1854** elections? But I need \"1854 elections\" / \"1854 Senate\"\n",
    "On which body part are hoods and almuces worn? No entities found But I need \"hoods\" / \"almuces\"\n",
    "Which caused more death; **Nazi Crimes** against the **Polish** nation or **Masterplan** album? But I need \"Nazi Crimes against the Polist nation\" / \"Masterplan album\"\n",
    "What type of plant is both the Eucalyptus tereticornis and the **Corymbia** cadophora? But I need \"Eucalyptus tereticornis\" / \"Corymbia cadophora\""
   ]
  },
  {
   "cell_type": "code",
   "execution_count": 19,
   "metadata": {},
   "outputs": [],
   "source": [
    "USER_AGENT_LIST = [\n",
    "            \"Mozilla/4.0 (compatible; MSIE 6.0; Windows NT 5.1; SV1; AcooBrowser; .NET CLR 1.1.4322; .NET CLR 2.0.50727)\",\n",
    "            \"Mozilla/4.0 (compatible; MSIE 7.0; Windows NT 6.0; Acoo Browser; SLCC1; .NET CLR 2.0.50727; Media Center PC 5.0; .NET CLR 3.0.04506)\",\n",
    "            \"Mozilla/4.0 (compatible; MSIE 7.0; AOL 9.5; AOLBuild 4337.35; Windows NT 5.1; .NET CLR 1.1.4322; .NET CLR 2.0.50727)\",\n",
    "            \"Mozilla/5.0 (Windows; U; MSIE 9.0; Windows NT 9.0; en-US)\",\n",
    "            \"Mozilla/5.0 (compatible; MSIE 9.0; Windows NT 6.1; Win64; x64; Trident/5.0; .NET CLR 3.5.30729; .NET CLR 3.0.30729; .NET CLR 2.0.50727; Media Center PC 6.0)\",\n",
    "            \"Mozilla/5.0 (compatible; MSIE 8.0; Windows NT 6.0; Trident/4.0; WOW64; Trident/4.0; SLCC2; .NET CLR 2.0.50727; .NET CLR 3.5.30729; .NET CLR 3.0.30729; .NET CLR 1.0.3705; .NET CLR 1.1.4322)\",\n",
    "            \"Mozilla/4.0 (compatible; MSIE 7.0b; Windows NT 5.2; .NET CLR 1.1.4322; .NET CLR 2.0.50727; InfoPath.2; .NET CLR 3.0.04506.30)\",\n",
    "            \"Mozilla/5.0 (Windows; U; Windows NT 5.1; zh-CN) AppleWebKit/523.15 (KHTML, like Gecko, Safari/419.3) Arora/0.3 (Change: 287 c9dfb30)\",\n",
    "            \"Mozilla/5.0 (X11; U; Linux; en-US) AppleWebKit/527+ (KHTML, like Gecko, Safari/419.3) Arora/0.6\",\n",
    "            \"Mozilla/5.0 (Windows; U; Windows NT 5.1; en-US; rv:1.8.1.2pre) Gecko/20070215 K-Ninja/2.1.1\",\n",
    "            \"Mozilla/5.0 (Windows; U; Windows NT 5.1; zh-CN; rv:1.9) Gecko/20080705 Firefox/3.0 Kapiko/3.0\",\n",
    "            \"Mozilla/5.0 (X11; Linux i686; U;) Gecko/20070322 Kazehakase/0.4.5\",\n",
    "            \"Mozilla/5.0 (X11; U; Linux i686; en-US; rv:1.9.0.8) Gecko Fedora/1.9.0.8-1.fc10 Kazehakase/0.5.6\",\n",
    "            \"Mozilla/5.0 (Windows NT 6.1; WOW64) AppleWebKit/535.11 (KHTML, like Gecko) Chrome/17.0.963.56 Safari/535.11\",\n",
    "            \"Mozilla/5.0 (Macintosh; Intel Mac OS X 10_7_3) AppleWebKit/535.20 (KHTML, like Gecko) Chrome/19.0.1036.7 Safari/535.20\",\n",
    "            \"Opera/9.80 (Macintosh; Intel Mac OS X 10.6.8; U; fr) Presto/2.9.168 Version/11.52\",\n",
    "            \"Mozilla/5.0 (Windows NT 6.1; WOW64) AppleWebKit/536.11 (KHTML, like Gecko) Chrome/20.0.1132.11 TaoBrowser/2.0 Safari/536.11\",\n",
    "            \"Mozilla/5.0 (Windows NT 6.1; WOW64) AppleWebKit/537.1 (KHTML, like Gecko) Chrome/21.0.1180.71 Safari/537.1 LBBROWSER\",\n",
    "            \"Mozilla/5.0 (compatible; MSIE 9.0; Windows NT 6.1; WOW64; Trident/5.0; SLCC2; .NET CLR 2.0.50727; .NET CLR 3.5.30729; .NET CLR 3.0.30729; Media Center PC 6.0; .NET4.0C; .NET4.0E; LBBROWSER)\",\n",
    "            \"Mozilla/4.0 (compatible; MSIE 6.0; Windows NT 5.1; SV1; QQDownload 732; .NET4.0C; .NET4.0E; LBBROWSER)\",\n",
    "            \"Mozilla/5.0 (Windows NT 6.1; WOW64) AppleWebKit/535.11 (KHTML, like Gecko) Chrome/17.0.963.84 Safari/535.11 LBBROWSER\",\n",
    "            \"Mozilla/4.0 (compatible; MSIE 7.0; Windows NT 6.1; WOW64; Trident/5.0; SLCC2; .NET CLR 2.0.50727; .NET CLR 3.5.30729; .NET CLR 3.0.30729; Media Center PC 6.0; .NET4.0C; .NET4.0E)\",\n",
    "            \"Mozilla/5.0 (compatible; MSIE 9.0; Windows NT 6.1; WOW64; Trident/5.0; SLCC2; .NET CLR 2.0.50727; .NET CLR 3.5.30729; .NET CLR 3.0.30729; Media Center PC 6.0; .NET4.0C; .NET4.0E; QQBrowser/7.0.3698.400)\",\n",
    "            \"Mozilla/4.0 (compatible; MSIE 6.0; Windows NT 5.1; SV1; QQDownload 732; .NET4.0C; .NET4.0E)\",\n",
    "            \"Mozilla/4.0 (compatible; MSIE 7.0; Windows NT 5.1; Trident/4.0; SV1; QQDownload 732; .NET4.0C; .NET4.0E; 360SE)\",\n",
    "            \"Mozilla/4.0 (compatible; MSIE 6.0; Windows NT 5.1; SV1; QQDownload 732; .NET4.0C; .NET4.0E)\",\n",
    "            \"Mozilla/4.0 (compatible; MSIE 7.0; Windows NT 6.1; WOW64; Trident/5.0; SLCC2; .NET CLR 2.0.50727; .NET CLR 3.5.30729; .NET CLR 3.0.30729; Media Center PC 6.0; .NET4.0C; .NET4.0E)\",\n",
    "            \"Mozilla/5.0 (Windows NT 5.1) AppleWebKit/537.1 (KHTML, like Gecko) Chrome/21.0.1180.89 Safari/537.1\",\n",
    "            \"Mozilla/5.0 (Windows NT 6.1; WOW64) AppleWebKit/537.1 (KHTML, like Gecko) Chrome/21.0.1180.89 Safari/537.1\",\n",
    "            \"Mozilla/5.0 (iPad; U; CPU OS 4_2_1 like Mac OS X; zh-cn) AppleWebKit/533.17.9 (KHTML, like Gecko) Version/5.0.2 Mobile/8C148 Safari/6533.18.5\",\n",
    "            \"Mozilla/5.0 (Windows NT 6.1; Win64; x64; rv:2.0b13pre) Gecko/20110307 Firefox/4.0b13pre\",\n",
    "            \"Mozilla/5.0 (X11; Ubuntu; Linux x86_64; rv:16.0) Gecko/20100101 Firefox/16.0\",\n",
    "            \"Mozilla/5.0 (Windows NT 6.1; WOW64) AppleWebKit/537.11 (KHTML, like Gecko) Chrome/23.0.1271.64 Safari/537.11\",\n",
    "            \"Mozilla/5.0 (X11; U; Linux x86_64; zh-CN; rv:1.9.2.10) Gecko/20100922 Ubuntu/10.10 (maverick) Firefox/3.6.10\",\n",
    "            \"Mozilla/5.0 (Windows NT 10.0; Win64; x64) AppleWebKit/537.36 (KHTML, like Gecko) Chrome/58.0.3029.110 Safari/537.36\",\n",
    "        ]"
   ]
  },
  {
   "cell_type": "code",
   "execution_count": 85,
   "metadata": {},
   "outputs": [],
   "source": [
    "url_blocklist = ['seal', 'sign ', 'pdf', 'gif', 'icon', 'notice', 'cartoon', 'publish', 'menu', 'logo', 'svg', 'webm', 'page', \\\n",
    "                     'ogg', 'flickr', 'poster', 'ogv', 'banner', 'tif', 'montage', 'centralautologin', 'footer']"
   ]
  },
  {
   "cell_type": "code",
   "execution_count": 658,
   "metadata": {},
   "outputs": [],
   "source": [
    "def get_page_categories(title):\n",
    "    url = 'https://en.wikipedia.org/w/api.php?format=xml&action=query&prop=categories&titles='+title\n",
    "    req = urllib.request.Request(url, headers = {'User-Agent': random.choice(USER_AGENT_LIST)})\n",
    "    with urllib.request.urlopen(req) as f:\n",
    "        xml = f.read().decode('utf-8')\n",
    "    soup= BeautifulSoup(xml,\"lxml-xml\")\n",
    "    tags = soup.find('categories')\n",
    "    if tags is None: return []\n",
    "    categories = [c.get('title').replace(\"Category:\", \"\") for c in tags]\n",
    "    return categories\n"
   ]
  },
  {
   "cell_type": "code",
   "execution_count": 659,
   "metadata": {},
   "outputs": [
    {
     "data": {
      "text/plain": [
       "[]"
      ]
     },
     "execution_count": 659,
     "metadata": {},
     "output_type": "execute_result"
    }
   ],
   "source": [
    "get_page_categories(\"Peter_Denton_(musician)\")"
   ]
  },
  {
   "cell_type": "code",
   "execution_count": 645,
   "metadata": {},
   "outputs": [],
   "source": [
    "def is_disambiguation_page(url):\n",
    "    title = url.split('/')[-1]\n",
    "    return 'disambiguation' in \" \".join(get_page_categories(title))"
   ]
  },
  {
   "cell_type": "code",
   "execution_count": 660,
   "metadata": {},
   "outputs": [
    {
     "data": {
      "text/plain": [
       "False"
      ]
     },
     "execution_count": 660,
     "metadata": {},
     "output_type": "execute_result"
    }
   ],
   "source": [
    "is_disambiguation_page(\"https://en.wikipedia.org/wiki/Peter_Denton_(musician)\")"
   ]
  },
  {
   "cell_type": "code",
   "execution_count": 691,
   "metadata": {},
   "outputs": [
    {
     "name": "stdout",
     "output_type": "stream",
     "text": [
      "Q =  According to the French-inspired Arthurian romance tradition, who is the father of the character who was given a name by Chrétien involving a lake?\n",
      "title =  Snake\n",
      "Q =  According to the French-inspired Arthurian romance tradition, who is the father of the character who was given a name by Chrétien involving a lake?\n",
      "title =  Snake\n",
      "30\n",
      "{'https://en.wikipedia.org/wiki/Lancelot',\n",
      " 'https://en.wikipedia.org/wiki/Lancelot_of_the_Lake',\n",
      " 'https://en.wikipedia.org/wiki/Snake'}\n",
      "Q =  Which kind of tensor makes it possible to define several geometric notions on it and is present with a positive-definite metric tensor?\n",
      "title =  Snake\n",
      "Q =  Which kind of tensor makes it possible to define several geometric notions on it and is present with a positive-definite metric tensor?\n",
      "title =  Snake\n",
      "90\n",
      "{'https://en.wikipedia.org/wiki/Metric_tensor',\n",
      " 'https://en.wikipedia.org/wiki/Riemannian_metric',\n",
      " 'https://en.wikipedia.org/wiki/Snake'}\n",
      "Q =  Who was being addressed in the oldest known example of the language spoken by the Diffa Arabs?\n",
      "title =  Aymara language\n",
      "Q =  Who was being addressed in the oldest known example of the language spoken by the Diffa Arabs?\n",
      "title =  Aymara language\n",
      "100\n",
      "{'https://en.wikipedia.org/wiki/Aymara_language',\n",
      " 'https://en.wikipedia.org/wiki/List_of_countries_where_Arabic_is_an_official_language',\n",
      " 'https://en.wikipedia.org/wiki/Old_Arabic'}\n",
      "Q =  What type of ship building technique might have been used to make quadriremes?\n",
      "title =  Snake\n",
      "Q =  What type of ship building technique might have been used to make quadriremes?\n",
      "title =  Snake\n",
      "489\n",
      "{'https://en.m.wikipedia.org/wiki/Trireme',\n",
      " 'https://en.wikipedia.org/wiki/Ancient_shipbuilding_techniques',\n",
      " 'https://en.wikipedia.org/wiki/Snake'}\n",
      "Q =  What material can you make by using an element with an atomic number of 30 and alloying elements of magnesium, aluminium, and copper?\n",
      "title =  Snake\n",
      "Q =  What material can you make by using an element with an atomic number of 30 and alloying elements of magnesium, aluminium, and copper?\n",
      "title =  Snake\n",
      "820\n",
      "{'https://en.wikipedia.org/wiki/Snake',\n",
      " 'https://en.wikipedia.org/wiki/Zamak',\n",
      " 'https://en.wikipedia.org/wiki/Zinc'}\n",
      "Q =  In the Italian language, what letter is never marked with an acute accent that would typically be added above a vowel to show how to say it?\n",
      "title =  Quechuan languages\n",
      "Q =  In the Italian language, what letter is never marked with an acute accent that would typically be added above a vowel to show how to say it?\n",
      "title =  Aymara language\n",
      "Q =  In the Italian language, what letter is never marked with an acute accent that would typically be added above a vowel to show how to say it?\n",
      "title =  Quechuan languages\n",
      "Q =  In the Italian language, what letter is never marked with an acute accent that would typically be added above a vowel to show how to say it?\n",
      "title =  Aymara language\n",
      "1088\n",
      "{'https://en.wikipedia.org/wiki/Acute_accent',\n",
      " 'https://en.wikipedia.org/wiki/Aymara_language',\n",
      " 'https://en.wikipedia.org/wiki/Quechuan_languages',\n",
      " 'https://simple.wikipedia.org/wiki/Acute_accent'}\n",
      "Q =  Which state was bordered by the north and east by Massachusetts had more slaves taken through it in the 1700s?\n",
      "title =  Snake\n",
      "Q =  Which state was bordered by the north and east by Massachusetts had more slaves taken through it in the 1700s?\n",
      "title =  Snake\n",
      "1166\n",
      "{'https://en.wikipedia.org/wiki/Snake',\n",
      " 'https://simple.wikipedia.org/wiki/Rhode_Island',\n",
      " 'https://simple.wikipedia.org/wiki/Rhode_island_colony'}\n",
      "Q =  Are Herpestinae and Herpestidids found primarily in the same region?\n",
      "text =  serpent\n",
      "Q =  Are Herpestinae and Herpestidids found primarily in the same region?\n",
      "text =  serpent\n",
      "1224\n",
      "{'https://en.wikipedia.org/wiki/List_of_herpestidids',\n",
      " 'https://en.wikipedia.org/wiki/Mongoose',\n",
      " 'https://en.wikipedia.org/wiki/Snake'}\n",
      "Q =  Was John Oliver ever considered as the person to take over David Letterman's job by the chairman of CBS Entertainment?\n",
      "title =  Snake\n",
      "Q =  Was John Oliver ever considered as the person to take over David Letterman's job by the chairman of CBS Entertainment?\n",
      "title =  Snake\n",
      "1244\n",
      "{'https://en.wikipedia.org/wiki/Snake',\n",
      " 'https://www.hollywoodreporter.com/news/cbs-approached-john-oliver-late-693587',\n",
      " 'https://www.hollywoodreporter.com/news/craig-ferguson-replacement-wont-be-699948'}\n",
      "Q =  Who was the Pharaoh that was a relief on the wall in an Amun at el-Hibeh temple that also defeated a Bedouin incursion after surprising the enemy at the shores of the Bitter Lakes?\n",
      "title =  Snake\n",
      "Q =  Who was the Pharaoh that was a relief on the wall in an Amun at el-Hibeh temple that also defeated a Bedouin incursion after surprising the enemy at the shores of the Bitter Lakes?\n",
      "title =  Snake\n",
      "1362\n",
      "{'https://en.wikipedia.org/wiki/List_of_battles_(geographic)',\n",
      " 'https://en.wikipedia.org/wiki/Shishak',\n",
      " 'https://en.wikipedia.org/wiki/Snake'}\n",
      "Q =  How many years after first rising to the Presidency did PInochet take office for an eight-year term?\n",
      "title =  Snake\n",
      "Q =  How many years after first rising to the Presidency did PInochet take office for an eight-year term?\n",
      "title =  Snake\n",
      "1962\n",
      "{'https://en.wikipedia.org/wiki/1973_Chilean_coup_d%27%C3%A9tat',\n",
      " 'https://en.wikipedia.org/wiki/1988_Chilean_national_plebiscite',\n",
      " 'https://en.wikipedia.org/wiki/Snake'}\n",
      "Q =  The Delaware River and the the Snake River both run through how many different states?\n",
      "title =  Snake\n",
      "Q =  The Delaware River and the the Snake River both run through how many different states?\n",
      "title =  Snake\n",
      "2042\n",
      "{'https://en.wikipedia.org/wiki/Delaware_River',\n",
      " 'https://en.wikipedia.org/wiki/Snake',\n",
      " 'https://en.wikipedia.org/wiki/Snake_River'}\n",
      "Q =  How many years after Tino da Camaino helped King Robert of Naples enlarge the fortress, did Alfonso V of Aragon completely rebuild his castle court?\n",
      "title =  Dragon\n",
      "Q =  How many years after Tino da Camaino helped King Robert of Naples enlarge the fortress, did Alfonso V of Aragon completely rebuild his castle court?\n",
      "title =  Dragon\n",
      "2463\n",
      "{'https://en.m.wikipedia.org/wiki/Castel_Nuovo',\n",
      " 'https://en.m.wikipedia.org/wiki/Castel_Sant%27Elmo',\n",
      " 'https://en.wikipedia.org/wiki/Dragon'}\n",
      "Q =  Which could make something more purple; Sodium dithionite or Sodium thiosulfate?\n",
      "title =  Snake\n",
      "Q =  Which could make something more purple; Sodium dithionite or Sodium thiosulfate?\n",
      "title =  Snake\n",
      "Q =  Which could make something more purple; Sodium dithionite or Sodium thiosulfate?\n",
      "title =  Snake\n",
      "Q =  Which could make something more purple; Sodium dithionite or Sodium thiosulfate?\n",
      "title =  Snake\n",
      "Q =  Where do the Chinese dragon and the pixiu both originate?\n",
      "title =  Dragon\n",
      "Q =  Where do the Chinese dragon and the pixiu both originate?\n",
      "title =  Dragon\n",
      "3735\n",
      "{'https://en.wikipedia.org/wiki/Chinese_dragon',\n",
      " 'https://en.wikipedia.org/wiki/Dragon',\n",
      " 'https://en.wikipedia.org/wiki/Pixiu'}\n",
      "Q =  Which colors are shared by the Trimeresurus gumprechti and Trimeresurus sumatranus snake species?\n",
      "title =  Snake\n",
      "Q =  Which colors are shared by the Trimeresurus gumprechti and Trimeresurus sumatranus snake species?\n",
      "title =  Snake\n",
      "4335\n",
      "{'https://en.wikipedia.org/wiki/Snake',\n",
      " 'https://en.wikipedia.org/wiki/Trimeresurus_gumprechti',\n",
      " 'https://en.wikipedia.org/wiki/Trimeresurus_sumatranus'}\n",
      "Q =  Is the first king of the Polish state as founded in 1025 remembered with the same honorific as the legendary founder of the Xia Dynasty?\n",
      "title =  Legendary creature\n",
      "Q =  Is the first king of the Polish state as founded in 1025 remembered with the same honorific as the legendary founder of the Xia Dynasty?\n",
      "title =  Legendary creature\n",
      "4846\n",
      "{'https://en.wikipedia.org/wiki/Legendary_creature',\n",
      " 'https://en.wikipedia.org/wiki/List_of_Polish_monarchs',\n",
      " 'https://en.wikipedia.org/wiki/Shia_Dynasty'}\n",
      "Q =  Which of the Seven Wonders of the Ancient World is partially named after the Greek word that means \"wheat cake\"?\n",
      "title =  Snake\n",
      "Q =  Which of the Seven Wonders of the Ancient World is partially named after the Greek word that means \"wheat cake\"?\n",
      "title =  Snake\n",
      "4892\n",
      "{'https://en.wikipedia.org/wiki/Great_Pyramid_at_Giza',\n",
      " 'https://en.wikipedia.org/wiki/Snake',\n",
      " 'https://simple.wikipedia.org/wiki/Pyramid'}\n",
      "Q =  Were Command rank flags to denote the commander-in-chief of the English fleet used prior to or after the Rising Sun Ensign became a major symbol in the emerging Japanese Empire?\n",
      "title =  Inca Empire\n"
     ]
    },
    {
     "name": "stdout",
     "output_type": "stream",
     "text": [
      "Q =  Were Command rank flags to denote the commander-in-chief of the English fleet used prior to or after the Rising Sun Ensign became a major symbol in the emerging Japanese Empire?\n",
      "title =  Inca Empire\n",
      "5192\n",
      "{'https://en.wikipedia.org/wiki/Flag_of_Japan',\n",
      " 'https://en.wikipedia.org/wiki/Inca_Empire',\n",
      " 'https://en.wikipedia.org/wiki/List_of_command_flags_of_the_Royal_Navy'}\n",
      "Q =  Were men, women or both burned at the stake as punishment for their crimes in the UK?\n",
      "title =  Snake\n",
      "Q =  Were men, women or both burned at the stake as punishment for their crimes in the UK?\n",
      "title =  Snake\n",
      "5368\n",
      "{'https://en.wikipedia.org/wiki/Burning_of_women_in_England',\n",
      " 'https://en.wikipedia.org/wiki/Snake',\n",
      " 'https://en.wikipedia.org/wiki/Thomas_Aikenhead'}\n",
      "Q =  In what year did both the Football League play-offs and then FIA Formula One World Championship take place?\n",
      "title =  Snake\n",
      "Q =  In what year did both the Football League play-offs and then FIA Formula One World Championship take place?\n",
      "title =  Snake\n",
      "5432\n",
      "{'https://en.wikipedia.org/wiki/2011_Football_League_play-offs',\n",
      " 'https://en.wikipedia.org/wiki/2011_Formula_One_season',\n",
      " 'https://en.wikipedia.org/wiki/Snake'}\n",
      "Q =  What are the basic capabilities of the surveillance and target acquisitions portions of the RSTA operations?\n",
      "title =  Gateway of the Sun\n",
      "Q =  What are the basic capabilities of the surveillance and target acquisitions portions of the RSTA operations?\n",
      "title =  Gateway of the Sun\n",
      "5597\n",
      "{'https://en.m.wikipedia.org/wiki/RSTA_(U.S._Army)',\n",
      " 'https://en.wikipedia.org/wiki/Gateway_of_the_Sun',\n",
      " 'https://en.wikipedia.org/wiki/Surveillance_and_Target_Acquisition'}\n",
      "Q =  What four letter word forms part of both the name of the Turks and Caicos Islands as well as the name of the tribe that founded the Ottoman Empire?\n",
      "title =  Inca Empire\n",
      "Q =  What four letter word forms part of both the name of the Turks and Caicos Islands as well as the name of the tribe that founded the Ottoman Empire?\n",
      "title =  Inca Empire\n",
      "5625\n",
      "{'https://en.wikipedia.org/wiki/History_of_the_Turks_and_Caicos_Islands',\n",
      " 'https://en.wikipedia.org/wiki/Inca_Empire',\n",
      " 'https://en.wikipedia.org/wiki/Ottoman_Empire'}\n",
      "Q =  Which came first, the construction of the Basilica of St. John or the rise of the Ottoman Empire?\n",
      "title =  Inca Empire\n",
      "Q =  Which came first, the construction of the Basilica of St. John or the rise of the Ottoman Empire?\n",
      "title =  Inca Empire\n",
      "5668\n",
      "{'https://en.wikipedia.org/wiki/Basilica_of_St._John',\n",
      " 'https://en.wikipedia.org/wiki/Church_of_St._John_at_Kaneo',\n",
      " 'https://en.wikipedia.org/wiki/Inca_Empire'}\n",
      "Q =  Who spent more actual time on the grounds of the White house: Justin Trudeau or Trude Feldman?\n",
      "text =  serpent\n",
      "Q =  Who spent more actual time on the grounds of the White house: Justin Trudeau or Trude Feldman?\n",
      "text =  serpent\n",
      "5722\n",
      "{'https://en.wikipedia.org/wiki/Justin_Trudeau',\n",
      " 'https://en.wikipedia.org/wiki/Snake',\n",
      " 'https://en.wikipedia.org/wiki/Trude_Feldman'}\n",
      "Q =  How many more times did The Threepenny Opera play at the Theater am Schiffbauerdamm than it did at the Broadway at the Empire Theatre?\n",
      "title =  Inca Empire\n",
      "Q =  How many more times did The Threepenny Opera play at the Theater am Schiffbauerdamm than it did at the Broadway at the Empire Theatre?\n",
      "title =  Inca Empire\n",
      "Q =  Did the 2003 Chelsea F.C team advance farther during the 2003 UEFA Cup than the San Jose Earthquakes advanced during the 2001 MLS playoffs?\n",
      "title =  Snake\n",
      "Q =  Did the 2003 Chelsea F.C team advance farther during the 2003 UEFA Cup than the San Jose Earthquakes advanced during the 2001 MLS playoffs?\n",
      "title =  Snake\n",
      "6097\n",
      "{'https://en.wikipedia.org/wiki/2001_Major_League_Soccer_season',\n",
      " 'https://en.wikipedia.org/wiki/2002%E2%80%9303_Chelsea_F.C._season',\n",
      " 'https://en.wikipedia.org/wiki/Snake'}\n",
      "Q =  Did the 1968 and 2020 US Presidential elections take place on the same day of the month?\n",
      "title =  Snake\n",
      "Q =  Did the 1968 and 2020 US Presidential elections take place on the same day of the month?\n",
      "title =  Gateway of the Sun\n",
      "Q =  Did the 1968 and 2020 US Presidential elections take place on the same day of the month?\n",
      "title =  Snake\n",
      "Q =  Did the 1968 and 2020 US Presidential elections take place on the same day of the month?\n",
      "title =  Gateway of the Sun\n",
      "6113\n",
      "{'https://en.wikipedia.org/wiki/2020_United_States_presidential_election_in_Alaska',\n",
      " 'https://en.wikipedia.org/wiki/Gateway_of_the_Sun',\n",
      " 'https://en.wikipedia.org/wiki/Snake',\n",
      " 'https://en.wikipedia.org/wiki/United_States_presidential_election_in_Alaska,_1968'}\n",
      "Q =  The cursive-joining alphabet used for writing the variety of Old Turkic that was the ancestor of the modern Western Yugur language was used during what time period?\n",
      "title =  Aymara language\n",
      "Q =  The cursive-joining alphabet used for writing the variety of Old Turkic that was the ancestor of the modern Western Yugur language was used during what time period?\n",
      "title =  Aymara language\n",
      "Q =  Is the Brahminy blind snake a venomous pit viper species found in the southern United States?\n",
      "title =  Snake\n",
      "Q =  Is the Brahminy blind snake a venomous pit viper species found in the southern United States?\n",
      "title =  Snake\n",
      "6776\n",
      "{'https://en.wikipedia.org/wiki/Agkistrodon_contortrix_laticinctus',\n",
      " 'https://en.wikipedia.org/wiki/List_of_snakes_of_Connecticut',\n",
      " 'https://en.wikipedia.org/wiki/Snake'}\n",
      "Q =  Is the last letter of the name of the protagonist of the 1991 Aircel Comics six issue miniseries Carmilla the same as the antagonist in The Dark Blue published in 1971-72\n",
      "title =  Dragon\n",
      "Q =  Is the last letter of the name of the protagonist of the 1991 Aircel Comics six issue miniseries Carmilla the same as the antagonist in The Dark Blue published in 1971-72\n",
      "title =  Dragon\n",
      "Q =  How large was the empire of the Islamic caliphate that sieged Constantinople in 717-718 relative to the other world empires of that time period?\n",
      "title =  Inca Empire\n",
      "Q =  How large was the empire of the Islamic caliphate that sieged Constantinople in 717-718 relative to the other world empires of that time period?\n",
      "title =  Inca Empire\n",
      "7083\n",
      "{'https://en.wikipedia.org/wiki/Inca_Empire',\n",
      " 'https://en.wikipedia.org/wiki/Siege_of_Constantinople_(717%E2%80%93718)',\n",
      " 'https://simple.wikipedia.org/wiki/Umayyad_Empire'}\n",
      "Q =  Would stop sounds like /p/, /t/, and /k/ be included in Sanskrit, Hindustani and all other Indic languages?\n",
      "title =  Quechuan languages\n",
      "Q =  Would stop sounds like /p/, /t/, and /k/ be included in Sanskrit, Hindustani and all other Indic languages?\n",
      "title =  Aymara language\n",
      "Q =  Would stop sounds like /p/, /t/, and /k/ be included in Sanskrit, Hindustani and all other Indic languages?\n",
      "title =  Quechuan languages\n",
      "Q =  Would stop sounds like /p/, /t/, and /k/ be included in Sanskrit, Hindustani and all other Indic languages?\n",
      "title =  Aymara language\n",
      "7139\n",
      "{'https://en.wikipedia.org/wiki/Aymara_language',\n",
      " 'https://en.wikipedia.org/wiki/Dental_consonant',\n",
      " 'https://en.wikipedia.org/wiki/Quechuan_languages',\n",
      " 'https://simple.wikipedia.org/wiki/Stop_consonant'}\n",
      "Q =  In what three Asian cultures have dragons been depicted as having snake-like characteristics?\n",
      "title =  Snake\n",
      "Q =  In what three Asian cultures have dragons been depicted as having snake-like characteristics?\n",
      "title =  Dragon\n",
      "Q =  In what three Asian cultures have dragons been depicted as having snake-like characteristics?\n",
      "title =  Snake\n",
      "Q =  In what three Asian cultures have dragons been depicted as having snake-like characteristics?\n",
      "title =  Dragon\n",
      "7236\n",
      "{'https://en.wikipedia.org/wiki/Chinese_dragon',\n",
      " 'https://en.wikipedia.org/wiki/Dragon',\n",
      " 'https://en.wikipedia.org/wiki/List_of_dragons_in_mythology_and_folklore',\n",
      " 'https://en.wikipedia.org/wiki/Snake'}\n",
      "Q =  Did the Wik-Mungkan people or the Kaantyu have more than one language?\n",
      "title =  Aymara language\n",
      "Q =  Did the Wik-Mungkan people or the Kaantyu have more than one language?\n",
      "title =  Aymara language\n",
      "7284\n",
      "{'https://en.wikipedia.org/wiki/Aymara_language',\n",
      " 'https://en.wikipedia.org/wiki/Kaantju',\n",
      " 'https://en.wikipedia.org/wiki/Wik-Mungkan_people'}\n",
      "Q =  When someone makes a creation (like a book, movie, picture, song or website ), they can say how this creation should be used in a process that arises when?\n",
      "title =  Snake\n",
      "Q =  When someone makes a creation (like a book, movie, picture, song or website ), they can say how this creation should be used in a process that arises when?\n",
      "title =  Snake\n",
      "7540\n",
      "{'https://en.m.wikipedia.org/wiki/History_of_copyright_law',\n",
      " 'https://en.wikipedia.org/wiki/Snake',\n",
      " 'https://simple.wikipedia.org/wiki/Wikipedia:Copyrights'}\n"
     ]
    },
    {
     "name": "stdout",
     "output_type": "stream",
     "text": [
      "Q =  The Metamorphoses of Apuleius and Amphitryon are both works that originated in what empire?\n",
      "title =  Inca Empire\n",
      "Q =  The Metamorphoses of Apuleius and Amphitryon are both works that originated in what empire?\n",
      "title =  Inca Empire\n",
      "7616\n",
      "{'https://en.wikipedia.org/wiki/Amphitryon_(Plautus_play)',\n",
      " 'https://en.wikipedia.org/wiki/Inca_Empire',\n",
      " 'https://en.wikipedia.org/wiki/The_Golden_Ass'}\n",
      "Q =  The Huma and  Amen Bird are both part of the mythology of what modern-day region?\n",
      "title =  Inca mythology\n",
      "Q =  The Huma and  Amen Bird are both part of the mythology of what modern-day region?\n",
      "title =  Inca mythology\n",
      "7630\n",
      "{'https://en.wikipedia.org/wiki/Huma_bird',\n",
      " 'https://en.wikipedia.org/wiki/Inca_mythology',\n",
      " 'https://en.wikipedia.org/wiki/Iranian_folklore'}\n",
      "Q =  What are three things thought to be required funerary practices by the people that thought that like Ra, their physical bodies, or Khat, would reawaken after they completed their journey through the underworld?\n",
      "title =  Snake\n",
      "Q =  What are three things thought to be required funerary practices by the people that thought that like Ra, their physical bodies, or Khat, would reawaken after they completed their journey through the underworld?\n",
      "title =  Snake\n",
      "7747\n",
      "{'https://en.wikipedia.org/wiki/Ancient_Egyptian_afterlife_beliefs',\n",
      " 'https://en.wikipedia.org/wiki/Egyptian_tombs',\n",
      " 'https://en.wikipedia.org/wiki/Snake'}\n",
      "count =  409\n",
      "5 5\n",
      "35\n"
     ]
    }
   ],
   "source": [
    "disambiguation_ks = []\n",
    "effective = 0\n",
    "count = 0\n",
    "problematic_ks = []\n",
    "for k in txt_dataset:\n",
    "    if random.random() > 0.05: continue\n",
    "    count += 1\n",
    "    Q = txt_dataset[k]['Q']\n",
    "    relevant_pages = set()\n",
    "    try: \n",
    "        for f in txt_dataset[k]['SupportingFacts']:\n",
    "            try: \n",
    "                fact_url = f['url']\n",
    "                relevant_pages.add(fact_url)\n",
    "                if is_disambiguation_page(fact_url):\n",
    "                    disambiguation_ks.append(k)\n",
    "                else:\n",
    "                    relevant_pages = relevant_pages.union(find_hyperlinks(Q, fact_url))\n",
    "            except (TypeError, AttributeError) as error: print(k, fact_url)\n",
    "    except:\n",
    "        print(k, \"some error\")\n",
    "        problematic_ks.append(k)\n",
    "    if len(relevant_pages) > len(txt_dataset[k]['SupportingFacts']):\n",
    "        effective += 1\n",
    "        print(k)\n",
    "        pprint(relevant_pages)\n",
    "print(\"count = \", count)\n",
    "print(len(disambiguation_ks), len(set(disambiguation_ks)))\n",
    "print(effective)"
   ]
  },
  {
   "cell_type": "code",
   "execution_count": 677,
   "metadata": {},
   "outputs": [
    {
     "data": {
      "text/plain": [
       "['in', '##ca']"
      ]
     },
     "execution_count": 677,
     "metadata": {},
     "output_type": "execute_result"
    }
   ],
   "source": [
    "tokenizer.tokenize('Incan')"
   ]
  },
  {
   "cell_type": "code",
   "execution_count": 690,
   "metadata": {},
   "outputs": [],
   "source": [
    "def find_hyperlinks(Q, fact_url):\n",
    "    req = urllib.request.Request(url, headers = {'User-Agent': random.choice(USER_AGENT_LIST)})\n",
    "    with urllib.request.urlopen(req) as f:\n",
    "        html = f.read().decode('utf-8')\n",
    "    end_indx = html.find('<h2><span class=\"mw-headline\" id=\"References\">References</span>')\n",
    "    html = html[:end_indx]\n",
    "    soup = BeautifulSoup(html, 'html.parser')\n",
    "    links = soup.find_all('a', attrs={'href': re.compile(\"^/wiki/(?!.*(:|\\(identifier\\))).*\")})\n",
    "    links_stand_out = set()\n",
    "    for link in links:\n",
    "        title = link.get('title')\n",
    "        text = link.text\n",
    "        if title is None or text is None: continue\n",
    "        if pylcs.lcs2(title.lower(), Q.lower())/len(title) > 0.5:\n",
    "            links_stand_out.add('https://en.wikipedia.org' + link.get('href'))\n",
    "            print(\"Q = \", Q)\n",
    "            print(\"title = \", title)\n",
    "        elif pylcs.lcs(title.lower(), text.lower())/len(text) < 0.85:\n",
    "            if pylcs.lcs2(text.lower(), Q.lower())/len(text) > 0.5:\n",
    "                print(\"Q = \", Q)\n",
    "                print(\"text = \", text)\n",
    "                links_stand_out.add('https://en.wikipedia.org' + link.get('href'))\n",
    "    return links_stand_out"
   ]
  },
  {
   "cell_type": "code",
   "execution_count": 717,
   "metadata": {},
   "outputs": [
    {
     "name": "stdout",
     "output_type": "stream",
     "text": [
      "['What', 'three', 'things', 'funerary', 'practices', 'people', 'Ra', 'physical', 'bodies', 'Khat', 'journey', 'underworld']\n"
     ]
    }
   ],
   "source": [
    "pos_list = ['NUM', 'NOUN', 'ADJ']\n",
    "Q = 'What are three things thought to be required funerary practices by the people that thought that like Ra, their physical bodies, or Khat, would reawaken after they completed their journey through the underworld?'\n",
    "keywords = [token.text for token in nlp(Q) if token.pos_ in pos_list or token.text[0].isupper()]\n",
    "print(keywords)"
   ]
  },
  {
   "cell_type": "code",
   "execution_count": 718,
   "metadata": {},
   "outputs": [
    {
     "name": "stdout",
     "output_type": "stream",
     "text": [
      "title =  Cavern deities of the underworld\n",
      "title =  Gate deities of the underworld\n",
      "title =  Ra\n",
      "title =  Eye of Ra\n",
      "title =  Ancient Egyptian funerary texts\n",
      "title =  Semitic people\n",
      "title =  Ancient Egyptian funerary practices\n",
      "title =  Ancient Egyptian funerary practices\n",
      "title =  Ancient Egyptian funerary practices\n",
      "title =  Ancient Egyptian funerary practices\n",
      "title =  Ra\n",
      "title =  Ancient Egyptian funerary texts\n",
      "text =  funerary boat\n"
     ]
    },
    {
     "data": {
      "text/plain": [
       "{'https://en.wikipedia.org/wiki/Ancient_Egyptian_funerary_practices#cite_note-25',\n",
       " 'https://en.wikipedia.org/wiki/Ancient_Egyptian_funerary_practices#cite_note-26',\n",
       " 'https://en.wikipedia.org/wiki/Ancient_Egyptian_funerary_practices#cite_note-27',\n",
       " 'https://en.wikipedia.org/wiki/Ancient_Egyptian_funerary_practices#cite_note-28',\n",
       " 'https://en.wikipedia.org/wiki/Ancient_Egyptian_funerary_texts',\n",
       " 'https://en.wikipedia.org/wiki/Cavern_deities_of_the_underworld',\n",
       " 'https://en.wikipedia.org/wiki/Eye_of_Ra',\n",
       " 'https://en.wikipedia.org/wiki/Gate_deities_of_the_underworld',\n",
       " 'https://en.wikipedia.org/wiki/Khufu_ship',\n",
       " 'https://en.wikipedia.org/wiki/Ra',\n",
       " 'https://en.wikipedia.org/wiki/Semitic_people'}"
      ]
     },
     "execution_count": 718,
     "metadata": {},
     "output_type": "execute_result"
    }
   ],
   "source": [
    "url = \"https://en.wikipedia.org/wiki/Egyptian_tombs\"\n",
    "Q = 'What are three things thought to be required funerary practices by the people that thought that like Ra, their physical bodies, or Khat, would reawaken after they completed their journey through the underworld?'\n",
    "req = urllib.request.Request(url, headers = {'User-Agent': random.choice(USER_AGENT_LIST)})\n",
    "if True:\n",
    "    with urllib.request.urlopen(req) as f:\n",
    "        html = f.read().decode('utf-8')\n",
    "    end_indx = html.find('<h2><span class=\"mw-headline\" id=\"References\">References</span>')\n",
    "    html = html[:end_indx]\n",
    "    soup = BeautifulSoup(html, 'html.parser')\n",
    "    links = soup.find_all('a', attrs={'href': re.compile(\"^/wiki/(?!.*(:|\\(identifier\\))).*\")})\n",
    "    links_stand_out = set()\n",
    "    for link in links:\n",
    "        title = link.get('title')\n",
    "        text = link.text\n",
    "        if title is None or text is None: continue\n",
    "        #print(link)\n",
    "        if any(b in keywords for b in title.split()):\n",
    "            links_stand_out.add('https://en.wikipedia.org' + link.get('href'))\n",
    "            print(\"title = \", title)\n",
    "        elif pylcs.lcs(title.lower(), text.lower())/len(text) < 0.85:\n",
    "            if any(b in keywords for b in text.split()):\n",
    "                print(\"text = \", text)\n",
    "                links_stand_out.add('https://en.wikipedia.org' + link.get('href'))\n",
    "        #if pylcs.lcs2(title.lower(), Q.lower())/len(title) > 0.5:\n",
    "            #links_stand_out.add('https://en.wikipedia.org' + link.get('href'))\n",
    "            #print(\"title = \", title)\n",
    "        #elif pylcs.lcs(title.lower(), text.lower())/len(text) < 0.85:\n",
    "            #if pylcs.lcs2(text.lower(), Q.lower())/len(text) > 0.5:\n",
    "                #print(\"text = \", text)\n",
    "                #links_stand_out.add('https://en.wikipedia.org' + link.get('href'))\n",
    "links_stand_out"
   ]
  },
  {
   "cell_type": "code",
   "execution_count": 705,
   "metadata": {},
   "outputs": [
    {
     "ename": "AttributeError",
     "evalue": "module 'wikipedia' has no attribute 'content'",
     "output_type": "error",
     "traceback": [
      "\u001b[0;31m---------------------------------------------------------------------------\u001b[0m",
      "\u001b[0;31mAttributeError\u001b[0m                            Traceback (most recent call last)",
      "\u001b[0;32m<ipython-input-705-f3b9bfe4b4e5>\u001b[0m in \u001b[0;36m<module>\u001b[0;34m()\u001b[0m\n\u001b[0;32m----> 1\u001b[0;31m \u001b[0mwikipedia\u001b[0m\u001b[0;34m.\u001b[0m\u001b[0mcontent\u001b[0m\u001b[0;34m(\u001b[0m\u001b[0;34m\"Ra\"\u001b[0m\u001b[0;34m,\u001b[0m \u001b[0msentences\u001b[0m\u001b[0;34m=\u001b[0m\u001b[0;36m2\u001b[0m\u001b[0;34m,\u001b[0m \u001b[0mauto_suggest\u001b[0m\u001b[0;34m=\u001b[0m\u001b[0;32mFalse\u001b[0m\u001b[0;34m,\u001b[0m \u001b[0mredirect\u001b[0m\u001b[0;34m=\u001b[0m\u001b[0;32mTrue\u001b[0m\u001b[0;34m)\u001b[0m\u001b[0;34m\u001b[0m\u001b[0;34m\u001b[0m\u001b[0m\n\u001b[0m",
      "\u001b[0;31mAttributeError\u001b[0m: module 'wikipedia' has no attribute 'content'"
     ]
    }
   ],
   "source": [
    "wikipedia.summary(\"Ra\", sentences=2, auto_suggest=False, redirect=True)"
   ]
  },
  {
   "cell_type": "code",
   "execution_count": 708,
   "metadata": {},
   "outputs": [
    {
     "data": {
      "text/plain": [
       "['The ancient Egyptians had an elaborate set of funerary practices that they believed were necessary to ensure their immortality after death. These rituals included mummifying the body, casting magic spells, and burials with specific grave goods thought to be needed in the afterlife.The ancient Egyptian burial process evolved over time as old customs were discarded and new ones adopted, but several important elements of the process persisted. Although specific details changed over time, the preparation of the body, the magic rituals, and grave goods were all essential parts of a proper Egyptian funeral.',\n",
       " '',\n",
       " '',\n",
       " '== History ==',\n",
       " '',\n",
       " \"Although no writing survived from the Predynastic Period in Egypt (c. 6000 – c. 3150 BCE), scholars believe the importance of the physical body and its preservation originated there. This likely explains why people of that time did not follow the common practice of cremation but rather buried the dead. Some also believe they may have feared the bodies would rise again if mistreated after death.Early bodies were buried in simple, shallow oval pits, with a few burial goods. Sometimes multiple people and animals were placed in the same grave. Over time, graves became more complex. At one point, bodies were placed in a wicker basket, but eventually bodies were places in wooden or terracotta coffins. The latest tombs Egyptians made were sarcophagi. These graves contained burial goods like jewellery, food, games and sharpened splint.Between the Predynastic Period and the Ptolemaic dynasty, there was a constant focus on eternal life and the certainty of personal existence beyond death. This belief in an afterlife is reflected in the burial of grave goods in tombs. The Egyptians' beliefs in an afterlife became known throughout the ancient world by way of trade and cultural transmission having an influence on other civilizations and religions. Notably, this belief became well known by way of the Silk Road. It was believed that individuals were admitted into the afterlife on the basis of being able to serve a purpose there. For example, the pharaoh was thought to be allowed into the afterlife because of his role as a ruler of Ancient Egypt, which would be a purpose translated into his afterlife. \",\n",
       " 'Human sacrifices found in early royal tombs reinforce the idea of serving a purpose in the afterlife. Those sacrificed were probably meant to serve the pharaoh in his afterlife. Eventually, figurines and wall paintings begin to replace human victims. Some of these figurines may have been created to resemble certain people, so they could follow the pharaoh after their lives ended.',\n",
       " \"Not only did the lower classes rely on the pharaoh's favor, but also the noble classes. They believed that when he died, the pharaoh became a sort of god who could bestow upon certain individuals the ability to have an afterlife. This belief existed from the predynastic period through the Old Kingdom.\",\n",
       " 'Although many spells from the predeceasing texts were carried over, the new Coffin Texts also had additional new spells added, along with slight changes made to make this new funerary text more relatable to the nobility. In the First Intermediate Period, however, the importance of the pharaoh declined. Funerary texts, previously restricted to royal use, became more widely available. The pharaoh was no longer a god-king in the sense that only he was allowed in the next life due to his status here, now he was merely the ruler of the population who upon his death would be leveled down towards the plane of the mortals.',\n",
       " '',\n",
       " '',\n",
       " '=== Prehistory, Earliest Burials ===',\n",
       " 'The first funerals in Egypt are known from the villages of Omari and Maadi in the north, near present-day Cairo. The people of these villages buried their dead in a simple, round grave with a pot. The body was neither treated nor arranged in a particular way which would change later in the historical period. Without any written evidence, there is little to provide information about contemporary beliefs concerning the afterlife except for the regular inclusion of a single pot in the grave. Given later customs, the pot was probably intended to hold food for the deceased.',\n",
       " '',\n",
       " '',\n",
       " '=== Predynastic Period, Development of Customs ===',\n",
       " \"Funerary customs were developed during the Predynastic period from those of the Prehistoric Period. At first, people excavated round graves with one pot in the Badarian Period (4400–3800 BC), continuing the tradition of Omari and Maadi cultures. By the end of the Predynastic period, there were increasing numbers of objects deposited with the body in rectangular graves, and there is growing evidence of rituals practiced by Egyptians of the Naqada II Period (3650–3300 BC). At this point, bodies were regularly arranged in a crouched or fetal position with the face toward either the east the rising sun or the west (which in this historical period was the land of the dead). Artists painted jars with funeral processions and perhaps ritual dancing. Figures of bare-breasted women with birdlike faces and their legs concealed under skirts also appeared. Some graves were much richer in goods than others, demonstrating the beginnings of social stratification. Gender differences in burial emerged with the inclusion of weapons in men's graves and cosmetic palettes in women's graves.By 3,600 BC, Egyptians had begun to mummify the dead, wrapping them in linen bandages with embalming oils (conifer resin and aromatic plant extracts).\",\n",
       " '',\n",
       " '',\n",
       " '=== Early Dynastic Period, Tombs and Coffins ===',\n",
       " 'By the First Dynasty, some Egyptians were wealthy enough to build tombs over their burials rather than placing their bodies in simple pit graves dug into the sand. The rectangular, mudbrick tomb with an underground burial chamber called a mastaba developed in this period. These tombs had niched walls, a style of building called the palace-façade motif because the walls imitated those surrounding the palace of the king. Since commoners as well as kings, however, had such tombs, the architecture suggests that in death, some wealthy people did achieve an elevated status. Later in the historical period, it is certain that the deceased was associated with the god of the dead, Osiris.',\n",
       " \"Grave goods expanded to include furniture, jewelry, and games as well as the weapons, cosmetic palettes, and food supplies in decorated jars known earlier, in the Predynastic period. Now, however, in the richest tombs, grave goods numbered in the thousands. Only the newly invented coffins for the body were made specifically for the tomb. There is also some inconclusive evidence for mummification. Other objects in the tombs that had been used during daily life suggest that Egyptians already in the First Dynasty anticipated needing in the next life. Further continuity from this life into the next can be found in the positioning of tombs: those persons who served the king during their lifetimes chose burials close to their lord. The use of stela in front of the tomb began in the First Dynasty, indicating a desire to individualize the tomb with the deceased's name.\",\n",
       " '',\n",
       " '',\n",
       " '=== Old Kingdom, Pyramids and Mummification ===',\n",
       " '',\n",
       " 'In the Old Kingdom, kings first built pyramids for their tombs surrounded by stone mastaba tombs for their high officials. The fact that most high officials were also royal relatives suggests another motivation for such placement: these complexes were also family cemeteries.',\n",
       " 'Among the elite, bodies were mummified, wrapped in linen bandages, sometimes covered with molded plaster, and placed in stone sarcophagi or plain wooden coffins. At the end of the Old Kingdom, mummy masks in cartonnage (linen soaked in plaster, modeled and painted) also appeared. Canopic jars now held their internal organs. Amulets of gold, faience, and carnelian first appeared in various shapes to protect different parts of the body. There is also the first evidence of inscriptions inside the coffins of the elite during the Old Kingdom. Often, reliefs of everyday items were etched onto the walls supplemented grave goods, which made them available through their representation.',\n",
       " 'The new false door was a non-functioning stone sculpture of a door, found either inside the chapel or on the outside of the mastaba; it served as a place to make offerings and recite prayers for the deceased. Statues of the deceased were now included in tombs and used for ritual purposes. Burial chambers of some private people received their first decorations in addition to the decoration of the chapels. At the end of the Old Kingdom, the burial chamber decorations depicted offerings, but not people.',\n",
       " '',\n",
       " '',\n",
       " '=== First Intermediate Period, Regional Variation ===',\n",
       " 'The political situation in the First Intermediate Period, with many centers of power, is reflected in the many local styles of art and burial at this time. The many regional styles for decorating coffins make their origins easy to distinguish from each other. For example, some coffins have one-line inscriptions, and many styles include the depiction of Wadjet eyes (the human eye with the markings of a falcon). There are also regional variations in the hieroglyphs used to decorate coffins.',\n",
       " \"Occasionally men had tools and weapons in their graves, while some women had jewelry and cosmetic objects such as mirrors. Grindstones were sometimes included in women's tombs, perhaps to be considered a tool for food preparation in the next world, just as the weapons in men's tombs imply men's assignment to a role in fighting.\",\n",
       " '',\n",
       " '',\n",
       " '=== Middle Kingdom, New Tomb Contents ===',\n",
       " '',\n",
       " \"Burial customs in the Middle Kingdom reflect some of the political trends of this period. During the Eleventh Dynasty, tombs were cut into the mountains of Thebes surrounding the king's tomb or in local cemeteries in Upper and Middle Egypt; Thebes was the native city of the Eleventh Dynasty kings, and they preferred to be buried there. But the Twelfth Dynasty, high officials served the kings of a new family now ruling from the north in Lisht; these kings and their high officials preferred burial in a mastaba near the pyramids belonging to their masters. Moreover, the difference in topography between Thebes and Lisht led to a difference in tomb type: in the north, nobles build mastaba tombs on the flat desert plains, while in the south, local dignitaries continued to excavate tombs in the mountain.\",\n",
       " 'For those of ranks lower than royal courtiers during the Eleventh Dynasty, tombs were simpler. Coffins could be simple wooden boxes with the body either mummified and wrapped in linen or simply wrapped without mummification, and the addition of a cartonnage mummy mask, a custom that continued until the Graeco-Roman period. Some tombs included wooded shoes and a simple statue near the body. In one burial there were only twelve loaves of bread, a leg of beef, and a jar of beer for food offerings. Jewelry could be included but only rarely were objects of great value found in non-elite graves. Some burials continued to include the wooden models that were popular during the First Intermediate Period. Wooden models of boats, scenes of food production, craftsmen and workshops, and professions such as scribes or soldiers have been found in the tombs of this period.',\n",
       " \"Some rectangular coffins of the Twelfth Dynasty have short inscriptions and representations of the most important offerings the deceased required. For men, the objects depicted were weapons and symbols of office as well as food. Women's coffins depicted mirrors, sandals, and jars containing food and drink. Some coffins included texts that were later versions of the royal Pyramid Texts.\",\n",
       " 'Another kind of faience model of the deceased as a mummy seems to anticipate the use of shabti figurines (also called shawabti or an ushabti) later in the Twelfth Dynasty. These early figurines do not have the text directing the figure to work in the place of the deceased that is found in later figurines. The richest people had stone figurines that seem to anticipate shabtis, though some scholars have seen them as mummy substitutes rather than servant figures.',\n",
       " 'In the later Twelfth Dynasty, significant changes occurred in burials, perhaps reflecting administrative changes enacted by King Senwosret III (1836–1818 BC). The body was now regularly placed on its back, rather than its side as had been done for thousands of years. Coffin texts and wooden models disappeared from new tombs of the period while heart scarabs and figurines shaped like mummies were now often included in burials, as they would be for the remainder of Egyptian history. Coffin decoration was simplified. The Thirteenth Dynasty saw another change in decoration. Different motifs were found in the north and south, a reflection of decentralized government power at the time. There was also a marked increase in the number of burials in one tomb, a rare occurrence in earlier periods. The reuse of one tomb by a family over generations seems to have occurred when wealth was more equitably spread.',\n",
       " '',\n",
       " '',\n",
       " '=== Second Intermediate Period, Foreigner Burials ===',\n",
       " \"Known graves from the Second Intermediate Period reveal the presence of non-Egyptians buried in the country. In the north, graves associated with the Hyksos, a western Semitic people ruling the north from the northeast delta, include small mudbrick structures containing the body, pottery vessels, a dagger in a men's graves and often a nearby donkey burial. Simple pan-shaped graves in various parts of the country are thought to belong to Nubian soldiers. Such graves reflect very ancient customs and feature shallow, round pits, bodies contracted and minimal food offerings in pots. The occasional inclusion of identifiable Egyptian materials from the Second Intermediate Period provides the only marks distinguishing these burials from those of Predynastic and even earlier periods.\",\n",
       " '',\n",
       " '',\n",
       " '=== New Kingdom, New Object Purposes ===',\n",
       " '',\n",
       " 'The majority of elite tombs in the New Kingdom were rock-cut chambers. Kings were buried in multi-roomed, rock-cut tombs in the Valley of the Kings and no longer in pyramids. Priests conducted funerary rituals for them in stone temples built on the west bank of the Nile opposite of Thebes. From the current evidence, the Eighteenth Dynasty appears to be the last period in which Egyptians regularly included multiple objects from their daily lives in their tombs; beginning in the Nineteenth Dynasty, tombs contained fewer items from daily life and included objects made especially for the next world. Thus, the change from the Eighteenth to the Nineteenth Dynasties formed a dividing line in burial traditions: the Eighteenth Dynasty more closely remembered the immediate past in its customs whereas the Nineteenth Dynasty anticipated the customs of the Late Period.',\n",
       " '',\n",
       " ' ',\n",
       " 'People of the elite ranks in the Eighteenth Dynasty placed furniture as well as clothing and other items in their tombs, objects they undoubtedly used during life on earth. Beds, headrests, chairs, stools, leather sandals, jewelry, musical instruments, and wooden storage chests were present in these tombs. While all of the objects listed were for the elite, many poor people did not put anything beyond weapons and cosmetics into their tombs.',\n",
       " 'No elite tombs survive unplundered from the Ramesside period. In this period, artists decorated tombs belonging to the elite with more scene of religious events, rather than the everyday scene that had been popular since the Old Kingdom. The funeral itself, the funerary meal with multiple relatives, the worshipping of the gods, even figures in the underworld were subjects in elite tomb decorations. The majority of objects found in the Ramesside period tombs were made for the afterlife. Aside from the jewelry, which could have been used also during life, objects in Ramesside tombs were manufactured for the next world.',\n",
       " '',\n",
       " '',\n",
       " '=== Third Intermediate Period ===',\n",
       " '',\n",
       " 'Although the political structure of the New Kingdom collapsed at the end of the Twentieth Dynasty, the majority of burials in the Twenty-first Dynasty directly reflect developments from the earlier period. At the beginning of this time, reliefs resembled those from the Ramesside period. Only at the very end of the Third Intermediate Period did new funerary practices of the Late Period begin to be seen.',\n",
       " 'Little is known of tombs from this period. The very lack of decorations in tombs seems to have led to much more elaborate decoration of coffins. The remaining grave goods of the period show fairly cheaply made shabtis, even when the owner was a queen or a princess.',\n",
       " '',\n",
       " '',\n",
       " '=== Late Period, Monumentality and Return to Traditions ===',\n",
       " 'Burials in the Late Period could make use of large-scale, temple-like tombs built for the non-royal elite for the first time. But the majority of tombs in this period were in shafts sunk into the desert floor. In addition to fine statuary and reliefs reflecting the style of the Old Kingdom, the majority of grave goods were specially made for the tomb. Coffins continued to bear religious texts and scenes. Some shafts were personalized by the use of stela with the deceased prayers and name on it. Shabtis in faience for all classes are known. Canopic jars, though often nonfunctional, continued to be included. Staves and scepters representing the deceased\\'s office in life were often present as well. A wooden figure of either the god Osiris or of the composite deity Ptah-Sokar-Osiris could be found, along with heart scarabs, both gold and faience examples of djed-columns, Eye of Horus amulets, figures of gods, and images of the deceased\\'s ba. Tools for the tomb\\'s ritual called the \"opening of the mouth\" as well as \"magical bricks\" at the four compass points could be included.',\n",
       " '',\n",
       " '',\n",
       " '=== Ptolemaic Period, Hellenistic Influences ===',\n",
       " \"Following Egypt's conquest by Alexander the Great, the country was ruled by the descendants of Ptolemy, one of his generals. The Macedonian Greek family fostered a culture that promoted both Hellenistic and ancient Egyptian ways of life: while many Greek-speaking people living in Alexandria followed the customs of mainland Greece, others adopted Egyptian customs, while Egyptians continued to follow their own already ancient customs.\",\n",
       " 'Very few Ptolemaic tombs are known. Fine temple statuary of the period suggests the possibility of tomb sculpture and offering tables. Egyptian elite burials still made use of stone sarcophagi. Books of the Dead and amulets were also still popular.',\n",
       " '',\n",
       " '',\n",
       " '=== Roman Period, Roman Influences ===',\n",
       " '',\n",
       " 'The Romans conquered Egypt in 30 BC, ending the rule of the last and most famous member of the Ptolemaic dynasty, Cleopatra VII. During Roman rule, an elite hybrid burial style developed incorporating both Egyptian and Roman elements.',\n",
       " 'Some people were mummified and wrapped in linen bandages. The front of the mummy was often painted with a selection of traditional Egyptian symbols. Mummy masks in either traditional Egyptian style or Roman style could be added to the mummies. Another possibility was a Roman-style mummy portrait, executed in encaustic (pigment suspended in wax) on a wooden panel. Sometimes the feet of the mummy was covered. An alternative to this was a complete shroud with Egyptian motifs but a portrait in the Roman style. Tombs of the elite could also include fine jewelry.',\n",
       " '',\n",
       " '',\n",
       " '== Funerary rituals ==',\n",
       " '',\n",
       " \"Greek historians Herodotus (5th century BC) and Diodorus Siculus (1st century BC) provide the most complete surviving evidence of how ancient Egyptians approached the preservation of a dead body. Before embalming, or preserving the dead body as to delay or prevent decay, mourners, especially if the deceased had high status, covered their faces with mud, and paraded around town while beating their chests. If the wife of a high-status male died, her body was not embalmed until three or four days have passed, because this prevented abuse of the corpse. In the case that someone drowned or was attacked, embalming was carried out immediately on their body, in a sacred and careful manner. This kind of death was viewed as venerated, and only priests were permitted to touch the body.After embalming, the mourners may have carried out a ritual involving an enactment of judgement during the Hour Vigil, with volunteers to play the role of Osiris and his enemy brother Set, as well as the gods Isis, Nephthys, Horus, Anubis, and Thoth. As the tale goes, Set was envious of his brother Osiris for being granted the throne before him, so he plotted to kill him. Osiris's wife, Isis, battled back and forth with Set to gain possession of Osiris's body, and through this struggle, Osiris's spirit was lost. Nonetheless, Osiris resurrected and was reinstated as a god. In addition to the reenactment of the judgement of Osiris, numerous funeral processions were conducted throughout the nearby necropolis, which symbolized different sacred journeys.The funeral procession to the tomb generally included cattle pulling the body in a sledge-type of carrier, with friends and family to follow. During the procession, the priest burned incense and poured milk before the dead body. Upon arrival to the tomb, and essentially the next life, the priest performed the Opening of the mouth ceremony on the deceased. The deceased's head was turned towards the south, and the body was imagined to be a statue replica of the deceased. Opening the mouth of the deceased symbolized allowing the person to speak and defend themselves during the judgement process. Goods were then offered to the deceased to conclude the ceremony.\",\n",
       " '',\n",
       " '',\n",
       " '== Mummification ==',\n",
       " '',\n",
       " '',\n",
       " '=== Embalming ===',\n",
       " 'The preservation of a dead body was critical if the deceased wanted a chance at acceptance into the afterlife. Within the Ancient Egyptian concept of the soul, ka, which represented vitality, leaves the body once the person dies. Only if the body is embalmed in a specific fashion will ka return to the deceased body, and rebirth will take place. The embalmers received the body after death, and in a systematized manner, prepared it for mummification. The family and friends of the deceased had a choice of options that ranged in price for the preparation of the body, similar to the process at modern funeral homes. Next, the embalmers escorted the body to ibw, translated to “place of purification,” a tent in which the body was washed, and then per nefer, “the House of Beauty,” where mummification took place.',\n",
       " '',\n",
       " '',\n",
       " '=== Mummification process ===',\n",
       " '',\n",
       " 'In order to live for all eternity and be presented in front of Osiris, the body of the deceased had to be preserved by mummification, so that the soul could reunite with it, and take pleasure in the afterlife. The main process of mummification was preserving the body by dehydrating it using natron, a natural salt found in Wadi Natrun. The body was drained of any liquids and left with the skin, hair and muscles preserved. The mummification process is said to have taken up to seventy days. During this process, special priests worked as embalmers as they treated and wrapped the body of the deceased in preparation for burial. ',\n",
       " 'The process of mummification was available for anyone who could afford it. It was believed that even those who could not afford this process could still enjoy the afterlife with the right reciting of spells. Mummification existed in three different processes, ranging from most expensive, moderately expensive, and most simplistic, or cheapest. The most classic, common, and most expensive method of mummification dates back to the 18th Dynasty. The first step was to remove the internal organs and liquid so that the body would not decay. After being laid out on a table, the embalmers took out the brain through a process named excerebration by inserting a metal hook through the nostril, breaking through it into the brain. They removed as much as they could with the hook, and the rest they liquefied with drugs and drained out. They threw out the brain because they thought that the heart did all the thinking. The next step was to remove the internal organs, the lungs, liver, stomach, and intestines, and place them in canopic jars with lids shaped like the heads of the protective deities, the four sons of Horus: Imsety, Hapy, Duamutef, and Qebhseneuf. Imsety was human-headed, and guarded the liver; Hapy was ape-headed, and guarded the lungs; Duamutef was jackal-headed, and guarded the stomach; Qebhseneuf was hawk-headed, and guarded the small and large intestines.[25] Sometimes the four canopic jars were placed into a canopic chest, and buried with the mummified body. A canopic chest resembled a \"miniature coffin\" and was intricately painted. The Ancient Egyptians believed that by burying the deceased with their organs, they may rejoin with them in the afterlife.[26] Other times, the organs were cleaned and cleansed, and then returned into the body. The body cavity was then rinsed and cleaned with wine and an array of spices. The body was sewn up with aromatic plants and spices left inside. The heart stayed in the body, because in the hall of judgement, it would be weighed against the feather of Maat. After the body was washed with wine, it was stuffed with bags of natron. The dehydration process took 40 days.[27]',\n",
       " '',\n",
       " \"The second part of the process took 30 days. This was the time where the deceased turned into a semi divine being, and all that was left in the body from the first part was removed, followed by applying first wine and then oils. The oils were for ritual purposes, as well as for preventing the limbs and bones from breaking while being wrapped. The body was sometimes colored with a golden resin, which protected the body from bacteria and insects. Additionally, this practice was based on the belief that divine beings had flesh of gold. Next, the body was wrapped in linen cut into strips with amulets while a priest recited prayers and burned incense. The linen was adhered to the body using gum, opposed to a glue. The dressing provided the body physical protection from the elements, and depending on how wealthy the deceased's family was, the deceased could be dressed with an ornamented funeral mask and shroud. Special care was given to the head, hands, feet, and genitals, as contemporary mummies reveal extra wrappings and paddings in these areas. Mummies were identified via small, wooden name-tags tied typically around the deceased's neck. The 70-day process is connected to Osiris and the length the star Sothis was absent from the sky.[28]The second, moderately expensive option for mummification did not involve an incision into the abdominal cavity or the removal of the internal organs. Instead, the embalmers injected the oil of a cedar tree into the body, which prevented liquid from leaving the body. The body was then laid in natron for a specific number of days. The oil was then drained out of the body, and with it came the internal organs, the stomach and the intestines, which were liquefied by the cedar oil. The flesh dissolved in the natron, which left only skin and bones left of the deceased body. The remains are given back to the family. The cheapest, most basic method of mummification, which was often chosen by the poor, involved purging out the deceased's internal organs, and then laying the body in natron for 70 days. The body was then given back to the family.\",\n",
       " '',\n",
       " '',\n",
       " '=== Animal mummification ===',\n",
       " '',\n",
       " 'Animals were mummified in Ancient Egypt for many reasons. Household pets that held a special important to their owners were buried alongside them. However, animals were not only viewed as pets but as incarnations of the gods. Therefore, these animals were buried to honor ancient Egyptian deities. Some animal mummifications were performed to serve as sacred offerings to the gods who often took the form of animals such as cats, frogs, cows, baboons, and vultures. Other animals were mummified with the intention of being a food offering to humans in the afterlife. Additionally, household pets that held a special important to their owners were buried alongside them. ',\n",
       " '',\n",
       " 'Several kinds of animal remains have been discovered in tombs all around Dayr al-Barsha, a Coptic village in Middle Egypt. The remains found in the shafts and burial chambers included dogs, foxes, eagle owls, bats, rodents, and snakes. These were determined to be individuals that had entered the deposits by accident. Other animal remains that were found were more common and recurred more than those individuals that wound up accidentally trapped in these tombs. These remains included numerous gazelle and cattle bones, as well as calves and goats which were believed to have been in result of human behavior. This was due to finding that some remains had fragments altered, missing, or separated from their original skeletons. These remains also had traces of paint and cut marks on them, seen especially with cattle skulls and feet. Based on this, the natural environment of the Dayr al-Barsha tombs, and the fact that only some parts of these animals were found, the possibility of natural deposition can be ruled out, and the cause of these remains in fact are most likely caused by animal sacrifices, as only the head, foreleg, and feet were apparently selected for deposition within the tombs. According to a study by Christopher Eyre, cattle meat was actually not a part of the daily diet in Ancient Egypt, as the consumption of meat only took place during celebrations including funerary and mortuary rituals, and the practice of providing the deceased with offerings of cattle going back to the Predynastic Period.',\n",
       " '',\n",
       " '',\n",
       " '== Burial rituals ==',\n",
       " '',\n",
       " \"After the mummy was prepared, it would need to be re-animated, symbolically, by a priest. The opening of the mouth ceremony was conducted by a priest who would utter a spell and touch the mummy or sarcophagus with a ceremonial adze – a copper or stone blade. This ceremony ensured that the mummy could breathe and speak in the afterlife. In a similar fashion, the priest could utter spells to reanimate the mummy's arms, legs, and other body parts.\",\n",
       " \"The priests, maybe even the king's successor, proceeded to move the body through the causeway to the mortuary temple. This is where prayers were recited, incense was burned, and more rituals were performed to help prepare the king for his final journey. The king's mummy was then placed inside the pyramid along with enormous amount of food, drink, furniture, clothes, and jewelry which were to be used in the afterlife. The pyramid was sealed so that no one would ever enter it again. However, the king's soul could move through the burial chamber as it wished. After the funeral the king becomes a god and could be worshipped in the temples beside his pyramid.In ancient times Egyptians were buried directly in the ground. Since the weather was so hot and dry, it was easy for the bodies to remain preserved. Usually the bodies would be buried in the fetal position. Ancient Egyptians believed the burial process to be an important part in sending humans to a comfortable afterlife. The Egyptians believed that, after death, the deceased could still have such feelings of anger, or hold a grudge as the living. The deceased were also expected to support and help their living family. They believed that the Ba and Ka are what enabled the dead to support their family. The Ba made it possible for an invisible twin to be released from the body to support the family, while the Ka would recognize the twin when it would come back to the body. With the ideas of the dead being so valuable, it is clear why the Egyptians treated the deceased with respect. The less fortunate Egyptians still wanted their family members to be given a proper burial. A typical burial would be held in the desert where the family would wrap the body in a cloth and bury it with everyday objects for the dead to be comfortable. Although some could afford mummification, most commoners were not mummified due to the expense. Often the poor are found in mass graves where their bodies are not mummified and only with minimal household objects, spread out throughout the desert, often in areas that are now populated.\",\n",
       " '',\n",
       " '',\n",
       " '== Tombs ==',\n",
       " '',\n",
       " 'The tomb was the housing for the deceased and served two crucial functions: the tomb provided infinite protection for the deceased to rest, as well as a place for mourners to perform rituals in which aided the deceased into eternal life. Therefore, the ancient Egyptians were very serious about the way in which the tombs were built. Two hallmarks of the tomb included: a burial chamber, which housed the physical body of the deceased (inside a coffin) as well as funerary objects deemed most important, and a \"cult place,\" which resembled a chapel where mourners, family, and friends could congregate. The tomb of a king included a full temple, instead of a chapel.Typically, the tomb of a deceased person was located somewhere close by their home community. The ancient Egyptians opted to bury the deceased in land that was not particularly fertile or useful for vegetation. Therefore, tombs were mostly built in desert areas. Tombs were usually built near each other and rarely stood alone. For a deceased king, however, the tomb was located in a place of utmost sacredness.In the Prehistoric Egypt, bodies were buried in deserts because they would naturally be preserved by dehydration. The \"graves\" were small oval or rectangular pits dug in the sand. They could give the body of the deceased in a tight position on its left side alongside a few jars of food and drink and slate palettes with magical religious spells. The size of graves eventually increased according to status and wealth. The dry, desert conditions were a benefit in ancient Egypt for burials of the poor, who could not afford the complex burial preparations that the wealthy had.',\n",
       " 'The simple graves evolved into mudbrick structures called mastabas. Royal mastabas later developed into step pyramids and then \"true pyramids.\" As soon as a king took the throne he would start to build his pyramid. Rituals of the burial, including the \"Opening of the mouth ceremony\" took place at the Valley Temple. While a pyramid\\'s large size was made to protect against robbery, it may also be connected to a religious belief about the sun god, Ra.A majority of cemeteries were located on the west bank of the Nile, which was metaphorically viewed as \"the realm of the dead.\" The tomb was said to represent the deceased\\'s place in the cosmos, which ultimately depended on the social class of the deceased. If the deceased was of a notably high-class, they were buried near the king, whereas middle and lower class individuals were simply buried near the communities in which they had lived. In many cases, the tombs of the high-class were situated in accordance with the tombs of the lower classes so that they would be viewed as a \"focal point.\" For example, one burial site was designed so that the tombs of the governors were placed alongside the slope of a hill, whereas the tombs of the governor\\'s attendants were placed at the foot of the hill.',\n",
       " '',\n",
       " '',\n",
       " '== Coffins ==',\n",
       " '',\n",
       " \"After having been preserved, the mummy was placed into a coffin. Although the coffins that housed the deceased bodies were made simply of wood, they were intricately painted and designed to suit each individual. During the Old Kingdom, the following was included on each coffin: the title of the deceased, a list of offerings, a false compartment through which ka could pass through, and painted eyes so that the deceased could look through the coffin. The decorations on the coffin usually fit the deceased's status.\",\n",
       " 'During the Middle Kingdom, the coffin was treated as if it were a \"miniature tomb\" and was painted and inscribed like so. Goddesses Isis and Nephthys were painted on the coffins, and were said to guard the deceased in the afterlife. Along the sides of the coffins, the four sons of Horus were painted, amongst other gods. Prayers were often inscribed on the coffins as well.Anthropoid coffins soon emerged, which were tailored to the contour of the deceased\\'s body. The deceased\\'s face and hair was painted onto the coffin so to personalize it further. A sarcophagus, which is a large, stone container, was used to house the coffin, and provide supplementary protection to the dead body. The Ancient Egyptians translated the word \"sarcophagus\" to mean \"possessor of life,\" and therefore, the sarcophagus would aid the deceased into the afterlife.',\n",
       " '',\n",
       " '',\n",
       " '== Damnation ==',\n",
       " 'One of the funerary practices followed by the Egyptians was preparing properly for the afterlife. Ka, the vital force within the Ancient Egyptian concept of the soul, would not return to the deceased body if embalming was not carried out in the proper fashion. In this case, the body decayed, and possibly became unrecognizable, which rendered the afterlife unattainable for the deceased person. If the proper precautions were not taken, damnation would occur. Damnation meant that Egyptians would not experience the glories of the afterlife where they became a deified figure and would be welcomed by the Gods. Instead, damnation was depicted in the books of the underworld. It was a place of opposites; chaos, fire, and struggle. Different pages of the books of the underworld depict different perspectives of what happens during damnation. It discusses cutting out humanity and individuality from the person and reversing the cosmic order.',\n",
       " '',\n",
       " '',\n",
       " '== Judgement ==',\n",
       " 'The idea of judgement went as follows: in order to be considered for the admittance into the afterlife, those who died were obligated to undergo a multi-step judgement by certain gods. The concept and belief in judgement is outlined in the Book of the Dead, a funerary text of the New Kingdom. The Book of the Dead is composed of spells relating to the deceased and the afterlife. Spell 125, in particular, is understood to be delivered by the deceased at the outset of the judgement process.',\n",
       " '',\n",
       " 'The visual picture of what judgement looks like has been discovered through ancient Egyptian ruins and artefacts. The procedure was depicted as follows: the deceased\\'s heart was weighed in comparison to the feather of Maat, while Ammit awaited to eat the heart (if the deceased was found to be a sinner). Osiris was the judge (among others), and represented an ideal output of the judgement process for the deceased who entered his judgement hall. This is because he resurrected and regained his godly status after he was justified against his brother Set, who wrongly murdered him. The deceased pleaded to Osiris that they had not committed sin, which is known as a \"negative confession.\" The forty-two Assessors of Maat judged how virtuous the life of the deceased was, and this represented the principal element of the deceased entering the afterlife. After passing judgement, the family and friends of the deceased celebrated them and boasted about their righteousness to attain entry into the afterlife.',\n",
       " '',\n",
       " '',\n",
       " '== Funerary texts ==',\n",
       " '',\n",
       " 'Many mummies were provided with some form of funerary literature to take with them to the afterlife. Most funerary literature consists of lists of spells and instructions for navigating the afterlife. During the Old Kingdom, only the pharaoh had access to this material, which scholars refer to as the Pyramid Texts. The Pyramid Texts are a collection of spells to assure the royal resurrection and protect the pharaoh from various malignant influences. The Pharaoh Unas was the first to use this collection of spells, as he and a few subsequent pharaohs had them carved on the walls of their pyramids. These texts were individually chosen from a larger bank of spells.',\n",
       " 'In the First Intermediate Period and in the Middle Kingdom, some of the Pyramid Text spells also are found in burial chambers of high officials and on many coffins, where they begin to evolve into what scholars call the Coffin Texts. In this period, the nobles and many non-royal Egyptians began to have access to funerary literature. Although many spells from the earlier texts were carried over, the new coffin texts also had additional spells, along with slight changes made to make this new funerary text more fit for the nobility.In the New Kingdom, the Coffin Texts became the Book of the Dead, or the Funeral Papyri, and would last through the Late Kingdom. The text in these books was divided according to chapters/ spells, which were almost two-hundred in number. Each one of these texts was individualized for the deceased, though to varying degrees. If the person was rich enough, then they could commission their own personal version of the text that would include only the spells that they wanted. However, if one was not so wealthy, then one had to make do with the pre-made versions that had spaces left for the name of the deceased.',\n",
       " 'If the scribe ran out of room while doing the transcription, he would just stop the spell wherever he was and would not continue. It is not until the Twenty-sixth Dynasty that there began to be any regulation of the order or even the number of spells that were to be included in the Book of the Dead.',\n",
       " 'At this time, the regulation is set at 192 spells to be placed in the book, with certain ones holding the same place at all times. This makes it seem as if the order of the texts was not what was important, so the person could place them in an order that he was comfortable with, but rather that it was what was written that mattered.',\n",
       " '',\n",
       " '',\n",
       " '== Burial goods ==',\n",
       " ' ',\n",
       " 'Although the types of burial goods changed throughout ancient Egyptian history, their purpose to protect the deceased and provide sustenance in the afterlife remained.',\n",
       " 'From the earliest periods of Egyptian history, all Egyptians were buried with at least some goods that they thought were necessary after death. At a minimum, these consisted of everyday objects such as bowls, combs, and other trinkets, along with food. Wealthier Egyptians could afford to be buried with jewelry, furniture, and other valuables, which made them targets of tomb robbers. In the early Dynastic Period, tombs were filled with daily life objects, such as furniture, jewelry and other valuables. They also contained many stone and pottery vessels. One important factor in the development of Ancient Egyptian tombs was the need of storage space for funerary goods. ',\n",
       " 'As burial customs developed in the Old Kingdom, wealthy citizens were buried in wooden or stone coffins. However, the number of burial goods declined. They were often just a set of copper models, tools and vessels. Starting in the First Intermediate period, wooden models became very popular burial goods. These wooden models often depict everyday activities that the deceased expected to continue doing in the afterlife. Also, a type of rectangular coffin became the standard, being brightly painted and often including an offering formula. Objects of daily use were not often included in the tombs during this period.',\n",
       " '',\n",
       " 'At the end of the Middle Kingdom, new object types were introduced into burials, such as the first shabtis and the first heart scarabs. Shabtis were little clay statues made to perform tasks on command for the pharaoh. Now objects of daily use appear in tombs again, often magical items already employed for protecting the living. Scarabs (beetles) collect animal dung and roll it into little balls. To the Egyptians, these balls looked like the life-giving Sun, so they hoped that scarabs would bring them long life. Scarabs have been found in tombs and graves.In the New Kingdom, some of the old burial customs changed. For example, an anthropoid coffin shape became standardized, and the deceased were provided with a small shabti statue, which the Egyptians believed would perform work for them in the afterlife. Elite burials were often filled with objects of daily use. Under Ramesses II and later all daily life objects disappear from tombs. They most often only contained a selection of items especially made for the burial. Also, in later burials, the numbers of shabti statues increased; in some burials, numbering more than four hundred statues. In addition to these shabti statues, the deceased could be buried with many different types of magical figurines to protect them from harm.',\n",
       " '',\n",
       " '',\n",
       " '== Funerary boats ==',\n",
       " '',\n",
       " \"Funerary boats were a part of some ancient Egyptian burials. Boats played a major role in Egyptian religion because they were conceived as the main means by which the gods traveled across the sky and through to the netherworld. One type of boat used at funerals was for making pilgrimages to holy sites such as Abydos. A large funerary boat, for example, was found near the pyramid of the Old Kingdom Pharaoh Khufu. The funerary boats were usually made of wood; the Egyptians used a collection of papyrus reeds and tied them together with the wood very tightly. The most common route for funerary boats was the River Nile to the afterlife. The boat carried the coffin and often had a dog in the boat since they believed a dog would lead the deceased to the afterlife. The boats usually measured about 20 feet or longer. These however did not match those of the great pharaohs like Pharaoh Khufu (who built the Great Pyramid). His funerary boat was approximately 144 foot long with 12 oars. Common funerary boats were smaller sized with few oars.At the Ure Museum, there is an Egyptian funerary boat on display that represents a typical tomb offering. This boat symbolizes the transport of the dead from life to the afterlife. In Ancient Egypt death was seen as a boat journey. More specifically, it was seen as a trip across their River Nile that joined the North and South. This funerary boat offering was added to the museum's collection in 1923 from the Liverpool Institute of Archaeology from the Tomb of the Officials at Beni Hassan.\",\n",
       " '',\n",
       " '',\n",
       " '== The study of ancient Egyptian mummies today ==',\n",
       " '',\n",
       " 'Through the study of mummies themselves in addition to ancient writers and modern scientists, a better understanding of the Ancient Egyptian mummification process is promoted. The majority of what is known to be true about the mummification process is based on the writing of early historians who carefully recorded the processes-- one of which was Herodotus. Now, modern day archaeologists are using the writings of early historians as a basis for their study. The advancement of new technology including x-rays has allowed for the analysis of mummies without destroying the elaborate outer wrappings of the body. In addition to the use of x-rays, autopsies are also being performed in order to gain a better understanding of the diseases suffered by Ancient Egyptians as well as the treatments used for these diseases. A pregnant mummy sheds light on pregnancy complications and prenatal care and treatments. In learning their age of death, experts are able to create a timeline of the dates regarding the ruling of Egyptian kings. In looking at the bones of the mummified bodies, experts get a better idea of the average height and life span. Studying Ancient Egyptian Mummies, archaeologists are able to learn about the past. ',\n",
       " '',\n",
       " '',\n",
       " '== Depictions in modern culture ==',\n",
       " 'Bolesław Prus, Pharaoh (1895), depicts the whole process of mummification and funeral at the fall of the 20th Dynasty and New Kingdom.',\n",
       " '',\n",
       " '',\n",
       " '== See also ==',\n",
       " '',\n",
       " 'Ancient Egyptian afterlife beliefs',\n",
       " 'Egyptian mummies',\n",
       " '',\n",
       " '',\n",
       " '== References ==',\n",
       " '',\n",
       " 'Allen, James P. (2000). Middle Egyptian: An Introduction to the Language and Culture of Hieroglyphs. Cambridge University Press. pp. 315. ISBN 0521774837.',\n",
       " 'David, Rosalie (2002). Religion and Magic in Ancient Egypt. Penguin. p. 93. ISBN 0140262520.',\n",
       " 'David, Rosalie. \"Journey through the afterlife\". Elsevier Ltd. 377.9759 (2011): pp. 20. Web. 10 May. 2012.',\n",
       " '\"The History Place—Mummies: Death and the Afterlife in Ancient Egypt\". 7 May 2012.<https://web.archive.org/web/20190213212925/http://www.historyplace.com/specials/slideshows/mummies/index.html>. British Museum; Bowers Museum.',\n",
       " 'Hornung, Erik (1999). The Ancient Egyptian Books of the Afterlife. Translated by David Lorton. Cornell University Press. ISBN 0801485150.',\n",
       " 'James, T.G.H. (2005). The British Museum Concise Introduction to Ancient Egypt. Ann Arbor, Michigan: University of Michigan Press. pp 122. ISBN 0-472-03137-6.',\n",
       " 'Kamrin, Janice; Ikram, Salima. \"The Ancient Egyptian View Of The AFTERLIFE.\" Calliope 17.1 (2006): pp. 10–11. MasterFILE\\tPremier. Web. 7 May 2012.',\n",
       " 'Lesko, Leonard H. \"Religion And The Afterlife.\" Calliope 12.1 (2001): pp. 4–5. MasterFILE Premier. Web. 8 May 2012. \"Mummies – Death and the Afterlife in Ancient Egypt.\"',\n",
       " 'Taylor, John (2001). Death and the Afterlife in Ancient Egypt. University of Chicago Press.pp. 187–193. ISBN 0226791645.',\n",
       " 'Grajetzki, Wolfram ?92003). Burial Customs in Ancient Egypt: Life in Death for Rich and Poor. London: Duckworth ISBN 0-7156-3217-5.',\n",
       " 'ROBERSON, JOSHUA AARON. \"A SEASON IN HELL\". Expedition 57, no. 2 (Fall 2015): 17-23. Academic Search Complete, EBSCOhost (accessed September 20, 2017)',\n",
       " '“The Book of the Dead Was Egyptians’ inside Guide to the Underworld.” Nationalgeographic.Com, 14 Mar. 2019, www.nationalgeographic.com/history/magazine/2016/01-02/egypt-book-of-the-dead/.',\n",
       " 'Mark, Joshua J. “Ancient Egyptian Burial”. World History Encyclopedia, 19 Jan. 2013.',\n",
       " '“Egyptian Mummies.” Smithsonian Institution, www.si.edu/spotlight/ancient-egypt/mummies#:~:text=The%20methods%20of%20embalming%2C%20or.',\n",
       " 'Pruitt, Sarah. “Scientists Reveal Inside Story of Ancient Egyptian Animal Mummies.” HISTORY, 30 Aug. 2018, www.history.com/news/scientists-reveal-inside-story-of-ancient-egyptian-animal-mummies.',\n",
       " '“Egyptian Animals Were Mummified Same Way as Humans.” Nationalgeographic.Com, 15 Sept. 2004, www.nationalgeographic.com/science/2004/09/news-egyptian-animals-mummies-archaeology/#close. Accessed 15 Oct. 2020.',\n",
       " '“BBC - A History of the World - Object\\u202f: Egyptian Funerary Boat.” Www.Bbc.Co.Uk, www.bbc.co.uk/ahistoryoftheworld/objects/-q-160iURT694-i0Eo5b8Q#:~:text=The%20Egyptian%20funerary%20boat%20on. Accessed 15 Oct. 2020.\\u200c',\n",
       " '“Artifacts: Grave Goods, Mummification, Online Exhibits, Exhibits, Spurlock Museum, U of I.” Illinois.Edu, 2020, www.spurlock.illinois.edu/exhibits/online/mummification/artifacts3.html.',\n",
       " '',\n",
       " '',\n",
       " '== External links ==',\n",
       " 'Digital Egypt page on burial customs',\n",
       " 'Egyptian mummification',\n",
       " 'A Virtual Kelvingrove in Internet Archaeology']"
      ]
     },
     "execution_count": 708,
     "metadata": {},
     "output_type": "execute_result"
    }
   ],
   "source": [
    "wikipedia.page(\"Egyptian tombs\", auto_suggest=False, redirect=True).content.split('\\n')"
   ]
  },
  {
   "cell_type": "code",
   "execution_count": 619,
   "metadata": {},
   "outputs": [
    {
     "name": "stdout",
     "output_type": "stream",
     "text": [
      "19\n",
      "22\n"
     ]
    }
   ],
   "source": [
    "print(pylcs.lcs(\"Ionian School (music)\", \"Ionian School of music\"))\n",
    "print(len(\"Ionian School of music\"))"
   ]
  },
  {
   "cell_type": "code",
   "execution_count": 599,
   "metadata": {
    "scrolled": false
   },
   "outputs": [
    {
     "name": "stdout",
     "output_type": "stream",
     "text": [
      "15\n",
      " --------------------------------------------------------------- \n",
      "//upload.wikimedia.org/wikipedia/commons/thumb/a/ad/Eucalyptus_tereticornis_-_full_tree.jpg/220px-Eucalyptus_tereticornis_-_full_tree.jpg\n",
      "parent<tr>:  \n",
      "\n",
      "\n",
      "<p>:  Eucalyptus tereticornis, commonly known as forest red gum, blue gum or red irongum,[2] is a species of tree that is native to eastern Australia and southern New Guinea. It has smooth bark, lance-shaped to curved adult leaves, flower buds in groups of seven, nine or eleven, white flowers and hemispherical fruit.\n",
      "\n",
      "prev<th>:  Forest red gum, blue gum, red irongum\n",
      "\n",
      "prev<p>:  \n",
      "\n",
      " --------------------------------------------------------------- \n",
      "//upload.wikimedia.org/wikipedia/commons/thumb/f/f4/Eucalyptus_terticornis_trees.jpg/220px-Eucalyptus_terticornis_trees.jpg\n",
      "parent thumbinner<div>:   E. tereticornis trees\n"
     ]
    }
   ],
   "source": [
    "### Scrap imgs and their captions. \n",
    "url = 'https://en.wikipedia.org/wiki/Forest_Red_Gum'\n",
    "req = urllib.request.Request(url, headers = {'User-Agent': random.choice(USER_AGENT_LIST)})\n",
    "with urllib.request.urlopen(req) as f:\n",
    "    html = f.read().decode('utf-8')\n",
    "end_indx = html.find('<h2><span class=\"mw-headline\" id=\"References\">References</span>')\n",
    "html = html[:end_indx]\n",
    "soup = BeautifulSoup(html, 'html.parser')\n",
    "#links = soup.find_all('img', {'src':re.compile('.jpg|.png')})\n",
    "links = soup.find_all('img')\n",
    "print(len(links))\n",
    "for l in links:\n",
    "    imgUrl = l.get('src')\n",
    "    #if \"http\" not in imgUrl: imgUrl = \"https://\" + url.split(\"/\")[2] + imgUrl\n",
    "    if int(l['width'])<100 or int(l['height'])<100:\n",
    "        continue\n",
    "    if any(b in imgUrl.lower() for b in url_blocklist): \n",
    "        continue\n",
    "    print(\" --------------------------------------------------------------- \")\n",
    "    print(imgUrl)\n",
    "    \n",
    "    # Special case for thumb images, which are located inside a table\n",
    "    thumbinner_div = l.find_parent(\"div\", class_='thumbinner')\n",
    "    if thumbinner_div: \n",
    "        print(\"parent thumbinner<div>: \", thumbinner_div.text)\n",
    "        continue\n",
    "        \n",
    "    tr_parent = l.find_parent('tr')\n",
    "    if tr_parent: print(\"parent<tr>: \", tr_parent.text)\n",
    "        \n",
    "    next_p = l.find_next('p')\n",
    "    if next_p: print(\"<p>: \", next_p.text)\n",
    "                \n",
    "    prev_th = l.find_previous('th')\n",
    "    if prev_th: print(\"prev<th>: \", prev_th.text)\n",
    "    \n",
    "    prev_p = l.find_previous('p')\n",
    "    if prev_p: print(\"prev<p>: \", prev_p.text)\n"
   ]
  },
  {
   "cell_type": "code",
   "execution_count": 597,
   "metadata": {},
   "outputs": [
    {
     "data": {
      "text/plain": [
       "'<h2><span cla'"
      ]
     },
     "execution_count": 597,
     "metadata": {},
     "output_type": "execute_result"
    }
   ],
   "source": [
    "#html.find('<h2><span class=\"mw-headline\" id=\"References\">References</span>')\n",
    "html[106916:106929]"
   ]
  },
  {
   "cell_type": "code",
   "execution_count": 489,
   "metadata": {},
   "outputs": [],
   "source": [
    "### Given important spans, find relevant Wikipedia pages\n",
    "import wikipedia\n",
    "ny = wikipedia.search(\"Ferrocerium\")\n",
    "#print(ny.title)\n",
    "#print(ny.url)\n",
    "#print(ny.content)"
   ]
  },
  {
   "cell_type": "code",
   "execution_count": 490,
   "metadata": {},
   "outputs": [
    {
     "data": {
      "text/plain": [
       "['Ferrocerium',\n",
       " 'Flint',\n",
       " 'Fire making',\n",
       " 'List of named alloys',\n",
       " 'Mischmetal',\n",
       " 'Cerium',\n",
       " 'Glossary of firelighting',\n",
       " 'Lighter',\n",
       " 'Neodymium magnet',\n",
       " 'Tinder']"
      ]
     },
     "execution_count": 490,
     "metadata": {},
     "output_type": "execute_result"
    }
   ],
   "source": [
    "ny"
   ]
  },
  {
   "cell_type": "code",
   "execution_count": null,
   "metadata": {},
   "outputs": [],
   "source": []
  }
 ],
 "metadata": {
  "kernelspec": {
   "display_name": "py37",
   "language": "python",
   "name": "py37"
  },
  "language_info": {
   "codemirror_mode": {
    "name": "ipython",
    "version": 3
   },
   "file_extension": ".py",
   "mimetype": "text/x-python",
   "name": "python",
   "nbconvert_exporter": "python",
   "pygments_lexer": "ipython3",
   "version": "3.7.9"
  }
 },
 "nbformat": 4,
 "nbformat_minor": 4
}
