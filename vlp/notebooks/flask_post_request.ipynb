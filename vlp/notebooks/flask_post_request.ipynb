{
 "cells": [
  {
   "cell_type": "code",
   "execution_count": 99,
   "metadata": {},
   "outputs": [],
   "source": [
    "import requests\n",
    "import urllib.request\n",
    "import numpy as np\n",
    "import json, random, copy, os\n",
    "from tqdm import tqdm\n",
    "import pickle"
   ]
  },
  {
   "cell_type": "code",
   "execution_count": 3,
   "metadata": {},
   "outputs": [],
   "source": [
    "USER_AGENT_LIST = [\n",
    "            \"Mozilla/4.0 (compatible; MSIE 6.0; Windows NT 5.1; SV1; AcooBrowser; .NET CLR 1.1.4322; .NET CLR 2.0.50727)\",\n",
    "            \"Mozilla/4.0 (compatible; MSIE 7.0; Windows NT 6.0; Acoo Browser; SLCC1; .NET CLR 2.0.50727; Media Center PC 5.0; .NET CLR 3.0.04506)\",\n",
    "            \"Mozilla/4.0 (compatible; MSIE 7.0; AOL 9.5; AOLBuild 4337.35; Windows NT 5.1; .NET CLR 1.1.4322; .NET CLR 2.0.50727)\",\n",
    "            \"Mozilla/5.0 (Windows; U; MSIE 9.0; Windows NT 9.0; en-US)\",\n",
    "            \"Mozilla/5.0 (compatible; MSIE 9.0; Windows NT 6.1; Win64; x64; Trident/5.0; .NET CLR 3.5.30729; .NET CLR 3.0.30729; .NET CLR 2.0.50727; Media Center PC 6.0)\",\n",
    "            \"Mozilla/5.0 (compatible; MSIE 8.0; Windows NT 6.0; Trident/4.0; WOW64; Trident/4.0; SLCC2; .NET CLR 2.0.50727; .NET CLR 3.5.30729; .NET CLR 3.0.30729; .NET CLR 1.0.3705; .NET CLR 1.1.4322)\",\n",
    "            \"Mozilla/4.0 (compatible; MSIE 7.0b; Windows NT 5.2; .NET CLR 1.1.4322; .NET CLR 2.0.50727; InfoPath.2; .NET CLR 3.0.04506.30)\",\n",
    "            \"Mozilla/5.0 (Windows; U; Windows NT 5.1; zh-CN) AppleWebKit/523.15 (KHTML, like Gecko, Safari/419.3) Arora/0.3 (Change: 287 c9dfb30)\",\n",
    "            \"Mozilla/5.0 (X11; U; Linux; en-US) AppleWebKit/527+ (KHTML, like Gecko, Safari/419.3) Arora/0.6\",\n",
    "            \"Mozilla/5.0 (Windows; U; Windows NT 5.1; en-US; rv:1.8.1.2pre) Gecko/20070215 K-Ninja/2.1.1\",\n",
    "            \"Mozilla/5.0 (Windows; U; Windows NT 5.1; zh-CN; rv:1.9) Gecko/20080705 Firefox/3.0 Kapiko/3.0\",\n",
    "            \"Mozilla/5.0 (X11; Linux i686; U;) Gecko/20070322 Kazehakase/0.4.5\",\n",
    "            \"Mozilla/5.0 (X11; U; Linux i686; en-US; rv:1.9.0.8) Gecko Fedora/1.9.0.8-1.fc10 Kazehakase/0.5.6\",\n",
    "            \"Mozilla/5.0 (Windows NT 6.1; WOW64) AppleWebKit/535.11 (KHTML, like Gecko) Chrome/17.0.963.56 Safari/535.11\",\n",
    "            \"Mozilla/5.0 (Macintosh; Intel Mac OS X 10_7_3) AppleWebKit/535.20 (KHTML, like Gecko) Chrome/19.0.1036.7 Safari/535.20\",\n",
    "            \"Opera/9.80 (Macintosh; Intel Mac OS X 10.6.8; U; fr) Presto/2.9.168 Version/11.52\",\n",
    "            \"Mozilla/5.0 (Windows NT 6.1; WOW64) AppleWebKit/536.11 (KHTML, like Gecko) Chrome/20.0.1132.11 TaoBrowser/2.0 Safari/536.11\",\n",
    "            \"Mozilla/5.0 (Windows NT 6.1; WOW64) AppleWebKit/537.1 (KHTML, like Gecko) Chrome/21.0.1180.71 Safari/537.1 LBBROWSER\",\n",
    "            \"Mozilla/5.0 (compatible; MSIE 9.0; Windows NT 6.1; WOW64; Trident/5.0; SLCC2; .NET CLR 2.0.50727; .NET CLR 3.5.30729; .NET CLR 3.0.30729; Media Center PC 6.0; .NET4.0C; .NET4.0E; LBBROWSER)\",\n",
    "            \"Mozilla/4.0 (compatible; MSIE 6.0; Windows NT 5.1; SV1; QQDownload 732; .NET4.0C; .NET4.0E; LBBROWSER)\",\n",
    "            \"Mozilla/5.0 (Windows NT 6.1; WOW64) AppleWebKit/535.11 (KHTML, like Gecko) Chrome/17.0.963.84 Safari/535.11 LBBROWSER\",\n",
    "            \"Mozilla/4.0 (compatible; MSIE 7.0; Windows NT 6.1; WOW64; Trident/5.0; SLCC2; .NET CLR 2.0.50727; .NET CLR 3.5.30729; .NET CLR 3.0.30729; Media Center PC 6.0; .NET4.0C; .NET4.0E)\",\n",
    "            \"Mozilla/5.0 (compatible; MSIE 9.0; Windows NT 6.1; WOW64; Trident/5.0; SLCC2; .NET CLR 2.0.50727; .NET CLR 3.5.30729; .NET CLR 3.0.30729; Media Center PC 6.0; .NET4.0C; .NET4.0E; QQBrowser/7.0.3698.400)\",\n",
    "            \"Mozilla/4.0 (compatible; MSIE 6.0; Windows NT 5.1; SV1; QQDownload 732; .NET4.0C; .NET4.0E)\",\n",
    "            \"Mozilla/4.0 (compatible; MSIE 7.0; Windows NT 5.1; Trident/4.0; SV1; QQDownload 732; .NET4.0C; .NET4.0E; 360SE)\",\n",
    "            \"Mozilla/4.0 (compatible; MSIE 6.0; Windows NT 5.1; SV1; QQDownload 732; .NET4.0C; .NET4.0E)\",\n",
    "            \"Mozilla/4.0 (compatible; MSIE 7.0; Windows NT 6.1; WOW64; Trident/5.0; SLCC2; .NET CLR 2.0.50727; .NET CLR 3.5.30729; .NET CLR 3.0.30729; Media Center PC 6.0; .NET4.0C; .NET4.0E)\",\n",
    "            \"Mozilla/5.0 (Windows NT 5.1) AppleWebKit/537.1 (KHTML, like Gecko) Chrome/21.0.1180.89 Safari/537.1\",\n",
    "            \"Mozilla/5.0 (Windows NT 6.1; WOW64) AppleWebKit/537.1 (KHTML, like Gecko) Chrome/21.0.1180.89 Safari/537.1\",\n",
    "            \"Mozilla/5.0 (iPad; U; CPU OS 4_2_1 like Mac OS X; zh-cn) AppleWebKit/533.17.9 (KHTML, like Gecko) Version/5.0.2 Mobile/8C148 Safari/6533.18.5\",\n",
    "            \"Mozilla/5.0 (Windows NT 6.1; Win64; x64; rv:2.0b13pre) Gecko/20110307 Firefox/4.0b13pre\",\n",
    "            \"Mozilla/5.0 (X11; Ubuntu; Linux x86_64; rv:16.0) Gecko/20100101 Firefox/16.0\",\n",
    "            \"Mozilla/5.0 (Windows NT 6.1; WOW64) AppleWebKit/537.11 (KHTML, like Gecko) Chrome/23.0.1271.64 Safari/537.11\",\n",
    "            \"Mozilla/5.0 (X11; U; Linux x86_64; zh-CN; rv:1.9.2.10) Gecko/20100922 Ubuntu/10.10 (maverick) Firefox/3.6.10\",\n",
    "            \"Mozilla/5.0 (Windows NT 10.0; Win64; x64) AppleWebKit/537.36 (KHTML, like Gecko) Chrome/58.0.3029.110 Safari/537.36\",\n",
    "        ]"
   ]
  },
  {
   "cell_type": "code",
   "execution_count": 4,
   "metadata": {},
   "outputs": [],
   "source": [
    "API_URL = \"http://128.2.205.68:5000/metric_post\""
   ]
  },
  {
   "cell_type": "code",
   "execution_count": 14,
   "metadata": {},
   "outputs": [],
   "source": [
    "def request(params):\n",
    "  \n",
    "    global USER_AGENT_LIST\n",
    "    global API_URL\n",
    "\n",
    "    params['format'] = 'json'\n",
    "    if not 'action' in params:\n",
    "        params['action'] = 'query'\n",
    "\n",
    "    headers = {\n",
    "        'User-Agent': random.choice(USER_AGENT_LIST)#'wikipedia (https://github.com/goldsmith/Wikipedia/)'\n",
    "    }\n",
    "\n",
    "    r = requests.post(API_URL, params=params, headers=headers)\n",
    "    return r"
   ]
  },
  {
   "cell_type": "code",
   "execution_count": 35,
   "metadata": {},
   "outputs": [],
   "source": [
    "c = [\"welcome to visit paradise harbour\"]\n",
    "a = [\"thanks for coming to paradise harbour\",\n",
    "    \"welcome to paradise hotel\",\n",
    "    \"welcome you to paradise harbour\",\n",
    "    ]\n",
    "a2 = [\"thanks for coming to paradise\",\n",
    "    \"welcome you to paradise hotel\",\n",
    "    \"welcome you to paradise resort\",\n",
    "    ]\n",
    "ka = \"paradise resort\"\n",
    "params = {'A': json.dumps([a, a2]), 'C': json.dumps([c, c]), 'Keyword': json.dumps([ka, ka]), 'Qcate': json.dumps(['text', 'text'])}\n",
    "result = request(params)"
   ]
  },
  {
   "cell_type": "code",
   "execution_count": 36,
   "metadata": {},
   "outputs": [
    {
     "name": "stdout",
     "output_type": "stream",
     "text": [
      "0.0753\n",
      "0.5\n",
      "0.0376\n"
     ]
    }
   ],
   "source": [
    "print(result.json()['Fluency'])\n",
    "print(result.json()['Accuracy'])\n",
    "print(result.json()['mul'])"
   ]
  },
  {
   "cell_type": "code",
   "execution_count": 78,
   "metadata": {},
   "outputs": [],
   "source": [
    "def eval_file(file, Qcate_breakdown=['all']):\n",
    "    with open(os.path.join(\"/home/yingshac/CYS/WebQnA/VLP/vlp/light_output/\", file), \"r\") as fp:\n",
    "        lines = fp.readlines()\n",
    "        header = lines[0].strip().split('\\t')\n",
    "        rows = lines[1:]\n",
    "    key = dict(zip(header, range(len(header))))\n",
    "    print(key)\n",
    "\n",
    "    output_A = []\n",
    "    output_C = []\n",
    "    output_KA = []\n",
    "    output_QC = []\n",
    "    # Guid\tQcate\tQ\tA\tKeywords_A\tOutput_conf\tOutput\n",
    "    total = len(rows)\n",
    "    count = 0\n",
    "    fl = 0\n",
    "    acc = 0\n",
    "    mul = 0\n",
    "    for r in tqdm(rows):\n",
    "\n",
    "        datum = r.strip().split('\\t')\n",
    "        Qcate = datum[key['Qcate']]\n",
    "        if (not 'all' in Qcate_breakdown) and (not Qcate in Qcate_breakdown): continue\n",
    "\n",
    "        O = json.loads(datum[key['Output']])\n",
    "        C = [O[0]]\n",
    "        Keywords_A = datum[key['Keywords_A']]\n",
    "        A = json.loads(datum[key['A']])\n",
    "\n",
    "        output_A.append(A)\n",
    "        output_C.append(C)\n",
    "        output_KA.append(Keywords_A)\n",
    "        output_QC.append(Qcate)\n",
    "        \n",
    "        if len(output_A) == 100:\n",
    "            params = {'A': json.dumps(output_A), 'C': json.dumps(output_C), 'Keyword': json.dumps(output_KA), 'Qcate': json.dumps(output_QC)}\n",
    "            result = request(params).json()\n",
    "            fl += 100*result['Fluency']\n",
    "            acc += 100*result['Accuracy']\n",
    "            mul += 100*result['mul']\n",
    "            output_A = []\n",
    "            output_C = []\n",
    "            output_KA = []\n",
    "            output_QC = []\n",
    "            count += 100\n",
    "    if len(output_A) > 0:\n",
    "        bs = len(output_A)\n",
    "        params = {'A': json.dumps(output_A), 'C': json.dumps(output_C), 'Keyword': json.dumps(output_KA), 'Qcate': json.dumps(output_QC)}\n",
    "        result = request(params).json()\n",
    "        fl += bs*result['Fluency']\n",
    "        acc += bs*result['Accuracy']\n",
    "        mul += bs*result['mul']\n",
    "        count += bs\n",
    "    assert count == total\n",
    "    result = {'Fluency': round(fl/total, 4), 'Accuracy': round(acc/total, 4), 'mul': round(mul/total, 4)}\n",
    "    return(result)"
   ]
  },
  {
   "cell_type": "code",
   "execution_count": 55,
   "metadata": {},
   "outputs": [
    {
     "data": {
      "text/plain": [
       "[['Hi', 'Hello'], ['Hi', 'Hello', 'Hey']]"
      ]
     },
     "execution_count": 55,
     "metadata": {},
     "output_type": "execute_result"
    }
   ],
   "source": [
    "A = [\"Hi\", 'Hello']\n",
    "B = [\"Hi\", 'Hello', \"Hey\"]\n",
    "output_A = [A, B]\n",
    "json.loads(json.dumps(output_A))"
   ]
  },
  {
   "cell_type": "code",
   "execution_count": 79,
   "metadata": {},
   "outputs": [
    {
     "name": "stderr",
     "output_type": "stream",
     "text": [
      "\r",
      "  0%|          | 0/4076 [00:00<?, ?it/s]"
     ]
    },
    {
     "name": "stdout",
     "output_type": "stream",
     "text": [
      "{'Guid': 0, 'Qcate': 1, 'Q': 2, 'A': 3, 'Keywords_A': 4, 'Output_conf': 5, 'Output': 6}\n"
     ]
    },
    {
     "name": "stderr",
     "output_type": "stream",
     "text": [
      "100%|██████████| 4076/4076 [05:42<00:00, 11.89it/s]\n"
     ]
    },
    {
     "data": {
      "text/plain": [
       "{'Accuracy': 0.5037, 'Fluency': 0.3301, 'mul': 0.2762}"
      ]
     },
     "execution_count": 79,
     "metadata": {},
     "output_type": "execute_result"
    }
   ],
   "source": [
    "file = \"detectron_both_qa_upd/qa_infr/test_qainfr_no_eval_-1_beam5_txt_True_step11_txt_dataset_0823_clean_te.tsv\"\n",
    "eval_file(file)"
   ]
  },
  {
   "cell_type": "code",
   "execution_count": 100,
   "metadata": {},
   "outputs": [
    {
     "name": "stdout",
     "output_type": "stream",
     "text": [
      "49272\n",
      "49272\n",
      "389750\n"
     ]
    }
   ],
   "source": [
    "Guid_map_0904 = pickle.load(open(\"Guid_map_0904.pkl\", \"rb\"))\n",
    "print(len(set(Guid_map_0904.keys())))\n",
    "print(len(set(Guid_map_0904.values())))\n",
    "image_id_map_0904 = pickle.load(open(\"image_id_map_0904.pkl\", \"rb\"))\n",
    "print(len(image_id_map_0904))"
   ]
  },
  {
   "cell_type": "code",
   "execution_count": 111,
   "metadata": {},
   "outputs": [
    {
     "data": {
      "text/plain": [
       "['20031027',\n",
       " '10026934',\n",
       " '20036023',\n",
       " '10136564',\n",
       " '10065736',\n",
       " '20014244',\n",
       " '10322283',\n",
       " '10334570',\n",
       " '10282838',\n",
       " '20142696']"
      ]
     },
     "execution_count": 111,
     "metadata": {},
     "output_type": "execute_result"
    }
   ],
   "source": [
    "list(image_id_map_0904.keys())[:10]"
   ]
  },
  {
   "cell_type": "code",
   "execution_count": 101,
   "metadata": {},
   "outputs": [
    {
     "name": "stdout",
     "output_type": "stream",
     "text": [
      "3464 3464\n",
      "{'Guid': 0, 'Qcate': 1, 'Q': 2, 'A': 3, 'Keywords_A': 4, 'Output_conf': 5, 'Output': 6}\n"
     ]
    }
   ],
   "source": [
    "### Generate prediction file in EvalAI format for testing\n",
    "with open(\"/home/yingshac/CYS/WebQnA/VLP/vlp/light_output/detectron_both_qa_sentence/qa_infr/test_qainfr_no_eval_-1_beam5_img_True_True_step12_pred_dataset_th25_test_-1_step4_img_16_True_True_img_dataset_0823_clean_te_UNknown_modality.tsv\", \"r\") as fp:\n",
    "    lines = fp.readlines()\n",
    "    header = lines[0].strip().split('\\t')\n",
    "    rows = lines[1:]\n",
    "pred_dataset = json.load(open(\"/home/yingshac/CYS/WebQnA/VLP/vlp/light_output/filter_both_x_detectron/pred_dataset_th25_test_-1_step4_img_16_True_True_img_dataset_0823_clean_te_UNknown_modality.json\", \"r\"))\n",
    "print(len(pred_dataset), len(rows))\n",
    "key = dict(zip(header, range(len(header))))\n",
    "print(key)\n"
   ]
  },
  {
   "cell_type": "code",
   "execution_count": 115,
   "metadata": {},
   "outputs": [
    {
     "name": "stdout",
     "output_type": "stream",
     "text": [
      "3464\n"
     ]
    }
   ],
   "source": [
    "Guid2srcPred = {}\n",
    "for k in pred_dataset:\n",
    "    Guid = pred_dataset[k]['Guid']\n",
    "    Guid2srcPred[Guid] = []\n",
    "    for i in pred_dataset[k]['txt_posFacts']:\n",
    "        Guid2srcPred[Guid].append(i['fact'])\n",
    "    for i in pred_dataset[k]['img_posFacts']:\n",
    "        imid = str(i['image_id'])\n",
    "        if len(imid) < 8:\n",
    "            imid = \"0\"*(8-len(imid)) + imid\n",
    "        try: Guid2srcPred[Guid].append(image_id_map_0904[imid])\n",
    "        except: pass\n",
    "print(len(Guid2srcPred))"
   ]
  },
  {
   "cell_type": "code",
   "execution_count": 116,
   "metadata": {},
   "outputs": [],
   "source": [
    "user_annotation = {}\n",
    "for r in rows:\n",
    "\n",
    "    datum = r.strip().split('\\t')\n",
    "    Guid = datum[key['Guid']]\n",
    "    \n",
    "    O = json.loads(datum[key['Output']])        \n",
    "    \n",
    "    user_annotation[Guid_map_0904[Guid]] = {\n",
    "        'sources': Guid2srcPred[Guid],\n",
    "        'answer': O[0]\n",
    "    }\n",
    "json.dump(user_annotation, open(\"/home/yingshac/CYS/WebQnA/VLP/vlp/tmp/evalai_submission_test2.json\", \"w\"), indent=4)"
   ]
  },
  {
   "cell_type": "code",
   "execution_count": 84,
   "metadata": {},
   "outputs": [],
   "source": [
    "import sys\n",
    "sys.path.append(\"/home/yingshac/CYS/WebQnA/EvalAI-WebQA/evaluation_script/\")\n",
    "from main import evaluate"
   ]
  },
  {
   "cell_type": "code",
   "execution_count": 118,
   "metadata": {},
   "outputs": [
    {
     "name": "stdout",
     "output_type": "stream",
     "text": [
      "Starting Evaluation.....\n",
      "Evaluating for WebQA testing split\n",
      "Found 3464 predictions.\n",
      "\n",
      "\n",
      "Evaluated 3464 predictions.\n",
      "\n",
      "Completed evaluation for WebQA testing split\n"
     ]
    },
    {
     "data": {
      "text/plain": [
       "{'result': [{'test_split': {'QA': 0.1628,\n",
       "    'QA-Acc': 0.25,\n",
       "    'QA-FL': 0.4987,\n",
       "    'Retrieval': 0.6731}}],\n",
       " 'submission_result': {'QA': 0.1628,\n",
       "  'QA-Acc': 0.25,\n",
       "  'QA-FL': 0.4987,\n",
       "  'Retrieval': 0.6731}}"
      ]
     },
     "execution_count": 118,
     "metadata": {},
     "output_type": "execute_result"
    }
   ],
   "source": [
    "evaluate(\"\", \"/home/yingshac/CYS/WebQnA/VLP/vlp/tmp/evalai_submission_test2.json\", \"test\")"
   ]
  },
  {
   "cell_type": "code",
   "execution_count": null,
   "metadata": {},
   "outputs": [],
   "source": []
  }
 ],
 "metadata": {
  "kernelspec": {
   "display_name": "py37",
   "language": "python",
   "name": "py37"
  },
  "language_info": {
   "codemirror_mode": {
    "name": "ipython",
    "version": 3
   },
   "file_extension": ".py",
   "mimetype": "text/x-python",
   "name": "python",
   "nbconvert_exporter": "python",
   "pygments_lexer": "ipython3",
   "version": "3.7.9"
  }
 },
 "nbformat": 4,
 "nbformat_minor": 4
}
