{
 "cells": [
  {
   "cell_type": "code",
   "execution_count": 51,
   "metadata": {},
   "outputs": [],
   "source": [
    "import json, random\n",
    "import numpy as np\n",
    "from pprint import pprint\n",
    "from collections import Counter, defaultdict\n",
    "from bs4 import BeautifulSoup\n",
    "import requests\n",
    "import urllib.request\n",
    "import re\n",
    "import seaborn as sns\n",
    "import matplotlib.pyplot as plt\n",
    "import nltk\n",
    "from nltk.corpus import stopwords\n",
    "import pickle\n",
    "import copy\n",
    "import spacy\n",
    "from spacy import displacy\n",
    "from itertools import tee\n",
    "import wikipedia\n",
    "import pylcs\n",
    "import string\n",
    "np.set_printoptions(precision=4)"
   ]
  },
  {
   "cell_type": "code",
   "execution_count": 81,
   "metadata": {},
   "outputs": [],
   "source": [
    "PUNCTUATIONS = set(string.punctuation)\n",
    "pattern = re.compile(r'\\b(' + r'|'.join(stopwords.words('english')) + r')\\b\\s*|\\(|\\)|-')"
   ]
  },
  {
   "cell_type": "code",
   "execution_count": 4,
   "metadata": {},
   "outputs": [
    {
     "name": "stdout",
     "output_type": "stream",
     "text": [
      "362367\n"
     ]
    }
   ],
   "source": [
    "img_meta = json.load(open(\"/home/yingshac/CYS/WebQnA/WebQnA_data/img_metadata-Copy1.json\", \"r\"))\n",
    "print(len(img_meta))"
   ]
  },
  {
   "cell_type": "code",
   "execution_count": 30,
   "metadata": {},
   "outputs": [
    {
     "name": "stdout",
     "output_type": "stream",
     "text": [
      "25467\n"
     ]
    }
   ],
   "source": [
    "img_dataset = json.load(open(\"/home/yingshac/CYS/WebQnA/WebQnA_data_new/img_dataset_J_0623-Copy1.json\", \"r\"))\n",
    "print(len(img_dataset))"
   ]
  },
  {
   "cell_type": "code",
   "execution_count": 76,
   "metadata": {},
   "outputs": [],
   "source": [
    "pos_list = ['NUM', 'NOUN', 'ADJ', 'PROPN']"
   ]
  },
  {
   "cell_type": "code",
   "execution_count": 6,
   "metadata": {},
   "outputs": [],
   "source": [
    "nlp = spacy.load('en_core_web_sm')"
   ]
  },
  {
   "cell_type": "code",
   "execution_count": 113,
   "metadata": {},
   "outputs": [],
   "source": [
    "def IoU(A, B):\n",
    "    intersection = len(A.intersection(B))\n",
    "    union = len(A.union(B))\n",
    "    return round(intersection / (union+1e-7), 2)"
   ]
  },
  {
   "cell_type": "code",
   "execution_count": 35,
   "metadata": {},
   "outputs": [
    {
     "data": {
      "text/plain": [
       "[('PUNCT', '\"'),\n",
       " ('DET', 'Which'),\n",
       " ('NOUN', 'road'),\n",
       " ('AUX', 'is'),\n",
       " ('ADJ', 'thinner'),\n",
       " ('PUNCT', ','),\n",
       " ('DET', 'the'),\n",
       " ('ADJ', 'Main'),\n",
       " ('NOUN', 'road'),\n",
       " ('PROPN', 'Shanischara'),\n",
       " ('PROPN', 'Temple'),\n",
       " ('PUNCT', ','),\n",
       " ('PROPN', 'Morena'),\n",
       " ('CCONJ', 'or'),\n",
       " ('DET', 'the'),\n",
       " ('ADJ', 'main'),\n",
       " ('NOUN', 'road'),\n",
       " ('ADP', 'of'),\n",
       " ('PROPN', 'Armenia'),\n",
       " ('PUNCT', ','),\n",
       " ('PROPN', 'Gagarin'),\n",
       " ('PUNCT', '?'),\n",
       " ('PUNCT', '\"')]"
      ]
     },
     "execution_count": 35,
     "metadata": {},
     "output_type": "execute_result"
    }
   ],
   "source": [
    "[(t.pos_, t.text) for t in nlp('\"Which road is thinner, the Main road Shanischara Temple, Morena or the main road of Armenia, Gagarin?\"')]"
   ]
  },
  {
   "cell_type": "code",
   "execution_count": 110,
   "metadata": {},
   "outputs": [],
   "source": [
    "def find_sentences_from_page_for_img_data(title, page, keywords, answerwords):\n",
    "    try: \n",
    "        content = wikipedia.page(title, auto_suggest=False, redirect=True).content\n",
    "        paragraphs = content[:content.find('== References ==')].split('\\n')\n",
    "        \n",
    "    except: return {}\n",
    "    #records = []\n",
    "    sen2score = {}\n",
    "    for p in paragraphs:\n",
    "        if len(p.split()) >= 10:\n",
    "            #records.append(-999)\n",
    "            doc = nlp(p)\n",
    "            for s in doc.sents:\n",
    "                if len(s) < 10: \n",
    "                    continue\n",
    "                nouns_in_s = [t.text for t in s if (t.pos_ in pos_list or ((not t.is_sent_start) and t.text[0].isupper()))]\n",
    "\n",
    "                IoU_Q = IoU(set(nouns_in_s), keywords)\n",
    "                IoU_A = IoU(set(nouns_in_s), answerwords)\n",
    "                if IoU_Q -  IoU_A > 0.06:\n",
    "                    sen2score[s.text] = {'scores': (IoU_Q, IoU_A, IoU_Q - IoU_A), 'link': page, 'title': title}\n",
    "                #records.append(round(IoU_Q, 2))\n",
    "    #print(records)\n",
    "\n",
    "    #records = []\n",
    "    for p in paragraphs:\n",
    "        if len(p.split()) >= 10:\n",
    "            #records.append(-999)\n",
    "            doc = nlp(p)\n",
    "            it1, it2 = tee(doc.sents)\n",
    "            next(it2, None)\n",
    "            for s1, s2 in zip(it1, it2):\n",
    "                if len(s1) < 5 or len(s2) < 5 or len(s1)+len(s2) > 70 or len(s1)+len(s2) < 10: \n",
    "                    continue \n",
    "                nouns_in_s = [t.text for s in [s1, s2] for t in s if (t.pos_ in pos_list or ((not t.is_sent_start) and t.text[0].isupper()))]\n",
    "\n",
    "                IoU_Q = IoU(set(nouns_in_s), keywords)\n",
    "                IoU_A = IoU(set(nouns_in_s), answerwords)\n",
    "                if IoU_Q -  IoU_A >= 0.06:\n",
    "                    sen2score[\" \".join([s1.text, s2.text])] = {'scores': (IoU_Q, IoU_A, IoU_Q - IoU_A), 'link': page, 'title': title}\n",
    "                    #print(s)\n",
    "                #records.append(round(IoU_Q, 2))\n",
    "    #print(records)\n",
    "    #print(len(sen2score))\n",
    "    return sen2score"
   ]
  },
  {
   "cell_type": "code",
   "execution_count": 480,
   "metadata": {},
   "outputs": [],
   "source": [
    "def get_keywords_from_img_sample(k):\n",
    "    Q = img_dataset[str(k)]['Q'].replace('\"', '').replace('_', ' ')\n",
    "    doc = nlp(Q)\n",
    "    keywords = set([t.text for s in doc.sents for t in s if t.pos_ in ['NUM', 'PROPN', 'ADJ', 'NOUN'] or ((not t.is_sent_start) and t.text[0].isupper())])\n",
    "    keywords = keywords - PUNCTUATIONS\n",
    "    \n",
    "    ### Extract noun chunks\n",
    "    proper_words = [t.text for s in doc.sents for t in s if t.pos_ in ['NUM', 'PROPN', 'ADJ'] or ((not t.is_sent_start) and t.text[0].isupper())]\n",
    "    chunks = set()\n",
    "    for chunk in doc.noun_chunks:\n",
    "        if any([n in proper_words for n in chunk.text.split()]):\n",
    "            chunks.add(chunk.text)\n",
    "    if not chunks: \n",
    "        chunks = chunks.union([c.text for c in doc.noun_chunks])\n",
    "        chunks = chunks.union([t.text for s in doc.sents for t in s if t.pos_ == 'PROPN' or ((not t.is_sent_start) and t.text[0].isupper())])\n",
    "    \n",
    "    A = img_dataset[str(k)]['A'].replace('\"', '')\n",
    "    doc = nlp(A)\n",
    "    answerwords = set([t.text for t in doc if t.pos_ in pos_list or ((not t.is_sent_start) and t.text[0].isupper())])\n",
    "    answerwords = answerwords - PUNCTUATIONS\n",
    "    \n",
    "    \n",
    "    return keywords, answerwords, Q, A, chunks"
   ]
  },
  {
   "cell_type": "code",
   "execution_count": 447,
   "metadata": {},
   "outputs": [
    {
     "name": "stdout",
     "output_type": "stream",
     "text": [
      "11689\n",
      "Is the beak of the White-bellied Woodstar skinny or fat?\n",
      "Skinny\n",
      "{'Woodstar', 'skinny', 'beak', 'fat', 'White'}\n",
      "['the White-bellied Woodstar skinny']\n",
      "['the White-bellied Woodstar skinny', 'bellied Woodstar skinny', 'Woodstar skinny', 'bellied Woodstar skinny', 'Woodstar skinny']\n",
      " --------------------------------------------- \n",
      "2621\n",
      "What materials were used for the roofs on top of the huts at the Ansakket Festival?\n",
      "Pop bottles and straw\n",
      "{'top', 'Ansakket', 'materials', 'huts', 'Festival', 'roofs'}\n",
      "['the Ansakket Festival']\n",
      "['the Ansakket Festival', 'Ansakket Festival', 'Ansakket Festival']\n",
      " --------------------------------------------- \n",
      "11616\n",
      "Is the base of the Mycena alexandri thick or thin?\n",
      "Thin.\n",
      "{'base', 'Mycena', 'thin', 'thick', 'alexandri'}\n",
      "['the Mycena alexandri']\n",
      "['the Mycena alexandri', 'Mycena alexandri']\n",
      " --------------------------------------------- \n",
      "12988\n",
      "Do the flowers of the Allium aflatuense grow in bunches?\n",
      "Yes.\n",
      "{'flowers', 'bunches', 'Allium', 'aflatuense'}\n",
      "['the Allium aflatuense']\n",
      "['the Allium aflatuense', 'Allium aflatuense']\n",
      " --------------------------------------------- \n"
     ]
    }
   ],
   "source": [
    "for k in record:\n",
    "    keywords, answerwords, Q, A, chunks = get_keywords_from_img_sample(k)\n",
    "    #pages = noun_chunk2candidate_page(chunks)\n",
    "    if len(record[k]['pages']) == 0:\n",
    "        \n",
    "        print(k)\n",
    "        print(Q)\n",
    "        print(A)\n",
    "        print(keywords)\n",
    "        print(chunks)\n",
    "        print(record[k]['chunks'])\n",
    "        print(' --------------------------------------------- ')"
   ]
  },
  {
   "cell_type": "code",
   "execution_count": 464,
   "metadata": {},
   "outputs": [
    {
     "name": "stdout",
     "output_type": "stream",
     "text": [
      "What colors\n",
      "the Cheverny and Dicentra cucullaria flowers\n"
     ]
    },
    {
     "data": {
      "text/html": [
       "<span class=\"tex2jax_ignore\"><svg xmlns=\"http://www.w3.org/2000/svg\" xmlns:xlink=\"http://www.w3.org/1999/xlink\" xml:lang=\"en\" id=\"7406b10a8aff4a4494dc02d575f1926f-0\" class=\"displacy\" width=\"1625\" height=\"574.5\" direction=\"ltr\" style=\"max-width: none; height: 574.5px; color: #000000; background: #ffffff; font-family: Arial; direction: ltr\">\n",
       "<text class=\"displacy-token\" fill=\"currentColor\" text-anchor=\"middle\" y=\"484.5\">\n",
       "    <tspan class=\"displacy-word\" fill=\"currentColor\" x=\"50\">What</tspan>\n",
       "    <tspan class=\"displacy-tag\" dy=\"2em\" fill=\"currentColor\" x=\"50\">PRON</tspan>\n",
       "</text>\n",
       "\n",
       "<text class=\"displacy-token\" fill=\"currentColor\" text-anchor=\"middle\" y=\"484.5\">\n",
       "    <tspan class=\"displacy-word\" fill=\"currentColor\" x=\"225\">colors</tspan>\n",
       "    <tspan class=\"displacy-tag\" dy=\"2em\" fill=\"currentColor\" x=\"225\">NOUN</tspan>\n",
       "</text>\n",
       "\n",
       "<text class=\"displacy-token\" fill=\"currentColor\" text-anchor=\"middle\" y=\"484.5\">\n",
       "    <tspan class=\"displacy-word\" fill=\"currentColor\" x=\"400\">are</tspan>\n",
       "    <tspan class=\"displacy-tag\" dy=\"2em\" fill=\"currentColor\" x=\"400\">AUX</tspan>\n",
       "</text>\n",
       "\n",
       "<text class=\"displacy-token\" fill=\"currentColor\" text-anchor=\"middle\" y=\"484.5\">\n",
       "    <tspan class=\"displacy-word\" fill=\"currentColor\" x=\"575\">the</tspan>\n",
       "    <tspan class=\"displacy-tag\" dy=\"2em\" fill=\"currentColor\" x=\"575\">DET</tspan>\n",
       "</text>\n",
       "\n",
       "<text class=\"displacy-token\" fill=\"currentColor\" text-anchor=\"middle\" y=\"484.5\">\n",
       "    <tspan class=\"displacy-word\" fill=\"currentColor\" x=\"750\">Cheverny</tspan>\n",
       "    <tspan class=\"displacy-tag\" dy=\"2em\" fill=\"currentColor\" x=\"750\">PROPN</tspan>\n",
       "</text>\n",
       "\n",
       "<text class=\"displacy-token\" fill=\"currentColor\" text-anchor=\"middle\" y=\"484.5\">\n",
       "    <tspan class=\"displacy-word\" fill=\"currentColor\" x=\"925\">and</tspan>\n",
       "    <tspan class=\"displacy-tag\" dy=\"2em\" fill=\"currentColor\" x=\"925\">CCONJ</tspan>\n",
       "</text>\n",
       "\n",
       "<text class=\"displacy-token\" fill=\"currentColor\" text-anchor=\"middle\" y=\"484.5\">\n",
       "    <tspan class=\"displacy-word\" fill=\"currentColor\" x=\"1100\">Dicentra</tspan>\n",
       "    <tspan class=\"displacy-tag\" dy=\"2em\" fill=\"currentColor\" x=\"1100\">ADJ</tspan>\n",
       "</text>\n",
       "\n",
       "<text class=\"displacy-token\" fill=\"currentColor\" text-anchor=\"middle\" y=\"484.5\">\n",
       "    <tspan class=\"displacy-word\" fill=\"currentColor\" x=\"1275\">cucullaria</tspan>\n",
       "    <tspan class=\"displacy-tag\" dy=\"2em\" fill=\"currentColor\" x=\"1275\">NOUN</tspan>\n",
       "</text>\n",
       "\n",
       "<text class=\"displacy-token\" fill=\"currentColor\" text-anchor=\"middle\" y=\"484.5\">\n",
       "    <tspan class=\"displacy-word\" fill=\"currentColor\" x=\"1450\">flowers?</tspan>\n",
       "    <tspan class=\"displacy-tag\" dy=\"2em\" fill=\"currentColor\" x=\"1450\">NOUN</tspan>\n",
       "</text>\n",
       "\n",
       "<g class=\"displacy-arrow\">\n",
       "    <path class=\"displacy-arc\" id=\"arrow-7406b10a8aff4a4494dc02d575f1926f-0-0\" stroke-width=\"2px\" d=\"M70,439.5 C70,352.0 205.0,352.0 205.0,439.5\" fill=\"none\" stroke=\"currentColor\"/>\n",
       "    <text dy=\"1.25em\" style=\"font-size: 0.8em; letter-spacing: 1px\">\n",
       "        <textPath xlink:href=\"#arrow-7406b10a8aff4a4494dc02d575f1926f-0-0\" class=\"displacy-label\" startOffset=\"50%\" side=\"left\" fill=\"currentColor\" text-anchor=\"middle\">det</textPath>\n",
       "    </text>\n",
       "    <path class=\"displacy-arrowhead\" d=\"M70,441.5 L62,429.5 78,429.5\" fill=\"currentColor\"/>\n",
       "</g>\n",
       "\n",
       "<g class=\"displacy-arrow\">\n",
       "    <path class=\"displacy-arc\" id=\"arrow-7406b10a8aff4a4494dc02d575f1926f-0-1\" stroke-width=\"2px\" d=\"M245,439.5 C245,352.0 380.0,352.0 380.0,439.5\" fill=\"none\" stroke=\"currentColor\"/>\n",
       "    <text dy=\"1.25em\" style=\"font-size: 0.8em; letter-spacing: 1px\">\n",
       "        <textPath xlink:href=\"#arrow-7406b10a8aff4a4494dc02d575f1926f-0-1\" class=\"displacy-label\" startOffset=\"50%\" side=\"left\" fill=\"currentColor\" text-anchor=\"middle\">nsubj</textPath>\n",
       "    </text>\n",
       "    <path class=\"displacy-arrowhead\" d=\"M245,441.5 L237,429.5 253,429.5\" fill=\"currentColor\"/>\n",
       "</g>\n",
       "\n",
       "<g class=\"displacy-arrow\">\n",
       "    <path class=\"displacy-arc\" id=\"arrow-7406b10a8aff4a4494dc02d575f1926f-0-2\" stroke-width=\"2px\" d=\"M595,439.5 C595,89.5 1445.0,89.5 1445.0,439.5\" fill=\"none\" stroke=\"currentColor\"/>\n",
       "    <text dy=\"1.25em\" style=\"font-size: 0.8em; letter-spacing: 1px\">\n",
       "        <textPath xlink:href=\"#arrow-7406b10a8aff4a4494dc02d575f1926f-0-2\" class=\"displacy-label\" startOffset=\"50%\" side=\"left\" fill=\"currentColor\" text-anchor=\"middle\">det</textPath>\n",
       "    </text>\n",
       "    <path class=\"displacy-arrowhead\" d=\"M595,441.5 L587,429.5 603,429.5\" fill=\"currentColor\"/>\n",
       "</g>\n",
       "\n",
       "<g class=\"displacy-arrow\">\n",
       "    <path class=\"displacy-arc\" id=\"arrow-7406b10a8aff4a4494dc02d575f1926f-0-3\" stroke-width=\"2px\" d=\"M770,439.5 C770,177.0 1440.0,177.0 1440.0,439.5\" fill=\"none\" stroke=\"currentColor\"/>\n",
       "    <text dy=\"1.25em\" style=\"font-size: 0.8em; letter-spacing: 1px\">\n",
       "        <textPath xlink:href=\"#arrow-7406b10a8aff4a4494dc02d575f1926f-0-3\" class=\"displacy-label\" startOffset=\"50%\" side=\"left\" fill=\"currentColor\" text-anchor=\"middle\">nmod</textPath>\n",
       "    </text>\n",
       "    <path class=\"displacy-arrowhead\" d=\"M770,441.5 L762,429.5 778,429.5\" fill=\"currentColor\"/>\n",
       "</g>\n",
       "\n",
       "<g class=\"displacy-arrow\">\n",
       "    <path class=\"displacy-arc\" id=\"arrow-7406b10a8aff4a4494dc02d575f1926f-0-4\" stroke-width=\"2px\" d=\"M770,439.5 C770,352.0 905.0,352.0 905.0,439.5\" fill=\"none\" stroke=\"currentColor\"/>\n",
       "    <text dy=\"1.25em\" style=\"font-size: 0.8em; letter-spacing: 1px\">\n",
       "        <textPath xlink:href=\"#arrow-7406b10a8aff4a4494dc02d575f1926f-0-4\" class=\"displacy-label\" startOffset=\"50%\" side=\"left\" fill=\"currentColor\" text-anchor=\"middle\">cc</textPath>\n",
       "    </text>\n",
       "    <path class=\"displacy-arrowhead\" d=\"M905.0,441.5 L913.0,429.5 897.0,429.5\" fill=\"currentColor\"/>\n",
       "</g>\n",
       "\n",
       "<g class=\"displacy-arrow\">\n",
       "    <path class=\"displacy-arc\" id=\"arrow-7406b10a8aff4a4494dc02d575f1926f-0-5\" stroke-width=\"2px\" d=\"M770,439.5 C770,264.5 1085.0,264.5 1085.0,439.5\" fill=\"none\" stroke=\"currentColor\"/>\n",
       "    <text dy=\"1.25em\" style=\"font-size: 0.8em; letter-spacing: 1px\">\n",
       "        <textPath xlink:href=\"#arrow-7406b10a8aff4a4494dc02d575f1926f-0-5\" class=\"displacy-label\" startOffset=\"50%\" side=\"left\" fill=\"currentColor\" text-anchor=\"middle\">conj</textPath>\n",
       "    </text>\n",
       "    <path class=\"displacy-arrowhead\" d=\"M1085.0,441.5 L1093.0,429.5 1077.0,429.5\" fill=\"currentColor\"/>\n",
       "</g>\n",
       "\n",
       "<g class=\"displacy-arrow\">\n",
       "    <path class=\"displacy-arc\" id=\"arrow-7406b10a8aff4a4494dc02d575f1926f-0-6\" stroke-width=\"2px\" d=\"M1295,439.5 C1295,352.0 1430.0,352.0 1430.0,439.5\" fill=\"none\" stroke=\"currentColor\"/>\n",
       "    <text dy=\"1.25em\" style=\"font-size: 0.8em; letter-spacing: 1px\">\n",
       "        <textPath xlink:href=\"#arrow-7406b10a8aff4a4494dc02d575f1926f-0-6\" class=\"displacy-label\" startOffset=\"50%\" side=\"left\" fill=\"currentColor\" text-anchor=\"middle\">compound</textPath>\n",
       "    </text>\n",
       "    <path class=\"displacy-arrowhead\" d=\"M1295,441.5 L1287,429.5 1303,429.5\" fill=\"currentColor\"/>\n",
       "</g>\n",
       "\n",
       "<g class=\"displacy-arrow\">\n",
       "    <path class=\"displacy-arc\" id=\"arrow-7406b10a8aff4a4494dc02d575f1926f-0-7\" stroke-width=\"2px\" d=\"M420,439.5 C420,2.0 1450.0,2.0 1450.0,439.5\" fill=\"none\" stroke=\"currentColor\"/>\n",
       "    <text dy=\"1.25em\" style=\"font-size: 0.8em; letter-spacing: 1px\">\n",
       "        <textPath xlink:href=\"#arrow-7406b10a8aff4a4494dc02d575f1926f-0-7\" class=\"displacy-label\" startOffset=\"50%\" side=\"left\" fill=\"currentColor\" text-anchor=\"middle\">attr</textPath>\n",
       "    </text>\n",
       "    <path class=\"displacy-arrowhead\" d=\"M1450.0,441.5 L1458.0,429.5 1442.0,429.5\" fill=\"currentColor\"/>\n",
       "</g>\n",
       "</svg></span>"
      ],
      "text/plain": [
       "<IPython.core.display.HTML object>"
      ]
     },
     "metadata": {},
     "output_type": "display_data"
    }
   ],
   "source": [
    "doc = nlp(\"What colors are the Cheverny and Dicentra cucullaria flowers?\")\n",
    "for c in doc.noun_chunks:\n",
    "    print(c.text)\n",
    "displacy.render(doc, style='dep')"
   ]
  },
  {
   "cell_type": "code",
   "execution_count": 465,
   "metadata": {
    "scrolled": true
   },
   "outputs": [
    {
     "name": "stdout",
     "output_type": "stream",
     "text": [
      "7 8\n",
      "cucullaria flowers\n"
     ]
    }
   ],
   "source": [
    "for token in doc:\n",
    "    if token.dep_ == 'amod' or token.dep_ == 'compound':\n",
    "        print(token.i, token.head.i)\n",
    "        print(doc[token.i: token.head.i+1].text if token.head.i > token.i else doc[token.head.i:token.i+1].text)"
   ]
  },
  {
   "cell_type": "code",
   "execution_count": 429,
   "metadata": {},
   "outputs": [
    {
     "data": {
      "text/plain": [
       "['Sea anemone',\n",
       " 'Amphiprioninae',\n",
       " 'Starlet sea anemone',\n",
       " 'Dofleinia',\n",
       " 'Snakelocks anemone',\n",
       " 'Sea anemone dermatitis',\n",
       " 'Heteractis magnifica',\n",
       " 'Monactis (sea anemone)',\n",
       " 'Venus flytrap sea anemone',\n",
       " \"Ivell's sea anemone\"]"
      ]
     },
     "execution_count": 429,
     "metadata": {},
     "output_type": "execute_result"
    }
   ],
   "source": [
    "wikipedia.search('sea anemone')"
   ]
  },
  {
   "cell_type": "code",
   "execution_count": 483,
   "metadata": {},
   "outputs": [
    {
     "name": "stdout",
     "output_type": "stream",
     "text": [
      "Counter({2: 655, 3: 524, 1: 377, 4: 240, 5: 128, 6: 46, 7: 18, 8: 8, 9: 3, 10: 1})\n",
      "Counter({20: 517, 10: 358, 30: 340, 40: 128, 29: 74, 50: 65, 39: 52, 19: 47, 49: 28, 27: 23, 18: 22, 28: 18, 14: 16, 60: 16, 11: 13, 38: 12, 23: 11, 25: 11, 24: 11, 13: 11, 12: 11, 26: 10, 35: 10, 48: 10, 16: 10, 59: 9, 47: 9, 21: 9, 37: 9, 33: 8, 36: 8, 70: 8, 45: 7, 69: 7, 5: 6, 41: 6, 58: 5, 7: 5, 46: 5, 17: 5, 34: 4, 57: 4, 32: 4, 15: 4, 22: 4, 8: 4, 68: 4, 31: 4, 55: 4, 63: 2, 44: 2, 43: 2, 53: 2, 67: 2, 80: 2, 90: 2, 0: 2, 9: 2, 66: 1, 56: 1, 78: 1, 79: 1, 51: 1, 97: 1, 71: 1, 52: 1, 54: 1, 86: 1, 65: 1, 73: 1, 1: 1, 146: 1, 62: 1, 6: 1})\n"
     ]
    }
   ],
   "source": [
    "print(Counter([len(record[k]['chunks']) for k in record]))\n",
    "print(Counter([len(record[k]['pages']) for k in record]))"
   ]
  },
  {
   "cell_type": "code",
   "execution_count": 471,
   "metadata": {},
   "outputs": [
    {
     "data": {
      "text/plain": [
       "['Dicentra',\n",
       " 'Dicentra cucullaria',\n",
       " 'Dicentra eximia',\n",
       " 'Lamprocapnos',\n",
       " 'Dicentra formosa',\n",
       " 'Dicentra peregrina',\n",
       " 'Dicentra canadensis',\n",
       " 'Stenoma dicentra',\n",
       " 'Dactylicapnos',\n",
       " 'Papaveraceae']"
      ]
     },
     "execution_count": 471,
     "metadata": {},
     "output_type": "execute_result"
    }
   ],
   "source": [
    "wikipedia.search('Dicentra')"
   ]
  },
  {
   "cell_type": "code",
   "execution_count": 482,
   "metadata": {
    "scrolled": false
   },
   "outputs": [
    {
     "name": "stdout",
     "output_type": "stream",
     "text": [
      "19781\n",
      "Do you put gas on the driver side or passenger side of the Suzuki Samurai SJ 413 QX 1989?\n",
      "More chunks:  {'Suzuki', 'QX', 'passenger side', 'Samurai', 'driver side', 'SJ'}\n",
      "add 6 more chunks, 55 more pages\n",
      "8925\n",
      "Does the center of the Aeonium Subplanum or the Aeonium Korneliuslemsii plant look more like a rose?\n",
      "More chunks:  {'Aeonium', 'Aeonium Subplanum', 'Korneliuslemsii plant', 'Subplanum', 'Aeonium Korneliuslemsii', 'Korneliuslemsii'}\n",
      "add 6 more chunks, 11 more pages\n",
      "200\n",
      "10135\n",
      "Is the text at Nikko Toshogu Outer Torii written vertically or horizontally?\n",
      "More chunks:  {'Nikko', 'Toshogu', 'Outer Torii', 'Torii', 'Outer', 'Nikko Toshogu', 'Toshogu Outer Torii'}\n",
      "add 7 more chunks, 53 more pages\n",
      "8336\n",
      "Do Assaf sheep's ears droop below their jawline?\n",
      "More chunks:  {'Assaf', 'Assaf sheep'}\n",
      "add 2 more chunks, 18 more pages\n",
      "12480\n",
      "What shade fur does the underbelly of Malabar giant sqirrel have?\n",
      "More chunks:  {'shade fur', 'Malabar', 'giant sqirrel'}\n",
      "add 3 more chunks, 23 more pages\n",
      "8317\n",
      "What color are the window frames of the Jämsä vocational school?\n",
      "More chunks:  {'Jämsä', 'vocational school', 'window frames'}\n",
      "add 3 more chunks, 30 more pages\n",
      "21665\n",
      "How is the lady depicted in Divinité féminine Musée Guimet clothed?\n",
      "More chunks:  {'féminine Musée Guimet', 'Musée Guimet', 'Guimet', 'Divinité féminine', 'Musée', 'Divinité'}\n",
      "add 6 more chunks, 47 more pages\n",
      "400\n",
      "9208\n",
      "What is seen both in the leaves and flower petals of Gefleckte Taubnessel?\n",
      "More chunks:  {'Taubnessel', 'Gefleckte', 'flower petals'}\n",
      "add 3 more chunks, 13 more pages\n",
      "600\n",
      "23814\n",
      "Are all 'Henry Garnet' Itea virginica really garnet colored?\n",
      "More chunks:  {'Henry', 'Henry Garnet', 'Itea', 'Itea virginica', 'Garnet'}\n",
      "add 5 more chunks, 45 more pages\n",
      "8916\n",
      "What colors are the Cheverny and Dicentra cucullaria flowers?\n",
      "More chunks:  {'cucullaria flowers', 'Dicentra', 'Cheverny'}\n",
      "add 3 more chunks, 24 more pages\n",
      "6836\n",
      "Does the character in the work Beslotentuinfeest look happy or upset?\n",
      "More chunks:  set()\n",
      "add 0 more chunks, 0 more pages\n",
      "800\n",
      "16222\n",
      "Do both the Czynciel tenement and the Fontanowska House have arches on the ground floor?\n",
      "More chunks:  {'Fontanowska House', 'Czynciel tenement', 'Fontanowska', 'Czynciel', 'House', 'ground floor'}\n",
      "add 6 more chunks, 21 more pages\n",
      "3143\n",
      "What flag flies on a pole from the roof of the Ediinburgh Castle?\n",
      "More chunks:  {'Castle', 'Ediinburgh Castle', 'Ediinburgh'}\n",
      "add 3 more chunks, 12 more pages\n",
      "7844\n",
      "What is the color of the eyes and underside of the wing on a Roterkardinal?\n",
      "More chunks:  {'Roterkardinal'}\n",
      "add 1 more chunks, 0 more pages\n",
      "18830\n",
      "What are people walking on in Carl Rotteken's painting Italian Village?\n",
      "More chunks:  {'Carl', 'Italian', 'painting Italian Village', 'Italian Village', 'Rotteken', 'Carl Rotteken', 'Village'}\n",
      "add 7 more chunks, 45 more pages\n",
      "14291\n",
      "Is the ceiling in the Ivanofio Indoor Arena the same height on both sides of the basketball court?\n",
      "More chunks:  {'Arena', 'Ivanofio', 'basketball court', 'Ivanofio Indoor Arena', 'Indoor Arena', 'same height', 'Indoor'}\n",
      "add 7 more chunks, 50 more pages\n",
      "9573\n",
      "Which pattern is common in Andijon traditional wear?\n",
      "More chunks:  {'Andijon', 'traditional wear'}\n",
      "add 2 more chunks, 20 more pages\n",
      "2621\n",
      "What materials were used for the roofs on top of the huts at the Ansakket Festival?\n",
      "More chunks:  {'Festival', 'Ansakket Festival', 'Ansakket'}\n",
      "add 3 more chunks, 10 more pages\n",
      "13797\n",
      "Are the street lamps on Baggensgatten freestanding or attached to buildings?\n",
      "More chunks:  {'street lamps', 'Baggensgatten'}\n",
      "add 2 more chunks, 10 more pages\n",
      "1000\n",
      "5571\n",
      "Do the Mycena leaiana var. australis and the Mazza di Tamburo both grow in groups?\n",
      "More chunks:  {'Mycena leaiana var', 'leaiana var', 'Mazza', 'Mycena', 'Mazza di Tamburo', 'Tamburo', 'di', 'di Tamburo'}\n",
      "add 8 more chunks, 52 more pages\n",
      "4424\n",
      "On what part of the Habesha woman's traditional attire contain vibrant, bright colors?\n",
      "More chunks:  {'traditional attire contain', 'Habesha', 'attire contain', 'bright colors', 'vibrant, bright colors', 'Habesha woman'}\n",
      "add 6 more chunks, 54 more pages\n",
      "10508\n",
      "Does the Royale Coupe De Ville Binder have a place to put your foot to step up into the car?\n",
      "More chunks:  {'Binder', 'De', 'Coupe', 'Coupe De Ville Binder', 'Ville', 'De Ville', 'Ville Binder', 'Royale', 'Royale Coupe De Ville Binder'}\n",
      "add 9 more chunks, 70 more pages\n",
      "6728\n",
      "Is the roof of the Takeshimaya Times Square building straight across or unenven?\n",
      "More chunks:  {'Takeshimaya Times Square', 'Takeshimaya', 'Times', 'Times Square', 'Square', 'Square building'}\n",
      "add 6 more chunks, 37 more pages\n",
      "11294\n",
      "What color is the top of the bench in between the displays at the Shinise Kinenkan Museum?\n",
      "More chunks:  {'Shinise Kinenkan Museum', 'Shinise', 'Kinenkan', 'Museum', 'Kinenkan Museum'}\n",
      "add 5 more chunks, 38 more pages\n",
      "10334\n",
      "What is the color of the roof of CUHK Round Pavilion?\n",
      "More chunks:  {'Pavilion', 'CUHK', 'Round Pavilion', 'Round'}\n",
      "add 4 more chunks, 39 more pages\n",
      "10499\n",
      "Are there stairs leading to the entrances of both the Catedral de San Marcos de Arica and La Baslica de San Marcos?\n",
      "More chunks:  {'de San Marcos', 'Marcos', 'La', 'de', 'San Marcos', 'Arica', 'San', 'Baslica', 'Catedral'}\n",
      "add 9 more chunks, 84 more pages\n",
      "25097\n",
      "Is the Schotten Busenborn Protestant Church Organ located on the ground floor?\n",
      "More chunks:  {'Schotten Busenborn Protestant Church Organ', 'Church', 'Organ', 'Busenborn Protestant', 'Schotten', 'Church Organ', 'Protestant', 'Protestant Church Organ', 'Busenborn', 'ground floor'}\n",
      "add 10 more chunks, 65 more pages\n",
      "1200\n",
      "21212\n",
      "What car company's logo is on the roof of Berlin's Motel AVUS?\n",
      "More chunks:  {'Motel AVUS', 'AVUS', 'Berlin', 'Motel', 'car company'}\n",
      "add 5 more chunks, 41 more pages\n",
      "4506\n",
      "Which insect is more shiny; Euphoria fulgida or Mormolyce phyllodes?\n",
      "More chunks:  {'Euphoria', 'Mormolyce', 'Euphoria fulgida'}\n",
      "add 3 more chunks, 20 more pages\n",
      "15015\n",
      "What is the pattern of skirts worn by ladies in srbský folklorní soubor?\n",
      "More chunks:  {'folklorní soubor'}\n",
      "add 1 more chunks, 1 more pages\n",
      "13653\n",
      "Are there flowering plants lining the walkway to the Palatul Roznovanu building?\n",
      "More chunks:  {'Palatul', 'Palatul Roznovanu', 'Roznovanu', 'Roznovanu building'}\n",
      "add 4 more chunks, 25 more pages\n",
      "11025\n",
      "Is the dorsal fin of the Lethrinus atkinsoni smooth or spiky?\n",
      "More chunks:  {'dorsal fin', 'Lethrinus', 'Lethrinus atkinsoni smooth', 'atkinsoni smooth'}\n",
      "add 4 more chunks, 29 more pages\n",
      "1400\n",
      "10079\n",
      "What digits does the clock in Vyborg's Old Clock Tower display?\n",
      "More chunks:  {'Tower display', 'Old', 'Vyborg', 'Old Clock', 'Clock', 'Clock Tower', 'Tower'}\n",
      "add 7 more chunks, 63 more pages\n",
      "15673\n",
      "What animal statues decorate the Nashik Sarbojanin Durga Puja Festival?\n",
      "More chunks:  {'Sarbojanin', 'Sarbojanin Durga', 'Nashik Sarbojanin', 'Puja Festival', 'Nashik', 'animal statues', 'Puja', 'Durga Puja Festival', 'Festival', 'Durga'}\n",
      "add 10 more chunks, 70 more pages\n",
      "21712\n",
      "In which direction does the Ganoderma austroafricanum Coetzee grow?\n",
      "More chunks:  {'austroafricanum Coetzee', 'Ganoderma', 'Ganoderma austroafricanum Coetzee', 'austroafricanum', 'Coetzee'}\n",
      "add 5 more chunks, 30 more pages\n",
      "4466\n",
      "Are the petals of a Potentilla fructiosa closer in shape to a circle or triangle?\n",
      "More chunks:  {'Potentilla fructiosa', 'Potentilla'}\n",
      "add 2 more chunks, 10 more pages\n",
      "3239\n",
      "Which organ has it's manufacturer city and state written on it; Parlor organ manufactured by Ferrand & Votey Organ Company, Detroit or Wurlitzer Model 44 Electrostatic Reed Organ?\n",
      "More chunks:  {'Model', 'Ferrand', 'manufacturer city', 'Organ', 'Company', 'Votey', 'Organ Company', 'Reed Organ', 'Parlor organ', 'Wurlitzer', 'Detroit', 'Electrostatic Reed', 'Reed', 'Wurlitzer Model', 'Electrostatic', 'Parlor', 'Votey Organ Company'}\n",
      "add 17 more chunks, 146 more pages\n",
      "1600\n",
      "19683\n",
      "Are the men in dghirlandaio's Zaccaria in the temple and Giuseppe Arcimboldo's Possibly Ulrich Zasius (1461-1536) wearing caps?\n",
      "More chunks:  {'Zasius', 'Giuseppe Arcimboldo', 'Arcimboldo', 'Possibly', 'Zaccaria', 'Ulrich', 'Giuseppe', 'Ulrich Zasius'}\n",
      "add 8 more chunks, 62 more pages\n",
      "21882\n",
      "What colored stripe do the Caballo Haflinge horses have on their head?\n",
      "More chunks:  {'Caballo Haflinge', 'Caballo', 'Haflinge horses', 'Haflinge', 'colored stripe'}\n",
      "add 5 more chunks, 20 more pages\n"
     ]
    },
    {
     "name": "stdout",
     "output_type": "stream",
     "text": [
      "675\n",
      "Does one of the windows in Hogsmeade feature sports equipment?\n",
      "More chunks:  {'feature sports', 'sports equipment', 'Hogsmeade'}\n",
      "add 3 more chunks, 30 more pages\n",
      "1800\n",
      "2000\n"
     ]
    }
   ],
   "source": [
    "record = defaultdict(lambda: {})\n",
    "for k in random.sample(list(img_dataset.keys()), 2000):\n",
    "    #k=8916\n",
    "    keywords, answerwords, Q, A, chunks = get_keywords_from_img_sample(k)\n",
    "    record[k] = {'chunks': chunks, 'pages': noun_chunk2candidate_page(chunks, k)}\n",
    "    if len(record)%200 == 0: print(len(record))\n"
   ]
  },
  {
   "cell_type": "code",
   "execution_count": null,
   "metadata": {},
   "outputs": [],
   "source": []
  },
  {
   "cell_type": "code",
   "execution_count": 244,
   "metadata": {},
   "outputs": [
    {
     "name": "stderr",
     "output_type": "stream",
     "text": [
      "/home/yingshac/miniconda3/envs/py37/lib/python3.7/site-packages/seaborn/distributions.py:2551: FutureWarning: `distplot` is a deprecated function and will be removed in a future version. Please adapt your code to use either `displot` (a figure-level function with similar flexibility) or `histplot` (an axes-level function for histograms).\n",
      "  warnings.warn(msg, FutureWarning)\n",
      "No handles with labels found to put in legend.\n"
     ]
    },
    {
     "name": "stdout",
     "output_type": "stream",
     "text": [
      "0.0265\n"
     ]
    },
    {
     "data": {
      "text/plain": [
       "<matplotlib.legend.Legend at 0x7f6c066fc050>"
      ]
     },
     "execution_count": 244,
     "metadata": {},
     "output_type": "execute_result"
    },
    {
     "data": {
      "image/png": "[encoded data removed]",
      "text/plain": [
       "<Figure size 432x288 with 1 Axes>"
      ]
     },
     "metadata": {},
     "output_type": "display_data"
    }
   ],
   "source": [
    "print(np.sum(np.array(x) == 0) / len(x))\n",
    "sns.distplot(x, kde=False, bins=30)\n",
    "plt.legend()"
   ]
  },
  {
   "cell_type": "code",
   "execution_count": 487,
   "metadata": {},
   "outputs": [],
   "source": [
    "# Given img_dataset indx & title, find sentences with word overlap with the question\n",
    "def find_sentences_from_indx_for_img(k, keywords, answerwords, chunks):\n",
    "    sen2score = {}\n",
    "    candidate_pages, updated_chunks = noun_chunk2candidate_page(chunks, k)\n",
    "    print(\"num of candidate pages = {}\\n\".format(len(candidate_pages)))\n",
    "    for title in candidate_pages:\n",
    "        page = \"https://en.wikipedia.org/wiki/\" + \"_\".join(title.split())\n",
    "        sen2score.update(find_sentences_from_page_for_img_data(title, page, keywords, answerwords))\n",
    "    sen2score = dict(sorted(sen2score.items(), key=lambda x: x[1]['scores'][0], reverse=True))\n",
    "    return sen2score, candidate_pages, updated_chunks"
   ]
  },
  {
   "cell_type": "code",
   "execution_count": 199,
   "metadata": {
    "collapsed": true
   },
   "outputs": [
    {
     "name": "stdout",
     "output_type": "stream",
     "text": [
      "Q =  What color did Croatia's goalkeeper wear in the 2018 FIFA World Cup Match 64, France v Croatia?\n",
      "Keywords = {'Cup', 'color', 'Match', 'World', 'France', 'wear', '2018', 'goalkeeper', 'Croatia', 'FIFA', '64'}\n",
      "Gold img: Croatia_WC2018_final - \n",
      "A =  \"Green\"\n",
      "answerwords = {'Green'}\n",
      " \n",
      "keywords used to find noun chunks:  ['Croatia', '2018', 'FIFA', 'World', 'Cup', 'Match', '64', 'France', 'Croatia']\n",
      "noun chunk :  What color\n",
      "noun chunk :  Croatia's goalkeeper wear\n",
      "noun chunk :  the 2018 FIFA World Cup Match\n",
      "noun chunk :  France\n",
      "noun chunk :  Croatia\n",
      "num of candidate pages = 30\n",
      "\n"
     ]
    },
    {
     "name": "stderr",
     "output_type": "stream",
     "text": [
      "/home/yingshac/miniconda3/envs/py37/lib/python3.7/site-packages/wikipedia/wikipedia.py:389: GuessedAtParserWarning: No parser was explicitly specified, so I'm using the best available HTML parser for this system (\"lxml\"). This usually isn't a problem, but if you run this code on another system, or in a different virtual environment, it may use a different parser and behave differently.\n",
      "\n",
      "The code that caused this warning is on line 389 of the file /home/yingshac/miniconda3/envs/py37/lib/python3.7/site-packages/wikipedia/wikipedia.py. To get rid of this warning, pass the additional argument 'features=\"lxml\"' to the BeautifulSoup constructor.\n",
      "\n",
      "  lis = BeautifulSoup(html).find_all('li')\n"
     ]
    },
    {
     "name": "stdout",
     "output_type": "stream",
     "text": [
      "France won the 2018 FIFA World Cup, defeating Croatia 4–2 in the final match on 15 July 2018.\n",
      "{'scores': (0.37, 0.0, 0.37), 'link': 'https://en.wikipedia.org/wiki/France_national_football_team', 'title': 'France national football team'}\n",
      " \n",
      "In 2018, France defeated Croatia 4–2 in the final match and won the World Cup for the second time.\n",
      "{'scores': (0.31, 0.0, 0.31), 'link': 'https://en.wikipedia.org/wiki/France_national_football_team', 'title': 'France national football team'}\n",
      " \n",
      "Before 2018, France's only World Cup victory was in 1998 – though they had also reached the final in 2006 – while Croatia were playing in their first World Cup final.\n",
      "{'scores': (0.29, 0.0, 0.29), 'link': 'https://en.wikipedia.org/wiki/2018_FIFA_World_Cup_Final', 'title': '2018 FIFA World Cup Final'}\n",
      " \n",
      "The winners of each group qualified for the 2018 FIFA World Cup.\n",
      "{'scores': (0.29, 0.0, 0.29), 'link': 'https://en.wikipedia.org/wiki/2018_FIFA_World_Cup_qualification', 'title': '2018 FIFA World Cup qualification'}\n",
      " \n",
      "The four winners qualified for the 2018 FIFA World Cup.\n",
      "{'scores': (0.29, 0.0, 0.29), 'link': 'https://en.wikipedia.org/wiki/2018_FIFA_World_Cup_qualification', 'title': '2018 FIFA World Cup qualification'}\n",
      " \n",
      "Afterwards, it was renovated in preparation for the 2017 FIFA Confederations Cup and the 2018 World Cup.\n",
      "{'scores': (0.29, 0.0, 0.29), 'link': 'https://en.wikipedia.org/wiki/2018_FIFA_World_Cup', 'title': '2018 FIFA World Cup'}\n",
      " \n",
      "The following article concerns the performance of Brazil at the 2018 FIFA World Cup.\n",
      "{'scores': (0.29, 0.0, 0.29), 'link': 'https://en.wikipedia.org/wiki/Brazil_at_the_2018_FIFA_World_Cup', 'title': 'Brazil at the 2018 FIFA World Cup'}\n",
      " \n",
      "In July 1930, France appeared in the inaugural FIFA World Cup, held in Uruguay.\n",
      "{'scores': (0.27, 0.0, 0.27), 'link': 'https://en.wikipedia.org/wiki/France_national_football_team', 'title': 'France national football team'}\n",
      " \n",
      "France won the 2018 FIFA World Cup, defeating Croatia 4–2 in the final match on 15 July 2018. This was the second time they had won the tournament after winning it on home soil in 1998.\n",
      "{'scores': (0.27, 0.0, 0.27), 'link': 'https://en.wikipedia.org/wiki/France_national_football_team', 'title': 'France national football team'}\n",
      " \n",
      "Croatia was undefeated for the first round of 2018 World Cup qualification matches.\n",
      "{'scores': (0.27, 0.0, 0.27), 'link': 'https://en.wikipedia.org/wiki/Croatia_national_football_team', 'title': 'Croatia national football team'}\n",
      " \n",
      " ------------------------------------------------------------ \n",
      "\n",
      "Q =  Is the dog park in Piedmont Park surrounded by trees and greenery?\n",
      "Keywords = {'park', 'Piedmont', 'greenery', 'Park', 'trees', 'dog'}\n",
      "Gold img: Dog_park_in_Piedmont_Park.JPG - \n",
      "A =  \"yes\"\n",
      "answerwords = set()\n",
      " \n",
      "keywords used to find noun chunks:  ['Piedmont', 'Park']\n",
      "noun chunk :  the dog park\n",
      "noun chunk :  Piedmont Park\n",
      "noun chunk :  trees\n",
      "noun chunk :  greenery\n",
      "num of candidate pages = 10\n",
      "\n",
      "The city bought the park for $98,000 in 1904, incorporating Piedmont Park into Atlanta's city limits.\n",
      "{'scores': (0.27, 0.0, 0.27), 'link': 'https://en.wikipedia.org/wiki/Piedmont_Park', 'title': 'Piedmont Park'}\n",
      " \n",
      "Atlanta was a rapidly growing city in the years before Piedmont Park.\n",
      "{'scores': (0.22, 0.0, 0.22), 'link': 'https://en.wikipedia.org/wiki/Piedmont_Park', 'title': 'Piedmont Park'}\n",
      " \n",
      "Over $2 million was spent on the transformation of Piedmont Park.\n",
      "{'scores': (0.22, 0.0, 0.22), 'link': 'https://en.wikipedia.org/wiki/Piedmont_Park', 'title': 'Piedmont Park'}\n",
      " \n",
      "=== Friends of Piedmont Park v. The Piedmont Park Conservancy =\n",
      "{'scores': (0.22, 0.0, 0.22), 'link': 'https://en.wikipedia.org/wiki/Non-profit_organizations_and_access_to_public_information', 'title': 'Non-profit organizations and access to public information'}\n",
      " \n",
      "The Piedmont Park Conservancy (a nonprofit) was responsible for the restoration of the Piedmont Park Dog Parks, and still manages the dog parks today.\n",
      "{'scores': (0.21, 0.0, 0.21), 'link': 'https://en.wikipedia.org/wiki/Piedmont_Park', 'title': 'Piedmont Park'}\n",
      " \n",
      "Piedmont Park has picnic shelters located just to the East of the north soccer field. There are also various picnic tables and benches throughout the park.\n",
      "{'scores': (0.21, 0.0, 0.21), 'link': 'https://en.wikipedia.org/wiki/Piedmont_Park', 'title': 'Piedmont Park'}\n",
      " \n",
      "Piedmont Park is a popular place for organized sports.\n",
      "{'scores': (0.2, 0.0, 0.2), 'link': 'https://en.wikipedia.org/wiki/Piedmont_Park', 'title': 'Piedmont Park'}\n",
      " \n",
      "The Conservancy was founded in 1989 to revitalize the rapidly deteriorating park. Since then, it has raised and invested $66 million in the restoration and enhancement of Piedmont Park and making it, once again, the most visited green space in Atlanta.\n",
      "{'scores': (0.2, 0.0, 0.2), 'link': 'https://en.wikipedia.org/wiki/Piedmont_Park', 'title': 'Piedmont Park'}\n",
      " \n",
      "The first grill in Piedmont Park was erected for the 1895 Cotton States Exposition where the administrative offices now sit. There are 22 grills throughout the park.\n",
      "{'scores': (0.19, 0.0, 0.19), 'link': 'https://en.wikipedia.org/wiki/Piedmont_Park', 'title': 'Piedmont Park'}\n",
      " \n",
      "The Piedmont Park Conservancy is a private non-profit that oversees and manages Piedmont Park.\n",
      "{'scores': (0.18, 0.0, 0.18), 'link': 'https://en.wikipedia.org/wiki/Non-profit_organizations_and_access_to_public_information', 'title': 'Non-profit organizations and access to public information'}\n",
      " \n",
      " ------------------------------------------------------------ \n",
      "\n",
      "Q =  Do the Starbucks Coffee at Penn Station in New York and at the 81st Street Theatre have the same color font in their signage?\n",
      "Keywords = {'color', 'New', 'Penn', 'font', 'Street', '81st', 'same', 'Starbucks', 'Coffee', 'York', 'signage', 'Theatre', 'Station'}\n",
      "Gold img: RKO_81st_Street_Theatre_jeh - \n",
      "Gold img: Starbucks_Coffee_Penn_Station_New_York_ - \n",
      "A =  \"Yes\"\n",
      "answerwords = {'Yes'}\n",
      " \n",
      "keywords used to find noun chunks:  ['Starbucks', 'Coffee', 'Penn', 'Station', 'New', 'York', '81st', 'Street', 'Theatre', 'same']\n",
      "noun chunk :  the Starbucks Coffee\n",
      "noun chunk :  Penn Station\n",
      "noun chunk :  New York\n",
      "noun chunk :  the 81st Street Theatre\n",
      "noun chunk :  the same color font\n",
      "noun chunk :  their signage\n",
      "num of candidate pages = 50\n",
      "\n",
      "Occasionally used by Amtrak trains to New York Penn Station.\n",
      "{'scores': (0.27, 0.0, 0.27), 'link': 'https://en.wikipedia.org/wiki/Pennsylvania_Station_(Newark)', 'title': 'Pennsylvania Station (Newark)'}\n",
      " \n",
      "New York Penn Station was officially declared complete on August 29, 1910.\n",
      "{'scores': (0.24, 0.0, 0.24), 'link': 'https://en.wikipedia.org/wiki/Pennsylvania_Station_(1910–1963)', 'title': 'Pennsylvania Station (1910–1963)'}\n",
      " \n",
      "34th Street–Penn Station is an express station on the IRT Broadway–Seventh Avenue Line of the New York City Subway.\n",
      "{'scores': (0.22, 0.0, 0.22), 'link': 'https://en.wikipedia.org/wiki/34th_Street–Penn_Station_(IRT_Broadway–Seventh_Avenue_Line)', 'title': '34th Street–Penn Station (IRT Broadway–Seventh Avenue Line)'}\n",
      " \n",
      "Philadelphia's Pennsylvania Station-30th Street became Penn Central Station-30th Street, while Baltimore's Pennsylvania Station, Michigan Central Station in Detroit, Michigan, New York Central Railroad's (NYC) Buffalo Central Station, and Pittsburgh's Pennsylvania Station became simply Penn Central Station.\n",
      "{'scores': (0.21, 0.0, 0.21), 'link': 'https://en.wikipedia.org/wiki/Pennsylvania_Station', 'title': 'Pennsylvania Station'}\n",
      " \n",
      "As the terminal shared its name with several stations in other cities, it was sometimes called New York Pennsylvania Station, or Penn Station for short.\n",
      "{'scores': (0.19, 0.0, 0.19), 'link': 'https://en.wikipedia.org/wiki/Pennsylvania_Station_(1910–1963)', 'title': 'Pennsylvania Station (1910–1963)'}\n",
      " \n",
      "At the time of Penn Station's completion, The New York Times called it \"the largest building in the world ever built at one time\".\n",
      "{'scores': (0.19, 0.0, 0.19), 'link': 'https://en.wikipedia.org/wiki/Pennsylvania_Station_(1910–1963)', 'title': 'Pennsylvania Station (1910–1963)'}\n",
      " \n",
      "The project was to include New York Penn Station; the North River Tunnels, crossing the Hudson River to the west; and the East River Tunnels, crossing the East River to the east.\n",
      "{'scores': (0.19, 0.0, 0.19), 'link': 'https://en.wikipedia.org/wiki/Pennsylvania_Station_(1910–1963)', 'title': 'Pennsylvania Station (1910–1963)'}\n",
      " \n",
      "The Pennsylvania Railroad merged with longtime rival New York Central Railroad in 1968 to form Penn Central Railroad, but Newark kept the name \"Penn Station.\n",
      "{'scores': (0.19, 0.0, 0.19), 'link': 'https://en.wikipedia.org/wiki/Pennsylvania_Station_(Newark)', 'title': 'Pennsylvania Station (Newark)'}\n",
      " \n",
      "Track 1 is normally used by New Jersey Transit trains to New York Penn Station and is served by an island platform shared with Track M.\n",
      "{'scores': (0.19, 0.0, 0.19), 'link': 'https://en.wikipedia.org/wiki/Pennsylvania_Station_(Newark)', 'title': 'Pennsylvania Station (Newark)'}\n",
      " \n",
      "Penn Station Access is a public works project planned by the Metropolitan Transportation Authority in New York City.\n",
      "{'scores': (0.19, 0.0, 0.19), 'link': 'https://en.wikipedia.org/wiki/Penn_Station_Access', 'title': 'Penn Station Access'}\n",
      " \n",
      " ------------------------------------------------------------ \n",
      "\n",
      "Q =  Do both the floor and the dome interior of San Francisco City Hall reflect light?\n",
      "Keywords = {'City', 'light', 'Francisco', 'interior', 'San', 'Hall', 'dome', 'floor'}\n",
      "Gold img: San_Francisco_City_Hall_people_and_dome.JPG - \n",
      "A =  \"Yes\"\n",
      "answerwords = {'Yes'}\n",
      " \n",
      "keywords used to find noun chunks:  ['San', 'Francisco', 'City', 'Hall']\n",
      "noun chunk :  both the floor\n",
      "noun chunk :  the dome interior\n",
      "noun chunk :  San Francisco City Hall\n"
     ]
    },
    {
     "name": "stdout",
     "output_type": "stream",
     "text": [
      "noun chunk :  light\n",
      "num of candidate pages = 10\n",
      "\n",
      "San Francisco City Hall is the seat of government for the City and County of San Francisco, California.\n",
      "{'scores': (0.33, 0.0, 0.33), 'link': 'https://en.wikipedia.org/wiki/San_Francisco_City_Hall', 'title': 'San Francisco City Hall'}\n",
      " \n",
      "The beauty of City Hall has not been lost on filmmakers working in San Francisco; many films have shot scenes in and around the building.\n",
      "{'scores': (0.29, 0.0, 0.29), 'link': 'https://en.wikipedia.org/wiki/San_Francisco_City_Hall', 'title': 'San Francisco City Hall'}\n",
      " \n",
      "The flag of the City and County of San Francisco is a flag representing San Francisco, California.\n",
      "{'scores': (0.27, 0.0, 0.27), 'link': 'https://en.wikipedia.org/wiki/Flag_of_San_Francisco', 'title': 'Flag of San Francisco'}\n",
      " \n",
      "San Francisco International Airport, though located in San Mateo County, is owned and operated by the City and County of San Francisco.\n",
      "{'scores': (0.25, 0.0, 0.25), 'link': 'https://en.wikipedia.org/wiki/San_Francisco', 'title': 'San Francisco'}\n",
      " \n",
      "In February 1948, the name was changed to City College of San Francisco.\n",
      "{'scores': (0.25, 0.0, 0.25), 'link': 'https://en.wikipedia.org/wiki/City_College_of_San_Francisco', 'title': 'City College of San Francisco'}\n",
      " \n",
      "The City of San Francisco has detailed maps of each district available on its website.\n",
      "{'scores': (0.23, 0.0, 0.23), 'link': 'https://en.wikipedia.org/wiki/San_Francisco_Board_of_Supervisors', 'title': 'San Francisco Board of Supervisors'}\n",
      " \n",
      "Belying the name, South San Francisco does not touch on San Francisco, with either Brisbane, Colma, or Daly City lying between them.\n",
      "{'scores': (0.23, 0.0, 0.23), 'link': 'https://en.wikipedia.org/wiki/South_San_Francisco,_California', 'title': 'South San Francisco, California'}\n",
      " \n",
      "City College of San Francisco is located in an urban environment and has the associated crime rate.\n",
      "{'scores': (0.23, 0.0, 0.23), 'link': 'https://en.wikipedia.org/wiki/City_College_of_San_Francisco', 'title': 'City College of San Francisco'}\n",
      " \n",
      "City Hall is located at 400 Grand Avenue (37.656°N 122.413°W﻿ / 37.656; -122.413﻿ (South San Francisco City Hall)).\n",
      "{'scores': (0.22, 0.0, 0.22), 'link': 'https://en.wikipedia.org/wiki/South_San_Francisco,_California', 'title': 'South San Francisco, California'}\n",
      " \n",
      "Colloquial nicknames for San Francisco include SF,  San Fran, The City, and Frisco.\n",
      "{'scores': (0.21, 0.0, 0.21), 'link': 'https://en.wikipedia.org/wiki/San_Francisco', 'title': 'San Francisco'}\n",
      " \n",
      " ------------------------------------------------------------ \n",
      "\n",
      "Q =  Are the ornaments of the Temple Church Organ in Birmingham, UK golden or silver colored?\n",
      "Keywords = {'Church', 'Organ', 'Birmingham', 'golden', 'UK', 'silver', 'ornaments', 'Temple'}\n",
      "Gold img: Temple_Church_Organ_(14142918741) - \n",
      "A =  \"Golden\"\n",
      "answerwords = {'Golden'}\n",
      " \n",
      "keywords used to find noun chunks:  ['Temple', 'Church', 'Organ', 'Birmingham', 'UK', 'golden']\n",
      "noun chunk :  the ornaments\n",
      "noun chunk :  the Temple Church Organ\n",
      "noun chunk :  Birmingham\n",
      "noun chunk :  UK\n",
      "num of candidate pages = 30\n",
      "\n",
      "The area around the Temple Church is known as the Temple.\n",
      "{'scores': (0.22, 0.0, 0.22), 'link': 'https://en.wikipedia.org/wiki/Temple_Church', 'title': 'Temple Church'}\n",
      " \n",
      "Birmingham is the fourth-most visited city in the UK by foreign visitors.\n",
      "{'scores': (0.18, 0.0, 0.18), 'link': 'https://en.wikipedia.org/wiki/Birmingham', 'title': 'Birmingham'}\n",
      " \n",
      "The Temple Church serves both the Inner Temple and the Middle Temple as a private chapel.\n",
      "{'scores': (0.17, 0.0, 0.17), 'link': 'https://en.wikipedia.org/wiki/Temple_Church', 'title': 'Temple Church'}\n",
      " \n",
      "Temple Church houses one of the most magnificent organs in the world.\"\n",
      "{'scores': (0.17, 0.0, 0.17), 'link': 'https://en.wikipedia.org/wiki/Temple_Church', 'title': 'Temple Church'}\n",
      " \n",
      "The choir continues to record, broadcast and perform, in addition to its regular services at the Temple Church.\n",
      "{'scores': (0.17, 0.0, 0.17), 'link': 'https://en.wikipedia.org/wiki/Temple_Church', 'title': 'Temple Church'}\n",
      " \n",
      "Birmingham became the first UK university to offer a sports degree.\n",
      "{'scores': (0.17, 0.0, 0.17), 'link': 'https://en.wikipedia.org/wiki/University_of_Birmingham', 'title': 'University of Birmingham'}\n",
      " \n",
      "Zimmer is quoted saying that \"Setting foot into Temple Church is like stepping into profound history. ...\n",
      "{'scores': (0.15, 0.0, 0.15), 'link': 'https://en.wikipedia.org/wiki/Temple_Church', 'title': 'Temple Church'}\n",
      " \n",
      "The Temple Church has always been a Peculiar (but not a Royal Peculiar), due to which the choristers have the privilege of wearing scarlet cassocks.\n",
      "{'scores': (0.14, 0.0, 0.14), 'link': 'https://en.wikipedia.org/wiki/Temple_Church', 'title': 'Temple Church'}\n",
      " \n",
      "Relations with the Bishop of London are very good and she regularly attends events and services at the Temple Church.\n",
      "{'scores': (0.14, 0.0, 0.14), 'link': 'https://en.wikipedia.org/wiki/Temple_Church', 'title': 'Temple Church'}\n",
      " \n",
      "The original temple site proper is now owned by the Church of Christ (Temple Lot).\n",
      "{'scores': (0.14, 0.0, 0.14), 'link': 'https://en.wikipedia.org/wiki/Independence_Temple', 'title': 'Independence Temple'}\n",
      " \n",
      " ------------------------------------------------------------ \n",
      "\n",
      "Q =  Where is the sign for the Galeries Lafayette department store located at on the front of the building?\n",
      "Keywords = {'Galeries', 'department', 'Lafayette', 'sign', 'store', 'front', 'building'}\n",
      "Gold img: Galeries_lafayette_xmas_night - \n",
      "A =  \"near the top\"\n",
      "answerwords = {'top'}\n",
      " \n",
      "keywords used to find noun chunks:  ['Galeries', 'Lafayette']\n",
      "noun chunk :  the sign\n",
      "noun chunk :  the Galeries Lafayette department store\n",
      "noun chunk :  the front\n",
      "noun chunk :  the building\n",
      "num of candidate pages = 10\n",
      "\n",
      "He also contributed to the reconstruction of the Galeries Lafayette department store in 1932–1836.\n",
      "{'scores': (0.44, 0.0, 0.44), 'link': 'https://en.wikipedia.org/wiki/Art_Deco_in_Paris', 'title': 'Art Deco in Paris'}\n",
      " \n",
      "Galeries Lafayette Berlin – Berlin branch of the French department store\n",
      "{'scores': (0.4, 0.0, 0.4), 'link': 'https://en.wikipedia.org/wiki/List_of_department_stores_by_country', 'title': 'List of department stores by country'}\n",
      " \n",
      "The Galeries Lafayette  (French pronunciation: ​[ɡalʁi lafajɛt]) is an upmarket French department store chain.\n",
      "{'scores': (0.31, 0.0, 0.31), 'link': 'https://en.wikipedia.org/wiki/Galeries_Lafayette', 'title': 'Galeries Lafayette'}\n",
      " \n",
      "Galeries Lafayette previously operated a store in Casablanca from the 1920s through the early 1970s.\n",
      "{'scores': (0.27, 0.0, 0.27), 'link': 'https://en.wikipedia.org/wiki/Galeries_Lafayette', 'title': 'Galeries Lafayette'}\n",
      " \n",
      "Maurice Dufrêne (1876–1955) was a French decorative artist who headed the  Maîtrise workshop of the Galeries Lafayette department store.\n",
      "{'scores': (0.27, 0.0, 0.27), 'link': 'https://en.wikipedia.org/wiki/Maurice_Dufrêne', 'title': 'Maurice Dufrêne'}\n",
      " \n",
      "The most famous example is the Galeries Lafayette department store on Boulevard Haussmann, built by architect Georges Chedanne and his pupil Ferdinand Chanut.\n",
      "{'scores': (0.24, 0.0, 0.24), 'link': 'https://en.wikipedia.org/wiki/Art_Nouveau_in_Paris', 'title': 'Art Nouveau in Paris'}\n",
      " \n",
      "The kimono store changed to a department store in 1910.\n",
      "{'scores': (0.22, 0.0, 0.22), 'link': 'https://en.wikipedia.org/wiki/Department_store', 'title': 'Department store'}\n",
      " \n",
      "Dubai, UAE - A Galeries Lafayette store opened in Dubai Mall on 18 May 2009.\n",
      "{'scores': (0.21, 0.0, 0.21), 'link': 'https://en.wikipedia.org/wiki/Galeries_Lafayette', 'title': 'Galeries Lafayette'}\n",
      " \n",
      "The most famous example is the Galeries Lafayette department store on Boulevard Haussmann, built by architect Georges Chedanne and his pupil Ferdinand Chanut. The building was begun in 1895, and the central dome and Art Nouveau staircases accessing it we're completed in 1912.\n",
      "{'scores': (0.21, 0.0, 0.21), 'link': 'https://en.wikipedia.org/wiki/Art_Nouveau_in_Paris', 'title': 'Art Nouveau in Paris'}\n",
      " \n",
      "It is a part of the company Groupe Galeries Lafayette and has been a member of the International Association of department stores since 1960.\n",
      "{'scores': (0.2, 0.0, 0.2), 'link': 'https://en.wikipedia.org/wiki/Galeries_Lafayette', 'title': 'Galeries Lafayette'}\n",
      " \n",
      " ------------------------------------------------------------ \n",
      "\n"
     ]
    }
   ],
   "source": [
    "for k in [345, 678, 456, 1297, 9099, 4738]:\n",
    "    d, word_lists = find_sentences_from_indx_for_img(k)\n",
    "    for k in list(d.keys())[:10]:\n",
    "    \n",
    "        print(k)\n",
    "        print(d[k])\n",
    "        print(' ')\n",
    "    print(' ------------------------------------------------------------ \\n')"
   ]
  },
  {
   "cell_type": "code",
   "execution_count": 490,
   "metadata": {},
   "outputs": [],
   "source": [
    "def add_html_row_x_distractor_for_img(k, sen2score, word_lists, chunks, pages, colors=[\"(205, 245, 252)\", \"(255, 214, 222)\"]):\n",
    "    html = '<tr><td>{}.</td>'.format(k)\n",
    "    Q = img_dataset[str(k)]['Q'].replace('\"', '')\n",
    "    html += '<td>Q: {}<br><br>'.format(highlight_words(word_lists, chunks, colors, Q))\n",
    "    A = img_dataset[str(k)]['A'].replace('\"', '')\n",
    "    for gid in img_dataset[str(k)]['GoldIds']:\n",
    "        img = img_meta[str(int(gid))]\n",
    "        html += '<a href=\"{}\" target=\"_blank\"><img style=\"display:block; max-height:300px; max-width:100%;\" src = \"{}\"></a>'.format(img['page'], img['src'])\n",
    "        html += '<br>Title = {}<br>Description = {}<br><br>'.format(highlight_words(word_lists, [], colors, img['name'].replace(\"_\", \" \")), highlight_words(word_lists, [], colors, img['description'].replace(\"_\", \" \")))\n",
    "    html += 'A: {}<br><br>'.format(highlight_words(word_lists, [], colors, A))\n",
    "    html += '<span class=\"hid\" style=\"display: none\"><b>Relevant Wikipedia Pages: </b>{}</span>'.format(', '.join(pages))\n",
    "    html += '<br><button onclick=\"btn_click($(this));\">Toggle details</button></td><td>'\n",
    "    \n",
    "    for s in list(sen2score.keys())[:10]:\n",
    "        html += '{} --- {} '.format(highlight_words(word_lists, [], colors, s), str(sen2score[s]['scores']))\n",
    "        html += '<a href=\"{}\"  target=\"_blank\"> {}</a><br><br>'.format(sen2score[s]['link'], sen2score[s]['title'])\n",
    "    for s in list(sen2score.keys())[10:]:\n",
    "        html += '<span class=\"hid\" style=\"display: none\">{} --- {} '.format(highlight_words(word_lists, [], colors, s), str(sen2score[s]['scores']))\n",
    "        html += '<a href=\"{}\"  target=\"_blank\"> {}</a><br><br></span>'.format(sen2score[s]['link'], sen2score[s]['title'])\n",
    "        \n",
    "    html += '</td></tr>'\n",
    "    html += '<tr><td colspan=3><hr></td></tr>'\n",
    "    return html.encode('ascii', 'xmlcharrefreplace').decode(\"utf-8\") "
   ]
  },
  {
   "cell_type": "code",
   "execution_count": 493,
   "metadata": {},
   "outputs": [
    {
     "name": "stdout",
     "output_type": "stream",
     "text": [
      "8925\n",
      "Q =  Does the center of the Aeonium Subplanum or the Aeonium Korneliuslemsii plant look more like a rose?\n",
      "Keywords = {'Aeonium', 'plant', 'Subplanum', 'center', 'Korneliuslemsii', 'rose'}\n",
      "A =  Aeonium Subplanum\n",
      "answerwords = {'Aeonium', 'Subplanum'}\n",
      "\n",
      "Noun chunks:  {'the Aeonium Subplanum', 'the Aeonium Korneliuslemsii plant'}\n",
      " \n",
      "8925\n",
      "Does the center of the Aeonium Subplanum or the Aeonium Korneliuslemsii plant look more like a rose?\n",
      "More chunks:  {'Aeonium', 'Aeonium Subplanum', 'Korneliuslemsii plant', 'Subplanum', 'Aeonium Korneliuslemsii', 'Korneliuslemsii'}\n",
      "add 6 more chunks, 11 more pages\n",
      "num of candidate pages = 11\n",
      "\n",
      "10135\n",
      "Q =  Is the text at Nikko Toshogu Outer Torii written vertically or horizontally?\n",
      "Keywords = {'Nikko', 'Toshogu', 'text', 'Torii', 'Outer'}\n",
      "A =  Vertically.\n",
      "answerwords = set()\n",
      "\n",
      "Noun chunks:  {'Nikko Toshogu Outer Torii'}\n",
      " \n",
      "10135\n",
      "Is the text at Nikko Toshogu Outer Torii written vertically or horizontally?\n",
      "More chunks:  {'Nikko', 'Toshogu', 'Outer Torii', 'Torii', 'Outer', 'Nikko Toshogu', 'Toshogu Outer Torii'}\n",
      "add 7 more chunks, 53 more pages\n",
      "num of candidate pages = 53\n",
      "\n"
     ]
    },
    {
     "name": "stderr",
     "output_type": "stream",
     "text": [
      "/home/yingshac/miniconda3/envs/py37/lib/python3.7/site-packages/wikipedia/wikipedia.py:389: GuessedAtParserWarning: No parser was explicitly specified, so I'm using the best available HTML parser for this system (\"lxml\"). This usually isn't a problem, but if you run this code on another system, or in a different virtual environment, it may use a different parser and behave differently.\n",
      "\n",
      "The code that caused this warning is on line 389 of the file /home/yingshac/miniconda3/envs/py37/lib/python3.7/site-packages/wikipedia/wikipedia.py. To get rid of this warning, pass the additional argument 'features=\"lxml\"' to the BeautifulSoup constructor.\n",
      "\n",
      "  lis = BeautifulSoup(html).find_all('li')\n"
     ]
    }
   ],
   "source": [
    "html = '<link rel=\"stylesheet\" href=\"https://maxcdn.bootstrapcdn.com/bootstrap/3.4.1/css/bootstrap.min.css\">'\n",
    "html += '<script src=\"https://code.jquery.com/jquery-3.2.1.min.js\" integrity=\"sha256-hwg4gsxgFZhOsEEamdOYGBf13FyQuiTwlAQgxVSNgt4=\" crossorigin=\"anonymous\"></script>'\n",
    "html += '<script src=\"https://maxcdn.bootstrapcdn.com/bootstrap/3.4.1/js/bootstrap.min.js\"></script>'\n",
    "html += '<!DOCTYPE html><html><head><meta http-equiv=\"content-type\" content=\"text/html; chatset=\"UTF-8\"><body>'\n",
    "html += '<script>$(\"img\").on(\"error\", function(){console.log($(this).attr(\"src\"));});'\n",
    "html += 'function btn_click(btn){$(btn).parent().parent().find(\".hid\").toggle();}</script>'\n",
    "html += '<style>table {border-collapse: separate;border-spacing: 10px;}\\n'\n",
    "html += '.chunk {text-decoration: underline solid rgb(227, 123, 253) 3px;}\\n'\n",
    "html += 'button {background-color:white; border: 2px solid #4CAF50; color: black; padding: 0px 8px; text-align: center; display: inline-block; font-size: 14px; margin: 4px 2px; transition-duration: 0.4s; cursor: pointer; }'\n",
    "html += 'button:hover {background-color: #4CAF50;color: white;}</style>'\n",
    "html += '<table border=\"0\" style=\"table-layout: fixed; width: 100%; word-break:break-word\">'\n",
    "html += '<tr bgcolor=lightblue style=\"text-align: center;\"><td width=5%>Index</td><td width=35%>Q & Pos Facts</td><td width=60%>Neg Facts</td></tr>'\n",
    "x = []\n",
    "for k in [8925, 10135]: #random.sample(range(25467), 2):\n",
    "    print(k)\n",
    "    keywords, answerwords, Q, A, chunks = get_keywords_from_img_sample(k)\n",
    "    print(\"Q = \", Q)\n",
    "    print(\"Keywords = {}\".format(keywords))\n",
    "    print(\"A = \", A)\n",
    "    print(\"answerwords = {}\".format(answerwords))\n",
    "    print(\"\\nNoun chunks: \", chunks)\n",
    "    print(' ')\n",
    "    d, pages, chunks = find_sentences_from_indx_for_img(k, keywords, answerwords, chunks)\n",
    "    x.append(len(d))\n",
    "    \n",
    "    word_lists = [keywords, answerwords]\n",
    "    html += add_html_row_x_distractor_for_img(k, d, word_lists, chunks, pages, colors=[\"(193, 239, 253)\", \"(255, 214, 222)\"])\n",
    "    o = open('x_distractor_for_img_demo3.html', 'wt')\n",
    "    o.write(html)\n",
    "    o.close()\n",
    "html += '</table></body></html>'\n",
    "o = open('x_distractor_for_img_demo3.html', 'wt')\n",
    "o.write(html)\n",
    "o.close()"
   ]
  },
  {
   "cell_type": "code",
   "execution_count": 354,
   "metadata": {},
   "outputs": [],
   "source": [
    "def highlight_words(word_lists, chunks, colors, sentence):\n",
    "    s = copy.deepcopy(sentence)\n",
    "    if \"\".join(chunks):\n",
    "        s = re.sub(r'\\s*(' + r'|'.join([re.escape(c) for c in chunks]) + r')\\s*', lambda m: '<span class=\"chunk\">{}</span>'.format(m.group()), s)\n",
    "    for word_list, color in zip(word_lists, colors):\n",
    "        if \"\".join(word_list): s = re.sub(r'\\b(' + r'|'.join(word_list) + r')\\b', lambda m: '<span style=\"background-color:rgb{}\">{}</span>'.format(color, m.group()), s)\n",
    "    return s"
   ]
  },
  {
   "cell_type": "code",
   "execution_count": 488,
   "metadata": {},
   "outputs": [],
   "source": [
    "def noun_chunk2candidate_page(chunks, k):\n",
    "    pages = set()\n",
    "    for chunk in chunks:\n",
    "        pages = pages.union(set(wikipedia.search(chunk)))\n",
    "    if len(pages) < 5:\n",
    "        print(k)\n",
    "        Q = img_dataset[str(k)]['Q'].replace('\"', '').replace('_', ' ')\n",
    "        doc = nlp(Q)\n",
    "        #more_chunks = set([c.text for c in doc.noun_chunks])\n",
    "        more_chunks = set()\n",
    "        more_chunks = more_chunks.union([t.text for s in doc.sents for t in s if t.pos_ == 'PROPN' or ((not t.is_sent_start) and t.text[0].isupper())])\n",
    "        for token in doc:\n",
    "            if token.dep_ == 'amod' or token.dep_ == 'compound':\n",
    "                more_chunks.add(doc[token.i: token.head.i+1].text if token.head.i > token.i else doc[token.head.i:token.i+1].text)\n",
    "        more_chunks = more_chunks - chunks\n",
    "        print(Q)\n",
    "        print(\"More chunks: \", more_chunks)\n",
    "        more_pages = set()\n",
    "        for chunk in more_chunks:\n",
    "            more_pages = more_pages.union(wikipedia.search(chunk))\n",
    "        print('add {} more chunks, {} more pages'.format(len(more_chunks), len(more_pages)))\n",
    "        pages = pages.union(more_pages)\n",
    "        chunks = chunks.union(more_chunks)\n",
    "    return pages, chunks"
   ]
  },
  {
   "cell_type": "code",
   "execution_count": 196,
   "metadata": {
    "scrolled": false
   },
   "outputs": [
    {
     "name": "stdout",
     "output_type": "stream",
     "text": [
      "123\n",
      "Does the T & T Supermarket in Richmond have a fire extinguisher that is at the front entrance to the left of large, red Chinese letters on a silver wall?\n",
      "['T', 'T', 'Supermarket', 'Richmond', 'front', 'large', 'red', 'Chinese', 'silver']\n",
      "noun_chunk:  the T & T Supermarket\n",
      "['T & T Supermarket', 'T&T', '99 Ranch Market', 'History of AT&T', 'T. R. Knight', 'Supermarket', 'AT&T Center', 'List of supermarket chains in Canada', 'Food City (K-VA-T)', 'Asian supermarket']\n",
      "noun_chunk:  Richmond\n",
      "['Richmond', 'Richmond, Virginia', 'Duke of Richmond', 'Richmond, California', 'Cedric Richmond', 'Jeff Richmond', 'Branscombe Richmond', 'Richmond Football Club', 'Richmond, London', 'Lady Margaret Beaufort']\n",
      "noun_chunk:  the front entrance\n",
      "['Entryway', 'Entrance pupil', 'AEC Routemaster', 'Ross Castle', 'Porch', 'Dulce et decorum est pro patria mori', '5, The Grove', 'Wardour Castle', 'Parliament Building (Quebec)', 'Cornelius Vanderbilt II House']\n",
      "noun_chunk:  large, red Chinese letters\n",
      "['Vermilion', 'Traditional Chinese marriage', 'Seal (East Asia)', 'Chinese characters', 'Quotations from Chairman Mao Tse-tung', 'Cultural Revolution', 'Pinyin', 'Mahjong tiles', 'Red fox', 'Chinese New Year']\n",
      "noun_chunk:  a silver wall\n",
      "['Silver', 'The Silver Scream', 'WALL-E', 'Silver Lake (investment firm)', 'Silver Surfer', 'American Silver Eagle', 'Louisa Wall', 'Walls of Constantinople', 'Fantastic Four: Rise of the Silver Surfer', 'Ice Nine Kills']\n",
      " ------------------------------------------- \n",
      "\n"
     ]
    }
   ],
   "source": [
    "for k in random.sample(list(img_dataset.keys()), 1):\n",
    "    k=123\n",
    "    print(k)\n",
    "    Q = img_dataset[str(k)]['Q'].replace('\"', '')\n",
    "    print(Q)\n",
    "    doc = nlp(Q)\n",
    "    keywords = [t.text for s in doc.sents for t in s if t.pos_ in ['NUM', 'PROPN', 'ADJ'] or ((not t.is_sent_start) and t.text[0].isupper())]\n",
    "    print(keywords)\n",
    "    for chunk in doc.noun_chunks:\n",
    "        if any([n in keywords for n in chunk.text.split()]):\n",
    "            print(\"noun_chunk: \", chunk.text)\n",
    "            print(wikipedia.search(chunk.text))\n",
    "    print(' ------------------------------------------- \\n')"
   ]
  },
  {
   "cell_type": "code",
   "execution_count": 64,
   "metadata": {},
   "outputs": [
    {
     "name": "stdout",
     "output_type": "stream",
     "text": [
      "7921\n"
     ]
    },
    {
     "data": {
      "text/plain": [
       "'\\ntemp = {}\\ncount = 0\\nfor i in new_txt_data:\\n    temp[count] = copy.deepcopy(i)\\n    temp[count][\\'Q\\'] = temp[count][\\'Question\\']\\n    temp[count][\\'A\\'] = temp[count][\\'Answer\\']\\n    del temp[count][\\'Question\\']\\n    del temp[count][\\'Answer\\']\\n    count += 1\\njson.dump(temp, open(\"/home/yingshac/CYS/WebQnA/WebQnA_data_new/output_mine_all_schema.json\", \"w\"), indent=4)\\n'"
      ]
     },
     "execution_count": 64,
     "metadata": {},
     "output_type": "execute_result"
    }
   ],
   "source": [
    "new_txt_data = json.load(open(\"/home/yingshac/CYS/WebQnA/WebQnA_data_new/output_mine_all_schema.json\", \"r\"))\n",
    "print(len(new_txt_data))\n",
    "'''\n",
    "temp = {}\n",
    "count = 0\n",
    "for i in new_txt_data:\n",
    "    temp[count] = copy.deepcopy(i)\n",
    "    temp[count]['Q'] = temp[count]['Question']\n",
    "    temp[count]['A'] = temp[count]['Answer']\n",
    "    del temp[count]['Question']\n",
    "    del temp[count]['Answer']\n",
    "    count += 1\n",
    "json.dump(temp, open(\"/home/yingshac/CYS/WebQnA/WebQnA_data_new/output_mine_all_schema.json\", \"w\"), indent=4)\n",
    "'''"
   ]
  },
  {
   "cell_type": "code",
   "execution_count": 62,
   "metadata": {},
   "outputs": [],
   "source": [
    "def sample2keywords(k):\n",
    "    Q = new_txt_data[str(k)]['Q']\n",
    "    doc = nlp(Q)\n",
    "    keywords = set([t.text for s in doc.sents for t in s if t.pos_ in pos_list or ((not t.is_sent_start) and t.text[0].isupper())])\n",
    "\n",
    "    keywords = keywords - PUNCTUATIONS        \n",
    "\n",
    "    A = new_txt_data[str(k)]['A']\n",
    "    doc = nlp(A)\n",
    "    answerwords = set([t.text for t in doc if t.pos_ in pos_list or ((not t.is_sent_start) and t.text[0].isupper())])\n",
    "    answerwords = answerwords - PUNCTUATIONS\n",
    "\n",
    "    goldfactwords = set()\n",
    "    titlewords = set()\n",
    "    Q_A_words = keywords.union(answerwords)\n",
    "    for f in new_txt_data[str(k)]['SupportingFacts']:\n",
    "        doc = nlp(f['fact'])\n",
    "        goldfactwords = goldfactwords.union(set([t.text for t in doc if t.pos_ in pos_list or ((not t.is_sent_start) and t.text[0].isupper())]) - Q_A_words)\n",
    "        fact_title_raw = ' '.join(urllib.parse.unquote(f['url']).split('/')[-1].split('_'))\n",
    "        fact_title = pattern.sub('', fact_title_raw)\n",
    "        titlewords = titlewords.union(fact_title.split())\n",
    "    goldfactwords = goldfactwords - PUNCTUATIONS \n",
    "    titlewords = titlewords - PUNCTUATIONS\n",
    "\n",
    "    word_lists = [titlewords, keywords, goldfactwords, answerwords]\n",
    "    return word_lists"
   ]
  },
  {
   "cell_type": "code",
   "execution_count": 74,
   "metadata": {},
   "outputs": [],
   "source": [
    "def add_html_row_vis_ori_dataset(k, word_lists, colors = [\"(223, 255, 238)\", \"(193, 239, 253)\", \"(253, 252, 152)\", \"(255, 214, 222)\"]):\n",
    "    html = \"\"\n",
    "    html += '<tr><td>{}.</td><td>Q: {}<br>'.format(k, highlight_words(word_lists, colors, new_txt_data[str(k)]['Q']))\n",
    "    for f in new_txt_data[str(k)]['SupportingFacts']:\n",
    "        html += '<br><br>&nbsp;&nbsp;{}'.format(highlight_words(word_lists, colors, f['fact']))\n",
    "        html += '<a href=\"{}\"> link</a>'.format(f['url'])\n",
    "    html += '<br><br>A: {}<br>'.format(highlight_words(word_lists, colors, new_txt_data[str(k)]['A']))\n",
    "    html += '</td><td>'\n",
    "    \n",
    "    for f in new_txt_data[str(k)]['DistractorFacts']:            \n",
    "            html += highlight_words(word_lists, colors, f['fact'])\n",
    "            html += '<a href=\"{}\"> {}</a><br><br>'.format(f['url'], f['title'])\n",
    "    html += '</td></tr>'\n",
    "    html += '<tr><td colspan=3><hr></td></tr>'\n",
    "    return html"
   ]
  },
  {
   "cell_type": "code",
   "execution_count": 86,
   "metadata": {},
   "outputs": [],
   "source": [
    "sampled_indx = random.sample(range(7921), 25)"
   ]
  },
  {
   "cell_type": "code",
   "execution_count": 103,
   "metadata": {},
   "outputs": [],
   "source": [
    "html = \"<html><body>\"\n",
    "html += '<table border=\"0\" style=\"table-layout: fixed; width: 100%; word-break:break-word\">'\n",
    "html += '<tr bgcolor=gray><td width=5%>Index</td><td width=35%>Q & Pos Facts</td><td width=60%>Neg Facts</td></tr>'\n",
    "count = 0\n",
    "for k in sampled_indx:\n",
    "    count += 1\n",
    "    word_lists = sample2keywords(k)[:2]\n",
    "    html += add_html_row_vis_ori_dataset(k, word_lists)\n",
    "    o = open('txt_dataset_vis.html', 'wt')\n",
    "\n",
    "    o.write(html)\n",
    "    o.close()\n",
    "html += '</table></body></html>'\n",
    "o = open('txt_dataset_vis.html', 'wt')\n",
    "\n",
    "o.write(html)\n",
    "o.close()"
   ]
  },
  {
   "cell_type": "code",
   "execution_count": 102,
   "metadata": {},
   "outputs": [
    {
     "data": {
      "text/plain": [
       "'What  <span style=\"background-color:rgb(193, 239, 253)\">kind </span> of  <span style=\"background-color:rgb(193, 239, 253)\">effect </span> are  <span style=\"background-color:rgb(193, 239, 253)\">artificial </span>  <span style=\"background-color:rgb(193, 239, 253)\">harmonics </span> and  <span style=\"background-color:rgb(193, 239, 253)\">vibrato </span> ?'"
      ]
     },
     "execution_count": 102,
     "metadata": {},
     "output_type": "execute_result"
    }
   ],
   "source": [
    "colors = [\"(223, 255, 238)\", \"(193, 239, 253)\", \"(253, 252, 152)\", \"(255, 214, 222)\"]\n",
    "highlight_words(sample2keywords(3816), colors, 'What kind of effect are artificial harmonics and vibrato ?')"
   ]
  },
  {
   "cell_type": "code",
   "execution_count": 88,
   "metadata": {},
   "outputs": [
    {
     "data": {
      "text/plain": [
       "[('PRON', 'What'),\n",
       " ('NOUN', 'kind'),\n",
       " ('ADP', 'of'),\n",
       " ('NOUN', 'effect'),\n",
       " ('AUX', 'are'),\n",
       " ('ADJ', 'artificial'),\n",
       " ('NOUN', 'harmonics'),\n",
       " ('CCONJ', 'and'),\n",
       " ('NOUN', 'vibrato'),\n",
       " ('PUNCT', '?')]"
      ]
     },
     "execution_count": 88,
     "metadata": {},
     "output_type": "execute_result"
    }
   ],
   "source": [
    "[(t.pos_, t.text) for t in nlp('What kind of effect are artificial harmonics and vibrato ?')]"
   ]
  },
  {
   "cell_type": "code",
   "execution_count": 89,
   "metadata": {},
   "outputs": [
    {
     "data": {
      "text/plain": [
       "[{'Csárdás', 'Monti', 'Vibrato'},\n",
       " {'artificial', 'effect', 'harmonics', 'kind', 'vibrato'},\n",
       " {'24',\n",
       "  '5',\n",
       "  'Czardas',\n",
       "  'Italian',\n",
       "  'Meno',\n",
       "  'Monti',\n",
       "  'Vibrato',\n",
       "  'change',\n",
       "  'e',\n",
       "  'expression',\n",
       "  'finger',\n",
       "  'help',\n",
       "  'higher',\n",
       "  'instrumental',\n",
       "  'lento',\n",
       "  'media',\n",
       "  'music',\n",
       "  'musical',\n",
       "  'note',\n",
       "  'octaves',\n",
       "  'participle',\n",
       "  'past',\n",
       "  'pianoforte',\n",
       "  'pitch',\n",
       "  'quasi',\n",
       "  'regular',\n",
       "  'section',\n",
       "  'semitones',\n",
       "  'string',\n",
       "  'two',\n",
       "  'vibrare',\n",
       "  'violin',\n",
       "  'violinist',\n",
       "  'violino',\n",
       "  'vocal'},\n",
       " {'Musical', 'effects'}]"
      ]
     },
     "execution_count": 89,
     "metadata": {},
     "output_type": "execute_result"
    }
   ],
   "source": [
    "sample2keywords(3816)"
   ]
  },
  {
   "cell_type": "code",
   "execution_count": 503,
   "metadata": {},
   "outputs": [
    {
     "name": "stdout",
     "output_type": "stream",
     "text": [
      "1442\n",
      "Were Romario Augusto Vieira Nan and Gustavo Daniel Viera Moreira born during the same or different months of the year?\n",
      "1728\n",
      "Was th 2020 ADAC TCR Germany Touring Car Championship and the the 2019 Kwik Fit British Touring Car Championship held in the same country or different countries?\n",
      "3079\n",
      "Are the Northern Styrian Alps and the Styrian Prealps proposed mountain range subdivisions in the same or different countries?\n",
      "3129\n",
      "Is the Kholmsky District and the Avtozavodsky City District in the same city or different cities?\n",
      "3682\n",
      "Are the characters Roland \"Wee-Bey\" Brice and Felicia \" Snoop \" Pearson part of the same organization on The Wire or are they from different organizations?\n",
      "4042\n",
      "Is Will Guidara's nationality the same country as where he attended culinary school, or is it different?\n",
      "4161\n",
      "Did General Orwell Taylor, Abraxas and Danielle Cage all appear for the first time in the same Marvel comic series or did they all appear in different series for their first time?\n",
      "4293\n",
      "Are the Santa Maria in Montesanto and the Bogdana Monastery from the same or different Christian denominations?\n",
      "4468\n",
      "Were the defending champions for the 2013-2014 Ligue 1 and the 2013-2014 Coupe de la Ligue football confederations the same or different teams?\n",
      "4609\n",
      "Would you find RAF Kings Cliffe, Michael Army Airfield and Roland R. Wright Air National Guard Base on the same continent or different continents?\n",
      "4698\n",
      "Did Field Marshal Douglas Haig and Field Marshal Sir William Slim command the same forces or different forces?\n",
      "5586\n",
      "Are The Ministry of Labour & Employment and The Laborers' International Union of North America from the same or different countries?\n",
      "5788\n",
      "Are the International Day of Peace and the International Day of Happiness celebrated in the same or different months?\n",
      "6327\n",
      "Did the same person direct both the Secrets and Starboy video, or did different people direct them?\n",
      "6881\n",
      "Does the band The Mixtures play the same type of music as DJ Jazzy Jeff & the Fresh Prince, or are they of a different genre?\n",
      "7909\n",
      "Were strongman Trey Mitchell and aircraft designer R. J. Mitchell born in the same country or a different country?\n",
      "Count =  128\n"
     ]
    }
   ],
   "source": [
    "count = 0\n",
    "for k in new_txt_data:\n",
    "    Q = new_txt_data[k]['Q']\n",
    "    if all([b in Q for b in ['same', ' or ', 'different']]):\n",
    "        count += 1\n",
    "        if random.random()<0.1:\n",
    "            print(k)\n",
    "            print(Q)\n",
    "print(\"Count = \", count)"
   ]
  },
  {
   "cell_type": "code",
   "execution_count": null,
   "metadata": {},
   "outputs": [],
   "source": []
  }
 ],
 "metadata": {
  "kernelspec": {
   "display_name": "py37",
   "language": "python",
   "name": "py37"
  },
  "language_info": {
   "codemirror_mode": {
    "name": "ipython",
    "version": 3
   },
   "file_extension": ".py",
   "mimetype": "text/x-python",
   "name": "python",
   "nbconvert_exporter": "python",
   "pygments_lexer": "ipython3",
   "version": "3.7.9"
  }
 },
 "nbformat": 4,
 "nbformat_minor": 4
}
